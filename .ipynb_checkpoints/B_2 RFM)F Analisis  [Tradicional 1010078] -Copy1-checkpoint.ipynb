{
 "cells": [
  {
   "cell_type": "code",
   "execution_count": 1,
   "id": "aa7a547e",
   "metadata": {},
   "outputs": [],
   "source": [
    "#!jt -l\n",
    "# !jt -t oceans16 -T\n",
    "# !jt -r"
   ]
  },
  {
   "cell_type": "markdown",
   "id": "6f92b530",
   "metadata": {},
   "source": [
    "Notas:\n",
    "--------\n",
    "- [x] Estudiar Recency.__\n",
    "    - [x] Histograma Row simple\n",
    "    - [x] Probar esta función\n",
    "    - [x] Implementar"
   ]
  },
  {
   "cell_type": "markdown",
   "id": "7f7aaa87",
   "metadata": {
    "heading_collapsed": true
   },
   "source": [
    "##### Tarea anterior "
   ]
  },
  {
   "cell_type": "markdown",
   "id": "b35683e4",
   "metadata": {
    "hidden": true
   },
   "source": [
    "- [x] __Construir la variable Recency.__\n",
    "    - [x] Sección para caso pequeño\n",
    "    - [x] Función para estadnarizar\n",
    "    - [x] Probar esta función\n",
    "    - [x] Implementar\n",
    "- [x] __Contruir Frecuency__\n",
    "    - [x] Sección para caso pequeño\n",
    "    - [x] Función para estadnarizar\n",
    "    - [x] Probar esta función\n",
    "    - [x] Implementar\n",
    "- [x] __Construir Monetary__\n",
    "    - [x] Sección para caso pequeño\n",
    "    - [x] Función para estadnarizar\n",
    "    - [x] Probar esta función\n",
    "    - [x] Implementar   "
   ]
  },
  {
   "cell_type": "markdown",
   "id": "48cc505f",
   "metadata": {},
   "source": [
    "# Inicio\n"
   ]
  },
  {
   "cell_type": "markdown",
   "id": "7c2a8234",
   "metadata": {},
   "source": [
    "\n",
    "__Rename__\n",
    "Recordar que la columna llamada\n",
    "\n",
    "- `Precio promedio` ahora es `Precio`\n",
    "- `Centro.1` ahora es `Centro`\n",
    "- `Centro` ahora es `Centro_Cod`\n",
    "\n",
    "Presenta los parametros del modelo:\n",
    "\n",
    "- Dirección datos\n",
    "- Dirección Graficos\n",
    "- _Material a analizar_\n",
    "- _Canal a analizar_\n",
    "- _Zona de los Datos_\n",
    "- _Año de inicio de analizis_\n",
    "\n",
    "Base de datos\n",
    "\n",
    "\n",
    "`Tipo_de_Cliente`\n",
    "`Y_producto`\n",
    "`Año_inicio`\n",
    "\n",
    "`file_direct_Graphic` "
   ]
  },
  {
   "cell_type": "markdown",
   "id": "8bad43fc",
   "metadata": {
    "heading_collapsed": true
   },
   "source": [
    "## Parametros \n",
    "data frame `data_i`\n",
    "\n",
    "\n",
    "> - Producto `i_producto = Y_producto`\n",
    "> -Para el Canal `Tipo_de_Cliente`\n",
    "> -Variable a predecir/Grafico `Y_Variable`\n",
    "\n",
    "Columnas de interes para predecir `X_col`\n",
    "\n",
    "Diccionario del grupo de columnas `Dic_col`"
   ]
  },
  {
   "cell_type": "code",
   "execution_count": 2,
   "id": "a0737e98",
   "metadata": {
    "hidden": true
   },
   "outputs": [],
   "source": [
    "#===================================\n",
    "# Archivo\n",
    "#===================================\n",
    "Zona_df='Z001'\n",
    "\n",
    "#===================================\n",
    "# Clientes\n",
    "#===================================\n",
    "Tipo_de_Cliente='Tradicional'\n",
    "\n",
    "#===================================\n",
    "# Producto de interes\n",
    "#===================================\n",
    "Y_producto='1010078'\n",
    "\n",
    "\n",
    "#===================================\n",
    "# Año de Partida\n",
    "#===================================\n",
    "Año_inicio='2018'\n",
    "\n",
    "\n",
    "\n",
    "\n",
    "# Ordenador de escritorio\n",
    "\n",
    "file_direct_O=\"C:/Users/user/Documents/Data/Data Clear/\"+Zona_df+\"/\"\n",
    "file_direct_Clear=\"C:/Users/user/Documents/Data/Data Clear/\"\n",
    "file_direct_Graphic='C:/Users/user/Documents/Graficos'\n",
    "Png_file_direct_Graphic=\"C:\\\\Users\\\\user\\\\Documents\\\\Graficos\"\n",
    "\"\"\"\n",
    "\n",
    "#Notebook\n",
    "file_direct_O=\"C:/Users/rolft/Documents/Repositorios/Data/Data Clear/\"+Zona_df+\"/\"\n",
    "file_direct_Clear=\"C:/Users/rolft/Documents/Repositorios/Data/Data Clear/\"\n",
    "file_direct_Graphic='C:/Users/rolft/Documents/Repositorios/Graficos'\n",
    "Png_file_direct_Graphic='C:\\\\Users\\\\rolft\\\\Documents\\\\Repositorios\\\\Graficos'\n",
    "\"\"\"\n",
    "#Graficos\n",
    "file_direct_Graphic_Canal=file_direct_Graphic+\"/\"+Tipo_de_Cliente\n",
    "file_direct_Graphic_Canal_Material=file_direct_Graphic_Canal+'/'+Y_producto\n",
    "\n",
    "Png_file_direct_Graphic_Canal=Png_file_direct_Graphic+'\\\\'+'Canal '+Tipo_de_Cliente\n",
    "Png_file_direct_Graphic_Canal_Material=Png_file_direct_Graphic_Canal+'\\\\'+Y_producto\n"
   ]
  },
  {
   "cell_type": "markdown",
   "id": "f80e374d",
   "metadata": {},
   "source": [
    "## Intalar paquetes, Abrir data y ajustarla "
   ]
  },
  {
   "cell_type": "markdown",
   "id": "6a7c4706",
   "metadata": {
    "heading_collapsed": true
   },
   "source": [
    "### import"
   ]
  },
  {
   "cell_type": "code",
   "execution_count": 3,
   "id": "faaa036d",
   "metadata": {
    "hidden": true,
    "scrolled": true
   },
   "outputs": [],
   "source": [
    "#from adjustText import adjust_text\n",
    "# from adjustText import *"
   ]
  },
  {
   "cell_type": "code",
   "execution_count": 4,
   "id": "0ea91ad7",
   "metadata": {
    "hidden": true
   },
   "outputs": [],
   "source": [
    "#=====================================================\n",
    "                # BASE \n",
    "#-----------------------------------------------------\n",
    "import pandas as pd\n",
    "import numpy as np\n",
    "import matplotlib.pyplot as plt\n",
    "\n",
    "#from geopandas import *\n",
    "\n",
    "from plotnine import *\n",
    "\n",
    "#para ajustar las fechas\n",
    "import datetime\n",
    "\n",
    "#para calcular el skew de un array() o list()\n",
    "from scipy.stats import skew "
   ]
  },
  {
   "cell_type": "code",
   "execution_count": 5,
   "id": "8916d4cd",
   "metadata": {
    "hidden": true
   },
   "outputs": [],
   "source": [
    "#=====================================================\n",
    "                # sklearn \n",
    "#-----------------------------------------------------\n",
    "\n",
    "#Separador de datos en train/test\n",
    "from sklearn.model_selection import train_test_split\n",
    "\n",
    "#Prediccion Ridge Regression\n",
    "from sklearn.linear_model import Ridge"
   ]
  },
  {
   "cell_type": "code",
   "execution_count": 6,
   "id": "8d82be85",
   "metadata": {
    "hidden": true
   },
   "outputs": [],
   "source": [
    "#=====================================================\n",
    "                # statsmodels \n",
    "#-----------------------------------------------------\n",
    "import statsmodels.api as sm\n",
    "import statsmodels.formula.api as smf\n",
    "from statsmodels.tools.sm_exceptions import ConvergenceWarning\n",
    "\n",
    "\n",
    "#from statsmodels.regression.mixed_linear_model import MixedLMResults\n",
    "# No se para qué sirve este"
   ]
  },
  {
   "cell_type": "code",
   "execution_count": 7,
   "id": "734ff701",
   "metadata": {
    "hidden": true
   },
   "outputs": [],
   "source": [
    "#====================================================\n",
    "#librerias para crear division de series temporales\n",
    "#====================================================\n",
    "\n",
    "from mizani.breaks import date_breaks\n",
    "from mizani.formatters import date_format"
   ]
  },
  {
   "cell_type": "code",
   "execution_count": 8,
   "id": "34160d20",
   "metadata": {
    "hidden": true
   },
   "outputs": [],
   "source": [
    "# stopwatch\n",
    "import time\n",
    "def time_convert(sec):\n",
    "  mins = sec // 60\n",
    "  sec = sec % 60\n",
    "  hours = mins // 60\n",
    "  mins = mins % 60\n",
    "  print(\"Time Lapsed = {0}:{1}:{2}\".format(int(hours),int(mins),sec),'\\n H:m:s')\n",
    "#==================================\n",
    "#          Example\n",
    "#    input(\"Press Enter to start\")\n",
    "start_time = time.time()\n",
    "#    input(\"Press Enter to stop\")\n",
    "#    end_time = time.time()\n",
    "#    time_lapsed = end_time - start_time\n",
    "#    time_convert(time_lapsed)\n",
    "#================================="
   ]
  },
  {
   "cell_type": "code",
   "execution_count": 9,
   "id": "b400675d",
   "metadata": {
    "hidden": true
   },
   "outputs": [],
   "source": [
    "#Histograma con porcentajes\n",
    "from mizani.formatters import percent_format"
   ]
  },
  {
   "cell_type": "markdown",
   "id": "0e0194b5",
   "metadata": {},
   "source": [
    "### Funciones \n",
    "```python\n",
    "#Mes_name\n",
    "data_i.Mes.apply(Mes_name)\n",
    "```\n",
    ">Transforma la columna mes numerica en el nombre del mes"
   ]
  },
  {
   "cell_type": "markdown",
   "id": "76bc8afd",
   "metadata": {},
   "source": [
    "__Forma de crear una etiqueta para un valor especifico__\n",
    "```python\n",
    "#[Y_Graph]\n",
    "dfz=df.copy()\n",
    "dfz['Año select']=dfz.apply( lambda x: x['Año'] if x['Año']==2020 else '',axis=1)\n",
    "dfz\n",
    "```"
   ]
  },
  {
   "cell_type": "code",
   "execution_count": 10,
   "id": "ad8627c9",
   "metadata": {},
   "outputs": [],
   "source": [
    "#===================================\n",
    "# Dicionario MES\n",
    "#===================================\n",
    "\n",
    "#===================================\n",
    "# Fecha\n",
    "D=['Enero','Febrero','Marzo','Abril',\n",
    " 'Mayo','Junio','Julio','Agosto',\n",
    " 'Septiembre','Octubre',\n",
    " 'Noviembre','Diciembre']\n",
    "Month_dic={i:D[i-1]  for i in range(1,13)}\n",
    "#===========================================\n",
    "\n",
    "\n",
    "def Mes_name(x):\n",
    "    D=['Enero','Febrero','Marzo','Abril',\n",
    "    'Mayo','Junio','Julio','Agosto',\n",
    "    'Septiembre','Octubre',\n",
    "    'Noviembre','Diciembre']\n",
    "    return(D[int(x)-1])"
   ]
  },
  {
   "cell_type": "markdown",
   "id": "b646c867",
   "metadata": {},
   "source": [
    "### Dicionario \n",
    "rename aplicado a `Precio promedio`"
   ]
  },
  {
   "cell_type": "code",
   "execution_count": 112,
   "id": "66d853bb",
   "metadata": {},
   "outputs": [],
   "source": [
    "Dic_col={'Base':\n",
    "                             ['Material (Nombre)', 'Kilos Venta KG', 'Precio','Cliente'],\n",
    "        'Fecha':\n",
    "                             ['Día natural','Día Semana','Semana', 'Mes', 'Año'],\n",
    "        'Ubicacion':\n",
    "                             ['Centro','Población'],\n",
    "        'Cliente Categoria':\n",
    "                             ['Cluster','Segmento.1', 'Categoría Cliente'],\n",
    "        'Cliente Atributos':\n",
    "                             ['Año Creación', 'Material Favorito','Frecuencia Historica'] \n",
    "         ,'RFM Row':\n",
    "                 ['Recency días','Frecuency_Row']\n",
    "        ,'RFM Customers':\n",
    "                 ['Recency Actual','Frecuency Actual del Cliente','Monetary Actual']\n",
    "\n",
    "        }"
   ]
  },
  {
   "cell_type": "markdown",
   "id": "38e12a83",
   "metadata": {
    "heading_collapsed": true
   },
   "source": [
    "### Colores "
   ]
  },
  {
   "cell_type": "code",
   "execution_count": 12,
   "id": "dbbf1e78",
   "metadata": {
    "hidden": true
   },
   "outputs": [
    {
     "data": {
      "text/plain": [
       "'57DB5F'"
      ]
     },
     "execution_count": 12,
     "metadata": {},
     "output_type": "execute_result"
    }
   ],
   "source": [
    "('{:X}{:X}{:X}').format(31, 119, 180)\n",
    "('{:X}{:X}{:X}').format(219, 96, 97)\n",
    "('{:X}{:X}{:X}').format(87, 219, 95)"
   ]
  },
  {
   "cell_type": "markdown",
   "id": "f5e71982",
   "metadata": {
    "heading_collapsed": true
   },
   "source": [
    "# Uso de F file\n",
    "\n",
    "- `data_i_F`: Frecuency_Row \n",
    "- `Clientes_i_RFM`: RFM Clientes "
   ]
  },
  {
   "cell_type": "markdown",
   "id": "86c853d2",
   "metadata": {
    "heading_collapsed": true,
    "hidden": true
   },
   "source": [
    "## Abrir Archivo   Facturaciones\n"
   ]
  },
  {
   "cell_type": "markdown",
   "id": "25619431",
   "metadata": {
    "hidden": true
   },
   "source": [
    "Se debe agregar el parametro `,index_col='Unnamed: 0'` de esta froma tal vez se pueda hacer un merge en base al indice"
   ]
  },
  {
   "cell_type": "markdown",
   "id": "4035d415",
   "metadata": {
    "hidden": true
   },
   "source": [
    "##### Data Facturaciones "
   ]
  },
  {
   "cell_type": "markdown",
   "id": "228d2aa3",
   "metadata": {
    "hidden": true
   },
   "source": [
    "###### abrir "
   ]
  },
  {
   "cell_type": "code",
   "execution_count": 13,
   "id": "0f14ea23",
   "metadata": {
    "hidden": true
   },
   "outputs": [
    {
     "data": {
      "text/html": [
       "<div>\n",
       "<style scoped>\n",
       "    .dataframe tbody tr th:only-of-type {\n",
       "        vertical-align: middle;\n",
       "    }\n",
       "\n",
       "    .dataframe tbody tr th {\n",
       "        vertical-align: top;\n",
       "    }\n",
       "\n",
       "    .dataframe thead th {\n",
       "        text-align: right;\n",
       "    }\n",
       "</style>\n",
       "<table border=\"1\" class=\"dataframe\">\n",
       "  <thead>\n",
       "    <tr style=\"text-align: right;\">\n",
       "      <th></th>\n",
       "      <th>Material (Nombre)</th>\n",
       "      <th>Kilos Venta KG</th>\n",
       "      <th>Precio</th>\n",
       "      <th>Día natural</th>\n",
       "      <th>Día Semana</th>\n",
       "      <th>Semana</th>\n",
       "      <th>Mes</th>\n",
       "      <th>Año</th>\n",
       "      <th>Población</th>\n",
       "      <th>Centro</th>\n",
       "      <th>Cliente</th>\n",
       "      <th>Cluster</th>\n",
       "      <th>Segmento.1</th>\n",
       "      <th>Categoría Cliente</th>\n",
       "      <th>Año Creación</th>\n",
       "      <th>Material Favorito</th>\n",
       "      <th>Frecuencia Historica</th>\n",
       "      <th>Mes_num</th>\n",
       "      <th>Frecuency_Row</th>\n",
       "    </tr>\n",
       "  </thead>\n",
       "  <tbody>\n",
       "    <tr>\n",
       "      <th>61455</th>\n",
       "      <td>1010078(Trutro Entero Selección)</td>\n",
       "      <td>22</td>\n",
       "      <td>1300</td>\n",
       "      <td>2020-05-23</td>\n",
       "      <td>Sábado</td>\n",
       "      <td>21</td>\n",
       "      <td>Mayo</td>\n",
       "      <td>2020</td>\n",
       "      <td>La Pintana</td>\n",
       "      <td>Sucursal Lo Espejo</td>\n",
       "      <td>10003742</td>\n",
       "      <td>Clásico</td>\n",
       "      <td>Cobertura Pequeno SD</td>\n",
       "      <td>Especialista en Proc</td>\n",
       "      <td>2007</td>\n",
       "      <td>1010077</td>\n",
       "      <td>19</td>\n",
       "      <td>5</td>\n",
       "      <td>1.0</td>\n",
       "    </tr>\n",
       "  </tbody>\n",
       "</table>\n",
       "</div>"
      ],
      "text/plain": [
       "                      Material (Nombre) Kilos Venta KG Precio Día natural  \\\n",
       "61455  1010078(Trutro Entero Selección)             22   1300  2020-05-23   \n",
       "\n",
       "      Día Semana Semana   Mes   Año   Población              Centro   Cliente  \\\n",
       "61455     Sábado     21  Mayo  2020  La Pintana  Sucursal Lo Espejo  10003742   \n",
       "\n",
       "       Cluster            Segmento.1     Categoría Cliente Año Creación  \\\n",
       "61455  Clásico  Cobertura Pequeno SD  Especialista en Proc         2007   \n",
       "\n",
       "      Material Favorito Frecuencia Historica Mes_num Frecuency_Row  \n",
       "61455           1010077                   19       5           1.0  "
      ]
     },
     "execution_count": 13,
     "metadata": {},
     "output_type": "execute_result"
    }
   ],
   "source": [
    "#======================================================================\n",
    "# Se Cargan los datos de ventas con las caracteristicas de los clientes\n",
    "#=====================================================================\n",
    "\n",
    "file_direct=file_direct_O+'data_1010078_CT F'+'.csv'\n",
    "col_names=pd.read_csv(file_direct,\n",
    "                      encoding=\"utf-8\",sep=\";\",nrows=0).columns\n",
    "\n",
    "types_dict = {col: str for col in list(col_names)}\n",
    "\n",
    "data_i_F = pd.read_csv(file_direct,\n",
    "                   encoding=\"utf-8\",sep=\";\",dtype=types_dict\n",
    "                      ,index_col='Unnamed: 0'\n",
    "                      )\n",
    "\n",
    "# Se debe agregar el parametro ,index_col='Unnamed: 0' \n",
    "# de esta froma tal vez se pueda hacer un merge en base al indice\n",
    "\n",
    "#elimina una columna en especifico\n",
    "#DF_FULL.drop('Año natural', inplace=True, axis=1)\n",
    "data_i_F.head(1)"
   ]
  },
  {
   "cell_type": "markdown",
   "id": "f7c29b30",
   "metadata": {
    "hidden": true
   },
   "source": [
    "##### Funcion"
   ]
  },
  {
   "cell_type": "markdown",
   "id": "cec713b7",
   "metadata": {
    "heading_collapsed": true,
    "hidden": true
   },
   "source": [
    "###### def "
   ]
  },
  {
   "cell_type": "code",
   "execution_count": 14,
   "id": "015ac527",
   "metadata": {
    "hidden": true
   },
   "outputs": [],
   "source": [
    "# =============================================================================\n",
    "# Ajustar la data\n",
    "# =============================================================================\n",
    "def Ajuste_data_Refinada(data):\n",
    "    start_time = time.time()\n",
    "\n",
    "    df=data.copy()\n",
    "\n",
    "# =================================\n",
    "# ELiminare dodos los valores Nan\n",
    "# =================================\n",
    "    #for i in df.columns.to_list():\n",
    "    #    df=df[df[i].notna()]\n",
    "\n",
    "    \n",
    "    \n",
    "#=================================\n",
    "# Proceso Recency a Int \n",
    "#=================================\n",
    "        \n",
    "#     df['Recency días']=df['Recency'].apply( lambda x:  x.split(' ')[0])\n",
    "    \n",
    "#=================================\n",
    "# Proceso iterativo Pasar a numero\n",
    "#=================================\n",
    "\n",
    "    for i in ['Kilos Venta KG'\n",
    "#               ,'Venta Neta'\n",
    "              ,'Precio'\n",
    "#               ,'Recency días'\n",
    "              ,'Frecuency_Row'\n",
    "             ]:\n",
    "        df[i]=df[i].astype('float64').astype('int64')\n",
    "        \n",
    "# #=================================\n",
    "# # Agregar nombre al codigo del producto\n",
    "# #=================================\n",
    "#     def material_name(x):\n",
    "#         s1=str(x['Material'])\n",
    "#         s2=str(x['Nivel 4.1'])\n",
    "#         return(s1+'('+s2+')')\n",
    "#     df['Material (Nombre)']=df.apply(lambda x:  material_name(x), axis=1)\n",
    "    \n",
    "\n",
    "\n",
    "#==========================================================================================\n",
    "# Ajuste de las fechas\n",
    "#-----------------------------------------------------------------------------------------\n",
    "    df[\"Día natural\"] = df[\"Día natural\"].apply(lambda x: \n",
    "                                                datetime.datetime.strptime(str(x),\n",
    "                                                                           '%Y-%m-%d').date())\n",
    "    \n",
    "    #Separacion fecha\n",
    "    \n",
    "    #ELiminado de DF_FULL\n",
    "    #df['Semana']=df[\"Día natural\"].apply(lambda x: x.isocalendar()[1] )\n",
    "    #df['Mes']=df[\"Día natural\"].apply(lambda x: x.month)\n",
    "    #df['Año']=df[\"Día natural\"].apply(lambda x: x.year)\n",
    "    #df['Semana']=df['Semana'].astype('int64')\n",
    "    \n",
    "#     df['Año']=df['Año'].astype('int64')\n",
    "#     D_W=['Lunes','Martes','Miércoles','Jueves', 'Viernes','Sábado','Domingo']\n",
    "#     df['Día Semana']=df[\"Día natural\"].apply(lambda x: D_W[x.isocalendar()[2] -1])\n",
    "#     df=df[df['Día Semana']!='Domingo']\n",
    "    \n",
    "    print(df.dtypes)\n",
    "    end_time = time.time()\n",
    "    time_convert(end_time - start_time)\n",
    "    return df"
   ]
  },
  {
   "cell_type": "markdown",
   "id": "b8c8e6f0",
   "metadata": {
    "heading_collapsed": true,
    "hidden": true
   },
   "source": [
    "###### aplicación "
   ]
  },
  {
   "cell_type": "code",
   "execution_count": 15,
   "id": "705fd67b",
   "metadata": {
    "hidden": true,
    "scrolled": true
   },
   "outputs": [
    {
     "name": "stdout",
     "output_type": "stream",
     "text": [
      "Material (Nombre)       object\n",
      "Kilos Venta KG           int64\n",
      "Precio                   int64\n",
      "Día natural             object\n",
      "Día Semana              object\n",
      "Semana                  object\n",
      "Mes                     object\n",
      "Año                     object\n",
      "Población               object\n",
      "Centro                  object\n",
      "Cliente                 object\n",
      "Cluster                 object\n",
      "Segmento.1              object\n",
      "Categoría Cliente       object\n",
      "Año Creación            object\n",
      "Material Favorito       object\n",
      "Frecuencia Historica    object\n",
      "Mes_num                 object\n",
      "Frecuency_Row            int64\n",
      "dtype: object\n",
      "Time Lapsed = 0:0:1.666863203048706 \n",
      " H:m:s\n"
     ]
    },
    {
     "data": {
      "text/html": [
       "<div>\n",
       "<style scoped>\n",
       "    .dataframe tbody tr th:only-of-type {\n",
       "        vertical-align: middle;\n",
       "    }\n",
       "\n",
       "    .dataframe tbody tr th {\n",
       "        vertical-align: top;\n",
       "    }\n",
       "\n",
       "    .dataframe thead th {\n",
       "        text-align: right;\n",
       "    }\n",
       "</style>\n",
       "<table border=\"1\" class=\"dataframe\">\n",
       "  <thead>\n",
       "    <tr style=\"text-align: right;\">\n",
       "      <th></th>\n",
       "      <th>Material (Nombre)</th>\n",
       "      <th>Kilos Venta KG</th>\n",
       "      <th>Precio</th>\n",
       "      <th>Día natural</th>\n",
       "      <th>Día Semana</th>\n",
       "      <th>Semana</th>\n",
       "      <th>Mes</th>\n",
       "      <th>Año</th>\n",
       "      <th>Población</th>\n",
       "      <th>Centro</th>\n",
       "      <th>Cliente</th>\n",
       "      <th>Cluster</th>\n",
       "      <th>Segmento.1</th>\n",
       "      <th>Categoría Cliente</th>\n",
       "      <th>Año Creación</th>\n",
       "      <th>Material Favorito</th>\n",
       "      <th>Frecuencia Historica</th>\n",
       "      <th>Mes_num</th>\n",
       "      <th>Frecuency_Row</th>\n",
       "    </tr>\n",
       "  </thead>\n",
       "  <tbody>\n",
       "    <tr>\n",
       "      <th>61455</th>\n",
       "      <td>1010078(Trutro Entero Selección)</td>\n",
       "      <td>22</td>\n",
       "      <td>1300</td>\n",
       "      <td>2020-05-23</td>\n",
       "      <td>Sábado</td>\n",
       "      <td>21</td>\n",
       "      <td>Mayo</td>\n",
       "      <td>2020</td>\n",
       "      <td>La Pintana</td>\n",
       "      <td>Sucursal Lo Espejo</td>\n",
       "      <td>10003742</td>\n",
       "      <td>Clásico</td>\n",
       "      <td>Cobertura Pequeno SD</td>\n",
       "      <td>Especialista en Proc</td>\n",
       "      <td>2007</td>\n",
       "      <td>1010077</td>\n",
       "      <td>19</td>\n",
       "      <td>5</td>\n",
       "      <td>1</td>\n",
       "    </tr>\n",
       "    <tr>\n",
       "      <th>61456</th>\n",
       "      <td>1010078(Trutro Entero Selección)</td>\n",
       "      <td>110</td>\n",
       "      <td>1174</td>\n",
       "      <td>2018-03-01</td>\n",
       "      <td>Jueves</td>\n",
       "      <td>9</td>\n",
       "      <td>Marzo</td>\n",
       "      <td>2018</td>\n",
       "      <td>Puente Alto</td>\n",
       "      <td>Sucursal Lo Espejo</td>\n",
       "      <td>10007508</td>\n",
       "      <td>Clásico</td>\n",
       "      <td>Cobertura Mediano SD</td>\n",
       "      <td>Especialista en Crud</td>\n",
       "      <td>2007</td>\n",
       "      <td>1020253</td>\n",
       "      <td>464</td>\n",
       "      <td>3</td>\n",
       "      <td>1</td>\n",
       "    </tr>\n",
       "  </tbody>\n",
       "</table>\n",
       "</div>"
      ],
      "text/plain": [
       "                      Material (Nombre)  Kilos Venta KG  Precio Día natural  \\\n",
       "61455  1010078(Trutro Entero Selección)              22    1300  2020-05-23   \n",
       "61456  1010078(Trutro Entero Selección)             110    1174  2018-03-01   \n",
       "\n",
       "      Día Semana Semana    Mes   Año    Población              Centro  \\\n",
       "61455     Sábado     21   Mayo  2020   La Pintana  Sucursal Lo Espejo   \n",
       "61456     Jueves      9  Marzo  2018  Puente Alto  Sucursal Lo Espejo   \n",
       "\n",
       "        Cliente  Cluster            Segmento.1     Categoría Cliente  \\\n",
       "61455  10003742  Clásico  Cobertura Pequeno SD  Especialista en Proc   \n",
       "61456  10007508  Clásico  Cobertura Mediano SD  Especialista en Crud   \n",
       "\n",
       "      Año Creación Material Favorito Frecuencia Historica Mes_num  \\\n",
       "61455         2007           1010077                   19       5   \n",
       "61456         2007           1020253                  464       3   \n",
       "\n",
       "       Frecuency_Row  \n",
       "61455              1  \n",
       "61456              1  "
      ]
     },
     "execution_count": 15,
     "metadata": {},
     "output_type": "execute_result"
    }
   ],
   "source": [
    "data_i_F=Ajuste_data_Refinada(data_i_F)\n",
    "data_i_F.head(2)"
   ]
  },
  {
   "cell_type": "markdown",
   "id": "cc991dac",
   "metadata": {
    "heading_collapsed": true,
    "hidden": true
   },
   "source": [
    "### Exploración F"
   ]
  },
  {
   "cell_type": "markdown",
   "id": "a31f2e96",
   "metadata": {
    "hidden": true
   },
   "source": [
    "##### histograma "
   ]
  },
  {
   "cell_type": "code",
   "execution_count": 16,
   "id": "d6d68b54",
   "metadata": {
    "hidden": true,
    "scrolled": true
   },
   "outputs": [
    {
     "data": {
      "text/plain": [
       "(198596, 19)"
      ]
     },
     "execution_count": 16,
     "metadata": {},
     "output_type": "execute_result"
    }
   ],
   "source": [
    "data_i_F.shape"
   ]
  },
  {
   "cell_type": "code",
   "execution_count": 17,
   "id": "16e222f3",
   "metadata": {
    "hidden": true
   },
   "outputs": [
    {
     "data": {
      "text/plain": [
       "Index(['Material (Nombre)', 'Kilos Venta KG', 'Precio', 'Día natural',\n",
       "       'Día Semana', 'Semana', 'Mes', 'Año', 'Población', 'Centro', 'Cliente',\n",
       "       'Cluster', 'Segmento.1', 'Categoría Cliente', 'Año Creación',\n",
       "       'Material Favorito', 'Frecuencia Historica', 'Mes_num',\n",
       "       'Frecuency_Row'],\n",
       "      dtype='object')"
      ]
     },
     "execution_count": 17,
     "metadata": {},
     "output_type": "execute_result"
    }
   ],
   "source": [
    "data_i_F.columns"
   ]
  },
  {
   "cell_type": "code",
   "execution_count": 18,
   "id": "7ebdcb68",
   "metadata": {
    "hidden": true
   },
   "outputs": [
    {
     "data": {
      "text/plain": [
       "<AxesSubplot:>"
      ]
     },
     "execution_count": 18,
     "metadata": {},
     "output_type": "execute_result"
    },
    {
     "data": {
      "image/png": "[encoded data removed]",
      "text/plain": [
       "<Figure size 432x288 with 1 Axes>"
      ]
     },
     "metadata": {
      "needs_background": "light"
     },
     "output_type": "display_data"
    }
   ],
   "source": [
    "data_i_F[data_i_F.columns[18]].hist()"
   ]
  },
  {
   "cell_type": "code",
   "execution_count": 19,
   "id": "51d0751e",
   "metadata": {
    "hidden": true,
    "scrolled": true
   },
   "outputs": [
    {
     "data": {
      "text/plain": [
       "count    198596.000000\n",
       "mean          0.026415\n",
       "std           0.161401\n",
       "min           0.000000\n",
       "25%           0.000000\n",
       "50%           0.000000\n",
       "75%           0.000000\n",
       "max           2.000000\n",
       "Name: Frecuency_Row, dtype: float64"
      ]
     },
     "execution_count": 19,
     "metadata": {},
     "output_type": "execute_result"
    }
   ],
   "source": [
    "data_i_F\\\n",
    "[data_i_F.columns[18]].describe()"
   ]
  },
  {
   "cell_type": "code",
   "execution_count": 20,
   "id": "fb4e0205",
   "metadata": {
    "hidden": true
   },
   "outputs": [
    {
     "data": {
      "text/plain": [
       "count    63389.000000\n",
       "mean         0.008645\n",
       "std          0.093086\n",
       "min          0.000000\n",
       "25%          0.000000\n",
       "50%          0.000000\n",
       "75%          0.000000\n",
       "max          2.000000\n",
       "Name: Frecuency_Row, dtype: float64"
      ]
     },
     "execution_count": 20,
     "metadata": {},
     "output_type": "execute_result"
    }
   ],
   "source": [
    "data_i_F[(data_i_F.Año=='2021')]\\\n",
    "[data_i_F.columns[18]].describe()"
   ]
  },
  {
   "cell_type": "code",
   "execution_count": 21,
   "id": "fbc1e88b",
   "metadata": {
    "hidden": true
   },
   "outputs": [
    {
     "data": {
      "text/html": [
       "<div>\n",
       "<style scoped>\n",
       "    .dataframe tbody tr th:only-of-type {\n",
       "        vertical-align: middle;\n",
       "    }\n",
       "\n",
       "    .dataframe tbody tr th {\n",
       "        vertical-align: top;\n",
       "    }\n",
       "\n",
       "    .dataframe thead th {\n",
       "        text-align: right;\n",
       "    }\n",
       "</style>\n",
       "<table border=\"1\" class=\"dataframe\">\n",
       "  <thead>\n",
       "    <tr style=\"text-align: right;\">\n",
       "      <th></th>\n",
       "      <th>Material (Nombre)</th>\n",
       "      <th>Kilos Venta KG</th>\n",
       "      <th>Precio</th>\n",
       "      <th>Día natural</th>\n",
       "      <th>Día Semana</th>\n",
       "      <th>Semana</th>\n",
       "      <th>Mes</th>\n",
       "      <th>Año</th>\n",
       "      <th>Población</th>\n",
       "      <th>Centro</th>\n",
       "      <th>Cliente</th>\n",
       "      <th>Cluster</th>\n",
       "      <th>Segmento.1</th>\n",
       "      <th>Categoría Cliente</th>\n",
       "      <th>Año Creación</th>\n",
       "      <th>Material Favorito</th>\n",
       "      <th>Frecuencia Historica</th>\n",
       "      <th>Mes_num</th>\n",
       "      <th>Frecuency_Row</th>\n",
       "    </tr>\n",
       "  </thead>\n",
       "  <tbody>\n",
       "  </tbody>\n",
       "</table>\n",
       "</div>"
      ],
      "text/plain": [
       "Empty DataFrame\n",
       "Columns: [Material (Nombre), Kilos Venta KG, Precio, Día natural, Día Semana, Semana, Mes, Año, Población, Centro, Cliente, Cluster, Segmento.1, Categoría Cliente, Año Creación, Material Favorito, Frecuencia Historica, Mes_num, Frecuency_Row]\n",
       "Index: []"
      ]
     },
     "execution_count": 21,
     "metadata": {},
     "output_type": "execute_result"
    }
   ],
   "source": [
    "data_i_F[(\n",
    "    data_i_F[data_i_F.columns[18]]\n",
    "    >=1312)\n",
    "]"
   ]
  },
  {
   "cell_type": "code",
   "execution_count": 22,
   "id": "d4ca73fc",
   "metadata": {
    "hidden": true,
    "scrolled": false
   },
   "outputs": [
    {
     "data": {
      "image/png": "[encoded data removed]",
      "text/plain": [
       "<Figure size 640x480 with 1 Axes>"
      ]
     },
     "metadata": {},
     "output_type": "display_data"
    },
    {
     "data": {
      "text/plain": [
       "<ggplot: (140263613889)>"
      ]
     },
     "execution_count": 22,
     "metadata": {},
     "output_type": "execute_result"
    }
   ],
   "source": [
    "ggplot(data_i_F,aes(x='Año'\n",
    "                    ,y='Frecuency_Row'))\\\n",
    "+geom_boxplot()\n",
    "# (mapping=None, data=data_i_F, stat='bin', position='stack',\n",
    "#                na_rm=False, inherit_aes=True, show_legend=None, raster=False)\n",
    "#                **kwargs)"
   ]
  },
  {
   "cell_type": "code",
   "execution_count": 23,
   "id": "5fc90f36",
   "metadata": {
    "hidden": true
   },
   "outputs": [
    {
     "data": {
      "image/png": "[encoded data removed]",
      "text/plain": [
       "<Figure size 640x480 with 1 Axes>"
      ]
     },
     "metadata": {},
     "output_type": "display_data"
    },
    {
     "data": {
      "text/plain": [
       "<ggplot: (140264043620)>"
      ]
     },
     "execution_count": 23,
     "metadata": {},
     "output_type": "execute_result"
    }
   ],
   "source": [
    "ggplot(data_i_F,aes(x='Frecuency_Row'))\\\n",
    "+geom_histogram(bins=100)\n",
    "# (mapping=None, data=data_i_F, stat='bin', position='stack',\n",
    "#                na_rm=False, inherit_aes=True, show_legend=None, raster=False)\n",
    "#                **kwargs)"
   ]
  },
  {
   "cell_type": "markdown",
   "id": "afa4c496",
   "metadata": {
    "heading_collapsed": true,
    "hidden": true
   },
   "source": [
    "##### Disperción "
   ]
  },
  {
   "cell_type": "code",
   "execution_count": 24,
   "id": "44b2d460",
   "metadata": {
    "hidden": true
   },
   "outputs": [
    {
     "data": {
      "image/png": "[encoded data removed]",
      "text/plain": [
       "<Figure size 1300x800 with 1 Axes>"
      ]
     },
     "metadata": {},
     "output_type": "display_data"
    },
    {
     "data": {
      "text/plain": [
       "<ggplot: (140263583353)>"
      ]
     },
     "execution_count": 24,
     "metadata": {},
     "output_type": "execute_result"
    }
   ],
   "source": [
    "df=data_i_F.copy()\n",
    "X_Graph='Frecuency_Row'\n",
    "Y_Graph='Precio'\n",
    "df[X_Graph]=df[X_Graph].astype('int64')\n",
    "# df_mean[X_Graph]=df_mean[X_Graph].astype('int64')\n",
    "\n",
    "(ggplot(df#[df[Y_Graph]>0]\n",
    "            , aes(x=X_Graph#'Día numero'#'Fecha',\n",
    "            ,y=Y_Graph\n",
    "            ,color='Año'\n",
    "                 ))\n",
    "+geom_point(alpha=0.5)\n",
    "+theme(axis_text_x = element_text(angle=90, hjust=1),figure_size=(13,8)) \n",
    "\n",
    ")      "
   ]
  },
  {
   "cell_type": "code",
   "execution_count": 25,
   "id": "50166eee",
   "metadata": {
    "hidden": true,
    "scrolled": false
   },
   "outputs": [
    {
     "data": {
      "image/png": "[encoded data removed]",
      "text/plain": [
       "<Figure size 1300x800 with 4 Axes>"
      ]
     },
     "metadata": {},
     "output_type": "display_data"
    },
    {
     "data": {
      "text/plain": [
       "<ggplot: (140279013301)>"
      ]
     },
     "execution_count": 25,
     "metadata": {},
     "output_type": "execute_result"
    }
   ],
   "source": [
    "df=data_i_F.copy()\n",
    "X_Graph='Frecuency_Row'\n",
    "Y_Graph='Precio'\n",
    "df[X_Graph]=df[X_Graph].astype('int64')\n",
    "# df[X_Graph]=df[X_Graph].apply(lambda x:  np.log(x))\n",
    "# df[Y_Graph]=df[Y_Graph].apply(lambda x:  np.log(x))\n",
    "\n",
    "\n",
    "# df_mean[X_Graph]=df_mean[X_Graph].astype('int64')\n",
    "\n",
    "(ggplot(df#[df[Y_Graph]>0]\n",
    "            , aes(x=X_Graph#'Día numero'#'Fecha',\n",
    "            ,y=Y_Graph\n",
    "            ,color='Año'\n",
    "                 ))\n",
    "+geom_point(alpha=0.5)\n",
    "+facet_grid('Año~.')\n",
    "+theme(axis_text_x = element_text(angle=90, hjust=1),figure_size=(13,8)) \n",
    "\n",
    ")      "
   ]
  },
  {
   "cell_type": "code",
   "execution_count": 26,
   "id": "eb59d0b7",
   "metadata": {
    "hidden": true,
    "scrolled": false
   },
   "outputs": [
    {
     "data": {
      "image/png": "[encoded data removed]",
      "text/plain": [
       "<Figure size 800x1300 with 4 Axes>"
      ]
     },
     "metadata": {},
     "output_type": "display_data"
    },
    {
     "data": {
      "text/plain": [
       "<ggplot: (140280883905)>"
      ]
     },
     "execution_count": 26,
     "metadata": {},
     "output_type": "execute_result"
    }
   ],
   "source": [
    "df=data_i_F.copy()\n",
    "X_Graph='Frecuency_Row'\n",
    "#'Kilos Venta KG'\n",
    "Y_Graph='Precio'\n",
    "Color_Graph='Año'\n",
    "\n",
    "\n",
    "#int\n",
    "df[X_Graph]=df[X_Graph].astype('int64')\n",
    "\n",
    "df[X_Graph]=df[X_Graph].apply(lambda x:  np.log(x))\n",
    "df[Y_Graph]=df[Y_Graph].apply(lambda x:  np.log(x))\n",
    "df[Y_Graph]=df[Y_Graph].apply(lambda x:  np.log(x))\n",
    "\n",
    "\n",
    "# df_mean[X_Graph]=df_mean[X_Graph].astype('int64')\n",
    "\n",
    "(ggplot(df#[df[Y_Graph]>0]\n",
    "            , aes(x=X_Graph#'Día numero'#'Fecha',\n",
    "            ,y=Y_Graph\n",
    "            ,color=Color_Graph\n",
    "                 ))\n",
    "+geom_point(alpha=0.5)\n",
    "+facet_grid('Año~.')\n",
    "+theme(axis_text_x = element_text(angle=90, hjust=1),figure_size=(8,13)) \n",
    "\n",
    ")      "
   ]
  },
  {
   "cell_type": "code",
   "execution_count": 27,
   "id": "cdbe0398",
   "metadata": {
    "hidden": true
   },
   "outputs": [
    {
     "data": {
      "text/plain": [
       "['Material (Nombre)', 'Kilos Venta KG', 'Precio', 'Cliente']"
      ]
     },
     "execution_count": 27,
     "metadata": {},
     "output_type": "execute_result"
    }
   ],
   "source": [
    "Dic_col['Base']"
   ]
  },
  {
   "cell_type": "code",
   "execution_count": 28,
   "id": "2bcf7ea5",
   "metadata": {
    "hidden": true
   },
   "outputs": [
    {
     "data": {
      "image/png": "[encoded data removed]",
      "text/plain": [
       "<Figure size 800x800 with 4 Axes>"
      ]
     },
     "metadata": {},
     "output_type": "display_data"
    },
    {
     "data": {
      "text/plain": [
       "<ggplot: (140292075903)>"
      ]
     },
     "execution_count": 28,
     "metadata": {},
     "output_type": "execute_result"
    }
   ],
   "source": [
    "df=data_i_F.copy()\n",
    "X_Graph='Kilos Venta KG'\n",
    "Y_Graph='Precio'\n",
    "Color_Graph='Frecuency_Row'\n",
    "\n",
    "\n",
    "#int\n",
    "df[X_Graph]=df[X_Graph].astype('int64')\n",
    "\n",
    "df[X_Graph]=df[X_Graph].apply(lambda x:  np.log(x))\n",
    "df[Y_Graph]=df[Y_Graph].apply(lambda x:  np.log(x))\n",
    "df[Color_Graph]=df[Color_Graph].apply(lambda x:  np.log(x))\n",
    "\n",
    "\n",
    "# df_mean[X_Graph]=df_mean[X_Graph].astype('int64')\n",
    "\n",
    "(ggplot(df#[df[Y_Graph]>0]\n",
    "            , aes(x=X_Graph#'Día numero'#'Fecha',\n",
    "            ,y=Y_Graph\n",
    "            ,color=Color_Graph\n",
    "                 ))\n",
    "+geom_point(alpha=0.5)\n",
    "+facet_grid('.~Año')\n",
    "+theme(axis_text_x = element_text(angle=90, hjust=1),figure_size=(8,8)) \n",
    "\n",
    ")      "
   ]
  },
  {
   "cell_type": "markdown",
   "id": "8acfd62c",
   "metadata": {
    "heading_collapsed": true,
    "hidden": true
   },
   "source": [
    "###### Descripción por cliente "
   ]
  },
  {
   "cell_type": "code",
   "execution_count": 29,
   "id": "643bf493",
   "metadata": {
    "hidden": true,
    "scrolled": false
   },
   "outputs": [
    {
     "data": {
      "text/html": [
       "<div>\n",
       "<style scoped>\n",
       "    .dataframe tbody tr th:only-of-type {\n",
       "        vertical-align: middle;\n",
       "    }\n",
       "\n",
       "    .dataframe tbody tr th {\n",
       "        vertical-align: top;\n",
       "    }\n",
       "\n",
       "    .dataframe thead tr th {\n",
       "        text-align: left;\n",
       "    }\n",
       "\n",
       "    .dataframe thead tr:last-of-type th {\n",
       "        text-align: right;\n",
       "    }\n",
       "</style>\n",
       "<table border=\"1\" class=\"dataframe\">\n",
       "  <thead>\n",
       "    <tr>\n",
       "      <th></th>\n",
       "      <th colspan=\"8\" halign=\"left\">Frecuency_Row</th>\n",
       "    </tr>\n",
       "    <tr>\n",
       "      <th></th>\n",
       "      <th>count</th>\n",
       "      <th>mean</th>\n",
       "      <th>std</th>\n",
       "      <th>min</th>\n",
       "      <th>25%</th>\n",
       "      <th>50%</th>\n",
       "      <th>75%</th>\n",
       "      <th>max</th>\n",
       "    </tr>\n",
       "    <tr>\n",
       "      <th>Cliente</th>\n",
       "      <th></th>\n",
       "      <th></th>\n",
       "      <th></th>\n",
       "      <th></th>\n",
       "      <th></th>\n",
       "      <th></th>\n",
       "      <th></th>\n",
       "      <th></th>\n",
       "    </tr>\n",
       "  </thead>\n",
       "  <tbody>\n",
       "    <tr>\n",
       "      <th>10003742</th>\n",
       "      <td>1.0</td>\n",
       "      <td>1.000000</td>\n",
       "      <td>NaN</td>\n",
       "      <td>1.0</td>\n",
       "      <td>1.0</td>\n",
       "      <td>1.0</td>\n",
       "      <td>1.0</td>\n",
       "      <td>1.0</td>\n",
       "    </tr>\n",
       "    <tr>\n",
       "      <th>10007508</th>\n",
       "      <td>208.0</td>\n",
       "      <td>0.004808</td>\n",
       "      <td>0.069338</td>\n",
       "      <td>0.0</td>\n",
       "      <td>0.0</td>\n",
       "      <td>0.0</td>\n",
       "      <td>0.0</td>\n",
       "      <td>1.0</td>\n",
       "    </tr>\n",
       "    <tr>\n",
       "      <th>10017269</th>\n",
       "      <td>78.0</td>\n",
       "      <td>0.012821</td>\n",
       "      <td>0.113228</td>\n",
       "      <td>0.0</td>\n",
       "      <td>0.0</td>\n",
       "      <td>0.0</td>\n",
       "      <td>0.0</td>\n",
       "      <td>1.0</td>\n",
       "    </tr>\n",
       "    <tr>\n",
       "      <th>10023880</th>\n",
       "      <td>20.0</td>\n",
       "      <td>0.050000</td>\n",
       "      <td>0.223607</td>\n",
       "      <td>0.0</td>\n",
       "      <td>0.0</td>\n",
       "      <td>0.0</td>\n",
       "      <td>0.0</td>\n",
       "      <td>1.0</td>\n",
       "    </tr>\n",
       "    <tr>\n",
       "      <th>10028999</th>\n",
       "      <td>13.0</td>\n",
       "      <td>0.076923</td>\n",
       "      <td>0.277350</td>\n",
       "      <td>0.0</td>\n",
       "      <td>0.0</td>\n",
       "      <td>0.0</td>\n",
       "      <td>0.0</td>\n",
       "      <td>1.0</td>\n",
       "    </tr>\n",
       "    <tr>\n",
       "      <th>...</th>\n",
       "      <td>...</td>\n",
       "      <td>...</td>\n",
       "      <td>...</td>\n",
       "      <td>...</td>\n",
       "      <td>...</td>\n",
       "      <td>...</td>\n",
       "      <td>...</td>\n",
       "      <td>...</td>\n",
       "    </tr>\n",
       "    <tr>\n",
       "      <th>9992154</th>\n",
       "      <td>70.0</td>\n",
       "      <td>0.014286</td>\n",
       "      <td>0.119523</td>\n",
       "      <td>0.0</td>\n",
       "      <td>0.0</td>\n",
       "      <td>0.0</td>\n",
       "      <td>0.0</td>\n",
       "      <td>1.0</td>\n",
       "    </tr>\n",
       "    <tr>\n",
       "      <th>9993925</th>\n",
       "      <td>543.0</td>\n",
       "      <td>0.007366</td>\n",
       "      <td>0.104956</td>\n",
       "      <td>0.0</td>\n",
       "      <td>0.0</td>\n",
       "      <td>0.0</td>\n",
       "      <td>0.0</td>\n",
       "      <td>2.0</td>\n",
       "    </tr>\n",
       "    <tr>\n",
       "      <th>9994662</th>\n",
       "      <td>11.0</td>\n",
       "      <td>0.090909</td>\n",
       "      <td>0.301511</td>\n",
       "      <td>0.0</td>\n",
       "      <td>0.0</td>\n",
       "      <td>0.0</td>\n",
       "      <td>0.0</td>\n",
       "      <td>1.0</td>\n",
       "    </tr>\n",
       "    <tr>\n",
       "      <th>9994800</th>\n",
       "      <td>3.0</td>\n",
       "      <td>0.333333</td>\n",
       "      <td>0.577350</td>\n",
       "      <td>0.0</td>\n",
       "      <td>0.0</td>\n",
       "      <td>0.0</td>\n",
       "      <td>0.5</td>\n",
       "      <td>1.0</td>\n",
       "    </tr>\n",
       "    <tr>\n",
       "      <th>9997223</th>\n",
       "      <td>1.0</td>\n",
       "      <td>1.000000</td>\n",
       "      <td>NaN</td>\n",
       "      <td>1.0</td>\n",
       "      <td>1.0</td>\n",
       "      <td>1.0</td>\n",
       "      <td>1.0</td>\n",
       "      <td>1.0</td>\n",
       "    </tr>\n",
       "  </tbody>\n",
       "</table>\n",
       "<p>5073 rows × 8 columns</p>\n",
       "</div>"
      ],
      "text/plain": [
       "         Frecuency_Row                                             \n",
       "                 count      mean       std  min  25%  50%  75%  max\n",
       "Cliente                                                            \n",
       "10003742           1.0  1.000000       NaN  1.0  1.0  1.0  1.0  1.0\n",
       "10007508         208.0  0.004808  0.069338  0.0  0.0  0.0  0.0  1.0\n",
       "10017269          78.0  0.012821  0.113228  0.0  0.0  0.0  0.0  1.0\n",
       "10023880          20.0  0.050000  0.223607  0.0  0.0  0.0  0.0  1.0\n",
       "10028999          13.0  0.076923  0.277350  0.0  0.0  0.0  0.0  1.0\n",
       "...                ...       ...       ...  ...  ...  ...  ...  ...\n",
       "9992154           70.0  0.014286  0.119523  0.0  0.0  0.0  0.0  1.0\n",
       "9993925          543.0  0.007366  0.104956  0.0  0.0  0.0  0.0  2.0\n",
       "9994662           11.0  0.090909  0.301511  0.0  0.0  0.0  0.0  1.0\n",
       "9994800            3.0  0.333333  0.577350  0.0  0.0  0.0  0.5  1.0\n",
       "9997223            1.0  1.000000       NaN  1.0  1.0  1.0  1.0  1.0\n",
       "\n",
       "[5073 rows x 8 columns]"
      ]
     },
     "execution_count": 29,
     "metadata": {},
     "output_type": "execute_result"
    }
   ],
   "source": [
    "df_G=data_i_F[['Cliente','Frecuency_Row']].groupby('Cliente').describe()\n",
    "df_G"
   ]
  },
  {
   "cell_type": "markdown",
   "id": "3a09e389",
   "metadata": {
    "heading_collapsed": true,
    "hidden": true
   },
   "source": [
    "## Data Customers\n",
    " "
   ]
  },
  {
   "cell_type": "markdown",
   "id": "c68c272b",
   "metadata": {
    "heading_collapsed": true,
    "hidden": true
   },
   "source": [
    "###### abrir "
   ]
  },
  {
   "cell_type": "code",
   "execution_count": 30,
   "id": "4db35460",
   "metadata": {
    "hidden": true,
    "scrolled": true
   },
   "outputs": [
    {
     "data": {
      "text/html": [
       "<div>\n",
       "<style scoped>\n",
       "    .dataframe tbody tr th:only-of-type {\n",
       "        vertical-align: middle;\n",
       "    }\n",
       "\n",
       "    .dataframe tbody tr th {\n",
       "        vertical-align: top;\n",
       "    }\n",
       "\n",
       "    .dataframe thead th {\n",
       "        text-align: right;\n",
       "    }\n",
       "</style>\n",
       "<table border=\"1\" class=\"dataframe\">\n",
       "  <thead>\n",
       "    <tr style=\"text-align: right;\">\n",
       "      <th></th>\n",
       "      <th>Cliente</th>\n",
       "      <th>Fecha ultima Compra</th>\n",
       "      <th>Recency Actual</th>\n",
       "      <th>Fecha Creacion</th>\n",
       "      <th>Frecuency Actual del Cliente</th>\n",
       "      <th>Kilos Venta KG Promedio</th>\n",
       "      <th>Precio Promedio</th>\n",
       "      <th>Año Creación Promedio</th>\n",
       "      <th>Frecuencia Historica Promedio</th>\n",
       "      <th>Ingreso de Venta Promedio</th>\n",
       "    </tr>\n",
       "  </thead>\n",
       "  <tbody>\n",
       "    <tr>\n",
       "      <th>0</th>\n",
       "      <td>10003742</td>\n",
       "      <td>2020-05-23</td>\n",
       "      <td>521</td>\n",
       "      <td>2020-05-23</td>\n",
       "      <td>0.0033444816053511705</td>\n",
       "      <td>22.0</td>\n",
       "      <td>1300.0</td>\n",
       "      <td>2007.0</td>\n",
       "      <td>19.0</td>\n",
       "      <td>28600.0</td>\n",
       "    </tr>\n",
       "  </tbody>\n",
       "</table>\n",
       "</div>"
      ],
      "text/plain": [
       "    Cliente Fecha ultima Compra Recency Actual Fecha Creacion  \\\n",
       "0  10003742          2020-05-23            521     2020-05-23   \n",
       "\n",
       "  Frecuency Actual del Cliente Kilos Venta KG Promedio Precio Promedio  \\\n",
       "0        0.0033444816053511705                    22.0          1300.0   \n",
       "\n",
       "  Año Creación Promedio Frecuencia Historica Promedio  \\\n",
       "0                2007.0                          19.0   \n",
       "\n",
       "  Ingreso de Venta Promedio  \n",
       "0                   28600.0  "
      ]
     },
     "execution_count": 30,
     "metadata": {},
     "output_type": "execute_result"
    }
   ],
   "source": [
    "#======================================================================\n",
    "# Se Cargan los datos de ventas con las caracteristicas de los clientes\n",
    "#=====================================================================\n",
    "\n",
    "file_direct=file_direct_O+'Clientes_1010078_CT RFM'+'.csv'\n",
    "col_names=pd.read_csv(file_direct,\n",
    "                      encoding=\"utf-8\",sep=\";\",nrows=0).columns\n",
    "\n",
    "types_dict = {col: str for col in list(col_names)}\n",
    "\n",
    "Clientes_i_RFM= pd.read_csv(file_direct,\n",
    "                   encoding=\"utf-8\",sep=\";\",dtype=types_dict\n",
    "                      ,index_col='Unnamed: 0'\n",
    "                      )\n",
    "\n",
    "# Se debe agregar el parametro ,index_col='Unnamed: 0' \n",
    "# de esta froma tal vez se pueda hacer un merge en base al indice\n",
    "\n",
    "#elimina una columna en especifico\n",
    "#DF_FULL.drop('Año natural', inplace=True, axis=1)\n",
    "Clientes_i_RFM.head(1)"
   ]
  },
  {
   "cell_type": "code",
   "execution_count": 33,
   "id": "2df8c304",
   "metadata": {
    "hidden": true
   },
   "outputs": [
    {
     "data": {
      "text/plain": [
       "Cliente                                    10007508\n",
       "Fecha ultima Compra                      2021-10-26\n",
       "Recency Actual                                    0\n",
       "Fecha Creacion                           2018-03-01\n",
       "Frecuency Actual del Cliente     0.2017524296094161\n",
       "Kilos Venta KG Promedio           93.15865384615384\n",
       "Precio Promedio                  1266.8942307692307\n",
       "Año Creación Promedio                        2007.0\n",
       "Frecuencia Historica Promedio                 464.0\n",
       "Ingreso de Venta Promedio        117683.47115384616\n",
       "Name: 1, dtype: object"
      ]
     },
     "execution_count": 33,
     "metadata": {},
     "output_type": "execute_result"
    }
   ],
   "source": [
    "Clientes_i_RFM.iloc[1]"
   ]
  },
  {
   "cell_type": "markdown",
   "id": "7f044357",
   "metadata": {
    "heading_collapsed": true,
    "hidden": true
   },
   "source": [
    "### Función Ajuste "
   ]
  },
  {
   "cell_type": "markdown",
   "id": "8f4c851c",
   "metadata": {
    "heading_collapsed": true,
    "hidden": true
   },
   "source": [
    "###### def  `Ajuste_Clientes_RFM`"
   ]
  },
  {
   "cell_type": "code",
   "execution_count": 35,
   "id": "17208ed5",
   "metadata": {
    "hidden": true
   },
   "outputs": [],
   "source": [
    "# =============================================================================\n",
    "# Ajustar la data\n",
    "# =============================================================================\n",
    "def Ajuste_Clientes_RFM(data):\n",
    "    start_time = time.time()\n",
    "    df=data.copy()\n",
    "\n",
    "#=================================\n",
    "# Proceso iterativo Pasar a numero\n",
    "#=================================\n",
    "\n",
    "    for i in [\n",
    "            #RFM\n",
    "            'Recency Actual'\n",
    "            ,'Frecuency Actual del Cliente'\n",
    "            ,'Ingreso de Venta Promedio'\n",
    "              \n",
    "            #Val Fact\n",
    "            ,'Kilos Venta KG Promedio'\n",
    "            ,'Precio Promedio'\n",
    "            \n",
    "            # Val historicos (ind del producto)\n",
    "            ,'Año Creación Promedio'\n",
    "            ,'Frecuencia Historica Promedio'\n",
    "             ]:\n",
    "        df[i]=df[i].astype('float64')\n",
    "        #.astype('int64')\n",
    "        \n",
    "    for i in [\n",
    "                #RFM\n",
    "                'Recency Actual'\n",
    "#                 ,'Frecuency Actual del Cliente'\n",
    "#                 ,'Ingreso de Venta Promedio'\n",
    "\n",
    "                #Val Fact\n",
    "#                 ,'Kilos Venta KG Promedio'\n",
    "#                 ,'Precio Promedio'\n",
    "\n",
    "                # Val historicos (ind del producto)\n",
    "                ,'Año Creación Promedio'\n",
    "                ,'Frecuencia Historica Promedio'\n",
    "                ]:\n",
    "        df[i]=df[i].astype('int64')\n",
    "        \n",
    "\n",
    "\n",
    "#==========================================================================================\n",
    "# Ajuste de las fechas\n",
    "#-----------------------------------------------------------------------------------------\n",
    "    for date in ['Fecha ultima Compra','Fecha Creacion']:\n",
    "        df[date] = df[date].apply(lambda x: \n",
    "                                            datetime.datetime.strptime(str(x),\n",
    "                                                                           '%Y-%m-%d').date())\n",
    "    \n",
    "    #Separacion fecha\n",
    "    \n",
    "    #ELiminado de DF_FULL\n",
    "    #df['Semana']=df[\"Día natural\"].apply(lambda x: x.isocalendar()[1] )\n",
    "    #df['Mes']=df[\"Día natural\"].apply(lambda x: x.month)\n",
    "    #df['Año']=df[\"Día natural\"].apply(lambda x: x.year)\n",
    "    #df['Semana']=df['Semana'].astype('int64')\n",
    "    \n",
    "#     df['Año']=df['Año'].astype('int64')\n",
    "#     D_W=['Lunes','Martes','Miércoles','Jueves', 'Viernes','Sábado','Domingo']\n",
    "#     df['Día Semana']=df[\"Día natural\"].apply(lambda x: D_W[x.isocalendar()[2] -1])\n",
    "#     df=df[df['Día Semana']!='Domingo']\n",
    "    \n",
    "    print(df.dtypes)\n",
    "    end_time = time.time()\n",
    "    time_convert(end_time - start_time)\n",
    "    return df"
   ]
  },
  {
   "cell_type": "markdown",
   "id": "53a2f913",
   "metadata": {
    "heading_collapsed": true,
    "hidden": true
   },
   "source": [
    "##### Aplicación"
   ]
  },
  {
   "cell_type": "code",
   "execution_count": 39,
   "id": "ca7fdef0",
   "metadata": {
    "hidden": true,
    "scrolled": true
   },
   "outputs": [
    {
     "name": "stdout",
     "output_type": "stream",
     "text": [
      "Cliente                           object\n",
      "Fecha ultima Compra               object\n",
      "Recency Actual                     int64\n",
      "Fecha Creacion                    object\n",
      "Frecuency Actual del Cliente     float64\n",
      "Kilos Venta KG Promedio          float64\n",
      "Precio Promedio                  float64\n",
      "Año Creación Promedio              int64\n",
      "Frecuencia Historica Promedio      int64\n",
      "Ingreso de Venta Promedio        float64\n",
      "dtype: object\n",
      "Time Lapsed = 0:0:0.09008145332336426 \n",
      " H:m:s\n"
     ]
    }
   ],
   "source": [
    "Clientes_i_RFM=Ajuste_Clientes_RFM(Clientes_i_RFM)"
   ]
  },
  {
   "cell_type": "markdown",
   "id": "8aafe39e",
   "metadata": {},
   "source": [
    "# Analisis\n",
    "\n",
    "Dataframes de interes:\n",
    "\n",
    "- df_fecha_fin:\n",
    "    - Respresneta el Recency ctual\n",
    "    - `(df_fecha_fin.rename(columns={'Recency Actual':'Recency actual del Cliente'})`\n",
    "    \n",
    "    \n",
    "- data_i_F:\n",
    "    \n",
    "    - `Recency días`\n",
    "    - Representa el Recency al momento de realizar al compra.\n",
    "- df_g:\n",
    "\n",
    "    - Representa el valor promedio del Recency del cliente\n",
    "    -`df_g.rename(columns ={'Frecuency_Row':'Recency Promedio Cliente'})`\n",
    "            "
   ]
  },
  {
   "cell_type": "markdown",
   "id": "d0c947fd",
   "metadata": {
    "heading_collapsed": true
   },
   "source": [
    "## groupby Frecuency  mean for each client "
   ]
  },
  {
   "cell_type": "code",
   "execution_count": 44,
   "id": "09800b02",
   "metadata": {
    "hidden": true
   },
   "outputs": [
    {
     "data": {
      "text/plain": [
       "'Frecuency_Row'"
      ]
     },
     "execution_count": 44,
     "metadata": {},
     "output_type": "execute_result"
    }
   ],
   "source": [
    "Dic_col['RFM Row'][1]"
   ]
  },
  {
   "cell_type": "code",
   "execution_count": 51,
   "id": "99d4915f",
   "metadata": {
    "hidden": true
   },
   "outputs": [
    {
     "data": {
      "text/html": [
       "<div>\n",
       "<style scoped>\n",
       "    .dataframe tbody tr th:only-of-type {\n",
       "        vertical-align: middle;\n",
       "    }\n",
       "\n",
       "    .dataframe tbody tr th {\n",
       "        vertical-align: top;\n",
       "    }\n",
       "\n",
       "    .dataframe thead th {\n",
       "        text-align: right;\n",
       "    }\n",
       "</style>\n",
       "<table border=\"1\" class=\"dataframe\">\n",
       "  <thead>\n",
       "    <tr style=\"text-align: right;\">\n",
       "      <th></th>\n",
       "      <th>Material (Nombre)</th>\n",
       "      <th>Kilos Venta KG</th>\n",
       "      <th>Precio</th>\n",
       "      <th>Día natural</th>\n",
       "      <th>Día Semana</th>\n",
       "      <th>Semana</th>\n",
       "      <th>Mes</th>\n",
       "      <th>Año</th>\n",
       "      <th>Población</th>\n",
       "      <th>Centro</th>\n",
       "      <th>Cliente</th>\n",
       "      <th>Cluster</th>\n",
       "      <th>Segmento.1</th>\n",
       "      <th>Categoría Cliente</th>\n",
       "      <th>Año Creación</th>\n",
       "      <th>Material Favorito</th>\n",
       "      <th>Frecuencia Historica</th>\n",
       "      <th>Mes_num</th>\n",
       "      <th>Frecuency_Row</th>\n",
       "    </tr>\n",
       "  </thead>\n",
       "  <tbody>\n",
       "    <tr>\n",
       "      <th>61455</th>\n",
       "      <td>1010078(Trutro Entero Selección)</td>\n",
       "      <td>22</td>\n",
       "      <td>1300</td>\n",
       "      <td>2020-05-23</td>\n",
       "      <td>Sábado</td>\n",
       "      <td>21</td>\n",
       "      <td>Mayo</td>\n",
       "      <td>2020</td>\n",
       "      <td>La Pintana</td>\n",
       "      <td>Sucursal Lo Espejo</td>\n",
       "      <td>10003742</td>\n",
       "      <td>Clásico</td>\n",
       "      <td>Cobertura Pequeno SD</td>\n",
       "      <td>Especialista en Proc</td>\n",
       "      <td>2007</td>\n",
       "      <td>1010077</td>\n",
       "      <td>19</td>\n",
       "      <td>5</td>\n",
       "      <td>1</td>\n",
       "    </tr>\n",
       "    <tr>\n",
       "      <th>61456</th>\n",
       "      <td>1010078(Trutro Entero Selección)</td>\n",
       "      <td>110</td>\n",
       "      <td>1174</td>\n",
       "      <td>2018-03-01</td>\n",
       "      <td>Jueves</td>\n",
       "      <td>9</td>\n",
       "      <td>Marzo</td>\n",
       "      <td>2018</td>\n",
       "      <td>Puente Alto</td>\n",
       "      <td>Sucursal Lo Espejo</td>\n",
       "      <td>10007508</td>\n",
       "      <td>Clásico</td>\n",
       "      <td>Cobertura Mediano SD</td>\n",
       "      <td>Especialista en Crud</td>\n",
       "      <td>2007</td>\n",
       "      <td>1020253</td>\n",
       "      <td>464</td>\n",
       "      <td>3</td>\n",
       "      <td>1</td>\n",
       "    </tr>\n",
       "  </tbody>\n",
       "</table>\n",
       "</div>"
      ],
      "text/plain": [
       "                      Material (Nombre)  Kilos Venta KG  Precio Día natural  \\\n",
       "61455  1010078(Trutro Entero Selección)              22    1300  2020-05-23   \n",
       "61456  1010078(Trutro Entero Selección)             110    1174  2018-03-01   \n",
       "\n",
       "      Día Semana Semana    Mes   Año    Población              Centro  \\\n",
       "61455     Sábado     21   Mayo  2020   La Pintana  Sucursal Lo Espejo   \n",
       "61456     Jueves      9  Marzo  2018  Puente Alto  Sucursal Lo Espejo   \n",
       "\n",
       "        Cliente  Cluster            Segmento.1     Categoría Cliente  \\\n",
       "61455  10003742  Clásico  Cobertura Pequeno SD  Especialista en Proc   \n",
       "61456  10007508  Clásico  Cobertura Mediano SD  Especialista en Crud   \n",
       "\n",
       "      Año Creación Material Favorito Frecuencia Historica Mes_num  \\\n",
       "61455         2007           1010077                   19       5   \n",
       "61456         2007           1020253                  464       3   \n",
       "\n",
       "       Frecuency_Row  \n",
       "61455              1  \n",
       "61456              1  "
      ]
     },
     "execution_count": 51,
     "metadata": {},
     "output_type": "execute_result"
    }
   ],
   "source": [
    "data_i_F.head(2)"
   ]
  },
  {
   "cell_type": "code",
   "execution_count": 56,
   "id": "01109c85",
   "metadata": {
    "hidden": true,
    "scrolled": false
   },
   "outputs": [
    {
     "data": {
      "text/html": [
       "<div>\n",
       "<style scoped>\n",
       "    .dataframe tbody tr th:only-of-type {\n",
       "        vertical-align: middle;\n",
       "    }\n",
       "\n",
       "    .dataframe tbody tr th {\n",
       "        vertical-align: top;\n",
       "    }\n",
       "\n",
       "    .dataframe thead th {\n",
       "        text-align: right;\n",
       "    }\n",
       "</style>\n",
       "<table border=\"1\" class=\"dataframe\">\n",
       "  <thead>\n",
       "    <tr style=\"text-align: right;\">\n",
       "      <th></th>\n",
       "      <th>Cliente</th>\n",
       "      <th>Frecuency Promedio Cliente</th>\n",
       "    </tr>\n",
       "  </thead>\n",
       "  <tbody>\n",
       "    <tr>\n",
       "      <th>0</th>\n",
       "      <td>10003742</td>\n",
       "      <td>1.000000</td>\n",
       "    </tr>\n",
       "    <tr>\n",
       "      <th>1</th>\n",
       "      <td>10007508</td>\n",
       "      <td>0.004808</td>\n",
       "    </tr>\n",
       "    <tr>\n",
       "      <th>2</th>\n",
       "      <td>10017269</td>\n",
       "      <td>0.012821</td>\n",
       "    </tr>\n",
       "    <tr>\n",
       "      <th>3</th>\n",
       "      <td>10023880</td>\n",
       "      <td>0.050000</td>\n",
       "    </tr>\n",
       "    <tr>\n",
       "      <th>4</th>\n",
       "      <td>10028999</td>\n",
       "      <td>0.076923</td>\n",
       "    </tr>\n",
       "  </tbody>\n",
       "</table>\n",
       "</div>"
      ],
      "text/plain": [
       "    Cliente  Frecuency Promedio Cliente\n",
       "0  10003742                    1.000000\n",
       "1  10007508                    0.004808\n",
       "2  10017269                    0.012821\n",
       "3  10023880                    0.050000\n",
       "4  10028999                    0.076923"
      ]
     },
     "execution_count": 56,
     "metadata": {},
     "output_type": "execute_result"
    }
   ],
   "source": [
    "df_F_row_Promedio=data_i_F[[ 'Cliente', Dic_col['RFM Row'][1]]].groupby('Cliente').mean().reset_index()#\n",
    "# rename\n",
    "df_F_row_Promedio=df_F_row_Promedio.rename(columns={'Frecuency_Row':'Frecuency Promedio Cliente'})\n",
    "df_F_row_Promedio.head()"
   ]
  },
  {
   "cell_type": "markdown",
   "id": "51f78218",
   "metadata": {
    "heading_collapsed": true,
    "hidden": true
   },
   "source": [
    "###### histograma "
   ]
  },
  {
   "cell_type": "code",
   "execution_count": 57,
   "id": "ac7b298c",
   "metadata": {
    "hidden": true
   },
   "outputs": [
    {
     "data": {
      "text/plain": [
       "array([[<AxesSubplot:title={'center':'Frecuency Promedio Cliente'}>]],\n",
       "      dtype=object)"
      ]
     },
     "execution_count": 57,
     "metadata": {},
     "output_type": "execute_result"
    },
    {
     "data": {
      "image/png": "[encoded data removed]",
      "text/plain": [
       "<Figure size 432x288 with 1 Axes>"
      ]
     },
     "metadata": {
      "needs_background": "light"
     },
     "output_type": "display_data"
    }
   ],
   "source": [
    "df_F_row_Promedio.hist()"
   ]
  },
  {
   "cell_type": "markdown",
   "id": "9c9d0eb9",
   "metadata": {
    "heading_collapsed": true
   },
   "source": [
    "## Tablas \n"
   ]
  },
  {
   "cell_type": "markdown",
   "id": "46413855",
   "metadata": {
    "heading_collapsed": true,
    "hidden": true
   },
   "source": [
    "##### Filas de cada distribcuión "
   ]
  },
  {
   "cell_type": "markdown",
   "id": "fadfe2c0",
   "metadata": {
    "heading_collapsed": true,
    "hidden": true
   },
   "source": [
    "###### Actual por Cliente"
   ]
  },
  {
   "cell_type": "code",
   "execution_count": 62,
   "id": "6caa25ab",
   "metadata": {
    "hidden": true
   },
   "outputs": [
    {
     "data": {
      "text/plain": [
       "dict_keys(['Base', 'Fecha', 'Ubicacion', 'Cliente Categoria', 'Cliente Atributos', 'RFM Row', 'RFM Customers'])"
      ]
     },
     "execution_count": 62,
     "metadata": {},
     "output_type": "execute_result"
    }
   ],
   "source": [
    "Dic_col.keys()"
   ]
  },
  {
   "cell_type": "code",
   "execution_count": 83,
   "id": "a67a76a4",
   "metadata": {
    "hidden": true,
    "scrolled": true
   },
   "outputs": [
    {
     "data": {
      "text/html": [
       "<div>\n",
       "<style scoped>\n",
       "    .dataframe tbody tr th:only-of-type {\n",
       "        vertical-align: middle;\n",
       "    }\n",
       "\n",
       "    .dataframe tbody tr th {\n",
       "        vertical-align: top;\n",
       "    }\n",
       "\n",
       "    .dataframe thead th {\n",
       "        text-align: right;\n",
       "    }\n",
       "</style>\n",
       "<table border=\"1\" class=\"dataframe\">\n",
       "  <thead>\n",
       "    <tr style=\"text-align: right;\">\n",
       "      <th></th>\n",
       "      <th>count</th>\n",
       "      <th>mean</th>\n",
       "      <th>std</th>\n",
       "      <th>min</th>\n",
       "      <th>25%</th>\n",
       "      <th>50%</th>\n",
       "      <th>75%</th>\n",
       "      <th>max</th>\n",
       "    </tr>\n",
       "  </thead>\n",
       "  <tbody>\n",
       "    <tr>\n",
       "      <th>Frecuency Actual del Cliente</th>\n",
       "      <td>5073.0</td>\n",
       "      <td>0.046</td>\n",
       "      <td>0.063</td>\n",
       "      <td>0.003</td>\n",
       "      <td>0.008</td>\n",
       "      <td>0.018</td>\n",
       "      <td>0.054</td>\n",
       "      <td>0.462</td>\n",
       "    </tr>\n",
       "  </tbody>\n",
       "</table>\n",
       "</div>"
      ],
      "text/plain": [
       "                               count   mean    std    min    25%    50%  \\\n",
       "Frecuency Actual del Cliente  5073.0  0.046  0.063  0.003  0.008  0.018   \n",
       "\n",
       "                                75%    max  \n",
       "Frecuency Actual del Cliente  0.054  0.462  "
      ]
     },
     "execution_count": 83,
     "metadata": {},
     "output_type": "execute_result"
    }
   ],
   "source": [
    "df_Actual=pd.DataFrame(\n",
    "(Clientes_i_RFM['Frecuency Actual del Cliente'].describe())).T.round(3)\n",
    "df_Actual"
   ]
  },
  {
   "cell_type": "markdown",
   "id": "43c6fc20",
   "metadata": {
    "heading_collapsed": true,
    "hidden": true
   },
   "source": [
    "######  Promedio de Cada Cliente sobre sus Facturas"
   ]
  },
  {
   "cell_type": "code",
   "execution_count": 81,
   "id": "8224547d",
   "metadata": {
    "hidden": true,
    "scrolled": false
   },
   "outputs": [
    {
     "data": {
      "text/html": [
       "<div>\n",
       "<style scoped>\n",
       "    .dataframe tbody tr th:only-of-type {\n",
       "        vertical-align: middle;\n",
       "    }\n",
       "\n",
       "    .dataframe tbody tr th {\n",
       "        vertical-align: top;\n",
       "    }\n",
       "\n",
       "    .dataframe thead th {\n",
       "        text-align: right;\n",
       "    }\n",
       "</style>\n",
       "<table border=\"1\" class=\"dataframe\">\n",
       "  <thead>\n",
       "    <tr style=\"text-align: right;\">\n",
       "      <th></th>\n",
       "      <th>count</th>\n",
       "      <th>mean</th>\n",
       "      <th>std</th>\n",
       "      <th>min</th>\n",
       "      <th>25%</th>\n",
       "      <th>50%</th>\n",
       "      <th>75%</th>\n",
       "      <th>max</th>\n",
       "    </tr>\n",
       "  </thead>\n",
       "  <tbody>\n",
       "    <tr>\n",
       "      <th>Frecuency Promedio Cliente</th>\n",
       "      <td>5073.0</td>\n",
       "      <td>0.196</td>\n",
       "      <td>0.261</td>\n",
       "      <td>0.002</td>\n",
       "      <td>0.028</td>\n",
       "      <td>0.1</td>\n",
       "      <td>0.25</td>\n",
       "      <td>1.0</td>\n",
       "    </tr>\n",
       "  </tbody>\n",
       "</table>\n",
       "</div>"
      ],
      "text/plain": [
       "                             count   mean    std    min    25%  50%   75%  max\n",
       "Frecuency Promedio Cliente  5073.0  0.196  0.261  0.002  0.028  0.1  0.25  1.0"
      ]
     },
     "execution_count": 81,
     "metadata": {},
     "output_type": "execute_result"
    }
   ],
   "source": [
    "df_gro_P=pd.DataFrame(\n",
    "(df_F_row_Promedio.describe().round(3))).T\n",
    "df_gro_P"
   ]
  },
  {
   "cell_type": "markdown",
   "id": "6569da7c",
   "metadata": {
    "heading_collapsed": true,
    "hidden": true
   },
   "source": [
    "###### Facturas"
   ]
  },
  {
   "cell_type": "code",
   "execution_count": 77,
   "id": "bb638c05",
   "metadata": {
    "hidden": true,
    "scrolled": false
   },
   "outputs": [
    {
     "data": {
      "text/html": [
       "<div>\n",
       "<style scoped>\n",
       "    .dataframe tbody tr th:only-of-type {\n",
       "        vertical-align: middle;\n",
       "    }\n",
       "\n",
       "    .dataframe tbody tr th {\n",
       "        vertical-align: top;\n",
       "    }\n",
       "\n",
       "    .dataframe thead th {\n",
       "        text-align: right;\n",
       "    }\n",
       "</style>\n",
       "<table border=\"1\" class=\"dataframe\">\n",
       "  <thead>\n",
       "    <tr style=\"text-align: right;\">\n",
       "      <th></th>\n",
       "      <th>Material (Nombre)</th>\n",
       "      <th>Kilos Venta KG</th>\n",
       "      <th>Precio</th>\n",
       "      <th>Día natural</th>\n",
       "      <th>Día Semana</th>\n",
       "      <th>Semana</th>\n",
       "      <th>Mes</th>\n",
       "      <th>Año</th>\n",
       "      <th>Población</th>\n",
       "      <th>Centro</th>\n",
       "      <th>Cliente</th>\n",
       "      <th>Cluster</th>\n",
       "      <th>Segmento.1</th>\n",
       "      <th>Categoría Cliente</th>\n",
       "      <th>Año Creación</th>\n",
       "      <th>Material Favorito</th>\n",
       "      <th>Frecuencia Historica</th>\n",
       "      <th>Mes_num</th>\n",
       "      <th>Frecuency Facturas</th>\n",
       "    </tr>\n",
       "  </thead>\n",
       "  <tbody>\n",
       "    <tr>\n",
       "      <th>61455</th>\n",
       "      <td>1010078(Trutro Entero Selección)</td>\n",
       "      <td>22</td>\n",
       "      <td>1300</td>\n",
       "      <td>2020-05-23</td>\n",
       "      <td>Sábado</td>\n",
       "      <td>21</td>\n",
       "      <td>Mayo</td>\n",
       "      <td>2020</td>\n",
       "      <td>La Pintana</td>\n",
       "      <td>Sucursal Lo Espejo</td>\n",
       "      <td>10003742</td>\n",
       "      <td>Clásico</td>\n",
       "      <td>Cobertura Pequeno SD</td>\n",
       "      <td>Especialista en Proc</td>\n",
       "      <td>2007</td>\n",
       "      <td>1010077</td>\n",
       "      <td>19</td>\n",
       "      <td>5</td>\n",
       "      <td>1</td>\n",
       "    </tr>\n",
       "  </tbody>\n",
       "</table>\n",
       "</div>"
      ],
      "text/plain": [
       "                      Material (Nombre)  Kilos Venta KG  Precio Día natural  \\\n",
       "61455  1010078(Trutro Entero Selección)              22    1300  2020-05-23   \n",
       "\n",
       "      Día Semana Semana   Mes   Año   Población              Centro   Cliente  \\\n",
       "61455     Sábado     21  Mayo  2020  La Pintana  Sucursal Lo Espejo  10003742   \n",
       "\n",
       "       Cluster            Segmento.1     Categoría Cliente Año Creación  \\\n",
       "61455  Clásico  Cobertura Pequeno SD  Especialista en Proc         2007   \n",
       "\n",
       "      Material Favorito Frecuencia Historica Mes_num  Frecuency Facturas  \n",
       "61455           1010077                   19       5                   1  "
      ]
     },
     "execution_count": 77,
     "metadata": {},
     "output_type": "execute_result"
    }
   ],
   "source": [
    "df=data_i_F.copy()\n",
    "df=df.rename(columns ={'Frecuency_Row':'Frecuency Facturas'})\n",
    "df.head(1)"
   ]
  },
  {
   "cell_type": "code",
   "execution_count": 84,
   "id": "4914e4c5",
   "metadata": {
    "hidden": true,
    "scrolled": true
   },
   "outputs": [
    {
     "data": {
      "text/html": [
       "<div>\n",
       "<style scoped>\n",
       "    .dataframe tbody tr th:only-of-type {\n",
       "        vertical-align: middle;\n",
       "    }\n",
       "\n",
       "    .dataframe tbody tr th {\n",
       "        vertical-align: top;\n",
       "    }\n",
       "\n",
       "    .dataframe thead th {\n",
       "        text-align: right;\n",
       "    }\n",
       "</style>\n",
       "<table border=\"1\" class=\"dataframe\">\n",
       "  <thead>\n",
       "    <tr style=\"text-align: right;\">\n",
       "      <th></th>\n",
       "      <th>count</th>\n",
       "      <th>mean</th>\n",
       "      <th>std</th>\n",
       "      <th>min</th>\n",
       "      <th>25%</th>\n",
       "      <th>50%</th>\n",
       "      <th>75%</th>\n",
       "      <th>max</th>\n",
       "    </tr>\n",
       "  </thead>\n",
       "  <tbody>\n",
       "    <tr>\n",
       "      <th>Frecuency Facturas</th>\n",
       "      <td>198596.0</td>\n",
       "      <td>0.026</td>\n",
       "      <td>0.161</td>\n",
       "      <td>0.0</td>\n",
       "      <td>0.0</td>\n",
       "      <td>0.0</td>\n",
       "      <td>0.0</td>\n",
       "      <td>2.0</td>\n",
       "    </tr>\n",
       "  </tbody>\n",
       "</table>\n",
       "</div>"
      ],
      "text/plain": [
       "                       count   mean    std  min  25%  50%  75%  max\n",
       "Frecuency Facturas  198596.0  0.026  0.161  0.0  0.0  0.0  0.0  2.0"
      ]
     },
     "execution_count": 84,
     "metadata": {},
     "output_type": "execute_result"
    }
   ],
   "source": [
    "df_Fact_P=pd.DataFrame(\n",
    "(df['Frecuency Facturas'].describe())).T.round(3).copy()\n",
    "df_Fact_P"
   ]
  },
  {
   "cell_type": "code",
   "execution_count": 79,
   "id": "55a6716a",
   "metadata": {
    "collapsed": true,
    "hidden": true
   },
   "outputs": [
    {
     "name": "stdout",
     "output_type": "stream",
     "text": [
      "\\begin{tabular}{lrrrrrrrr}\n",
      "\\toprule\n",
      "{} &     count &  mean &  std &  min &  25\\% &  50\\% &  75\\% &  max \\\\\n",
      "\\midrule\n",
      "Frecuency Facturas & 198,596.0 &   0.0 &  0.2 &  0.0 &  0.0 &  0.0 &  0.0 &  2.0 \\\\\n",
      "\\bottomrule\n",
      "\\end{tabular}\n",
      "\n"
     ]
    }
   ],
   "source": [
    "print(pd.DataFrame(\n",
    "(df.describe())['Frecuency Facturas']).T.round(2).to_latex(float_format=\"{:,.1f}\".format))"
   ]
  },
  {
   "cell_type": "markdown",
   "id": "daf3bb71",
   "metadata": {
    "heading_collapsed": true,
    "hidden": true
   },
   "source": [
    "##### Juntar ambas tablas"
   ]
  },
  {
   "cell_type": "code",
   "execution_count": 85,
   "id": "d324776e",
   "metadata": {
    "hidden": true,
    "scrolled": false
   },
   "outputs": [
    {
     "data": {
      "text/html": [
       "<div>\n",
       "<style scoped>\n",
       "    .dataframe tbody tr th:only-of-type {\n",
       "        vertical-align: middle;\n",
       "    }\n",
       "\n",
       "    .dataframe tbody tr th {\n",
       "        vertical-align: top;\n",
       "    }\n",
       "\n",
       "    .dataframe thead th {\n",
       "        text-align: right;\n",
       "    }\n",
       "</style>\n",
       "<table border=\"1\" class=\"dataframe\">\n",
       "  <thead>\n",
       "    <tr style=\"text-align: right;\">\n",
       "      <th></th>\n",
       "      <th>count</th>\n",
       "      <th>mean</th>\n",
       "      <th>std</th>\n",
       "      <th>min</th>\n",
       "      <th>25%</th>\n",
       "      <th>50%</th>\n",
       "      <th>75%</th>\n",
       "      <th>max</th>\n",
       "    </tr>\n",
       "  </thead>\n",
       "  <tbody>\n",
       "    <tr>\n",
       "      <th>Frecuency Facturas</th>\n",
       "      <td>198596.0</td>\n",
       "      <td>0.026</td>\n",
       "      <td>0.161</td>\n",
       "      <td>0.000</td>\n",
       "      <td>0.000</td>\n",
       "      <td>0.000</td>\n",
       "      <td>0.000</td>\n",
       "      <td>2.000</td>\n",
       "    </tr>\n",
       "    <tr>\n",
       "      <th>Frecuency Promedio Cliente</th>\n",
       "      <td>5073.0</td>\n",
       "      <td>0.196</td>\n",
       "      <td>0.261</td>\n",
       "      <td>0.002</td>\n",
       "      <td>0.028</td>\n",
       "      <td>0.100</td>\n",
       "      <td>0.250</td>\n",
       "      <td>1.000</td>\n",
       "    </tr>\n",
       "    <tr>\n",
       "      <th>Frecuency Actual del Cliente</th>\n",
       "      <td>5073.0</td>\n",
       "      <td>0.046</td>\n",
       "      <td>0.063</td>\n",
       "      <td>0.003</td>\n",
       "      <td>0.008</td>\n",
       "      <td>0.018</td>\n",
       "      <td>0.054</td>\n",
       "      <td>0.462</td>\n",
       "    </tr>\n",
       "  </tbody>\n",
       "</table>\n",
       "</div>"
      ],
      "text/plain": [
       "                                 count   mean    std    min    25%    50%  \\\n",
       "Frecuency Facturas            198596.0  0.026  0.161  0.000  0.000  0.000   \n",
       "Frecuency Promedio Cliente      5073.0  0.196  0.261  0.002  0.028  0.100   \n",
       "Frecuency Actual del Cliente    5073.0  0.046  0.063  0.003  0.008  0.018   \n",
       "\n",
       "                                75%    max  \n",
       "Frecuency Facturas            0.000  2.000  \n",
       "Frecuency Promedio Cliente    0.250  1.000  \n",
       "Frecuency Actual del Cliente  0.054  0.462  "
      ]
     },
     "execution_count": 85,
     "metadata": {},
     "output_type": "execute_result"
    }
   ],
   "source": [
    "pd.concat([\n",
    "            df_Fact_P\n",
    "            ,df_gro_P\n",
    "           ,df_Actual\n",
    "            ])"
   ]
  },
  {
   "cell_type": "markdown",
   "id": "dd8cfce2",
   "metadata": {
    "hidden": true
   },
   "source": [
    "##### Latex "
   ]
  },
  {
   "cell_type": "code",
   "execution_count": 89,
   "id": "c4655f64",
   "metadata": {
    "hidden": true,
    "scrolled": true
   },
   "outputs": [
    {
     "name": "stdout",
     "output_type": "stream",
     "text": [
      "\\begin{tabular}{lrrrrrrrr}\n",
      "\\toprule\n",
      "{} &       count &  mean &   std &   min &   25\\% &   50\\% &   75\\% &   max \\\\\n",
      "\\midrule\n",
      "Frecuency Facturas           & 198,596.000 & 0.026 & 0.161 & 0.000 & 0.000 & 0.000 & 0.000 & 2.000 \\\\\n",
      "Frecuency Promedio Cliente   &   5,073.000 & 0.196 & 0.261 & 0.002 & 0.028 & 0.100 & 0.250 & 1.000 \\\\\n",
      "Frecuency Actual del Cliente &   5,073.000 & 0.046 & 0.063 & 0.003 & 0.008 & 0.018 & 0.054 & 0.462 \\\\\n",
      "\\bottomrule\n",
      "\\end{tabular}\n",
      "\n"
     ]
    }
   ],
   "source": [
    "print(pd.concat([\n",
    "            df_Fact_P\n",
    "            ,df_gro_P\n",
    "           ,df_Actual\n",
    "            ]).to_latex\\\n",
    "      (float_format=\"{:,.3f}\".format)\n",
    "#      ()\n",
    "     )"
   ]
  },
  {
   "cell_type": "code",
   "execution_count": 104,
   "id": "0200e12a",
   "metadata": {
    "hidden": true,
    "scrolled": true
   },
   "outputs": [
    {
     "name": "stdout",
     "output_type": "stream",
     "text": [
      "\\begin{tabular}{lrrrrrrrr}\n",
      "\\toprule\n",
      "{} &      count &  mean &  std &  min &  25\\% &  50\\% &  75\\% &  max \\\\\n",
      "\\midrule\n",
      "Frecuency Facturas           & 198,596.00 &  0.03 & 0.16 & 0.00 & 0.00 & 0.00 & 0.00 & 2.00 \\\\\n",
      "Frecuency Promedio Cliente   &   5,073.00 &  0.20 & 0.26 & 0.00 & 0.03 & 0.10 & 0.25 & 1.00 \\\\\n",
      "Frecuency Actual del Cliente &   5,073.00 &  0.05 & 0.06 & 0.00 & 0.01 & 0.02 & 0.05 & 0.46 \\\\\n",
      "\\bottomrule\n",
      "\\end{tabular}\n",
      "\n"
     ]
    }
   ],
   "source": [
    "print(pd.concat([\n",
    "            df_Fact_P\n",
    "            ,df_gro_P\n",
    "           ,df_Actual\n",
    "            ]).to_latex\\\n",
    "      (float_format=\"{:,.2f}\".format)\n",
    "#      ()\n",
    "     )"
   ]
  },
  {
   "cell_type": "code",
   "execution_count": 103,
   "id": "a1c2caa7",
   "metadata": {
    "hidden": true,
    "scrolled": true
   },
   "outputs": [
    {
     "data": {
      "text/html": [
       "<div>\n",
       "<style scoped>\n",
       "    .dataframe tbody tr th:only-of-type {\n",
       "        vertical-align: middle;\n",
       "    }\n",
       "\n",
       "    .dataframe tbody tr th {\n",
       "        vertical-align: top;\n",
       "    }\n",
       "\n",
       "    .dataframe thead th {\n",
       "        text-align: right;\n",
       "    }\n",
       "</style>\n",
       "<table border=\"1\" class=\"dataframe\">\n",
       "  <thead>\n",
       "    <tr style=\"text-align: right;\">\n",
       "      <th></th>\n",
       "      <th>Fecha Creacion</th>\n",
       "      <th>Día natural</th>\n",
       "    </tr>\n",
       "  </thead>\n",
       "  <tbody>\n",
       "    <tr>\n",
       "      <th>0</th>\n",
       "      <td>2018-01-23</td>\n",
       "      <td>2018-01-24</td>\n",
       "    </tr>\n",
       "    <tr>\n",
       "      <th>1</th>\n",
       "      <td>2018-01-09</td>\n",
       "      <td>2018-01-10</td>\n",
       "    </tr>\n",
       "    <tr>\n",
       "      <th>2</th>\n",
       "      <td>2018-01-15</td>\n",
       "      <td>2018-01-16</td>\n",
       "    </tr>\n",
       "    <tr>\n",
       "      <th>3</th>\n",
       "      <td>2018-01-04</td>\n",
       "      <td>2018-01-05</td>\n",
       "    </tr>\n",
       "    <tr>\n",
       "      <th>4</th>\n",
       "      <td>2019-10-24</td>\n",
       "      <td>2019-10-25</td>\n",
       "    </tr>\n",
       "    <tr>\n",
       "      <th>5</th>\n",
       "      <td>2018-02-14</td>\n",
       "      <td>2018-02-15</td>\n",
       "    </tr>\n",
       "    <tr>\n",
       "      <th>6</th>\n",
       "      <td>2018-01-02</td>\n",
       "      <td>2018-01-03</td>\n",
       "    </tr>\n",
       "    <tr>\n",
       "      <th>7</th>\n",
       "      <td>2021-05-19</td>\n",
       "      <td>2021-05-20</td>\n",
       "    </tr>\n",
       "    <tr>\n",
       "      <th>8</th>\n",
       "      <td>2019-06-25</td>\n",
       "      <td>2019-06-26</td>\n",
       "    </tr>\n",
       "    <tr>\n",
       "      <th>9</th>\n",
       "      <td>2018-09-21</td>\n",
       "      <td>2018-09-22</td>\n",
       "    </tr>\n",
       "    <tr>\n",
       "      <th>10</th>\n",
       "      <td>2018-01-18</td>\n",
       "      <td>2018-01-19</td>\n",
       "    </tr>\n",
       "    <tr>\n",
       "      <th>11</th>\n",
       "      <td>2018-01-03</td>\n",
       "      <td>2018-01-04</td>\n",
       "    </tr>\n",
       "    <tr>\n",
       "      <th>12</th>\n",
       "      <td>2018-01-02</td>\n",
       "      <td>2018-01-03</td>\n",
       "    </tr>\n",
       "    <tr>\n",
       "      <th>13</th>\n",
       "      <td>2018-01-04</td>\n",
       "      <td>2018-01-05</td>\n",
       "    </tr>\n",
       "    <tr>\n",
       "      <th>14</th>\n",
       "      <td>2018-01-05</td>\n",
       "      <td>2018-01-06</td>\n",
       "    </tr>\n",
       "    <tr>\n",
       "      <th>15</th>\n",
       "      <td>2018-08-16</td>\n",
       "      <td>2018-08-17</td>\n",
       "    </tr>\n",
       "    <tr>\n",
       "      <th>16</th>\n",
       "      <td>2018-01-02</td>\n",
       "      <td>2018-01-03</td>\n",
       "    </tr>\n",
       "    <tr>\n",
       "      <th>17</th>\n",
       "      <td>2018-12-13</td>\n",
       "      <td>2018-12-14</td>\n",
       "    </tr>\n",
       "    <tr>\n",
       "      <th>18</th>\n",
       "      <td>2018-01-02</td>\n",
       "      <td>2018-01-03</td>\n",
       "    </tr>\n",
       "    <tr>\n",
       "      <th>19</th>\n",
       "      <td>2018-01-05</td>\n",
       "      <td>2018-01-06</td>\n",
       "    </tr>\n",
       "    <tr>\n",
       "      <th>20</th>\n",
       "      <td>2018-11-26</td>\n",
       "      <td>2018-11-27</td>\n",
       "    </tr>\n",
       "    <tr>\n",
       "      <th>21</th>\n",
       "      <td>2018-01-04</td>\n",
       "      <td>2018-01-05</td>\n",
       "    </tr>\n",
       "    <tr>\n",
       "      <th>22</th>\n",
       "      <td>2018-01-08</td>\n",
       "      <td>2018-01-09</td>\n",
       "    </tr>\n",
       "    <tr>\n",
       "      <th>23</th>\n",
       "      <td>2018-01-09</td>\n",
       "      <td>2018-01-10</td>\n",
       "    </tr>\n",
       "    <tr>\n",
       "      <th>24</th>\n",
       "      <td>2018-01-02</td>\n",
       "      <td>2018-01-03</td>\n",
       "    </tr>\n",
       "    <tr>\n",
       "      <th>25</th>\n",
       "      <td>2020-04-02</td>\n",
       "      <td>2020-04-03</td>\n",
       "    </tr>\n",
       "    <tr>\n",
       "      <th>26</th>\n",
       "      <td>2018-01-04</td>\n",
       "      <td>2018-01-05</td>\n",
       "    </tr>\n",
       "    <tr>\n",
       "      <th>27</th>\n",
       "      <td>2021-06-16</td>\n",
       "      <td>2021-06-17</td>\n",
       "    </tr>\n",
       "    <tr>\n",
       "      <th>28</th>\n",
       "      <td>2018-01-02</td>\n",
       "      <td>2018-01-03</td>\n",
       "    </tr>\n",
       "    <tr>\n",
       "      <th>29</th>\n",
       "      <td>2018-01-05</td>\n",
       "      <td>2018-01-06</td>\n",
       "    </tr>\n",
       "    <tr>\n",
       "      <th>30</th>\n",
       "      <td>2021-08-24</td>\n",
       "      <td>2021-08-25</td>\n",
       "    </tr>\n",
       "    <tr>\n",
       "      <th>31</th>\n",
       "      <td>2018-01-03</td>\n",
       "      <td>2018-01-04</td>\n",
       "    </tr>\n",
       "    <tr>\n",
       "      <th>32</th>\n",
       "      <td>2018-01-02</td>\n",
       "      <td>2018-01-03</td>\n",
       "    </tr>\n",
       "  </tbody>\n",
       "</table>\n",
       "</div>"
      ],
      "text/plain": [
       "   Fecha Creacion Día natural\n",
       "0      2018-01-23  2018-01-24\n",
       "1      2018-01-09  2018-01-10\n",
       "2      2018-01-15  2018-01-16\n",
       "3      2018-01-04  2018-01-05\n",
       "4      2019-10-24  2019-10-25\n",
       "5      2018-02-14  2018-02-15\n",
       "6      2018-01-02  2018-01-03\n",
       "7      2021-05-19  2021-05-20\n",
       "8      2019-06-25  2019-06-26\n",
       "9      2018-09-21  2018-09-22\n",
       "10     2018-01-18  2018-01-19\n",
       "11     2018-01-03  2018-01-04\n",
       "12     2018-01-02  2018-01-03\n",
       "13     2018-01-04  2018-01-05\n",
       "14     2018-01-05  2018-01-06\n",
       "15     2018-08-16  2018-08-17\n",
       "16     2018-01-02  2018-01-03\n",
       "17     2018-12-13  2018-12-14\n",
       "18     2018-01-02  2018-01-03\n",
       "19     2018-01-05  2018-01-06\n",
       "20     2018-11-26  2018-11-27\n",
       "21     2018-01-04  2018-01-05\n",
       "22     2018-01-08  2018-01-09\n",
       "23     2018-01-09  2018-01-10\n",
       "24     2018-01-02  2018-01-03\n",
       "25     2020-04-02  2020-04-03\n",
       "26     2018-01-04  2018-01-05\n",
       "27     2021-06-16  2021-06-17\n",
       "28     2018-01-02  2018-01-03\n",
       "29     2018-01-05  2018-01-06\n",
       "30     2021-08-24  2021-08-25\n",
       "31     2018-01-03  2018-01-04\n",
       "32     2018-01-02  2018-01-03"
      ]
     },
     "execution_count": 103,
     "metadata": {},
     "output_type": "execute_result"
    }
   ],
   "source": [
    "pd.merge(data_i_F[(data_i_F.Frecuency_Row==2)],Clientes_i_RFM)[['Fecha Creacion','Día natural']]"
   ]
  },
  {
   "cell_type": "code",
   "execution_count": 97,
   "id": "03f1b103",
   "metadata": {
    "hidden": true,
    "scrolled": false
   },
   "outputs": [
    {
     "data": {
      "text/html": [
       "<div>\n",
       "<style scoped>\n",
       "    .dataframe tbody tr th:only-of-type {\n",
       "        vertical-align: middle;\n",
       "    }\n",
       "\n",
       "    .dataframe tbody tr th {\n",
       "        vertical-align: top;\n",
       "    }\n",
       "\n",
       "    .dataframe thead th {\n",
       "        text-align: right;\n",
       "    }\n",
       "</style>\n",
       "<table border=\"1\" class=\"dataframe\">\n",
       "  <thead>\n",
       "    <tr style=\"text-align: right;\">\n",
       "      <th></th>\n",
       "      <th>Material (Nombre)</th>\n",
       "      <th>Kilos Venta KG</th>\n",
       "      <th>Precio</th>\n",
       "      <th>Día natural</th>\n",
       "      <th>Día Semana</th>\n",
       "      <th>Semana</th>\n",
       "      <th>Mes</th>\n",
       "      <th>Año</th>\n",
       "      <th>Población</th>\n",
       "      <th>Centro</th>\n",
       "      <th>Cliente</th>\n",
       "      <th>Cluster</th>\n",
       "      <th>Segmento.1</th>\n",
       "      <th>Categoría Cliente</th>\n",
       "      <th>Año Creación</th>\n",
       "      <th>Material Favorito</th>\n",
       "      <th>Frecuencia Historica</th>\n",
       "      <th>Mes_num</th>\n",
       "      <th>Frecuency_Row</th>\n",
       "    </tr>\n",
       "  </thead>\n",
       "  <tbody>\n",
       "    <tr>\n",
       "      <th>count</th>\n",
       "      <td>33</td>\n",
       "      <td>33.000000</td>\n",
       "      <td>33.000000</td>\n",
       "      <td>33</td>\n",
       "      <td>33</td>\n",
       "      <td>33</td>\n",
       "      <td>33</td>\n",
       "      <td>33</td>\n",
       "      <td>33</td>\n",
       "      <td>33</td>\n",
       "      <td>33</td>\n",
       "      <td>33</td>\n",
       "      <td>33</td>\n",
       "      <td>33</td>\n",
       "      <td>33</td>\n",
       "      <td>33</td>\n",
       "      <td>33</td>\n",
       "      <td>33</td>\n",
       "      <td>33.0</td>\n",
       "    </tr>\n",
       "    <tr>\n",
       "      <th>unique</th>\n",
       "      <td>1</td>\n",
       "      <td>NaN</td>\n",
       "      <td>NaN</td>\n",
       "      <td>20</td>\n",
       "      <td>5</td>\n",
       "      <td>15</td>\n",
       "      <td>10</td>\n",
       "      <td>4</td>\n",
       "      <td>20</td>\n",
       "      <td>3</td>\n",
       "      <td>33</td>\n",
       "      <td>3</td>\n",
       "      <td>3</td>\n",
       "      <td>4</td>\n",
       "      <td>11</td>\n",
       "      <td>6</td>\n",
       "      <td>33</td>\n",
       "      <td>10</td>\n",
       "      <td>NaN</td>\n",
       "    </tr>\n",
       "    <tr>\n",
       "      <th>top</th>\n",
       "      <td>1010078(Trutro Entero Selección)</td>\n",
       "      <td>NaN</td>\n",
       "      <td>NaN</td>\n",
       "      <td>2018-01-03</td>\n",
       "      <td>Miércoles</td>\n",
       "      <td>1</td>\n",
       "      <td>Enero</td>\n",
       "      <td>2018</td>\n",
       "      <td>Puente Alto</td>\n",
       "      <td>Sucursal Miraflores</td>\n",
       "      <td>9251558</td>\n",
       "      <td>Clásico</td>\n",
       "      <td>Cobertura Mediano SD</td>\n",
       "      <td>Especialista en Crud</td>\n",
       "      <td>2007</td>\n",
       "      <td>1020253</td>\n",
       "      <td>618</td>\n",
       "      <td>1</td>\n",
       "      <td>NaN</td>\n",
       "    </tr>\n",
       "    <tr>\n",
       "      <th>freq</th>\n",
       "      <td>33</td>\n",
       "      <td>NaN</td>\n",
       "      <td>NaN</td>\n",
       "      <td>7</td>\n",
       "      <td>12</td>\n",
       "      <td>16</td>\n",
       "      <td>22</td>\n",
       "      <td>27</td>\n",
       "      <td>4</td>\n",
       "      <td>15</td>\n",
       "      <td>1</td>\n",
       "      <td>23</td>\n",
       "      <td>24</td>\n",
       "      <td>23</td>\n",
       "      <td>13</td>\n",
       "      <td>16</td>\n",
       "      <td>1</td>\n",
       "      <td>22</td>\n",
       "      <td>NaN</td>\n",
       "    </tr>\n",
       "    <tr>\n",
       "      <th>mean</th>\n",
       "      <td>NaN</td>\n",
       "      <td>174.727273</td>\n",
       "      <td>1222.909091</td>\n",
       "      <td>NaN</td>\n",
       "      <td>NaN</td>\n",
       "      <td>NaN</td>\n",
       "      <td>NaN</td>\n",
       "      <td>NaN</td>\n",
       "      <td>NaN</td>\n",
       "      <td>NaN</td>\n",
       "      <td>NaN</td>\n",
       "      <td>NaN</td>\n",
       "      <td>NaN</td>\n",
       "      <td>NaN</td>\n",
       "      <td>NaN</td>\n",
       "      <td>NaN</td>\n",
       "      <td>NaN</td>\n",
       "      <td>NaN</td>\n",
       "      <td>2.0</td>\n",
       "    </tr>\n",
       "    <tr>\n",
       "      <th>std</th>\n",
       "      <td>NaN</td>\n",
       "      <td>275.832068</td>\n",
       "      <td>167.624648</td>\n",
       "      <td>NaN</td>\n",
       "      <td>NaN</td>\n",
       "      <td>NaN</td>\n",
       "      <td>NaN</td>\n",
       "      <td>NaN</td>\n",
       "      <td>NaN</td>\n",
       "      <td>NaN</td>\n",
       "      <td>NaN</td>\n",
       "      <td>NaN</td>\n",
       "      <td>NaN</td>\n",
       "      <td>NaN</td>\n",
       "      <td>NaN</td>\n",
       "      <td>NaN</td>\n",
       "      <td>NaN</td>\n",
       "      <td>NaN</td>\n",
       "      <td>0.0</td>\n",
       "    </tr>\n",
       "    <tr>\n",
       "      <th>min</th>\n",
       "      <td>NaN</td>\n",
       "      <td>22.000000</td>\n",
       "      <td>750.000000</td>\n",
       "      <td>NaN</td>\n",
       "      <td>NaN</td>\n",
       "      <td>NaN</td>\n",
       "      <td>NaN</td>\n",
       "      <td>NaN</td>\n",
       "      <td>NaN</td>\n",
       "      <td>NaN</td>\n",
       "      <td>NaN</td>\n",
       "      <td>NaN</td>\n",
       "      <td>NaN</td>\n",
       "      <td>NaN</td>\n",
       "      <td>NaN</td>\n",
       "      <td>NaN</td>\n",
       "      <td>NaN</td>\n",
       "      <td>NaN</td>\n",
       "      <td>2.0</td>\n",
       "    </tr>\n",
       "    <tr>\n",
       "      <th>25%</th>\n",
       "      <td>NaN</td>\n",
       "      <td>25.000000</td>\n",
       "      <td>1100.000000</td>\n",
       "      <td>NaN</td>\n",
       "      <td>NaN</td>\n",
       "      <td>NaN</td>\n",
       "      <td>NaN</td>\n",
       "      <td>NaN</td>\n",
       "      <td>NaN</td>\n",
       "      <td>NaN</td>\n",
       "      <td>NaN</td>\n",
       "      <td>NaN</td>\n",
       "      <td>NaN</td>\n",
       "      <td>NaN</td>\n",
       "      <td>NaN</td>\n",
       "      <td>NaN</td>\n",
       "      <td>NaN</td>\n",
       "      <td>NaN</td>\n",
       "      <td>2.0</td>\n",
       "    </tr>\n",
       "    <tr>\n",
       "      <th>50%</th>\n",
       "      <td>NaN</td>\n",
       "      <td>66.000000</td>\n",
       "      <td>1250.000000</td>\n",
       "      <td>NaN</td>\n",
       "      <td>NaN</td>\n",
       "      <td>NaN</td>\n",
       "      <td>NaN</td>\n",
       "      <td>NaN</td>\n",
       "      <td>NaN</td>\n",
       "      <td>NaN</td>\n",
       "      <td>NaN</td>\n",
       "      <td>NaN</td>\n",
       "      <td>NaN</td>\n",
       "      <td>NaN</td>\n",
       "      <td>NaN</td>\n",
       "      <td>NaN</td>\n",
       "      <td>NaN</td>\n",
       "      <td>NaN</td>\n",
       "      <td>2.0</td>\n",
       "    </tr>\n",
       "    <tr>\n",
       "      <th>75%</th>\n",
       "      <td>NaN</td>\n",
       "      <td>132.000000</td>\n",
       "      <td>1350.000000</td>\n",
       "      <td>NaN</td>\n",
       "      <td>NaN</td>\n",
       "      <td>NaN</td>\n",
       "      <td>NaN</td>\n",
       "      <td>NaN</td>\n",
       "      <td>NaN</td>\n",
       "      <td>NaN</td>\n",
       "      <td>NaN</td>\n",
       "      <td>NaN</td>\n",
       "      <td>NaN</td>\n",
       "      <td>NaN</td>\n",
       "      <td>NaN</td>\n",
       "      <td>NaN</td>\n",
       "      <td>NaN</td>\n",
       "      <td>NaN</td>\n",
       "      <td>2.0</td>\n",
       "    </tr>\n",
       "    <tr>\n",
       "      <th>max</th>\n",
       "      <td>NaN</td>\n",
       "      <td>1102.000000</td>\n",
       "      <td>1400.000000</td>\n",
       "      <td>NaN</td>\n",
       "      <td>NaN</td>\n",
       "      <td>NaN</td>\n",
       "      <td>NaN</td>\n",
       "      <td>NaN</td>\n",
       "      <td>NaN</td>\n",
       "      <td>NaN</td>\n",
       "      <td>NaN</td>\n",
       "      <td>NaN</td>\n",
       "      <td>NaN</td>\n",
       "      <td>NaN</td>\n",
       "      <td>NaN</td>\n",
       "      <td>NaN</td>\n",
       "      <td>NaN</td>\n",
       "      <td>NaN</td>\n",
       "      <td>2.0</td>\n",
       "    </tr>\n",
       "  </tbody>\n",
       "</table>\n",
       "</div>"
      ],
      "text/plain": [
       "                       Material (Nombre)  Kilos Venta KG       Precio  \\\n",
       "count                                 33       33.000000    33.000000   \n",
       "unique                                 1             NaN          NaN   \n",
       "top     1010078(Trutro Entero Selección)             NaN          NaN   \n",
       "freq                                  33             NaN          NaN   \n",
       "mean                                 NaN      174.727273  1222.909091   \n",
       "std                                  NaN      275.832068   167.624648   \n",
       "min                                  NaN       22.000000   750.000000   \n",
       "25%                                  NaN       25.000000  1100.000000   \n",
       "50%                                  NaN       66.000000  1250.000000   \n",
       "75%                                  NaN      132.000000  1350.000000   \n",
       "max                                  NaN     1102.000000  1400.000000   \n",
       "\n",
       "       Día natural Día Semana Semana    Mes   Año    Población  \\\n",
       "count           33         33     33     33    33           33   \n",
       "unique          20          5     15     10     4           20   \n",
       "top     2018-01-03  Miércoles      1  Enero  2018  Puente Alto   \n",
       "freq             7         12     16     22    27            4   \n",
       "mean           NaN        NaN    NaN    NaN   NaN          NaN   \n",
       "std            NaN        NaN    NaN    NaN   NaN          NaN   \n",
       "min            NaN        NaN    NaN    NaN   NaN          NaN   \n",
       "25%            NaN        NaN    NaN    NaN   NaN          NaN   \n",
       "50%            NaN        NaN    NaN    NaN   NaN          NaN   \n",
       "75%            NaN        NaN    NaN    NaN   NaN          NaN   \n",
       "max            NaN        NaN    NaN    NaN   NaN          NaN   \n",
       "\n",
       "                     Centro  Cliente  Cluster            Segmento.1  \\\n",
       "count                    33       33       33                    33   \n",
       "unique                    3       33        3                     3   \n",
       "top     Sucursal Miraflores  9251558  Clásico  Cobertura Mediano SD   \n",
       "freq                     15        1       23                    24   \n",
       "mean                    NaN      NaN      NaN                   NaN   \n",
       "std                     NaN      NaN      NaN                   NaN   \n",
       "min                     NaN      NaN      NaN                   NaN   \n",
       "25%                     NaN      NaN      NaN                   NaN   \n",
       "50%                     NaN      NaN      NaN                   NaN   \n",
       "75%                     NaN      NaN      NaN                   NaN   \n",
       "max                     NaN      NaN      NaN                   NaN   \n",
       "\n",
       "           Categoría Cliente Año Creación Material Favorito  \\\n",
       "count                     33           33                33   \n",
       "unique                     4           11                 6   \n",
       "top     Especialista en Crud         2007           1020253   \n",
       "freq                      23           13                16   \n",
       "mean                     NaN          NaN               NaN   \n",
       "std                      NaN          NaN               NaN   \n",
       "min                      NaN          NaN               NaN   \n",
       "25%                      NaN          NaN               NaN   \n",
       "50%                      NaN          NaN               NaN   \n",
       "75%                      NaN          NaN               NaN   \n",
       "max                      NaN          NaN               NaN   \n",
       "\n",
       "       Frecuencia Historica Mes_num  Frecuency_Row  \n",
       "count                    33      33           33.0  \n",
       "unique                   33      10            NaN  \n",
       "top                     618       1            NaN  \n",
       "freq                      1      22            NaN  \n",
       "mean                    NaN     NaN            2.0  \n",
       "std                     NaN     NaN            0.0  \n",
       "min                     NaN     NaN            2.0  \n",
       "25%                     NaN     NaN            2.0  \n",
       "50%                     NaN     NaN            2.0  \n",
       "75%                     NaN     NaN            2.0  \n",
       "max                     NaN     NaN            2.0  "
      ]
     },
     "execution_count": 97,
     "metadata": {},
     "output_type": "execute_result"
    }
   ],
   "source": [
    "data_i_F[(data_i_F.Frecuency_Row==2)].describe(include='all')"
   ]
  },
  {
   "cell_type": "markdown",
   "id": "704a09f9",
   "metadata": {
    "heading_collapsed": true,
    "hidden": true
   },
   "source": [
    "### Histograma Sencillo"
   ]
  },
  {
   "cell_type": "code",
   "execution_count": null,
   "id": "352475e2",
   "metadata": {
    "hidden": true
   },
   "outputs": [],
   "source": [
    "df_fecha_fin.columns"
   ]
  },
  {
   "cell_type": "code",
   "execution_count": null,
   "id": "312187e4",
   "metadata": {
    "hidden": true
   },
   "outputs": [],
   "source": [
    "df_fecha_fin.hist(bins=30 ,legend=True\n",
    "#                                     ,xlabel=\n",
    "#                                     ,color='red'\n",
    "                                   ,column =['Recency Actual','Frecuency_Row']\n",
    "                                   )"
   ]
  },
  {
   "cell_type": "code",
   "execution_count": null,
   "id": "c29f9a0f",
   "metadata": {
    "hidden": true
   },
   "outputs": [],
   "source": [
    "pd.DataFrame({\n",
    "    'length': [1.5, 0.5, 1.2, 0.9, 3],\n",
    "         'width': [0.7, 0.2, 0.15, 0.2, 1.1]\n",
    "        }, index=['pig', 'rabbit', 'duck', 'chicken', 'horse']).hist(bins=3,legend=True)"
   ]
  },
  {
   "cell_type": "markdown",
   "id": "a8d9eec0",
   "metadata": {
    "hidden": true
   },
   "source": [
    "##### Grafico "
   ]
  },
  {
   "cell_type": "markdown",
   "id": "229ce26b",
   "metadata": {
    "hidden": true
   },
   "source": [
    "###### plop"
   ]
  },
  {
   "cell_type": "code",
   "execution_count": null,
   "id": "300c4f5b",
   "metadata": {
    "hidden": true,
    "scrolled": true
   },
   "outputs": [],
   "source": [
    "df_fecha_fin.hist()"
   ]
  },
  {
   "cell_type": "code",
   "execution_count": null,
   "id": "03064dd9",
   "metadata": {
    "hidden": true
   },
   "outputs": [],
   "source": [
    "ggplot()\\\n",
    "    +geom_histogram(df_fecha_fin,aes(x='Recency Actual')\n",
    "                    ,fill='r',bins=30,alpha=1\n",
    "                   \n",
    "                   )\\\n",
    "    +geom_histogram(df_g,aes(x='Recency Promedio Cliente')\n",
    "                    ,fill='b',bins=30,alpha=0.5\n",
    "                   \n",
    "                   )\\\n",
    "        \n",
    "#     +geom_histogram(data=df_g,bins=30,)\n",
    "    #binwidth=0.5)\n",
    "# (mapping=None, data=data_i_F, stat='bin', position='stack',\n",
    "#                na_rm=False, inherit_aes=True, show_legend=None, raster=False)\n",
    "#                **kwargs)"
   ]
  },
  {
   "cell_type": "markdown",
   "id": "c06c4e7d",
   "metadata": {
    "heading_collapsed": true,
    "hidden": true
   },
   "source": [
    "###### union "
   ]
  },
  {
   "cell_type": "code",
   "execution_count": null,
   "id": "cb0a61d9",
   "metadata": {
    "hidden": true
   },
   "outputs": [],
   "source": [
    "print(df_fecha_fin.shape,\n",
    "     df_g.shape)\n",
    "pd.merge(df_fecha_fin\n",
    ",df_g,how= 'inner').shape"
   ]
  },
  {
   "cell_type": "code",
   "execution_count": null,
   "id": "55e4814c",
   "metadata": {
    "hidden": true
   },
   "outputs": [],
   "source": [
    "#  {'left', 'right', 'outer', 'inner', 'cross'}, default 'inner'\n",
    "print(df_fecha_fin.shape,\n",
    "     df.shape)\n",
    "\n",
    "df_merg=pd.merge(df_fecha_fin\n",
    ",df_g,how= 'inner')\n",
    "df_merg.shape"
   ]
  },
  {
   "cell_type": "code",
   "execution_count": null,
   "id": "432c8af8",
   "metadata": {
    "hidden": true
   },
   "outputs": [],
   "source": [
    "#  {'left', 'right', 'outer', 'inner', 'cross'}, default 'inner'\n",
    "print(df_fecha_fin.shape,\n",
    "     df.shape)\n",
    "\n",
    "df_merg=pd.concat([df_fecha_fin\n",
    ",df_g])\n",
    "df_merg.shape"
   ]
  },
  {
   "cell_type": "code",
   "execution_count": null,
   "id": "512350f1",
   "metadata": {
    "hidden": true
   },
   "outputs": [],
   "source": [
    "df_merg.head()"
   ]
  },
  {
   "cell_type": "markdown",
   "id": "8ae68c3c",
   "metadata": {},
   "source": [
    "## Histograma"
   ]
  },
  {
   "cell_type": "markdown",
   "id": "12b14b35",
   "metadata": {},
   "source": [
    "##### Listado Histogramas "
   ]
  },
  {
   "cell_type": "markdown",
   "id": "127fa92a",
   "metadata": {},
   "source": [
    "###### Datos "
   ]
  },
  {
   "cell_type": "code",
   "execution_count": 115,
   "id": "ee6be355",
   "metadata": {},
   "outputs": [
    {
     "data": {
      "text/plain": [
       "'Frecuency Actual del Cliente'"
      ]
     },
     "execution_count": 115,
     "metadata": {},
     "output_type": "execute_result"
    }
   ],
   "source": [
    "Dic_col['RFM Customers'][1]"
   ]
  },
  {
   "cell_type": "code",
   "execution_count": 113,
   "id": "3fe0e31c",
   "metadata": {},
   "outputs": [
    {
     "data": {
      "text/plain": [
       "0       0.003344\n",
       "1       0.201752\n",
       "2       0.059365\n",
       "3       0.039591\n",
       "4       0.017541\n",
       "          ...   \n",
       "5068    0.056885\n",
       "5069    0.408158\n",
       "5070    0.015996\n",
       "5071    0.025931\n",
       "5072    0.003344\n",
       "Name: Frecuency Actual del Cliente, Length: 5073, dtype: float64"
      ]
     },
     "execution_count": 113,
     "metadata": {},
     "output_type": "execute_result"
    }
   ],
   "source": [
    "Clientes_i_RFM['Frecuency Actual del Cliente']"
   ]
  },
  {
   "cell_type": "code",
   "execution_count": 110,
   "id": "050a0688",
   "metadata": {
    "collapsed": true
   },
   "outputs": [
    {
     "ename": "KeyError",
     "evalue": "\"['Frecuency Actual', 'Monetary Actual'] not in index\"",
     "output_type": "error",
     "traceback": [
      "\u001b[1;31m---------------------------------------------------------------------------\u001b[0m",
      "\u001b[1;31mKeyError\u001b[0m                                  Traceback (most recent call last)",
      "\u001b[1;32m<ipython-input-110-83c6f470bc50>\u001b[0m in \u001b[0;36m<module>\u001b[1;34m\u001b[0m\n\u001b[1;32m----> 1\u001b[1;33m \u001b[0mClientes_i_RFM\u001b[0m\u001b[1;33m[\u001b[0m\u001b[0mDic_col\u001b[0m\u001b[1;33m[\u001b[0m\u001b[1;34m'RFM Customers'\u001b[0m\u001b[1;33m]\u001b[0m\u001b[1;33m]\u001b[0m\u001b[1;33m\u001b[0m\u001b[1;33m\u001b[0m\u001b[0m\n\u001b[0m",
      "\u001b[1;32m~\\anaconda3\\lib\\site-packages\\pandas\\core\\frame.py\u001b[0m in \u001b[0;36m__getitem__\u001b[1;34m(self, key)\u001b[0m\n\u001b[0;32m   3028\u001b[0m             \u001b[1;32mif\u001b[0m \u001b[0mis_iterator\u001b[0m\u001b[1;33m(\u001b[0m\u001b[0mkey\u001b[0m\u001b[1;33m)\u001b[0m\u001b[1;33m:\u001b[0m\u001b[1;33m\u001b[0m\u001b[1;33m\u001b[0m\u001b[0m\n\u001b[0;32m   3029\u001b[0m                 \u001b[0mkey\u001b[0m \u001b[1;33m=\u001b[0m \u001b[0mlist\u001b[0m\u001b[1;33m(\u001b[0m\u001b[0mkey\u001b[0m\u001b[1;33m)\u001b[0m\u001b[1;33m\u001b[0m\u001b[1;33m\u001b[0m\u001b[0m\n\u001b[1;32m-> 3030\u001b[1;33m             \u001b[0mindexer\u001b[0m \u001b[1;33m=\u001b[0m \u001b[0mself\u001b[0m\u001b[1;33m.\u001b[0m\u001b[0mloc\u001b[0m\u001b[1;33m.\u001b[0m\u001b[0m_get_listlike_indexer\u001b[0m\u001b[1;33m(\u001b[0m\u001b[0mkey\u001b[0m\u001b[1;33m,\u001b[0m \u001b[0maxis\u001b[0m\u001b[1;33m=\u001b[0m\u001b[1;36m1\u001b[0m\u001b[1;33m,\u001b[0m \u001b[0mraise_missing\u001b[0m\u001b[1;33m=\u001b[0m\u001b[1;32mTrue\u001b[0m\u001b[1;33m)\u001b[0m\u001b[1;33m[\u001b[0m\u001b[1;36m1\u001b[0m\u001b[1;33m]\u001b[0m\u001b[1;33m\u001b[0m\u001b[1;33m\u001b[0m\u001b[0m\n\u001b[0m\u001b[0;32m   3031\u001b[0m \u001b[1;33m\u001b[0m\u001b[0m\n\u001b[0;32m   3032\u001b[0m         \u001b[1;31m# take() does not accept boolean indexers\u001b[0m\u001b[1;33m\u001b[0m\u001b[1;33m\u001b[0m\u001b[1;33m\u001b[0m\u001b[0m\n",
      "\u001b[1;32m~\\anaconda3\\lib\\site-packages\\pandas\\core\\indexing.py\u001b[0m in \u001b[0;36m_get_listlike_indexer\u001b[1;34m(self, key, axis, raise_missing)\u001b[0m\n\u001b[0;32m   1264\u001b[0m             \u001b[0mkeyarr\u001b[0m\u001b[1;33m,\u001b[0m \u001b[0mindexer\u001b[0m\u001b[1;33m,\u001b[0m \u001b[0mnew_indexer\u001b[0m \u001b[1;33m=\u001b[0m \u001b[0max\u001b[0m\u001b[1;33m.\u001b[0m\u001b[0m_reindex_non_unique\u001b[0m\u001b[1;33m(\u001b[0m\u001b[0mkeyarr\u001b[0m\u001b[1;33m)\u001b[0m\u001b[1;33m\u001b[0m\u001b[1;33m\u001b[0m\u001b[0m\n\u001b[0;32m   1265\u001b[0m \u001b[1;33m\u001b[0m\u001b[0m\n\u001b[1;32m-> 1266\u001b[1;33m         \u001b[0mself\u001b[0m\u001b[1;33m.\u001b[0m\u001b[0m_validate_read_indexer\u001b[0m\u001b[1;33m(\u001b[0m\u001b[0mkeyarr\u001b[0m\u001b[1;33m,\u001b[0m \u001b[0mindexer\u001b[0m\u001b[1;33m,\u001b[0m \u001b[0maxis\u001b[0m\u001b[1;33m,\u001b[0m \u001b[0mraise_missing\u001b[0m\u001b[1;33m=\u001b[0m\u001b[0mraise_missing\u001b[0m\u001b[1;33m)\u001b[0m\u001b[1;33m\u001b[0m\u001b[1;33m\u001b[0m\u001b[0m\n\u001b[0m\u001b[0;32m   1267\u001b[0m         \u001b[1;32mreturn\u001b[0m \u001b[0mkeyarr\u001b[0m\u001b[1;33m,\u001b[0m \u001b[0mindexer\u001b[0m\u001b[1;33m\u001b[0m\u001b[1;33m\u001b[0m\u001b[0m\n\u001b[0;32m   1268\u001b[0m \u001b[1;33m\u001b[0m\u001b[0m\n",
      "\u001b[1;32m~\\anaconda3\\lib\\site-packages\\pandas\\core\\indexing.py\u001b[0m in \u001b[0;36m_validate_read_indexer\u001b[1;34m(self, key, indexer, axis, raise_missing)\u001b[0m\n\u001b[0;32m   1314\u001b[0m             \u001b[1;32mif\u001b[0m \u001b[0mraise_missing\u001b[0m\u001b[1;33m:\u001b[0m\u001b[1;33m\u001b[0m\u001b[1;33m\u001b[0m\u001b[0m\n\u001b[0;32m   1315\u001b[0m                 \u001b[0mnot_found\u001b[0m \u001b[1;33m=\u001b[0m \u001b[0mlist\u001b[0m\u001b[1;33m(\u001b[0m\u001b[0mset\u001b[0m\u001b[1;33m(\u001b[0m\u001b[0mkey\u001b[0m\u001b[1;33m)\u001b[0m \u001b[1;33m-\u001b[0m \u001b[0mset\u001b[0m\u001b[1;33m(\u001b[0m\u001b[0max\u001b[0m\u001b[1;33m)\u001b[0m\u001b[1;33m)\u001b[0m\u001b[1;33m\u001b[0m\u001b[1;33m\u001b[0m\u001b[0m\n\u001b[1;32m-> 1316\u001b[1;33m                 \u001b[1;32mraise\u001b[0m \u001b[0mKeyError\u001b[0m\u001b[1;33m(\u001b[0m\u001b[1;34mf\"{not_found} not in index\"\u001b[0m\u001b[1;33m)\u001b[0m\u001b[1;33m\u001b[0m\u001b[1;33m\u001b[0m\u001b[0m\n\u001b[0m\u001b[0;32m   1317\u001b[0m \u001b[1;33m\u001b[0m\u001b[0m\n\u001b[0;32m   1318\u001b[0m             \u001b[0mnot_found\u001b[0m \u001b[1;33m=\u001b[0m \u001b[0mkey\u001b[0m\u001b[1;33m[\u001b[0m\u001b[0mmissing_mask\u001b[0m\u001b[1;33m]\u001b[0m\u001b[1;33m\u001b[0m\u001b[1;33m\u001b[0m\u001b[0m\n",
      "\u001b[1;31mKeyError\u001b[0m: \"['Frecuency Actual', 'Monetary Actual'] not in index\""
     ]
    }
   ],
   "source": [
    "Clientes_i_RFM[Dic_col['RFM Customers']]"
   ]
  },
  {
   "cell_type": "code",
   "execution_count": 116,
   "id": "4a2870f0",
   "metadata": {},
   "outputs": [
    {
     "data": {
      "text/html": [
       "<div>\n",
       "<style scoped>\n",
       "    .dataframe tbody tr th:only-of-type {\n",
       "        vertical-align: middle;\n",
       "    }\n",
       "\n",
       "    .dataframe tbody tr th {\n",
       "        vertical-align: top;\n",
       "    }\n",
       "\n",
       "    .dataframe thead th {\n",
       "        text-align: right;\n",
       "    }\n",
       "</style>\n",
       "<table border=\"1\" class=\"dataframe\">\n",
       "  <thead>\n",
       "    <tr style=\"text-align: right;\">\n",
       "      <th></th>\n",
       "      <th>Cliente</th>\n",
       "      <th>Frecuency Promedio Cliente</th>\n",
       "    </tr>\n",
       "  </thead>\n",
       "  <tbody>\n",
       "    <tr>\n",
       "      <th>0</th>\n",
       "      <td>10003742</td>\n",
       "      <td>1.000000</td>\n",
       "    </tr>\n",
       "    <tr>\n",
       "      <th>1</th>\n",
       "      <td>10007508</td>\n",
       "      <td>0.004808</td>\n",
       "    </tr>\n",
       "    <tr>\n",
       "      <th>2</th>\n",
       "      <td>10017269</td>\n",
       "      <td>0.012821</td>\n",
       "    </tr>\n",
       "    <tr>\n",
       "      <th>3</th>\n",
       "      <td>10023880</td>\n",
       "      <td>0.050000</td>\n",
       "    </tr>\n",
       "    <tr>\n",
       "      <th>4</th>\n",
       "      <td>10028999</td>\n",
       "      <td>0.076923</td>\n",
       "    </tr>\n",
       "    <tr>\n",
       "      <th>...</th>\n",
       "      <td>...</td>\n",
       "      <td>...</td>\n",
       "    </tr>\n",
       "    <tr>\n",
       "      <th>5068</th>\n",
       "      <td>9992154</td>\n",
       "      <td>0.014286</td>\n",
       "    </tr>\n",
       "    <tr>\n",
       "      <th>5069</th>\n",
       "      <td>9993925</td>\n",
       "      <td>0.007366</td>\n",
       "    </tr>\n",
       "    <tr>\n",
       "      <th>5070</th>\n",
       "      <td>9994662</td>\n",
       "      <td>0.090909</td>\n",
       "    </tr>\n",
       "    <tr>\n",
       "      <th>5071</th>\n",
       "      <td>9994800</td>\n",
       "      <td>0.333333</td>\n",
       "    </tr>\n",
       "    <tr>\n",
       "      <th>5072</th>\n",
       "      <td>9997223</td>\n",
       "      <td>1.000000</td>\n",
       "    </tr>\n",
       "  </tbody>\n",
       "</table>\n",
       "<p>5073 rows × 2 columns</p>\n",
       "</div>"
      ],
      "text/plain": [
       "       Cliente  Frecuency Promedio Cliente\n",
       "0     10003742                    1.000000\n",
       "1     10007508                    0.004808\n",
       "2     10017269                    0.012821\n",
       "3     10023880                    0.050000\n",
       "4     10028999                    0.076923\n",
       "...        ...                         ...\n",
       "5068   9992154                    0.014286\n",
       "5069   9993925                    0.007366\n",
       "5070   9994662                    0.090909\n",
       "5071   9994800                    0.333333\n",
       "5072   9997223                    1.000000\n",
       "\n",
       "[5073 rows x 2 columns]"
      ]
     },
     "execution_count": 116,
     "metadata": {},
     "output_type": "execute_result"
    }
   ],
   "source": [
    "df_F_row_Promedio"
   ]
  },
  {
   "cell_type": "code",
   "execution_count": 123,
   "id": "6e922e0b",
   "metadata": {},
   "outputs": [],
   "source": [
    "list_df=[Clientes_i_RFM\n",
    "\n",
    "         ,data_i_F\n",
    "\n",
    "         ,df_F_row_Promedio\n",
    "        ]\n",
    "\n",
    "list_Xcol=['Frecuency Actual del Cliente'\n",
    "\n",
    "             ,'Frecuency_Row'\n",
    "\n",
    "            ,'Frecuency Promedio Cliente'\n",
    "            ]\n",
    "\n",
    "List_Colores=['#1F77B4', '#DB6061','#57DB5F']\n",
    "\n",
    "List_Title=['Frecuency actual del Cliente'\n",
    "\n",
    "             ,'Frecuency Facturas'\n",
    "\n",
    "            ,'Frecuency Promedio del Cliente'\n",
    "            ]"
   ]
  },
  {
   "cell_type": "markdown",
   "id": "848f6b75",
   "metadata": {},
   "source": [
    "###### Cantidad de datos"
   ]
  },
  {
   "cell_type": "code",
   "execution_count": 124,
   "id": "add5d32c",
   "metadata": {
    "scrolled": true
   },
   "outputs": [
    {
     "data": {
      "image/png": "[encoded data removed]",
      "text/plain": [
       "<Figure size 640x480 with 1 Axes>"
      ]
     },
     "metadata": {},
     "output_type": "display_data"
    },
    {
     "data": {
      "image/png": "[encoded data removed]",
      "text/plain": [
       "<Figure size 640x480 with 1 Axes>"
      ]
     },
     "metadata": {},
     "output_type": "display_data"
    },
    {
     "data": {
      "image/png": "[encoded data removed]",
      "text/plain": [
       "<Figure size 640x480 with 1 Axes>"
      ]
     },
     "metadata": {},
     "output_type": "display_data"
    },
    {
     "data": {
      "text/plain": [
       "[<ggplot: (140265799952)>, <ggplot: (140265472247)>, <ggplot: (140277443410)>]"
      ]
     },
     "execution_count": 124,
     "metadata": {},
     "output_type": "execute_result"
    }
   ],
   "source": [
    "[(\n",
    "    \n",
    "    ggplot(\n",
    "    list_df[i]\n",
    "    ,aes(x= (list_Xcol[i])\n",
    "        \n",
    "        ))\n",
    "    \n",
    "    +geom_histogram(fill=List_Colores\n",
    "                    [i],bins=30,alpha=1)\n",
    "#      +scale_x_discrete(breaks= range(0,1100))\n",
    "    \n",
    "     +xlab('Días')\n",
    "     +ggtitle(List_Title[i])\n",
    " )\n",
    " for i in range(len(list_df))]#len(list_df)"
   ]
  },
  {
   "cell_type": "markdown",
   "id": "a2fd0936",
   "metadata": {},
   "source": [
    "###### Porcentaje "
   ]
  },
  {
   "cell_type": "code",
   "execution_count": 119,
   "id": "6f851d46",
   "metadata": {},
   "outputs": [],
   "source": [
    "from mizani.formatters import percent_format"
   ]
  },
  {
   "cell_type": "code",
   "execution_count": 125,
   "id": "44769af7",
   "metadata": {
    "scrolled": true
   },
   "outputs": [
    {
     "data": {
      "image/png": "[encoded data removed]",
      "text/plain": [
       "<Figure size 300x300 with 1 Axes>"
      ]
     },
     "metadata": {},
     "output_type": "display_data"
    },
    {
     "data": {
      "image/png": "[encoded data removed]",
      "text/plain": [
       "<Figure size 300x300 with 1 Axes>"
      ]
     },
     "metadata": {},
     "output_type": "display_data"
    },
    {
     "data": {
      "image/png": "[encoded data removed]",
      "text/plain": [
       "<Figure size 300x300 with 1 Axes>"
      ]
     },
     "metadata": {},
     "output_type": "display_data"
    },
    {
     "data": {
      "text/plain": [
       "[<ggplot: (140277656796)>, <ggplot: (140277657853)>, <ggplot: (140277660341)>]"
      ]
     },
     "execution_count": 125,
     "metadata": {},
     "output_type": "execute_result"
    }
   ],
   "source": [
    "List_Graph_histo_Porcj=[(\n",
    "    \n",
    "    ggplot(\n",
    "    list_df[i]\n",
    "    ,aes(x= (list_Xcol[i])\n",
    "        ,y=after_stat('width*density')\n",
    "        ))\n",
    "    \n",
    "    +geom_histogram(fill=List_Colores\n",
    "                    [i],bins=30,alpha=1)\n",
    "#      +scale_x_discrete(breaks= range(0,1100))\n",
    "    + scale_y_continuous(labels=percent_format()) # display labels as a percentage\n",
    "    +xlab('Días')\n",
    "    +ylab('Porcentaje  de '+['Clientes','Facturaciones','Clientes'][i])\n",
    "    +ggtitle(List_Title[i])\n",
    "    \n",
    "    +theme(#axis_text_x = element_text(angle=90, hjust=1),\n",
    "           figure_size=(3,3),\n",
    "            axis_title_x=element_text(size = 10),\n",
    "            axis_title_y=element_text(size = 10),\n",
    "            title=element_text(size = 12)\n",
    "    \n",
    "    )#theme\n",
    "    \n",
    "    \n",
    "#     +scale_x_continuous(breaks =range(0,1750,250))\n",
    "\n",
    ")\n",
    " for i in range(len(list_df))]#len(list_df)\n",
    "\n",
    "List_Graph_histo_Porcj"
   ]
  },
  {
   "cell_type": "markdown",
   "id": "412b314d",
   "metadata": {},
   "source": [
    "### Save pdf /png "
   ]
  },
  {
   "cell_type": "markdown",
   "id": "ba24e607",
   "metadata": {},
   "source": [
    "##### PNG "
   ]
  },
  {
   "cell_type": "code",
   "execution_count": 126,
   "id": "0dc138a8",
   "metadata": {},
   "outputs": [
    {
     "data": {
      "text/plain": [
       "['Frecuency actual del Cliente',\n",
       " 'Frecuency Facturas',\n",
       " 'Frecuency Promedio del Cliente']"
      ]
     },
     "execution_count": 126,
     "metadata": {},
     "output_type": "execute_result"
    }
   ],
   "source": [
    "List_Title"
   ]
  },
  {
   "cell_type": "code",
   "execution_count": 127,
   "id": "88e80c6d",
   "metadata": {},
   "outputs": [
    {
     "name": "stdout",
     "output_type": "stream",
     "text": [
      "-----------\n",
      " Nombre del archivo \n",
      " Histograma (Frecuency actual del Cliente) del Canal_Tradic_ sobre el 1010078 \n",
      " Dirección \n",
      " C:\\Users\\user\\Documents\\Graficos\\Canal Tradicional\\1010078\\RFM\n"
     ]
    },
    {
     "name": "stderr",
     "output_type": "stream",
     "text": [
      "C:\\Users\\user\\anaconda3\\lib\\site-packages\\plotnine\\ggplot.py:719: PlotnineWarning: Saving 3 x 3 in image.\n",
      "C:\\Users\\user\\anaconda3\\lib\\site-packages\\plotnine\\ggplot.py:722: PlotnineWarning: Filename: C:\\Users\\user\\Documents\\Graficos\\Canal Tradicional\\1010078\\RFM\\Histograma (Frecuency actual del Cliente) del Canal_Tradic_ sobre el 1010078\n"
     ]
    },
    {
     "name": "stdout",
     "output_type": "stream",
     "text": [
      "-----------\n",
      " Nombre del archivo \n",
      " Histograma (Frecuency Facturas) del Canal_Tradic_ sobre el 1010078 \n",
      " Dirección \n",
      " C:\\Users\\user\\Documents\\Graficos\\Canal Tradicional\\1010078\\RFM\n"
     ]
    },
    {
     "name": "stderr",
     "output_type": "stream",
     "text": [
      "C:\\Users\\user\\anaconda3\\lib\\site-packages\\plotnine\\ggplot.py:719: PlotnineWarning: Saving 3 x 3 in image.\n",
      "C:\\Users\\user\\anaconda3\\lib\\site-packages\\plotnine\\ggplot.py:722: PlotnineWarning: Filename: C:\\Users\\user\\Documents\\Graficos\\Canal Tradicional\\1010078\\RFM\\Histograma (Frecuency Facturas) del Canal_Tradic_ sobre el 1010078\n"
     ]
    },
    {
     "name": "stdout",
     "output_type": "stream",
     "text": [
      "-----------\n",
      " Nombre del archivo \n",
      " Histograma (Frecuency Promedio del Cliente) del Canal_Tradic_ sobre el 1010078 \n",
      " Dirección \n",
      " C:\\Users\\user\\Documents\\Graficos\\Canal Tradicional\\1010078\\RFM\n"
     ]
    },
    {
     "name": "stderr",
     "output_type": "stream",
     "text": [
      "C:\\Users\\user\\anaconda3\\lib\\site-packages\\plotnine\\ggplot.py:719: PlotnineWarning: Saving 3 x 3 in image.\n",
      "C:\\Users\\user\\anaconda3\\lib\\site-packages\\plotnine\\ggplot.py:722: PlotnineWarning: Filename: C:\\Users\\user\\Documents\\Graficos\\Canal Tradicional\\1010078\\RFM\\Histograma (Frecuency Promedio del Cliente) del Canal_Tradic_ sobre el 1010078\n"
     ]
    }
   ],
   "source": [
    "# ```python\n",
    "j=0\n",
    "for i in List_Title:\n",
    "    G_Lista=List_Graph_histo_Porcj\n",
    "    file_name=('Histograma ('+ i +') del Canal_Tradic_ sobre el '+Y_producto)\n",
    "    \n",
    "    pngfill= Png_file_direct_Graphic_Canal_Material+\"\\\\RFM\"\n",
    "    \n",
    "    \n",
    "    print('-----------\\n Nombre del archivo \\n',\n",
    "          file_name,\n",
    "          '\\n Dirección \\n',pngfill)\n",
    "    ggsave(plot = G_Lista[j]\n",
    "       ,filename = file_name, \n",
    "       path =pngfill\n",
    "      ,dpi = 300\n",
    "      )\n",
    "    j+=1\n",
    "# ```"
   ]
  },
  {
   "cell_type": "code",
   "execution_count": 128,
   "id": "07428a49",
   "metadata": {},
   "outputs": [
    {
     "name": "stderr",
     "output_type": "stream",
     "text": [
      "C:\\Users\\user\\anaconda3\\lib\\site-packages\\plotnine\\ggplot.py:820: PlotnineWarning: Filename: C:\\Users\\user\\Documents\\Graficos\\Canal Tradicional\\1010078\\RFM\\Histogramas (Frecuency) del Canal_Tradic_ sobre el 1010078.pdf\n"
     ]
    },
    {
     "name": "stdout",
     "output_type": "stream",
     "text": [
      "Time Lapsed = 0:0:0.9953696727752686 \n",
      " H:m:s\n"
     ]
    }
   ],
   "source": [
    "# ```python\n",
    "#============================\n",
    "#\n",
    "#============================\n",
    "file_name=('Histogramas (Frecuency) del Canal_Tradic_ sobre el '+Y_producto)\n",
    "    \n",
    "pngfill= Png_file_direct_Graphic_Canal_Material+\"\\\\RFM\"\n",
    "\n",
    "start_time = time.time()\n",
    "save_as_pdf_pages(\n",
    "                    List_Graph_histo_Porcj\n",
    "                    ,pngfill \n",
    "            +\"\\\\\"+ file_name + \".pdf\")\n",
    "time_convert(time.time()-start_time)\n",
    "# ```"
   ]
  }
 ],
 "metadata": {
  "celltoolbar": "Raw Cell Format",
  "kernelspec": {
   "display_name": "Python 3",
   "language": "python",
   "name": "python3"
  },
  "language_info": {
   "codemirror_mode": {
    "name": "ipython",
    "version": 3
   },
   "file_extension": ".py",
   "mimetype": "text/x-python",
   "name": "python",
   "nbconvert_exporter": "python",
   "pygments_lexer": "ipython3",
   "version": "3.8.5"
  },
  "toc": {
   "base_numbering": 1,
   "nav_menu": {
    "height": "89px",
    "width": "334px"
   },
   "number_sections": true,
   "sideBar": true,
   "skip_h1_title": false,
   "title_cell": "Table of Contents",
   "title_sidebar": "Contents",
   "toc_cell": false,
   "toc_position": {
    "height": "calc(100% - 180px)",
    "left": "10px",
    "top": "150px",
    "width": "370.047px"
   },
   "toc_section_display": true,
   "toc_window_display": true
  }
 },
 "nbformat": 4,
 "nbformat_minor": 5
}
