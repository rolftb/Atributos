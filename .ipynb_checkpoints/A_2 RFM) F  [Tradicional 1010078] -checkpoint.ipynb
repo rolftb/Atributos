{
 "cells": [
  {
   "cell_type": "markdown",
   "id": "580b8db5",
   "metadata": {},
   "source": [
    "Notas:\n",
    "--------\n",
    "\n",
    "   - [x] __Construir la variable Recency.__\n",
    "        - [x] Sección para caso pequeño\n",
    "        - [x] Función para estadnarizar\n",
    "        - [x] Probar esta función\n",
    "        - [x] Implementar\n",
    "   - [ ] __Contruir Frecuency__\n",
    "        - [ ] Sección para caso pequeño\n",
    "        - [ ] Función para estadnarizar\n",
    "        - [ ] Probar esta función\n",
    "        - [ ] Implementar\n",
    "   - [ ] __Construir Monetary__\n",
    "        - [ ] Sección para caso pequeño\n",
    "        - [ ] Función para estadnarizar\n",
    "        - [ ] Probar esta función\n",
    "        - [ ] Implementar   "
   ]
  },
  {
   "cell_type": "code",
   "execution_count": 3,
   "id": "57c1f8e0",
   "metadata": {},
   "outputs": [],
   "source": [
    "#!jt -l\n",
    "# !jt -t oceans16 -T\n",
    "# !jt -r"
   ]
  },
  {
   "cell_type": "markdown",
   "id": "48cc505f",
   "metadata": {
    "heading_collapsed": true
   },
   "source": [
    "# Inicio\n"
   ]
  },
  {
   "cell_type": "markdown",
   "id": "7c2a8234",
   "metadata": {
    "hidden": true
   },
   "source": [
    "\n",
    "__Rename__\n",
    "Recordar que la columna llamada\n",
    "\n",
    "- `Precio promedio` ahora es `Precio`\n",
    "- `Centro.1` ahora es `Centro`\n",
    "- `Centro` ahora es `Centro_Cod`\n",
    "\n",
    "Presenta los parametros del modelo:\n",
    "\n",
    "- Dirección datos\n",
    "- Dirección Graficos\n",
    "- _Material a analizar_\n",
    "- _Canal a analizar_\n",
    "- _Zona de los Datos_\n",
    "- _Año de inicio de analizis_\n",
    "\n",
    "Base de datos\n",
    "\n",
    "\n",
    "`Tipo_de_Cliente`\n",
    "`Y_producto`\n",
    "`Año_inicio`\n",
    "\n",
    "`file_direct_Graphic` "
   ]
  },
  {
   "cell_type": "markdown",
   "id": "8bad43fc",
   "metadata": {
    "hidden": true
   },
   "source": [
    "## Parametros "
   ]
  },
  {
   "cell_type": "code",
   "execution_count": 4,
   "id": "a0737e98",
   "metadata": {
    "hidden": true
   },
   "outputs": [],
   "source": [
    "#===================================\n",
    "# Archivo\n",
    "#===================================\n",
    "Zona_df='Z001'\n",
    "\n",
    "#===================================\n",
    "# Clientes\n",
    "#===================================\n",
    "Tipo_de_Cliente='Tradicional'\n",
    "\n",
    "#===================================\n",
    "# Producto de interes\n",
    "#===================================\n",
    "Y_producto='1010078'\n",
    "\n",
    "\n",
    "#===================================\n",
    "# Año de Partida\n",
    "#===================================\n",
    "Año_inicio='2018'\n",
    "\n",
    "\n",
    "\n",
    "\n",
    "# Ordenador de escritorio\n",
    "\n",
    "file_direct_O=\"C:/Users/user/Documents/Data/Data Clear/\"+Zona_df+\"/\"\n",
    "file_direct_Clear=\"C:/Users/user/Documents/Data/Data Clear/\"\n",
    "file_direct_Graphic='C:/Users/user/Documents/Graficos'\n",
    "Png_file_direct_Graphic=\"C:\\\\Users\\\\user\\\\Documents\\\\Graficos\"\n",
    "\"\"\"\n",
    "\n",
    "#Notebook\n",
    "file_direct_O=\"C:/Users/rolft/Documents/Repositorios/Data/Data Clear/\"+Zona_df+\"/\"\n",
    "file_direct_Clear=\"C:/Users/rolft/Documents/Repositorios/Data/Data Clear/\"\n",
    "file_direct_Graphic='C:/Users/rolft/Documents/Repositorios/Graficos'\n",
    "Png_file_direct_Graphic='C:\\\\Users\\\\rolft\\\\Documents\\\\Repositorios\\\\Graficos'\n",
    "\"\"\"\n",
    "#Graficos\n",
    "file_direct_Graphic_Canal=file_direct_Graphic+\"/\"+Tipo_de_Cliente\n",
    "file_direct_Graphic_Canal_Material=file_direct_Graphic_Canal+'/'+Y_producto\n",
    "\n",
    "Png_file_direct_Graphic_Canal=Png_file_direct_Graphic+'\\\\'+'Canal '+Tipo_de_Cliente\n",
    "Png_file_direct_Graphic_Canal_Material=Png_file_direct_Graphic_Canal+'\\\\'+Y_producto\n"
   ]
  },
  {
   "cell_type": "markdown",
   "id": "f80e374d",
   "metadata": {
    "hidden": true
   },
   "source": [
    "## Intalar paquetes, Abrir data y ajustarla "
   ]
  },
  {
   "cell_type": "markdown",
   "id": "6a7c4706",
   "metadata": {
    "hidden": true
   },
   "source": [
    "### import"
   ]
  },
  {
   "cell_type": "code",
   "execution_count": 5,
   "id": "faaa036d",
   "metadata": {
    "hidden": true,
    "scrolled": true
   },
   "outputs": [],
   "source": [
    "#from adjustText import adjust_text\n",
    "# from adjustText import *"
   ]
  },
  {
   "cell_type": "code",
   "execution_count": 6,
   "id": "0ea91ad7",
   "metadata": {
    "hidden": true
   },
   "outputs": [],
   "source": [
    "#=====================================================\n",
    "                # BASE \n",
    "#-----------------------------------------------------\n",
    "import pandas as pd\n",
    "import numpy as np\n",
    "import matplotlib.pyplot as plt\n",
    "\n",
    "#from geopandas import *\n",
    "\n",
    "from plotnine import *\n",
    "\n",
    "#para ajustar las fechas\n",
    "import datetime\n",
    "\n",
    "#para calcular el skew de un array() o list()\n",
    "from scipy.stats import skew "
   ]
  },
  {
   "cell_type": "code",
   "execution_count": 7,
   "id": "8916d4cd",
   "metadata": {
    "hidden": true
   },
   "outputs": [],
   "source": [
    "#=====================================================\n",
    "                # sklearn \n",
    "#-----------------------------------------------------\n",
    "\n",
    "#Separador de datos en train/test\n",
    "from sklearn.model_selection import train_test_split\n",
    "\n",
    "#Prediccion Ridge Regression\n",
    "from sklearn.linear_model import Ridge"
   ]
  },
  {
   "cell_type": "code",
   "execution_count": 8,
   "id": "8d82be85",
   "metadata": {
    "hidden": true
   },
   "outputs": [],
   "source": [
    "#=====================================================\n",
    "                # statsmodels \n",
    "#-----------------------------------------------------\n",
    "import statsmodels.api as sm\n",
    "import statsmodels.formula.api as smf\n",
    "from statsmodels.tools.sm_exceptions import ConvergenceWarning\n",
    "\n",
    "\n",
    "#from statsmodels.regression.mixed_linear_model import MixedLMResults\n",
    "# No se para qué sirve este"
   ]
  },
  {
   "cell_type": "code",
   "execution_count": 9,
   "id": "734ff701",
   "metadata": {
    "hidden": true
   },
   "outputs": [],
   "source": [
    "#====================================================\n",
    "#librerias para crear division de series temporales\n",
    "#====================================================\n",
    "\n",
    "from mizani.breaks import date_breaks\n",
    "from mizani.formatters import date_format"
   ]
  },
  {
   "cell_type": "code",
   "execution_count": 10,
   "id": "34160d20",
   "metadata": {
    "hidden": true
   },
   "outputs": [],
   "source": [
    "# stopwatch\n",
    "import time\n",
    "def time_convert(sec):\n",
    "  mins = sec // 60\n",
    "  sec = sec % 60\n",
    "  hours = mins // 60\n",
    "  mins = mins % 60\n",
    "  print(\"Time Lapsed = {0}:{1}:{2}\".format(int(hours),int(mins),sec),'\\n H:m:s')\n",
    "#==================================\n",
    "#          Example\n",
    "#    input(\"Press Enter to start\")\n",
    "start_time = time.time()\n",
    "#    input(\"Press Enter to stop\")\n",
    "#    end_time = time.time()\n",
    "#    time_lapsed = end_time - start_time\n",
    "#    time_convert(time_lapsed)\n",
    "#================================="
   ]
  },
  {
   "cell_type": "markdown",
   "id": "0e0194b5",
   "metadata": {
    "hidden": true
   },
   "source": [
    "### Funciones \n",
    "```python\n",
    "#Mes_name\n",
    "data_i.Mes.apply(Mes_name)\n",
    "```\n",
    ">Transforma la columna mes numerica en el nombre del mes"
   ]
  },
  {
   "cell_type": "markdown",
   "id": "76bc8afd",
   "metadata": {
    "hidden": true
   },
   "source": [
    "__Forma de crear una etiqueta para un valor especifico__\n",
    "```python\n",
    "#[Y_Graph]\n",
    "dfz=df.copy()\n",
    "dfz['Año select']=dfz.apply( lambda x: x['Año'] if x['Año']==2020 else '',axis=1)\n",
    "dfz\n",
    "```"
   ]
  },
  {
   "cell_type": "code",
   "execution_count": 11,
   "id": "ad8627c9",
   "metadata": {
    "hidden": true
   },
   "outputs": [],
   "source": [
    "#===================================\n",
    "# Dicionario MES\n",
    "#===================================\n",
    "\n",
    "#===================================\n",
    "# Fecha\n",
    "D=['Enero','Febrero','Marzo','Abril',\n",
    " 'Mayo','Junio','Julio','Agosto',\n",
    " 'Septiembre','Octubre',\n",
    " 'Noviembre','Diciembre']\n",
    "Month_dic={i:D[i-1]  for i in range(1,13)}\n",
    "#===========================================\n",
    "\n",
    "\n",
    "def Mes_name(x):\n",
    "    D=['Enero','Febrero','Marzo','Abril',\n",
    "    'Mayo','Junio','Julio','Agosto',\n",
    "    'Septiembre','Octubre',\n",
    "    'Noviembre','Diciembre']\n",
    "    return(D[int(x)-1])"
   ]
  },
  {
   "cell_type": "markdown",
   "id": "b8b67d6b",
   "metadata": {
    "hidden": true
   },
   "source": [
    "## Datos  \n",
    "Se cargan los datos de\n",
    "Ventas y la defincion de los productos\n",
    "Ventas está en `data_v` y despues pasa a ser `data`\n",
    "\n",
    "Productos estan cargados en `DF_products`\n"
   ]
  },
  {
   "cell_type": "markdown",
   "id": "7b6b6d72",
   "metadata": {
    "hidden": true
   },
   "source": [
    "###  DF_FULL"
   ]
  },
  {
   "cell_type": "markdown",
   "id": "53e5214b",
   "metadata": {
    "hidden": true
   },
   "source": [
    "##### Abrir Archivo  "
   ]
  },
  {
   "cell_type": "code",
   "execution_count": 12,
   "id": "d3f89b2c",
   "metadata": {
    "hidden": true
   },
   "outputs": [
    {
     "data": {
      "text/html": [
       "<div>\n",
       "<style scoped>\n",
       "    .dataframe tbody tr th:only-of-type {\n",
       "        vertical-align: middle;\n",
       "    }\n",
       "\n",
       "    .dataframe tbody tr th {\n",
       "        vertical-align: top;\n",
       "    }\n",
       "\n",
       "    .dataframe thead th {\n",
       "        text-align: right;\n",
       "    }\n",
       "</style>\n",
       "<table border=\"1\" class=\"dataframe\">\n",
       "  <thead>\n",
       "    <tr style=\"text-align: right;\">\n",
       "      <th></th>\n",
       "      <th>Zona de ventas</th>\n",
       "      <th>Zona de ventas.1</th>\n",
       "      <th>Cliente</th>\n",
       "      <th>Cliente.1</th>\n",
       "      <th>Cliente - Local</th>\n",
       "      <th>Cliente - Local.1</th>\n",
       "      <th>Material</th>\n",
       "      <th>Día natural</th>\n",
       "      <th>Kilos Venta KG</th>\n",
       "      <th>Venta Neta</th>\n",
       "      <th>...</th>\n",
       "      <th>Tipo de material.1</th>\n",
       "      <th>Marca</th>\n",
       "      <th>Nivel 2</th>\n",
       "      <th>Granel/Envasado</th>\n",
       "      <th>Marinado</th>\n",
       "      <th>Nivel 3</th>\n",
       "      <th>Grupo artículos</th>\n",
       "      <th>Estado</th>\n",
       "      <th>Estandar</th>\n",
       "      <th>Envase</th>\n",
       "    </tr>\n",
       "  </thead>\n",
       "  <tbody>\n",
       "    <tr>\n",
       "      <th>0</th>\n",
       "      <td>Z001</td>\n",
       "      <td>Santiago</td>\n",
       "      <td>10003742</td>\n",
       "      <td>Ferrer Leiva Sonia</td>\n",
       "      <td>Ferrer Leiva Sonia</td>\n",
       "      <td>38458</td>\n",
       "      <td>1010077</td>\n",
       "      <td>2018-02-09</td>\n",
       "      <td>12.0</td>\n",
       "      <td>13685.0</td>\n",
       "      <td>...</td>\n",
       "      <td>Prod. Term.  Ave</td>\n",
       "      <td>SUPER POLLO (SP)</td>\n",
       "      <td>Trutro</td>\n",
       "      <td>GRANEL</td>\n",
       "      <td>MARINADO</td>\n",
       "      <td>Trutro Entero</td>\n",
       "      <td>01050</td>\n",
       "      <td>REFRIGERADO</td>\n",
       "      <td>PESO VARIABLE</td>\n",
       "      <td>NO CONGELADO</td>\n",
       "    </tr>\n",
       "  </tbody>\n",
       "</table>\n",
       "<p>1 rows × 40 columns</p>\n",
       "</div>"
      ],
      "text/plain": [
       "  Zona de ventas Zona de ventas.1   Cliente           Cliente.1  \\\n",
       "0           Z001         Santiago  10003742  Ferrer Leiva Sonia   \n",
       "\n",
       "      Cliente - Local Cliente - Local.1 Material Día natural Kilos Venta KG  \\\n",
       "0  Ferrer Leiva Sonia             38458  1010077  2018-02-09           12.0   \n",
       "\n",
       "  Venta Neta  ... Tipo de material.1             Marca Nivel 2  \\\n",
       "0    13685.0  ...   Prod. Term.  Ave  SUPER POLLO (SP)  Trutro   \n",
       "\n",
       "  Granel/Envasado  Marinado        Nivel 3 Grupo artículos       Estado  \\\n",
       "0          GRANEL  MARINADO  Trutro Entero           01050  REFRIGERADO   \n",
       "\n",
       "        Estandar        Envase  \n",
       "0  PESO VARIABLE  NO CONGELADO  \n",
       "\n",
       "[1 rows x 40 columns]"
      ]
     },
     "execution_count": 12,
     "metadata": {},
     "output_type": "execute_result"
    }
   ],
   "source": [
    "#======================================================================\n",
    "# Se Cargan los datos de ventas con las caracteristicas de los clientes\n",
    "#=====================================================================\n",
    "\n",
    "file_direct=file_direct_O+'Ventas_Full'+'.csv'\n",
    "col_names=pd.read_csv(file_direct,\n",
    "                      encoding=\"utf-8\",sep=\";\",nrows=0).columns\n",
    "\n",
    "types_dict = {col: str for col in list(col_names)}\n",
    "\n",
    "DF_FULL = pd.read_csv(file_direct,\n",
    "                   encoding=\"utf-8\",sep=\";\",dtype=types_dict)\n",
    "#elimina una columna en especifico\n",
    "#DF_FULL.drop('Año natural', inplace=True, axis=1)\n",
    "DF_FULL.head(1)"
   ]
  },
  {
   "cell_type": "markdown",
   "id": "50978acc",
   "metadata": {
    "hidden": true
   },
   "source": [
    "#### Funcion"
   ]
  },
  {
   "cell_type": "code",
   "execution_count": 13,
   "id": "d97d256e",
   "metadata": {
    "hidden": true
   },
   "outputs": [],
   "source": [
    "# =============================================================================\n",
    "# Ajustar la data\n",
    "# =============================================================================\n",
    "def Ajuste_data(data):\n",
    "    start_time = time.time()\n",
    "\n",
    "    df=data.copy()\n",
    "\n",
    "# =================================\n",
    "# ELiminare dodos los valores Nan\n",
    "# =================================\n",
    "    #for i in df.columns.to_list():\n",
    "    #    df=df[df[i].notna()]\n",
    "\n",
    "#=================================\n",
    "# Proceso iterativo Pasar a numero\n",
    "#=================================\n",
    "\n",
    "    for i in ['Kilos Venta KG','Venta Neta','Precio Promedio']:\n",
    "        df[i]=df[i].astype('float64').astype('int64')\n",
    "        \n",
    "#=================================\n",
    "# Agregar nombre al codigo del producto\n",
    "#=================================\n",
    "    def material_name(x):\n",
    "        s1=str(x['Material'])\n",
    "        s2=str(x['Nivel 4.1'])\n",
    "        return(s1+'('+s2+')')\n",
    "    df['Material (Nombre)']=df.apply(lambda x:  material_name(x), axis=1)\n",
    "    \n",
    "\n",
    "\n",
    "#==========================================================================================\n",
    "# Ajuste de las fechas\n",
    "#-----------------------------------------------------------------------------------------\n",
    "    df[\"Día natural\"] = df[\"Día natural\"].apply(lambda x: \n",
    "                                                datetime.datetime.strptime(str(x),\n",
    "                                                                           '%Y-%m-%d').date())\n",
    "    \n",
    "    #Separacion fecha\n",
    "    \n",
    "    #df['Semana']=df[\"Día natural\"].apply(lambda x: x.isocalendar()[1] )\n",
    "    #df['Mes']=df[\"Día natural\"].apply(lambda x: x.month)\n",
    "    #df['Año']=df[\"Día natural\"].apply(lambda x: x.year)\n",
    "    #df['Semana']=df['Semana'].astype('int64')\n",
    "    df['Año']=df['Año'].astype('int64')\n",
    "    D_W=['Lunes','Martes','Miércoles','Jueves', 'Viernes','Sábado','Domingo']\n",
    "    df['Día Semana']=df[\"Día natural\"].apply(lambda x: D_W[x.isocalendar()[2] -1])\n",
    "    df=df[df['Día Semana']!='Domingo']\n",
    "    \n",
    "    DF_FULL.dtypes\n",
    "    end_time = time.time()\n",
    "    time_convert(end_time - start_time)\n",
    "    return df"
   ]
  },
  {
   "cell_type": "markdown",
   "id": "ee2bcc68",
   "metadata": {
    "hidden": true
   },
   "source": [
    "### Datos año de inicio\n",
    "#### Rename"
   ]
  },
  {
   "cell_type": "code",
   "execution_count": 14,
   "id": "d6ca58ea",
   "metadata": {
    "hidden": true,
    "scrolled": true
   },
   "outputs": [
    {
     "name": "stdout",
     "output_type": "stream",
     "text": [
      "Time Lapsed = 0:0:20.49795627593994 \n",
      " H:m:s\n"
     ]
    },
    {
     "data": {
      "text/plain": [
       "Zona de ventas          object\n",
       "Zona de ventas.1        object\n",
       "Cliente                 object\n",
       "Cliente.1               object\n",
       "Cliente - Local         object\n",
       "Cliente - Local.1       object\n",
       "Material                object\n",
       "Día natural             object\n",
       "Kilos Venta KG           int64\n",
       "Venta Neta               int64\n",
       "Precio                   int64\n",
       "Frecuencia Historica    object\n",
       "Centro                  object\n",
       "Centro.1                object\n",
       "Población               object\n",
       "Tipo de cliente         object\n",
       "Cluster                 object\n",
       "Segmento                object\n",
       "Segmento.1              object\n",
       "Categoría Cliente       object\n",
       "Zona de reparto         object\n",
       "Año Creación            object\n",
       "Material Favorito       object\n",
       "Semana                  object\n",
       "Mes                     object\n",
       "Año                      int64\n",
       "Nivel 4                 object\n",
       "Nivel 4.1               object\n",
       "Sector                  object\n",
       "Tipo de material        object\n",
       "Tipo de material.1      object\n",
       "Marca                   object\n",
       "Nivel 2                 object\n",
       "Granel/Envasado         object\n",
       "Marinado                object\n",
       "Nivel 3                 object\n",
       "Grupo artículos         object\n",
       "Estado                  object\n",
       "Estandar                object\n",
       "Envase                  object\n",
       "Material (Nombre)       object\n",
       "Día Semana              object\n",
       "Centro_cod              object\n",
       "dtype: object"
      ]
     },
     "execution_count": 14,
     "metadata": {},
     "output_type": "execute_result"
    }
   ],
   "source": [
    "#=====================================\n",
    "# Aplicacion del ajuste de los datos\n",
    "#=====================================\n",
    "\n",
    "data=Ajuste_data(DF_FULL).rename(\n",
    "    columns={'Precio Promedio':'Precio'\n",
    "            #,'Centro.1':'Centro'\n",
    "            })\n",
    "data['Centro_cod']=data['Centro']\n",
    "data['Centro']=data['Centro.1']\n",
    "\n",
    "data[data.Año>=int(Año_inicio)]\n",
    "data.dtypes"
   ]
  },
  {
   "cell_type": "code",
   "execution_count": 15,
   "id": "20e9b364",
   "metadata": {
    "hidden": true,
    "scrolled": true
   },
   "outputs": [
    {
     "data": {
      "text/plain": [
       "-256"
      ]
     },
     "execution_count": 15,
     "metadata": {},
     "output_type": "execute_result"
    }
   ],
   "source": [
    "#=============================\n",
    "# Se eliminaron los regristros donde existen dias domingos\n",
    "#(No hay despacho los dias domingos)\n",
    "#============================\n",
    "\n",
    "data.shape[0] - DF_FULL.shape[0]"
   ]
  },
  {
   "cell_type": "markdown",
   "id": "79f8b061",
   "metadata": {
    "heading_collapsed": true
   },
   "source": [
    "# Selección data(Canal/material)"
   ]
  },
  {
   "cell_type": "code",
   "execution_count": 16,
   "id": "2740d399",
   "metadata": {
    "hidden": true
   },
   "outputs": [
    {
     "name": "stdout",
     "output_type": "stream",
     "text": [
      "Time Lapsed = 0:0:26.912246227264404 \n",
      " H:m:s\n"
     ]
    }
   ],
   "source": [
    "end_time = time.time()\n",
    "time_lapsed = end_time - start_time\n",
    "time_convert(time_lapsed)\n"
   ]
  },
  {
   "cell_type": "markdown",
   "id": "fa0ec774",
   "metadata": {
    "hidden": true
   },
   "source": [
    "data frame `data_i`\n",
    "\n",
    "\n",
    "> - Producto `i_producto = Y_producto`\n",
    "> -Para el Canal `Tipo_de_Cliente`\n",
    "> -Variable a predecir/Grafico `Y_Variable`\n",
    "\n",
    "Columnas de interes para predecir `X_col`\n",
    "\n",
    "Diccionario del grupo de columnas `Dic_col`"
   ]
  },
  {
   "cell_type": "markdown",
   "id": "56076fc8",
   "metadata": {
    "hidden": true
   },
   "source": [
    "## data "
   ]
  },
  {
   "cell_type": "markdown",
   "id": "2af7bd9f",
   "metadata": {
    "hidden": true
   },
   "source": [
    "##### Definición del producto "
   ]
  },
  {
   "cell_type": "code",
   "execution_count": 17,
   "id": "65ae6463",
   "metadata": {
    "hidden": true
   },
   "outputs": [
    {
     "name": "stdout",
     "output_type": "stream",
     "text": [
      "1010078 Tradicional\n"
     ]
    }
   ],
   "source": [
    "#==============================\n",
    "# Se define el producto\n",
    "#==============================\n",
    "i_producto=Y_producto\n",
    "print(i_producto\n",
    "     ,Tipo_de_Cliente)\n",
    "\n",
    "data_i=data[\n",
    "    (data['Tipo de cliente']==Tipo_de_Cliente)\n",
    "    &(data.Material==i_producto)\n",
    "].copy()\n"
   ]
  },
  {
   "cell_type": "markdown",
   "id": "3614f1ae",
   "metadata": {
    "hidden": true
   },
   "source": [
    "### Columnas a usar \n",
    "rename aplicado a `Precio promedio`"
   ]
  },
  {
   "cell_type": "markdown",
   "id": "38444021",
   "metadata": {
    "hidden": true
   },
   "source": [
    "###### Columnas a usar "
   ]
  },
  {
   "cell_type": "code",
   "execution_count": 18,
   "id": "be9ad327",
   "metadata": {
    "hidden": true,
    "scrolled": true
   },
   "outputs": [],
   "source": [
    "#=======================================================================================================\n",
    "                                                # Columnas a usar\n",
    "#========================================================================================================\n",
    "\n",
    "data_i=data_i[[\n",
    "                    #======================================   \n",
    "                                    # Base de la venta\n",
    "                    #--------------------------------------\n",
    "\n",
    "'Material (Nombre)',\n",
    "    #ID Nombre\n",
    "    \n",
    "#========================\n",
    "#Cantidad/Ingreso/Precio\n",
    "#------------------------\n",
    "'Kilos Venta KG',\n",
    "#'Venta Neta', No es necesario o de interes para la prediccion\n",
    "'Precio',\n",
    "\n",
    "#========================\n",
    "#fecha\n",
    "#------------------------\n",
    "'Día natural', #Se descarta por series de tiempo\n",
    "    # Ver si funciona\n",
    "\n",
    "'Día Semana',\n",
    "    #lun, Mart, Mier, Juev\n",
    "'Semana',\n",
    "    #1, 2 , 3 ,..., 52, 53\n",
    "'Mes',\n",
    "    #1,2,3,...,12\n",
    "'Año',\n",
    "    #2018,2019,...,2021\n",
    "    \n",
    "    \n",
    "\n",
    "#______________________________________________________________________\n",
    "                        \n",
    "                                    # CLIENTE\n",
    "    \n",
    "#=====================================\n",
    "#Ubicacion del cliente\n",
    "#-------------------------------------\n",
    "'Población', #'Zona de reparto',\n",
    "#Comuna del Cliente ; Codigo de la zona de reparto\n",
    "#[No son excluyentes, la Zona de reparto\n",
    "#Es más especifica y agrupa a clientes]\n",
    "\n",
    "\n",
    "                #Region\n",
    "                #'Zona de ventas',\n",
    "                #'Zona de ventas.1',\n",
    "                    #(Z001: Santiago)\n",
    "\n",
    "#Es atendido por la Centro:\n",
    "'Centro', #'Centro', Centro de distribución de los productos\n",
    "    #ID Centro, Nombre Centro(oficina o centro)\n",
    "    \n",
    "#=========================================    \n",
    "#Identificacion del cliente\n",
    "#---------------------------------------\n",
    "'Cliente', #'Cliente.1',\n",
    "     #ID del cliente , #nombre del cliente\n",
    " #'Cliente - Local', 'Cliente - Local.1'\n",
    "     # Tambien funciona como ID\n",
    "         #ID, Nombre\n",
    "\n",
    "    #Agrupacion del cliente\n",
    "    #'Tipo de cliente', #SON TODOS IGUALES\n",
    "    'Cluster', \n",
    "         #Canal del cliente ; Tipo de cliente\n",
    "             #Tradicional   ; Clasico\n",
    "\n",
    "    #Nivel de cobertura\n",
    "    #'Segmento', \n",
    "     'Segmento.1',\n",
    "     #codigo ; nombre\n",
    "         #50 ; Cobertura pequeno SD\n",
    "    'Categoría Cliente',\n",
    "            #Especialista en Proc\n",
    "\n",
    "\n",
    "    #===================================================\n",
    "    #Caracteristicas Adiocinales a su consumo\n",
    "    #-------------------------------------------------\n",
    "        'Año Creación',\n",
    "            #Fecha de afiliación a Agrosuper\n",
    "             #-> Debe ser INT idealmente\n",
    "\n",
    "        'Material Favorito',\n",
    "             #ID del producto que ha comprado más frecuentemente\n",
    "             #(No por cantidad, si no que por cantidad de compras realizadas)\n",
    "                 #-> Puede ser solo el codigo o el nombre tambien\n",
    "\n",
    "        'Frecuencia Historica',\n",
    "             #Cantidad de compras realizadas desde el 2018\n",
    "                 #-> debe ser INT\n",
    "                     #-> constante para todas las compras\n",
    "                            # Al ser variable complejiza todo\n",
    " \n",
    "]]\n"
   ]
  },
  {
   "cell_type": "markdown",
   "id": "0390aa21",
   "metadata": {
    "hidden": true
   },
   "source": [
    "###### Ajuste de type de columnas "
   ]
  },
  {
   "cell_type": "code",
   "execution_count": 19,
   "id": "a0e19457",
   "metadata": {
    "hidden": true
   },
   "outputs": [],
   "source": [
    "data_i['Frecuencia Historica']=data_i['Frecuencia Historica'].astype('int64')\n",
    "data_i['Año Creación']=data_i['Año Creación'].astype('int64')"
   ]
  },
  {
   "cell_type": "code",
   "execution_count": 20,
   "id": "62f38f3b",
   "metadata": {
    "hidden": true
   },
   "outputs": [
    {
     "name": "stdout",
     "output_type": "stream",
     "text": [
      "category\n",
      "(198596, 18)\n",
      "(198596, 18)\n",
      "(198596, 18)\n"
     ]
    },
    {
     "data": {
      "text/html": [
       "<div>\n",
       "<style scoped>\n",
       "    .dataframe tbody tr th:only-of-type {\n",
       "        vertical-align: middle;\n",
       "    }\n",
       "\n",
       "    .dataframe tbody tr th {\n",
       "        vertical-align: top;\n",
       "    }\n",
       "\n",
       "    .dataframe thead th {\n",
       "        text-align: right;\n",
       "    }\n",
       "</style>\n",
       "<table border=\"1\" class=\"dataframe\">\n",
       "  <thead>\n",
       "    <tr style=\"text-align: right;\">\n",
       "      <th></th>\n",
       "      <th>Material (Nombre)</th>\n",
       "      <th>Kilos Venta KG</th>\n",
       "      <th>Precio</th>\n",
       "      <th>Día natural</th>\n",
       "      <th>Día Semana</th>\n",
       "      <th>Semana</th>\n",
       "      <th>Mes</th>\n",
       "      <th>Año</th>\n",
       "      <th>Población</th>\n",
       "      <th>Centro</th>\n",
       "      <th>Cliente</th>\n",
       "      <th>Cluster</th>\n",
       "      <th>Segmento.1</th>\n",
       "      <th>Categoría Cliente</th>\n",
       "      <th>Año Creación</th>\n",
       "      <th>Material Favorito</th>\n",
       "      <th>Frecuencia Historica</th>\n",
       "      <th>Mes_num</th>\n",
       "    </tr>\n",
       "  </thead>\n",
       "  <tbody>\n",
       "    <tr>\n",
       "      <th>61455</th>\n",
       "      <td>1010078(Trutro Entero Selección)</td>\n",
       "      <td>22</td>\n",
       "      <td>1300</td>\n",
       "      <td>2020-05-23</td>\n",
       "      <td>Sábado</td>\n",
       "      <td>21</td>\n",
       "      <td>Mayo</td>\n",
       "      <td>2020</td>\n",
       "      <td>La Pintana</td>\n",
       "      <td>Sucursal Lo Espejo</td>\n",
       "      <td>10003742</td>\n",
       "      <td>Clásico</td>\n",
       "      <td>Cobertura Pequeno SD</td>\n",
       "      <td>Especialista en Proc</td>\n",
       "      <td>2007</td>\n",
       "      <td>1010077</td>\n",
       "      <td>19</td>\n",
       "      <td>5</td>\n",
       "    </tr>\n",
       "    <tr>\n",
       "      <th>61456</th>\n",
       "      <td>1010078(Trutro Entero Selección)</td>\n",
       "      <td>110</td>\n",
       "      <td>1174</td>\n",
       "      <td>2018-03-01</td>\n",
       "      <td>Jueves</td>\n",
       "      <td>9</td>\n",
       "      <td>Marzo</td>\n",
       "      <td>2018</td>\n",
       "      <td>Puente Alto</td>\n",
       "      <td>Sucursal Lo Espejo</td>\n",
       "      <td>10007508</td>\n",
       "      <td>Clásico</td>\n",
       "      <td>Cobertura Mediano SD</td>\n",
       "      <td>Especialista en Crud</td>\n",
       "      <td>2007</td>\n",
       "      <td>1020253</td>\n",
       "      <td>464</td>\n",
       "      <td>3</td>\n",
       "    </tr>\n",
       "  </tbody>\n",
       "</table>\n",
       "</div>"
      ],
      "text/plain": [
       "                      Material (Nombre)  Kilos Venta KG  Precio Día natural  \\\n",
       "61455  1010078(Trutro Entero Selección)              22    1300  2020-05-23   \n",
       "61456  1010078(Trutro Entero Selección)             110    1174  2018-03-01   \n",
       "\n",
       "      Día Semana Semana    Mes   Año    Población              Centro  \\\n",
       "61455     Sábado     21   Mayo  2020   La Pintana  Sucursal Lo Espejo   \n",
       "61456     Jueves      9  Marzo  2018  Puente Alto  Sucursal Lo Espejo   \n",
       "\n",
       "        Cliente  Cluster            Segmento.1     Categoría Cliente  \\\n",
       "61455  10003742  Clásico  Cobertura Pequeno SD  Especialista en Proc   \n",
       "61456  10007508  Clásico  Cobertura Mediano SD  Especialista en Crud   \n",
       "\n",
       "       Año Creación Material Favorito  Frecuencia Historica Mes_num  \n",
       "61455          2007           1010077                    19       5  \n",
       "61456          2007           1020253                   464       3  "
      ]
     },
     "execution_count": 20,
     "metadata": {},
     "output_type": "execute_result"
    }
   ],
   "source": [
    "#Ajuste Columnas \n",
    "data_i.Año=data_i.Año.astype('category')\n",
    "print(data_i.Año.dtype)\n",
    "data_i['Mes_num']=data_i[\"Mes\"]#.apply(lambda x: Mes_name(x))\n",
    "print(data_i.shape)\n",
    "data_i['Mes']=data_i[\"Mes_num\"].apply(lambda x: Mes_name(x))\n",
    "print(data_i.shape)\n",
    "data_i[['Mes','Mes_num','Día natural']].head()\n",
    "print(data_i.shape)\n",
    "data_i.head(2)"
   ]
  },
  {
   "cell_type": "markdown",
   "id": "f0b5bcbc",
   "metadata": {
    "hidden": true
   },
   "source": [
    "##### brebe analisis "
   ]
  },
  {
   "cell_type": "markdown",
   "id": "fc58991b",
   "metadata": {
    "hidden": true
   },
   "source": [
    "###### Diferencias en filas y columnas, data base "
   ]
  },
  {
   "cell_type": "code",
   "execution_count": 21,
   "id": "b493f861",
   "metadata": {
    "hidden": true
   },
   "outputs": [
    {
     "name": "stdout",
     "output_type": "stream",
     "text": [
      "Data Full (1061161, 40)\n",
      "-256 3\n",
      "Data Año (1060905, 43)\n",
      "-862309 -25\n",
      "Data Año, Canal Producto (198596, 18)\n"
     ]
    }
   ],
   "source": [
    "#======================================\n",
    "# Disminución de las filas y columnas\n",
    "# al pasar a data_i\n",
    "#======================================\n",
    "\n",
    "print('Data Full',DF_FULL.shape)\n",
    "print(data.shape[0]-DF_FULL.shape[0],\n",
    "      data.shape[1]-DF_FULL.shape[1])\n",
    "print('Data Año',data.shape)\n",
    "print(data_i.shape[0]-data.shape[0],\n",
    "      data_i.shape[1]-data.shape[1])\n",
    "print('Data Año, Canal Producto',data_i.shape)"
   ]
  },
  {
   "cell_type": "markdown",
   "id": "3b19e2eb",
   "metadata": {
    "hidden": true
   },
   "source": [
    "###### Describe "
   ]
  },
  {
   "cell_type": "code",
   "execution_count": 22,
   "id": "a21c032d",
   "metadata": {
    "hidden": true,
    "scrolled": false
   },
   "outputs": [
    {
     "data": {
      "text/html": [
       "<div>\n",
       "<style scoped>\n",
       "    .dataframe tbody tr th:only-of-type {\n",
       "        vertical-align: middle;\n",
       "    }\n",
       "\n",
       "    .dataframe tbody tr th {\n",
       "        vertical-align: top;\n",
       "    }\n",
       "\n",
       "    .dataframe thead th {\n",
       "        text-align: right;\n",
       "    }\n",
       "</style>\n",
       "<table border=\"1\" class=\"dataframe\">\n",
       "  <thead>\n",
       "    <tr style=\"text-align: right;\">\n",
       "      <th></th>\n",
       "      <th>index</th>\n",
       "      <th>Material (Nombre)</th>\n",
       "      <th>Kilos Venta KG</th>\n",
       "      <th>Precio</th>\n",
       "      <th>Día natural</th>\n",
       "      <th>Día Semana</th>\n",
       "      <th>Semana</th>\n",
       "      <th>Mes</th>\n",
       "      <th>Año</th>\n",
       "      <th>Población</th>\n",
       "      <th>Centro</th>\n",
       "      <th>Cliente</th>\n",
       "      <th>Cluster</th>\n",
       "      <th>Segmento.1</th>\n",
       "      <th>Categoría Cliente</th>\n",
       "      <th>Año Creación</th>\n",
       "      <th>Material Favorito</th>\n",
       "      <th>Frecuencia Historica</th>\n",
       "      <th>Mes_num</th>\n",
       "    </tr>\n",
       "  </thead>\n",
       "  <tbody>\n",
       "    <tr>\n",
       "      <th>1</th>\n",
       "      <td>unique</td>\n",
       "      <td>1</td>\n",
       "      <td>NaN</td>\n",
       "      <td>NaN</td>\n",
       "      <td>1140</td>\n",
       "      <td>6</td>\n",
       "      <td>53</td>\n",
       "      <td>12</td>\n",
       "      <td>4.0</td>\n",
       "      <td>46</td>\n",
       "      <td>3</td>\n",
       "      <td>5073</td>\n",
       "      <td>3</td>\n",
       "      <td>3</td>\n",
       "      <td>5</td>\n",
       "      <td>NaN</td>\n",
       "      <td>13</td>\n",
       "      <td>NaN</td>\n",
       "      <td>12</td>\n",
       "    </tr>\n",
       "  </tbody>\n",
       "</table>\n",
       "</div>"
      ],
      "text/plain": [
       "    index Material (Nombre)  Kilos Venta KG  Precio Día natural Día Semana  \\\n",
       "1  unique                 1             NaN     NaN        1140          6   \n",
       "\n",
       "  Semana Mes  Año Población Centro Cliente Cluster Segmento.1  \\\n",
       "1     53  12  4.0        46      3    5073       3          3   \n",
       "\n",
       "  Categoría Cliente  Año Creación Material Favorito  Frecuencia Historica  \\\n",
       "1                 5           NaN                13                   NaN   \n",
       "\n",
       "  Mes_num  \n",
       "1      12  "
      ]
     },
     "execution_count": 22,
     "metadata": {},
     "output_type": "execute_result"
    }
   ],
   "source": [
    "desc=data_i.describe(include='all').reset_index()\n",
    "desc[desc['index']=='unique']"
   ]
  },
  {
   "cell_type": "markdown",
   "id": "de023a7b",
   "metadata": {
    "hidden": true
   },
   "source": [
    "## Dicionario \n",
    "rename aplicado a `Precio promedio`"
   ]
  },
  {
   "cell_type": "code",
   "execution_count": 23,
   "id": "74447145",
   "metadata": {
    "hidden": true
   },
   "outputs": [],
   "source": [
    "Dic_col={'Base':\n",
    "                             ['Material (Nombre)', 'Kilos Venta KG', 'Precio','Cliente'],\n",
    "        'Fecha':\n",
    "                             ['Día natural','Día Semana','Semana', 'Mes', 'Año'],\n",
    "        'Ubicacion':\n",
    "                             ['Centro','Población'],\n",
    "        'Cliente Categoria':\n",
    "                             ['Cluster','Segmento.1', 'Categoría Cliente'],\n",
    "        'Cliente Atributos':\n",
    "                             ['Año Creación', 'Material Favorito','Frecuencia Historica'] \n",
    "        }"
   ]
  },
  {
   "cell_type": "markdown",
   "id": "59b17d20",
   "metadata": {
    "hidden": true
   },
   "source": [
    "##### Revision"
   ]
  },
  {
   "cell_type": "code",
   "execution_count": 24,
   "id": "cb5cfbaf",
   "metadata": {
    "hidden": true,
    "scrolled": true
   },
   "outputs": [
    {
     "name": "stdout",
     "output_type": "stream",
     "text": [
      "17\n",
      "['Material (Nombre)', 'Kilos Venta KG', 'Precio', 'Cliente', 'Día natural', 'Día Semana', 'Semana', 'Mes', 'Año', 'Centro', 'Población', 'Cluster', 'Segmento.1', 'Categoría Cliente', 'Año Creación', 'Material Favorito', 'Frecuencia Historica']\n"
     ]
    }
   ],
   "source": [
    "#List sirve para definir las columnas de interes para los datos\n",
    "list_=[]\n",
    "for i in Dic_col:\n",
    "    list_+=Dic_col[i]\n",
    "print(len(list_))\n",
    "print((list_))\n"
   ]
  },
  {
   "cell_type": "code",
   "execution_count": 25,
   "id": "ef1fbd92",
   "metadata": {
    "hidden": true,
    "scrolled": true
   },
   "outputs": [
    {
     "name": "stdout",
     "output_type": "stream",
     "text": [
      "dict_keys(['Base', 'Fecha', 'Ubicacion', 'Cliente Categoria', 'Cliente Atributos'])\n",
      "['Material (Nombre)', 'Kilos Venta KG', 'Precio', 'Cliente', 'Día natural', 'Día Semana', 'Semana', 'Mes', 'Año', 'Centro', 'Población', 'Cluster', 'Segmento.1', 'Categoría Cliente', 'Año Creación', 'Material Favorito', 'Frecuencia Historica'] 17\n"
     ]
    },
    {
     "data": {
      "text/html": [
       "<div>\n",
       "<style scoped>\n",
       "    .dataframe tbody tr th:only-of-type {\n",
       "        vertical-align: middle;\n",
       "    }\n",
       "\n",
       "    .dataframe tbody tr th {\n",
       "        vertical-align: top;\n",
       "    }\n",
       "\n",
       "    .dataframe thead th {\n",
       "        text-align: right;\n",
       "    }\n",
       "</style>\n",
       "<table border=\"1\" class=\"dataframe\">\n",
       "  <thead>\n",
       "    <tr style=\"text-align: right;\">\n",
       "      <th></th>\n",
       "      <th>Material (Nombre)</th>\n",
       "      <th>Kilos Venta KG</th>\n",
       "      <th>Precio</th>\n",
       "      <th>Cliente</th>\n",
       "      <th>Día natural</th>\n",
       "      <th>Día Semana</th>\n",
       "      <th>Semana</th>\n",
       "      <th>Mes</th>\n",
       "      <th>Año</th>\n",
       "      <th>Centro</th>\n",
       "      <th>Población</th>\n",
       "      <th>Cluster</th>\n",
       "      <th>Segmento.1</th>\n",
       "      <th>Categoría Cliente</th>\n",
       "      <th>Año Creación</th>\n",
       "      <th>Material Favorito</th>\n",
       "      <th>Frecuencia Historica</th>\n",
       "    </tr>\n",
       "  </thead>\n",
       "  <tbody>\n",
       "    <tr>\n",
       "      <th>0</th>\n",
       "      <td>1010077(Trutro Entero Selección)</td>\n",
       "      <td>12</td>\n",
       "      <td>1190</td>\n",
       "      <td>10003742</td>\n",
       "      <td>2018-02-09</td>\n",
       "      <td>Viernes</td>\n",
       "      <td>6</td>\n",
       "      <td>2</td>\n",
       "      <td>2018</td>\n",
       "      <td>Sucursal Lo Espejo</td>\n",
       "      <td>La Pintana</td>\n",
       "      <td>Clásico</td>\n",
       "      <td>Cobertura Pequeno SD</td>\n",
       "      <td>Especialista en Proc</td>\n",
       "      <td>2007</td>\n",
       "      <td>1010077</td>\n",
       "      <td>19</td>\n",
       "    </tr>\n",
       "    <tr>\n",
       "      <th>1</th>\n",
       "      <td>1010077(Trutro Entero Selección)</td>\n",
       "      <td>12</td>\n",
       "      <td>1350</td>\n",
       "      <td>10003742</td>\n",
       "      <td>2018-05-04</td>\n",
       "      <td>Viernes</td>\n",
       "      <td>18</td>\n",
       "      <td>5</td>\n",
       "      <td>2018</td>\n",
       "      <td>Sucursal Lo Espejo</td>\n",
       "      <td>La Pintana</td>\n",
       "      <td>Clásico</td>\n",
       "      <td>Cobertura Pequeno SD</td>\n",
       "      <td>Especialista en Proc</td>\n",
       "      <td>2007</td>\n",
       "      <td>1010077</td>\n",
       "      <td>19</td>\n",
       "    </tr>\n",
       "  </tbody>\n",
       "</table>\n",
       "</div>"
      ],
      "text/plain": [
       "                  Material (Nombre)  Kilos Venta KG  Precio   Cliente  \\\n",
       "0  1010077(Trutro Entero Selección)              12    1190  10003742   \n",
       "1  1010077(Trutro Entero Selección)              12    1350  10003742   \n",
       "\n",
       "  Día natural Día Semana Semana Mes   Año              Centro   Población  \\\n",
       "0  2018-02-09    Viernes      6   2  2018  Sucursal Lo Espejo  La Pintana   \n",
       "1  2018-05-04    Viernes     18   5  2018  Sucursal Lo Espejo  La Pintana   \n",
       "\n",
       "   Cluster            Segmento.1     Categoría Cliente Año Creación  \\\n",
       "0  Clásico  Cobertura Pequeno SD  Especialista en Proc         2007   \n",
       "1  Clásico  Cobertura Pequeno SD  Especialista en Proc         2007   \n",
       "\n",
       "  Material Favorito Frecuencia Historica  \n",
       "0           1010077                   19  \n",
       "1           1010077                   19  "
      ]
     },
     "execution_count": 25,
     "metadata": {},
     "output_type": "execute_result"
    }
   ],
   "source": [
    "print(Dic_col.keys())\n",
    "Columnas_a_usar=[j for i in \n",
    "                 ['Base','Fecha', 'Ubicacion', 'Cliente Categoria', 'Cliente Atributos']\n",
    "                 for j in Dic_col[i]  ]\n",
    "print(Columnas_a_usar,len(Columnas_a_usar))\n",
    "data[Columnas_a_usar].head(2)\n"
   ]
  },
  {
   "cell_type": "code",
   "execution_count": 26,
   "id": "1d55169d",
   "metadata": {
    "hidden": true,
    "scrolled": false
   },
   "outputs": [
    {
     "name": "stdout",
     "output_type": "stream",
     "text": [
      "Material (Nombre) ['1010077(Trutro Entero Selección)']\n",
      "Kilos Venta KG [12]\n",
      "Precio [1190]\n",
      "Cliente ['10003742']\n",
      "Día natural [datetime.date(2018, 2, 9)]\n",
      "Día Semana ['Viernes']\n",
      "Semana ['6']\n",
      "Mes ['2']\n",
      "Año [2018]\n",
      "Centro ['Sucursal Lo Espejo']\n",
      "Población ['La Pintana']\n",
      "Cluster ['Clásico']\n",
      "Segmento.1 ['Cobertura Pequeno SD']\n",
      "Categoría Cliente ['Especialista en Proc']\n",
      "Año Creación ['2007']\n",
      "Material Favorito ['1010077']\n",
      "Frecuencia Historica ['19']\n",
      "Tipo de cliente ['Tradicional']\n"
     ]
    }
   ],
   "source": [
    "for i in list(list_+['Tipo de cliente']):\n",
    "    print(i,data[list_+['Tipo de cliente']].iloc[:1,:][i].to_list())"
   ]
  },
  {
   "cell_type": "markdown",
   "id": "c481a741",
   "metadata": {},
   "source": [
    "# F Frequency (Frecuencia):\n",
    "\n",
    "- [ ] __Caracteristica Cliente__\n",
    "\n",
    "> __La frecuencia historica final del cliente__, esta se puede calcular como se hizo con R. con la ultima compra del cliente.\n",
    "\n",
    " - [ ] __Feature of puchad__\n",
    "> __Columna que representa la frecuencia del cliente al momento de la compra,__ para definir cómo F de cada transacción  influye en el precio."
   ]
  },
  {
   "cell_type": "markdown",
   "id": "e9f243ef",
   "metadata": {
    "heading_collapsed": true
   },
   "source": [
    "## inicio\n",
    "-----------\n",
    "- Apuntes\n",
    "- Funciones\n",
    "- Ecuación\n",
    "- Prueba con data de un solo cliente\n",
    "      \n",
    " \n",
    " \n"
   ]
  },
  {
   "cell_type": "markdown",
   "id": "0a9fcc09",
   "metadata": {
    "heading_collapsed": true,
    "hidden": true
   },
   "source": [
    "### Intro "
   ]
  },
  {
   "cell_type": "markdown",
   "id": "98928c89",
   "metadata": {
    "heading_collapsed": true,
    "hidden": true
   },
   "source": [
    "##### Ecuación de \\cite(8592638):\n"
   ]
  },
  {
   "cell_type": "markdown",
   "id": "08dc34c3",
   "metadata": {
    "hidden": true
   },
   "source": [
    "\n",
    "\\begin{equation}\n",
    "    W_t=Exp(-K \\times t)\n",
    "\\\\\n",
    "F_i= \\dfrac{\n",
    " \\sum_{t=1}^{\\textit{AñoActual}-\\textit{AñodeInicio}}{W_t}\n",
    " \\times \\dfrac{{Compra}_{i,t}}{\\triangle_{i,t}}\n",
    "}{\n",
    "\\sum_{t=1}^{\\textit{AñoActual}-\\textit{AñodeInicio}}{W_t}\n",
    "}\n",
    "\\\\\n",
    "\\triangle_{i,t}\n",
    " \\left\\{ \\begin{array}{l}\n",
    "\\begin{array}{l}\n",
    "365 - \\textit{Días desde que el cliente apareció},\\\\\n",
    "\\textbf{\\textit{Si} $t=$ \\textit{Porción del periodo donde $i$ comenzó a ser cliente}}\n",
    "\\end{array}\n",
    "\\\\\n",
    "\\begin{array}{l}\n",
    "\\mbox{ Días que posee el año }t \\\\\n",
    "\\textbf{\\textit{Si} $t=$ \n",
    "\\textit{Porción del periodo actual}}\n",
    "\\end{array}\n",
    "\\\\\n",
    "\\begin{array}{l}\n",
    "\\mbox{ 365} \\\\\n",
    "\\textbf{\\textit{Cualquier otro escenario}}\n",
    "\\end{array}\n",
    "\\end{array} \\right.\n",
    "\\end{equation}\n",
    "\n",
    "\n",
    "\n",
    "\n"
   ]
  },
  {
   "cell_type": "markdown",
   "id": "1dc73ac9",
   "metadata": {
    "heading_collapsed": true,
    "hidden": true
   },
   "source": [
    "##### __Partes de F:__"
   ]
  },
  {
   "cell_type": "markdown",
   "id": "6e1f8917",
   "metadata": {
    "heading_collapsed": true,
    "hidden": true
   },
   "source": [
    "###### 1. $W_t$\n"
   ]
  },
  {
   "cell_type": "markdown",
   "id": "5180f0c7",
   "metadata": {
    "hidden": true
   },
   "source": [
    " \n",
    "`def_W_t(Data,K_cosnt=0.75)`   \n",
    "\n",
    "Construye un diccionario, de amplitud 1...nsea n la cantidad de años que hay entre el año el año más actual y el año más antiguo."
   ]
  },
  {
   "cell_type": "markdown",
   "id": "7501cf34",
   "metadata": {
    "heading_collapsed": true,
    "hidden": true
   },
   "source": [
    "###### 2. __Fecha primera compra de cada cliente__ \n"
   ]
  },
  {
   "cell_type": "markdown",
   "id": "454f9897",
   "metadata": {
    "hidden": true
   },
   "source": [
    "`def_primera_compra(Data)` => df_a_o_M  \n",
    "\n",
    "Función que entrega un dataframe con dos columnas     \n",
    "   - Cliente:(id cliente),\n",
    "   - Fecha Creacion':(La fecha donde efectuo la primera compra en el dataframe)"
   ]
  },
  {
   "cell_type": "markdown",
   "id": "9e120dbd",
   "metadata": {
    "heading_collapsed": true,
    "hidden": true
   },
   "source": [
    "###### 3. __Función que calcula__ $\\triangle_{i,t}$\n"
   ]
  },
  {
   "cell_type": "markdown",
   "id": "e1ec8bb0",
   "metadata": {
    "hidden": true
   },
   "source": [
    " \n",
    "`array_F_delta(fecha_actual,Fecha_inicio_Ser_Cliente)`Se usa directamente \n",
    "     \n",
    "> Entrega el arreglo que contiene todos los $\\triangle_{i,t}$ para un rango de fechas: \n",
    ">>   - `fecha_actual`: Puede ser la fecha más actual del dataframe o si se trata de Filas. Es la fecha de la misma transacción.\n",
    ">>   - `Fecha_inicio_Ser_Cliente`:La fecha donde efectuo la primera compra en el dataframe\n",
    "\n",
    "> __Esta funcion requiere de las siguientes funciones:__\n",
    "    >- `F_delta(fecha_actual,Fecha_T,Fecha_inicio_Ser_Cliente)` \n",
    "        >> - __Calcula__ $\\triangle_{i,t}$\n",
    "        >> - Requiere de la función `D_num(x)` : Función quen Pasa una fecha a un Numero\n"
   ]
  },
  {
   "cell_type": "markdown",
   "id": "e3f1aaf2",
   "metadata": {
    "heading_collapsed": true,
    "hidden": true
   },
   "source": [
    "###### 4. __Calculo cantidad de transacciones__ ${Compra}_{i,t}$\n"
   ]
  },
  {
   "cell_type": "markdown",
   "id": "f23f4a60",
   "metadata": {
    "hidden": true
   },
   "source": [
    "     \n",
    "> 3.1.5.1  cantidad de compras que realiza el cliente\n",
    " \n",
    " >`Val_Compra_i_t(Data,id_Client)` \n",
    " >>Cantidad de compras que realiza el cliente `id_Client` , en los datos Data para cada periodo de tiempo $t$. Requiere las columnas `['Cliente','Día natural']`\n",
    " \n",
    " \n",
    " > __Entrega Data frame:__\n",
    " >>df con histiral del compra del cliente\n",
    "    _con las siguientes columnas_ `['Cliente','Año','Día natural']`\n",
    "       \n"
   ]
  },
  {
   "cell_type": "markdown",
   "id": "2ee124cd",
   "metadata": {
    "heading_collapsed": true,
    "hidden": true
   },
   "source": [
    "###### 5. __Calculo la Frecuencia del cliente en Row__ ${Frecuency}_{i,Row}$\n"
   ]
  },
  {
   "cell_type": "markdown",
   "id": "928d8e20",
   "metadata": {
    "hidden": true
   },
   "source": [
    "     \n",
    "> __3.1.6  Función Calculo F_Row:__\n",
    " \n",
    " >`F_Calculo_Row(Data,Row,W_t_a=W_t_m,df_a_o=df_a_o_M)` \n",
    " >>Cantidad de compras que realiza el cliente `id_Client` , en los datos Data para cada periodo de tiempo $t$. Requiere las columnas `['Cliente','Día natural']`\n",
    " "
   ]
  },
  {
   "cell_type": "markdown",
   "id": "745f590f",
   "metadata": {
    "heading_collapsed": true,
    "hidden": true
   },
   "source": [
    "##### Notas "
   ]
  },
  {
   "cell_type": "markdown",
   "id": "b37a58f5",
   "metadata": {
    "hidden": true
   },
   "source": [
    "Sospecho que el calculo debe ser desarrollado por cada cliente, es decir.\n",
    "For que recorra todos los clientes de dataframe,\n",
    "Creando un data rfam de cada cliente.\n",
    "\n",
    "\n",
    "Para esto tambien se hizo una mecanica parecida en R. Que el apply usaba un df con el historaial del cliente y aplicaba la formula"
   ]
  },
  {
   "cell_type": "markdown",
   "id": "4c7fe7d5",
   "metadata": {
    "heading_collapsed": true,
    "hidden": true
   },
   "source": [
    "### Data de muestra "
   ]
  },
  {
   "cell_type": "code",
   "execution_count": 25,
   "id": "86888d52",
   "metadata": {
    "hidden": true,
    "scrolled": true
   },
   "outputs": [
    {
     "data": {
      "text/plain": [
       "(239,)"
      ]
     },
     "execution_count": 25,
     "metadata": {},
     "output_type": "execute_result"
    }
   ],
   "source": [
    "df_m=data_i[(data_i['Población'] =='La Florida')].copy()\n",
    "df_m.Cliente.unique().shape"
   ]
  },
  {
   "cell_type": "markdown",
   "id": "cdbe1e96",
   "metadata": {
    "heading_collapsed": true,
    "hidden": true
   },
   "source": [
    "### W_t "
   ]
  },
  {
   "cell_type": "markdown",
   "id": "71954152",
   "metadata": {
    "hidden": true
   },
   "source": [
    "Los años son desde el 2018 al 2021. Entonces se sabe cuantas porciones se tienen a disposicion\n",
    "\n",
    "Se construyó una función para ajustar el valor de K de forma más facil."
   ]
  },
  {
   "cell_type": "code",
   "execution_count": 26,
   "id": "52a8b842",
   "metadata": {
    "hidden": true
   },
   "outputs": [
    {
     "name": "stdout",
     "output_type": "stream",
     "text": [
      "Años de dataframe [2018, 2019, 2020, 2021]\n",
      "Valores posibles de t [1, 2, 3, 4]\n",
      "Valores posibles de t [1, 2, 3, 4]\n",
      "W_t calculado {1: 0.4723665527410147, 2: 0.22313016014842982, 3: 0.10539922456186433, 4: 0.049787068367863944}\n"
     ]
    }
   ],
   "source": [
    "# obteniendo la amplitud de los años de dataframe, se calcula la amplitud que puede alcanzar W_t\n",
    "#Se calcula la cantidad de años que existen entre el año más bajo y el año más grande\n",
    "\n",
    "# max(list(df_m.Año.unique()))- min(list(df_m.Año.unique()))+1\n",
    "#muestra los que hay entre ambas fechas\n",
    "print( 'Años de dataframe',[t for t in range(min(list(df_m.Año.unique()))\n",
    "                ,int(max(list(df_m.Año.unique())))+1)])\n",
    "#W_t según la cantidad de t que podria existir\n",
    "print('Valores posibles de t',\n",
    "      [t+1 for t in range(int(max(list(df_m.Año.unique())))\n",
    "                          +1-int(min(list(df_m.Año.unique()))))])\n",
    "\n",
    "def def_W_t(Data,K_cosnt=0.75):\n",
    "    \"\"\"\n",
    "    Función que:\n",
    "    Entrega un diccionario con los W_t para cada t[1,...,n],\n",
    "    sea 1 el año actual y n el año más antiguo posible según el Data.Año\n",
    "    \n",
    "    Se debe definir la constante K_const.\n",
    "    \"\"\"\n",
    "    #Valores posibles de t\n",
    "    T=[t+1 for t in range(int(max(list(Data.Año.unique()))) +1 -int(min(list(Data.Año.unique()))))]\n",
    "    print('Valores posibles de t',T)\n",
    "    return { t:np.exp(-K_cosnt*t) for t in T}\n",
    "    \n",
    "W_t_m=def_W_t(Data=df_m)\n",
    "print('W_t calculado',W_t_m)"
   ]
  },
  {
   "cell_type": "markdown",
   "id": "c17313d3",
   "metadata": {
    "heading_collapsed": true,
    "hidden": true
   },
   "source": [
    "### Año de inicio de cada cliente "
   ]
  },
  {
   "cell_type": "code",
   "execution_count": 27,
   "id": "35ede39f",
   "metadata": {
    "hidden": true,
    "scrolled": true
   },
   "outputs": [
    {
     "name": "stdout",
     "output_type": "stream",
     "text": [
      "Time Lapsed = 0:0:0.22300195693969727 \n",
      " H:m:s\n",
      "Dimenciones (239, 2)\n",
      "Fecha del cliente más Antiguo 2018-01-02 \n",
      " Fecha del cliente más Nuevo 2021-10-16\n"
     ]
    },
    {
     "data": {
      "text/html": [
       "<div>\n",
       "<style scoped>\n",
       "    .dataframe tbody tr th:only-of-type {\n",
       "        vertical-align: middle;\n",
       "    }\n",
       "\n",
       "    .dataframe tbody tr th {\n",
       "        vertical-align: top;\n",
       "    }\n",
       "\n",
       "    .dataframe thead th {\n",
       "        text-align: right;\n",
       "    }\n",
       "</style>\n",
       "<table border=\"1\" class=\"dataframe\">\n",
       "  <thead>\n",
       "    <tr style=\"text-align: right;\">\n",
       "      <th></th>\n",
       "      <th>Cliente</th>\n",
       "      <th>Fecha Creacion</th>\n",
       "    </tr>\n",
       "  </thead>\n",
       "  <tbody>\n",
       "    <tr>\n",
       "      <th>0</th>\n",
       "      <td>10077788</td>\n",
       "      <td>2020-08-06</td>\n",
       "    </tr>\n",
       "    <tr>\n",
       "      <th>1</th>\n",
       "      <td>10130626</td>\n",
       "      <td>2020-02-22</td>\n",
       "    </tr>\n",
       "    <tr>\n",
       "      <th>2</th>\n",
       "      <td>10154836</td>\n",
       "      <td>2020-02-21</td>\n",
       "    </tr>\n",
       "    <tr>\n",
       "      <th>3</th>\n",
       "      <td>10289403</td>\n",
       "      <td>2019-11-05</td>\n",
       "    </tr>\n",
       "    <tr>\n",
       "      <th>4</th>\n",
       "      <td>10289905</td>\n",
       "      <td>2018-08-23</td>\n",
       "    </tr>\n",
       "  </tbody>\n",
       "</table>\n",
       "</div>"
      ],
      "text/plain": [
       "    Cliente Fecha Creacion\n",
       "0  10077788     2020-08-06\n",
       "1  10130626     2020-02-22\n",
       "2  10154836     2020-02-21\n",
       "3  10289403     2019-11-05\n",
       "4  10289905     2018-08-23"
      ]
     },
     "execution_count": 27,
     "metadata": {},
     "output_type": "execute_result"
    }
   ],
   "source": [
    "\n",
    "def def_primera_compra(Data):\n",
    "    \"\"\"\n",
    "    Función que entrega un dataframe con dos columnas \n",
    "    [Cliente:(id cliente),\n",
    "    'Fecha Creacion':(La fecha donde efectuo la primera compra en el dataframe)]\n",
    "    \"\"\"\n",
    "    start_time_date = time.time()\n",
    "    df_L=Data.copy()\n",
    "    # lsitado de todos los clientes\n",
    "    Id_listado_Clientes=list(df_L.Cliente.unique())\n",
    "    #Creacion de las fechas de la primera compra en la data df_L\n",
    "    Creacion_Clientes=[\n",
    "        df_L[df_L.Cliente== i ][Dic_col['Fecha'][0]].min() \n",
    "        for i in Id_listado_Clientes]\n",
    "    end_time_date = time.time()\n",
    "    time_convert(end_time_date - start_time_date)\n",
    "    Data_Creacion_Clientes=pd.DataFrame(data=\n",
    "             {'Cliente':Id_listado_Clientes\n",
    "             ,'Fecha Creacion':\n",
    "              Creacion_Clientes\n",
    "             })\n",
    "    Data_Creacion_Clientes.Cliente=\\\n",
    "    Data_Creacion_Clientes.Cliente.astype('category')\n",
    "    print('Dimenciones',Data_Creacion_Clientes.shape)\n",
    "    print(\n",
    "    'Fecha del cliente más Antiguo',Data_Creacion_Clientes['Fecha Creacion'].min(),'\\n',\n",
    "    'Fecha del cliente más Nuevo',Data_Creacion_Clientes['Fecha Creacion'].max()\n",
    "    )\n",
    "    return(Data_Creacion_Clientes)\n",
    "df_a_o_M= def_primera_compra(df_m)\n",
    "df_a_o_M.head()"
   ]
  },
  {
   "cell_type": "markdown",
   "id": "6435bc59",
   "metadata": {
    "heading_collapsed": true,
    "hidden": true
   },
   "source": [
    "### Calculo de dias en t para cada cliente "
   ]
  },
  {
   "cell_type": "markdown",
   "id": "c206882b",
   "metadata": {
    "hidden": true
   },
   "source": [
    "Se puede construir un arreglo para cada cliente,\n",
    "Con un función que sea dependientede la fecha. por lo cual se requiere conocimiento de lo siguiente:\n",
    "\n",
    "- Fecha actual.\n",
    "- Fecha del periodo t.\n",
    "- Fecha de creación del cliente\n"
   ]
  },
  {
   "cell_type": "markdown",
   "id": "20451d54",
   "metadata": {
    "hidden": true
   },
   "source": [
    "#### Calculo de delta "
   ]
  },
  {
   "cell_type": "code",
   "execution_count": 28,
   "id": "5299fc5f",
   "metadata": {
    "hidden": true,
    "scrolled": false
   },
   "outputs": [
    {
     "data": {
      "text/plain": [
       "datetime.date(2020, 8, 27)"
      ]
     },
     "execution_count": 28,
     "metadata": {},
     "output_type": "execute_result"
    }
   ],
   "source": [
    "df_m['Día natural'].to_list()[2]"
   ]
  },
  {
   "cell_type": "code",
   "execution_count": 29,
   "id": "f3c3fbe3",
   "metadata": {
    "hidden": true,
    "scrolled": true
   },
   "outputs": [
    {
     "data": {
      "text/plain": [
       "62396    219\n",
       "62397    233\n",
       "62398    240\n",
       "62399    244\n",
       "62400    261\n",
       "Name: Día natural, dtype: int64"
      ]
     },
     "execution_count": 29,
     "metadata": {},
     "output_type": "execute_result"
    }
   ],
   "source": [
    "def D_num(x):\n",
    "    \"\"\"\n",
    "    Función quen Pasa una fecha a un Numero\n",
    "    \n",
    "    Formato x: datetime.date(2020, 8, 27)\n",
    "    \n",
    "    df_m['Día natural'].apply(D_num).head()\n",
    "    \"\"\"\n",
    "    return(x-datetime.date(x.year, 1, 1)).days+1\n",
    "df_m['Día natural'].apply(D_num).head()\n"
   ]
  },
  {
   "cell_type": "code",
   "execution_count": 30,
   "id": "6df9b8c6",
   "metadata": {
    "hidden": true
   },
   "outputs": [
    {
     "data": {
      "text/plain": [
       "1"
      ]
     },
     "execution_count": 30,
     "metadata": {},
     "output_type": "execute_result"
    }
   ],
   "source": [
    "def D_num(x):\n",
    "    \"\"\"\n",
    "    Función quen Pasa una fecha a un Numero\n",
    "    \n",
    "    Formato x: datetime.date(2020, 8, 27)\n",
    "    \n",
    "    df_m['Día natural'].apply(D_num).head()\n",
    "    \"\"\"\n",
    "    return(x-datetime.date(x.year, 1, 1)).days+1\n",
    "df_m['Día natural'].apply(D_num).head()\n",
    "\n",
    "def F_delta_t(fecha_actual,Fecha_t,Fecha_inicio_Ser_Cliente):\n",
    "    \"\"\"\n",
    "    Formato parametros: datetime.date(2020, 8, 27) \n",
    "    \n",
    "   Función que calcula el delta por lo cual se\n",
    "    requiere conocimiento de lo siguiente:\n",
    "\n",
    "    - Fecha actual.\n",
    "    - Fecha del periodo t.\n",
    "    - Fecha de creación del cliente\n",
    "    \n",
    "    Se usa la función D_num para calcular la distancia\n",
    "    \"\"\"\n",
    "    \n",
    "    #===========================================================\n",
    "    #  t pertenece al año actual.    \n",
    "    #------------------------------------------------------------\n",
    "    if(fecha_actual.year<=Fecha_t.year):\n",
    "        \n",
    "        #funcionamiento correcto\n",
    "        #Fecha del dato es inferior o igual a la actual\n",
    "        if(fecha_actual>=Fecha_t):\n",
    "            #Dias de fecha_actual\n",
    "            \n",
    "            #si el cliente fue creado en el mismo año actual\n",
    "            if(fecha_actual.year==Fecha_inicio_Ser_Cliente.year):\n",
    "                return(D_num(fecha_actual)\n",
    "                -D_num(Fecha_inicio_Ser_Cliente))\n",
    "            else:\n",
    "                return(D_num(fecha_actual))\n",
    "            \n",
    "            \n",
    "        # la fecha_t es más actual que la D_a, \n",
    "        else:\n",
    "            if(Fecha_t.year==Fecha_inicio_Ser_Cliente.year):\n",
    "                return(D_num(Fecha_t)\n",
    "                -D_num(Fecha_inicio_Ser_Cliente))\n",
    "            else:\n",
    "                return(D_num(Fecha_t))    \n",
    "            \n",
    "    #===========================================================\n",
    "    # la fecha t, pertenece al mismo año donde se creo el cliente\n",
    "    #------------------------------------------------------------\n",
    "    elif(Fecha_t.year==Fecha_inicio_Ser_Cliente.year):\n",
    "        return(\n",
    "            D_num(datetime.date(Fecha_t.year, 12, 31))\n",
    "            -D_num(Fecha_inicio_Ser_Cliente))\n",
    "    #===========================================================\n",
    "    # Cualquier caso contrario\n",
    "    #------------------------------------------------------------\n",
    "    \n",
    "    else:\n",
    "        #no puede ser 0, ya que delta es \n",
    "        return(D_num(datetime.date(Fecha_t.year, 12, 31)))\n",
    "    \n",
    "F_delta_t(datetime.date(2021, 1, 1),\n",
    "       datetime.date(2022, 1, 1),\n",
    "        datetime.date(2020,1, 6))"
   ]
  },
  {
   "cell_type": "markdown",
   "id": "60aa0c21",
   "metadata": {
    "hidden": true
   },
   "source": [
    "#### Calculo del arreglo Delta_t"
   ]
  },
  {
   "cell_type": "code",
   "execution_count": 31,
   "id": "a82e82df",
   "metadata": {
    "hidden": true,
    "scrolled": true
   },
   "outputs": [
    {
     "name": "stdout",
     "output_type": "stream",
     "text": [
      "Valores posibles de t [1, 2, 3, 4]\n",
      "2021\n",
      "2020\n",
      "2019\n",
      "2018\n"
     ]
    },
    {
     "data": {
      "text/plain": [
       "[249, 366, 365, 86]"
      ]
     },
     "execution_count": 31,
     "metadata": {},
     "output_type": "execute_result"
    }
   ],
   "source": [
    "def array_F_delta(fecha_actual,Fecha_inicio_Ser_Cliente):\n",
    "    #Fecha_Row\n",
    "    \"\"\"\n",
    "    Formato parametros: datetime.date(2020, 8, 27) \n",
    "    \n",
    "   Función que calcula el delta por lo cual se\n",
    "    requiere conocimiento de lo siguiente:\n",
    "\n",
    "    - Fecha actual.\n",
    "    - Fecha del periodo t.\n",
    "    - Fecha de creación del cliente\n",
    "    \n",
    "    Se usa la función D_num para calcular la distancia\n",
    "    \"\"\"\n",
    "    #Defino la cantidad de T que se tiene según el año actual y el año de inicio\n",
    "#     if(fecha_actual<Fecha_Row):\n",
    "#         print('Fecha mal ingresada')\n",
    "#         return('')\n",
    "    if(fecha_actual==Fecha_inicio_Ser_Cliente):\n",
    "        return[1]\n",
    "    else:\n",
    "        T=[t+1 for t in range(fecha_actual.year +1 - Fecha_inicio_Ser_Cliente.year)]\n",
    "        print('Valores posibles de t',T)\n",
    "        a_delta=[]\n",
    "        for t in T:\n",
    "            #verificacion del año\n",
    "            print(fecha_actual.year - t +1)\n",
    "\n",
    "            Fecha_T=datetime.date(\n",
    "                fecha_actual.year-t+1\n",
    "                , 1, 1)\n",
    "            a_delta.append(\n",
    "                F_delta_t(fecha_actual,Fecha_T,Fecha_inicio_Ser_Cliente) )\n",
    "        return(a_delta)\n",
    "    \n",
    "array_F_delta(\n",
    "        datetime.date(2021,9, 6),\n",
    "        datetime.date(2018,10, 6))"
   ]
  },
  {
   "cell_type": "markdown",
   "id": "0f3af0fb",
   "metadata": {
    "heading_collapsed": true,
    "hidden": true
   },
   "source": [
    "### Calculo cantidad de transacciones "
   ]
  },
  {
   "cell_type": "markdown",
   "id": "7a2d2df5",
   "metadata": {
    "hidden": true
   },
   "source": [
    "pasos de la funcion:\n",
    "\n",
    "Se puede construir una arreglo con un valor de F_i_t cosa que despues se suman todos estos valores.\n",
    "\n",
    "primero necesito calcular el compra i,t para cada uno de los T periodos"
   ]
  },
  {
   "cell_type": "markdown",
   "id": "2237c4ca",
   "metadata": {
    "hidden": true
   },
   "source": [
    "##### Defino el cliente a analizar \n",
    "Obtener el arreglo de cada uno de las transacciones, según la fecha actual.\n",
    "\n",
    "Para el ultimo valor esto es más eficiente, proque solo se requiere un groupby"
   ]
  },
  {
   "cell_type": "code",
   "execution_count": 32,
   "id": "a83137a4",
   "metadata": {
    "hidden": true
   },
   "outputs": [
    {
     "name": "stdout",
     "output_type": "stream",
     "text": [
      "10077788 (39, 18)\n"
     ]
    }
   ],
   "source": [
    "i_id_Cust=list(df_m.Cliente.unique())[0]\n",
    "print(i_id_Cust,\n",
    "     df_m[df_m.Cliente==i_id_Cust].shape\n",
    "     )"
   ]
  },
  {
   "cell_type": "code",
   "execution_count": 33,
   "id": "68e67848",
   "metadata": {
    "hidden": true,
    "scrolled": true
   },
   "outputs": [
    {
     "data": {
      "text/plain": [
       "datetime.date(2021, 10, 21)"
      ]
     },
     "execution_count": 33,
     "metadata": {},
     "output_type": "execute_result"
    }
   ],
   "source": [
    " df_m[df_m.Cliente==i_id_Cust]['Día natural'].max()"
   ]
  },
  {
   "cell_type": "markdown",
   "id": "dbb55956",
   "metadata": {
    "hidden": true
   },
   "source": [
    "#### cantidad de compras que realiza el cliente "
   ]
  },
  {
   "cell_type": "code",
   "execution_count": 34,
   "id": "b68317d6",
   "metadata": {
    "hidden": true,
    "scrolled": false
   },
   "outputs": [
    {
     "name": "stdout",
     "output_type": "stream",
     "text": [
      "2021-10-21\n",
      "2020-08-06\n"
     ]
    },
    {
     "data": {
      "text/html": [
       "<div>\n",
       "<style scoped>\n",
       "    .dataframe tbody tr th:only-of-type {\n",
       "        vertical-align: middle;\n",
       "    }\n",
       "\n",
       "    .dataframe tbody tr th {\n",
       "        vertical-align: top;\n",
       "    }\n",
       "\n",
       "    .dataframe thead th {\n",
       "        text-align: right;\n",
       "    }\n",
       "</style>\n",
       "<table border=\"1\" class=\"dataframe\">\n",
       "  <thead>\n",
       "    <tr style=\"text-align: right;\">\n",
       "      <th></th>\n",
       "      <th>Cliente</th>\n",
       "      <th>Año</th>\n",
       "      <th>Compras</th>\n",
       "      <th>T</th>\n",
       "    </tr>\n",
       "  </thead>\n",
       "  <tbody>\n",
       "    <tr>\n",
       "      <th>2</th>\n",
       "      <td>10077788</td>\n",
       "      <td>2020</td>\n",
       "      <td>16</td>\n",
       "      <td>2</td>\n",
       "    </tr>\n",
       "    <tr>\n",
       "      <th>3</th>\n",
       "      <td>10077788</td>\n",
       "      <td>2021</td>\n",
       "      <td>23</td>\n",
       "      <td>1</td>\n",
       "    </tr>\n",
       "  </tbody>\n",
       "</table>\n",
       "</div>"
      ],
      "text/plain": [
       "    Cliente   Año  Compras  T\n",
       "2  10077788  2020       16  2\n",
       "3  10077788  2021       23  1"
      ]
     },
     "execution_count": 34,
     "metadata": {},
     "output_type": "execute_result"
    }
   ],
   "source": [
    "def Val_Compra_i_t(Data,id_Client):\n",
    "    #defino el df\n",
    "    \"\"\"\n",
    "    Cantidad de compras que realiza el cliente id_Client , en los datos Data.\n",
    "    \n",
    "    id_Client=Codiggo del Cliente\n",
    "    Data:df con hisotiral del compra del cliente\n",
    "    Requiere['Cliente','Año','Día natural']\n",
    "    \n",
    "    Entrega Dataframe con [ Cliente Año Compras T] para cada año del cliente\n",
    "    \"\"\"\n",
    "    df_Client=Data[Data.Cliente==id_Client].copy()\n",
    "    \n",
    "    fecha_actual=df_Client['Día natural'].max()\n",
    "    print(fecha_actual)\n",
    "    fecha_inicio=df_Client['Día natural'].min()\n",
    "    print(fecha_inicio)\n",
    "    if 'Año' not in df_Client.columns.to_list():\n",
    "        df_Client['Año']=df_Client['Día natural'].apply(lambda x: x.year)\n",
    "    df_G=df_Client.groupby(['Cliente','Año']).count().reset_index()[['Cliente','Año','Día natural']]\n",
    "    df_G=df_G.rename(columns = {'Día natural':'Compras'})\n",
    "    df_G=df_G[df_G['Compras']>0]\n",
    "    #agrego columnas T\n",
    "    A_max= int(max(list(df_G.Año.unique())))\n",
    "    df_G['T']=df_G.Año.apply(lambda x: A_max - int(x) +1)\n",
    "    return df_G\n",
    "\n",
    "Val_Compra_i_t(df_m,i_id_Cust)"
   ]
  },
  {
   "cell_type": "markdown",
   "id": "75c8f33c",
   "metadata": {
    "hidden": true
   },
   "source": [
    "###### Paso por filas "
   ]
  },
  {
   "cell_type": "code",
   "execution_count": 35,
   "id": "7aa28bc8",
   "metadata": {
    "hidden": true
   },
   "outputs": [
    {
     "data": {
      "text/html": [
       "<div>\n",
       "<style scoped>\n",
       "    .dataframe tbody tr th:only-of-type {\n",
       "        vertical-align: middle;\n",
       "    }\n",
       "\n",
       "    .dataframe tbody tr th {\n",
       "        vertical-align: top;\n",
       "    }\n",
       "\n",
       "    .dataframe thead th {\n",
       "        text-align: right;\n",
       "    }\n",
       "</style>\n",
       "<table border=\"1\" class=\"dataframe\">\n",
       "  <thead>\n",
       "    <tr style=\"text-align: right;\">\n",
       "      <th></th>\n",
       "      <th>Cliente</th>\n",
       "      <th>Fecha Creacion</th>\n",
       "    </tr>\n",
       "  </thead>\n",
       "  <tbody>\n",
       "    <tr>\n",
       "      <th>0</th>\n",
       "      <td>10077788</td>\n",
       "      <td>2020-08-06</td>\n",
       "    </tr>\n",
       "    <tr>\n",
       "      <th>1</th>\n",
       "      <td>10130626</td>\n",
       "      <td>2020-02-22</td>\n",
       "    </tr>\n",
       "    <tr>\n",
       "      <th>2</th>\n",
       "      <td>10154836</td>\n",
       "      <td>2020-02-21</td>\n",
       "    </tr>\n",
       "    <tr>\n",
       "      <th>3</th>\n",
       "      <td>10289403</td>\n",
       "      <td>2019-11-05</td>\n",
       "    </tr>\n",
       "    <tr>\n",
       "      <th>4</th>\n",
       "      <td>10289905</td>\n",
       "      <td>2018-08-23</td>\n",
       "    </tr>\n",
       "  </tbody>\n",
       "</table>\n",
       "</div>"
      ],
      "text/plain": [
       "    Cliente Fecha Creacion\n",
       "0  10077788     2020-08-06\n",
       "1  10130626     2020-02-22\n",
       "2  10154836     2020-02-21\n",
       "3  10289403     2019-11-05\n",
       "4  10289905     2018-08-23"
      ]
     },
     "execution_count": 35,
     "metadata": {},
     "output_type": "execute_result"
    }
   ],
   "source": [
    "df_a_o_M.head()"
   ]
  },
  {
   "cell_type": "code",
   "execution_count": 36,
   "id": "92cdf642",
   "metadata": {
    "hidden": true
   },
   "outputs": [
    {
     "data": {
      "text/plain": [
       "Material (Nombre)       1010078(Trutro Entero Selección)\n",
       "Kilos Venta KG                                        22\n",
       "Precio                                              1690\n",
       "Día natural                                   2021-09-14\n",
       "Día Semana                                        Martes\n",
       "Semana                                                37\n",
       "Mes                                           Septiembre\n",
       "Año                                                 2021\n",
       "Población                                     La Florida\n",
       "Centro                               Sucursal Huechuraba\n",
       "Cliente                                          9966011\n",
       "Cluster                                          Premium\n",
       "Segmento.1                          Cobertura Mediano SD\n",
       "Categoría Cliente                   Especialista en Crud\n",
       "Año Creación                                        2007\n",
       "Material Favorito                                1010267\n",
       "Frecuencia Historica                                 350\n",
       "Mes_num                                                9\n",
       "Name: 295794, dtype: object"
      ]
     },
     "execution_count": 36,
     "metadata": {},
     "output_type": "execute_result"
    }
   ],
   "source": [
    "df_m.loc[295794]"
   ]
  },
  {
   "cell_type": "code",
   "execution_count": 37,
   "id": "53d756b8",
   "metadata": {
    "hidden": true
   },
   "outputs": [
    {
     "data": {
      "text/html": [
       "<div>\n",
       "<style scoped>\n",
       "    .dataframe tbody tr th:only-of-type {\n",
       "        vertical-align: middle;\n",
       "    }\n",
       "\n",
       "    .dataframe tbody tr th {\n",
       "        vertical-align: top;\n",
       "    }\n",
       "\n",
       "    .dataframe thead th {\n",
       "        text-align: right;\n",
       "    }\n",
       "</style>\n",
       "<table border=\"1\" class=\"dataframe\">\n",
       "  <thead>\n",
       "    <tr style=\"text-align: right;\">\n",
       "      <th></th>\n",
       "      <th>Cliente</th>\n",
       "      <th>Fecha Creacion</th>\n",
       "    </tr>\n",
       "  </thead>\n",
       "  <tbody>\n",
       "    <tr>\n",
       "      <th>238</th>\n",
       "      <td>9966011</td>\n",
       "      <td>2018-01-02</td>\n",
       "    </tr>\n",
       "  </tbody>\n",
       "</table>\n",
       "</div>"
      ],
      "text/plain": [
       "     Cliente Fecha Creacion\n",
       "238  9966011     2018-01-02"
      ]
     },
     "execution_count": 37,
     "metadata": {},
     "output_type": "execute_result"
    }
   ],
   "source": [
    "# W_t_m\n",
    "df_a_o_M[df_a_o_M.Cliente=='9966011']"
   ]
  },
  {
   "cell_type": "markdown",
   "id": "946418fd",
   "metadata": {
    "heading_collapsed": true,
    "hidden": true
   },
   "source": [
    "### Función Calculo F_Row "
   ]
  },
  {
   "cell_type": "code",
   "execution_count": 48,
   "id": "4f41f6c2",
   "metadata": {
    "hidden": true,
    "scrolled": true
   },
   "outputs": [
    {
     "ename": "NameError",
     "evalue": "name 'W_t_m' is not defined",
     "output_type": "error",
     "traceback": [
      "\u001b[1;31m---------------------------------------------------------------------------\u001b[0m",
      "\u001b[1;31mNameError\u001b[0m                                 Traceback (most recent call last)",
      "\u001b[1;32m<ipython-input-48-42feffed7a03>\u001b[0m in \u001b[0;36m<module>\u001b[1;34m\u001b[0m\n\u001b[0;32m      1\u001b[0m \u001b[1;31m# W_t_a,df_a_o,\u001b[0m\u001b[1;33m\u001b[0m\u001b[1;33m\u001b[0m\u001b[1;33m\u001b[0m\u001b[0m\n\u001b[1;32m----> 2\u001b[1;33m \u001b[1;32mdef\u001b[0m \u001b[0mF_Calculo_Row\u001b[0m\u001b[1;33m(\u001b[0m\u001b[0mData\u001b[0m\u001b[1;33m,\u001b[0m\u001b[0mRow\u001b[0m\u001b[1;33m,\u001b[0m\u001b[0mW_t_a\u001b[0m\u001b[1;33m=\u001b[0m\u001b[0mW_t_m\u001b[0m\u001b[1;33m,\u001b[0m\u001b[0mdf_a_o\u001b[0m\u001b[1;33m=\u001b[0m\u001b[0mdf_a_o_M\u001b[0m\u001b[1;33m)\u001b[0m\u001b[1;33m:\u001b[0m\u001b[1;33m\u001b[0m\u001b[1;33m\u001b[0m\u001b[0m\n\u001b[0m\u001b[0;32m      3\u001b[0m     \"\"\"\n\u001b[0;32m      4\u001b[0m     \u001b[0mRequiere\u001b[0m \u001b[0mParametros\u001b[0m \u001b[0mglovales\u001b[0m\u001b[1;33m:\u001b[0m\u001b[1;33m\u001b[0m\u001b[1;33m\u001b[0m\u001b[0m\n\u001b[0;32m      5\u001b[0m         \u001b[0mW_t_a\u001b[0m \u001b[1;33m[\u001b[0m\u001b[0mDiccionario\u001b[0m \u001b[0mT\u001b[0m\u001b[1;33m=\u001b[0m\u001b[1;33m{\u001b[0m\u001b[1;36m1\u001b[0m\u001b[1;33m,\u001b[0m\u001b[1;36m2\u001b[0m\u001b[1;33m,\u001b[0m\u001b[1;36m3\u001b[0m\u001b[1;33m,\u001b[0m\u001b[1;36m4.\u001b[0m\u001b[1;33m.\u001b[0m\u001b[1;33m.\u001b[0m\u001b[0mn\u001b[0m\u001b[1;33m,\u001b[0m\u001b[1;33m}\u001b[0m\u001b[1;33m]\u001b[0m\u001b[1;33m\u001b[0m\u001b[1;33m\u001b[0m\u001b[0m\n",
      "\u001b[1;31mNameError\u001b[0m: name 'W_t_m' is not defined"
     ]
    }
   ],
   "source": [
    "# W_t_a,df_a_o,\n",
    "def F_Calculo_Row(Data,Row,W_t_a=W_t_m,df_a_o=df_a_o_M):\n",
    "    \"\"\"\n",
    "    Requiere Parametros glovales:\n",
    "        W_t_a [Diccionario T={1,2,3,4...n,}]\n",
    "            construido previamente por: def_W_t\n",
    "            Listado de los posibles valores de W, según el valor t\n",
    "        df_a_o\n",
    "            construido previamente por: def_primera_compra\n",
    "            Dataframe con la fecha que el cliente es creado\n",
    "        \n",
    "    Funciones:\n",
    "        Val_Compra_i_t \n",
    "            Dataframe de la cantidad de compras por T\n",
    "        \n",
    "        A_delta:  array_F_delta\n",
    "            Calcula el listado de los delta i,t \n",
    "            según la fecha Row y la Fecha de creación(df_a_o)\n",
    "        Arreglo con los deltas\n",
    "    \"\"\"\n",
    "    #Se crea la hisotria previa a la fila actual\n",
    "    i_id_Cust=Row.Cliente\n",
    "    df_F=Data[(Data.Cliente==i_id_Cust)\n",
    "             & (Data['Día natural']<=Row['Día natural'])\n",
    "             ]\n",
    "    \n",
    "    print('Cliente y Fecha Row',Row[['Cliente','Día natural']]\n",
    "          ,'\\n Shape',df_F.shape)\n",
    "    #====================\n",
    "    #Data Frame return\n",
    "    #-----------------------------\n",
    "    \n",
    "    #construyo un dataframe, que servirá para calcular con las columnas el F\n",
    "    df_Compras_client=Val_Compra_i_t(df_F,i_id_Cust) \n",
    "    \n",
    "    \n",
    "    #=============================\n",
    "    #Arreglo con los delta\n",
    "    #-----------------------------\n",
    "    Fecha_Creacion=df_a_o[df_a_o.Cliente==i_id_Cust]['Fecha Creacion'].to_list()[0]\n",
    "    print('Fecha_Creacion',Fecha_Creacion)\n",
    "    \n",
    "    A_delta=array_F_delta(Row['Día natural'],Fecha_Creacion)\n",
    "    print(A_delta)\n",
    "    \n",
    "    \n",
    "    #===========================================\n",
    "    #W_t\n",
    "    #-----------------------------\n",
    "    \n",
    "    if (df_Compras_client.shape[0]==1):\n",
    "        df_Compras_client['W_t'] = W_t_a[df_Compras_client['T'].to_list()[0]]\n",
    "        print('Sin historia')\n",
    "        df_Compras_client['Dif_i_t']=A_delta[df_Compras_client['T'].to_list()[0]-1]\n",
    "        #df_Compras_client['Dif_i_t']=df_Compras_client['T'].apply( lambda x: A_delta[x-1])\n",
    "        \n",
    "       \n",
    "    else:\n",
    "        df_Compras_client['W_t']=df_Compras_client['T'].apply( lambda x: W_t_a[x])\n",
    "        df_Compras_client['Dif_i_t']=df_Compras_client['T'].apply( lambda x: A_delta[x-1])\n",
    "        \n",
    "    df_Compras_client['F_up']=df_Compras_client.apply( lambda x: x['W_t']*(x['Compras']/x['Dif_i_t'])\n",
    "                            ,axis=1)\n",
    "    F_i_Resultado=df_Compras_client['F_up'].sum()\\\n",
    "                    /df_Compras_client['W_t'].astype('float64').sum()\n",
    "    return (F_i_Resultado,df_Compras_client)\n",
    "        \n",
    "    \n",
    "F_rest=F_Calculo_Row(df_m,\n",
    "#               df_m.loc[295794])\n",
    "#               df_m.iloc[1])\n",
    "                  df_m[df_m.Cliente =='9966011'].tail(1).iloc[0]  )\n",
    "                     \n",
    "F_rest#['T']#.apply( lambda x: W_t_m[x])"
   ]
  },
  {
   "cell_type": "markdown",
   "id": "b6d7401d",
   "metadata": {
    "heading_collapsed": true,
    "hidden": true
   },
   "source": [
    "###### Exploración "
   ]
  },
  {
   "cell_type": "code",
   "execution_count": 39,
   "id": "d8e64151",
   "metadata": {
    "hidden": true,
    "scrolled": true
   },
   "outputs": [
    {
     "data": {
      "text/plain": [
       "{1: 0.4723665527410147,\n",
       " 2: 0.22313016014842982,\n",
       " 3: 0.10539922456186433,\n",
       " 4: 0.049787068367863944}"
      ]
     },
     "execution_count": 39,
     "metadata": {},
     "output_type": "execute_result"
    }
   ],
   "source": [
    "W_t_m"
   ]
  },
  {
   "cell_type": "code",
   "execution_count": 40,
   "id": "f8833ec1",
   "metadata": {
    "hidden": true,
    "scrolled": true
   },
   "outputs": [
    {
     "data": {
      "text/plain": [
       "0.030419761639769703"
      ]
     },
     "execution_count": 40,
     "metadata": {},
     "output_type": "execute_result"
    }
   ],
   "source": [
    "F_rest[1]['F_up'].sum()\\\n",
    "/F_rest[1]['W_t'].astype('float64').sum()"
   ]
  },
  {
   "cell_type": "markdown",
   "id": "544219f7",
   "metadata": {},
   "source": [
    "## Prueba en un Dataframe\n",
    "\n",
    "Se vuelven a construir las funciones, para que estas esten alineadas en una sola subsección"
   ]
  },
  {
   "cell_type": "markdown",
   "id": "fac13ba6",
   "metadata": {},
   "source": [
    "### Funciones "
   ]
  },
  {
   "cell_type": "markdown",
   "id": "dccde04c",
   "metadata": {},
   "source": [
    "#### def_W_t"
   ]
  },
  {
   "cell_type": "code",
   "execution_count": 27,
   "id": "45ef340c",
   "metadata": {},
   "outputs": [],
   "source": [
    "def def_W_t(Data,K_cosnt=0.75):\n",
    "    \"\"\"\n",
    "    Función que:\n",
    "    Entrega un diccionario con los W_t para cada t[1,...,n],\n",
    "    sea 1 el año actual y n el año más antiguo posible según el Data.Año\n",
    "    \n",
    "    Se debe definir la constante K_const.\n",
    "    \"\"\"\n",
    "    #Valores posibles de t\n",
    "    T=[t+1 for t in range(int(max(list(Data.Año.unique()))) +1 -int(min(list(Data.Año.unique()))))]\n",
    "    print('Valores posibles de t',T)\n",
    "    return { t:np.exp(-K_cosnt*t) for t in T}"
   ]
  },
  {
   "cell_type": "markdown",
   "id": "e23ac2e3",
   "metadata": {},
   "source": [
    "#### def_primera_compra"
   ]
  },
  {
   "cell_type": "code",
   "execution_count": 28,
   "id": "439d8762",
   "metadata": {},
   "outputs": [],
   "source": [
    "\n",
    "def def_primera_compra(Data):\n",
    "    \"\"\"\n",
    "    Función que entrega un dataframe con dos columnas \n",
    "    [Cliente:(id cliente),\n",
    "    'Fecha Creacion':(La fecha donde efectuo la primera compra en el dataframe)]\n",
    "    \"\"\"\n",
    "    start_time_date = time.time()\n",
    "    df_L=Data.copy()\n",
    "    # lsitado de todos los clientes\n",
    "    Id_listado_Clientes=list(df_L.Cliente.unique())\n",
    "    #Creacion de las fechas de la primera compra en la data df_L\n",
    "    Creacion_Clientes=[\n",
    "        df_L[df_L.Cliente== i ][Dic_col['Fecha'][0]].min() \n",
    "        for i in Id_listado_Clientes]\n",
    "    end_time_date = time.time()\n",
    "    time_convert(end_time_date - start_time_date)\n",
    "    Data_Creacion_Clientes=pd.DataFrame(data=\n",
    "             {'Cliente':Id_listado_Clientes\n",
    "             ,'Fecha Creacion':\n",
    "              Creacion_Clientes\n",
    "             })\n",
    "    Data_Creacion_Clientes.Cliente=\\\n",
    "    Data_Creacion_Clientes.Cliente.astype('category')\n",
    "    print('Dimenciones',Data_Creacion_Clientes.shape)\n",
    "    print(\n",
    "    'Fecha del cliente más Antiguo',Data_Creacion_Clientes['Fecha Creacion'].min(),'\\n',\n",
    "    'Fecha del cliente más Nuevo',Data_Creacion_Clientes['Fecha Creacion'].max()\n",
    "    )\n",
    "    return(Data_Creacion_Clientes)\n",
    "# df_a_o_M= def_primera_compra(df_m)\n",
    "# df_a_o_M.head()"
   ]
  },
  {
   "cell_type": "markdown",
   "id": "216f6e22",
   "metadata": {},
   "source": [
    "#### Delta "
   ]
  },
  {
   "cell_type": "markdown",
   "id": "d58635d2",
   "metadata": {},
   "source": [
    "###### Función Delta unitario "
   ]
  },
  {
   "cell_type": "code",
   "execution_count": 29,
   "id": "2b75c856",
   "metadata": {},
   "outputs": [
    {
     "data": {
      "text/plain": [
       "1"
      ]
     },
     "execution_count": 29,
     "metadata": {},
     "output_type": "execute_result"
    }
   ],
   "source": [
    "def D_num(x):\n",
    "    \"\"\"\n",
    "    Función quen Pasa una fecha a un Numero\n",
    "    \n",
    "    Formato x: datetime.date(2020, 8, 27)\n",
    "    \n",
    "    df_m['Día natural'].apply(D_num).head()\n",
    "    \"\"\"\n",
    "    return(x-datetime.date(x.year, 1, 1)).days+1\n",
    "# df_m['Día natural'].apply(D_num).head()\n",
    "\n",
    "def F_delta_t(fecha_actual,Fecha_t,Fecha_inicio_Ser_Cliente):\n",
    "    \"\"\"\n",
    "    Formato parametros: datetime.date(2020, 8, 27) \n",
    "    \n",
    "   Función que calcula el delta por lo cual se\n",
    "    requiere conocimiento de lo siguiente:\n",
    "\n",
    "    - Fecha actual.\n",
    "    - Fecha del periodo t.\n",
    "    - Fecha de creación del cliente\n",
    "    \n",
    "    Se usa la función D_num para calcular la distancia\n",
    "    \"\"\"\n",
    "    \n",
    "    #===========================================================\n",
    "    #  t pertenece al año actual.    \n",
    "    #------------------------------------------------------------\n",
    "    if(fecha_actual.year<=Fecha_t.year):\n",
    "        \n",
    "        #funcionamiento correcto\n",
    "        #Fecha del dato es inferior o igual a la actual\n",
    "        if(fecha_actual>=Fecha_t):\n",
    "            #Dias de fecha_actual\n",
    "            \n",
    "            #si el cliente fue creado en el mismo año actual\n",
    "            if(fecha_actual.year==Fecha_inicio_Ser_Cliente.year):\n",
    "                return(D_num(fecha_actual)\n",
    "                -D_num(Fecha_inicio_Ser_Cliente))\n",
    "            else:\n",
    "                return(D_num(fecha_actual))\n",
    "            \n",
    "            \n",
    "        # la fecha_t es más actual que la D_a, \n",
    "        else:\n",
    "            if(Fecha_t.year==Fecha_inicio_Ser_Cliente.year):\n",
    "                return(D_num(Fecha_t)\n",
    "                -D_num(Fecha_inicio_Ser_Cliente))\n",
    "            else:\n",
    "                return(D_num(Fecha_t))    \n",
    "            \n",
    "    #===========================================================\n",
    "    # la fecha t, pertenece al mismo año donde se creo el cliente\n",
    "    #------------------------------------------------------------\n",
    "    elif(Fecha_t.year==Fecha_inicio_Ser_Cliente.year):\n",
    "        return(\n",
    "            D_num(datetime.date(Fecha_t.year, 12, 31))\n",
    "            -D_num(Fecha_inicio_Ser_Cliente))\n",
    "    #===========================================================\n",
    "    # Cualquier caso contrario\n",
    "    #------------------------------------------------------------\n",
    "    \n",
    "    else:\n",
    "        #no puede ser 0, ya que delta es \n",
    "        return(D_num(datetime.date(Fecha_t.year, 12, 31)))\n",
    "    \n",
    "F_delta_t(datetime.date(2021, 1, 1),\n",
    "       datetime.date(2022, 1, 1),\n",
    "        datetime.date(2020,1, 6))"
   ]
  },
  {
   "cell_type": "markdown",
   "id": "251d6b1a",
   "metadata": {},
   "source": [
    "###### Delta Array  "
   ]
  },
  {
   "cell_type": "code",
   "execution_count": 90,
   "id": "6c018858",
   "metadata": {},
   "outputs": [
    {
     "data": {
      "text/plain": [
       "[364]"
      ]
     },
     "execution_count": 90,
     "metadata": {},
     "output_type": "execute_result"
    }
   ],
   "source": [
    "def array_F_delta(fecha_actual,Fecha_inicio_Ser_Cliente):\n",
    "    #Fecha_Row\n",
    "    \"\"\"\n",
    "    Formato parametros: datetime.date(2020, 8, 27) \n",
    "    \n",
    "   Función que calcula el delta por lo cual se\n",
    "    requiere conocimiento de lo siguiente:\n",
    "\n",
    "    - Fecha actual.\n",
    "    - Fecha del periodo t.\n",
    "    - Fecha de creación del cliente\n",
    "    \n",
    "    Se usa la función D_num para calcular la distancia\n",
    "    \"\"\"\n",
    "    #Defino la cantidad de T que se tiene según el año actual y el año de inicio\n",
    "#     if(fecha_actual<Fecha_Row):\n",
    "#         print('Fecha mal ingresada')\n",
    "#         return('')\n",
    "    if(fecha_actual==Fecha_inicio_Ser_Cliente):\n",
    "        return[1]\n",
    "    else:\n",
    "        T=[t+1 for t in range(fecha_actual.year +1 - Fecha_inicio_Ser_Cliente.year)]\n",
    "#         print('Valores posibles de t',T)\n",
    "        a_delta=[]\n",
    "        for t in T:\n",
    "            #verificacion del año\n",
    "#             print(fecha_actual.year - t +1)\n",
    "\n",
    "            Fecha_T=datetime.date(\n",
    "                fecha_actual.year-t+1\n",
    "                , 1, 1)\n",
    "            F_Val_t= F_delta_t(fecha_actual,Fecha_T,Fecha_inicio_Ser_Cliente) \n",
    "            if(F_Val_t<1):\n",
    "                a_delta.append(1)\n",
    "            else:\n",
    "                a_delta.append(F_Val_t)\n",
    "        return(a_delta)\n",
    "    \n",
    "array_F_delta(\n",
    "        datetime.date(2018,12, 31),\n",
    "        datetime.date(2018,1, 1))"
   ]
  },
  {
   "cell_type": "markdown",
   "id": "74012075",
   "metadata": {
    "heading_collapsed": true
   },
   "source": [
    "#### Calculo cantidad de transacciones "
   ]
  },
  {
   "cell_type": "markdown",
   "id": "f59694e7",
   "metadata": {
    "heading_collapsed": true,
    "hidden": true
   },
   "source": [
    "###### cantidad de compras que realiza el cliente"
   ]
  },
  {
   "cell_type": "code",
   "execution_count": 31,
   "id": "81704293",
   "metadata": {
    "hidden": true
   },
   "outputs": [],
   "source": [
    "def Val_Compra_i_t(Data,id_Client):\n",
    "    #defino el df\n",
    "    \"\"\"\n",
    "    Cantidad de compras que realiza el cliente id_Client , en los datos Data.\n",
    "    \n",
    "    id_Client=Codiggo del Cliente\n",
    "    Data:df con hisotiral del compra del cliente\n",
    "    Requiere['Cliente','Año','Día natural']\n",
    "    \n",
    "    Entrega Dataframe con [ Cliente Año Compras T] para cada año del cliente\n",
    "    \"\"\"\n",
    "    df_Client=Data[Data.Cliente==id_Client].copy()\n",
    "    \n",
    "    fecha_actual=df_Client['Día natural'].max()\n",
    "#     print(fecha_actual)\n",
    "    fecha_inicio=df_Client['Día natural'].min()\n",
    "#     print(fecha_inicio)\n",
    "    if 'Año' not in df_Client.columns.to_list():\n",
    "        df_Client['Año']=df_Client['Día natural'].apply(lambda x: x.year)\n",
    "    df_G=df_Client.groupby(['Cliente','Año']).count().reset_index()[['Cliente','Año','Día natural']]\n",
    "    df_G=df_G.rename(columns = {'Día natural':'Compras'})\n",
    "    df_G=df_G[df_G['Compras']>0]\n",
    "    #agrego columnas T\n",
    "    A_max= int(max(list(df_G.Año.unique())))\n",
    "    df_G['T']=df_G.Año.apply(lambda x: A_max - int(x) +1)\n",
    "    return df_G\n",
    "\n",
    "# Val_Compra_i_t(df_test,i_id_Cust)\n",
    "# Val_Compra_i_t(df_test,df_test.Cliente.unique()[2])"
   ]
  },
  {
   "cell_type": "markdown",
   "id": "8b4e7f4c",
   "metadata": {},
   "source": [
    "#### Función Calculo F_Row"
   ]
  },
  {
   "cell_type": "markdown",
   "id": "372df939",
   "metadata": {
    "heading_collapsed": true
   },
   "source": [
    "###### Con print "
   ]
  },
  {
   "cell_type": "code",
   "execution_count": 39,
   "id": "050f96e5",
   "metadata": {
    "hidden": true
   },
   "outputs": [],
   "source": [
    "# W_t_a,df_a_o,\n",
    "# W_t_a=W_t_m,df_a_o=df_a_o_M\n",
    "def F_Calculo_Row(Data,Row,W_t_a,df_a_o):\n",
    "    \"\"\"\n",
    "    Requiere Parametros glovales:\n",
    "        W_t_a [Diccionario T={1,2,3,4...n,}]\n",
    "            construido previamente por: def_W_t\n",
    "            Listado de los posibles valores de W, según el valor t\n",
    "        df_a_o\n",
    "            construido previamente por: def_primera_compra\n",
    "            Dataframe con la fecha que el cliente es creado\n",
    "        \n",
    "    Funciones:\n",
    "        Val_Compra_i_t \n",
    "            Dataframe de la cantidad de compras por T\n",
    "        \n",
    "        A_delta:  array_F_delta\n",
    "            Calcula el listado de los delta i,t \n",
    "            según la fecha Row y la Fecha de creación(df_a_o)\n",
    "        Arreglo con los deltas\n",
    "    \"\"\"\n",
    "    #Se crea la hisotria previa a la fila actual\n",
    "    i_id_Cust=Row.Cliente\n",
    "    df_F=Data[(Data.Cliente==i_id_Cust)\n",
    "             & (Data['Día natural']<=Row['Día natural'])\n",
    "             ].copy()\n",
    "    \n",
    "    print('Cliente y Fecha Row',Row[['Cliente','Día natural']],'\\n Shape',df_F.shape)\n",
    "    #====================\n",
    "    #Data Frame return\n",
    "    #-----------------------------\n",
    "    \n",
    "    #construyo un dataframe, que servirá para calcular con las columnas el F\n",
    "    df_Compras_client=Val_Compra_i_t(df_F,i_id_Cust) \n",
    "    df_Compras_client['T']=df_Compras_client['T'].astype('int64')\n",
    "    \n",
    "    #=============================\n",
    "    #Arreglo con los delta\n",
    "    #-----------------------------\n",
    "    Fecha_Creacion=df_a_o[df_a_o.Cliente==i_id_Cust]['Fecha Creacion'].to_list()[0]\n",
    "    print('Fecha_Creacion',Fecha_Creacion)\n",
    "    \n",
    "    A_delta=array_F_delta(Row['Día natural'],Fecha_Creacion)\n",
    "    print('Delta',A_delta)\n",
    "    \n",
    "    \n",
    "    #===========================================\n",
    "    #W_t\n",
    "    #-----------------------------\n",
    "    \n",
    "    if (df_Compras_client.shape[0]==1):\n",
    "        df_Compras_client['W_t'] = W_t_a[df_Compras_client['T'].to_list()[0]]\n",
    "#         print('Sin historia')\n",
    "        df_Compras_client['Dif_i_t']=A_delta[df_Compras_client['T'].to_list()[0]-1]\n",
    "        #df_Compras_client['Dif_i_t']=df_Compras_client['T'].apply( lambda x: A_delta[x-1])\n",
    "        \n",
    "       \n",
    "    else:\n",
    "        df_Compras_client['W_t']=df_Compras_client['T'].apply( lambda x: W_t_a[x])\n",
    "        \n",
    "        df_Compras_client['Dif_i_t']=df_Compras_client['T'].apply( lambda x: A_delta[x-1])\n",
    "        \n",
    "    df_Compras_client['F_up']=df_Compras_client.apply(\n",
    "        lambda x: x['W_t']*(x['Compras']/x['Dif_i_t'])\n",
    "                            ,axis=1)\n",
    "    F_i_Resultado=df_Compras_client['F_up'].sum()\\\n",
    "                    /df_Compras_client['W_t'].astype('float64').sum()\n",
    "    return (F_i_Resultado,df_Compras_client)"
   ]
  },
  {
   "cell_type": "markdown",
   "id": "be4e3a7a",
   "metadata": {
    "heading_collapsed": true
   },
   "source": [
    "##### Sin  print "
   ]
  },
  {
   "cell_type": "code",
   "execution_count": 40,
   "id": "b2200dd4",
   "metadata": {
    "hidden": true
   },
   "outputs": [],
   "source": [
    "# W_t_a,df_a_o,\n",
    "# W_t_a=W_t_m,df_a_o=df_a_o_M\n",
    "def F_Calculo_Row(Data,Row,W_t_a,df_a_o):\n",
    "    \"\"\"\n",
    "    Requiere Parametros glovales:\n",
    "        W_t_a [Diccionario T={1,2,3,4...n,}]\n",
    "            construido previamente por: def_W_t\n",
    "            Listado de los posibles valores de W, según el valor t\n",
    "        df_a_o\n",
    "            construido previamente por: def_primera_compra\n",
    "            Dataframe con la fecha que el cliente es creado\n",
    "        \n",
    "    Funciones:\n",
    "        Val_Compra_i_t \n",
    "            Dataframe de la cantidad de compras por T\n",
    "        \n",
    "        A_delta:  array_F_delta\n",
    "            Calcula el listado de los delta i,t \n",
    "            según la fecha Row y la Fecha de creación(df_a_o)\n",
    "        Arreglo con los deltas\n",
    "    \"\"\"\n",
    "    #Se crea la hisotria previa a la fila actual\n",
    "    i_id_Cust=Row.Cliente\n",
    "    df_F=Data[(Data.Cliente==i_id_Cust)\n",
    "             & (Data['Día natural']<=Row['Día natural'])\n",
    "             ].copy()\n",
    "    \n",
    "    #print('Cliente y Fecha Row',Row[['Cliente','Día natural']],'\\n Shape',df_F.shape)\n",
    "    #====================\n",
    "    #Data Frame return\n",
    "    #-----------------------------\n",
    "    \n",
    "    #construyo un dataframe, que servirá para calcular con las columnas el F\n",
    "    df_Compras_client=Val_Compra_i_t(df_F,i_id_Cust) \n",
    "    df_Compras_client['T']=df_Compras_client['T'].astype('int64')\n",
    "    \n",
    "    #=============================\n",
    "    #Arreglo con los delta\n",
    "    #-----------------------------\n",
    "    Fecha_Creacion=df_a_o[df_a_o.Cliente==i_id_Cust]['Fecha Creacion'].to_list()[0]\n",
    "    ##print('Fecha_Creacion',Fecha_Creacion)\n",
    "    \n",
    "    A_delta=array_F_delta(Row['Día natural'],Fecha_Creacion)\n",
    "    #print('Delta',A_delta)\n",
    "    \n",
    "    \n",
    "    #===========================================\n",
    "    #W_t\n",
    "    #-----------------------------\n",
    "    \n",
    "    if (df_Compras_client.shape[0]==1):\n",
    "        df_Compras_client['W_t'] = W_t_a[df_Compras_client['T'].to_list()[0]]\n",
    "#         ##print('Sin historia')\n",
    "        df_Compras_client['Dif_i_t']=A_delta[df_Compras_client['T'].to_list()[0]-1]\n",
    "        #df_Compras_client['Dif_i_t']=df_Compras_client['T'].apply( lambda x: A_delta[x-1])\n",
    "        \n",
    "       \n",
    "    else:\n",
    "        df_Compras_client['W_t']=df_Compras_client['T'].apply( lambda x: W_t_a[x])\n",
    "        df_Compras_client['Dif_i_t']=df_Compras_client['T'].apply( lambda x: A_delta[x-1])\n",
    "        \n",
    "    df_Compras_client['F_up']=df_Compras_client.apply( lambda x: x['W_t']*(x['Compras']/x['Dif_i_t'])\n",
    "                            ,axis=1)\n",
    "    F_i_Resultado=df_Compras_client['F_up'].sum()\\\n",
    "                    /df_Compras_client['W_t'].astype('float64').sum()\n",
    "    return (F_i_Resultado,df_Compras_client)"
   ]
  },
  {
   "cell_type": "markdown",
   "id": "bdf8624d",
   "metadata": {},
   "source": [
    "### Calculos base"
   ]
  },
  {
   "cell_type": "markdown",
   "id": "90960fb9",
   "metadata": {
    "heading_collapsed": true
   },
   "source": [
    "#### Data de prueba"
   ]
  },
  {
   "cell_type": "code",
   "execution_count": 41,
   "id": "491b624f",
   "metadata": {
    "hidden": true,
    "scrolled": true
   },
   "outputs": [
    {
     "data": {
      "text/plain": [
       "(239,)"
      ]
     },
     "execution_count": 41,
     "metadata": {},
     "output_type": "execute_result"
    }
   ],
   "source": [
    "df_test=data_i[(data_i['Población'] =='La Florida')].copy()\n",
    "df_test.Cliente.unique().shape"
   ]
  },
  {
   "cell_type": "markdown",
   "id": "af0edd81",
   "metadata": {},
   "source": [
    "#### Parametros "
   ]
  },
  {
   "cell_type": "code",
   "execution_count": 42,
   "id": "17ac1b99",
   "metadata": {
    "scrolled": true
   },
   "outputs": [
    {
     "name": "stdout",
     "output_type": "stream",
     "text": [
      "Valores posibles de t [1, 2, 3, 4]\n",
      "Time Lapsed = 0:0:0.20919036865234375 \n",
      " H:m:s\n",
      "Dimenciones (239, 2)\n",
      "Fecha del cliente más Antiguo 2018-01-02 \n",
      " Fecha del cliente más Nuevo 2021-10-16\n"
     ]
    }
   ],
   "source": [
    "W_t_test= def_W_t(df_test)\n",
    "df_0_test =def_primera_compra(df_test)"
   ]
  },
  {
   "cell_type": "markdown",
   "id": "d90a7766",
   "metadata": {
    "heading_collapsed": true
   },
   "source": [
    "### Testeos "
   ]
  },
  {
   "cell_type": "markdown",
   "id": "b0b2697c",
   "metadata": {
    "hidden": true
   },
   "source": [
    "#### Resultado una fila "
   ]
  },
  {
   "cell_type": "markdown",
   "id": "2a3d6840",
   "metadata": {
    "hidden": true
   },
   "source": [
    "##### Funciona "
   ]
  },
  {
   "cell_type": "code",
   "execution_count": 43,
   "id": "79da7459",
   "metadata": {
    "hidden": true
   },
   "outputs": [
    {
     "data": {
      "text/plain": [
       "(0.030419761639769703,\n",
       "    Cliente   Año  Compras  T       W_t  Dif_i_t      F_up\n",
       " 0  9966011  2018       17  4  0.049787      363  0.002332\n",
       " 1  9966011  2019        1  3  0.105399      365  0.000289\n",
       " 2  9966011  2020        8  2  0.223130      366  0.004877\n",
       " 3  9966011  2021       10  1  0.472367      257  0.018380)"
      ]
     },
     "execution_count": 43,
     "metadata": {},
     "output_type": "execute_result"
    }
   ],
   "source": [
    "F_Calculo_Row(df_test \n",
    "              ,df_test[df_test.Cliente =='9966011'].tail(1).iloc[0]\n",
    "              ,W_t_test\n",
    "              ,df_0_test\n",
    "             )"
   ]
  },
  {
   "cell_type": "markdown",
   "id": "6b1f2b13",
   "metadata": {
    "hidden": true
   },
   "source": [
    "##### No funcionaba (Solucionado) "
   ]
  },
  {
   "cell_type": "code",
   "execution_count": 44,
   "id": "12e3969f",
   "metadata": {
    "hidden": true
   },
   "outputs": [
    {
     "data": {
      "text/plain": [
       "{1: 0.4723665527410147,\n",
       " 2: 0.22313016014842982,\n",
       " 3: 0.10539922456186433,\n",
       " 4: 0.049787068367863944}"
      ]
     },
     "execution_count": 44,
     "metadata": {},
     "output_type": "execute_result"
    }
   ],
   "source": [
    "df_0_test\n",
    "W_t_test"
   ]
  },
  {
   "cell_type": "code",
   "execution_count": 45,
   "id": "40c4b196",
   "metadata": {
    "hidden": true,
    "scrolled": false
   },
   "outputs": [
    {
     "data": {
      "text/plain": [
       "(0.02068451151246249,\n",
       "    Cliente   Año  Compras  T       W_t  Dif_i_t      F_up\n",
       " 0  9966011  2018       17  2  0.223130      363  0.010450\n",
       " 1  9966011  2019        1  1  0.472367      120  0.003936)"
      ]
     },
     "execution_count": 45,
     "metadata": {},
     "output_type": "execute_result"
    }
   ],
   "source": [
    "df_F_result=F_Calculo_Row(df_test \n",
    "              ,df_test[df_test.Cliente =='9966011'].loc[295776]\n",
    "              ,W_t_a=W_t_test\n",
    "              ,df_a_o=df_0_test\n",
    "             )#.apply( lambda x: W_t_test[x])\n",
    "\n",
    "df_F_result"
   ]
  },
  {
   "cell_type": "markdown",
   "id": "bb692143",
   "metadata": {
    "hidden": true
   },
   "source": [
    "#### Nueva data de un solo cliente "
   ]
  },
  {
   "cell_type": "markdown",
   "id": "5948539b",
   "metadata": {
    "hidden": true
   },
   "source": [
    "##### Parametros "
   ]
  },
  {
   "cell_type": "code",
   "execution_count": 47,
   "id": "2cf95209",
   "metadata": {
    "hidden": true
   },
   "outputs": [
    {
     "data": {
      "text/plain": [
       "(36, 18)"
      ]
     },
     "execution_count": 47,
     "metadata": {},
     "output_type": "execute_result"
    }
   ],
   "source": [
    "df_test_Cust=df_test[df_test.Cliente =='9966011'].copy()\n",
    "df_test_Cust.shape"
   ]
  },
  {
   "cell_type": "code",
   "execution_count": 48,
   "id": "cc482537",
   "metadata": {
    "hidden": true
   },
   "outputs": [
    {
     "name": "stdout",
     "output_type": "stream",
     "text": [
      "Valores posibles de t [1, 2, 3, 4]\n",
      "Time Lapsed = 0:0:0.0010008811950683594 \n",
      " H:m:s\n",
      "Dimenciones (1, 2)\n",
      "Fecha del cliente más Antiguo 2018-01-02 \n",
      " Fecha del cliente más Nuevo 2018-01-02\n"
     ]
    }
   ],
   "source": [
    "W_t_test= def_W_t(df_test_Cust)\n",
    "df_0_test =def_primera_compra(df_test_Cust)"
   ]
  },
  {
   "cell_type": "markdown",
   "id": "dcf04599",
   "metadata": {
    "heading_collapsed": true,
    "hidden": true
   },
   "source": [
    "##### Aplicacion"
   ]
  },
  {
   "cell_type": "code",
   "execution_count": 136,
   "id": "e280766a",
   "metadata": {
    "hidden": true
   },
   "outputs": [
    {
     "name": "stdout",
     "output_type": "stream",
     "text": [
      "Cliente y Fecha Row Cliente           9966011\n",
      "Día natural    2018-01-02\n",
      "Name: 295759, dtype: object \n",
      " Shape (1, 18)\n",
      "Fecha_Creacion 2018-01-02\n",
      "Delta [1]\n",
      "Cliente y Fecha Row Cliente           9966011\n",
      "Día natural    2018-02-10\n",
      "Name: 295760, dtype: object \n",
      " Shape (2, 18)\n",
      "Fecha_Creacion 2018-01-02\n",
      "Delta [39]\n",
      "Cliente y Fecha Row Cliente           9966011\n",
      "Día natural    2018-03-10\n",
      "Name: 295761, dtype: object \n",
      " Shape (3, 18)\n",
      "Fecha_Creacion 2018-01-02\n",
      "Delta [67]\n",
      "Cliente y Fecha Row Cliente           9966011\n",
      "Día natural    2018-03-20\n",
      "Name: 295762, dtype: object \n",
      " Shape (4, 18)\n",
      "Fecha_Creacion 2018-01-02\n",
      "Delta [77]\n",
      "Cliente y Fecha Row Cliente           9966011\n",
      "Día natural    2018-03-29\n",
      "Name: 295763, dtype: object \n",
      " Shape (5, 18)\n",
      "Fecha_Creacion 2018-01-02\n",
      "Delta [86]\n",
      "Cliente y Fecha Row Cliente           9966011\n",
      "Día natural    2018-04-07\n",
      "Name: 295764, dtype: object \n",
      " Shape (6, 18)\n",
      "Fecha_Creacion 2018-01-02\n",
      "Delta [95]\n",
      "Cliente y Fecha Row Cliente           9966011\n",
      "Día natural    2018-05-10\n",
      "Name: 295765, dtype: object \n",
      " Shape (7, 18)\n",
      "Fecha_Creacion 2018-01-02\n",
      "Delta [128]\n",
      "Cliente y Fecha Row Cliente           9966011\n",
      "Día natural    2018-06-05\n",
      "Name: 295766, dtype: object \n",
      " Shape (8, 18)\n",
      "Fecha_Creacion 2018-01-02\n",
      "Delta [154]\n",
      "Cliente y Fecha Row Cliente           9966011\n",
      "Día natural    2018-06-21\n",
      "Name: 295767, dtype: object \n",
      " Shape (9, 18)\n",
      "Fecha_Creacion 2018-01-02\n",
      "Delta [170]\n",
      "Cliente y Fecha Row Cliente           9966011\n",
      "Día natural    2018-06-30\n",
      "Name: 295768, dtype: object \n",
      " Shape (10, 18)\n",
      "Fecha_Creacion 2018-01-02\n",
      "Delta [179]\n",
      "Cliente y Fecha Row Cliente           9966011\n",
      "Día natural    2018-07-14\n",
      "Name: 295769, dtype: object \n",
      " Shape (11, 18)\n",
      "Fecha_Creacion 2018-01-02\n",
      "Delta [193]\n",
      "Cliente y Fecha Row Cliente           9966011\n",
      "Día natural    2018-08-02\n",
      "Name: 295770, dtype: object \n",
      " Shape (12, 18)\n",
      "Fecha_Creacion 2018-01-02\n",
      "Delta [212]\n",
      "Cliente y Fecha Row Cliente           9966011\n",
      "Día natural    2018-08-14\n",
      "Name: 295771, dtype: object \n",
      " Shape (13, 18)\n",
      "Fecha_Creacion 2018-01-02\n",
      "Delta [224]\n",
      "Cliente y Fecha Row Cliente           9966011\n",
      "Día natural    2018-09-11\n",
      "Name: 295772, dtype: object \n",
      " Shape (14, 18)\n",
      "Fecha_Creacion 2018-01-02\n",
      "Delta [252]\n",
      "Cliente y Fecha Row Cliente           9966011\n",
      "Día natural    2018-09-20\n",
      "Name: 295773, dtype: object \n",
      " Shape (15, 18)\n",
      "Fecha_Creacion 2018-01-02\n",
      "Delta [261]\n",
      "Cliente y Fecha Row Cliente           9966011\n",
      "Día natural    2018-11-03\n",
      "Name: 295774, dtype: object \n",
      " Shape (16, 18)\n",
      "Fecha_Creacion 2018-01-02\n",
      "Delta [305]\n",
      "Cliente y Fecha Row Cliente           9966011\n",
      "Día natural    2018-11-13\n",
      "Name: 295775, dtype: object \n",
      " Shape (17, 18)\n",
      "Fecha_Creacion 2018-01-02\n",
      "Delta [315]\n",
      "Cliente y Fecha Row Cliente           9966011\n",
      "Día natural    2019-04-30\n",
      "Name: 295776, dtype: object \n",
      " Shape (18, 18)\n",
      "Fecha_Creacion 2018-01-02\n",
      "Delta [120, 363]\n",
      "Cliente y Fecha Row Cliente           9966011\n",
      "Día natural    2020-03-31\n",
      "Name: 295777, dtype: object \n",
      " Shape (19, 18)\n",
      "Fecha_Creacion 2018-01-02\n",
      "Delta [91, 365, 363]\n",
      "Cliente y Fecha Row Cliente           9966011\n",
      "Día natural    2020-04-14\n",
      "Name: 295778, dtype: object \n",
      " Shape (20, 18)\n",
      "Fecha_Creacion 2018-01-02\n",
      "Delta [105, 365, 363]\n",
      "Cliente y Fecha Row Cliente           9966011\n",
      "Día natural    2020-05-05\n",
      "Name: 295779, dtype: object \n",
      " Shape (21, 18)\n",
      "Fecha_Creacion 2018-01-02\n",
      "Delta [126, 365, 363]\n",
      "Cliente y Fecha Row Cliente           9966011\n",
      "Día natural    2020-05-30\n",
      "Name: 295780, dtype: object \n",
      " Shape (22, 18)\n",
      "Fecha_Creacion 2018-01-02\n",
      "Delta [151, 365, 363]\n",
      "Cliente y Fecha Row Cliente           9966011\n",
      "Día natural    2020-06-06\n",
      "Name: 295781, dtype: object \n",
      " Shape (23, 18)\n",
      "Fecha_Creacion 2018-01-02\n",
      "Delta [158, 365, 363]\n",
      "Cliente y Fecha Row Cliente           9966011\n",
      "Día natural    2020-07-18\n",
      "Name: 295782, dtype: object \n",
      " Shape (24, 18)\n",
      "Fecha_Creacion 2018-01-02\n",
      "Delta [200, 365, 363]\n",
      "Cliente y Fecha Row Cliente           9966011\n",
      "Día natural    2020-12-10\n",
      "Name: 295783, dtype: object \n",
      " Shape (25, 18)\n",
      "Fecha_Creacion 2018-01-02\n",
      "Delta [345, 365, 363]\n",
      "Cliente y Fecha Row Cliente           9966011\n",
      "Día natural    2020-12-17\n",
      "Name: 295784, dtype: object \n",
      " Shape (26, 18)\n",
      "Fecha_Creacion 2018-01-02\n",
      "Delta [352, 365, 363]\n",
      "Cliente y Fecha Row Cliente           9966011\n",
      "Día natural    2021-05-06\n",
      "Name: 295785, dtype: object \n",
      " Shape (27, 18)\n",
      "Fecha_Creacion 2018-01-02\n",
      "Delta [126, 366, 365, 363]\n",
      "Cliente y Fecha Row Cliente           9966011\n",
      "Día natural    2021-06-08\n",
      "Name: 295786, dtype: object \n",
      " Shape (28, 18)\n",
      "Fecha_Creacion 2018-01-02\n",
      "Delta [159, 366, 365, 363]\n",
      "Cliente y Fecha Row Cliente           9966011\n",
      "Día natural    2021-06-24\n",
      "Name: 295787, dtype: object \n",
      " Shape (29, 18)\n",
      "Fecha_Creacion 2018-01-02\n",
      "Delta [175, 366, 365, 363]\n",
      "Cliente y Fecha Row Cliente           9966011\n",
      "Día natural    2021-07-27\n",
      "Name: 295788, dtype: object \n",
      " Shape (30, 18)\n",
      "Fecha_Creacion 2018-01-02\n",
      "Delta [208, 366, 365, 363]\n",
      "Cliente y Fecha Row Cliente           9966011\n",
      "Día natural    2021-08-03\n",
      "Name: 295789, dtype: object \n",
      " Shape (31, 18)\n",
      "Fecha_Creacion 2018-01-02\n",
      "Delta [215, 366, 365, 363]\n",
      "Cliente y Fecha Row Cliente           9966011\n",
      "Día natural    2021-08-17\n",
      "Name: 295790, dtype: object \n",
      " Shape (32, 18)\n",
      "Fecha_Creacion 2018-01-02\n",
      "Delta [229, 366, 365, 363]\n",
      "Cliente y Fecha Row Cliente           9966011\n",
      "Día natural    2021-08-21\n",
      "Name: 295791, dtype: object \n",
      " Shape (33, 18)\n",
      "Fecha_Creacion 2018-01-02\n",
      "Delta [233, 366, 365, 363]\n",
      "Cliente y Fecha Row Cliente           9966011\n",
      "Día natural    2021-08-31\n",
      "Name: 295792, dtype: object \n",
      " Shape (34, 18)\n",
      "Fecha_Creacion 2018-01-02\n",
      "Delta [243, 366, 365, 363]\n",
      "Cliente y Fecha Row Cliente           9966011\n",
      "Día natural    2021-09-09\n",
      "Name: 295793, dtype: object \n",
      " Shape (35, 18)\n",
      "Fecha_Creacion 2018-01-02\n",
      "Delta [252, 366, 365, 363]\n",
      "Cliente y Fecha Row Cliente           9966011\n",
      "Día natural    2021-09-14\n",
      "Name: 295794, dtype: object \n",
      " Shape (36, 18)\n",
      "Fecha_Creacion 2018-01-02\n",
      "Delta [257, 366, 365, 363]\n"
     ]
    }
   ],
   "source": [
    "#Alerta generada por no usar Copy()\n",
    "df_test_Cust['Frecuency_Row']=df_test_Cust.apply( \n",
    "    (lambda x: F_Calculo_Row(df_test_Cust,x\n",
    "                            ,W_t_test\n",
    "                            ,df_0_test\n",
    "                            )[0]\n",
    "    ) , axis=1)"
   ]
  },
  {
   "cell_type": "markdown",
   "id": "6ad510da",
   "metadata": {
    "heading_collapsed": true,
    "hidden": true
   },
   "source": [
    "###### Resultados "
   ]
  },
  {
   "cell_type": "code",
   "execution_count": 128,
   "id": "76d6ba1e",
   "metadata": {
    "hidden": true,
    "scrolled": true
   },
   "outputs": [
    {
     "data": {
      "text/html": [
       "<div>\n",
       "<style scoped>\n",
       "    .dataframe tbody tr th:only-of-type {\n",
       "        vertical-align: middle;\n",
       "    }\n",
       "\n",
       "    .dataframe tbody tr th {\n",
       "        vertical-align: top;\n",
       "    }\n",
       "\n",
       "    .dataframe thead th {\n",
       "        text-align: right;\n",
       "    }\n",
       "</style>\n",
       "<table border=\"1\" class=\"dataframe\">\n",
       "  <thead>\n",
       "    <tr style=\"text-align: right;\">\n",
       "      <th></th>\n",
       "      <th>Frecuency_Row</th>\n",
       "      <th>Día natural</th>\n",
       "      <th>Día Semana</th>\n",
       "      <th>Semana</th>\n",
       "      <th>Mes</th>\n",
       "      <th>Año</th>\n",
       "    </tr>\n",
       "  </thead>\n",
       "  <tbody>\n",
       "    <tr>\n",
       "      <th>295759</th>\n",
       "      <td>1.000000</td>\n",
       "      <td>2018-01-02</td>\n",
       "      <td>Martes</td>\n",
       "      <td>1</td>\n",
       "      <td>Enero</td>\n",
       "      <td>2018</td>\n",
       "    </tr>\n",
       "    <tr>\n",
       "      <th>295760</th>\n",
       "      <td>0.051282</td>\n",
       "      <td>2018-02-10</td>\n",
       "      <td>Sábado</td>\n",
       "      <td>6</td>\n",
       "      <td>Febrero</td>\n",
       "      <td>2018</td>\n",
       "    </tr>\n",
       "    <tr>\n",
       "      <th>295761</th>\n",
       "      <td>0.044776</td>\n",
       "      <td>2018-03-10</td>\n",
       "      <td>Sábado</td>\n",
       "      <td>10</td>\n",
       "      <td>Marzo</td>\n",
       "      <td>2018</td>\n",
       "    </tr>\n",
       "    <tr>\n",
       "      <th>295762</th>\n",
       "      <td>0.051948</td>\n",
       "      <td>2018-03-20</td>\n",
       "      <td>Martes</td>\n",
       "      <td>12</td>\n",
       "      <td>Marzo</td>\n",
       "      <td>2018</td>\n",
       "    </tr>\n",
       "    <tr>\n",
       "      <th>295763</th>\n",
       "      <td>0.058140</td>\n",
       "      <td>2018-03-29</td>\n",
       "      <td>Jueves</td>\n",
       "      <td>13</td>\n",
       "      <td>Marzo</td>\n",
       "      <td>2018</td>\n",
       "    </tr>\n",
       "    <tr>\n",
       "      <th>295764</th>\n",
       "      <td>0.063158</td>\n",
       "      <td>2018-04-07</td>\n",
       "      <td>Sábado</td>\n",
       "      <td>14</td>\n",
       "      <td>Abril</td>\n",
       "      <td>2018</td>\n",
       "    </tr>\n",
       "    <tr>\n",
       "      <th>295765</th>\n",
       "      <td>0.054688</td>\n",
       "      <td>2018-05-10</td>\n",
       "      <td>Jueves</td>\n",
       "      <td>19</td>\n",
       "      <td>Mayo</td>\n",
       "      <td>2018</td>\n",
       "    </tr>\n",
       "    <tr>\n",
       "      <th>295766</th>\n",
       "      <td>0.051948</td>\n",
       "      <td>2018-06-05</td>\n",
       "      <td>Martes</td>\n",
       "      <td>23</td>\n",
       "      <td>Junio</td>\n",
       "      <td>2018</td>\n",
       "    </tr>\n",
       "    <tr>\n",
       "      <th>295767</th>\n",
       "      <td>0.052941</td>\n",
       "      <td>2018-06-21</td>\n",
       "      <td>Jueves</td>\n",
       "      <td>25</td>\n",
       "      <td>Junio</td>\n",
       "      <td>2018</td>\n",
       "    </tr>\n",
       "    <tr>\n",
       "      <th>295768</th>\n",
       "      <td>0.055866</td>\n",
       "      <td>2018-06-30</td>\n",
       "      <td>Sábado</td>\n",
       "      <td>26</td>\n",
       "      <td>Junio</td>\n",
       "      <td>2018</td>\n",
       "    </tr>\n",
       "    <tr>\n",
       "      <th>295769</th>\n",
       "      <td>0.056995</td>\n",
       "      <td>2018-07-14</td>\n",
       "      <td>Sábado</td>\n",
       "      <td>28</td>\n",
       "      <td>Julio</td>\n",
       "      <td>2018</td>\n",
       "    </tr>\n",
       "    <tr>\n",
       "      <th>295770</th>\n",
       "      <td>0.056604</td>\n",
       "      <td>2018-08-02</td>\n",
       "      <td>Jueves</td>\n",
       "      <td>31</td>\n",
       "      <td>Agosto</td>\n",
       "      <td>2018</td>\n",
       "    </tr>\n",
       "    <tr>\n",
       "      <th>295771</th>\n",
       "      <td>0.058036</td>\n",
       "      <td>2018-08-14</td>\n",
       "      <td>Martes</td>\n",
       "      <td>33</td>\n",
       "      <td>Agosto</td>\n",
       "      <td>2018</td>\n",
       "    </tr>\n",
       "    <tr>\n",
       "      <th>295772</th>\n",
       "      <td>0.055556</td>\n",
       "      <td>2018-09-11</td>\n",
       "      <td>Martes</td>\n",
       "      <td>37</td>\n",
       "      <td>Septiembre</td>\n",
       "      <td>2018</td>\n",
       "    </tr>\n",
       "    <tr>\n",
       "      <th>295773</th>\n",
       "      <td>0.057471</td>\n",
       "      <td>2018-09-20</td>\n",
       "      <td>Jueves</td>\n",
       "      <td>38</td>\n",
       "      <td>Septiembre</td>\n",
       "      <td>2018</td>\n",
       "    </tr>\n",
       "    <tr>\n",
       "      <th>295774</th>\n",
       "      <td>0.052459</td>\n",
       "      <td>2018-11-03</td>\n",
       "      <td>Sábado</td>\n",
       "      <td>44</td>\n",
       "      <td>Noviembre</td>\n",
       "      <td>2018</td>\n",
       "    </tr>\n",
       "    <tr>\n",
       "      <th>295775</th>\n",
       "      <td>0.053968</td>\n",
       "      <td>2018-11-13</td>\n",
       "      <td>Martes</td>\n",
       "      <td>46</td>\n",
       "      <td>Noviembre</td>\n",
       "      <td>2018</td>\n",
       "    </tr>\n",
       "    <tr>\n",
       "      <th>295776</th>\n",
       "      <td>0.020685</td>\n",
       "      <td>2019-04-30</td>\n",
       "      <td>Martes</td>\n",
       "      <td>18</td>\n",
       "      <td>Abril</td>\n",
       "      <td>2019</td>\n",
       "    </tr>\n",
       "    <tr>\n",
       "      <th>295777</th>\n",
       "      <td>0.013408</td>\n",
       "      <td>2020-03-31</td>\n",
       "      <td>Martes</td>\n",
       "      <td>14</td>\n",
       "      <td>Marzo</td>\n",
       "      <td>2020</td>\n",
       "    </tr>\n",
       "    <tr>\n",
       "      <th>295778</th>\n",
       "      <td>0.018161</td>\n",
       "      <td>2020-04-14</td>\n",
       "      <td>Martes</td>\n",
       "      <td>16</td>\n",
       "      <td>Abril</td>\n",
       "      <td>2020</td>\n",
       "    </tr>\n",
       "    <tr>\n",
       "      <th>295779</th>\n",
       "      <td>0.020969</td>\n",
       "      <td>2020-05-05</td>\n",
       "      <td>Martes</td>\n",
       "      <td>19</td>\n",
       "      <td>Mayo</td>\n",
       "      <td>2020</td>\n",
       "    </tr>\n",
       "    <tr>\n",
       "      <th>295780</th>\n",
       "      <td>0.022550</td>\n",
       "      <td>2020-05-30</td>\n",
       "      <td>Sábado</td>\n",
       "      <td>22</td>\n",
       "      <td>Mayo</td>\n",
       "      <td>2020</td>\n",
       "    </tr>\n",
       "    <tr>\n",
       "      <th>295781</th>\n",
       "      <td>0.025591</td>\n",
       "      <td>2020-06-06</td>\n",
       "      <td>Sábado</td>\n",
       "      <td>23</td>\n",
       "      <td>Junio</td>\n",
       "      <td>2020</td>\n",
       "    </tr>\n",
       "    <tr>\n",
       "      <th>295782</th>\n",
       "      <td>0.024620</td>\n",
       "      <td>2020-07-18</td>\n",
       "      <td>Sábado</td>\n",
       "      <td>29</td>\n",
       "      <td>Julio</td>\n",
       "      <td>2020</td>\n",
       "    </tr>\n",
       "    <tr>\n",
       "      <th>295783</th>\n",
       "      <td>0.018893</td>\n",
       "      <td>2020-12-10</td>\n",
       "      <td>Jueves</td>\n",
       "      <td>50</td>\n",
       "      <td>Diciembre</td>\n",
       "      <td>2020</td>\n",
       "    </tr>\n",
       "    <tr>\n",
       "      <th>295784</th>\n",
       "      <td>0.020331</td>\n",
       "      <td>2020-12-17</td>\n",
       "      <td>Jueves</td>\n",
       "      <td>51</td>\n",
       "      <td>Diciembre</td>\n",
       "      <td>2020</td>\n",
       "    </tr>\n",
       "    <tr>\n",
       "      <th>295785</th>\n",
       "      <td>0.013221</td>\n",
       "      <td>2021-05-06</td>\n",
       "      <td>Jueves</td>\n",
       "      <td>18</td>\n",
       "      <td>Mayo</td>\n",
       "      <td>2021</td>\n",
       "    </tr>\n",
       "    <tr>\n",
       "      <th>295786</th>\n",
       "      <td>0.015798</td>\n",
       "      <td>2021-06-08</td>\n",
       "      <td>Martes</td>\n",
       "      <td>23</td>\n",
       "      <td>Junio</td>\n",
       "      <td>2021</td>\n",
       "    </tr>\n",
       "    <tr>\n",
       "      <th>295787</th>\n",
       "      <td>0.018333</td>\n",
       "      <td>2021-06-24</td>\n",
       "      <td>Jueves</td>\n",
       "      <td>25</td>\n",
       "      <td>Junio</td>\n",
       "      <td>2021</td>\n",
       "    </tr>\n",
       "    <tr>\n",
       "      <th>295788</th>\n",
       "      <td>0.019492</td>\n",
       "      <td>2021-07-27</td>\n",
       "      <td>Martes</td>\n",
       "      <td>30</td>\n",
       "      <td>Julio</td>\n",
       "      <td>2021</td>\n",
       "    </tr>\n",
       "    <tr>\n",
       "      <th>295789</th>\n",
       "      <td>0.021727</td>\n",
       "      <td>2021-08-03</td>\n",
       "      <td>Martes</td>\n",
       "      <td>31</td>\n",
       "      <td>Agosto</td>\n",
       "      <td>2021</td>\n",
       "    </tr>\n",
       "    <tr>\n",
       "      <th>295790</th>\n",
       "      <td>0.023362</td>\n",
       "      <td>2021-08-17</td>\n",
       "      <td>Martes</td>\n",
       "      <td>33</td>\n",
       "      <td>Agosto</td>\n",
       "      <td>2021</td>\n",
       "    </tr>\n",
       "    <tr>\n",
       "      <th>295791</th>\n",
       "      <td>0.025496</td>\n",
       "      <td>2021-08-21</td>\n",
       "      <td>Sábado</td>\n",
       "      <td>33</td>\n",
       "      <td>Agosto</td>\n",
       "      <td>2021</td>\n",
       "    </tr>\n",
       "    <tr>\n",
       "      <th>295792</th>\n",
       "      <td>0.027094</td>\n",
       "      <td>2021-08-31</td>\n",
       "      <td>Martes</td>\n",
       "      <td>35</td>\n",
       "      <td>Agosto</td>\n",
       "      <td>2021</td>\n",
       "    </tr>\n",
       "    <tr>\n",
       "      <th>295793</th>\n",
       "      <td>0.028645</td>\n",
       "      <td>2021-09-09</td>\n",
       "      <td>Jueves</td>\n",
       "      <td>36</td>\n",
       "      <td>Septiembre</td>\n",
       "      <td>2021</td>\n",
       "    </tr>\n",
       "    <tr>\n",
       "      <th>295794</th>\n",
       "      <td>0.030420</td>\n",
       "      <td>2021-09-14</td>\n",
       "      <td>Martes</td>\n",
       "      <td>37</td>\n",
       "      <td>Septiembre</td>\n",
       "      <td>2021</td>\n",
       "    </tr>\n",
       "  </tbody>\n",
       "</table>\n",
       "</div>"
      ],
      "text/plain": [
       "        Frecuency_Row Día natural Día Semana Semana         Mes   Año\n",
       "295759       1.000000  2018-01-02     Martes      1       Enero  2018\n",
       "295760       0.051282  2018-02-10     Sábado      6     Febrero  2018\n",
       "295761       0.044776  2018-03-10     Sábado     10       Marzo  2018\n",
       "295762       0.051948  2018-03-20     Martes     12       Marzo  2018\n",
       "295763       0.058140  2018-03-29     Jueves     13       Marzo  2018\n",
       "295764       0.063158  2018-04-07     Sábado     14       Abril  2018\n",
       "295765       0.054688  2018-05-10     Jueves     19        Mayo  2018\n",
       "295766       0.051948  2018-06-05     Martes     23       Junio  2018\n",
       "295767       0.052941  2018-06-21     Jueves     25       Junio  2018\n",
       "295768       0.055866  2018-06-30     Sábado     26       Junio  2018\n",
       "295769       0.056995  2018-07-14     Sábado     28       Julio  2018\n",
       "295770       0.056604  2018-08-02     Jueves     31      Agosto  2018\n",
       "295771       0.058036  2018-08-14     Martes     33      Agosto  2018\n",
       "295772       0.055556  2018-09-11     Martes     37  Septiembre  2018\n",
       "295773       0.057471  2018-09-20     Jueves     38  Septiembre  2018\n",
       "295774       0.052459  2018-11-03     Sábado     44   Noviembre  2018\n",
       "295775       0.053968  2018-11-13     Martes     46   Noviembre  2018\n",
       "295776       0.020685  2019-04-30     Martes     18       Abril  2019\n",
       "295777       0.013408  2020-03-31     Martes     14       Marzo  2020\n",
       "295778       0.018161  2020-04-14     Martes     16       Abril  2020\n",
       "295779       0.020969  2020-05-05     Martes     19        Mayo  2020\n",
       "295780       0.022550  2020-05-30     Sábado     22        Mayo  2020\n",
       "295781       0.025591  2020-06-06     Sábado     23       Junio  2020\n",
       "295782       0.024620  2020-07-18     Sábado     29       Julio  2020\n",
       "295783       0.018893  2020-12-10     Jueves     50   Diciembre  2020\n",
       "295784       0.020331  2020-12-17     Jueves     51   Diciembre  2020\n",
       "295785       0.013221  2021-05-06     Jueves     18        Mayo  2021\n",
       "295786       0.015798  2021-06-08     Martes     23       Junio  2021\n",
       "295787       0.018333  2021-06-24     Jueves     25       Junio  2021\n",
       "295788       0.019492  2021-07-27     Martes     30       Julio  2021\n",
       "295789       0.021727  2021-08-03     Martes     31      Agosto  2021\n",
       "295790       0.023362  2021-08-17     Martes     33      Agosto  2021\n",
       "295791       0.025496  2021-08-21     Sábado     33      Agosto  2021\n",
       "295792       0.027094  2021-08-31     Martes     35      Agosto  2021\n",
       "295793       0.028645  2021-09-09     Jueves     36  Septiembre  2021\n",
       "295794       0.030420  2021-09-14     Martes     37  Septiembre  2021"
      ]
     },
     "execution_count": 128,
     "metadata": {},
     "output_type": "execute_result"
    }
   ],
   "source": [
    "df_test_Cust[# Dic_col['Base'] + \n",
    "             ['Frecuency_Row'] + Dic_col['Fecha']]"
   ]
  },
  {
   "cell_type": "code",
   "execution_count": 130,
   "id": "b44cb1cb",
   "metadata": {
    "hidden": true,
    "scrolled": true
   },
   "outputs": [
    {
     "data": {
      "text/plain": [
       "<AxesSubplot:>"
      ]
     },
     "execution_count": 130,
     "metadata": {},
     "output_type": "execute_result"
    },
    {
     "data": {
      "image/png": "[encoded data removed]",
      "text/plain": [
       "<Figure size 432x288 with 1 Axes>"
      ]
     },
     "metadata": {
      "needs_background": "light"
     },
     "output_type": "display_data"
    }
   ],
   "source": [
    "df_test_Cust['Frecuency_Row'].hist()"
   ]
  },
  {
   "cell_type": "markdown",
   "id": "4c9a759f",
   "metadata": {
    "heading_collapsed": true,
    "hidden": true
   },
   "source": [
    "#### Data Florida  "
   ]
  },
  {
   "cell_type": "code",
   "execution_count": 137,
   "id": "8b465c84",
   "metadata": {
    "hidden": true,
    "scrolled": true
   },
   "outputs": [
    {
     "name": "stdout",
     "output_type": "stream",
     "text": [
      "Valores posibles de t [1, 2, 3, 4]\n",
      "Time Lapsed = 0:0:0.2091827392578125 \n",
      " H:m:s\n",
      "Dimenciones (239, 2)\n",
      "Fecha del cliente más Antiguo 2018-01-02 \n",
      " Fecha del cliente más Nuevo 2021-10-16\n"
     ]
    }
   ],
   "source": [
    "W_t_test= def_W_t(df_test)\n",
    "df_0_test =def_primera_compra(df_test)"
   ]
  },
  {
   "cell_type": "code",
   "execution_count": 142,
   "id": "e4312504",
   "metadata": {
    "hidden": true
   },
   "outputs": [
    {
     "name": "stdout",
     "output_type": "stream",
     "text": [
      "FRecuency de data_test\n",
      "Time Lapsed = 0:1:28.152032375335693 \n",
      " H:m:s\n"
     ]
    }
   ],
   "source": [
    "#Alerta generada por no usar Copy()\n",
    "start_time_3 = time.time()\n",
    "df_test['Frecuency_Row']=df_test.apply( \n",
    "    (lambda x: F_Calculo_Row(df_test,x\n",
    "                            ,W_t_test\n",
    "                            ,df_0_test\n",
    "                            )[0]\n",
    "    ) , axis=1)\n",
    "end_time_3 = time.time()\n",
    "time_lapsed_3 = end_time_3 - start_time_3\n",
    "print('FRecuency de data_test')\n",
    "time_convert(time_lapsed_3)"
   ]
  },
  {
   "cell_type": "markdown",
   "id": "23bd2822",
   "metadata": {},
   "source": [
    "### Uso real data_i "
   ]
  },
  {
   "cell_type": "markdown",
   "id": "319b6a12",
   "metadata": {
    "heading_collapsed": true
   },
   "source": [
    "#### Data Total  1010078 Tradicional"
   ]
  },
  {
   "cell_type": "code",
   "execution_count": 49,
   "id": "44e0aef6",
   "metadata": {
    "hidden": true
   },
   "outputs": [
    {
     "data": {
      "text/plain": [
       "(198596, 18)"
      ]
     },
     "execution_count": 49,
     "metadata": {},
     "output_type": "execute_result"
    }
   ],
   "source": [
    "data_i_F=data_i.copy()\n",
    "data_i_F.shape"
   ]
  },
  {
   "cell_type": "code",
   "execution_count": 50,
   "id": "1ff119b5",
   "metadata": {
    "hidden": true,
    "scrolled": true
   },
   "outputs": [
    {
     "name": "stdout",
     "output_type": "stream",
     "text": [
      "Valores posibles de t [1, 2, 3, 4]\n",
      "Time Lapsed = 0:0:50.36072587966919 \n",
      " H:m:s\n",
      "Dimenciones (5073, 2)\n",
      "Fecha del cliente más Antiguo 2018-01-02 \n",
      " Fecha del cliente más Nuevo 2021-10-23\n"
     ]
    }
   ],
   "source": [
    "W_t_pruf= def_W_t(data_i_F)\n",
    "df_0_pruf =def_primera_compra(data_i_F)"
   ]
  },
  {
   "cell_type": "markdown",
   "id": "a876722d",
   "metadata": {},
   "source": [
    "#### Aplicacion  "
   ]
  },
  {
   "cell_type": "markdown",
   "id": "148d94a4",
   "metadata": {
    "heading_collapsed": true
   },
   "source": [
    "#####  Error en la aplicación"
   ]
  },
  {
   "cell_type": "code",
   "execution_count": 151,
   "id": "c152528e",
   "metadata": {
    "hidden": true,
    "scrolled": true
   },
   "outputs": [
    {
     "ename": "ZeroDivisionError",
     "evalue": "division by zero",
     "output_type": "error",
     "traceback": [
      "\u001b[1;31m---------------------------------------------------------------------------\u001b[0m",
      "\u001b[1;31mZeroDivisionError\u001b[0m                         Traceback (most recent call last)",
      "\u001b[1;32m<ipython-input-151-123375a06132>\u001b[0m in \u001b[0;36m<module>\u001b[1;34m\u001b[0m\n\u001b[0;32m      1\u001b[0m \u001b[1;31m#Alerta generada por no usar Copy()\u001b[0m\u001b[1;33m\u001b[0m\u001b[1;33m\u001b[0m\u001b[1;33m\u001b[0m\u001b[0m\n\u001b[0;32m      2\u001b[0m \u001b[0mstart_time_3\u001b[0m \u001b[1;33m=\u001b[0m \u001b[0mtime\u001b[0m\u001b[1;33m.\u001b[0m\u001b[0mtime\u001b[0m\u001b[1;33m(\u001b[0m\u001b[1;33m)\u001b[0m\u001b[1;33m\u001b[0m\u001b[1;33m\u001b[0m\u001b[0m\n\u001b[1;32m----> 3\u001b[1;33m data_i_F['Frecuency_Row']=data_i_F.apply( \n\u001b[0m\u001b[0;32m      4\u001b[0m     (lambda x: F_Calculo_Row(data_i_F,x\n\u001b[0;32m      5\u001b[0m                             \u001b[1;33m,\u001b[0m\u001b[0mW_t_pruf\u001b[0m\u001b[1;33m\u001b[0m\u001b[1;33m\u001b[0m\u001b[0m\n",
      "\u001b[1;32m~\\anaconda3\\lib\\site-packages\\pandas\\core\\frame.py\u001b[0m in \u001b[0;36mapply\u001b[1;34m(self, func, axis, raw, result_type, args, **kwds)\u001b[0m\n\u001b[0;32m   7766\u001b[0m             \u001b[0mkwds\u001b[0m\u001b[1;33m=\u001b[0m\u001b[0mkwds\u001b[0m\u001b[1;33m,\u001b[0m\u001b[1;33m\u001b[0m\u001b[1;33m\u001b[0m\u001b[0m\n\u001b[0;32m   7767\u001b[0m         )\n\u001b[1;32m-> 7768\u001b[1;33m         \u001b[1;32mreturn\u001b[0m \u001b[0mop\u001b[0m\u001b[1;33m.\u001b[0m\u001b[0mget_result\u001b[0m\u001b[1;33m(\u001b[0m\u001b[1;33m)\u001b[0m\u001b[1;33m\u001b[0m\u001b[1;33m\u001b[0m\u001b[0m\n\u001b[0m\u001b[0;32m   7769\u001b[0m \u001b[1;33m\u001b[0m\u001b[0m\n\u001b[0;32m   7770\u001b[0m     \u001b[1;32mdef\u001b[0m \u001b[0mapplymap\u001b[0m\u001b[1;33m(\u001b[0m\u001b[0mself\u001b[0m\u001b[1;33m,\u001b[0m \u001b[0mfunc\u001b[0m\u001b[1;33m,\u001b[0m \u001b[0mna_action\u001b[0m\u001b[1;33m:\u001b[0m \u001b[0mOptional\u001b[0m\u001b[1;33m[\u001b[0m\u001b[0mstr\u001b[0m\u001b[1;33m]\u001b[0m \u001b[1;33m=\u001b[0m \u001b[1;32mNone\u001b[0m\u001b[1;33m)\u001b[0m \u001b[1;33m->\u001b[0m \u001b[0mDataFrame\u001b[0m\u001b[1;33m:\u001b[0m\u001b[1;33m\u001b[0m\u001b[1;33m\u001b[0m\u001b[0m\n",
      "\u001b[1;32m~\\anaconda3\\lib\\site-packages\\pandas\\core\\apply.py\u001b[0m in \u001b[0;36mget_result\u001b[1;34m(self)\u001b[0m\n\u001b[0;32m    183\u001b[0m             \u001b[1;32mreturn\u001b[0m \u001b[0mself\u001b[0m\u001b[1;33m.\u001b[0m\u001b[0mapply_raw\u001b[0m\u001b[1;33m(\u001b[0m\u001b[1;33m)\u001b[0m\u001b[1;33m\u001b[0m\u001b[1;33m\u001b[0m\u001b[0m\n\u001b[0;32m    184\u001b[0m \u001b[1;33m\u001b[0m\u001b[0m\n\u001b[1;32m--> 185\u001b[1;33m         \u001b[1;32mreturn\u001b[0m \u001b[0mself\u001b[0m\u001b[1;33m.\u001b[0m\u001b[0mapply_standard\u001b[0m\u001b[1;33m(\u001b[0m\u001b[1;33m)\u001b[0m\u001b[1;33m\u001b[0m\u001b[1;33m\u001b[0m\u001b[0m\n\u001b[0m\u001b[0;32m    186\u001b[0m \u001b[1;33m\u001b[0m\u001b[0m\n\u001b[0;32m    187\u001b[0m     \u001b[1;32mdef\u001b[0m \u001b[0mapply_empty_result\u001b[0m\u001b[1;33m(\u001b[0m\u001b[0mself\u001b[0m\u001b[1;33m)\u001b[0m\u001b[1;33m:\u001b[0m\u001b[1;33m\u001b[0m\u001b[1;33m\u001b[0m\u001b[0m\n",
      "\u001b[1;32m~\\anaconda3\\lib\\site-packages\\pandas\\core\\apply.py\u001b[0m in \u001b[0;36mapply_standard\u001b[1;34m(self)\u001b[0m\n\u001b[0;32m    274\u001b[0m \u001b[1;33m\u001b[0m\u001b[0m\n\u001b[0;32m    275\u001b[0m     \u001b[1;32mdef\u001b[0m \u001b[0mapply_standard\u001b[0m\u001b[1;33m(\u001b[0m\u001b[0mself\u001b[0m\u001b[1;33m)\u001b[0m\u001b[1;33m:\u001b[0m\u001b[1;33m\u001b[0m\u001b[1;33m\u001b[0m\u001b[0m\n\u001b[1;32m--> 276\u001b[1;33m         \u001b[0mresults\u001b[0m\u001b[1;33m,\u001b[0m \u001b[0mres_index\u001b[0m \u001b[1;33m=\u001b[0m \u001b[0mself\u001b[0m\u001b[1;33m.\u001b[0m\u001b[0mapply_series_generator\u001b[0m\u001b[1;33m(\u001b[0m\u001b[1;33m)\u001b[0m\u001b[1;33m\u001b[0m\u001b[1;33m\u001b[0m\u001b[0m\n\u001b[0m\u001b[0;32m    277\u001b[0m \u001b[1;33m\u001b[0m\u001b[0m\n\u001b[0;32m    278\u001b[0m         \u001b[1;31m# wrap results\u001b[0m\u001b[1;33m\u001b[0m\u001b[1;33m\u001b[0m\u001b[1;33m\u001b[0m\u001b[0m\n",
      "\u001b[1;32m~\\anaconda3\\lib\\site-packages\\pandas\\core\\apply.py\u001b[0m in \u001b[0;36mapply_series_generator\u001b[1;34m(self)\u001b[0m\n\u001b[0;32m    288\u001b[0m             \u001b[1;32mfor\u001b[0m \u001b[0mi\u001b[0m\u001b[1;33m,\u001b[0m \u001b[0mv\u001b[0m \u001b[1;32min\u001b[0m \u001b[0menumerate\u001b[0m\u001b[1;33m(\u001b[0m\u001b[0mseries_gen\u001b[0m\u001b[1;33m)\u001b[0m\u001b[1;33m:\u001b[0m\u001b[1;33m\u001b[0m\u001b[1;33m\u001b[0m\u001b[0m\n\u001b[0;32m    289\u001b[0m                 \u001b[1;31m# ignore SettingWithCopy here in case the user mutates\u001b[0m\u001b[1;33m\u001b[0m\u001b[1;33m\u001b[0m\u001b[1;33m\u001b[0m\u001b[0m\n\u001b[1;32m--> 290\u001b[1;33m                 \u001b[0mresults\u001b[0m\u001b[1;33m[\u001b[0m\u001b[0mi\u001b[0m\u001b[1;33m]\u001b[0m \u001b[1;33m=\u001b[0m \u001b[0mself\u001b[0m\u001b[1;33m.\u001b[0m\u001b[0mf\u001b[0m\u001b[1;33m(\u001b[0m\u001b[0mv\u001b[0m\u001b[1;33m)\u001b[0m\u001b[1;33m\u001b[0m\u001b[1;33m\u001b[0m\u001b[0m\n\u001b[0m\u001b[0;32m    291\u001b[0m                 \u001b[1;32mif\u001b[0m \u001b[0misinstance\u001b[0m\u001b[1;33m(\u001b[0m\u001b[0mresults\u001b[0m\u001b[1;33m[\u001b[0m\u001b[0mi\u001b[0m\u001b[1;33m]\u001b[0m\u001b[1;33m,\u001b[0m \u001b[0mABCSeries\u001b[0m\u001b[1;33m)\u001b[0m\u001b[1;33m:\u001b[0m\u001b[1;33m\u001b[0m\u001b[1;33m\u001b[0m\u001b[0m\n\u001b[0;32m    292\u001b[0m                     \u001b[1;31m# If we have a view on v, we need to make a copy because\u001b[0m\u001b[1;33m\u001b[0m\u001b[1;33m\u001b[0m\u001b[1;33m\u001b[0m\u001b[0m\n",
      "\u001b[1;32m<ipython-input-151-123375a06132>\u001b[0m in \u001b[0;36m<lambda>\u001b[1;34m(x)\u001b[0m\n\u001b[0;32m      2\u001b[0m \u001b[0mstart_time_3\u001b[0m \u001b[1;33m=\u001b[0m \u001b[0mtime\u001b[0m\u001b[1;33m.\u001b[0m\u001b[0mtime\u001b[0m\u001b[1;33m(\u001b[0m\u001b[1;33m)\u001b[0m\u001b[1;33m\u001b[0m\u001b[1;33m\u001b[0m\u001b[0m\n\u001b[0;32m      3\u001b[0m data_i_F['Frecuency_Row']=data_i_F.apply( \n\u001b[1;32m----> 4\u001b[1;33m     (lambda x: F_Calculo_Row(data_i_F,x\n\u001b[0m\u001b[0;32m      5\u001b[0m                             \u001b[1;33m,\u001b[0m\u001b[0mW_t_pruf\u001b[0m\u001b[1;33m\u001b[0m\u001b[1;33m\u001b[0m\u001b[0m\n\u001b[0;32m      6\u001b[0m                             \u001b[1;33m,\u001b[0m\u001b[0mdf_0_pruf\u001b[0m\u001b[1;33m\u001b[0m\u001b[1;33m\u001b[0m\u001b[0m\n",
      "\u001b[1;32m<ipython-input-138-387e26dc73d6>\u001b[0m in \u001b[0;36mF_Calculo_Row\u001b[1;34m(Data, Row, W_t_a, df_a_o)\u001b[0m\n\u001b[0;32m     60\u001b[0m         \u001b[0mdf_Compras_client\u001b[0m\u001b[1;33m[\u001b[0m\u001b[1;34m'Dif_i_t'\u001b[0m\u001b[1;33m]\u001b[0m\u001b[1;33m=\u001b[0m\u001b[0mdf_Compras_client\u001b[0m\u001b[1;33m[\u001b[0m\u001b[1;34m'T'\u001b[0m\u001b[1;33m]\u001b[0m\u001b[1;33m.\u001b[0m\u001b[0mapply\u001b[0m\u001b[1;33m(\u001b[0m \u001b[1;32mlambda\u001b[0m \u001b[0mx\u001b[0m\u001b[1;33m:\u001b[0m \u001b[0mA_delta\u001b[0m\u001b[1;33m[\u001b[0m\u001b[0mx\u001b[0m\u001b[1;33m-\u001b[0m\u001b[1;36m1\u001b[0m\u001b[1;33m]\u001b[0m\u001b[1;33m)\u001b[0m\u001b[1;33m\u001b[0m\u001b[1;33m\u001b[0m\u001b[0m\n\u001b[0;32m     61\u001b[0m \u001b[1;33m\u001b[0m\u001b[0m\n\u001b[1;32m---> 62\u001b[1;33m     df_Compras_client['F_up']=df_Compras_client.apply( lambda x: x['W_t']*(x['Compras']/x['Dif_i_t'])\n\u001b[0m\u001b[0;32m     63\u001b[0m                             ,axis=1)\n\u001b[0;32m     64\u001b[0m     \u001b[0mF_i_Resultado\u001b[0m\u001b[1;33m=\u001b[0m\u001b[0mdf_Compras_client\u001b[0m\u001b[1;33m[\u001b[0m\u001b[1;34m'F_up'\u001b[0m\u001b[1;33m]\u001b[0m\u001b[1;33m.\u001b[0m\u001b[0msum\u001b[0m\u001b[1;33m(\u001b[0m\u001b[1;33m)\u001b[0m\u001b[0;31m\\\u001b[0m\u001b[1;33m\u001b[0m\u001b[1;33m\u001b[0m\u001b[0m\n",
      "\u001b[1;32m~\\anaconda3\\lib\\site-packages\\pandas\\core\\frame.py\u001b[0m in \u001b[0;36mapply\u001b[1;34m(self, func, axis, raw, result_type, args, **kwds)\u001b[0m\n\u001b[0;32m   7766\u001b[0m             \u001b[0mkwds\u001b[0m\u001b[1;33m=\u001b[0m\u001b[0mkwds\u001b[0m\u001b[1;33m,\u001b[0m\u001b[1;33m\u001b[0m\u001b[1;33m\u001b[0m\u001b[0m\n\u001b[0;32m   7767\u001b[0m         )\n\u001b[1;32m-> 7768\u001b[1;33m         \u001b[1;32mreturn\u001b[0m \u001b[0mop\u001b[0m\u001b[1;33m.\u001b[0m\u001b[0mget_result\u001b[0m\u001b[1;33m(\u001b[0m\u001b[1;33m)\u001b[0m\u001b[1;33m\u001b[0m\u001b[1;33m\u001b[0m\u001b[0m\n\u001b[0m\u001b[0;32m   7769\u001b[0m \u001b[1;33m\u001b[0m\u001b[0m\n\u001b[0;32m   7770\u001b[0m     \u001b[1;32mdef\u001b[0m \u001b[0mapplymap\u001b[0m\u001b[1;33m(\u001b[0m\u001b[0mself\u001b[0m\u001b[1;33m,\u001b[0m \u001b[0mfunc\u001b[0m\u001b[1;33m,\u001b[0m \u001b[0mna_action\u001b[0m\u001b[1;33m:\u001b[0m \u001b[0mOptional\u001b[0m\u001b[1;33m[\u001b[0m\u001b[0mstr\u001b[0m\u001b[1;33m]\u001b[0m \u001b[1;33m=\u001b[0m \u001b[1;32mNone\u001b[0m\u001b[1;33m)\u001b[0m \u001b[1;33m->\u001b[0m \u001b[0mDataFrame\u001b[0m\u001b[1;33m:\u001b[0m\u001b[1;33m\u001b[0m\u001b[1;33m\u001b[0m\u001b[0m\n",
      "\u001b[1;32m~\\anaconda3\\lib\\site-packages\\pandas\\core\\apply.py\u001b[0m in \u001b[0;36mget_result\u001b[1;34m(self)\u001b[0m\n\u001b[0;32m    183\u001b[0m             \u001b[1;32mreturn\u001b[0m \u001b[0mself\u001b[0m\u001b[1;33m.\u001b[0m\u001b[0mapply_raw\u001b[0m\u001b[1;33m(\u001b[0m\u001b[1;33m)\u001b[0m\u001b[1;33m\u001b[0m\u001b[1;33m\u001b[0m\u001b[0m\n\u001b[0;32m    184\u001b[0m \u001b[1;33m\u001b[0m\u001b[0m\n\u001b[1;32m--> 185\u001b[1;33m         \u001b[1;32mreturn\u001b[0m \u001b[0mself\u001b[0m\u001b[1;33m.\u001b[0m\u001b[0mapply_standard\u001b[0m\u001b[1;33m(\u001b[0m\u001b[1;33m)\u001b[0m\u001b[1;33m\u001b[0m\u001b[1;33m\u001b[0m\u001b[0m\n\u001b[0m\u001b[0;32m    186\u001b[0m \u001b[1;33m\u001b[0m\u001b[0m\n\u001b[0;32m    187\u001b[0m     \u001b[1;32mdef\u001b[0m \u001b[0mapply_empty_result\u001b[0m\u001b[1;33m(\u001b[0m\u001b[0mself\u001b[0m\u001b[1;33m)\u001b[0m\u001b[1;33m:\u001b[0m\u001b[1;33m\u001b[0m\u001b[1;33m\u001b[0m\u001b[0m\n",
      "\u001b[1;32m~\\anaconda3\\lib\\site-packages\\pandas\\core\\apply.py\u001b[0m in \u001b[0;36mapply_standard\u001b[1;34m(self)\u001b[0m\n\u001b[0;32m    274\u001b[0m \u001b[1;33m\u001b[0m\u001b[0m\n\u001b[0;32m    275\u001b[0m     \u001b[1;32mdef\u001b[0m \u001b[0mapply_standard\u001b[0m\u001b[1;33m(\u001b[0m\u001b[0mself\u001b[0m\u001b[1;33m)\u001b[0m\u001b[1;33m:\u001b[0m\u001b[1;33m\u001b[0m\u001b[1;33m\u001b[0m\u001b[0m\n\u001b[1;32m--> 276\u001b[1;33m         \u001b[0mresults\u001b[0m\u001b[1;33m,\u001b[0m \u001b[0mres_index\u001b[0m \u001b[1;33m=\u001b[0m \u001b[0mself\u001b[0m\u001b[1;33m.\u001b[0m\u001b[0mapply_series_generator\u001b[0m\u001b[1;33m(\u001b[0m\u001b[1;33m)\u001b[0m\u001b[1;33m\u001b[0m\u001b[1;33m\u001b[0m\u001b[0m\n\u001b[0m\u001b[0;32m    277\u001b[0m \u001b[1;33m\u001b[0m\u001b[0m\n\u001b[0;32m    278\u001b[0m         \u001b[1;31m# wrap results\u001b[0m\u001b[1;33m\u001b[0m\u001b[1;33m\u001b[0m\u001b[1;33m\u001b[0m\u001b[0m\n",
      "\u001b[1;32m~\\anaconda3\\lib\\site-packages\\pandas\\core\\apply.py\u001b[0m in \u001b[0;36mapply_series_generator\u001b[1;34m(self)\u001b[0m\n\u001b[0;32m    288\u001b[0m             \u001b[1;32mfor\u001b[0m \u001b[0mi\u001b[0m\u001b[1;33m,\u001b[0m \u001b[0mv\u001b[0m \u001b[1;32min\u001b[0m \u001b[0menumerate\u001b[0m\u001b[1;33m(\u001b[0m\u001b[0mseries_gen\u001b[0m\u001b[1;33m)\u001b[0m\u001b[1;33m:\u001b[0m\u001b[1;33m\u001b[0m\u001b[1;33m\u001b[0m\u001b[0m\n\u001b[0;32m    289\u001b[0m                 \u001b[1;31m# ignore SettingWithCopy here in case the user mutates\u001b[0m\u001b[1;33m\u001b[0m\u001b[1;33m\u001b[0m\u001b[1;33m\u001b[0m\u001b[0m\n\u001b[1;32m--> 290\u001b[1;33m                 \u001b[0mresults\u001b[0m\u001b[1;33m[\u001b[0m\u001b[0mi\u001b[0m\u001b[1;33m]\u001b[0m \u001b[1;33m=\u001b[0m \u001b[0mself\u001b[0m\u001b[1;33m.\u001b[0m\u001b[0mf\u001b[0m\u001b[1;33m(\u001b[0m\u001b[0mv\u001b[0m\u001b[1;33m)\u001b[0m\u001b[1;33m\u001b[0m\u001b[1;33m\u001b[0m\u001b[0m\n\u001b[0m\u001b[0;32m    291\u001b[0m                 \u001b[1;32mif\u001b[0m \u001b[0misinstance\u001b[0m\u001b[1;33m(\u001b[0m\u001b[0mresults\u001b[0m\u001b[1;33m[\u001b[0m\u001b[0mi\u001b[0m\u001b[1;33m]\u001b[0m\u001b[1;33m,\u001b[0m \u001b[0mABCSeries\u001b[0m\u001b[1;33m)\u001b[0m\u001b[1;33m:\u001b[0m\u001b[1;33m\u001b[0m\u001b[1;33m\u001b[0m\u001b[0m\n\u001b[0;32m    292\u001b[0m                     \u001b[1;31m# If we have a view on v, we need to make a copy because\u001b[0m\u001b[1;33m\u001b[0m\u001b[1;33m\u001b[0m\u001b[1;33m\u001b[0m\u001b[0m\n",
      "\u001b[1;32m<ipython-input-138-387e26dc73d6>\u001b[0m in \u001b[0;36m<lambda>\u001b[1;34m(x)\u001b[0m\n\u001b[0;32m     60\u001b[0m         \u001b[0mdf_Compras_client\u001b[0m\u001b[1;33m[\u001b[0m\u001b[1;34m'Dif_i_t'\u001b[0m\u001b[1;33m]\u001b[0m\u001b[1;33m=\u001b[0m\u001b[0mdf_Compras_client\u001b[0m\u001b[1;33m[\u001b[0m\u001b[1;34m'T'\u001b[0m\u001b[1;33m]\u001b[0m\u001b[1;33m.\u001b[0m\u001b[0mapply\u001b[0m\u001b[1;33m(\u001b[0m \u001b[1;32mlambda\u001b[0m \u001b[0mx\u001b[0m\u001b[1;33m:\u001b[0m \u001b[0mA_delta\u001b[0m\u001b[1;33m[\u001b[0m\u001b[0mx\u001b[0m\u001b[1;33m-\u001b[0m\u001b[1;36m1\u001b[0m\u001b[1;33m]\u001b[0m\u001b[1;33m)\u001b[0m\u001b[1;33m\u001b[0m\u001b[1;33m\u001b[0m\u001b[0m\n\u001b[0;32m     61\u001b[0m \u001b[1;33m\u001b[0m\u001b[0m\n\u001b[1;32m---> 62\u001b[1;33m     df_Compras_client['F_up']=df_Compras_client.apply( lambda x: x['W_t']*(x['Compras']/x['Dif_i_t'])\n\u001b[0m\u001b[0;32m     63\u001b[0m                             ,axis=1)\n\u001b[0;32m     64\u001b[0m     \u001b[0mF_i_Resultado\u001b[0m\u001b[1;33m=\u001b[0m\u001b[0mdf_Compras_client\u001b[0m\u001b[1;33m[\u001b[0m\u001b[1;34m'F_up'\u001b[0m\u001b[1;33m]\u001b[0m\u001b[1;33m.\u001b[0m\u001b[0msum\u001b[0m\u001b[1;33m(\u001b[0m\u001b[1;33m)\u001b[0m\u001b[0;31m\\\u001b[0m\u001b[1;33m\u001b[0m\u001b[1;33m\u001b[0m\u001b[0m\n",
      "\u001b[1;31mZeroDivisionError\u001b[0m: division by zero"
     ]
    }
   ],
   "source": [
    "#Alerta generada por no usar Copy()\n",
    "start_time_3 = time.time()\n",
    "data_i_F['Frecuency_Row']=data_i_F.apply( \n",
    "    (lambda x: F_Calculo_Row(data_i_F,x\n",
    "                            ,W_t_pruf\n",
    "                            ,df_0_pruf\n",
    "                            )[0]\n",
    "    ) , axis=1)\n",
    "end_time_3 = time.time()\n",
    "time_lapsed_3 = end_time_3 - start_time_3\n",
    "print('FRecuency de data_test')\n",
    "time_convert(time_lapsed_3)"
   ]
  },
  {
   "cell_type": "markdown",
   "id": "473f185f",
   "metadata": {
    "heading_collapsed": true,
    "hidden": true
   },
   "source": [
    "###### Revison del error "
   ]
  },
  {
   "cell_type": "code",
   "execution_count": 51,
   "id": "b5d9548a",
   "metadata": {
    "hidden": true
   },
   "outputs": [
    {
     "data": {
      "text/html": [
       "<div>\n",
       "<style scoped>\n",
       "    .dataframe tbody tr th:only-of-type {\n",
       "        vertical-align: middle;\n",
       "    }\n",
       "\n",
       "    .dataframe tbody tr th {\n",
       "        vertical-align: top;\n",
       "    }\n",
       "\n",
       "    .dataframe thead th {\n",
       "        text-align: right;\n",
       "    }\n",
       "</style>\n",
       "<table border=\"1\" class=\"dataframe\">\n",
       "  <thead>\n",
       "    <tr style=\"text-align: right;\">\n",
       "      <th></th>\n",
       "      <th>Cliente</th>\n",
       "      <th>Fecha Creacion</th>\n",
       "    </tr>\n",
       "  </thead>\n",
       "  <tbody>\n",
       "    <tr>\n",
       "      <th>0</th>\n",
       "      <td>10003742</td>\n",
       "      <td>2020-05-23</td>\n",
       "    </tr>\n",
       "    <tr>\n",
       "      <th>1</th>\n",
       "      <td>10007508</td>\n",
       "      <td>2018-03-01</td>\n",
       "    </tr>\n",
       "    <tr>\n",
       "      <th>2</th>\n",
       "      <td>10017269</td>\n",
       "      <td>2018-01-27</td>\n",
       "    </tr>\n",
       "    <tr>\n",
       "      <th>3</th>\n",
       "      <td>10023880</td>\n",
       "      <td>2018-12-28</td>\n",
       "    </tr>\n",
       "    <tr>\n",
       "      <th>4</th>\n",
       "      <td>10028999</td>\n",
       "      <td>2019-11-05</td>\n",
       "    </tr>\n",
       "    <tr>\n",
       "      <th>...</th>\n",
       "      <td>...</td>\n",
       "      <td>...</td>\n",
       "    </tr>\n",
       "    <tr>\n",
       "      <th>5068</th>\n",
       "      <td>9992154</td>\n",
       "      <td>2018-10-03</td>\n",
       "    </tr>\n",
       "    <tr>\n",
       "      <th>5069</th>\n",
       "      <td>9993925</td>\n",
       "      <td>2018-01-02</td>\n",
       "    </tr>\n",
       "    <tr>\n",
       "      <th>5070</th>\n",
       "      <td>9994662</td>\n",
       "      <td>2020-02-10</td>\n",
       "    </tr>\n",
       "    <tr>\n",
       "      <th>5071</th>\n",
       "      <td>9994800</td>\n",
       "      <td>2020-12-16</td>\n",
       "    </tr>\n",
       "    <tr>\n",
       "      <th>5072</th>\n",
       "      <td>9997223</td>\n",
       "      <td>2020-07-18</td>\n",
       "    </tr>\n",
       "  </tbody>\n",
       "</table>\n",
       "<p>5073 rows × 2 columns</p>\n",
       "</div>"
      ],
      "text/plain": [
       "       Cliente Fecha Creacion\n",
       "0     10003742     2020-05-23\n",
       "1     10007508     2018-03-01\n",
       "2     10017269     2018-01-27\n",
       "3     10023880     2018-12-28\n",
       "4     10028999     2019-11-05\n",
       "...        ...            ...\n",
       "5068   9992154     2018-10-03\n",
       "5069   9993925     2018-01-02\n",
       "5070   9994662     2020-02-10\n",
       "5071   9994800     2020-12-16\n",
       "5072   9997223     2020-07-18\n",
       "\n",
       "[5073 rows x 2 columns]"
      ]
     },
     "execution_count": 51,
     "metadata": {},
     "output_type": "execute_result"
    }
   ],
   "source": [
    "df_0_pruf"
   ]
  },
  {
   "cell_type": "code",
   "execution_count": 52,
   "id": "32f7918d",
   "metadata": {
    "hidden": true
   },
   "outputs": [
    {
     "data": {
      "text/plain": [
       "datetime.date(2020, 5, 23)"
      ]
     },
     "execution_count": 52,
     "metadata": {},
     "output_type": "execute_result"
    }
   ],
   "source": [
    "df_0_pruf['Fecha Creacion'].to_list()[0]"
   ]
  },
  {
   "cell_type": "code",
   "execution_count": 53,
   "id": "66e3b454",
   "metadata": {
    "hidden": true
   },
   "outputs": [
    {
     "data": {
      "text/plain": [
       "Cliente             15929479\n",
       "Fecha Creacion    2018-12-31\n",
       "Name: 1858, dtype: object"
      ]
     },
     "execution_count": 53,
     "metadata": {},
     "output_type": "execute_result"
    }
   ],
   "source": [
    "df_0_pruf.iloc[1858]"
   ]
  },
  {
   "cell_type": "code",
   "execution_count": 91,
   "id": "412285ff",
   "metadata": {
    "hidden": true,
    "scrolled": true
   },
   "outputs": [],
   "source": [
    "for i in range(df_0_pruf.shape[0]) :\n",
    "    for y in range(2018,2022):\n",
    "        if((datetime.date(y, 5, 23)>=df_0_pruf['Fecha Creacion'].to_list()[i])):\n",
    "            A= array_F_delta(datetime.date(y, 5, 23)\n",
    "                        #df_0_pruf['Fecha Creacion'].to_list()[i]\n",
    "                      ,df_0_pruf['Fecha Creacion'].to_list()[i])\n",
    "            if(min(A) < 1):\n",
    "                print(A,i,y)"
   ]
  },
  {
   "cell_type": "code",
   "execution_count": 67,
   "id": "f0f1e9b2",
   "metadata": {
    "hidden": true
   },
   "outputs": [
    {
     "data": {
      "text/plain": [
       "[366, 0]"
      ]
     },
     "execution_count": 67,
     "metadata": {},
     "output_type": "execute_result"
    }
   ],
   "source": [
    "array_F_delta(datetime.date(2020, 12, 31),\n",
    "                            datetime.date(2019, 12, 31)\n",
    "             )"
   ]
  },
  {
   "cell_type": "markdown",
   "id": "d0de7a1a",
   "metadata": {},
   "source": [
    "##### Post Error "
   ]
  },
  {
   "cell_type": "code",
   "execution_count": 92,
   "id": "d2ce942a",
   "metadata": {},
   "outputs": [
    {
     "name": "stdout",
     "output_type": "stream",
     "text": [
      "FRecuency de data_test\n",
      "Time Lapsed = 1:25:59.123647689819336 \n",
      " H:m:s\n"
     ]
    }
   ],
   "source": [
    "#Alerta generada por no usar Copy()\n",
    "start_time_3 = time.time()\n",
    "data_i_F['Frecuency_Row']=data_i_F.apply( \n",
    "    (lambda x: F_Calculo_Row(data_i_F,x\n",
    "                            ,W_t_pruf\n",
    "                            ,df_0_pruf\n",
    "                            )[0]\n",
    "    ) , axis=1)\n",
    "end_time_3 = time.time()\n",
    "time_lapsed_3 = end_time_3 - start_time_3\n",
    "print('FRecuency de data_test')\n",
    "time_convert(time_lapsed_3)"
   ]
  },
  {
   "cell_type": "markdown",
   "id": "e97732c0",
   "metadata": {},
   "source": [
    "#### SAVE CSV  "
   ]
  },
  {
   "cell_type": "code",
   "execution_count": 93,
   "id": "b4323e74",
   "metadata": {},
   "outputs": [
    {
     "name": "stdout",
     "output_type": "stream",
     "text": [
      "Guardado df\n",
      "Time Lapsed = 0:0:1.592038631439209 \n",
      " H:m:s\n",
      "Recency total codigo\n",
      "Time Lapsed = 2:0:25.870452880859375 \n",
      " H:m:s\n"
     ]
    }
   ],
   "source": [
    "File_save_CSV=file_direct_O+'data_1010078_CT F'+'.csv'\n",
    "\n",
    "data_i_F.to_csv(File_save_CSV, encoding='utf-8',index=True,sep=';')\n",
    "\n",
    "end_time_4 = time.time()\n",
    "time_lapsed_4 = end_time_4 - end_time_3\n",
    "time_lapsed_final = end_time_4 - start_time\n",
    "\n",
    "print('Guardado df')\n",
    "time_convert(time_lapsed_4)\n",
    "\n",
    "print('Recency total codigo')\n",
    "time_convert(time_lapsed_final)"
   ]
  },
  {
   "cell_type": "markdown",
   "id": "62e69080",
   "metadata": {},
   "source": [
    "# Analisis de resultados"
   ]
  },
  {
   "cell_type": "code",
   "execution_count": 97,
   "id": "7c784f75",
   "metadata": {},
   "outputs": [
    {
     "data": {
      "text/plain": [
       "Index(['Material (Nombre)', 'Kilos Venta KG', 'Precio', 'Día natural',\n",
       "       'Día Semana', 'Semana', 'Mes', 'Año', 'Población', 'Centro', 'Cliente',\n",
       "       'Cluster', 'Segmento.1', 'Categoría Cliente', 'Año Creación',\n",
       "       'Material Favorito', 'Frecuencia Historica', 'Mes_num',\n",
       "       'Frecuency_Row'],\n",
       "      dtype='object')"
      ]
     },
     "execution_count": 97,
     "metadata": {},
     "output_type": "execute_result"
    }
   ],
   "source": [
    "data_i_F.columns"
   ]
  },
  {
   "cell_type": "code",
   "execution_count": 98,
   "id": "19044e00",
   "metadata": {
    "scrolled": false
   },
   "outputs": [
    {
     "data": {
      "text/html": [
       "<div>\n",
       "<style scoped>\n",
       "    .dataframe tbody tr th:only-of-type {\n",
       "        vertical-align: middle;\n",
       "    }\n",
       "\n",
       "    .dataframe tbody tr th {\n",
       "        vertical-align: top;\n",
       "    }\n",
       "\n",
       "    .dataframe thead th {\n",
       "        text-align: right;\n",
       "    }\n",
       "</style>\n",
       "<table border=\"1\" class=\"dataframe\">\n",
       "  <thead>\n",
       "    <tr style=\"text-align: right;\">\n",
       "      <th></th>\n",
       "      <th>Día natural</th>\n",
       "      <th>Material (Nombre)</th>\n",
       "      <th>Kilos Venta KG</th>\n",
       "      <th>Precio</th>\n",
       "      <th>Cliente</th>\n",
       "      <th>Frecuency_Row</th>\n",
       "    </tr>\n",
       "  </thead>\n",
       "  <tbody>\n",
       "    <tr>\n",
       "      <th>61455</th>\n",
       "      <td>2020-05-23</td>\n",
       "      <td>1010078(Trutro Entero Selección)</td>\n",
       "      <td>22</td>\n",
       "      <td>1300</td>\n",
       "      <td>10003742</td>\n",
       "      <td>1.000000</td>\n",
       "    </tr>\n",
       "    <tr>\n",
       "      <th>61456</th>\n",
       "      <td>2018-03-01</td>\n",
       "      <td>1010078(Trutro Entero Selección)</td>\n",
       "      <td>110</td>\n",
       "      <td>1174</td>\n",
       "      <td>10007508</td>\n",
       "      <td>1.000000</td>\n",
       "    </tr>\n",
       "    <tr>\n",
       "      <th>61457</th>\n",
       "      <td>2018-03-08</td>\n",
       "      <td>1010078(Trutro Entero Selección)</td>\n",
       "      <td>66</td>\n",
       "      <td>1174</td>\n",
       "      <td>10007508</td>\n",
       "      <td>0.285714</td>\n",
       "    </tr>\n",
       "    <tr>\n",
       "      <th>61458</th>\n",
       "      <td>2018-03-20</td>\n",
       "      <td>1010078(Trutro Entero Selección)</td>\n",
       "      <td>66</td>\n",
       "      <td>1033</td>\n",
       "      <td>10007508</td>\n",
       "      <td>0.157895</td>\n",
       "    </tr>\n",
       "    <tr>\n",
       "      <th>61459</th>\n",
       "      <td>2018-03-27</td>\n",
       "      <td>1010078(Trutro Entero Selección)</td>\n",
       "      <td>65</td>\n",
       "      <td>1100</td>\n",
       "      <td>10007508</td>\n",
       "      <td>0.153846</td>\n",
       "    </tr>\n",
       "    <tr>\n",
       "      <th>...</th>\n",
       "      <td>...</td>\n",
       "      <td>...</td>\n",
       "      <td>...</td>\n",
       "      <td>...</td>\n",
       "      <td>...</td>\n",
       "      <td>...</td>\n",
       "    </tr>\n",
       "    <tr>\n",
       "      <th>297036</th>\n",
       "      <td>2021-10-14</td>\n",
       "      <td>1010078(Trutro Entero Selección)</td>\n",
       "      <td>22</td>\n",
       "      <td>1450</td>\n",
       "      <td>9994662</td>\n",
       "      <td>0.016376</td>\n",
       "    </tr>\n",
       "    <tr>\n",
       "      <th>297037</th>\n",
       "      <td>2020-12-16</td>\n",
       "      <td>1010078(Trutro Entero Selección)</td>\n",
       "      <td>22</td>\n",
       "      <td>1390</td>\n",
       "      <td>9994800</td>\n",
       "      <td>1.000000</td>\n",
       "    </tr>\n",
       "    <tr>\n",
       "      <th>297038</th>\n",
       "      <td>2021-06-09</td>\n",
       "      <td>1010078(Trutro Entero Selección)</td>\n",
       "      <td>22</td>\n",
       "      <td>1150</td>\n",
       "      <td>9994800</td>\n",
       "      <td>0.025633</td>\n",
       "    </tr>\n",
       "    <tr>\n",
       "      <th>297039</th>\n",
       "      <td>2021-06-30</td>\n",
       "      <td>1010078(Trutro Entero Selección)</td>\n",
       "      <td>22</td>\n",
       "      <td>1150</td>\n",
       "      <td>9994800</td>\n",
       "      <td>0.028893</td>\n",
       "    </tr>\n",
       "    <tr>\n",
       "      <th>297040</th>\n",
       "      <td>2020-07-18</td>\n",
       "      <td>1010078(Trutro Entero Selección)</td>\n",
       "      <td>22</td>\n",
       "      <td>1090</td>\n",
       "      <td>9997223</td>\n",
       "      <td>1.000000</td>\n",
       "    </tr>\n",
       "  </tbody>\n",
       "</table>\n",
       "<p>198596 rows × 6 columns</p>\n",
       "</div>"
      ],
      "text/plain": [
       "       Día natural                 Material (Nombre)  Kilos Venta KG  Precio  \\\n",
       "61455   2020-05-23  1010078(Trutro Entero Selección)              22    1300   \n",
       "61456   2018-03-01  1010078(Trutro Entero Selección)             110    1174   \n",
       "61457   2018-03-08  1010078(Trutro Entero Selección)              66    1174   \n",
       "61458   2018-03-20  1010078(Trutro Entero Selección)              66    1033   \n",
       "61459   2018-03-27  1010078(Trutro Entero Selección)              65    1100   \n",
       "...            ...                               ...             ...     ...   \n",
       "297036  2021-10-14  1010078(Trutro Entero Selección)              22    1450   \n",
       "297037  2020-12-16  1010078(Trutro Entero Selección)              22    1390   \n",
       "297038  2021-06-09  1010078(Trutro Entero Selección)              22    1150   \n",
       "297039  2021-06-30  1010078(Trutro Entero Selección)              22    1150   \n",
       "297040  2020-07-18  1010078(Trutro Entero Selección)              22    1090   \n",
       "\n",
       "         Cliente  Frecuency_Row  \n",
       "61455   10003742       1.000000  \n",
       "61456   10007508       1.000000  \n",
       "61457   10007508       0.285714  \n",
       "61458   10007508       0.157895  \n",
       "61459   10007508       0.153846  \n",
       "...          ...            ...  \n",
       "297036   9994662       0.016376  \n",
       "297037   9994800       1.000000  \n",
       "297038   9994800       0.025633  \n",
       "297039   9994800       0.028893  \n",
       "297040   9997223       1.000000  \n",
       "\n",
       "[198596 rows x 6 columns]"
      ]
     },
     "execution_count": 98,
     "metadata": {},
     "output_type": "execute_result"
    }
   ],
   "source": [
    "data_i_F[['Día natural']+Dic_col['Base']+['Frecuency_Row']]"
   ]
  },
  {
   "cell_type": "code",
   "execution_count": 99,
   "id": "c7edc0fd",
   "metadata": {},
   "outputs": [
    {
     "data": {
      "text/plain": [
       "<AxesSubplot:>"
      ]
     },
     "execution_count": 99,
     "metadata": {},
     "output_type": "execute_result"
    },
    {
     "data": {
      "image/png": "[encoded data removed]",
      "text/plain": [
       "<Figure size 432x288 with 1 Axes>"
      ]
     },
     "metadata": {
      "needs_background": "light"
     },
     "output_type": "display_data"
    }
   ],
   "source": [
    "data_i_F['Frecuency_Row'].hist()"
   ]
  },
  {
   "cell_type": "code",
   "execution_count": 108,
   "id": "c26c1b8e",
   "metadata": {},
   "outputs": [
    {
     "data": {
      "text/plain": [
       "0.0"
      ]
     },
     "execution_count": 108,
     "metadata": {},
     "output_type": "execute_result"
    }
   ],
   "source": [
    "np.log(1)"
   ]
  },
  {
   "cell_type": "code",
   "execution_count": 104,
   "id": "5045f18e",
   "metadata": {},
   "outputs": [
    {
     "data": {
      "text/plain": [
       "<AxesSubplot:>"
      ]
     },
     "execution_count": 104,
     "metadata": {},
     "output_type": "execute_result"
    },
    {
     "data": {
      "image/png": "[encoded data removed]",
      "text/plain": [
       "<Figure size 432x288 with 1 Axes>"
      ]
     },
     "metadata": {
      "needs_background": "light"
     },
     "output_type": "display_data"
    }
   ],
   "source": [
    "data_i_F['Frecuency_Row'].apply(lambda x: np.log(x)).hist()"
   ]
  }
 ],
 "metadata": {
  "celltoolbar": "Raw Cell Format",
  "kernelspec": {
   "display_name": "Python 3",
   "language": "python",
   "name": "python3"
  },
  "language_info": {
   "codemirror_mode": {
    "name": "ipython",
    "version": 3
   },
   "file_extension": ".py",
   "mimetype": "text/x-python",
   "name": "python",
   "nbconvert_exporter": "python",
   "pygments_lexer": "ipython3",
   "version": "3.8.5"
  },
  "toc": {
   "base_numbering": 1,
   "nav_menu": {
    "height": "89px",
    "width": "334px"
   },
   "number_sections": true,
   "sideBar": true,
   "skip_h1_title": false,
   "title_cell": "Table of Contents",
   "title_sidebar": "Contents",
   "toc_cell": false,
   "toc_position": {
    "height": "calc(100% - 180px)",
    "left": "10px",
    "top": "150px",
    "width": "243.525px"
   },
   "toc_section_display": true,
   "toc_window_display": false
  }
 },
 "nbformat": 4,
 "nbformat_minor": 5
}
