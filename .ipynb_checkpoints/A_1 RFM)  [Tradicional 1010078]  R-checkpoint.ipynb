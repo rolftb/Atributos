{
 "cells": [
  {
   "cell_type": "markdown",
   "id": "580b8db5",
   "metadata": {},
   "source": [
    "Notas:\n",
    "--------\n",
    "\n",
    "   - [ ] __Construir la variable Recency.__\n",
    "        - [ ] Sección para caso pequeño\n",
    "        - [ ] Función para estadnarizar\n",
    "        - [ ] Probar esta función\n",
    "        - [ ] Implementar\n",
    "   - [ ] __Contruir Frecuency__\n",
    "        - [ ] Sección para caso pequeño\n",
    "        - [ ] Función para estadnarizar\n",
    "        - [ ] Probar esta función\n",
    "        - [ ] Implementar\n",
    "   - [ ] __Construir Monetary__\n",
    "        - [ ] Sección para caso pequeño\n",
    "        - [ ] Función para estadnarizar\n",
    "        - [ ] Probar esta función\n",
    "        - [ ] Implementar   "
   ]
  },
  {
   "cell_type": "code",
   "execution_count": 1,
   "id": "57c1f8e0",
   "metadata": {},
   "outputs": [],
   "source": [
    "#!jt -l\n",
    "# !jt -t oceans16 -T\n",
    "# !jt -r"
   ]
  },
  {
   "cell_type": "markdown",
   "id": "48cc505f",
   "metadata": {},
   "source": [
    "# Inicio\n"
   ]
  },
  {
   "cell_type": "markdown",
   "id": "7c2a8234",
   "metadata": {},
   "source": [
    "\n",
    "__Rename__\n",
    "Recordar que la columna llamada\n",
    "\n",
    "- `Precio promedio` ahora es `Precio`\n",
    "- `Centro.1` ahora es `Centro`\n",
    "- `Centro` ahora es `Centro_Cod`\n",
    "\n",
    "Presenta los parametros del modelo:\n",
    "\n",
    "- Dirección datos\n",
    "- Dirección Graficos\n",
    "- _Material a analizar_\n",
    "- _Canal a analizar_\n",
    "- _Zona de los Datos_\n",
    "- _Año de inicio de analizis_\n",
    "\n",
    "Base de datos\n",
    "\n",
    "\n",
    "`Tipo_de_Cliente`\n",
    "`Y_producto`\n",
    "`Año_inicio`\n",
    "\n",
    "`file_direct_Graphic` "
   ]
  },
  {
   "cell_type": "markdown",
   "id": "8bad43fc",
   "metadata": {},
   "source": [
    "## Parametros "
   ]
  },
  {
   "cell_type": "code",
   "execution_count": 2,
   "id": "a0737e98",
   "metadata": {},
   "outputs": [],
   "source": [
    "#===================================\n",
    "# Archivo\n",
    "#===================================\n",
    "Zona_df='Z001'\n",
    "\n",
    "#===================================\n",
    "# Clientes\n",
    "#===================================\n",
    "Tipo_de_Cliente='Tradicional'\n",
    "\n",
    "#===================================\n",
    "# Producto de interes\n",
    "#===================================\n",
    "Y_producto='1010078'\n",
    "\n",
    "\n",
    "#===================================\n",
    "# Año de Partida\n",
    "#===================================\n",
    "Año_inicio='2018'\n",
    "\n",
    "\n",
    "\n",
    "\n",
    "# Ordenador de escritorio\n",
    "\n",
    "file_direct_O=\"C:/Users/user/Documents/Data/Data Clear/\"+Zona_df+\"/\"\n",
    "file_direct_Clear=\"C:/Users/user/Documents/Data/Data Clear/\"\n",
    "file_direct_Graphic='C:/Users/user/Documents/Graficos'\n",
    "Png_file_direct_Graphic=\"C:\\\\Users\\\\user\\\\Documents\\\\Graficos\"\n",
    "\"\"\"\n",
    "\n",
    "#Notebook\n",
    "file_direct_O=\"C:/Users/rolft/Documents/Repositorios/Data/Data Clear/\"+Zona_df+\"/\"\n",
    "file_direct_Clear=\"C:/Users/rolft/Documents/Repositorios/Data/Data Clear/\"\n",
    "file_direct_Graphic='C:/Users/rolft/Documents/Repositorios/Graficos'\n",
    "Png_file_direct_Graphic='C:\\\\Users\\\\rolft\\\\Documents\\\\Repositorios\\\\Graficos'\n",
    "\"\"\"\n",
    "#Graficos\n",
    "file_direct_Graphic_Canal=file_direct_Graphic+\"/\"+Tipo_de_Cliente\n",
    "file_direct_Graphic_Canal_Material=file_direct_Graphic_Canal+'/'+Y_producto\n",
    "\n",
    "Png_file_direct_Graphic_Canal=Png_file_direct_Graphic+'\\\\'+'Canal '+Tipo_de_Cliente\n",
    "Png_file_direct_Graphic_Canal_Material=Png_file_direct_Graphic_Canal+'\\\\'+Y_producto\n"
   ]
  },
  {
   "cell_type": "markdown",
   "id": "f80e374d",
   "metadata": {},
   "source": [
    "## Intalar paquetes, Abrir data y ajustarla "
   ]
  },
  {
   "cell_type": "markdown",
   "id": "6a7c4706",
   "metadata": {},
   "source": [
    "### import"
   ]
  },
  {
   "cell_type": "code",
   "execution_count": 3,
   "id": "faaa036d",
   "metadata": {
    "scrolled": true
   },
   "outputs": [],
   "source": [
    "#from adjustText import adjust_text\n",
    "# from adjustText import *"
   ]
  },
  {
   "cell_type": "code",
   "execution_count": 4,
   "id": "0ea91ad7",
   "metadata": {},
   "outputs": [],
   "source": [
    "#=====================================================\n",
    "                # BASE \n",
    "#-----------------------------------------------------\n",
    "import pandas as pd\n",
    "import numpy as np\n",
    "import matplotlib.pyplot as plt\n",
    "\n",
    "#from geopandas import *\n",
    "\n",
    "from plotnine import *\n",
    "\n",
    "#para ajustar las fechas\n",
    "import datetime\n",
    "\n",
    "#para calcular el skew de un array() o list()\n",
    "from scipy.stats import skew "
   ]
  },
  {
   "cell_type": "code",
   "execution_count": 5,
   "id": "8916d4cd",
   "metadata": {},
   "outputs": [],
   "source": [
    "#=====================================================\n",
    "                # sklearn \n",
    "#-----------------------------------------------------\n",
    "\n",
    "#Separador de datos en train/test\n",
    "from sklearn.model_selection import train_test_split\n",
    "\n",
    "#Prediccion Ridge Regression\n",
    "from sklearn.linear_model import Ridge"
   ]
  },
  {
   "cell_type": "code",
   "execution_count": 6,
   "id": "8d82be85",
   "metadata": {},
   "outputs": [],
   "source": [
    "#=====================================================\n",
    "                # statsmodels \n",
    "#-----------------------------------------------------\n",
    "import statsmodels.api as sm\n",
    "import statsmodels.formula.api as smf\n",
    "from statsmodels.tools.sm_exceptions import ConvergenceWarning\n",
    "\n",
    "\n",
    "#from statsmodels.regression.mixed_linear_model import MixedLMResults\n",
    "# No se para qué sirve este"
   ]
  },
  {
   "cell_type": "code",
   "execution_count": 7,
   "id": "734ff701",
   "metadata": {},
   "outputs": [],
   "source": [
    "#====================================================\n",
    "#librerias para crear division de series temporales\n",
    "#====================================================\n",
    "\n",
    "from mizani.breaks import date_breaks\n",
    "from mizani.formatters import date_format"
   ]
  },
  {
   "cell_type": "code",
   "execution_count": 8,
   "id": "34160d20",
   "metadata": {},
   "outputs": [],
   "source": [
    "# stopwatch\n",
    "import time\n",
    "def time_convert(sec):\n",
    "  mins = sec // 60\n",
    "  sec = sec % 60\n",
    "  hours = mins // 60\n",
    "  mins = mins % 60\n",
    "  print(\"Time Lapsed = {0}:{1}:{2}\".format(int(hours),int(mins),sec),'\\n H:m:s')\n",
    "#==================================\n",
    "#          Example\n",
    "#    input(\"Press Enter to start\")\n",
    "start_time = time.time()\n",
    "#    input(\"Press Enter to stop\")\n",
    "#    end_time = time.time()\n",
    "#    time_lapsed = end_time - start_time\n",
    "#    time_convert(time_lapsed)\n",
    "#================================="
   ]
  },
  {
   "cell_type": "markdown",
   "id": "0e0194b5",
   "metadata": {},
   "source": [
    "### Funciones \n",
    "```python\n",
    "#Mes_name\n",
    "data_i.Mes.apply(Mes_name)\n",
    "```\n",
    ">Transforma la columna mes numerica en el nombre del mes"
   ]
  },
  {
   "cell_type": "markdown",
   "id": "76bc8afd",
   "metadata": {},
   "source": [
    "__Forma de crear una etiqueta para un valor especifico__\n",
    "```python\n",
    "#[Y_Graph]\n",
    "dfz=df.copy()\n",
    "dfz['Año select']=dfz.apply( lambda x: x['Año'] if x['Año']==2020 else '',axis=1)\n",
    "dfz\n",
    "```"
   ]
  },
  {
   "cell_type": "code",
   "execution_count": 9,
   "id": "ad8627c9",
   "metadata": {},
   "outputs": [],
   "source": [
    "#===================================\n",
    "# Dicionario MES\n",
    "#===================================\n",
    "\n",
    "#===================================\n",
    "# Fecha\n",
    "D=['Enero','Febrero','Marzo','Abril',\n",
    " 'Mayo','Junio','Julio','Agosto',\n",
    " 'Septiembre','Octubre',\n",
    " 'Noviembre','Diciembre']\n",
    "Month_dic={i:D[i-1]  for i in range(1,13)}\n",
    "#===========================================\n",
    "\n",
    "\n",
    "def Mes_name(x):\n",
    "    D=['Enero','Febrero','Marzo','Abril',\n",
    "    'Mayo','Junio','Julio','Agosto',\n",
    "    'Septiembre','Octubre',\n",
    "    'Noviembre','Diciembre']\n",
    "    return(D[int(x)-1])"
   ]
  },
  {
   "cell_type": "markdown",
   "id": "b8b67d6b",
   "metadata": {},
   "source": [
    "## Datos  \n",
    "Se cargan los datos de\n",
    "Ventas y la defincion de los productos\n",
    "Ventas está en `data_v` y despues pasa a ser `data`\n",
    "\n",
    "Productos estan cargados en `DF_products`\n"
   ]
  },
  {
   "cell_type": "markdown",
   "id": "7b6b6d72",
   "metadata": {},
   "source": [
    "###  DF_FULL"
   ]
  },
  {
   "cell_type": "markdown",
   "id": "53e5214b",
   "metadata": {},
   "source": [
    "##### Abrir Archivo  "
   ]
  },
  {
   "cell_type": "code",
   "execution_count": 10,
   "id": "d3f89b2c",
   "metadata": {},
   "outputs": [
    {
     "data": {
      "text/html": [
       "<div>\n",
       "<style scoped>\n",
       "    .dataframe tbody tr th:only-of-type {\n",
       "        vertical-align: middle;\n",
       "    }\n",
       "\n",
       "    .dataframe tbody tr th {\n",
       "        vertical-align: top;\n",
       "    }\n",
       "\n",
       "    .dataframe thead th {\n",
       "        text-align: right;\n",
       "    }\n",
       "</style>\n",
       "<table border=\"1\" class=\"dataframe\">\n",
       "  <thead>\n",
       "    <tr style=\"text-align: right;\">\n",
       "      <th></th>\n",
       "      <th>Zona de ventas</th>\n",
       "      <th>Zona de ventas.1</th>\n",
       "      <th>Cliente</th>\n",
       "      <th>Cliente.1</th>\n",
       "      <th>Cliente - Local</th>\n",
       "      <th>Cliente - Local.1</th>\n",
       "      <th>Material</th>\n",
       "      <th>Día natural</th>\n",
       "      <th>Kilos Venta KG</th>\n",
       "      <th>Venta Neta</th>\n",
       "      <th>...</th>\n",
       "      <th>Tipo de material.1</th>\n",
       "      <th>Marca</th>\n",
       "      <th>Nivel 2</th>\n",
       "      <th>Granel/Envasado</th>\n",
       "      <th>Marinado</th>\n",
       "      <th>Nivel 3</th>\n",
       "      <th>Grupo artículos</th>\n",
       "      <th>Estado</th>\n",
       "      <th>Estandar</th>\n",
       "      <th>Envase</th>\n",
       "    </tr>\n",
       "  </thead>\n",
       "  <tbody>\n",
       "    <tr>\n",
       "      <th>0</th>\n",
       "      <td>Z001</td>\n",
       "      <td>Santiago</td>\n",
       "      <td>10003742</td>\n",
       "      <td>Ferrer Leiva Sonia</td>\n",
       "      <td>Ferrer Leiva Sonia</td>\n",
       "      <td>38458</td>\n",
       "      <td>1010077</td>\n",
       "      <td>2018-02-09</td>\n",
       "      <td>12.0</td>\n",
       "      <td>13685.0</td>\n",
       "      <td>...</td>\n",
       "      <td>Prod. Term.  Ave</td>\n",
       "      <td>SUPER POLLO (SP)</td>\n",
       "      <td>Trutro</td>\n",
       "      <td>GRANEL</td>\n",
       "      <td>MARINADO</td>\n",
       "      <td>Trutro Entero</td>\n",
       "      <td>01050</td>\n",
       "      <td>REFRIGERADO</td>\n",
       "      <td>PESO VARIABLE</td>\n",
       "      <td>NO CONGELADO</td>\n",
       "    </tr>\n",
       "  </tbody>\n",
       "</table>\n",
       "<p>1 rows × 40 columns</p>\n",
       "</div>"
      ],
      "text/plain": [
       "  Zona de ventas Zona de ventas.1   Cliente           Cliente.1  \\\n",
       "0           Z001         Santiago  10003742  Ferrer Leiva Sonia   \n",
       "\n",
       "      Cliente - Local Cliente - Local.1 Material Día natural Kilos Venta KG  \\\n",
       "0  Ferrer Leiva Sonia             38458  1010077  2018-02-09           12.0   \n",
       "\n",
       "  Venta Neta  ... Tipo de material.1             Marca Nivel 2  \\\n",
       "0    13685.0  ...   Prod. Term.  Ave  SUPER POLLO (SP)  Trutro   \n",
       "\n",
       "  Granel/Envasado  Marinado        Nivel 3 Grupo artículos       Estado  \\\n",
       "0          GRANEL  MARINADO  Trutro Entero           01050  REFRIGERADO   \n",
       "\n",
       "        Estandar        Envase  \n",
       "0  PESO VARIABLE  NO CONGELADO  \n",
       "\n",
       "[1 rows x 40 columns]"
      ]
     },
     "execution_count": 10,
     "metadata": {},
     "output_type": "execute_result"
    }
   ],
   "source": [
    "#======================================================================\n",
    "# Se Cargan los datos de ventas con las caracteristicas de los clientes\n",
    "#=====================================================================\n",
    "\n",
    "file_direct=file_direct_O+'Ventas_Full'+'.csv'\n",
    "col_names=pd.read_csv(file_direct,\n",
    "                      encoding=\"utf-8\",sep=\";\",nrows=0).columns\n",
    "\n",
    "types_dict = {col: str for col in list(col_names)}\n",
    "\n",
    "DF_FULL = pd.read_csv(file_direct,\n",
    "                   encoding=\"utf-8\",sep=\";\",dtype=types_dict)\n",
    "#elimina una columna en especifico\n",
    "#DF_FULL.drop('Año natural', inplace=True, axis=1)\n",
    "DF_FULL.head(1)"
   ]
  },
  {
   "cell_type": "markdown",
   "id": "50978acc",
   "metadata": {},
   "source": [
    "#### Funcion"
   ]
  },
  {
   "cell_type": "code",
   "execution_count": 11,
   "id": "d97d256e",
   "metadata": {},
   "outputs": [],
   "source": [
    "# =============================================================================\n",
    "# Ajustar la data\n",
    "# =============================================================================\n",
    "def Ajuste_data(data):\n",
    "    start_time = time.time()\n",
    "\n",
    "    df=data.copy()\n",
    "\n",
    "# =================================\n",
    "# ELiminare dodos los valores Nan\n",
    "# =================================\n",
    "    #for i in df.columns.to_list():\n",
    "    #    df=df[df[i].notna()]\n",
    "\n",
    "#=================================\n",
    "# Proceso iterativo Pasar a numero\n",
    "#=================================\n",
    "\n",
    "    for i in ['Kilos Venta KG','Venta Neta','Precio Promedio']:\n",
    "        df[i]=df[i].astype('float64').astype('int64')\n",
    "        \n",
    "#=================================\n",
    "# Agregar nombre al codigo del producto\n",
    "#=================================\n",
    "    def material_name(x):\n",
    "        s1=str(x['Material'])\n",
    "        s2=str(x['Nivel 4.1'])\n",
    "        return(s1+'('+s2+')')\n",
    "    df['Material (Nombre)']=df.apply(lambda x:  material_name(x), axis=1)\n",
    "    \n",
    "\n",
    "\n",
    "#==========================================================================================\n",
    "# Ajuste de las fechas\n",
    "#-----------------------------------------------------------------------------------------\n",
    "    df[\"Día natural\"] = df[\"Día natural\"].apply(lambda x: \n",
    "                                                datetime.datetime.strptime(str(x),\n",
    "                                                                           '%Y-%m-%d').date())\n",
    "    \n",
    "    #Separacion fecha\n",
    "    \n",
    "    #df['Semana']=df[\"Día natural\"].apply(lambda x: x.isocalendar()[1] )\n",
    "    #df['Mes']=df[\"Día natural\"].apply(lambda x: x.month)\n",
    "    #df['Año']=df[\"Día natural\"].apply(lambda x: x.year)\n",
    "    #df['Semana']=df['Semana'].astype('int64')\n",
    "    df['Año']=df['Año'].astype('int64')\n",
    "    D_W=['Lunes','Martes','Miércoles','Jueves', 'Viernes','Sábado','Domingo']\n",
    "    df['Día Semana']=df[\"Día natural\"].apply(lambda x: D_W[x.isocalendar()[2] -1])\n",
    "    df=df[df['Día Semana']!='Domingo']\n",
    "    \n",
    "    DF_FULL.dtypes\n",
    "    end_time = time.time()\n",
    "    time_convert(end_time - start_time)\n",
    "    return df"
   ]
  },
  {
   "cell_type": "markdown",
   "id": "ee2bcc68",
   "metadata": {},
   "source": [
    "### Datos año de inicio\n",
    "#### Rename"
   ]
  },
  {
   "cell_type": "code",
   "execution_count": 12,
   "id": "d6ca58ea",
   "metadata": {
    "scrolled": true
   },
   "outputs": [
    {
     "name": "stdout",
     "output_type": "stream",
     "text": [
      "Time Lapsed = 0:0:20.72281551361084 \n",
      " H:m:s\n"
     ]
    },
    {
     "data": {
      "text/plain": [
       "Zona de ventas          object\n",
       "Zona de ventas.1        object\n",
       "Cliente                 object\n",
       "Cliente.1               object\n",
       "Cliente - Local         object\n",
       "Cliente - Local.1       object\n",
       "Material                object\n",
       "Día natural             object\n",
       "Kilos Venta KG           int64\n",
       "Venta Neta               int64\n",
       "Precio                   int64\n",
       "Frecuencia Historica    object\n",
       "Centro                  object\n",
       "Centro.1                object\n",
       "Población               object\n",
       "Tipo de cliente         object\n",
       "Cluster                 object\n",
       "Segmento                object\n",
       "Segmento.1              object\n",
       "Categoría Cliente       object\n",
       "Zona de reparto         object\n",
       "Año Creación            object\n",
       "Material Favorito       object\n",
       "Semana                  object\n",
       "Mes                     object\n",
       "Año                      int64\n",
       "Nivel 4                 object\n",
       "Nivel 4.1               object\n",
       "Sector                  object\n",
       "Tipo de material        object\n",
       "Tipo de material.1      object\n",
       "Marca                   object\n",
       "Nivel 2                 object\n",
       "Granel/Envasado         object\n",
       "Marinado                object\n",
       "Nivel 3                 object\n",
       "Grupo artículos         object\n",
       "Estado                  object\n",
       "Estandar                object\n",
       "Envase                  object\n",
       "Material (Nombre)       object\n",
       "Día Semana              object\n",
       "Centro_cod              object\n",
       "dtype: object"
      ]
     },
     "execution_count": 12,
     "metadata": {},
     "output_type": "execute_result"
    }
   ],
   "source": [
    "#=====================================\n",
    "# Aplicacion del ajuste de los datos\n",
    "#=====================================\n",
    "\n",
    "data=Ajuste_data(DF_FULL).rename(\n",
    "    columns={'Precio Promedio':'Precio'\n",
    "            #,'Centro.1':'Centro'\n",
    "            })\n",
    "data['Centro_cod']=data['Centro']\n",
    "data['Centro']=data['Centro.1']\n",
    "\n",
    "data[data.Año>=int(Año_inicio)]\n",
    "data.dtypes"
   ]
  },
  {
   "cell_type": "code",
   "execution_count": 13,
   "id": "20e9b364",
   "metadata": {
    "scrolled": true
   },
   "outputs": [
    {
     "data": {
      "text/plain": [
       "-256"
      ]
     },
     "execution_count": 13,
     "metadata": {},
     "output_type": "execute_result"
    }
   ],
   "source": [
    "#=============================\n",
    "# Se eliminaron los regristros donde existen dias domingos\n",
    "#(No hay despacho los dias domingos)\n",
    "#============================\n",
    "\n",
    "data.shape[0] - DF_FULL.shape[0]"
   ]
  },
  {
   "cell_type": "markdown",
   "id": "79f8b061",
   "metadata": {},
   "source": [
    "# Selección data(Canal/material)"
   ]
  },
  {
   "cell_type": "code",
   "execution_count": 14,
   "id": "2740d399",
   "metadata": {},
   "outputs": [
    {
     "name": "stdout",
     "output_type": "stream",
     "text": [
      "Time Lapsed = 0:0:27.25297260284424 \n",
      " H:m:s\n"
     ]
    }
   ],
   "source": [
    "end_time = time.time()\n",
    "time_lapsed = end_time - start_time\n",
    "time_convert(time_lapsed)\n"
   ]
  },
  {
   "cell_type": "markdown",
   "id": "fa0ec774",
   "metadata": {},
   "source": [
    "data frame `data_i`\n",
    "\n",
    "\n",
    "> - Producto `i_producto = Y_producto`\n",
    "> -Para el Canal `Tipo_de_Cliente`\n",
    "> -Variable a predecir/Grafico `Y_Variable`\n",
    "\n",
    "Columnas de interes para predecir `X_col`\n",
    "\n",
    "Diccionario del grupo de columnas `Dic_col`"
   ]
  },
  {
   "cell_type": "markdown",
   "id": "56076fc8",
   "metadata": {},
   "source": [
    "## data "
   ]
  },
  {
   "cell_type": "markdown",
   "id": "2af7bd9f",
   "metadata": {},
   "source": [
    "##### Definición del producto "
   ]
  },
  {
   "cell_type": "code",
   "execution_count": 15,
   "id": "65ae6463",
   "metadata": {},
   "outputs": [
    {
     "name": "stdout",
     "output_type": "stream",
     "text": [
      "1010078 Tradicional\n"
     ]
    }
   ],
   "source": [
    "#==============================\n",
    "# Se define el producto\n",
    "#==============================\n",
    "i_producto=Y_producto\n",
    "print(i_producto\n",
    "     ,Tipo_de_Cliente)\n",
    "\n",
    "data_i=data[\n",
    "    (data['Tipo de cliente']==Tipo_de_Cliente)\n",
    "    &(data.Material==i_producto)\n",
    "].copy()\n"
   ]
  },
  {
   "cell_type": "markdown",
   "id": "3614f1ae",
   "metadata": {},
   "source": [
    "### Columnas a usar \n",
    "rename aplicado a `Precio promedio`"
   ]
  },
  {
   "cell_type": "markdown",
   "id": "38444021",
   "metadata": {},
   "source": [
    "###### Columnas a usar "
   ]
  },
  {
   "cell_type": "code",
   "execution_count": 16,
   "id": "be9ad327",
   "metadata": {
    "scrolled": true
   },
   "outputs": [],
   "source": [
    "#=======================================================================================================\n",
    "                                                # Columnas a usar\n",
    "#========================================================================================================\n",
    "\n",
    "data_i=data_i[[\n",
    "                    #======================================   \n",
    "                                    # Base de la venta\n",
    "                    #--------------------------------------\n",
    "\n",
    "'Material (Nombre)',\n",
    "    #ID Nombre\n",
    "    \n",
    "#========================\n",
    "#Cantidad/Ingreso/Precio\n",
    "#------------------------\n",
    "'Kilos Venta KG',\n",
    "#'Venta Neta', No es necesario o de interes para la prediccion\n",
    "'Precio',\n",
    "\n",
    "#========================\n",
    "#fecha\n",
    "#------------------------\n",
    "'Día natural', #Se descarta por series de tiempo\n",
    "    # Ver si funciona\n",
    "\n",
    "'Día Semana',\n",
    "    #lun, Mart, Mier, Juev\n",
    "'Semana',\n",
    "    #1, 2 , 3 ,..., 52, 53\n",
    "'Mes',\n",
    "    #1,2,3,...,12\n",
    "'Año',\n",
    "    #2018,2019,...,2021\n",
    "    \n",
    "    \n",
    "\n",
    "#______________________________________________________________________\n",
    "                        \n",
    "                                    # CLIENTE\n",
    "    \n",
    "#=====================================\n",
    "#Ubicacion del cliente\n",
    "#-------------------------------------\n",
    "'Población', #'Zona de reparto',\n",
    "#Comuna del Cliente ; Codigo de la zona de reparto\n",
    "#[No son excluyentes, la Zona de reparto\n",
    "#Es más especifica y agrupa a clientes]\n",
    "\n",
    "\n",
    "                #Region\n",
    "                #'Zona de ventas',\n",
    "                #'Zona de ventas.1',\n",
    "                    #(Z001: Santiago)\n",
    "\n",
    "#Es atendido por la Centro:\n",
    "'Centro', #'Centro', Centro de distribución de los productos\n",
    "    #ID Centro, Nombre Centro(oficina o centro)\n",
    "    \n",
    "#=========================================    \n",
    "#Identificacion del cliente\n",
    "#---------------------------------------\n",
    "'Cliente', #'Cliente.1',\n",
    "     #ID del cliente , #nombre del cliente\n",
    " #'Cliente - Local', 'Cliente - Local.1'\n",
    "     # Tambien funciona como ID\n",
    "         #ID, Nombre\n",
    "\n",
    "    #Agrupacion del cliente\n",
    "    #'Tipo de cliente', #SON TODOS IGUALES\n",
    "    'Cluster', \n",
    "         #Canal del cliente ; Tipo de cliente\n",
    "             #Tradicional   ; Clasico\n",
    "\n",
    "    #Nivel de cobertura\n",
    "    #'Segmento', \n",
    "     'Segmento.1',\n",
    "     #codigo ; nombre\n",
    "         #50 ; Cobertura pequeno SD\n",
    "    'Categoría Cliente',\n",
    "            #Especialista en Proc\n",
    "\n",
    "\n",
    "    #===================================================\n",
    "    #Caracteristicas Adiocinales a su consumo\n",
    "    #-------------------------------------------------\n",
    "        'Año Creación',\n",
    "            #Fecha de afiliación a Agrosuper\n",
    "             #-> Debe ser INT idealmente\n",
    "\n",
    "        'Material Favorito',\n",
    "             #ID del producto que ha comprado más frecuentemente\n",
    "             #(No por cantidad, si no que por cantidad de compras realizadas)\n",
    "                 #-> Puede ser solo el codigo o el nombre tambien\n",
    "\n",
    "        'Frecuencia Historica',\n",
    "             #Cantidad de compras realizadas desde el 2018\n",
    "                 #-> debe ser INT\n",
    "                     #-> constante para todas las compras\n",
    "                            # Al ser variable complejiza todo\n",
    " \n",
    "]]\n"
   ]
  },
  {
   "cell_type": "markdown",
   "id": "0390aa21",
   "metadata": {},
   "source": [
    "###### Ajuste de type de columnas "
   ]
  },
  {
   "cell_type": "code",
   "execution_count": 17,
   "id": "a0e19457",
   "metadata": {},
   "outputs": [],
   "source": [
    "data_i['Frecuencia Historica']=data_i['Frecuencia Historica'].astype('int64')\n",
    "data_i['Año Creación']=data_i['Año Creación'].astype('int64')"
   ]
  },
  {
   "cell_type": "code",
   "execution_count": 18,
   "id": "62f38f3b",
   "metadata": {},
   "outputs": [
    {
     "name": "stdout",
     "output_type": "stream",
     "text": [
      "category\n",
      "(198596, 18)\n",
      "(198596, 18)\n",
      "(198596, 18)\n"
     ]
    },
    {
     "data": {
      "text/html": [
       "<div>\n",
       "<style scoped>\n",
       "    .dataframe tbody tr th:only-of-type {\n",
       "        vertical-align: middle;\n",
       "    }\n",
       "\n",
       "    .dataframe tbody tr th {\n",
       "        vertical-align: top;\n",
       "    }\n",
       "\n",
       "    .dataframe thead th {\n",
       "        text-align: right;\n",
       "    }\n",
       "</style>\n",
       "<table border=\"1\" class=\"dataframe\">\n",
       "  <thead>\n",
       "    <tr style=\"text-align: right;\">\n",
       "      <th></th>\n",
       "      <th>Material (Nombre)</th>\n",
       "      <th>Kilos Venta KG</th>\n",
       "      <th>Precio</th>\n",
       "      <th>Día natural</th>\n",
       "      <th>Día Semana</th>\n",
       "      <th>Semana</th>\n",
       "      <th>Mes</th>\n",
       "      <th>Año</th>\n",
       "      <th>Población</th>\n",
       "      <th>Centro</th>\n",
       "      <th>Cliente</th>\n",
       "      <th>Cluster</th>\n",
       "      <th>Segmento.1</th>\n",
       "      <th>Categoría Cliente</th>\n",
       "      <th>Año Creación</th>\n",
       "      <th>Material Favorito</th>\n",
       "      <th>Frecuencia Historica</th>\n",
       "      <th>Mes_num</th>\n",
       "    </tr>\n",
       "  </thead>\n",
       "  <tbody>\n",
       "    <tr>\n",
       "      <th>61455</th>\n",
       "      <td>1010078(Trutro Entero Selección)</td>\n",
       "      <td>22</td>\n",
       "      <td>1300</td>\n",
       "      <td>2020-05-23</td>\n",
       "      <td>Sábado</td>\n",
       "      <td>21</td>\n",
       "      <td>Mayo</td>\n",
       "      <td>2020</td>\n",
       "      <td>La Pintana</td>\n",
       "      <td>Sucursal Lo Espejo</td>\n",
       "      <td>10003742</td>\n",
       "      <td>Clásico</td>\n",
       "      <td>Cobertura Pequeno SD</td>\n",
       "      <td>Especialista en Proc</td>\n",
       "      <td>2007</td>\n",
       "      <td>1010077</td>\n",
       "      <td>19</td>\n",
       "      <td>5</td>\n",
       "    </tr>\n",
       "    <tr>\n",
       "      <th>61456</th>\n",
       "      <td>1010078(Trutro Entero Selección)</td>\n",
       "      <td>110</td>\n",
       "      <td>1174</td>\n",
       "      <td>2018-03-01</td>\n",
       "      <td>Jueves</td>\n",
       "      <td>9</td>\n",
       "      <td>Marzo</td>\n",
       "      <td>2018</td>\n",
       "      <td>Puente Alto</td>\n",
       "      <td>Sucursal Lo Espejo</td>\n",
       "      <td>10007508</td>\n",
       "      <td>Clásico</td>\n",
       "      <td>Cobertura Mediano SD</td>\n",
       "      <td>Especialista en Crud</td>\n",
       "      <td>2007</td>\n",
       "      <td>1020253</td>\n",
       "      <td>464</td>\n",
       "      <td>3</td>\n",
       "    </tr>\n",
       "  </tbody>\n",
       "</table>\n",
       "</div>"
      ],
      "text/plain": [
       "                      Material (Nombre)  Kilos Venta KG  Precio Día natural  \\\n",
       "61455  1010078(Trutro Entero Selección)              22    1300  2020-05-23   \n",
       "61456  1010078(Trutro Entero Selección)             110    1174  2018-03-01   \n",
       "\n",
       "      Día Semana Semana    Mes   Año    Población              Centro  \\\n",
       "61455     Sábado     21   Mayo  2020   La Pintana  Sucursal Lo Espejo   \n",
       "61456     Jueves      9  Marzo  2018  Puente Alto  Sucursal Lo Espejo   \n",
       "\n",
       "        Cliente  Cluster            Segmento.1     Categoría Cliente  \\\n",
       "61455  10003742  Clásico  Cobertura Pequeno SD  Especialista en Proc   \n",
       "61456  10007508  Clásico  Cobertura Mediano SD  Especialista en Crud   \n",
       "\n",
       "       Año Creación Material Favorito  Frecuencia Historica Mes_num  \n",
       "61455          2007           1010077                    19       5  \n",
       "61456          2007           1020253                   464       3  "
      ]
     },
     "execution_count": 18,
     "metadata": {},
     "output_type": "execute_result"
    }
   ],
   "source": [
    "#Ajuste Columnas \n",
    "data_i.Año=data_i.Año.astype('category')\n",
    "print(data_i.Año.dtype)\n",
    "data_i['Mes_num']=data_i[\"Mes\"]#.apply(lambda x: Mes_name(x))\n",
    "print(data_i.shape)\n",
    "data_i['Mes']=data_i[\"Mes_num\"].apply(lambda x: Mes_name(x))\n",
    "print(data_i.shape)\n",
    "data_i[['Mes','Mes_num','Día natural']].head()\n",
    "print(data_i.shape)\n",
    "data_i.head(2)"
   ]
  },
  {
   "cell_type": "markdown",
   "id": "f0b5bcbc",
   "metadata": {},
   "source": [
    "##### brebe analisis "
   ]
  },
  {
   "cell_type": "markdown",
   "id": "fc58991b",
   "metadata": {},
   "source": [
    "###### Diferencias en filas y columnas, data base "
   ]
  },
  {
   "cell_type": "code",
   "execution_count": 19,
   "id": "b493f861",
   "metadata": {},
   "outputs": [
    {
     "name": "stdout",
     "output_type": "stream",
     "text": [
      "Data Full (1061161, 40)\n",
      "-256 3\n",
      "Data Año (1060905, 43)\n",
      "-862309 -25\n",
      "Data Año, Canal Producto (198596, 18)\n"
     ]
    }
   ],
   "source": [
    "#======================================\n",
    "# Disminución de las filas y columnas\n",
    "# al pasar a data_i\n",
    "#======================================\n",
    "\n",
    "print('Data Full',DF_FULL.shape)\n",
    "print(data.shape[0]-DF_FULL.shape[0],\n",
    "      data.shape[1]-DF_FULL.shape[1])\n",
    "print('Data Año',data.shape)\n",
    "print(data_i.shape[0]-data.shape[0],\n",
    "      data_i.shape[1]-data.shape[1])\n",
    "print('Data Año, Canal Producto',data_i.shape)"
   ]
  },
  {
   "cell_type": "markdown",
   "id": "3b19e2eb",
   "metadata": {},
   "source": [
    "###### Describe "
   ]
  },
  {
   "cell_type": "code",
   "execution_count": 20,
   "id": "a21c032d",
   "metadata": {
    "scrolled": false
   },
   "outputs": [
    {
     "data": {
      "text/html": [
       "<div>\n",
       "<style scoped>\n",
       "    .dataframe tbody tr th:only-of-type {\n",
       "        vertical-align: middle;\n",
       "    }\n",
       "\n",
       "    .dataframe tbody tr th {\n",
       "        vertical-align: top;\n",
       "    }\n",
       "\n",
       "    .dataframe thead th {\n",
       "        text-align: right;\n",
       "    }\n",
       "</style>\n",
       "<table border=\"1\" class=\"dataframe\">\n",
       "  <thead>\n",
       "    <tr style=\"text-align: right;\">\n",
       "      <th></th>\n",
       "      <th>index</th>\n",
       "      <th>Material (Nombre)</th>\n",
       "      <th>Kilos Venta KG</th>\n",
       "      <th>Precio</th>\n",
       "      <th>Día natural</th>\n",
       "      <th>Día Semana</th>\n",
       "      <th>Semana</th>\n",
       "      <th>Mes</th>\n",
       "      <th>Año</th>\n",
       "      <th>Población</th>\n",
       "      <th>Centro</th>\n",
       "      <th>Cliente</th>\n",
       "      <th>Cluster</th>\n",
       "      <th>Segmento.1</th>\n",
       "      <th>Categoría Cliente</th>\n",
       "      <th>Año Creación</th>\n",
       "      <th>Material Favorito</th>\n",
       "      <th>Frecuencia Historica</th>\n",
       "      <th>Mes_num</th>\n",
       "    </tr>\n",
       "  </thead>\n",
       "  <tbody>\n",
       "    <tr>\n",
       "      <th>1</th>\n",
       "      <td>unique</td>\n",
       "      <td>1</td>\n",
       "      <td>NaN</td>\n",
       "      <td>NaN</td>\n",
       "      <td>1140</td>\n",
       "      <td>6</td>\n",
       "      <td>53</td>\n",
       "      <td>12</td>\n",
       "      <td>4.0</td>\n",
       "      <td>46</td>\n",
       "      <td>3</td>\n",
       "      <td>5073</td>\n",
       "      <td>3</td>\n",
       "      <td>3</td>\n",
       "      <td>5</td>\n",
       "      <td>NaN</td>\n",
       "      <td>13</td>\n",
       "      <td>NaN</td>\n",
       "      <td>12</td>\n",
       "    </tr>\n",
       "  </tbody>\n",
       "</table>\n",
       "</div>"
      ],
      "text/plain": [
       "    index Material (Nombre)  Kilos Venta KG  Precio Día natural Día Semana  \\\n",
       "1  unique                 1             NaN     NaN        1140          6   \n",
       "\n",
       "  Semana Mes  Año Población Centro Cliente Cluster Segmento.1  \\\n",
       "1     53  12  4.0        46      3    5073       3          3   \n",
       "\n",
       "  Categoría Cliente  Año Creación Material Favorito  Frecuencia Historica  \\\n",
       "1                 5           NaN                13                   NaN   \n",
       "\n",
       "  Mes_num  \n",
       "1      12  "
      ]
     },
     "execution_count": 20,
     "metadata": {},
     "output_type": "execute_result"
    }
   ],
   "source": [
    "desc=data_i.describe(include='all').reset_index()\n",
    "desc[desc['index']=='unique']"
   ]
  },
  {
   "cell_type": "markdown",
   "id": "de023a7b",
   "metadata": {},
   "source": [
    "## Dicionario \n",
    "rename aplicado a `Precio promedio`"
   ]
  },
  {
   "cell_type": "code",
   "execution_count": 21,
   "id": "74447145",
   "metadata": {},
   "outputs": [],
   "source": [
    "Dic_col={'Base':\n",
    "                             ['Material (Nombre)', 'Kilos Venta KG', 'Precio','Cliente'],\n",
    "        'Fecha':\n",
    "                             ['Día natural','Día Semana','Semana', 'Mes', 'Año'],\n",
    "        'Ubicacion':\n",
    "                             ['Centro','Población'],\n",
    "        'Cliente Categoria':\n",
    "                             ['Cluster','Segmento.1', 'Categoría Cliente'],\n",
    "        'Cliente Atributos':\n",
    "                             ['Año Creación', 'Material Favorito','Frecuencia Historica'] \n",
    "        }"
   ]
  },
  {
   "cell_type": "markdown",
   "id": "59b17d20",
   "metadata": {},
   "source": [
    "##### Revision"
   ]
  },
  {
   "cell_type": "code",
   "execution_count": 22,
   "id": "cb5cfbaf",
   "metadata": {
    "scrolled": true
   },
   "outputs": [
    {
     "name": "stdout",
     "output_type": "stream",
     "text": [
      "17\n",
      "['Material (Nombre)', 'Kilos Venta KG', 'Precio', 'Cliente', 'Día natural', 'Día Semana', 'Semana', 'Mes', 'Año', 'Centro', 'Población', 'Cluster', 'Segmento.1', 'Categoría Cliente', 'Año Creación', 'Material Favorito', 'Frecuencia Historica']\n"
     ]
    }
   ],
   "source": [
    "#List sirve para definir las columnas de interes para los datos\n",
    "list_=[]\n",
    "for i in Dic_col:\n",
    "    list_+=Dic_col[i]\n",
    "print(len(list_))\n",
    "print((list_))\n"
   ]
  },
  {
   "cell_type": "code",
   "execution_count": 23,
   "id": "ef1fbd92",
   "metadata": {
    "scrolled": true
   },
   "outputs": [
    {
     "name": "stdout",
     "output_type": "stream",
     "text": [
      "dict_keys(['Base', 'Fecha', 'Ubicacion', 'Cliente Categoria', 'Cliente Atributos'])\n",
      "['Material (Nombre)', 'Kilos Venta KG', 'Precio', 'Cliente', 'Día natural', 'Día Semana', 'Semana', 'Mes', 'Año', 'Centro', 'Población', 'Cluster', 'Segmento.1', 'Categoría Cliente', 'Año Creación', 'Material Favorito', 'Frecuencia Historica'] 17\n"
     ]
    },
    {
     "data": {
      "text/html": [
       "<div>\n",
       "<style scoped>\n",
       "    .dataframe tbody tr th:only-of-type {\n",
       "        vertical-align: middle;\n",
       "    }\n",
       "\n",
       "    .dataframe tbody tr th {\n",
       "        vertical-align: top;\n",
       "    }\n",
       "\n",
       "    .dataframe thead th {\n",
       "        text-align: right;\n",
       "    }\n",
       "</style>\n",
       "<table border=\"1\" class=\"dataframe\">\n",
       "  <thead>\n",
       "    <tr style=\"text-align: right;\">\n",
       "      <th></th>\n",
       "      <th>Material (Nombre)</th>\n",
       "      <th>Kilos Venta KG</th>\n",
       "      <th>Precio</th>\n",
       "      <th>Cliente</th>\n",
       "      <th>Día natural</th>\n",
       "      <th>Día Semana</th>\n",
       "      <th>Semana</th>\n",
       "      <th>Mes</th>\n",
       "      <th>Año</th>\n",
       "      <th>Centro</th>\n",
       "      <th>Población</th>\n",
       "      <th>Cluster</th>\n",
       "      <th>Segmento.1</th>\n",
       "      <th>Categoría Cliente</th>\n",
       "      <th>Año Creación</th>\n",
       "      <th>Material Favorito</th>\n",
       "      <th>Frecuencia Historica</th>\n",
       "    </tr>\n",
       "  </thead>\n",
       "  <tbody>\n",
       "    <tr>\n",
       "      <th>0</th>\n",
       "      <td>1010077(Trutro Entero Selección)</td>\n",
       "      <td>12</td>\n",
       "      <td>1190</td>\n",
       "      <td>10003742</td>\n",
       "      <td>2018-02-09</td>\n",
       "      <td>Viernes</td>\n",
       "      <td>6</td>\n",
       "      <td>2</td>\n",
       "      <td>2018</td>\n",
       "      <td>Sucursal Lo Espejo</td>\n",
       "      <td>La Pintana</td>\n",
       "      <td>Clásico</td>\n",
       "      <td>Cobertura Pequeno SD</td>\n",
       "      <td>Especialista en Proc</td>\n",
       "      <td>2007</td>\n",
       "      <td>1010077</td>\n",
       "      <td>19</td>\n",
       "    </tr>\n",
       "    <tr>\n",
       "      <th>1</th>\n",
       "      <td>1010077(Trutro Entero Selección)</td>\n",
       "      <td>12</td>\n",
       "      <td>1350</td>\n",
       "      <td>10003742</td>\n",
       "      <td>2018-05-04</td>\n",
       "      <td>Viernes</td>\n",
       "      <td>18</td>\n",
       "      <td>5</td>\n",
       "      <td>2018</td>\n",
       "      <td>Sucursal Lo Espejo</td>\n",
       "      <td>La Pintana</td>\n",
       "      <td>Clásico</td>\n",
       "      <td>Cobertura Pequeno SD</td>\n",
       "      <td>Especialista en Proc</td>\n",
       "      <td>2007</td>\n",
       "      <td>1010077</td>\n",
       "      <td>19</td>\n",
       "    </tr>\n",
       "  </tbody>\n",
       "</table>\n",
       "</div>"
      ],
      "text/plain": [
       "                  Material (Nombre)  Kilos Venta KG  Precio   Cliente  \\\n",
       "0  1010077(Trutro Entero Selección)              12    1190  10003742   \n",
       "1  1010077(Trutro Entero Selección)              12    1350  10003742   \n",
       "\n",
       "  Día natural Día Semana Semana Mes   Año              Centro   Población  \\\n",
       "0  2018-02-09    Viernes      6   2  2018  Sucursal Lo Espejo  La Pintana   \n",
       "1  2018-05-04    Viernes     18   5  2018  Sucursal Lo Espejo  La Pintana   \n",
       "\n",
       "   Cluster            Segmento.1     Categoría Cliente Año Creación  \\\n",
       "0  Clásico  Cobertura Pequeno SD  Especialista en Proc         2007   \n",
       "1  Clásico  Cobertura Pequeno SD  Especialista en Proc         2007   \n",
       "\n",
       "  Material Favorito Frecuencia Historica  \n",
       "0           1010077                   19  \n",
       "1           1010077                   19  "
      ]
     },
     "execution_count": 23,
     "metadata": {},
     "output_type": "execute_result"
    }
   ],
   "source": [
    "print(Dic_col.keys())\n",
    "Columnas_a_usar=[j for i in \n",
    "                 ['Base','Fecha', 'Ubicacion', 'Cliente Categoria', 'Cliente Atributos']\n",
    "                 for j in Dic_col[i]  ]\n",
    "print(Columnas_a_usar,len(Columnas_a_usar))\n",
    "data[Columnas_a_usar].head(2)\n"
   ]
  },
  {
   "cell_type": "code",
   "execution_count": 24,
   "id": "1d55169d",
   "metadata": {
    "scrolled": false
   },
   "outputs": [
    {
     "name": "stdout",
     "output_type": "stream",
     "text": [
      "Material (Nombre) ['1010077(Trutro Entero Selección)']\n",
      "Kilos Venta KG [12]\n",
      "Precio [1190]\n",
      "Cliente ['10003742']\n",
      "Día natural [datetime.date(2018, 2, 9)]\n",
      "Día Semana ['Viernes']\n",
      "Semana ['6']\n",
      "Mes ['2']\n",
      "Año [2018]\n",
      "Centro ['Sucursal Lo Espejo']\n",
      "Población ['La Pintana']\n",
      "Cluster ['Clásico']\n",
      "Segmento.1 ['Cobertura Pequeno SD']\n",
      "Categoría Cliente ['Especialista en Proc']\n",
      "Año Creación ['2007']\n",
      "Material Favorito ['1010077']\n",
      "Frecuencia Historica ['19']\n",
      "Tipo de cliente ['Tradicional']\n"
     ]
    }
   ],
   "source": [
    "for i in list(list_+['Tipo de cliente']):\n",
    "    print(i,data[list_+['Tipo de cliente']].iloc[:1,:][i].to_list())"
   ]
  },
  {
   "cell_type": "markdown",
   "id": "c481a741",
   "metadata": {
    "heading_collapsed": true
   },
   "source": [
    "# R Recency, (Frescura)\n",
    "\n",
    "- [ ] __Caracteristica Cliente__\n",
    ">El tiempo que lleva sin realizar una compra en días.\n",
    "Se busca el registro más nuevo por cliente y se calcula el delta con el registro más nuevo de los datos.\n",
    "\n",
    "\n",
    " - [ ] __Feature of puchad__\n",
    ">Además se planea construir una columna, para definir el recency de cada transacción para definir si influye en el precio."
   ]
  },
  {
   "cell_type": "markdown",
   "id": "e9f243ef",
   "metadata": {
    "heading_collapsed": true,
    "hidden": true
   },
   "source": [
    "## inicio "
   ]
  },
  {
   "cell_type": "markdown",
   "id": "4739f4d8",
   "metadata": {
    "heading_collapsed": true,
    "hidden": true
   },
   "source": [
    "##### Columnas "
   ]
  },
  {
   "cell_type": "code",
   "execution_count": 25,
   "id": "acf26105",
   "metadata": {
    "hidden": true,
    "scrolled": true
   },
   "outputs": [
    {
     "data": {
      "text/plain": [
       "{'Base': ['Material (Nombre)', 'Kilos Venta KG', 'Precio', 'Cliente'],\n",
       " 'Fecha': ['Día natural', 'Día Semana', 'Semana', 'Mes', 'Año'],\n",
       " 'Ubicacion': ['Centro', 'Población'],\n",
       " 'Cliente Categoria': ['Cluster', 'Segmento.1', 'Categoría Cliente'],\n",
       " 'Cliente Atributos': ['Año Creación',\n",
       "  'Material Favorito',\n",
       "  'Frecuencia Historica']}"
      ]
     },
     "execution_count": 25,
     "metadata": {},
     "output_type": "execute_result"
    }
   ],
   "source": [
    "Dic_col"
   ]
  },
  {
   "cell_type": "code",
   "execution_count": 26,
   "id": "d2f24ce1",
   "metadata": {
    "hidden": true
   },
   "outputs": [
    {
     "data": {
      "text/html": [
       "<div>\n",
       "<style scoped>\n",
       "    .dataframe tbody tr th:only-of-type {\n",
       "        vertical-align: middle;\n",
       "    }\n",
       "\n",
       "    .dataframe tbody tr th {\n",
       "        vertical-align: top;\n",
       "    }\n",
       "\n",
       "    .dataframe thead th {\n",
       "        text-align: right;\n",
       "    }\n",
       "</style>\n",
       "<table border=\"1\" class=\"dataframe\">\n",
       "  <thead>\n",
       "    <tr style=\"text-align: right;\">\n",
       "      <th></th>\n",
       "      <th>Material (Nombre)</th>\n",
       "      <th>Kilos Venta KG</th>\n",
       "      <th>Precio</th>\n",
       "      <th>Cliente</th>\n",
       "      <th>Día natural</th>\n",
       "      <th>Día Semana</th>\n",
       "      <th>Semana</th>\n",
       "      <th>Mes</th>\n",
       "      <th>Año</th>\n",
       "    </tr>\n",
       "  </thead>\n",
       "  <tbody>\n",
       "    <tr>\n",
       "      <th>61455</th>\n",
       "      <td>1010078(Trutro Entero Selección)</td>\n",
       "      <td>22</td>\n",
       "      <td>1300</td>\n",
       "      <td>10003742</td>\n",
       "      <td>2020-05-23</td>\n",
       "      <td>Sábado</td>\n",
       "      <td>21</td>\n",
       "      <td>Mayo</td>\n",
       "      <td>2020</td>\n",
       "    </tr>\n",
       "    <tr>\n",
       "      <th>61456</th>\n",
       "      <td>1010078(Trutro Entero Selección)</td>\n",
       "      <td>110</td>\n",
       "      <td>1174</td>\n",
       "      <td>10007508</td>\n",
       "      <td>2018-03-01</td>\n",
       "      <td>Jueves</td>\n",
       "      <td>9</td>\n",
       "      <td>Marzo</td>\n",
       "      <td>2018</td>\n",
       "    </tr>\n",
       "    <tr>\n",
       "      <th>61457</th>\n",
       "      <td>1010078(Trutro Entero Selección)</td>\n",
       "      <td>66</td>\n",
       "      <td>1174</td>\n",
       "      <td>10007508</td>\n",
       "      <td>2018-03-08</td>\n",
       "      <td>Jueves</td>\n",
       "      <td>10</td>\n",
       "      <td>Marzo</td>\n",
       "      <td>2018</td>\n",
       "    </tr>\n",
       "    <tr>\n",
       "      <th>61458</th>\n",
       "      <td>1010078(Trutro Entero Selección)</td>\n",
       "      <td>66</td>\n",
       "      <td>1033</td>\n",
       "      <td>10007508</td>\n",
       "      <td>2018-03-20</td>\n",
       "      <td>Martes</td>\n",
       "      <td>12</td>\n",
       "      <td>Marzo</td>\n",
       "      <td>2018</td>\n",
       "    </tr>\n",
       "    <tr>\n",
       "      <th>61459</th>\n",
       "      <td>1010078(Trutro Entero Selección)</td>\n",
       "      <td>65</td>\n",
       "      <td>1100</td>\n",
       "      <td>10007508</td>\n",
       "      <td>2018-03-27</td>\n",
       "      <td>Martes</td>\n",
       "      <td>13</td>\n",
       "      <td>Marzo</td>\n",
       "      <td>2018</td>\n",
       "    </tr>\n",
       "  </tbody>\n",
       "</table>\n",
       "</div>"
      ],
      "text/plain": [
       "                      Material (Nombre)  Kilos Venta KG  Precio   Cliente  \\\n",
       "61455  1010078(Trutro Entero Selección)              22    1300  10003742   \n",
       "61456  1010078(Trutro Entero Selección)             110    1174  10007508   \n",
       "61457  1010078(Trutro Entero Selección)              66    1174  10007508   \n",
       "61458  1010078(Trutro Entero Selección)              66    1033  10007508   \n",
       "61459  1010078(Trutro Entero Selección)              65    1100  10007508   \n",
       "\n",
       "      Día natural Día Semana Semana    Mes   Año  \n",
       "61455  2020-05-23     Sábado     21   Mayo  2020  \n",
       "61456  2018-03-01     Jueves      9  Marzo  2018  \n",
       "61457  2018-03-08     Jueves     10  Marzo  2018  \n",
       "61458  2018-03-20     Martes     12  Marzo  2018  \n",
       "61459  2018-03-27     Martes     13  Marzo  2018  "
      ]
     },
     "execution_count": 26,
     "metadata": {},
     "output_type": "execute_result"
    }
   ],
   "source": [
    "data_i[Dic_col['Base']\n",
    "       +Dic_col['Fecha']].head()"
   ]
  },
  {
   "cell_type": "code",
   "execution_count": 27,
   "id": "055467a3",
   "metadata": {
    "hidden": true
   },
   "outputs": [
    {
     "data": {
      "text/plain": [
       "datetime.date(2021, 10, 26)"
      ]
     },
     "execution_count": 27,
     "metadata": {},
     "output_type": "execute_result"
    }
   ],
   "source": [
    "data_i[Dic_col['Fecha'][0]].max()"
   ]
  },
  {
   "cell_type": "code",
   "execution_count": 28,
   "id": "31a37c20",
   "metadata": {
    "hidden": true
   },
   "outputs": [
    {
     "data": {
      "text/plain": [
       "1393"
      ]
     },
     "execution_count": 28,
     "metadata": {},
     "output_type": "execute_result"
    }
   ],
   "source": [
    "(data_i[Dic_col['Fecha'][0]].max() -\n",
    "data_i[Dic_col['Fecha'][0]].min()).days"
   ]
  },
  {
   "cell_type": "markdown",
   "id": "544219f7",
   "metadata": {
    "heading_collapsed": true,
    "hidden": true
   },
   "source": [
    "## Prueba pequ "
   ]
  },
  {
   "cell_type": "markdown",
   "id": "48f8d56a",
   "metadata": {
    "heading_collapsed": true,
    "hidden": true
   },
   "source": [
    "##### Data"
   ]
  },
  {
   "cell_type": "code",
   "execution_count": 29,
   "id": "414d6599",
   "metadata": {
    "hidden": true
   },
   "outputs": [
    {
     "data": {
      "text/plain": [
       "(239,)"
      ]
     },
     "execution_count": 29,
     "metadata": {},
     "output_type": "execute_result"
    }
   ],
   "source": [
    "df=data_i[(data_i['Población'] =='La Florida')].copy()\n",
    "df.Cliente.unique().shape"
   ]
  },
  {
   "cell_type": "markdown",
   "id": "5a550100",
   "metadata": {
    "heading_collapsed": true,
    "hidden": true
   },
   "source": [
    "###### Mini data "
   ]
  },
  {
   "cell_type": "code",
   "execution_count": 30,
   "id": "f2058422",
   "metadata": {
    "hidden": true,
    "scrolled": false
   },
   "outputs": [
    {
     "name": "stdout",
     "output_type": "stream",
     "text": [
      "(39, 9)\n"
     ]
    },
    {
     "data": {
      "text/html": [
       "<div>\n",
       "<style scoped>\n",
       "    .dataframe tbody tr th:only-of-type {\n",
       "        vertical-align: middle;\n",
       "    }\n",
       "\n",
       "    .dataframe tbody tr th {\n",
       "        vertical-align: top;\n",
       "    }\n",
       "\n",
       "    .dataframe thead th {\n",
       "        text-align: right;\n",
       "    }\n",
       "</style>\n",
       "<table border=\"1\" class=\"dataframe\">\n",
       "  <thead>\n",
       "    <tr style=\"text-align: right;\">\n",
       "      <th></th>\n",
       "      <th>Material (Nombre)</th>\n",
       "      <th>Kilos Venta KG</th>\n",
       "      <th>Precio</th>\n",
       "      <th>Cliente</th>\n",
       "      <th>Día natural</th>\n",
       "      <th>Día Semana</th>\n",
       "      <th>Semana</th>\n",
       "      <th>Mes</th>\n",
       "      <th>Año</th>\n",
       "    </tr>\n",
       "  </thead>\n",
       "  <tbody>\n",
       "    <tr>\n",
       "      <th>62396</th>\n",
       "      <td>1010078(Trutro Entero Selección)</td>\n",
       "      <td>44</td>\n",
       "      <td>1250</td>\n",
       "      <td>10077788</td>\n",
       "      <td>2020-08-06</td>\n",
       "      <td>Jueves</td>\n",
       "      <td>32</td>\n",
       "      <td>Agosto</td>\n",
       "      <td>2020</td>\n",
       "    </tr>\n",
       "    <tr>\n",
       "      <th>62397</th>\n",
       "      <td>1010078(Trutro Entero Selección)</td>\n",
       "      <td>22</td>\n",
       "      <td>1390</td>\n",
       "      <td>10077788</td>\n",
       "      <td>2020-08-20</td>\n",
       "      <td>Jueves</td>\n",
       "      <td>34</td>\n",
       "      <td>Agosto</td>\n",
       "      <td>2020</td>\n",
       "    </tr>\n",
       "    <tr>\n",
       "      <th>62398</th>\n",
       "      <td>1010078(Trutro Entero Selección)</td>\n",
       "      <td>22</td>\n",
       "      <td>1450</td>\n",
       "      <td>10077788</td>\n",
       "      <td>2020-08-27</td>\n",
       "      <td>Jueves</td>\n",
       "      <td>35</td>\n",
       "      <td>Agosto</td>\n",
       "      <td>2020</td>\n",
       "    </tr>\n",
       "  </tbody>\n",
       "</table>\n",
       "</div>"
      ],
      "text/plain": [
       "                      Material (Nombre)  Kilos Venta KG  Precio   Cliente  \\\n",
       "62396  1010078(Trutro Entero Selección)              44    1250  10077788   \n",
       "62397  1010078(Trutro Entero Selección)              22    1390  10077788   \n",
       "62398  1010078(Trutro Entero Selección)              22    1450  10077788   \n",
       "\n",
       "      Día natural Día Semana Semana     Mes   Año  \n",
       "62396  2020-08-06     Jueves     32  Agosto  2020  \n",
       "62397  2020-08-20     Jueves     34  Agosto  2020  \n",
       "62398  2020-08-27     Jueves     35  Agosto  2020  "
      ]
     },
     "execution_count": 30,
     "metadata": {},
     "output_type": "execute_result"
    }
   ],
   "source": [
    "df_X=df[df.Cliente=='10077788'][Dic_col['Base']\n",
    "       +Dic_col['Fecha']]\n",
    "print(df_X.shape)\n",
    "df_X.head(3)"
   ]
  },
  {
   "cell_type": "markdown",
   "id": "221c94f6",
   "metadata": {
    "hidden": true
   },
   "source": [
    "##### Función "
   ]
  },
  {
   "cell_type": "markdown",
   "id": "b9ae63d5",
   "metadata": {
    "heading_collapsed": true,
    "hidden": true
   },
   "source": [
    "###### Función con aplicación de row "
   ]
  },
  {
   "cell_type": "code",
   "execution_count": 31,
   "id": "38189eb0",
   "metadata": {
    "hidden": true,
    "scrolled": true
   },
   "outputs": [
    {
     "data": {
      "text/plain": [
       "datetime.timedelta(days=14)"
      ]
     },
     "execution_count": 31,
     "metadata": {},
     "output_type": "execute_result"
    }
   ],
   "source": [
    "DF_G=data_i[Dic_col['Base']\n",
    "       +Dic_col['Fecha']].copy()\n",
    "Client_Count=0\n",
    "def R_lamd(X):\n",
    "    \"\"\"\n",
    "    Función que sirve para calcular Recency\n",
    "    df['Recency']=df.apply( (lambda x: F_lamd(x)) , axis=1)\n",
    "    df.head()\n",
    "    \"\"\"\n",
    "    \n",
    "#     index.Index_x=X.Index\n",
    "    id_C=(X.Cliente)\n",
    "    F_X=X['Día natural']\n",
    "    \n",
    "#     print(id_C,F_X)\n",
    "    df_ant=DF_G[\n",
    "        (DF_G['Día natural']<=F_X)\n",
    "        &(DF_G.Cliente==id_C)\n",
    "        ]\n",
    "    df_len=df_ant.shape[0]\n",
    "#     print(df_len)\n",
    "    if(df_ant.shape[0]==1):\n",
    "#         print(0)\n",
    "#         print(df_ant)\n",
    "        return(datetime.timedelta(days=0))\n",
    "    else:\n",
    "#         print(df_ant.iloc[df_len-2])\n",
    "        return((F_X -  df_ant.iloc[df_len-2]['Día natural']))\n",
    "\n",
    "R_lamd(df_X.iloc[1])"
   ]
  },
  {
   "cell_type": "markdown",
   "id": "e307b666",
   "metadata": {
    "hidden": true
   },
   "source": [
    "###### Aplicación a data frame "
   ]
  },
  {
   "cell_type": "code",
   "execution_count": 32,
   "id": "46531f2a",
   "metadata": {
    "hidden": true,
    "scrolled": true
   },
   "outputs": [
    {
     "name": "stdout",
     "output_type": "stream",
     "text": [
      "Time Lapsed = 0:3:11.388916492462158 \n",
      " H:m:s\n"
     ]
    },
    {
     "data": {
      "text/html": [
       "<div>\n",
       "<style scoped>\n",
       "    .dataframe tbody tr th:only-of-type {\n",
       "        vertical-align: middle;\n",
       "    }\n",
       "\n",
       "    .dataframe tbody tr th {\n",
       "        vertical-align: top;\n",
       "    }\n",
       "\n",
       "    .dataframe thead th {\n",
       "        text-align: right;\n",
       "    }\n",
       "</style>\n",
       "<table border=\"1\" class=\"dataframe\">\n",
       "  <thead>\n",
       "    <tr style=\"text-align: right;\">\n",
       "      <th></th>\n",
       "      <th>Material (Nombre)</th>\n",
       "      <th>Kilos Venta KG</th>\n",
       "      <th>Precio</th>\n",
       "      <th>Día natural</th>\n",
       "      <th>Día Semana</th>\n",
       "      <th>Semana</th>\n",
       "      <th>Mes</th>\n",
       "      <th>Año</th>\n",
       "      <th>Población</th>\n",
       "      <th>Centro</th>\n",
       "      <th>Cliente</th>\n",
       "      <th>Cluster</th>\n",
       "      <th>Segmento.1</th>\n",
       "      <th>Categoría Cliente</th>\n",
       "      <th>Año Creación</th>\n",
       "      <th>Material Favorito</th>\n",
       "      <th>Frecuencia Historica</th>\n",
       "      <th>Mes_num</th>\n",
       "      <th>Recency</th>\n",
       "    </tr>\n",
       "  </thead>\n",
       "  <tbody>\n",
       "    <tr>\n",
       "      <th>62396</th>\n",
       "      <td>1010078(Trutro Entero Selección)</td>\n",
       "      <td>44</td>\n",
       "      <td>1250</td>\n",
       "      <td>2020-08-06</td>\n",
       "      <td>Jueves</td>\n",
       "      <td>32</td>\n",
       "      <td>Agosto</td>\n",
       "      <td>2020</td>\n",
       "      <td>La Florida</td>\n",
       "      <td>Sucursal Huechuraba</td>\n",
       "      <td>10077788</td>\n",
       "      <td>Clásico</td>\n",
       "      <td>Cobertura Pequeno SD</td>\n",
       "      <td>Emprendedores</td>\n",
       "      <td>2020</td>\n",
       "      <td>1010267</td>\n",
       "      <td>44</td>\n",
       "      <td>8</td>\n",
       "      <td>0 days</td>\n",
       "    </tr>\n",
       "    <tr>\n",
       "      <th>62397</th>\n",
       "      <td>1010078(Trutro Entero Selección)</td>\n",
       "      <td>22</td>\n",
       "      <td>1390</td>\n",
       "      <td>2020-08-20</td>\n",
       "      <td>Jueves</td>\n",
       "      <td>34</td>\n",
       "      <td>Agosto</td>\n",
       "      <td>2020</td>\n",
       "      <td>La Florida</td>\n",
       "      <td>Sucursal Huechuraba</td>\n",
       "      <td>10077788</td>\n",
       "      <td>Clásico</td>\n",
       "      <td>Cobertura Pequeno SD</td>\n",
       "      <td>Emprendedores</td>\n",
       "      <td>2020</td>\n",
       "      <td>1010267</td>\n",
       "      <td>44</td>\n",
       "      <td>8</td>\n",
       "      <td>14 days</td>\n",
       "    </tr>\n",
       "    <tr>\n",
       "      <th>62398</th>\n",
       "      <td>1010078(Trutro Entero Selección)</td>\n",
       "      <td>22</td>\n",
       "      <td>1450</td>\n",
       "      <td>2020-08-27</td>\n",
       "      <td>Jueves</td>\n",
       "      <td>35</td>\n",
       "      <td>Agosto</td>\n",
       "      <td>2020</td>\n",
       "      <td>La Florida</td>\n",
       "      <td>Sucursal Huechuraba</td>\n",
       "      <td>10077788</td>\n",
       "      <td>Clásico</td>\n",
       "      <td>Cobertura Pequeno SD</td>\n",
       "      <td>Emprendedores</td>\n",
       "      <td>2020</td>\n",
       "      <td>1010267</td>\n",
       "      <td>44</td>\n",
       "      <td>8</td>\n",
       "      <td>7 days</td>\n",
       "    </tr>\n",
       "    <tr>\n",
       "      <th>62399</th>\n",
       "      <td>1010078(Trutro Entero Selección)</td>\n",
       "      <td>22</td>\n",
       "      <td>1420</td>\n",
       "      <td>2020-08-31</td>\n",
       "      <td>Lunes</td>\n",
       "      <td>36</td>\n",
       "      <td>Agosto</td>\n",
       "      <td>2020</td>\n",
       "      <td>La Florida</td>\n",
       "      <td>Sucursal Huechuraba</td>\n",
       "      <td>10077788</td>\n",
       "      <td>Clásico</td>\n",
       "      <td>Cobertura Pequeno SD</td>\n",
       "      <td>Emprendedores</td>\n",
       "      <td>2020</td>\n",
       "      <td>1010267</td>\n",
       "      <td>44</td>\n",
       "      <td>8</td>\n",
       "      <td>4 days</td>\n",
       "    </tr>\n",
       "    <tr>\n",
       "      <th>62400</th>\n",
       "      <td>1010078(Trutro Entero Selección)</td>\n",
       "      <td>44</td>\n",
       "      <td>1630</td>\n",
       "      <td>2020-09-17</td>\n",
       "      <td>Jueves</td>\n",
       "      <td>38</td>\n",
       "      <td>Septiembre</td>\n",
       "      <td>2020</td>\n",
       "      <td>La Florida</td>\n",
       "      <td>Sucursal Huechuraba</td>\n",
       "      <td>10077788</td>\n",
       "      <td>Clásico</td>\n",
       "      <td>Cobertura Pequeno SD</td>\n",
       "      <td>Emprendedores</td>\n",
       "      <td>2020</td>\n",
       "      <td>1010267</td>\n",
       "      <td>44</td>\n",
       "      <td>9</td>\n",
       "      <td>17 days</td>\n",
       "    </tr>\n",
       "  </tbody>\n",
       "</table>\n",
       "</div>"
      ],
      "text/plain": [
       "                      Material (Nombre)  Kilos Venta KG  Precio Día natural  \\\n",
       "62396  1010078(Trutro Entero Selección)              44    1250  2020-08-06   \n",
       "62397  1010078(Trutro Entero Selección)              22    1390  2020-08-20   \n",
       "62398  1010078(Trutro Entero Selección)              22    1450  2020-08-27   \n",
       "62399  1010078(Trutro Entero Selección)              22    1420  2020-08-31   \n",
       "62400  1010078(Trutro Entero Selección)              44    1630  2020-09-17   \n",
       "\n",
       "      Día Semana Semana         Mes   Año   Población               Centro  \\\n",
       "62396     Jueves     32      Agosto  2020  La Florida  Sucursal Huechuraba   \n",
       "62397     Jueves     34      Agosto  2020  La Florida  Sucursal Huechuraba   \n",
       "62398     Jueves     35      Agosto  2020  La Florida  Sucursal Huechuraba   \n",
       "62399      Lunes     36      Agosto  2020  La Florida  Sucursal Huechuraba   \n",
       "62400     Jueves     38  Septiembre  2020  La Florida  Sucursal Huechuraba   \n",
       "\n",
       "        Cliente  Cluster            Segmento.1 Categoría Cliente  \\\n",
       "62396  10077788  Clásico  Cobertura Pequeno SD     Emprendedores   \n",
       "62397  10077788  Clásico  Cobertura Pequeno SD     Emprendedores   \n",
       "62398  10077788  Clásico  Cobertura Pequeno SD     Emprendedores   \n",
       "62399  10077788  Clásico  Cobertura Pequeno SD     Emprendedores   \n",
       "62400  10077788  Clásico  Cobertura Pequeno SD     Emprendedores   \n",
       "\n",
       "       Año Creación Material Favorito  Frecuencia Historica Mes_num Recency  \n",
       "62396          2020           1010267                    44       8  0 days  \n",
       "62397          2020           1010267                    44       8 14 days  \n",
       "62398          2020           1010267                    44       8  7 days  \n",
       "62399          2020           1010267                    44       8  4 days  \n",
       "62400          2020           1010267                    44       9 17 days  "
      ]
     },
     "execution_count": 32,
     "metadata": {},
     "output_type": "execute_result"
    }
   ],
   "source": [
    "#==================================\n",
    "#          Example\n",
    "#    input(\"Press Enter to start\")\n",
    "#    start_time = time.time()\n",
    "#    input(\"Press Enter to stop\")\n",
    "#    end_time = time.time()\n",
    "#    time_lapsed = end_time - start_time\n",
    "#    time_convert(time_lapsed)\n",
    "#=================================\n",
    "\n",
    "start_time_2 = time.time()\n",
    "df['Recency']=df.apply( (lambda x: R_lamd(x)) , axis=1)\n",
    "end_time_2 = time.time()\n",
    "time_lapsed_2 = end_time_2 - start_time_2\n",
    "time_convert(time_lapsed_2)\n",
    "df.head()"
   ]
  },
  {
   "cell_type": "code",
   "execution_count": 33,
   "id": "977ac773",
   "metadata": {
    "hidden": true
   },
   "outputs": [
    {
     "data": {
      "text/plain": [
       "239"
      ]
     },
     "execution_count": 33,
     "metadata": {},
     "output_type": "execute_result"
    }
   ],
   "source": [
    "# 239\n",
    "len(df.Cliente.unique())"
   ]
  },
  {
   "cell_type": "code",
   "execution_count": 34,
   "id": "5c884fc1",
   "metadata": {
    "hidden": true,
    "scrolled": true
   },
   "outputs": [
    {
     "data": {
      "text/plain": [
       "(239, 19)"
      ]
     },
     "execution_count": 34,
     "metadata": {},
     "output_type": "execute_result"
    }
   ],
   "source": [
    "df[df.Recency==datetime.timedelta(days=0)].shape"
   ]
  },
  {
   "cell_type": "markdown",
   "id": "200e50a3",
   "metadata": {
    "heading_collapsed": true,
    "hidden": true
   },
   "source": [
    "## Prueba Real "
   ]
  },
  {
   "cell_type": "markdown",
   "id": "2c0b6cbd",
   "metadata": {
    "hidden": true
   },
   "source": [
    "```python \n",
    "df_P=data_i.copy()\n",
    "start_time_3 = time.time()\n",
    "df_P['Recency']=df_P.apply( (lambda x: R_lamd(x)) , axis=1)\n",
    "end_time_3 = time.time()\n",
    "time_lapsed_3 = end_time_3 - start_time_3\n",
    "print('Recency de data_i')\n",
    "time_convert(time_lapsed_3)\n",
    "\n",
    "print('Recency total')\n",
    "time_convert(end_time_3 - start_time)\n",
    "\n",
    "df_P.head()\n",
    "\n",
    "# Recency de data_i\n",
    "# Time Lapsed = 1:5:28.39366388320923 \n",
    "#  H:m:s\n",
    "# Recency total\n",
    "# Time Lapsed = 1:9:21.014468669891357 \n",
    "#  H:m:s\n",
    "```"
   ]
  },
  {
   "cell_type": "markdown",
   "id": "fe8cc69e",
   "metadata": {
    "heading_collapsed": true,
    "hidden": true
   },
   "source": [
    "## Save CSV "
   ]
  },
  {
   "cell_type": "markdown",
   "id": "01dcdd12",
   "metadata": {
    "hidden": true
   },
   "source": [
    "```python \n",
    "File_save_CSV=file_direct_O+'data_1010078_CT R'+'.csv'\n",
    "\n",
    "df_P.to_csv(File_save_CSV, encoding='utf-8',index=True,sep=';')\n",
    "\n",
    "end_time_4 = time.time()\n",
    "time_lapsed_4 = end_time_4 - end_time_3\n",
    "time_lapsed_final = end_time_4 - start_time\n",
    "\n",
    "print('Guardado df')\n",
    "time_convert(time_lapsed_4)\n",
    "\n",
    "print('Recency total codigo')\n",
    "time_convert(time_lapsed_final)\n",
    "\n",
    "# Guardado df\n",
    "# Time Lapsed = 0:0:5.454247236251831 \n",
    "#  H:m:s\n",
    "# Recency total codigo\n",
    "# Time Lapsed = 1:9:26.46871590614319 \n",
    "#  H:m:s\n",
    "```"
   ]
  },
  {
   "cell_type": "markdown",
   "id": "f5e71982",
   "metadata": {},
   "source": [
    "# Uso de R file"
   ]
  },
  {
   "cell_type": "code",
   "execution_count": 25,
   "id": "9ce352b8",
   "metadata": {},
   "outputs": [
    {
     "name": "stdout",
     "output_type": "stream",
     "text": [
      "data_1010078_CT R.csv\n"
     ]
    }
   ],
   "source": [
    "print('data_1010078_CT R'+'.csv')"
   ]
  },
  {
   "cell_type": "markdown",
   "id": "86c853d2",
   "metadata": {},
   "source": [
    "## Abrir Archivo  "
   ]
  },
  {
   "cell_type": "markdown",
   "id": "25619431",
   "metadata": {},
   "source": [
    "Se debe agregar el parametro `,index_col='Unnamed: 0'` de esta froma tal vez se pueda hacer un merge en base al indice"
   ]
  },
  {
   "cell_type": "markdown",
   "id": "228d2aa3",
   "metadata": {},
   "source": [
    "##### abrir "
   ]
  },
  {
   "cell_type": "code",
   "execution_count": 26,
   "id": "0f14ea23",
   "metadata": {},
   "outputs": [
    {
     "data": {
      "text/html": [
       "<div>\n",
       "<style scoped>\n",
       "    .dataframe tbody tr th:only-of-type {\n",
       "        vertical-align: middle;\n",
       "    }\n",
       "\n",
       "    .dataframe tbody tr th {\n",
       "        vertical-align: top;\n",
       "    }\n",
       "\n",
       "    .dataframe thead th {\n",
       "        text-align: right;\n",
       "    }\n",
       "</style>\n",
       "<table border=\"1\" class=\"dataframe\">\n",
       "  <thead>\n",
       "    <tr style=\"text-align: right;\">\n",
       "      <th></th>\n",
       "      <th>Material (Nombre)</th>\n",
       "      <th>Kilos Venta KG</th>\n",
       "      <th>Precio</th>\n",
       "      <th>Día natural</th>\n",
       "      <th>Día Semana</th>\n",
       "      <th>Semana</th>\n",
       "      <th>Mes</th>\n",
       "      <th>Año</th>\n",
       "      <th>Población</th>\n",
       "      <th>Centro</th>\n",
       "      <th>Cliente</th>\n",
       "      <th>Cluster</th>\n",
       "      <th>Segmento.1</th>\n",
       "      <th>Categoría Cliente</th>\n",
       "      <th>Año Creación</th>\n",
       "      <th>Material Favorito</th>\n",
       "      <th>Frecuencia Historica</th>\n",
       "      <th>Mes_num</th>\n",
       "      <th>Recency</th>\n",
       "    </tr>\n",
       "  </thead>\n",
       "  <tbody>\n",
       "    <tr>\n",
       "      <th>61455</th>\n",
       "      <td>1010078(Trutro Entero Selección)</td>\n",
       "      <td>22</td>\n",
       "      <td>1300</td>\n",
       "      <td>2020-05-23</td>\n",
       "      <td>Sábado</td>\n",
       "      <td>21</td>\n",
       "      <td>Mayo</td>\n",
       "      <td>2020</td>\n",
       "      <td>La Pintana</td>\n",
       "      <td>Sucursal Lo Espejo</td>\n",
       "      <td>10003742</td>\n",
       "      <td>Clásico</td>\n",
       "      <td>Cobertura Pequeno SD</td>\n",
       "      <td>Especialista en Proc</td>\n",
       "      <td>2007</td>\n",
       "      <td>1010077</td>\n",
       "      <td>19</td>\n",
       "      <td>5</td>\n",
       "      <td>0 days</td>\n",
       "    </tr>\n",
       "  </tbody>\n",
       "</table>\n",
       "</div>"
      ],
      "text/plain": [
       "                      Material (Nombre) Kilos Venta KG Precio Día natural  \\\n",
       "61455  1010078(Trutro Entero Selección)             22   1300  2020-05-23   \n",
       "\n",
       "      Día Semana Semana   Mes   Año   Población              Centro   Cliente  \\\n",
       "61455     Sábado     21  Mayo  2020  La Pintana  Sucursal Lo Espejo  10003742   \n",
       "\n",
       "       Cluster            Segmento.1     Categoría Cliente Año Creación  \\\n",
       "61455  Clásico  Cobertura Pequeno SD  Especialista en Proc         2007   \n",
       "\n",
       "      Material Favorito Frecuencia Historica Mes_num Recency  \n",
       "61455           1010077                   19       5  0 days  "
      ]
     },
     "execution_count": 26,
     "metadata": {},
     "output_type": "execute_result"
    }
   ],
   "source": [
    "#======================================================================\n",
    "# Se Cargan los datos de ventas con las caracteristicas de los clientes\n",
    "#=====================================================================\n",
    "\n",
    "file_direct=file_direct_O+'data_1010078_CT R'+'.csv'\n",
    "col_names=pd.read_csv(file_direct,\n",
    "                      encoding=\"utf-8\",sep=\";\",nrows=0).columns\n",
    "\n",
    "types_dict = {col: str for col in list(col_names)}\n",
    "\n",
    "data_i_R = pd.read_csv(file_direct,\n",
    "                   encoding=\"utf-8\",sep=\";\",dtype=types_dict\n",
    "                      ,index_col='Unnamed: 0'\n",
    "                      )\n",
    "#elimina una columna en especifico\n",
    "#DF_FULL.drop('Año natural', inplace=True, axis=1)\n",
    "data_i_R.head(1)"
   ]
  },
  {
   "cell_type": "markdown",
   "id": "f7c29b30",
   "metadata": {},
   "source": [
    "##### Funcion"
   ]
  },
  {
   "cell_type": "markdown",
   "id": "cec713b7",
   "metadata": {},
   "source": [
    "###### def "
   ]
  },
  {
   "cell_type": "code",
   "execution_count": 27,
   "id": "015ac527",
   "metadata": {},
   "outputs": [],
   "source": [
    "# =============================================================================\n",
    "# Ajustar la data\n",
    "# =============================================================================\n",
    "def Ajuste_data_Refinada(data):\n",
    "    start_time = time.time()\n",
    "\n",
    "    df=data.copy()\n",
    "\n",
    "# =================================\n",
    "# ELiminare dodos los valores Nan\n",
    "# =================================\n",
    "    #for i in df.columns.to_list():\n",
    "    #    df=df[df[i].notna()]\n",
    "\n",
    "    \n",
    "    \n",
    "#=================================\n",
    "# Proceso Recency a Int \n",
    "#=================================\n",
    "        \n",
    "    df['Recency días']=df['Recency'].apply( lambda x:  x.split(' ')[0])\n",
    "    \n",
    "#=================================\n",
    "# Proceso iterativo Pasar a numero\n",
    "#=================================\n",
    "\n",
    "    for i in ['Kilos Venta KG'\n",
    "#               ,'Venta Neta'\n",
    "              ,'Precio'\n",
    "              ,'Recency días'\n",
    "             ]:\n",
    "        df[i]=df[i].astype('float64').astype('int64')\n",
    "        \n",
    "# #=================================\n",
    "# # Agregar nombre al codigo del producto\n",
    "# #=================================\n",
    "#     def material_name(x):\n",
    "#         s1=str(x['Material'])\n",
    "#         s2=str(x['Nivel 4.1'])\n",
    "#         return(s1+'('+s2+')')\n",
    "#     df['Material (Nombre)']=df.apply(lambda x:  material_name(x), axis=1)\n",
    "    \n",
    "\n",
    "\n",
    "#==========================================================================================\n",
    "# Ajuste de las fechas\n",
    "#-----------------------------------------------------------------------------------------\n",
    "    df[\"Día natural\"] = df[\"Día natural\"].apply(lambda x: \n",
    "                                                datetime.datetime.strptime(str(x),\n",
    "                                                                           '%Y-%m-%d').date())\n",
    "    \n",
    "    #Separacion fecha\n",
    "    \n",
    "    #ELiminado de DF_FULL\n",
    "    #df['Semana']=df[\"Día natural\"].apply(lambda x: x.isocalendar()[1] )\n",
    "    #df['Mes']=df[\"Día natural\"].apply(lambda x: x.month)\n",
    "    #df['Año']=df[\"Día natural\"].apply(lambda x: x.year)\n",
    "    #df['Semana']=df['Semana'].astype('int64')\n",
    "    \n",
    "#     df['Año']=df['Año'].astype('int64')\n",
    "#     D_W=['Lunes','Martes','Miércoles','Jueves', 'Viernes','Sábado','Domingo']\n",
    "#     df['Día Semana']=df[\"Día natural\"].apply(lambda x: D_W[x.isocalendar()[2] -1])\n",
    "#     df=df[df['Día Semana']!='Domingo']\n",
    "    \n",
    "    print(df.dtypes)\n",
    "    end_time = time.time()\n",
    "    time_convert(end_time - start_time)\n",
    "    return df"
   ]
  },
  {
   "cell_type": "markdown",
   "id": "b8c8e6f0",
   "metadata": {},
   "source": [
    "###### palicación "
   ]
  },
  {
   "cell_type": "code",
   "execution_count": 28,
   "id": "705fd67b",
   "metadata": {
    "scrolled": true
   },
   "outputs": [
    {
     "name": "stdout",
     "output_type": "stream",
     "text": [
      "Material (Nombre)       object\n",
      "Kilos Venta KG           int64\n",
      "Precio                   int64\n",
      "Día natural             object\n",
      "Día Semana              object\n",
      "Semana                  object\n",
      "Mes                     object\n",
      "Año                     object\n",
      "Población               object\n",
      "Centro                  object\n",
      "Cliente                 object\n",
      "Cluster                 object\n",
      "Segmento.1              object\n",
      "Categoría Cliente       object\n",
      "Año Creación            object\n",
      "Material Favorito       object\n",
      "Frecuencia Historica    object\n",
      "Mes_num                 object\n",
      "Recency                 object\n",
      "Recency días             int64\n",
      "dtype: object\n",
      "Time Lapsed = 0:0:1.6745195388793945 \n",
      " H:m:s\n"
     ]
    },
    {
     "data": {
      "text/html": [
       "<div>\n",
       "<style scoped>\n",
       "    .dataframe tbody tr th:only-of-type {\n",
       "        vertical-align: middle;\n",
       "    }\n",
       "\n",
       "    .dataframe tbody tr th {\n",
       "        vertical-align: top;\n",
       "    }\n",
       "\n",
       "    .dataframe thead th {\n",
       "        text-align: right;\n",
       "    }\n",
       "</style>\n",
       "<table border=\"1\" class=\"dataframe\">\n",
       "  <thead>\n",
       "    <tr style=\"text-align: right;\">\n",
       "      <th></th>\n",
       "      <th>Material (Nombre)</th>\n",
       "      <th>Kilos Venta KG</th>\n",
       "      <th>Precio</th>\n",
       "      <th>Día natural</th>\n",
       "      <th>Día Semana</th>\n",
       "      <th>Semana</th>\n",
       "      <th>Mes</th>\n",
       "      <th>Año</th>\n",
       "      <th>Población</th>\n",
       "      <th>Centro</th>\n",
       "      <th>Cliente</th>\n",
       "      <th>Cluster</th>\n",
       "      <th>Segmento.1</th>\n",
       "      <th>Categoría Cliente</th>\n",
       "      <th>Año Creación</th>\n",
       "      <th>Material Favorito</th>\n",
       "      <th>Frecuencia Historica</th>\n",
       "      <th>Mes_num</th>\n",
       "      <th>Recency</th>\n",
       "      <th>Recency días</th>\n",
       "    </tr>\n",
       "  </thead>\n",
       "  <tbody>\n",
       "    <tr>\n",
       "      <th>61455</th>\n",
       "      <td>1010078(Trutro Entero Selección)</td>\n",
       "      <td>22</td>\n",
       "      <td>1300</td>\n",
       "      <td>2020-05-23</td>\n",
       "      <td>Sábado</td>\n",
       "      <td>21</td>\n",
       "      <td>Mayo</td>\n",
       "      <td>2020</td>\n",
       "      <td>La Pintana</td>\n",
       "      <td>Sucursal Lo Espejo</td>\n",
       "      <td>10003742</td>\n",
       "      <td>Clásico</td>\n",
       "      <td>Cobertura Pequeno SD</td>\n",
       "      <td>Especialista en Proc</td>\n",
       "      <td>2007</td>\n",
       "      <td>1010077</td>\n",
       "      <td>19</td>\n",
       "      <td>5</td>\n",
       "      <td>0 days</td>\n",
       "      <td>0</td>\n",
       "    </tr>\n",
       "    <tr>\n",
       "      <th>61456</th>\n",
       "      <td>1010078(Trutro Entero Selección)</td>\n",
       "      <td>110</td>\n",
       "      <td>1174</td>\n",
       "      <td>2018-03-01</td>\n",
       "      <td>Jueves</td>\n",
       "      <td>9</td>\n",
       "      <td>Marzo</td>\n",
       "      <td>2018</td>\n",
       "      <td>Puente Alto</td>\n",
       "      <td>Sucursal Lo Espejo</td>\n",
       "      <td>10007508</td>\n",
       "      <td>Clásico</td>\n",
       "      <td>Cobertura Mediano SD</td>\n",
       "      <td>Especialista en Crud</td>\n",
       "      <td>2007</td>\n",
       "      <td>1020253</td>\n",
       "      <td>464</td>\n",
       "      <td>3</td>\n",
       "      <td>0 days</td>\n",
       "      <td>0</td>\n",
       "    </tr>\n",
       "  </tbody>\n",
       "</table>\n",
       "</div>"
      ],
      "text/plain": [
       "                      Material (Nombre)  Kilos Venta KG  Precio Día natural  \\\n",
       "61455  1010078(Trutro Entero Selección)              22    1300  2020-05-23   \n",
       "61456  1010078(Trutro Entero Selección)             110    1174  2018-03-01   \n",
       "\n",
       "      Día Semana Semana    Mes   Año    Población              Centro  \\\n",
       "61455     Sábado     21   Mayo  2020   La Pintana  Sucursal Lo Espejo   \n",
       "61456     Jueves      9  Marzo  2018  Puente Alto  Sucursal Lo Espejo   \n",
       "\n",
       "        Cliente  Cluster            Segmento.1     Categoría Cliente  \\\n",
       "61455  10003742  Clásico  Cobertura Pequeno SD  Especialista en Proc   \n",
       "61456  10007508  Clásico  Cobertura Mediano SD  Especialista en Crud   \n",
       "\n",
       "      Año Creación Material Favorito Frecuencia Historica Mes_num Recency  \\\n",
       "61455         2007           1010077                   19       5  0 days   \n",
       "61456         2007           1020253                  464       3  0 days   \n",
       "\n",
       "       Recency días  \n",
       "61455             0  \n",
       "61456             0  "
      ]
     },
     "execution_count": 28,
     "metadata": {},
     "output_type": "execute_result"
    }
   ],
   "source": [
    "data_i_R=Ajuste_data_Refinada(data_i_R)\n",
    "data_i_R.head(2)"
   ]
  },
  {
   "cell_type": "markdown",
   "id": "cc991dac",
   "metadata": {},
   "source": [
    "## Exploración R"
   ]
  },
  {
   "cell_type": "markdown",
   "id": "a31f2e96",
   "metadata": {},
   "source": [
    "##### histograma "
   ]
  },
  {
   "cell_type": "code",
   "execution_count": 29,
   "id": "d6d68b54",
   "metadata": {
    "scrolled": true
   },
   "outputs": [
    {
     "data": {
      "text/plain": [
       "(198596, 20)"
      ]
     },
     "execution_count": 29,
     "metadata": {},
     "output_type": "execute_result"
    }
   ],
   "source": [
    "data_i_R.shape"
   ]
  },
  {
   "cell_type": "code",
   "execution_count": 30,
   "id": "7ebdcb68",
   "metadata": {},
   "outputs": [
    {
     "data": {
      "text/plain": [
       "<AxesSubplot:>"
      ]
     },
     "execution_count": 30,
     "metadata": {},
     "output_type": "execute_result"
    },
    {
     "data": {
      "image/png": "[encoded data removed]",
      "text/plain": [
       "<Figure size 432x288 with 1 Axes>"
      ]
     },
     "metadata": {
      "needs_background": "light"
     },
     "output_type": "display_data"
    }
   ],
   "source": [
    "data_i_R[data_i_R.columns[19]].hist()"
   ]
  },
  {
   "cell_type": "code",
   "execution_count": 31,
   "id": "51d0751e",
   "metadata": {
    "scrolled": true
   },
   "outputs": [
    {
     "data": {
      "text/plain": [
       "count    198596.000000\n",
       "mean         16.872530\n",
       "std          45.846675\n",
       "min           0.000000\n",
       "25%           3.000000\n",
       "50%           6.000000\n",
       "75%          11.000000\n",
       "max        1316.000000\n",
       "Name: Recency días, dtype: float64"
      ]
     },
     "execution_count": 31,
     "metadata": {},
     "output_type": "execute_result"
    }
   ],
   "source": [
    "data_i_R\\\n",
    "[data_i_R.columns[19]].describe()"
   ]
  },
  {
   "cell_type": "code",
   "execution_count": 32,
   "id": "fb4e0205",
   "metadata": {},
   "outputs": [
    {
     "data": {
      "text/plain": [
       "count    63389.000000\n",
       "mean        19.409503\n",
       "std         51.405541\n",
       "min          0.000000\n",
       "25%          3.000000\n",
       "50%          7.000000\n",
       "75%         14.000000\n",
       "max       1316.000000\n",
       "Name: Recency días, dtype: float64"
      ]
     },
     "execution_count": 32,
     "metadata": {},
     "output_type": "execute_result"
    }
   ],
   "source": [
    "data_i_R[(data_i_R.Año=='2021')]\\\n",
    "[data_i_R.columns[19]].describe()"
   ]
  },
  {
   "cell_type": "code",
   "execution_count": 33,
   "id": "fbc1e88b",
   "metadata": {},
   "outputs": [
    {
     "data": {
      "text/html": [
       "<div>\n",
       "<style scoped>\n",
       "    .dataframe tbody tr th:only-of-type {\n",
       "        vertical-align: middle;\n",
       "    }\n",
       "\n",
       "    .dataframe tbody tr th {\n",
       "        vertical-align: top;\n",
       "    }\n",
       "\n",
       "    .dataframe thead th {\n",
       "        text-align: right;\n",
       "    }\n",
       "</style>\n",
       "<table border=\"1\" class=\"dataframe\">\n",
       "  <thead>\n",
       "    <tr style=\"text-align: right;\">\n",
       "      <th></th>\n",
       "      <th>Material (Nombre)</th>\n",
       "      <th>Kilos Venta KG</th>\n",
       "      <th>Precio</th>\n",
       "      <th>Día natural</th>\n",
       "      <th>Día Semana</th>\n",
       "      <th>Semana</th>\n",
       "      <th>Mes</th>\n",
       "      <th>Año</th>\n",
       "      <th>Población</th>\n",
       "      <th>Centro</th>\n",
       "      <th>Cliente</th>\n",
       "      <th>Cluster</th>\n",
       "      <th>Segmento.1</th>\n",
       "      <th>Categoría Cliente</th>\n",
       "      <th>Año Creación</th>\n",
       "      <th>Material Favorito</th>\n",
       "      <th>Frecuencia Historica</th>\n",
       "      <th>Mes_num</th>\n",
       "      <th>Recency</th>\n",
       "      <th>Recency días</th>\n",
       "    </tr>\n",
       "  </thead>\n",
       "  <tbody>\n",
       "    <tr>\n",
       "      <th>124082</th>\n",
       "      <td>1010078(Trutro Entero Selección)</td>\n",
       "      <td>22</td>\n",
       "      <td>1350</td>\n",
       "      <td>2021-09-23</td>\n",
       "      <td>Jueves</td>\n",
       "      <td>38</td>\n",
       "      <td>Septiembre</td>\n",
       "      <td>2021</td>\n",
       "      <td>Lo Prado</td>\n",
       "      <td>Sucursal Miraflores</td>\n",
       "      <td>14443986</td>\n",
       "      <td>Clásico</td>\n",
       "      <td>Cobertura Pequeno SD</td>\n",
       "      <td>Emprendedores</td>\n",
       "      <td>2007</td>\n",
       "      <td>1010078</td>\n",
       "      <td>10</td>\n",
       "      <td>9</td>\n",
       "      <td>1316 days</td>\n",
       "      <td>1316</td>\n",
       "    </tr>\n",
       "  </tbody>\n",
       "</table>\n",
       "</div>"
      ],
      "text/plain": [
       "                       Material (Nombre)  Kilos Venta KG  Precio Día natural  \\\n",
       "124082  1010078(Trutro Entero Selección)              22    1350  2021-09-23   \n",
       "\n",
       "       Día Semana Semana         Mes   Año Población               Centro  \\\n",
       "124082     Jueves     38  Septiembre  2021  Lo Prado  Sucursal Miraflores   \n",
       "\n",
       "         Cliente  Cluster            Segmento.1 Categoría Cliente  \\\n",
       "124082  14443986  Clásico  Cobertura Pequeno SD     Emprendedores   \n",
       "\n",
       "       Año Creación Material Favorito Frecuencia Historica Mes_num    Recency  \\\n",
       "124082         2007           1010078                   10       9  1316 days   \n",
       "\n",
       "        Recency días  \n",
       "124082          1316  "
      ]
     },
     "execution_count": 33,
     "metadata": {},
     "output_type": "execute_result"
    }
   ],
   "source": [
    "data_i_R[(\n",
    "    data_i_R[data_i_R.columns[19]]\n",
    "    >=1312)\n",
    "]"
   ]
  },
  {
   "cell_type": "code",
   "execution_count": 64,
   "id": "d4ca73fc",
   "metadata": {
    "scrolled": true
   },
   "outputs": [
    {
     "data": {
      "image/png": "[encoded data removed]",
      "text/plain": [
       "<Figure size 640x480 with 1 Axes>"
      ]
     },
     "metadata": {},
     "output_type": "display_data"
    },
    {
     "data": {
      "text/plain": [
       "<ggplot: (180343676311)>"
      ]
     },
     "execution_count": 64,
     "metadata": {},
     "output_type": "execute_result"
    }
   ],
   "source": [
    "ggplot(data_i_R,aes(x='Año'\n",
    "                    ,y='Recency días'))\\\n",
    "+geom_boxplot()\n",
    "# (mapping=None, data=data_i_R, stat='bin', position='stack',\n",
    "#                na_rm=False, inherit_aes=True, show_legend=None, raster=False)\n",
    "#                **kwargs)"
   ]
  },
  {
   "cell_type": "code",
   "execution_count": 57,
   "id": "5fc90f36",
   "metadata": {},
   "outputs": [
    {
     "data": {
      "image/png": "[encoded data removed]",
      "text/plain": [
       "<Figure size 640x480 with 1 Axes>"
      ]
     },
     "metadata": {},
     "output_type": "display_data"
    },
    {
     "data": {
      "text/plain": [
       "<ggplot: (180305699684)>"
      ]
     },
     "execution_count": 57,
     "metadata": {},
     "output_type": "execute_result"
    }
   ],
   "source": [
    "ggplot(data_i_R,aes(x='Recency días'))\\\n",
    "+geom_histogram(bins=100)\n",
    "# (mapping=None, data=data_i_R, stat='bin', position='stack',\n",
    "#                na_rm=False, inherit_aes=True, show_legend=None, raster=False)\n",
    "#                **kwargs)"
   ]
  },
  {
   "cell_type": "markdown",
   "id": "afa4c496",
   "metadata": {},
   "source": [
    "##### Disperción "
   ]
  },
  {
   "cell_type": "code",
   "execution_count": 73,
   "id": "44b2d460",
   "metadata": {},
   "outputs": [
    {
     "data": {
      "image/png": "[encoded data removed]",
      "text/plain": [
       "<Figure size 1300x800 with 1 Axes>"
      ]
     },
     "metadata": {},
     "output_type": "display_data"
    },
    {
     "data": {
      "text/plain": [
       "<ggplot: (180387287851)>"
      ]
     },
     "execution_count": 73,
     "metadata": {},
     "output_type": "execute_result"
    }
   ],
   "source": [
    "df=data_i_R.copy()\n",
    "X_Graph='Recency días'\n",
    "Y_Graph='Precio'\n",
    "df[X_Graph]=df[X_Graph].astype('int64')\n",
    "# df_mean[X_Graph]=df_mean[X_Graph].astype('int64')\n",
    "\n",
    "(ggplot(df#[df[Y_Graph]>0]\n",
    "            , aes(x=X_Graph#'Día numero'#'Fecha',\n",
    "            ,y=Y_Graph\n",
    "            ,color='Año'\n",
    "                 ))\n",
    "+geom_point(alpha=0.5)\n",
    "+theme(axis_text_x = element_text(angle=90, hjust=1),figure_size=(13,8)) \n",
    "\n",
    ")      "
   ]
  },
  {
   "cell_type": "code",
   "execution_count": 77,
   "id": "50166eee",
   "metadata": {
    "scrolled": false
   },
   "outputs": [
    {
     "data": {
      "image/png": "[encoded data removed]",
      "text/plain": [
       "<Figure size 1300x800 with 4 Axes>"
      ]
     },
     "metadata": {},
     "output_type": "display_data"
    },
    {
     "data": {
      "text/plain": [
       "<ggplot: (180432580910)>"
      ]
     },
     "execution_count": 77,
     "metadata": {},
     "output_type": "execute_result"
    }
   ],
   "source": [
    "df=data_i_R.copy()\n",
    "X_Graph='Recency días'\n",
    "Y_Graph='Precio'\n",
    "df[X_Graph]=df[X_Graph].astype('int64')\n",
    "# df[X_Graph]=df[X_Graph].apply(lambda x:  np.log(x))\n",
    "# df[Y_Graph]=df[Y_Graph].apply(lambda x:  np.log(x))\n",
    "\n",
    "\n",
    "# df_mean[X_Graph]=df_mean[X_Graph].astype('int64')\n",
    "\n",
    "(ggplot(df#[df[Y_Graph]>0]\n",
    "            , aes(x=X_Graph#'Día numero'#'Fecha',\n",
    "            ,y=Y_Graph\n",
    "            ,color='Año'\n",
    "                 ))\n",
    "+geom_point(alpha=0.5)\n",
    "+facet_grid('Año~.')\n",
    "+theme(axis_text_x = element_text(angle=90, hjust=1),figure_size=(13,8)) \n",
    "\n",
    ")      "
   ]
  },
  {
   "cell_type": "code",
   "execution_count": 78,
   "id": "eb59d0b7",
   "metadata": {
    "scrolled": true
   },
   "outputs": [
    {
     "data": {
      "image/png": "[encoded data removed]",
      "text/plain": [
       "<Figure size 800x1300 with 4 Axes>"
      ]
     },
     "metadata": {},
     "output_type": "display_data"
    },
    {
     "data": {
      "text/plain": [
       "<ggplot: (180471529972)>"
      ]
     },
     "execution_count": 78,
     "metadata": {},
     "output_type": "execute_result"
    }
   ],
   "source": [
    "df=data_i_R.copy()\n",
    "X_Graph='Recency días'\n",
    "#'Kilos Venta KG'\n",
    "Y_Graph='Precio'\n",
    "Color_Graph='Año'\n",
    "\n",
    "\n",
    "#int\n",
    "df[X_Graph]=df[X_Graph].astype('int64')\n",
    "\n",
    "df[X_Graph]=df[X_Graph].apply(lambda x:  np.log(x))\n",
    "df[Y_Graph]=df[Y_Graph].apply(lambda x:  np.log(x))\n",
    "df[Y_Graph]=df[Y_Graph].apply(lambda x:  np.log(x))\n",
    "\n",
    "\n",
    "# df_mean[X_Graph]=df_mean[X_Graph].astype('int64')\n",
    "\n",
    "(ggplot(df#[df[Y_Graph]>0]\n",
    "            , aes(x=X_Graph#'Día numero'#'Fecha',\n",
    "            ,y=Y_Graph\n",
    "            ,color=Color_Graph\n",
    "                 ))\n",
    "+geom_point(alpha=0.5)\n",
    "+facet_grid('Año~.')\n",
    "+theme(axis_text_x = element_text(angle=90, hjust=1),figure_size=(8,13)) \n",
    "\n",
    ")      "
   ]
  },
  {
   "cell_type": "code",
   "execution_count": 79,
   "id": "cdbe0398",
   "metadata": {},
   "outputs": [
    {
     "data": {
      "text/plain": [
       "['Material (Nombre)', 'Kilos Venta KG', 'Precio', 'Cliente']"
      ]
     },
     "execution_count": 79,
     "metadata": {},
     "output_type": "execute_result"
    }
   ],
   "source": [
    "Dic_col['Base']"
   ]
  },
  {
   "cell_type": "code",
   "execution_count": 83,
   "id": "2bcf7ea5",
   "metadata": {},
   "outputs": [
    {
     "data": {
      "image/png": "[encoded data removed]",
      "text/plain": [
       "<Figure size 800x800 with 4 Axes>"
      ]
     },
     "metadata": {},
     "output_type": "display_data"
    },
    {
     "data": {
      "text/plain": [
       "<ggplot: (180416635609)>"
      ]
     },
     "execution_count": 83,
     "metadata": {},
     "output_type": "execute_result"
    }
   ],
   "source": [
    "df=data_i_R.copy()\n",
    "X_Graph='Kilos Venta KG'\n",
    "Y_Graph='Precio'\n",
    "Color_Graph='Recency días'\n",
    "\n",
    "\n",
    "#int\n",
    "df[X_Graph]=df[X_Graph].astype('int64')\n",
    "\n",
    "df[X_Graph]=df[X_Graph].apply(lambda x:  np.log(x))\n",
    "df[Y_Graph]=df[Y_Graph].apply(lambda x:  np.log(x))\n",
    "df[Color_Graph]=df[Color_Graph].apply(lambda x:  np.log(x))\n",
    "\n",
    "\n",
    "# df_mean[X_Graph]=df_mean[X_Graph].astype('int64')\n",
    "\n",
    "(ggplot(df#[df[Y_Graph]>0]\n",
    "            , aes(x=X_Graph#'Día numero'#'Fecha',\n",
    "            ,y=Y_Graph\n",
    "            ,color=Color_Graph\n",
    "                 ))\n",
    "+geom_point(alpha=0.5)\n",
    "+facet_grid('.~Año')\n",
    "+theme(axis_text_x = element_text(angle=90, hjust=1),figure_size=(8,8)) \n",
    "\n",
    ")      "
   ]
  },
  {
   "cell_type": "markdown",
   "id": "8acfd62c",
   "metadata": {},
   "source": [
    "###### Descripción por cliente "
   ]
  },
  {
   "cell_type": "code",
   "execution_count": 38,
   "id": "643bf493",
   "metadata": {
    "scrolled": false
   },
   "outputs": [
    {
     "data": {
      "text/html": [
       "<div>\n",
       "<style scoped>\n",
       "    .dataframe tbody tr th:only-of-type {\n",
       "        vertical-align: middle;\n",
       "    }\n",
       "\n",
       "    .dataframe tbody tr th {\n",
       "        vertical-align: top;\n",
       "    }\n",
       "\n",
       "    .dataframe thead tr th {\n",
       "        text-align: left;\n",
       "    }\n",
       "\n",
       "    .dataframe thead tr:last-of-type th {\n",
       "        text-align: right;\n",
       "    }\n",
       "</style>\n",
       "<table border=\"1\" class=\"dataframe\">\n",
       "  <thead>\n",
       "    <tr>\n",
       "      <th></th>\n",
       "      <th colspan=\"8\" halign=\"left\">Recency días</th>\n",
       "    </tr>\n",
       "    <tr>\n",
       "      <th></th>\n",
       "      <th>count</th>\n",
       "      <th>mean</th>\n",
       "      <th>std</th>\n",
       "      <th>min</th>\n",
       "      <th>25%</th>\n",
       "      <th>50%</th>\n",
       "      <th>75%</th>\n",
       "      <th>max</th>\n",
       "    </tr>\n",
       "    <tr>\n",
       "      <th>Cliente</th>\n",
       "      <th></th>\n",
       "      <th></th>\n",
       "      <th></th>\n",
       "      <th></th>\n",
       "      <th></th>\n",
       "      <th></th>\n",
       "      <th></th>\n",
       "      <th></th>\n",
       "    </tr>\n",
       "  </thead>\n",
       "  <tbody>\n",
       "    <tr>\n",
       "      <th>10003742</th>\n",
       "      <td>1.0</td>\n",
       "      <td>0.000000</td>\n",
       "      <td>NaN</td>\n",
       "      <td>0.0</td>\n",
       "      <td>0.0</td>\n",
       "      <td>0.0</td>\n",
       "      <td>0.00</td>\n",
       "      <td>0.0</td>\n",
       "    </tr>\n",
       "    <tr>\n",
       "      <th>10007508</th>\n",
       "      <td>208.0</td>\n",
       "      <td>6.418269</td>\n",
       "      <td>7.085609</td>\n",
       "      <td>0.0</td>\n",
       "      <td>2.0</td>\n",
       "      <td>5.0</td>\n",
       "      <td>7.00</td>\n",
       "      <td>42.0</td>\n",
       "    </tr>\n",
       "    <tr>\n",
       "      <th>10017269</th>\n",
       "      <td>78.0</td>\n",
       "      <td>17.500000</td>\n",
       "      <td>8.773854</td>\n",
       "      <td>0.0</td>\n",
       "      <td>14.0</td>\n",
       "      <td>14.0</td>\n",
       "      <td>21.00</td>\n",
       "      <td>49.0</td>\n",
       "    </tr>\n",
       "    <tr>\n",
       "      <th>10023880</th>\n",
       "      <td>20.0</td>\n",
       "      <td>49.300000</td>\n",
       "      <td>82.268559</td>\n",
       "      <td>0.0</td>\n",
       "      <td>7.0</td>\n",
       "      <td>22.5</td>\n",
       "      <td>57.75</td>\n",
       "      <td>357.0</td>\n",
       "    </tr>\n",
       "    <tr>\n",
       "      <th>10028999</th>\n",
       "      <td>13.0</td>\n",
       "      <td>53.000000</td>\n",
       "      <td>33.266600</td>\n",
       "      <td>0.0</td>\n",
       "      <td>35.0</td>\n",
       "      <td>49.0</td>\n",
       "      <td>63.00</td>\n",
       "      <td>136.0</td>\n",
       "    </tr>\n",
       "    <tr>\n",
       "      <th>...</th>\n",
       "      <td>...</td>\n",
       "      <td>...</td>\n",
       "      <td>...</td>\n",
       "      <td>...</td>\n",
       "      <td>...</td>\n",
       "      <td>...</td>\n",
       "      <td>...</td>\n",
       "      <td>...</td>\n",
       "    </tr>\n",
       "    <tr>\n",
       "      <th>9992154</th>\n",
       "      <td>70.0</td>\n",
       "      <td>15.000000</td>\n",
       "      <td>20.255613</td>\n",
       "      <td>0.0</td>\n",
       "      <td>5.0</td>\n",
       "      <td>7.0</td>\n",
       "      <td>17.75</td>\n",
       "      <td>112.0</td>\n",
       "    </tr>\n",
       "    <tr>\n",
       "      <th>9993925</th>\n",
       "      <td>543.0</td>\n",
       "      <td>2.565378</td>\n",
       "      <td>1.298189</td>\n",
       "      <td>0.0</td>\n",
       "      <td>2.0</td>\n",
       "      <td>2.0</td>\n",
       "      <td>3.00</td>\n",
       "      <td>14.0</td>\n",
       "    </tr>\n",
       "    <tr>\n",
       "      <th>9994662</th>\n",
       "      <td>11.0</td>\n",
       "      <td>55.636364</td>\n",
       "      <td>44.913857</td>\n",
       "      <td>0.0</td>\n",
       "      <td>24.0</td>\n",
       "      <td>39.0</td>\n",
       "      <td>80.50</td>\n",
       "      <td>157.0</td>\n",
       "    </tr>\n",
       "    <tr>\n",
       "      <th>9994800</th>\n",
       "      <td>3.0</td>\n",
       "      <td>65.333333</td>\n",
       "      <td>95.552778</td>\n",
       "      <td>0.0</td>\n",
       "      <td>10.5</td>\n",
       "      <td>21.0</td>\n",
       "      <td>98.00</td>\n",
       "      <td>175.0</td>\n",
       "    </tr>\n",
       "    <tr>\n",
       "      <th>9997223</th>\n",
       "      <td>1.0</td>\n",
       "      <td>0.000000</td>\n",
       "      <td>NaN</td>\n",
       "      <td>0.0</td>\n",
       "      <td>0.0</td>\n",
       "      <td>0.0</td>\n",
       "      <td>0.00</td>\n",
       "      <td>0.0</td>\n",
       "    </tr>\n",
       "  </tbody>\n",
       "</table>\n",
       "<p>5073 rows × 8 columns</p>\n",
       "</div>"
      ],
      "text/plain": [
       "         Recency días                                                     \n",
       "                count       mean        std  min   25%   50%    75%    max\n",
       "Cliente                                                                   \n",
       "10003742          1.0   0.000000        NaN  0.0   0.0   0.0   0.00    0.0\n",
       "10007508        208.0   6.418269   7.085609  0.0   2.0   5.0   7.00   42.0\n",
       "10017269         78.0  17.500000   8.773854  0.0  14.0  14.0  21.00   49.0\n",
       "10023880         20.0  49.300000  82.268559  0.0   7.0  22.5  57.75  357.0\n",
       "10028999         13.0  53.000000  33.266600  0.0  35.0  49.0  63.00  136.0\n",
       "...               ...        ...        ...  ...   ...   ...    ...    ...\n",
       "9992154          70.0  15.000000  20.255613  0.0   5.0   7.0  17.75  112.0\n",
       "9993925         543.0   2.565378   1.298189  0.0   2.0   2.0   3.00   14.0\n",
       "9994662          11.0  55.636364  44.913857  0.0  24.0  39.0  80.50  157.0\n",
       "9994800           3.0  65.333333  95.552778  0.0  10.5  21.0  98.00  175.0\n",
       "9997223           1.0   0.000000        NaN  0.0   0.0   0.0   0.00    0.0\n",
       "\n",
       "[5073 rows x 8 columns]"
      ]
     },
     "execution_count": 38,
     "metadata": {},
     "output_type": "execute_result"
    }
   ],
   "source": [
    "df_G=data_i_R[['Cliente','Recency días']].groupby('Cliente').describe()\n",
    "df_G"
   ]
  },
  {
   "cell_type": "markdown",
   "id": "8aafe39e",
   "metadata": {},
   "source": [
    "### PRUEBA"
   ]
  },
  {
   "cell_type": "markdown",
   "id": "6b627150",
   "metadata": {
    "heading_collapsed": true
   },
   "source": [
    "##### data chica"
   ]
  },
  {
   "cell_type": "code",
   "execution_count": 39,
   "id": "f1e2d019",
   "metadata": {
    "hidden": true
   },
   "outputs": [
    {
     "data": {
      "text/plain": [
       "(239,)"
      ]
     },
     "execution_count": 39,
     "metadata": {},
     "output_type": "execute_result"
    }
   ],
   "source": [
    "df=data_i[(data_i['Población'] =='La Florida')].copy()\n",
    "df.Cliente.unique().shape"
   ]
  },
  {
   "cell_type": "code",
   "execution_count": 40,
   "id": "1aeeadeb",
   "metadata": {
    "hidden": true
   },
   "outputs": [
    {
     "name": "stdout",
     "output_type": "stream",
     "text": [
      "(1079, 20)\n"
     ]
    },
    {
     "data": {
      "text/plain": [
       "(46,)"
      ]
     },
     "execution_count": 40,
     "metadata": {},
     "output_type": "execute_result"
    }
   ],
   "source": [
    "df=data_i_R[(data_i_R['Población'] =='Las Condes')].copy()\n",
    "print(df.shape)\n",
    "df.Cliente.unique().shape"
   ]
  },
  {
   "cell_type": "code",
   "execution_count": 41,
   "id": "807ff3d7",
   "metadata": {
    "hidden": true
   },
   "outputs": [
    {
     "data": {
      "text/plain": [
       "datetime.date(2021, 10, 26)"
      ]
     },
     "execution_count": 41,
     "metadata": {},
     "output_type": "execute_result"
    }
   ],
   "source": [
    "data_i_R['Día natural'].max()"
   ]
  },
  {
   "cell_type": "markdown",
   "id": "d0c947fd",
   "metadata": {
    "heading_collapsed": true
   },
   "source": [
    "#### groupby selección ultima fecha each client "
   ]
  },
  {
   "cell_type": "code",
   "execution_count": 42,
   "id": "01109c85",
   "metadata": {
    "hidden": true,
    "scrolled": true
   },
   "outputs": [
    {
     "name": "stdout",
     "output_type": "stream",
     "text": [
      "(46, 2)\n"
     ]
    },
    {
     "data": {
      "text/html": [
       "<div>\n",
       "<style scoped>\n",
       "    .dataframe tbody tr th:only-of-type {\n",
       "        vertical-align: middle;\n",
       "    }\n",
       "\n",
       "    .dataframe tbody tr th {\n",
       "        vertical-align: top;\n",
       "    }\n",
       "\n",
       "    .dataframe thead th {\n",
       "        text-align: right;\n",
       "    }\n",
       "</style>\n",
       "<table border=\"1\" class=\"dataframe\">\n",
       "  <thead>\n",
       "    <tr style=\"text-align: right;\">\n",
       "      <th></th>\n",
       "      <th>Cliente</th>\n",
       "      <th>Día natural</th>\n",
       "    </tr>\n",
       "  </thead>\n",
       "  <tbody>\n",
       "    <tr>\n",
       "      <th>0</th>\n",
       "      <td>10537676</td>\n",
       "      <td>2021-05-10</td>\n",
       "    </tr>\n",
       "    <tr>\n",
       "      <th>1</th>\n",
       "      <td>11263733</td>\n",
       "      <td>2021-10-23</td>\n",
       "    </tr>\n",
       "    <tr>\n",
       "      <th>2</th>\n",
       "      <td>11437928</td>\n",
       "      <td>2021-09-01</td>\n",
       "    </tr>\n",
       "    <tr>\n",
       "      <th>3</th>\n",
       "      <td>11566484</td>\n",
       "      <td>2021-08-23</td>\n",
       "    </tr>\n",
       "    <tr>\n",
       "      <th>4</th>\n",
       "      <td>11862820</td>\n",
       "      <td>2020-09-12</td>\n",
       "    </tr>\n",
       "  </tbody>\n",
       "</table>\n",
       "</div>"
      ],
      "text/plain": [
       "    Cliente Día natural\n",
       "0  10537676  2021-05-10\n",
       "1  11263733  2021-10-23\n",
       "2  11437928  2021-09-01\n",
       "3  11566484  2021-08-23\n",
       "4  11862820  2020-09-12"
      ]
     },
     "execution_count": 42,
     "metadata": {},
     "output_type": "execute_result"
    }
   ],
   "source": [
    "df_fecha_fin=df[['Cliente','Día natural']].groupby('Cliente').max().reset_index()#\n",
    "print(df_fecha_fin.shape)\n",
    "df_fecha_fin.head()"
   ]
  },
  {
   "cell_type": "markdown",
   "id": "f1feb890",
   "metadata": {
    "heading_collapsed": true,
    "hidden": true
   },
   "source": [
    "###### aclculo de recency final "
   ]
  },
  {
   "cell_type": "code",
   "execution_count": 43,
   "id": "9b2efd6d",
   "metadata": {
    "hidden": true
   },
   "outputs": [
    {
     "data": {
      "text/html": [
       "<div>\n",
       "<style scoped>\n",
       "    .dataframe tbody tr th:only-of-type {\n",
       "        vertical-align: middle;\n",
       "    }\n",
       "\n",
       "    .dataframe tbody tr th {\n",
       "        vertical-align: top;\n",
       "    }\n",
       "\n",
       "    .dataframe thead th {\n",
       "        text-align: right;\n",
       "    }\n",
       "</style>\n",
       "<table border=\"1\" class=\"dataframe\">\n",
       "  <thead>\n",
       "    <tr style=\"text-align: right;\">\n",
       "      <th></th>\n",
       "      <th>Cliente</th>\n",
       "      <th>Día natural</th>\n",
       "      <th>Recency ultimo</th>\n",
       "    </tr>\n",
       "  </thead>\n",
       "  <tbody>\n",
       "    <tr>\n",
       "      <th>0</th>\n",
       "      <td>10537676</td>\n",
       "      <td>2021-05-10</td>\n",
       "      <td>169</td>\n",
       "    </tr>\n",
       "    <tr>\n",
       "      <th>1</th>\n",
       "      <td>11263733</td>\n",
       "      <td>2021-10-23</td>\n",
       "      <td>3</td>\n",
       "    </tr>\n",
       "    <tr>\n",
       "      <th>2</th>\n",
       "      <td>11437928</td>\n",
       "      <td>2021-09-01</td>\n",
       "      <td>55</td>\n",
       "    </tr>\n",
       "    <tr>\n",
       "      <th>3</th>\n",
       "      <td>11566484</td>\n",
       "      <td>2021-08-23</td>\n",
       "      <td>64</td>\n",
       "    </tr>\n",
       "    <tr>\n",
       "      <th>4</th>\n",
       "      <td>11862820</td>\n",
       "      <td>2020-09-12</td>\n",
       "      <td>409</td>\n",
       "    </tr>\n",
       "    <tr>\n",
       "      <th>5</th>\n",
       "      <td>12197874</td>\n",
       "      <td>2021-04-10</td>\n",
       "      <td>199</td>\n",
       "    </tr>\n",
       "    <tr>\n",
       "      <th>6</th>\n",
       "      <td>13472461</td>\n",
       "      <td>2021-10-23</td>\n",
       "      <td>3</td>\n",
       "    </tr>\n",
       "    <tr>\n",
       "      <th>7</th>\n",
       "      <td>13664118</td>\n",
       "      <td>2020-04-06</td>\n",
       "      <td>568</td>\n",
       "    </tr>\n",
       "    <tr>\n",
       "      <th>8</th>\n",
       "      <td>14232412</td>\n",
       "      <td>2021-09-04</td>\n",
       "      <td>52</td>\n",
       "    </tr>\n",
       "    <tr>\n",
       "      <th>9</th>\n",
       "      <td>14676322</td>\n",
       "      <td>2021-09-11</td>\n",
       "      <td>45</td>\n",
       "    </tr>\n",
       "    <tr>\n",
       "      <th>10</th>\n",
       "      <td>14682944</td>\n",
       "      <td>2021-06-12</td>\n",
       "      <td>136</td>\n",
       "    </tr>\n",
       "    <tr>\n",
       "      <th>11</th>\n",
       "      <td>14704478</td>\n",
       "      <td>2021-07-31</td>\n",
       "      <td>87</td>\n",
       "    </tr>\n",
       "    <tr>\n",
       "      <th>12</th>\n",
       "      <td>14704842</td>\n",
       "      <td>2021-02-06</td>\n",
       "      <td>262</td>\n",
       "    </tr>\n",
       "    <tr>\n",
       "      <th>13</th>\n",
       "      <td>14731210</td>\n",
       "      <td>2021-04-17</td>\n",
       "      <td>192</td>\n",
       "    </tr>\n",
       "    <tr>\n",
       "      <th>14</th>\n",
       "      <td>14752981</td>\n",
       "      <td>2021-07-28</td>\n",
       "      <td>90</td>\n",
       "    </tr>\n",
       "    <tr>\n",
       "      <th>15</th>\n",
       "      <td>14758910</td>\n",
       "      <td>2021-03-31</td>\n",
       "      <td>209</td>\n",
       "    </tr>\n",
       "    <tr>\n",
       "      <th>16</th>\n",
       "      <td>15515216</td>\n",
       "      <td>2021-10-21</td>\n",
       "      <td>5</td>\n",
       "    </tr>\n",
       "    <tr>\n",
       "      <th>17</th>\n",
       "      <td>17026502</td>\n",
       "      <td>2021-10-22</td>\n",
       "      <td>4</td>\n",
       "    </tr>\n",
       "    <tr>\n",
       "      <th>18</th>\n",
       "      <td>22144263</td>\n",
       "      <td>2021-02-24</td>\n",
       "      <td>244</td>\n",
       "    </tr>\n",
       "    <tr>\n",
       "      <th>19</th>\n",
       "      <td>22621698</td>\n",
       "      <td>2021-10-09</td>\n",
       "      <td>17</td>\n",
       "    </tr>\n",
       "    <tr>\n",
       "      <th>20</th>\n",
       "      <td>22642243</td>\n",
       "      <td>2021-09-15</td>\n",
       "      <td>41</td>\n",
       "    </tr>\n",
       "    <tr>\n",
       "      <th>21</th>\n",
       "      <td>22847441</td>\n",
       "      <td>2020-12-19</td>\n",
       "      <td>311</td>\n",
       "    </tr>\n",
       "    <tr>\n",
       "      <th>22</th>\n",
       "      <td>25751985</td>\n",
       "      <td>2021-02-10</td>\n",
       "      <td>258</td>\n",
       "    </tr>\n",
       "    <tr>\n",
       "      <th>23</th>\n",
       "      <td>3676189</td>\n",
       "      <td>2021-07-12</td>\n",
       "      <td>106</td>\n",
       "    </tr>\n",
       "    <tr>\n",
       "      <th>24</th>\n",
       "      <td>4548153</td>\n",
       "      <td>2021-09-11</td>\n",
       "      <td>45</td>\n",
       "    </tr>\n",
       "    <tr>\n",
       "      <th>25</th>\n",
       "      <td>5286957</td>\n",
       "      <td>2021-10-21</td>\n",
       "      <td>5</td>\n",
       "    </tr>\n",
       "    <tr>\n",
       "      <th>26</th>\n",
       "      <td>5520139</td>\n",
       "      <td>2021-07-14</td>\n",
       "      <td>104</td>\n",
       "    </tr>\n",
       "    <tr>\n",
       "      <th>27</th>\n",
       "      <td>5740042</td>\n",
       "      <td>2021-07-05</td>\n",
       "      <td>113</td>\n",
       "    </tr>\n",
       "    <tr>\n",
       "      <th>28</th>\n",
       "      <td>6444674</td>\n",
       "      <td>2021-09-11</td>\n",
       "      <td>45</td>\n",
       "    </tr>\n",
       "    <tr>\n",
       "      <th>29</th>\n",
       "      <td>7411803</td>\n",
       "      <td>2021-10-23</td>\n",
       "      <td>3</td>\n",
       "    </tr>\n",
       "    <tr>\n",
       "      <th>30</th>\n",
       "      <td>76061830</td>\n",
       "      <td>2020-11-28</td>\n",
       "      <td>332</td>\n",
       "    </tr>\n",
       "    <tr>\n",
       "      <th>31</th>\n",
       "      <td>76142271</td>\n",
       "      <td>2021-08-18</td>\n",
       "      <td>69</td>\n",
       "    </tr>\n",
       "    <tr>\n",
       "      <th>32</th>\n",
       "      <td>76174859</td>\n",
       "      <td>2021-10-19</td>\n",
       "      <td>7</td>\n",
       "    </tr>\n",
       "    <tr>\n",
       "      <th>33</th>\n",
       "      <td>76303116</td>\n",
       "      <td>2021-09-08</td>\n",
       "      <td>48</td>\n",
       "    </tr>\n",
       "    <tr>\n",
       "      <th>34</th>\n",
       "      <td>76507017</td>\n",
       "      <td>2021-04-05</td>\n",
       "      <td>204</td>\n",
       "    </tr>\n",
       "    <tr>\n",
       "      <th>35</th>\n",
       "      <td>76518349</td>\n",
       "      <td>2021-10-18</td>\n",
       "      <td>8</td>\n",
       "    </tr>\n",
       "    <tr>\n",
       "      <th>36</th>\n",
       "      <td>76852543</td>\n",
       "      <td>2021-09-16</td>\n",
       "      <td>40</td>\n",
       "    </tr>\n",
       "    <tr>\n",
       "      <th>37</th>\n",
       "      <td>76860858</td>\n",
       "      <td>2021-10-19</td>\n",
       "      <td>7</td>\n",
       "    </tr>\n",
       "    <tr>\n",
       "      <th>38</th>\n",
       "      <td>76861617</td>\n",
       "      <td>2020-03-28</td>\n",
       "      <td>577</td>\n",
       "    </tr>\n",
       "    <tr>\n",
       "      <th>39</th>\n",
       "      <td>76906755</td>\n",
       "      <td>2020-04-22</td>\n",
       "      <td>552</td>\n",
       "    </tr>\n",
       "    <tr>\n",
       "      <th>40</th>\n",
       "      <td>77026377</td>\n",
       "      <td>2021-10-20</td>\n",
       "      <td>6</td>\n",
       "    </tr>\n",
       "    <tr>\n",
       "      <th>41</th>\n",
       "      <td>79609570</td>\n",
       "      <td>2021-06-05</td>\n",
       "      <td>143</td>\n",
       "    </tr>\n",
       "    <tr>\n",
       "      <th>42</th>\n",
       "      <td>79754660</td>\n",
       "      <td>2021-08-23</td>\n",
       "      <td>64</td>\n",
       "    </tr>\n",
       "    <tr>\n",
       "      <th>43</th>\n",
       "      <td>8452215</td>\n",
       "      <td>2021-06-26</td>\n",
       "      <td>122</td>\n",
       "    </tr>\n",
       "    <tr>\n",
       "      <th>44</th>\n",
       "      <td>9835928</td>\n",
       "      <td>2021-10-25</td>\n",
       "      <td>1</td>\n",
       "    </tr>\n",
       "    <tr>\n",
       "      <th>45</th>\n",
       "      <td>9990322</td>\n",
       "      <td>2021-05-10</td>\n",
       "      <td>169</td>\n",
       "    </tr>\n",
       "  </tbody>\n",
       "</table>\n",
       "</div>"
      ],
      "text/plain": [
       "     Cliente Día natural  Recency ultimo\n",
       "0   10537676  2021-05-10             169\n",
       "1   11263733  2021-10-23               3\n",
       "2   11437928  2021-09-01              55\n",
       "3   11566484  2021-08-23              64\n",
       "4   11862820  2020-09-12             409\n",
       "5   12197874  2021-04-10             199\n",
       "6   13472461  2021-10-23               3\n",
       "7   13664118  2020-04-06             568\n",
       "8   14232412  2021-09-04              52\n",
       "9   14676322  2021-09-11              45\n",
       "10  14682944  2021-06-12             136\n",
       "11  14704478  2021-07-31              87\n",
       "12  14704842  2021-02-06             262\n",
       "13  14731210  2021-04-17             192\n",
       "14  14752981  2021-07-28              90\n",
       "15  14758910  2021-03-31             209\n",
       "16  15515216  2021-10-21               5\n",
       "17  17026502  2021-10-22               4\n",
       "18  22144263  2021-02-24             244\n",
       "19  22621698  2021-10-09              17\n",
       "20  22642243  2021-09-15              41\n",
       "21  22847441  2020-12-19             311\n",
       "22  25751985  2021-02-10             258\n",
       "23   3676189  2021-07-12             106\n",
       "24   4548153  2021-09-11              45\n",
       "25   5286957  2021-10-21               5\n",
       "26   5520139  2021-07-14             104\n",
       "27   5740042  2021-07-05             113\n",
       "28   6444674  2021-09-11              45\n",
       "29   7411803  2021-10-23               3\n",
       "30  76061830  2020-11-28             332\n",
       "31  76142271  2021-08-18              69\n",
       "32  76174859  2021-10-19               7\n",
       "33  76303116  2021-09-08              48\n",
       "34  76507017  2021-04-05             204\n",
       "35  76518349  2021-10-18               8\n",
       "36  76852543  2021-09-16              40\n",
       "37  76860858  2021-10-19               7\n",
       "38  76861617  2020-03-28             577\n",
       "39  76906755  2020-04-22             552\n",
       "40  77026377  2021-10-20               6\n",
       "41  79609570  2021-06-05             143\n",
       "42  79754660  2021-08-23              64\n",
       "43   8452215  2021-06-26             122\n",
       "44   9835928  2021-10-25               1\n",
       "45   9990322  2021-05-10             169"
      ]
     },
     "execution_count": 43,
     "metadata": {},
     "output_type": "execute_result"
    }
   ],
   "source": [
    "#     df['Recency días']=df['Recency'].apply( lambda x:  x.split(' ')[0])\n",
    "df_fecha_fin['Recency ultimo']=\\\n",
    "df_fecha_fin['Día natural'].apply( lambda x: (datetime.date(2021, 10, 26) - x).days)\n",
    "#.apply( lambda x:  x.split(' ')[0])\n",
    "df_fecha_fin"
   ]
  },
  {
   "cell_type": "markdown",
   "id": "a8d9eec0",
   "metadata": {
    "hidden": true
   },
   "source": [
    "##### Grafico "
   ]
  },
  {
   "cell_type": "markdown",
   "id": "229ce26b",
   "metadata": {
    "heading_collapsed": true,
    "hidden": true
   },
   "source": [
    "###### plop"
   ]
  },
  {
   "cell_type": "code",
   "execution_count": 44,
   "id": "300c4f5b",
   "metadata": {
    "hidden": true,
    "scrolled": true
   },
   "outputs": [
    {
     "data": {
      "text/plain": [
       "<AxesSubplot:>"
      ]
     },
     "execution_count": 44,
     "metadata": {},
     "output_type": "execute_result"
    },
    {
     "data": {
      "image/png": "[encoded data removed]",
      "text/plain": [
       "<Figure size 432x288 with 1 Axes>"
      ]
     },
     "metadata": {
      "needs_background": "light"
     },
     "output_type": "display_data"
    }
   ],
   "source": [
    "df_fecha_fin['Recency ultimo'].hist()"
   ]
  },
  {
   "cell_type": "code",
   "execution_count": 66,
   "id": "baf69cc1",
   "metadata": {
    "hidden": true
   },
   "outputs": [
    {
     "data": {
      "image/png": "[encoded data removed]",
      "text/plain": [
       "<Figure size 640x480 with 1 Axes>"
      ]
     },
     "metadata": {},
     "output_type": "display_data"
    },
    {
     "data": {
      "text/plain": [
       "<ggplot: (180305832126)>"
      ]
     },
     "execution_count": 66,
     "metadata": {},
     "output_type": "execute_result"
    }
   ],
   "source": [
    "ggplot(df_fecha_fin,aes(x='Recency ultimo'))\\\n",
    "+geom_histogram(bins=30)\\\n",
    "+\n",
    "\n",
    "    #binwidth=0.5)\n",
    "# (mapping=None, data=data_i_R, stat='bin', position='stack',\n",
    "#                na_rm=False, inherit_aes=True, show_legend=None, raster=False)\n",
    "#                **kwargs)"
   ]
  },
  {
   "cell_type": "code",
   "execution_count": null,
   "id": "20c6fcf6",
   "metadata": {
    "hidden": true
   },
   "outputs": [],
   "source": []
  },
  {
   "cell_type": "markdown",
   "id": "e9813911",
   "metadata": {
    "heading_collapsed": true
   },
   "source": [
    "#### exploración atipicos "
   ]
  },
  {
   "cell_type": "code",
   "execution_count": 46,
   "id": "2cdc30bd",
   "metadata": {
    "hidden": true
   },
   "outputs": [
    {
     "data": {
      "text/html": [
       "<div>\n",
       "<style scoped>\n",
       "    .dataframe tbody tr th:only-of-type {\n",
       "        vertical-align: middle;\n",
       "    }\n",
       "\n",
       "    .dataframe tbody tr th {\n",
       "        vertical-align: top;\n",
       "    }\n",
       "\n",
       "    .dataframe thead th {\n",
       "        text-align: right;\n",
       "    }\n",
       "</style>\n",
       "<table border=\"1\" class=\"dataframe\">\n",
       "  <thead>\n",
       "    <tr style=\"text-align: right;\">\n",
       "      <th></th>\n",
       "      <th>Cliente</th>\n",
       "      <th>Día natural</th>\n",
       "      <th>Recency ultimo</th>\n",
       "    </tr>\n",
       "  </thead>\n",
       "  <tbody>\n",
       "    <tr>\n",
       "      <th>0</th>\n",
       "      <td>10537676</td>\n",
       "      <td>2021-05-10</td>\n",
       "      <td>169</td>\n",
       "    </tr>\n",
       "    <tr>\n",
       "      <th>1</th>\n",
       "      <td>11263733</td>\n",
       "      <td>2021-10-23</td>\n",
       "      <td>3</td>\n",
       "    </tr>\n",
       "    <tr>\n",
       "      <th>2</th>\n",
       "      <td>11437928</td>\n",
       "      <td>2021-09-01</td>\n",
       "      <td>55</td>\n",
       "    </tr>\n",
       "    <tr>\n",
       "      <th>3</th>\n",
       "      <td>11566484</td>\n",
       "      <td>2021-08-23</td>\n",
       "      <td>64</td>\n",
       "    </tr>\n",
       "    <tr>\n",
       "      <th>4</th>\n",
       "      <td>11862820</td>\n",
       "      <td>2020-09-12</td>\n",
       "      <td>409</td>\n",
       "    </tr>\n",
       "  </tbody>\n",
       "</table>\n",
       "</div>"
      ],
      "text/plain": [
       "    Cliente Día natural  Recency ultimo\n",
       "0  10537676  2021-05-10             169\n",
       "1  11263733  2021-10-23               3\n",
       "2  11437928  2021-09-01              55\n",
       "3  11566484  2021-08-23              64\n",
       "4  11862820  2020-09-12             409"
      ]
     },
     "execution_count": 46,
     "metadata": {},
     "output_type": "execute_result"
    }
   ],
   "source": [
    "df_fecha_fin.head()"
   ]
  },
  {
   "cell_type": "code",
   "execution_count": 47,
   "id": "a893efab",
   "metadata": {
    "hidden": true
   },
   "outputs": [
    {
     "data": {
      "text/html": [
       "<div>\n",
       "<style scoped>\n",
       "    .dataframe tbody tr th:only-of-type {\n",
       "        vertical-align: middle;\n",
       "    }\n",
       "\n",
       "    .dataframe tbody tr th {\n",
       "        vertical-align: top;\n",
       "    }\n",
       "\n",
       "    .dataframe thead th {\n",
       "        text-align: right;\n",
       "    }\n",
       "</style>\n",
       "<table border=\"1\" class=\"dataframe\">\n",
       "  <thead>\n",
       "    <tr style=\"text-align: right;\">\n",
       "      <th></th>\n",
       "      <th>Recency ultimo</th>\n",
       "    </tr>\n",
       "  </thead>\n",
       "  <tbody>\n",
       "    <tr>\n",
       "      <th>count</th>\n",
       "      <td>46.000000</td>\n",
       "    </tr>\n",
       "    <tr>\n",
       "      <th>mean</th>\n",
       "      <td>134.630435</td>\n",
       "    </tr>\n",
       "    <tr>\n",
       "      <th>std</th>\n",
       "      <td>152.722458</td>\n",
       "    </tr>\n",
       "    <tr>\n",
       "      <th>min</th>\n",
       "      <td>1.000000</td>\n",
       "    </tr>\n",
       "    <tr>\n",
       "      <th>25%</th>\n",
       "      <td>22.750000</td>\n",
       "    </tr>\n",
       "    <tr>\n",
       "      <th>50%</th>\n",
       "      <td>78.000000</td>\n",
       "    </tr>\n",
       "    <tr>\n",
       "      <th>75%</th>\n",
       "      <td>197.250000</td>\n",
       "    </tr>\n",
       "    <tr>\n",
       "      <th>max</th>\n",
       "      <td>577.000000</td>\n",
       "    </tr>\n",
       "  </tbody>\n",
       "</table>\n",
       "</div>"
      ],
      "text/plain": [
       "       Recency ultimo\n",
       "count       46.000000\n",
       "mean       134.630435\n",
       "std        152.722458\n",
       "min          1.000000\n",
       "25%         22.750000\n",
       "50%         78.000000\n",
       "75%        197.250000\n",
       "max        577.000000"
      ]
     },
     "execution_count": 47,
     "metadata": {},
     "output_type": "execute_result"
    }
   ],
   "source": [
    "df_fecha_fin.describe()"
   ]
  },
  {
   "cell_type": "code",
   "execution_count": 48,
   "id": "b6cbf45e",
   "metadata": {
    "hidden": true,
    "scrolled": true
   },
   "outputs": [
    {
     "data": {
      "text/html": [
       "<div>\n",
       "<style scoped>\n",
       "    .dataframe tbody tr th:only-of-type {\n",
       "        vertical-align: middle;\n",
       "    }\n",
       "\n",
       "    .dataframe tbody tr th {\n",
       "        vertical-align: top;\n",
       "    }\n",
       "\n",
       "    .dataframe thead th {\n",
       "        text-align: right;\n",
       "    }\n",
       "</style>\n",
       "<table border=\"1\" class=\"dataframe\">\n",
       "  <thead>\n",
       "    <tr style=\"text-align: right;\">\n",
       "      <th></th>\n",
       "      <th>Cliente</th>\n",
       "      <th>Día natural</th>\n",
       "      <th>Recency ultimo</th>\n",
       "    </tr>\n",
       "  </thead>\n",
       "  <tbody>\n",
       "    <tr>\n",
       "      <th>38</th>\n",
       "      <td>76861617</td>\n",
       "      <td>2020-03-28</td>\n",
       "      <td>577</td>\n",
       "    </tr>\n",
       "  </tbody>\n",
       "</table>\n",
       "</div>"
      ],
      "text/plain": [
       "     Cliente Día natural  Recency ultimo\n",
       "38  76861617  2020-03-28             577"
      ]
     },
     "execution_count": 48,
     "metadata": {},
     "output_type": "execute_result"
    }
   ],
   "source": [
    "df_fecha_fin[df_fecha_fin['Recency ultimo']==577]"
   ]
  },
  {
   "cell_type": "code",
   "execution_count": 49,
   "id": "bdd5e788",
   "metadata": {
    "hidden": true
   },
   "outputs": [
    {
     "data": {
      "text/html": [
       "<div>\n",
       "<style scoped>\n",
       "    .dataframe tbody tr th:only-of-type {\n",
       "        vertical-align: middle;\n",
       "    }\n",
       "\n",
       "    .dataframe tbody tr th {\n",
       "        vertical-align: top;\n",
       "    }\n",
       "\n",
       "    .dataframe thead th {\n",
       "        text-align: right;\n",
       "    }\n",
       "</style>\n",
       "<table border=\"1\" class=\"dataframe\">\n",
       "  <thead>\n",
       "    <tr style=\"text-align: right;\">\n",
       "      <th></th>\n",
       "      <th>Material (Nombre)</th>\n",
       "      <th>Kilos Venta KG</th>\n",
       "      <th>Precio</th>\n",
       "      <th>Día natural</th>\n",
       "      <th>Día Semana</th>\n",
       "      <th>Semana</th>\n",
       "      <th>Mes</th>\n",
       "      <th>Año</th>\n",
       "      <th>Población</th>\n",
       "      <th>Centro</th>\n",
       "      <th>Cliente</th>\n",
       "      <th>Cluster</th>\n",
       "      <th>Segmento.1</th>\n",
       "      <th>Categoría Cliente</th>\n",
       "      <th>Año Creación</th>\n",
       "      <th>Material Favorito</th>\n",
       "      <th>Frecuencia Historica</th>\n",
       "      <th>Mes_num</th>\n",
       "      <th>Recency</th>\n",
       "      <th>Recency días</th>\n",
       "    </tr>\n",
       "  </thead>\n",
       "  <tbody>\n",
       "    <tr>\n",
       "      <th>237526</th>\n",
       "      <td>1010078(Trutro Entero Selección)</td>\n",
       "      <td>22</td>\n",
       "      <td>1150</td>\n",
       "      <td>2020-02-08</td>\n",
       "      <td>Sábado</td>\n",
       "      <td>6</td>\n",
       "      <td>Febrero</td>\n",
       "      <td>2020</td>\n",
       "      <td>Las Condes</td>\n",
       "      <td>Sucursal Huechuraba</td>\n",
       "      <td>76861617</td>\n",
       "      <td>Clásico</td>\n",
       "      <td>Cobertura Pequeno SD</td>\n",
       "      <td>Emprendedores</td>\n",
       "      <td>2020</td>\n",
       "      <td>1020253</td>\n",
       "      <td>7</td>\n",
       "      <td>2</td>\n",
       "      <td>0 days</td>\n",
       "      <td>0</td>\n",
       "    </tr>\n",
       "    <tr>\n",
       "      <th>237527</th>\n",
       "      <td>1010078(Trutro Entero Selección)</td>\n",
       "      <td>44</td>\n",
       "      <td>1338</td>\n",
       "      <td>2020-03-28</td>\n",
       "      <td>Sábado</td>\n",
       "      <td>13</td>\n",
       "      <td>Marzo</td>\n",
       "      <td>2020</td>\n",
       "      <td>Las Condes</td>\n",
       "      <td>Sucursal Huechuraba</td>\n",
       "      <td>76861617</td>\n",
       "      <td>Clásico</td>\n",
       "      <td>Cobertura Pequeno SD</td>\n",
       "      <td>Emprendedores</td>\n",
       "      <td>2020</td>\n",
       "      <td>1020253</td>\n",
       "      <td>7</td>\n",
       "      <td>3</td>\n",
       "      <td>49 days</td>\n",
       "      <td>49</td>\n",
       "    </tr>\n",
       "  </tbody>\n",
       "</table>\n",
       "</div>"
      ],
      "text/plain": [
       "                       Material (Nombre)  Kilos Venta KG  Precio Día natural  \\\n",
       "237526  1010078(Trutro Entero Selección)              22    1150  2020-02-08   \n",
       "237527  1010078(Trutro Entero Selección)              44    1338  2020-03-28   \n",
       "\n",
       "       Día Semana Semana      Mes   Año   Población               Centro  \\\n",
       "237526     Sábado      6  Febrero  2020  Las Condes  Sucursal Huechuraba   \n",
       "237527     Sábado     13    Marzo  2020  Las Condes  Sucursal Huechuraba   \n",
       "\n",
       "         Cliente  Cluster            Segmento.1 Categoría Cliente  \\\n",
       "237526  76861617  Clásico  Cobertura Pequeno SD     Emprendedores   \n",
       "237527  76861617  Clásico  Cobertura Pequeno SD     Emprendedores   \n",
       "\n",
       "       Año Creación Material Favorito Frecuencia Historica Mes_num  Recency  \\\n",
       "237526         2020           1020253                    7       2   0 days   \n",
       "237527         2020           1020253                    7       3  49 days   \n",
       "\n",
       "        Recency días  \n",
       "237526             0  \n",
       "237527            49  "
      ]
     },
     "execution_count": 49,
     "metadata": {},
     "output_type": "execute_result"
    }
   ],
   "source": [
    "df[df.Cliente=='76861617']"
   ]
  },
  {
   "cell_type": "code",
   "execution_count": 50,
   "id": "370d0c9d",
   "metadata": {
    "hidden": true
   },
   "outputs": [
    {
     "data": {
      "text/html": [
       "<div>\n",
       "<style scoped>\n",
       "    .dataframe tbody tr th:only-of-type {\n",
       "        vertical-align: middle;\n",
       "    }\n",
       "\n",
       "    .dataframe tbody tr th {\n",
       "        vertical-align: top;\n",
       "    }\n",
       "\n",
       "    .dataframe thead th {\n",
       "        text-align: right;\n",
       "    }\n",
       "</style>\n",
       "<table border=\"1\" class=\"dataframe\">\n",
       "  <thead>\n",
       "    <tr style=\"text-align: right;\">\n",
       "      <th></th>\n",
       "      <th>Material (Nombre)</th>\n",
       "      <th>Kilos Venta KG</th>\n",
       "      <th>Precio</th>\n",
       "      <th>Día natural</th>\n",
       "      <th>Día Semana</th>\n",
       "      <th>Semana</th>\n",
       "      <th>Mes</th>\n",
       "      <th>Año</th>\n",
       "      <th>Población</th>\n",
       "      <th>Centro</th>\n",
       "      <th>Cliente</th>\n",
       "      <th>Cluster</th>\n",
       "      <th>Segmento.1</th>\n",
       "      <th>Categoría Cliente</th>\n",
       "      <th>Año Creación</th>\n",
       "      <th>Material Favorito</th>\n",
       "      <th>Frecuencia Historica</th>\n",
       "      <th>Mes_num</th>\n",
       "      <th>Recency</th>\n",
       "      <th>Recency días</th>\n",
       "    </tr>\n",
       "  </thead>\n",
       "  <tbody>\n",
       "    <tr>\n",
       "      <th>237526</th>\n",
       "      <td>1010078(Trutro Entero Selección)</td>\n",
       "      <td>22</td>\n",
       "      <td>1150</td>\n",
       "      <td>2020-02-08</td>\n",
       "      <td>Sábado</td>\n",
       "      <td>6</td>\n",
       "      <td>Febrero</td>\n",
       "      <td>2020</td>\n",
       "      <td>Las Condes</td>\n",
       "      <td>Sucursal Huechuraba</td>\n",
       "      <td>76861617</td>\n",
       "      <td>Clásico</td>\n",
       "      <td>Cobertura Pequeno SD</td>\n",
       "      <td>Emprendedores</td>\n",
       "      <td>2020</td>\n",
       "      <td>1020253</td>\n",
       "      <td>7</td>\n",
       "      <td>2</td>\n",
       "      <td>0 days</td>\n",
       "      <td>0</td>\n",
       "    </tr>\n",
       "    <tr>\n",
       "      <th>237527</th>\n",
       "      <td>1010078(Trutro Entero Selección)</td>\n",
       "      <td>44</td>\n",
       "      <td>1338</td>\n",
       "      <td>2020-03-28</td>\n",
       "      <td>Sábado</td>\n",
       "      <td>13</td>\n",
       "      <td>Marzo</td>\n",
       "      <td>2020</td>\n",
       "      <td>Las Condes</td>\n",
       "      <td>Sucursal Huechuraba</td>\n",
       "      <td>76861617</td>\n",
       "      <td>Clásico</td>\n",
       "      <td>Cobertura Pequeno SD</td>\n",
       "      <td>Emprendedores</td>\n",
       "      <td>2020</td>\n",
       "      <td>1020253</td>\n",
       "      <td>7</td>\n",
       "      <td>3</td>\n",
       "      <td>49 days</td>\n",
       "      <td>49</td>\n",
       "    </tr>\n",
       "  </tbody>\n",
       "</table>\n",
       "</div>"
      ],
      "text/plain": [
       "                       Material (Nombre)  Kilos Venta KG  Precio Día natural  \\\n",
       "237526  1010078(Trutro Entero Selección)              22    1150  2020-02-08   \n",
       "237527  1010078(Trutro Entero Selección)              44    1338  2020-03-28   \n",
       "\n",
       "       Día Semana Semana      Mes   Año   Población               Centro  \\\n",
       "237526     Sábado      6  Febrero  2020  Las Condes  Sucursal Huechuraba   \n",
       "237527     Sábado     13    Marzo  2020  Las Condes  Sucursal Huechuraba   \n",
       "\n",
       "         Cliente  Cluster            Segmento.1 Categoría Cliente  \\\n",
       "237526  76861617  Clásico  Cobertura Pequeno SD     Emprendedores   \n",
       "237527  76861617  Clásico  Cobertura Pequeno SD     Emprendedores   \n",
       "\n",
       "       Año Creación Material Favorito Frecuencia Historica Mes_num  Recency  \\\n",
       "237526         2020           1020253                    7       2   0 days   \n",
       "237527         2020           1020253                    7       3  49 days   \n",
       "\n",
       "        Recency días  \n",
       "237526             0  \n",
       "237527            49  "
      ]
     },
     "execution_count": 50,
     "metadata": {},
     "output_type": "execute_result"
    }
   ],
   "source": [
    "data_i_R[data_i_R.Cliente=='76861617']"
   ]
  },
  {
   "cell_type": "code",
   "execution_count": 51,
   "id": "67cbec5b",
   "metadata": {
    "hidden": true
   },
   "outputs": [
    {
     "data": {
      "text/html": [
       "<div>\n",
       "<style scoped>\n",
       "    .dataframe tbody tr th:only-of-type {\n",
       "        vertical-align: middle;\n",
       "    }\n",
       "\n",
       "    .dataframe tbody tr th {\n",
       "        vertical-align: top;\n",
       "    }\n",
       "\n",
       "    .dataframe thead th {\n",
       "        text-align: right;\n",
       "    }\n",
       "</style>\n",
       "<table border=\"1\" class=\"dataframe\">\n",
       "  <thead>\n",
       "    <tr style=\"text-align: right;\">\n",
       "      <th></th>\n",
       "      <th>Material (Nombre)</th>\n",
       "      <th>Kilos Venta KG</th>\n",
       "      <th>Precio</th>\n",
       "      <th>Cliente</th>\n",
       "      <th>Día natural</th>\n",
       "    </tr>\n",
       "  </thead>\n",
       "  <tbody>\n",
       "    <tr>\n",
       "      <th>506488</th>\n",
       "      <td>1020253(Pierna Pulpa 57)</td>\n",
       "      <td>22</td>\n",
       "      <td>2900</td>\n",
       "      <td>76861617</td>\n",
       "      <td>2021-03-20</td>\n",
       "    </tr>\n",
       "    <tr>\n",
       "      <th>631841</th>\n",
       "      <td>1020010(Pierna Pulpa 59)</td>\n",
       "      <td>87</td>\n",
       "      <td>1950</td>\n",
       "      <td>76861617</td>\n",
       "      <td>2021-08-21</td>\n",
       "    </tr>\n",
       "    <tr>\n",
       "      <th>843943</th>\n",
       "      <td>1010002(Con Menudencia &gt;2.130)</td>\n",
       "      <td>16</td>\n",
       "      <td>1390</td>\n",
       "      <td>76861617</td>\n",
       "      <td>2021-04-10</td>\n",
       "    </tr>\n",
       "  </tbody>\n",
       "</table>\n",
       "</div>"
      ],
      "text/plain": [
       "                     Material (Nombre)  Kilos Venta KG  Precio   Cliente  \\\n",
       "506488        1020253(Pierna Pulpa 57)              22    2900  76861617   \n",
       "631841        1020010(Pierna Pulpa 59)              87    1950  76861617   \n",
       "843943  1010002(Con Menudencia >2.130)              16    1390  76861617   \n",
       "\n",
       "       Día natural  \n",
       "506488  2021-03-20  \n",
       "631841  2021-08-21  \n",
       "843943  2021-04-10  "
      ]
     },
     "execution_count": 51,
     "metadata": {},
     "output_type": "execute_result"
    }
   ],
   "source": [
    "data[(data.Cliente=='76861617')&(data.Año==2021)][Dic_col['Base']+['Día natural']]"
   ]
  },
  {
   "cell_type": "markdown",
   "id": "2a1e339a",
   "metadata": {
    "heading_collapsed": true,
    "hidden": true
   },
   "source": [
    "###### otro "
   ]
  },
  {
   "cell_type": "code",
   "execution_count": 52,
   "id": "37b61a57",
   "metadata": {
    "hidden": true,
    "scrolled": true
   },
   "outputs": [
    {
     "data": {
      "text/html": [
       "<div>\n",
       "<style scoped>\n",
       "    .dataframe tbody tr th:only-of-type {\n",
       "        vertical-align: middle;\n",
       "    }\n",
       "\n",
       "    .dataframe tbody tr th {\n",
       "        vertical-align: top;\n",
       "    }\n",
       "\n",
       "    .dataframe thead th {\n",
       "        text-align: right;\n",
       "    }\n",
       "</style>\n",
       "<table border=\"1\" class=\"dataframe\">\n",
       "  <thead>\n",
       "    <tr style=\"text-align: right;\">\n",
       "      <th></th>\n",
       "      <th>Cliente</th>\n",
       "      <th>Día natural</th>\n",
       "    </tr>\n",
       "  </thead>\n",
       "  <tbody>\n",
       "    <tr>\n",
       "      <th>0</th>\n",
       "      <td>10537676</td>\n",
       "      <td>2021-05-10</td>\n",
       "    </tr>\n",
       "    <tr>\n",
       "      <th>1</th>\n",
       "      <td>11263733</td>\n",
       "      <td>2021-10-23</td>\n",
       "    </tr>\n",
       "    <tr>\n",
       "      <th>2</th>\n",
       "      <td>11437928</td>\n",
       "      <td>2021-09-01</td>\n",
       "    </tr>\n",
       "    <tr>\n",
       "      <th>3</th>\n",
       "      <td>11566484</td>\n",
       "      <td>2021-08-23</td>\n",
       "    </tr>\n",
       "    <tr>\n",
       "      <th>4</th>\n",
       "      <td>11862820</td>\n",
       "      <td>2020-09-12</td>\n",
       "    </tr>\n",
       "  </tbody>\n",
       "</table>\n",
       "</div>"
      ],
      "text/plain": [
       "    Cliente Día natural\n",
       "0  10537676  2021-05-10\n",
       "1  11263733  2021-10-23\n",
       "2  11437928  2021-09-01\n",
       "3  11566484  2021-08-23\n",
       "4  11862820  2020-09-12"
      ]
     },
     "execution_count": 52,
     "metadata": {},
     "output_type": "execute_result"
    }
   ],
   "source": [
    "df[['Cliente','Día natural']].groupby('Cliente').max().reset_index().head()"
   ]
  },
  {
   "cell_type": "code",
   "execution_count": 53,
   "id": "d30b663b",
   "metadata": {
    "hidden": true,
    "scrolled": true
   },
   "outputs": [
    {
     "data": {
      "text/html": [
       "<div>\n",
       "<style scoped>\n",
       "    .dataframe tbody tr th:only-of-type {\n",
       "        vertical-align: middle;\n",
       "    }\n",
       "\n",
       "    .dataframe tbody tr th {\n",
       "        vertical-align: top;\n",
       "    }\n",
       "\n",
       "    .dataframe thead tr th {\n",
       "        text-align: left;\n",
       "    }\n",
       "\n",
       "    .dataframe thead tr:last-of-type th {\n",
       "        text-align: right;\n",
       "    }\n",
       "</style>\n",
       "<table border=\"1\" class=\"dataframe\">\n",
       "  <thead>\n",
       "    <tr>\n",
       "      <th></th>\n",
       "      <th colspan=\"8\" halign=\"left\">Recency días</th>\n",
       "    </tr>\n",
       "    <tr>\n",
       "      <th></th>\n",
       "      <th>count</th>\n",
       "      <th>mean</th>\n",
       "      <th>std</th>\n",
       "      <th>min</th>\n",
       "      <th>25%</th>\n",
       "      <th>50%</th>\n",
       "      <th>75%</th>\n",
       "      <th>max</th>\n",
       "    </tr>\n",
       "    <tr>\n",
       "      <th>Cliente</th>\n",
       "      <th></th>\n",
       "      <th></th>\n",
       "      <th></th>\n",
       "      <th></th>\n",
       "      <th></th>\n",
       "      <th></th>\n",
       "      <th></th>\n",
       "      <th></th>\n",
       "    </tr>\n",
       "  </thead>\n",
       "  <tbody>\n",
       "    <tr>\n",
       "      <th>10003742</th>\n",
       "      <td>1.0</td>\n",
       "      <td>0.000000</td>\n",
       "      <td>NaN</td>\n",
       "      <td>0.0</td>\n",
       "      <td>0.0</td>\n",
       "      <td>0.0</td>\n",
       "      <td>0.00</td>\n",
       "      <td>0.0</td>\n",
       "    </tr>\n",
       "    <tr>\n",
       "      <th>10007508</th>\n",
       "      <td>208.0</td>\n",
       "      <td>6.418269</td>\n",
       "      <td>7.085609</td>\n",
       "      <td>0.0</td>\n",
       "      <td>2.0</td>\n",
       "      <td>5.0</td>\n",
       "      <td>7.00</td>\n",
       "      <td>42.0</td>\n",
       "    </tr>\n",
       "    <tr>\n",
       "      <th>10017269</th>\n",
       "      <td>78.0</td>\n",
       "      <td>17.500000</td>\n",
       "      <td>8.773854</td>\n",
       "      <td>0.0</td>\n",
       "      <td>14.0</td>\n",
       "      <td>14.0</td>\n",
       "      <td>21.00</td>\n",
       "      <td>49.0</td>\n",
       "    </tr>\n",
       "    <tr>\n",
       "      <th>10023880</th>\n",
       "      <td>20.0</td>\n",
       "      <td>49.300000</td>\n",
       "      <td>82.268559</td>\n",
       "      <td>0.0</td>\n",
       "      <td>7.0</td>\n",
       "      <td>22.5</td>\n",
       "      <td>57.75</td>\n",
       "      <td>357.0</td>\n",
       "    </tr>\n",
       "    <tr>\n",
       "      <th>10028999</th>\n",
       "      <td>13.0</td>\n",
       "      <td>53.000000</td>\n",
       "      <td>33.266600</td>\n",
       "      <td>0.0</td>\n",
       "      <td>35.0</td>\n",
       "      <td>49.0</td>\n",
       "      <td>63.00</td>\n",
       "      <td>136.0</td>\n",
       "    </tr>\n",
       "    <tr>\n",
       "      <th>...</th>\n",
       "      <td>...</td>\n",
       "      <td>...</td>\n",
       "      <td>...</td>\n",
       "      <td>...</td>\n",
       "      <td>...</td>\n",
       "      <td>...</td>\n",
       "      <td>...</td>\n",
       "      <td>...</td>\n",
       "    </tr>\n",
       "    <tr>\n",
       "      <th>9992154</th>\n",
       "      <td>70.0</td>\n",
       "      <td>15.000000</td>\n",
       "      <td>20.255613</td>\n",
       "      <td>0.0</td>\n",
       "      <td>5.0</td>\n",
       "      <td>7.0</td>\n",
       "      <td>17.75</td>\n",
       "      <td>112.0</td>\n",
       "    </tr>\n",
       "    <tr>\n",
       "      <th>9993925</th>\n",
       "      <td>543.0</td>\n",
       "      <td>2.565378</td>\n",
       "      <td>1.298189</td>\n",
       "      <td>0.0</td>\n",
       "      <td>2.0</td>\n",
       "      <td>2.0</td>\n",
       "      <td>3.00</td>\n",
       "      <td>14.0</td>\n",
       "    </tr>\n",
       "    <tr>\n",
       "      <th>9994662</th>\n",
       "      <td>11.0</td>\n",
       "      <td>55.636364</td>\n",
       "      <td>44.913857</td>\n",
       "      <td>0.0</td>\n",
       "      <td>24.0</td>\n",
       "      <td>39.0</td>\n",
       "      <td>80.50</td>\n",
       "      <td>157.0</td>\n",
       "    </tr>\n",
       "    <tr>\n",
       "      <th>9994800</th>\n",
       "      <td>3.0</td>\n",
       "      <td>65.333333</td>\n",
       "      <td>95.552778</td>\n",
       "      <td>0.0</td>\n",
       "      <td>10.5</td>\n",
       "      <td>21.0</td>\n",
       "      <td>98.00</td>\n",
       "      <td>175.0</td>\n",
       "    </tr>\n",
       "    <tr>\n",
       "      <th>9997223</th>\n",
       "      <td>1.0</td>\n",
       "      <td>0.000000</td>\n",
       "      <td>NaN</td>\n",
       "      <td>0.0</td>\n",
       "      <td>0.0</td>\n",
       "      <td>0.0</td>\n",
       "      <td>0.00</td>\n",
       "      <td>0.0</td>\n",
       "    </tr>\n",
       "  </tbody>\n",
       "</table>\n",
       "<p>5073 rows × 8 columns</p>\n",
       "</div>"
      ],
      "text/plain": [
       "         Recency días                                                     \n",
       "                count       mean        std  min   25%   50%    75%    max\n",
       "Cliente                                                                   \n",
       "10003742          1.0   0.000000        NaN  0.0   0.0   0.0   0.00    0.0\n",
       "10007508        208.0   6.418269   7.085609  0.0   2.0   5.0   7.00   42.0\n",
       "10017269         78.0  17.500000   8.773854  0.0  14.0  14.0  21.00   49.0\n",
       "10023880         20.0  49.300000  82.268559  0.0   7.0  22.5  57.75  357.0\n",
       "10028999         13.0  53.000000  33.266600  0.0  35.0  49.0  63.00  136.0\n",
       "...               ...        ...        ...  ...   ...   ...    ...    ...\n",
       "9992154          70.0  15.000000  20.255613  0.0   5.0   7.0  17.75  112.0\n",
       "9993925         543.0   2.565378   1.298189  0.0   2.0   2.0   3.00   14.0\n",
       "9994662          11.0  55.636364  44.913857  0.0  24.0  39.0  80.50  157.0\n",
       "9994800           3.0  65.333333  95.552778  0.0  10.5  21.0  98.00  175.0\n",
       "9997223           1.0   0.000000        NaN  0.0   0.0   0.0   0.00    0.0\n",
       "\n",
       "[5073 rows x 8 columns]"
      ]
     },
     "execution_count": 53,
     "metadata": {},
     "output_type": "execute_result"
    }
   ],
   "source": [
    "df_G=data_i_R[['Cliente','Recency días']].groupby('Cliente').describe()\n",
    "df_G"
   ]
  }
 ],
 "metadata": {
  "celltoolbar": "Raw Cell Format",
  "kernelspec": {
   "display_name": "Python 3",
   "language": "python",
   "name": "python3"
  },
  "language_info": {
   "codemirror_mode": {
    "name": "ipython",
    "version": 3
   },
   "file_extension": ".py",
   "mimetype": "text/x-python",
   "name": "python",
   "nbconvert_exporter": "python",
   "pygments_lexer": "ipython3",
   "version": "3.8.5"
  },
  "toc": {
   "base_numbering": 1,
   "nav_menu": {
    "height": "89px",
    "width": "334px"
   },
   "number_sections": true,
   "sideBar": true,
   "skip_h1_title": false,
   "title_cell": "Table of Contents",
   "title_sidebar": "Contents",
   "toc_cell": false,
   "toc_position": {
    "height": "calc(100% - 180px)",
    "left": "10px",
    "top": "150px",
    "width": "243.525px"
   },
   "toc_section_display": true,
   "toc_window_display": true
  }
 },
 "nbformat": 4,
 "nbformat_minor": 5
}
