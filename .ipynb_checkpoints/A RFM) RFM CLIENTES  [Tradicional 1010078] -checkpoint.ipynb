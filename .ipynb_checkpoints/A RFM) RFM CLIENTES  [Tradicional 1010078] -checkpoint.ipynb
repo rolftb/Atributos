{
 "cells": [
  {
   "cell_type": "markdown",
   "id": "580b8db5",
   "metadata": {},
   "source": [
    "Notas:\n",
    "--------\n",
    "\n",
    "   - [x] __Construir la variable Recency.__\n",
    "        - [x] Sección para caso pequeño\n",
    "        - [x] Función para estadnarizar\n",
    "        - [x] Probar esta función\n",
    "        - [x] Implementar\n",
    "   - [ ] __Contruir Frecuency__\n",
    "        - [ ] Sección para caso pequeño\n",
    "        - [ ] Función para estadnarizar\n",
    "        - [ ] Probar esta función\n",
    "        - [ ] Implementar\n",
    "   - [ ] __Construir Monetary__\n",
    "        - [ ] Sección para caso pequeño\n",
    "        - [ ] Función para estadnarizar\n",
    "        - [ ] Probar esta función\n",
    "        - [ ] Implementar   "
   ]
  },
  {
   "cell_type": "code",
   "execution_count": 1,
   "id": "57c1f8e0",
   "metadata": {},
   "outputs": [],
   "source": [
    "#!jt -l\n",
    "# !jt -t oceans16 -T\n",
    "# !jt -r"
   ]
  },
  {
   "cell_type": "markdown",
   "id": "48cc505f",
   "metadata": {},
   "source": [
    "# Inicio\n"
   ]
  },
  {
   "cell_type": "markdown",
   "id": "7c2a8234",
   "metadata": {},
   "source": [
    "\n",
    "__Rename__\n",
    "Recordar que la columna llamada\n",
    "\n",
    "- `Precio promedio` ahora es `Precio`\n",
    "- `Centro.1` ahora es `Centro`\n",
    "- `Centro` ahora es `Centro_Cod`\n",
    "\n",
    "Presenta los parametros del modelo:\n",
    "\n",
    "- Dirección datos\n",
    "- Dirección Graficos\n",
    "- _Material a analizar_\n",
    "- _Canal a analizar_\n",
    "- _Zona de los Datos_\n",
    "- _Año de inicio de analizis_\n",
    "\n",
    "Base de datos\n",
    "\n",
    "\n",
    "`Tipo_de_Cliente`\n",
    "`Y_producto`\n",
    "`Año_inicio`\n",
    "\n",
    "`file_direct_Graphic` "
   ]
  },
  {
   "cell_type": "markdown",
   "id": "8bad43fc",
   "metadata": {},
   "source": [
    "## Parametros "
   ]
  },
  {
   "cell_type": "code",
   "execution_count": 2,
   "id": "a0737e98",
   "metadata": {},
   "outputs": [],
   "source": [
    "#===================================\n",
    "# Archivo\n",
    "#===================================\n",
    "Zona_df='Z001'\n",
    "\n",
    "#===================================\n",
    "# Clientes\n",
    "#===================================\n",
    "Tipo_de_Cliente='Tradicional'\n",
    "\n",
    "#===================================\n",
    "# Producto de interes\n",
    "#===================================\n",
    "Y_producto='1010078'\n",
    "\n",
    "\n",
    "#===================================\n",
    "# Año de Partida\n",
    "#===================================\n",
    "Año_inicio='2018'\n",
    "\n",
    "\n",
    "\n",
    "\n",
    "# Ordenador de escritorio\n",
    "\n",
    "file_direct_O=\"C:/Users/user/Documents/Data/Data Clear/\"+Zona_df+\"/\"\n",
    "file_direct_Clear=\"C:/Users/user/Documents/Data/Data Clear/\"\n",
    "file_direct_Graphic='C:/Users/user/Documents/Graficos'\n",
    "Png_file_direct_Graphic=\"C:\\\\Users\\\\user\\\\Documents\\\\Graficos\"\n",
    "\"\"\"\n",
    "\n",
    "#Notebook\n",
    "file_direct_O=\"C:/Users/rolft/Documents/Repositorios/Data/Data Clear/\"+Zona_df+\"/\"\n",
    "file_direct_Clear=\"C:/Users/rolft/Documents/Repositorios/Data/Data Clear/\"\n",
    "file_direct_Graphic='C:/Users/rolft/Documents/Repositorios/Graficos'\n",
    "Png_file_direct_Graphic='C:\\\\Users\\\\rolft\\\\Documents\\\\Repositorios\\\\Graficos'\n",
    "\"\"\"\n",
    "#Graficos\n",
    "file_direct_Graphic_Canal=file_direct_Graphic+\"/\"+Tipo_de_Cliente\n",
    "file_direct_Graphic_Canal_Material=file_direct_Graphic_Canal+'/'+Y_producto\n",
    "\n",
    "Png_file_direct_Graphic_Canal=Png_file_direct_Graphic+'\\\\'+'Canal '+Tipo_de_Cliente\n",
    "Png_file_direct_Graphic_Canal_Material=Png_file_direct_Graphic_Canal+'\\\\'+Y_producto\n"
   ]
  },
  {
   "cell_type": "markdown",
   "id": "f80e374d",
   "metadata": {
    "heading_collapsed": true
   },
   "source": [
    "## Intalar paquetes, Abrir data y ajustarla "
   ]
  },
  {
   "cell_type": "markdown",
   "id": "6a7c4706",
   "metadata": {
    "hidden": true
   },
   "source": [
    "### import"
   ]
  },
  {
   "cell_type": "code",
   "execution_count": 3,
   "id": "faaa036d",
   "metadata": {
    "hidden": true,
    "scrolled": true
   },
   "outputs": [],
   "source": [
    "#from adjustText import adjust_text\n",
    "# from adjustText import *"
   ]
  },
  {
   "cell_type": "code",
   "execution_count": 4,
   "id": "0ea91ad7",
   "metadata": {
    "hidden": true
   },
   "outputs": [],
   "source": [
    "#=====================================================\n",
    "                # BASE \n",
    "#-----------------------------------------------------\n",
    "import pandas as pd\n",
    "import numpy as np\n",
    "import matplotlib.pyplot as plt\n",
    "\n",
    "#from geopandas import *\n",
    "\n",
    "from plotnine import *\n",
    "\n",
    "#para ajustar las fechas\n",
    "import datetime\n",
    "\n",
    "#para calcular el skew de un array() o list()\n",
    "from scipy.stats import skew "
   ]
  },
  {
   "cell_type": "code",
   "execution_count": 5,
   "id": "8916d4cd",
   "metadata": {
    "hidden": true
   },
   "outputs": [],
   "source": [
    "#=====================================================\n",
    "                # sklearn \n",
    "#-----------------------------------------------------\n",
    "\n",
    "#Separador de datos en train/test\n",
    "from sklearn.model_selection import train_test_split\n",
    "\n",
    "#Prediccion Ridge Regression\n",
    "from sklearn.linear_model import Ridge"
   ]
  },
  {
   "cell_type": "code",
   "execution_count": 6,
   "id": "8d82be85",
   "metadata": {
    "hidden": true
   },
   "outputs": [],
   "source": [
    "#=====================================================\n",
    "                # statsmodels \n",
    "#-----------------------------------------------------\n",
    "import statsmodels.api as sm\n",
    "import statsmodels.formula.api as smf\n",
    "from statsmodels.tools.sm_exceptions import ConvergenceWarning\n",
    "\n",
    "\n",
    "#from statsmodels.regression.mixed_linear_model import MixedLMResults\n",
    "# No se para qué sirve este"
   ]
  },
  {
   "cell_type": "code",
   "execution_count": 7,
   "id": "734ff701",
   "metadata": {
    "hidden": true
   },
   "outputs": [],
   "source": [
    "#====================================================\n",
    "#librerias para crear division de series temporales\n",
    "#====================================================\n",
    "\n",
    "from mizani.breaks import date_breaks\n",
    "from mizani.formatters import date_format"
   ]
  },
  {
   "cell_type": "code",
   "execution_count": 8,
   "id": "34160d20",
   "metadata": {
    "hidden": true
   },
   "outputs": [],
   "source": [
    "# stopwatch\n",
    "import time\n",
    "def time_convert(sec):\n",
    "  mins = sec // 60\n",
    "  sec = sec % 60\n",
    "  hours = mins // 60\n",
    "  mins = mins % 60\n",
    "  print(\"Time Lapsed = {0}:{1}:{2}\".format(int(hours),int(mins),sec),'\\n H:m:s')\n",
    "#==================================\n",
    "#          Example\n",
    "#    input(\"Press Enter to start\")\n",
    "start_time = time.time()\n",
    "#    input(\"Press Enter to stop\")\n",
    "#    end_time = time.time()\n",
    "#    time_lapsed = end_time - start_time\n",
    "#    time_convert(time_lapsed)\n",
    "#================================="
   ]
  },
  {
   "cell_type": "markdown",
   "id": "0e0194b5",
   "metadata": {
    "heading_collapsed": true,
    "hidden": true
   },
   "source": [
    "### Funciones \n",
    "```python\n",
    "#Mes_name\n",
    "data_i.Mes.apply(Mes_name)\n",
    "```\n",
    ">Transforma la columna mes numerica en el nombre del mes"
   ]
  },
  {
   "cell_type": "markdown",
   "id": "76bc8afd",
   "metadata": {
    "hidden": true
   },
   "source": [
    "__Forma de crear una etiqueta para un valor especifico__\n",
    "```python\n",
    "#[Y_Graph]\n",
    "dfz=df.copy()\n",
    "dfz['Año select']=dfz.apply( lambda x: x['Año'] if x['Año']==2020 else '',axis=1)\n",
    "dfz\n",
    "```"
   ]
  },
  {
   "cell_type": "code",
   "execution_count": 9,
   "id": "ad8627c9",
   "metadata": {
    "hidden": true
   },
   "outputs": [],
   "source": [
    "#===================================\n",
    "# Dicionario MES\n",
    "#===================================\n",
    "\n",
    "#===================================\n",
    "# Fecha\n",
    "D=['Enero','Febrero','Marzo','Abril',\n",
    " 'Mayo','Junio','Julio','Agosto',\n",
    " 'Septiembre','Octubre',\n",
    " 'Noviembre','Diciembre']\n",
    "Month_dic={i:D[i-1]  for i in range(1,13)}\n",
    "#===========================================\n",
    "\n",
    "\n",
    "def Mes_name(x):\n",
    "    D=['Enero','Febrero','Marzo','Abril',\n",
    "    'Mayo','Junio','Julio','Agosto',\n",
    "    'Septiembre','Octubre',\n",
    "    'Noviembre','Diciembre']\n",
    "    return(D[int(x)-1])"
   ]
  },
  {
   "cell_type": "markdown",
   "id": "b8b67d6b",
   "metadata": {},
   "source": [
    "## Datos  \n",
    "Se cargan los datos de\n",
    "Ventas y la defincion de los productos\n",
    "Ventas está en `data_v` y despues pasa a ser `data`\n",
    "\n",
    "Productos estan cargados en `DF_products`\n"
   ]
  },
  {
   "cell_type": "markdown",
   "id": "7b6b6d72",
   "metadata": {},
   "source": [
    "###  DF_FULL"
   ]
  },
  {
   "cell_type": "markdown",
   "id": "53e5214b",
   "metadata": {},
   "source": [
    "##### Abrir Archivo  "
   ]
  },
  {
   "cell_type": "code",
   "execution_count": 10,
   "id": "d3f89b2c",
   "metadata": {},
   "outputs": [
    {
     "data": {
      "text/html": [
       "<div>\n",
       "<style scoped>\n",
       "    .dataframe tbody tr th:only-of-type {\n",
       "        vertical-align: middle;\n",
       "    }\n",
       "\n",
       "    .dataframe tbody tr th {\n",
       "        vertical-align: top;\n",
       "    }\n",
       "\n",
       "    .dataframe thead th {\n",
       "        text-align: right;\n",
       "    }\n",
       "</style>\n",
       "<table border=\"1\" class=\"dataframe\">\n",
       "  <thead>\n",
       "    <tr style=\"text-align: right;\">\n",
       "      <th></th>\n",
       "      <th>Zona de ventas</th>\n",
       "      <th>Zona de ventas.1</th>\n",
       "      <th>Cliente</th>\n",
       "      <th>Cliente.1</th>\n",
       "      <th>Cliente - Local</th>\n",
       "      <th>Cliente - Local.1</th>\n",
       "      <th>Material</th>\n",
       "      <th>Día natural</th>\n",
       "      <th>Kilos Venta KG</th>\n",
       "      <th>Venta Neta</th>\n",
       "      <th>...</th>\n",
       "      <th>Tipo de material.1</th>\n",
       "      <th>Marca</th>\n",
       "      <th>Nivel 2</th>\n",
       "      <th>Granel/Envasado</th>\n",
       "      <th>Marinado</th>\n",
       "      <th>Nivel 3</th>\n",
       "      <th>Grupo artículos</th>\n",
       "      <th>Estado</th>\n",
       "      <th>Estandar</th>\n",
       "      <th>Envase</th>\n",
       "    </tr>\n",
       "  </thead>\n",
       "  <tbody>\n",
       "    <tr>\n",
       "      <th>0</th>\n",
       "      <td>Z001</td>\n",
       "      <td>Santiago</td>\n",
       "      <td>10003742</td>\n",
       "      <td>Ferrer Leiva Sonia</td>\n",
       "      <td>Ferrer Leiva Sonia</td>\n",
       "      <td>38458</td>\n",
       "      <td>1010077</td>\n",
       "      <td>2018-02-09</td>\n",
       "      <td>12.0</td>\n",
       "      <td>13685.0</td>\n",
       "      <td>...</td>\n",
       "      <td>Prod. Term.  Ave</td>\n",
       "      <td>SUPER POLLO (SP)</td>\n",
       "      <td>Trutro</td>\n",
       "      <td>GRANEL</td>\n",
       "      <td>MARINADO</td>\n",
       "      <td>Trutro Entero</td>\n",
       "      <td>01050</td>\n",
       "      <td>REFRIGERADO</td>\n",
       "      <td>PESO VARIABLE</td>\n",
       "      <td>NO CONGELADO</td>\n",
       "    </tr>\n",
       "  </tbody>\n",
       "</table>\n",
       "<p>1 rows × 40 columns</p>\n",
       "</div>"
      ],
      "text/plain": [
       "  Zona de ventas Zona de ventas.1   Cliente           Cliente.1  \\\n",
       "0           Z001         Santiago  10003742  Ferrer Leiva Sonia   \n",
       "\n",
       "      Cliente - Local Cliente - Local.1 Material Día natural Kilos Venta KG  \\\n",
       "0  Ferrer Leiva Sonia             38458  1010077  2018-02-09           12.0   \n",
       "\n",
       "  Venta Neta  ... Tipo de material.1             Marca Nivel 2  \\\n",
       "0    13685.0  ...   Prod. Term.  Ave  SUPER POLLO (SP)  Trutro   \n",
       "\n",
       "  Granel/Envasado  Marinado        Nivel 3 Grupo artículos       Estado  \\\n",
       "0          GRANEL  MARINADO  Trutro Entero           01050  REFRIGERADO   \n",
       "\n",
       "        Estandar        Envase  \n",
       "0  PESO VARIABLE  NO CONGELADO  \n",
       "\n",
       "[1 rows x 40 columns]"
      ]
     },
     "execution_count": 10,
     "metadata": {},
     "output_type": "execute_result"
    }
   ],
   "source": [
    "#======================================================================\n",
    "# Se Cargan los datos de ventas con las caracteristicas de los clientes\n",
    "#=====================================================================\n",
    "\n",
    "file_direct=file_direct_O+'Ventas_Full'+'.csv'\n",
    "col_names=pd.read_csv(file_direct,\n",
    "                      encoding=\"utf-8\",sep=\";\",nrows=0).columns\n",
    "\n",
    "types_dict = {col: str for col in list(col_names)}\n",
    "\n",
    "DF_FULL = pd.read_csv(file_direct,\n",
    "                   encoding=\"utf-8\",sep=\";\",dtype=types_dict)\n",
    "#elimina una columna en especifico\n",
    "#DF_FULL.drop('Año natural', inplace=True, axis=1)\n",
    "DF_FULL.head(1)"
   ]
  },
  {
   "cell_type": "markdown",
   "id": "50978acc",
   "metadata": {},
   "source": [
    "#### Funcion"
   ]
  },
  {
   "cell_type": "code",
   "execution_count": 62,
   "id": "42bd39bd",
   "metadata": {
    "scrolled": true
   },
   "outputs": [],
   "source": [
    "def rename_group(df_promedio):\n",
    "    \"\"\"\n",
    "    df_promedio dataframe que se agrga al texto\n",
    "    de cada columna que sea tipo\n",
    "    float o int 64 la palabra ' Promedio'\n",
    "    \"\"\"\n",
    "    \n",
    "    \n",
    "    df_G=df_promedio.copy()\n",
    "\n",
    "    #creo df de las columnas y su type\n",
    "    types_columns=df_G.dtypes.reset_index()\n",
    "    \n",
    "    types_columns=types_columns.rename(columns={\n",
    "        types_columns.columns[1]:'Tipo'\n",
    "        ,types_columns.columns[0]:'Columna'\n",
    "    })\n",
    "    \n",
    "    types_columns=(types_columns[(types_columns['Tipo']=='float64')|\n",
    "        (types_columns['Tipo']=='int64')])\n",
    "    \n",
    "    List_Rename=types_columns['Columna'].to_list()\n",
    "    \n",
    "    for i in List_Rename:\n",
    "        s=i+' Promedio'\n",
    "        print(i,'=>',s)\n",
    "        df_G=df_G.rename(columns={i:s})\n",
    "        #print(df_G.columns)\n",
    "    return(df_G)"
   ]
  },
  {
   "cell_type": "code",
   "execution_count": 11,
   "id": "d97d256e",
   "metadata": {},
   "outputs": [],
   "source": [
    "# =============================================================================\n",
    "# Ajustar la data\n",
    "# =============================================================================\n",
    "def Ajuste_data(data):\n",
    "    start_time = time.time()\n",
    "\n",
    "    df=data.copy()\n",
    "\n",
    "# =================================\n",
    "# ELiminare dodos los valores Nan\n",
    "# =================================\n",
    "    #for i in df.columns.to_list():\n",
    "    #    df=df[df[i].notna()]\n",
    "\n",
    "#=================================\n",
    "# Proceso iterativo Pasar a numero\n",
    "#=================================\n",
    "\n",
    "    for i in ['Kilos Venta KG','Venta Neta','Precio Promedio']:\n",
    "        df[i]=df[i].astype('float64').astype('int64')\n",
    "        \n",
    "#=================================\n",
    "# Agregar nombre al codigo del producto\n",
    "#=================================\n",
    "    def material_name(x):\n",
    "        s1=str(x['Material'])\n",
    "        s2=str(x['Nivel 4.1'])\n",
    "        return(s1+'('+s2+')')\n",
    "    df['Material (Nombre)']=df.apply(lambda x:  material_name(x), axis=1)\n",
    "    \n",
    "\n",
    "\n",
    "#==========================================================================================\n",
    "# Ajuste de las fechas\n",
    "#-----------------------------------------------------------------------------------------\n",
    "    df[\"Día natural\"] = df[\"Día natural\"].apply(lambda x: \n",
    "                                                datetime.datetime.strptime(str(x),\n",
    "                                                                           '%Y-%m-%d').date())\n",
    "    \n",
    "    #Separacion fecha\n",
    "    \n",
    "    #df['Semana']=df[\"Día natural\"].apply(lambda x: x.isocalendar()[1] )\n",
    "    #df['Mes']=df[\"Día natural\"].apply(lambda x: x.month)\n",
    "    #df['Año']=df[\"Día natural\"].apply(lambda x: x.year)\n",
    "    #df['Semana']=df['Semana'].astype('int64')\n",
    "    df['Año']=df['Año'].astype('int64')\n",
    "    D_W=['Lunes','Martes','Miércoles','Jueves', 'Viernes','Sábado','Domingo']\n",
    "    df['Día Semana']=df[\"Día natural\"].apply(lambda x: D_W[x.isocalendar()[2] -1])\n",
    "    df=df[df['Día Semana']!='Domingo']\n",
    "    \n",
    "    DF_FULL.dtypes\n",
    "    end_time = time.time()\n",
    "    time_convert(end_time - start_time)\n",
    "    return df"
   ]
  },
  {
   "cell_type": "markdown",
   "id": "ee2bcc68",
   "metadata": {
    "heading_collapsed": true
   },
   "source": [
    "### Datos año de inicio\n",
    "#### Rename"
   ]
  },
  {
   "cell_type": "code",
   "execution_count": 12,
   "id": "d6ca58ea",
   "metadata": {
    "hidden": true,
    "scrolled": false
   },
   "outputs": [
    {
     "name": "stdout",
     "output_type": "stream",
     "text": [
      "Time Lapsed = 0:0:20.445409536361694 \n",
      " H:m:s\n"
     ]
    },
    {
     "data": {
      "text/plain": [
       "Zona de ventas          object\n",
       "Zona de ventas.1        object\n",
       "Cliente                 object\n",
       "Cliente.1               object\n",
       "Cliente - Local         object\n",
       "Cliente - Local.1       object\n",
       "Material                object\n",
       "Día natural             object\n",
       "Kilos Venta KG           int64\n",
       "Venta Neta               int64\n",
       "Precio                   int64\n",
       "Frecuencia Historica    object\n",
       "Centro                  object\n",
       "Centro.1                object\n",
       "Población               object\n",
       "Tipo de cliente         object\n",
       "Cluster                 object\n",
       "Segmento                object\n",
       "Segmento.1              object\n",
       "Categoría Cliente       object\n",
       "Zona de reparto         object\n",
       "Año Creación            object\n",
       "Material Favorito       object\n",
       "Semana                  object\n",
       "Mes                     object\n",
       "Año                      int64\n",
       "Nivel 4                 object\n",
       "Nivel 4.1               object\n",
       "Sector                  object\n",
       "Tipo de material        object\n",
       "Tipo de material.1      object\n",
       "Marca                   object\n",
       "Nivel 2                 object\n",
       "Granel/Envasado         object\n",
       "Marinado                object\n",
       "Nivel 3                 object\n",
       "Grupo artículos         object\n",
       "Estado                  object\n",
       "Estandar                object\n",
       "Envase                  object\n",
       "Material (Nombre)       object\n",
       "Día Semana              object\n",
       "Centro_cod              object\n",
       "dtype: object"
      ]
     },
     "execution_count": 12,
     "metadata": {},
     "output_type": "execute_result"
    }
   ],
   "source": [
    "#=====================================\n",
    "# Aplicacion del ajuste de los datos\n",
    "#=====================================\n",
    "\n",
    "data=Ajuste_data(DF_FULL).rename(\n",
    "    columns={'Precio Promedio':'Precio'\n",
    "            #,'Centro.1':'Centro'\n",
    "            })\n",
    "data['Centro_cod']=data['Centro']\n",
    "data['Centro']=data['Centro.1']\n",
    "\n",
    "data[data.Año>=int(Año_inicio)]\n",
    "data.dtypes"
   ]
  },
  {
   "cell_type": "code",
   "execution_count": 13,
   "id": "20e9b364",
   "metadata": {
    "hidden": true,
    "scrolled": true
   },
   "outputs": [
    {
     "data": {
      "text/plain": [
       "-256"
      ]
     },
     "execution_count": 13,
     "metadata": {},
     "output_type": "execute_result"
    }
   ],
   "source": [
    "#=============================\n",
    "# Se eliminaron los regristros donde existen dias domingos\n",
    "#(No hay despacho los dias domingos)\n",
    "#============================\n",
    "\n",
    "data.shape[0] - DF_FULL.shape[0]"
   ]
  },
  {
   "cell_type": "markdown",
   "id": "0c3535d3",
   "metadata": {},
   "source": [
    "## Diciconario"
   ]
  },
  {
   "cell_type": "code",
   "execution_count": 45,
   "id": "6ef0062b",
   "metadata": {},
   "outputs": [],
   "source": [
    "Dic_col={'Base':\n",
    "                             ['Material (Nombre)', 'Kilos Venta KG', 'Precio','Cliente'],\n",
    "        'Fecha':\n",
    "                             ['Día natural','Día Semana','Semana', 'Mes', 'Año'],\n",
    "        'Ubicacion':\n",
    "                             ['Centro','Población'],\n",
    "        'Cliente Categoria':\n",
    "                             ['Cluster','Segmento.1', 'Categoría Cliente'],\n",
    "        'Cliente Atributos':\n",
    "                             ['Año Creación', 'Material Favorito','Frecuencia Historica'] \n",
    "         ,'RFM':\n",
    "                 ['Recency días','Frecuency_Row']\n",
    "        ,'RFM Customers':\n",
    "                 ['Recency Actual','Frecuency Actual','Monetary Actual']\n",
    "\n",
    "        }"
   ]
  },
  {
   "cell_type": "markdown",
   "id": "79f8b061",
   "metadata": {
    "heading_collapsed": true
   },
   "source": [
    "# Selección data(Canal/material)"
   ]
  },
  {
   "cell_type": "code",
   "execution_count": 15,
   "id": "2740d399",
   "metadata": {
    "hidden": true
   },
   "outputs": [
    {
     "name": "stdout",
     "output_type": "stream",
     "text": [
      "Time Lapsed = 0:0:26.65928316116333 \n",
      " H:m:s\n"
     ]
    }
   ],
   "source": [
    "end_time = time.time()\n",
    "time_lapsed = end_time - start_time\n",
    "time_convert(time_lapsed)\n"
   ]
  },
  {
   "cell_type": "markdown",
   "id": "fa0ec774",
   "metadata": {
    "hidden": true
   },
   "source": [
    "data frame `data_i`\n",
    "\n",
    "\n",
    "> - Producto `i_producto = Y_producto`\n",
    "> -Para el Canal `Tipo_de_Cliente`\n",
    "> -Variable a predecir/Grafico `Y_Variable`\n",
    "\n",
    "Columnas de interes para predecir `X_col`\n",
    "\n",
    "Diccionario del grupo de columnas `Dic_col`"
   ]
  },
  {
   "cell_type": "markdown",
   "id": "56076fc8",
   "metadata": {
    "heading_collapsed": true,
    "hidden": true
   },
   "source": [
    "## data "
   ]
  },
  {
   "cell_type": "markdown",
   "id": "2af7bd9f",
   "metadata": {
    "hidden": true
   },
   "source": [
    "##### Definición del producto "
   ]
  },
  {
   "cell_type": "code",
   "execution_count": 16,
   "id": "65ae6463",
   "metadata": {
    "hidden": true
   },
   "outputs": [
    {
     "name": "stdout",
     "output_type": "stream",
     "text": [
      "1010078 Tradicional\n"
     ]
    }
   ],
   "source": [
    "#==============================\n",
    "# Se define el producto\n",
    "#==============================\n",
    "i_producto=Y_producto\n",
    "print(i_producto\n",
    "     ,Tipo_de_Cliente)\n",
    "\n",
    "data_i=data[\n",
    "    (data['Tipo de cliente']==Tipo_de_Cliente)\n",
    "    &(data.Material==i_producto)\n",
    "].copy()\n"
   ]
  },
  {
   "cell_type": "markdown",
   "id": "3614f1ae",
   "metadata": {
    "hidden": true
   },
   "source": [
    "### Columnas a usar \n",
    "rename aplicado a `Precio promedio`"
   ]
  },
  {
   "cell_type": "markdown",
   "id": "38444021",
   "metadata": {
    "hidden": true
   },
   "source": [
    "###### Columnas a usar "
   ]
  },
  {
   "cell_type": "code",
   "execution_count": 17,
   "id": "be9ad327",
   "metadata": {
    "hidden": true,
    "scrolled": true
   },
   "outputs": [],
   "source": [
    "#=======================================================================================================\n",
    "                                                # Columnas a usar\n",
    "#========================================================================================================\n",
    "\n",
    "data_i=data_i[[\n",
    "                    #======================================   \n",
    "                                    # Base de la venta\n",
    "                    #--------------------------------------\n",
    "\n",
    "'Material (Nombre)',\n",
    "    #ID Nombre\n",
    "    \n",
    "#========================\n",
    "#Cantidad/Ingreso/Precio\n",
    "#------------------------\n",
    "'Kilos Venta KG',\n",
    "#'Venta Neta', No es necesario o de interes para la prediccion\n",
    "'Precio',\n",
    "\n",
    "#========================\n",
    "#fecha\n",
    "#------------------------\n",
    "'Día natural', #Se descarta por series de tiempo\n",
    "    # Ver si funciona\n",
    "\n",
    "'Día Semana',\n",
    "    #lun, Mart, Mier, Juev\n",
    "'Semana',\n",
    "    #1, 2 , 3 ,..., 52, 53\n",
    "'Mes',\n",
    "    #1,2,3,...,12\n",
    "'Año',\n",
    "    #2018,2019,...,2021\n",
    "    \n",
    "    \n",
    "\n",
    "#______________________________________________________________________\n",
    "                        \n",
    "                                    # CLIENTE\n",
    "    \n",
    "#=====================================\n",
    "#Ubicacion del cliente\n",
    "#-------------------------------------\n",
    "'Población', #'Zona de reparto',\n",
    "#Comuna del Cliente ; Codigo de la zona de reparto\n",
    "#[No son excluyentes, la Zona de reparto\n",
    "#Es más especifica y agrupa a clientes]\n",
    "\n",
    "\n",
    "                #Region\n",
    "                #'Zona de ventas',\n",
    "                #'Zona de ventas.1',\n",
    "                    #(Z001: Santiago)\n",
    "\n",
    "#Es atendido por la Centro:\n",
    "'Centro', #'Centro', Centro de distribución de los productos\n",
    "    #ID Centro, Nombre Centro(oficina o centro)\n",
    "    \n",
    "#=========================================    \n",
    "#Identificacion del cliente\n",
    "#---------------------------------------\n",
    "'Cliente', #'Cliente.1',\n",
    "     #ID del cliente , #nombre del cliente\n",
    " #'Cliente - Local', 'Cliente - Local.1'\n",
    "     # Tambien funciona como ID\n",
    "         #ID, Nombre\n",
    "\n",
    "    #Agrupacion del cliente\n",
    "    #'Tipo de cliente', #SON TODOS IGUALES\n",
    "    'Cluster', \n",
    "         #Canal del cliente ; Tipo de cliente\n",
    "             #Tradicional   ; Clasico\n",
    "\n",
    "    #Nivel de cobertura\n",
    "    #'Segmento', \n",
    "     'Segmento.1',\n",
    "     #codigo ; nombre\n",
    "         #50 ; Cobertura pequeno SD\n",
    "    'Categoría Cliente',\n",
    "            #Especialista en Proc\n",
    "\n",
    "\n",
    "    #===================================================\n",
    "    #Caracteristicas Adiocinales a su consumo\n",
    "    #-------------------------------------------------\n",
    "        'Año Creación',\n",
    "            #Fecha de afiliación a Agrosuper\n",
    "             #-> Debe ser INT idealmente\n",
    "\n",
    "        'Material Favorito',\n",
    "             #ID del producto que ha comprado más frecuentemente\n",
    "             #(No por cantidad, si no que por cantidad de compras realizadas)\n",
    "                 #-> Puede ser solo el codigo o el nombre tambien\n",
    "\n",
    "        'Frecuencia Historica',\n",
    "             #Cantidad de compras realizadas desde el 2018\n",
    "                 #-> debe ser INT\n",
    "                     #-> constante para todas las compras\n",
    "                            # Al ser variable complejiza todo\n",
    " \n",
    "]]\n"
   ]
  },
  {
   "cell_type": "markdown",
   "id": "0390aa21",
   "metadata": {
    "hidden": true
   },
   "source": [
    "###### Ajuste de type de columnas "
   ]
  },
  {
   "cell_type": "code",
   "execution_count": 18,
   "id": "a0e19457",
   "metadata": {
    "hidden": true
   },
   "outputs": [],
   "source": [
    "data_i['Frecuencia Historica']=data_i['Frecuencia Historica'].astype('int64')\n",
    "data_i['Año Creación']=data_i['Año Creación'].astype('int64')"
   ]
  },
  {
   "cell_type": "code",
   "execution_count": 19,
   "id": "62f38f3b",
   "metadata": {
    "hidden": true
   },
   "outputs": [
    {
     "name": "stdout",
     "output_type": "stream",
     "text": [
      "category\n",
      "(198596, 18)\n",
      "(198596, 18)\n",
      "(198596, 18)\n"
     ]
    },
    {
     "data": {
      "text/html": [
       "<div>\n",
       "<style scoped>\n",
       "    .dataframe tbody tr th:only-of-type {\n",
       "        vertical-align: middle;\n",
       "    }\n",
       "\n",
       "    .dataframe tbody tr th {\n",
       "        vertical-align: top;\n",
       "    }\n",
       "\n",
       "    .dataframe thead th {\n",
       "        text-align: right;\n",
       "    }\n",
       "</style>\n",
       "<table border=\"1\" class=\"dataframe\">\n",
       "  <thead>\n",
       "    <tr style=\"text-align: right;\">\n",
       "      <th></th>\n",
       "      <th>Material (Nombre)</th>\n",
       "      <th>Kilos Venta KG</th>\n",
       "      <th>Precio</th>\n",
       "      <th>Día natural</th>\n",
       "      <th>Día Semana</th>\n",
       "      <th>Semana</th>\n",
       "      <th>Mes</th>\n",
       "      <th>Año</th>\n",
       "      <th>Población</th>\n",
       "      <th>Centro</th>\n",
       "      <th>Cliente</th>\n",
       "      <th>Cluster</th>\n",
       "      <th>Segmento.1</th>\n",
       "      <th>Categoría Cliente</th>\n",
       "      <th>Año Creación</th>\n",
       "      <th>Material Favorito</th>\n",
       "      <th>Frecuencia Historica</th>\n",
       "      <th>Mes_num</th>\n",
       "    </tr>\n",
       "  </thead>\n",
       "  <tbody>\n",
       "    <tr>\n",
       "      <th>61455</th>\n",
       "      <td>1010078(Trutro Entero Selección)</td>\n",
       "      <td>22</td>\n",
       "      <td>1300</td>\n",
       "      <td>2020-05-23</td>\n",
       "      <td>Sábado</td>\n",
       "      <td>21</td>\n",
       "      <td>Mayo</td>\n",
       "      <td>2020</td>\n",
       "      <td>La Pintana</td>\n",
       "      <td>Sucursal Lo Espejo</td>\n",
       "      <td>10003742</td>\n",
       "      <td>Clásico</td>\n",
       "      <td>Cobertura Pequeno SD</td>\n",
       "      <td>Especialista en Proc</td>\n",
       "      <td>2007</td>\n",
       "      <td>1010077</td>\n",
       "      <td>19</td>\n",
       "      <td>5</td>\n",
       "    </tr>\n",
       "    <tr>\n",
       "      <th>61456</th>\n",
       "      <td>1010078(Trutro Entero Selección)</td>\n",
       "      <td>110</td>\n",
       "      <td>1174</td>\n",
       "      <td>2018-03-01</td>\n",
       "      <td>Jueves</td>\n",
       "      <td>9</td>\n",
       "      <td>Marzo</td>\n",
       "      <td>2018</td>\n",
       "      <td>Puente Alto</td>\n",
       "      <td>Sucursal Lo Espejo</td>\n",
       "      <td>10007508</td>\n",
       "      <td>Clásico</td>\n",
       "      <td>Cobertura Mediano SD</td>\n",
       "      <td>Especialista en Crud</td>\n",
       "      <td>2007</td>\n",
       "      <td>1020253</td>\n",
       "      <td>464</td>\n",
       "      <td>3</td>\n",
       "    </tr>\n",
       "  </tbody>\n",
       "</table>\n",
       "</div>"
      ],
      "text/plain": [
       "                      Material (Nombre)  Kilos Venta KG  Precio Día natural  \\\n",
       "61455  1010078(Trutro Entero Selección)              22    1300  2020-05-23   \n",
       "61456  1010078(Trutro Entero Selección)             110    1174  2018-03-01   \n",
       "\n",
       "      Día Semana Semana    Mes   Año    Población              Centro  \\\n",
       "61455     Sábado     21   Mayo  2020   La Pintana  Sucursal Lo Espejo   \n",
       "61456     Jueves      9  Marzo  2018  Puente Alto  Sucursal Lo Espejo   \n",
       "\n",
       "        Cliente  Cluster            Segmento.1     Categoría Cliente  \\\n",
       "61455  10003742  Clásico  Cobertura Pequeno SD  Especialista en Proc   \n",
       "61456  10007508  Clásico  Cobertura Mediano SD  Especialista en Crud   \n",
       "\n",
       "       Año Creación Material Favorito  Frecuencia Historica Mes_num  \n",
       "61455          2007           1010077                    19       5  \n",
       "61456          2007           1020253                   464       3  "
      ]
     },
     "execution_count": 19,
     "metadata": {},
     "output_type": "execute_result"
    }
   ],
   "source": [
    "#Ajuste Columnas \n",
    "data_i.Año=data_i.Año.astype('category')\n",
    "print(data_i.Año.dtype)\n",
    "data_i['Mes_num']=data_i[\"Mes\"]#.apply(lambda x: Mes_name(x))\n",
    "print(data_i.shape)\n",
    "data_i['Mes']=data_i[\"Mes_num\"].apply(lambda x: Mes_name(x))\n",
    "print(data_i.shape)\n",
    "data_i[['Mes','Mes_num','Día natural']].head()\n",
    "print(data_i.shape)\n",
    "data_i.head(2)"
   ]
  },
  {
   "cell_type": "markdown",
   "id": "f0b5bcbc",
   "metadata": {
    "hidden": true
   },
   "source": [
    "##### brebe analisis "
   ]
  },
  {
   "cell_type": "markdown",
   "id": "fc58991b",
   "metadata": {
    "hidden": true
   },
   "source": [
    "###### Diferencias en filas y columnas, data base "
   ]
  },
  {
   "cell_type": "code",
   "execution_count": 20,
   "id": "b493f861",
   "metadata": {
    "hidden": true
   },
   "outputs": [
    {
     "name": "stdout",
     "output_type": "stream",
     "text": [
      "Data Full (1061161, 40)\n",
      "-256 3\n",
      "Data Año (1060905, 43)\n",
      "-862309 -25\n",
      "Data Año, Canal Producto (198596, 18)\n"
     ]
    }
   ],
   "source": [
    "#======================================\n",
    "# Disminución de las filas y columnas\n",
    "# al pasar a data_i\n",
    "#======================================\n",
    "\n",
    "print('Data Full',DF_FULL.shape)\n",
    "print(data.shape[0]-DF_FULL.shape[0],\n",
    "      data.shape[1]-DF_FULL.shape[1])\n",
    "print('Data Año',data.shape)\n",
    "print(data_i.shape[0]-data.shape[0],\n",
    "      data_i.shape[1]-data.shape[1])\n",
    "print('Data Año, Canal Producto',data_i.shape)"
   ]
  },
  {
   "cell_type": "markdown",
   "id": "3b19e2eb",
   "metadata": {
    "hidden": true
   },
   "source": [
    "###### Describe "
   ]
  },
  {
   "cell_type": "code",
   "execution_count": 21,
   "id": "a21c032d",
   "metadata": {
    "hidden": true,
    "scrolled": false
   },
   "outputs": [
    {
     "data": {
      "text/html": [
       "<div>\n",
       "<style scoped>\n",
       "    .dataframe tbody tr th:only-of-type {\n",
       "        vertical-align: middle;\n",
       "    }\n",
       "\n",
       "    .dataframe tbody tr th {\n",
       "        vertical-align: top;\n",
       "    }\n",
       "\n",
       "    .dataframe thead th {\n",
       "        text-align: right;\n",
       "    }\n",
       "</style>\n",
       "<table border=\"1\" class=\"dataframe\">\n",
       "  <thead>\n",
       "    <tr style=\"text-align: right;\">\n",
       "      <th></th>\n",
       "      <th>index</th>\n",
       "      <th>Material (Nombre)</th>\n",
       "      <th>Kilos Venta KG</th>\n",
       "      <th>Precio</th>\n",
       "      <th>Día natural</th>\n",
       "      <th>Día Semana</th>\n",
       "      <th>Semana</th>\n",
       "      <th>Mes</th>\n",
       "      <th>Año</th>\n",
       "      <th>Población</th>\n",
       "      <th>Centro</th>\n",
       "      <th>Cliente</th>\n",
       "      <th>Cluster</th>\n",
       "      <th>Segmento.1</th>\n",
       "      <th>Categoría Cliente</th>\n",
       "      <th>Año Creación</th>\n",
       "      <th>Material Favorito</th>\n",
       "      <th>Frecuencia Historica</th>\n",
       "      <th>Mes_num</th>\n",
       "    </tr>\n",
       "  </thead>\n",
       "  <tbody>\n",
       "    <tr>\n",
       "      <th>1</th>\n",
       "      <td>unique</td>\n",
       "      <td>1</td>\n",
       "      <td>NaN</td>\n",
       "      <td>NaN</td>\n",
       "      <td>1140</td>\n",
       "      <td>6</td>\n",
       "      <td>53</td>\n",
       "      <td>12</td>\n",
       "      <td>4.0</td>\n",
       "      <td>46</td>\n",
       "      <td>3</td>\n",
       "      <td>5073</td>\n",
       "      <td>3</td>\n",
       "      <td>3</td>\n",
       "      <td>5</td>\n",
       "      <td>NaN</td>\n",
       "      <td>13</td>\n",
       "      <td>NaN</td>\n",
       "      <td>12</td>\n",
       "    </tr>\n",
       "  </tbody>\n",
       "</table>\n",
       "</div>"
      ],
      "text/plain": [
       "    index Material (Nombre)  Kilos Venta KG  Precio Día natural Día Semana  \\\n",
       "1  unique                 1             NaN     NaN        1140          6   \n",
       "\n",
       "  Semana Mes  Año Población Centro Cliente Cluster Segmento.1  \\\n",
       "1     53  12  4.0        46      3    5073       3          3   \n",
       "\n",
       "  Categoría Cliente  Año Creación Material Favorito  Frecuencia Historica  \\\n",
       "1                 5           NaN                13                   NaN   \n",
       "\n",
       "  Mes_num  \n",
       "1      12  "
      ]
     },
     "execution_count": 21,
     "metadata": {},
     "output_type": "execute_result"
    }
   ],
   "source": [
    "desc=data_i.describe(include='all').reset_index()\n",
    "desc[desc['index']=='unique']"
   ]
  },
  {
   "cell_type": "markdown",
   "id": "59b17d20",
   "metadata": {
    "hidden": true
   },
   "source": [
    "##### Revision"
   ]
  },
  {
   "cell_type": "code",
   "execution_count": 23,
   "id": "cb5cfbaf",
   "metadata": {
    "hidden": true,
    "scrolled": true
   },
   "outputs": [
    {
     "name": "stdout",
     "output_type": "stream",
     "text": [
      "17\n",
      "['Material (Nombre)', 'Kilos Venta KG', 'Precio', 'Cliente', 'Día natural', 'Día Semana', 'Semana', 'Mes', 'Año', 'Centro', 'Población', 'Cluster', 'Segmento.1', 'Categoría Cliente', 'Año Creación', 'Material Favorito', 'Frecuencia Historica']\n"
     ]
    }
   ],
   "source": [
    "#List sirve para definir las columnas de interes para los datos\n",
    "list_=[]\n",
    "for i in Dic_col:\n",
    "    list_+=Dic_col[i]\n",
    "print(len(list_))\n",
    "print((list_))\n"
   ]
  },
  {
   "cell_type": "code",
   "execution_count": 24,
   "id": "ef1fbd92",
   "metadata": {
    "hidden": true,
    "scrolled": true
   },
   "outputs": [
    {
     "name": "stdout",
     "output_type": "stream",
     "text": [
      "dict_keys(['Base', 'Fecha', 'Ubicacion', 'Cliente Categoria', 'Cliente Atributos'])\n",
      "['Material (Nombre)', 'Kilos Venta KG', 'Precio', 'Cliente', 'Día natural', 'Día Semana', 'Semana', 'Mes', 'Año', 'Centro', 'Población', 'Cluster', 'Segmento.1', 'Categoría Cliente', 'Año Creación', 'Material Favorito', 'Frecuencia Historica'] 17\n"
     ]
    },
    {
     "data": {
      "text/html": [
       "<div>\n",
       "<style scoped>\n",
       "    .dataframe tbody tr th:only-of-type {\n",
       "        vertical-align: middle;\n",
       "    }\n",
       "\n",
       "    .dataframe tbody tr th {\n",
       "        vertical-align: top;\n",
       "    }\n",
       "\n",
       "    .dataframe thead th {\n",
       "        text-align: right;\n",
       "    }\n",
       "</style>\n",
       "<table border=\"1\" class=\"dataframe\">\n",
       "  <thead>\n",
       "    <tr style=\"text-align: right;\">\n",
       "      <th></th>\n",
       "      <th>Material (Nombre)</th>\n",
       "      <th>Kilos Venta KG</th>\n",
       "      <th>Precio</th>\n",
       "      <th>Cliente</th>\n",
       "      <th>Día natural</th>\n",
       "      <th>Día Semana</th>\n",
       "      <th>Semana</th>\n",
       "      <th>Mes</th>\n",
       "      <th>Año</th>\n",
       "      <th>Centro</th>\n",
       "      <th>Población</th>\n",
       "      <th>Cluster</th>\n",
       "      <th>Segmento.1</th>\n",
       "      <th>Categoría Cliente</th>\n",
       "      <th>Año Creación</th>\n",
       "      <th>Material Favorito</th>\n",
       "      <th>Frecuencia Historica</th>\n",
       "    </tr>\n",
       "  </thead>\n",
       "  <tbody>\n",
       "    <tr>\n",
       "      <th>0</th>\n",
       "      <td>1010077(Trutro Entero Selección)</td>\n",
       "      <td>12</td>\n",
       "      <td>1190</td>\n",
       "      <td>10003742</td>\n",
       "      <td>2018-02-09</td>\n",
       "      <td>Viernes</td>\n",
       "      <td>6</td>\n",
       "      <td>2</td>\n",
       "      <td>2018</td>\n",
       "      <td>Sucursal Lo Espejo</td>\n",
       "      <td>La Pintana</td>\n",
       "      <td>Clásico</td>\n",
       "      <td>Cobertura Pequeno SD</td>\n",
       "      <td>Especialista en Proc</td>\n",
       "      <td>2007</td>\n",
       "      <td>1010077</td>\n",
       "      <td>19</td>\n",
       "    </tr>\n",
       "    <tr>\n",
       "      <th>1</th>\n",
       "      <td>1010077(Trutro Entero Selección)</td>\n",
       "      <td>12</td>\n",
       "      <td>1350</td>\n",
       "      <td>10003742</td>\n",
       "      <td>2018-05-04</td>\n",
       "      <td>Viernes</td>\n",
       "      <td>18</td>\n",
       "      <td>5</td>\n",
       "      <td>2018</td>\n",
       "      <td>Sucursal Lo Espejo</td>\n",
       "      <td>La Pintana</td>\n",
       "      <td>Clásico</td>\n",
       "      <td>Cobertura Pequeno SD</td>\n",
       "      <td>Especialista en Proc</td>\n",
       "      <td>2007</td>\n",
       "      <td>1010077</td>\n",
       "      <td>19</td>\n",
       "    </tr>\n",
       "  </tbody>\n",
       "</table>\n",
       "</div>"
      ],
      "text/plain": [
       "                  Material (Nombre)  Kilos Venta KG  Precio   Cliente  \\\n",
       "0  1010077(Trutro Entero Selección)              12    1190  10003742   \n",
       "1  1010077(Trutro Entero Selección)              12    1350  10003742   \n",
       "\n",
       "  Día natural Día Semana Semana Mes   Año              Centro   Población  \\\n",
       "0  2018-02-09    Viernes      6   2  2018  Sucursal Lo Espejo  La Pintana   \n",
       "1  2018-05-04    Viernes     18   5  2018  Sucursal Lo Espejo  La Pintana   \n",
       "\n",
       "   Cluster            Segmento.1     Categoría Cliente Año Creación  \\\n",
       "0  Clásico  Cobertura Pequeno SD  Especialista en Proc         2007   \n",
       "1  Clásico  Cobertura Pequeno SD  Especialista en Proc         2007   \n",
       "\n",
       "  Material Favorito Frecuencia Historica  \n",
       "0           1010077                   19  \n",
       "1           1010077                   19  "
      ]
     },
     "execution_count": 24,
     "metadata": {},
     "output_type": "execute_result"
    }
   ],
   "source": [
    "print(Dic_col.keys())\n",
    "Columnas_a_usar=[j for i in \n",
    "                 ['Base','Fecha', 'Ubicacion', 'Cliente Categoria', 'Cliente Atributos']\n",
    "                 for j in Dic_col[i]  ]\n",
    "print(Columnas_a_usar,len(Columnas_a_usar))\n",
    "data[Columnas_a_usar].head(2)\n"
   ]
  },
  {
   "cell_type": "code",
   "execution_count": 25,
   "id": "1d55169d",
   "metadata": {
    "hidden": true,
    "scrolled": false
   },
   "outputs": [
    {
     "name": "stdout",
     "output_type": "stream",
     "text": [
      "Material (Nombre) ['1010077(Trutro Entero Selección)']\n",
      "Kilos Venta KG [12]\n",
      "Precio [1190]\n",
      "Cliente ['10003742']\n",
      "Día natural [datetime.date(2018, 2, 9)]\n",
      "Día Semana ['Viernes']\n",
      "Semana ['6']\n",
      "Mes ['2']\n",
      "Año [2018]\n",
      "Centro ['Sucursal Lo Espejo']\n",
      "Población ['La Pintana']\n",
      "Cluster ['Clásico']\n",
      "Segmento.1 ['Cobertura Pequeno SD']\n",
      "Categoría Cliente ['Especialista en Proc']\n",
      "Año Creación ['2007']\n",
      "Material Favorito ['1010077']\n",
      "Frecuencia Historica ['19']\n",
      "Tipo de cliente ['Tradicional']\n"
     ]
    }
   ],
   "source": [
    "for i in list(list_+['Tipo de cliente']):\n",
    "    print(i,data[list_+['Tipo de cliente']].iloc[:1,:][i].to_list())"
   ]
  },
  {
   "cell_type": "markdown",
   "id": "c481a741",
   "metadata": {},
   "source": [
    "# F Frequency (Frecuencia):\n",
    "\n",
    "- [ ] __Caracteristica Cliente__\n",
    "\n",
    "> __La frecuencia historica final del cliente__, esta se puede calcular como se hizo con R. con la ultima compra del cliente.\n",
    "\n",
    " - [ ] __Feature of puchad__\n",
    "> __Columna que representa la frecuencia del cliente al momento de la compra,__ para definir cómo F de cada transacción  influye en el precio."
   ]
  },
  {
   "cell_type": "markdown",
   "id": "e9f243ef",
   "metadata": {
    "heading_collapsed": true
   },
   "source": [
    "## inicio\n",
    "-----------\n",
    "- Apuntes\n",
    "- Funciones\n",
    "- Ecuación\n",
    "- Prueba con data de un solo cliente\n",
    "      \n",
    " \n",
    " \n"
   ]
  },
  {
   "cell_type": "markdown",
   "id": "0a9fcc09",
   "metadata": {
    "heading_collapsed": true,
    "hidden": true
   },
   "source": [
    "### Intro "
   ]
  },
  {
   "cell_type": "markdown",
   "id": "98928c89",
   "metadata": {
    "heading_collapsed": true,
    "hidden": true
   },
   "source": [
    "##### Ecuación de \\cite(8592638):\n"
   ]
  },
  {
   "cell_type": "markdown",
   "id": "08dc34c3",
   "metadata": {
    "hidden": true
   },
   "source": [
    "\n",
    "\\begin{equation}\n",
    "    W_t=Exp(-K \\times t)\n",
    "\\\\\n",
    "F_i= \\dfrac{\n",
    " \\sum_{t=1}^{\\textit{AñoActual}-\\textit{AñodeInicio}}{W_t}\n",
    " \\times \\dfrac{{Compra}_{i,t}}{\\triangle_{i,t}}\n",
    "}{\n",
    "\\sum_{t=1}^{\\textit{AñoActual}-\\textit{AñodeInicio}}{W_t}\n",
    "}\n",
    "\\\\\n",
    "\\triangle_{i,t}\n",
    " \\left\\{ \\begin{array}{l}\n",
    "\\begin{array}{l}\n",
    "365 - \\textit{Días desde que el cliente apareció},\\\\\n",
    "\\textbf{\\textit{Si} $t=$ \\textit{Porción del periodo donde $i$ comenzó a ser cliente}}\n",
    "\\end{array}\n",
    "\\\\\n",
    "\\begin{array}{l}\n",
    "\\mbox{ Días que posee el año }t \\\\\n",
    "\\textbf{\\textit{Si} $t=$ \n",
    "\\textit{Porción del periodo actual}}\n",
    "\\end{array}\n",
    "\\\\\n",
    "\\begin{array}{l}\n",
    "\\mbox{ 365} \\\\\n",
    "\\textbf{\\textit{Cualquier otro escenario}}\n",
    "\\end{array}\n",
    "\\end{array} \\right.\n",
    "\\end{equation}\n",
    "\n",
    "\n",
    "\n",
    "\n"
   ]
  },
  {
   "cell_type": "markdown",
   "id": "1dc73ac9",
   "metadata": {
    "heading_collapsed": true,
    "hidden": true
   },
   "source": [
    "##### __Partes de F:__"
   ]
  },
  {
   "cell_type": "markdown",
   "id": "6e1f8917",
   "metadata": {
    "heading_collapsed": true,
    "hidden": true
   },
   "source": [
    "###### 1. $W_t$\n"
   ]
  },
  {
   "cell_type": "markdown",
   "id": "5180f0c7",
   "metadata": {
    "hidden": true
   },
   "source": [
    " \n",
    "`def_W_t(Data,K_cosnt=0.75)`   \n",
    "\n",
    "Construye un diccionario, de amplitud 1...nsea n la cantidad de años que hay entre el año el año más actual y el año más antiguo."
   ]
  },
  {
   "cell_type": "markdown",
   "id": "7501cf34",
   "metadata": {
    "heading_collapsed": true,
    "hidden": true
   },
   "source": [
    "###### 2. __Fecha primera compra de cada cliente__ \n"
   ]
  },
  {
   "cell_type": "markdown",
   "id": "454f9897",
   "metadata": {
    "hidden": true
   },
   "source": [
    "`def_primera_compra(Data)` => df_a_o_M  \n",
    "\n",
    "Función que entrega un dataframe con dos columnas     \n",
    "   - Cliente:(id cliente),\n",
    "   - Fecha Creacion':(La fecha donde efectuo la primera compra en el dataframe)"
   ]
  },
  {
   "cell_type": "markdown",
   "id": "9e120dbd",
   "metadata": {
    "heading_collapsed": true,
    "hidden": true
   },
   "source": [
    "###### 3. __Función que calcula__ $\\triangle_{i,t}$\n"
   ]
  },
  {
   "cell_type": "markdown",
   "id": "e1ec8bb0",
   "metadata": {
    "hidden": true
   },
   "source": [
    " \n",
    "`array_F_delta(fecha_actual,Fecha_inicio_Ser_Cliente)`Se usa directamente \n",
    "     \n",
    "> Entrega el arreglo que contiene todos los $\\triangle_{i,t}$ para un rango de fechas: \n",
    ">>   - `fecha_actual`: Puede ser la fecha más actual del dataframe o si se trata de Filas. Es la fecha de la misma transacción.\n",
    ">>   - `Fecha_inicio_Ser_Cliente`:La fecha donde efectuo la primera compra en el dataframe\n",
    "\n",
    "> __Esta funcion requiere de las siguientes funciones:__\n",
    "    >- `F_delta(fecha_actual,Fecha_T,Fecha_inicio_Ser_Cliente)` \n",
    "        >> - __Calcula__ $\\triangle_{i,t}$\n",
    "        >> - Requiere de la función `D_num(x)` : Función quen Pasa una fecha a un Numero\n"
   ]
  },
  {
   "cell_type": "markdown",
   "id": "e3f1aaf2",
   "metadata": {
    "heading_collapsed": true,
    "hidden": true
   },
   "source": [
    "###### 4. __Calculo cantidad de transacciones__ ${Compra}_{i,t}$\n"
   ]
  },
  {
   "cell_type": "markdown",
   "id": "f23f4a60",
   "metadata": {
    "hidden": true
   },
   "source": [
    "     \n",
    "> 3.1.5.1  cantidad de compras que realiza el cliente\n",
    " \n",
    " >`Val_Compra_i_t(Data,id_Client)` \n",
    " >>Cantidad de compras que realiza el cliente `id_Client` , en los datos Data para cada periodo de tiempo $t$. Requiere las columnas `['Cliente','Día natural']`\n",
    " \n",
    " \n",
    " > __Entrega Data frame:__\n",
    " >>df con histiral del compra del cliente\n",
    "    _con las siguientes columnas_ `['Cliente','Año','Día natural']`\n",
    "       \n"
   ]
  },
  {
   "cell_type": "markdown",
   "id": "2ee124cd",
   "metadata": {
    "heading_collapsed": true,
    "hidden": true
   },
   "source": [
    "###### 5. __Calculo la Frecuencia del cliente en Row__ ${Frecuency}_{i,Row}$\n"
   ]
  },
  {
   "cell_type": "markdown",
   "id": "928d8e20",
   "metadata": {
    "hidden": true
   },
   "source": [
    "     \n",
    "> __3.1.6  Función Calculo F_Row:__\n",
    " \n",
    " >`F_Calculo_Row(Data,Row,W_t_a=W_t_m,df_a_o=df_a_o_M)` \n",
    " >>Cantidad de compras que realiza el cliente `id_Client` , en los datos Data para cada periodo de tiempo $t$. Requiere las columnas `['Cliente','Día natural']`\n",
    " "
   ]
  },
  {
   "cell_type": "markdown",
   "id": "745f590f",
   "metadata": {
    "heading_collapsed": true,
    "hidden": true
   },
   "source": [
    "##### Notas "
   ]
  },
  {
   "cell_type": "markdown",
   "id": "b37a58f5",
   "metadata": {
    "hidden": true
   },
   "source": [
    "Sospecho que el calculo debe ser desarrollado por cada cliente, es decir.\n",
    "For que recorra todos los clientes de dataframe,\n",
    "Creando un data rfam de cada cliente.\n",
    "\n",
    "\n",
    "Para esto tambien se hizo una mecanica parecida en R. Que el apply usaba un df con el historaial del cliente y aplicaba la formula"
   ]
  },
  {
   "cell_type": "markdown",
   "id": "4c7fe7d5",
   "metadata": {
    "heading_collapsed": true,
    "hidden": true
   },
   "source": [
    "### Data de muestra "
   ]
  },
  {
   "cell_type": "code",
   "execution_count": 26,
   "id": "86888d52",
   "metadata": {
    "hidden": true,
    "scrolled": true
   },
   "outputs": [
    {
     "data": {
      "text/plain": [
       "(239,)"
      ]
     },
     "execution_count": 26,
     "metadata": {},
     "output_type": "execute_result"
    }
   ],
   "source": [
    "df_m=data_i[(data_i['Población'] =='La Florida')].copy()\n",
    "df_m.Cliente.unique().shape"
   ]
  },
  {
   "cell_type": "markdown",
   "id": "544219f7",
   "metadata": {},
   "source": [
    "## Prueba en un Dataframe\n",
    "\n",
    "Se vuelven a construir las funciones, para que estas esten alineadas en una sola subsección"
   ]
  },
  {
   "cell_type": "markdown",
   "id": "fac13ba6",
   "metadata": {},
   "source": [
    "### Funciones "
   ]
  },
  {
   "cell_type": "markdown",
   "id": "dccde04c",
   "metadata": {},
   "source": [
    "#### def_W_t"
   ]
  },
  {
   "cell_type": "code",
   "execution_count": 27,
   "id": "45ef340c",
   "metadata": {},
   "outputs": [],
   "source": [
    "def def_W_t(Data,K_cosnt=0.75):\n",
    "    \"\"\"\n",
    "    Función que:\n",
    "    Entrega un diccionario con los W_t para cada t[1,...,n],\n",
    "    sea 1 el año actual y n el año más antiguo posible según el Data.Año\n",
    "    \n",
    "    Se debe definir la constante K_const.\n",
    "    \"\"\"\n",
    "    #Valores posibles de t\n",
    "    T=[t+1 for t in range(int(max(list(Data.Año.unique()))) +1 -int(min(list(Data.Año.unique()))))]\n",
    "    print('Valores posibles de t',T)\n",
    "    return { t:np.exp(-K_cosnt*t) for t in T}"
   ]
  },
  {
   "cell_type": "markdown",
   "id": "e23ac2e3",
   "metadata": {
    "heading_collapsed": true
   },
   "source": [
    "#### def_primera_compra"
   ]
  },
  {
   "cell_type": "code",
   "execution_count": 28,
   "id": "439d8762",
   "metadata": {
    "hidden": true
   },
   "outputs": [],
   "source": [
    "\n",
    "def def_primera_compra(Data):\n",
    "    \"\"\"\n",
    "    Función que entrega un dataframe con dos columnas \n",
    "    [Cliente:(id cliente),\n",
    "    'Fecha Creacion':(La fecha donde efectuo la primera compra en el dataframe)]\n",
    "    \"\"\"\n",
    "    start_time_date = time.time()\n",
    "    df_L=Data.copy()\n",
    "    # lsitado de todos los clientes\n",
    "    Id_listado_Clientes=list(df_L.Cliente.unique())\n",
    "    #Creacion de las fechas de la primera compra en la data df_L\n",
    "    Creacion_Clientes=[\n",
    "        df_L[df_L.Cliente== i ][Dic_col['Fecha'][0]].min() \n",
    "        for i in Id_listado_Clientes]\n",
    "    end_time_date = time.time()\n",
    "    time_convert(end_time_date - start_time_date)\n",
    "    Data_Creacion_Clientes=pd.DataFrame(data=\n",
    "             {'Cliente':Id_listado_Clientes\n",
    "             ,'Fecha Creacion':\n",
    "              Creacion_Clientes\n",
    "             })\n",
    "    Data_Creacion_Clientes.Cliente=\\\n",
    "    Data_Creacion_Clientes.Cliente.astype('category')\n",
    "    print('Dimenciones',Data_Creacion_Clientes.shape)\n",
    "    print(\n",
    "    'Fecha del cliente más Antiguo',Data_Creacion_Clientes['Fecha Creacion'].min(),'\\n',\n",
    "    'Fecha del cliente más Nuevo',Data_Creacion_Clientes['Fecha Creacion'].max()\n",
    "    )\n",
    "    return(Data_Creacion_Clientes)\n",
    "# df_a_o_M= def_primera_compra(df_m)\n",
    "# df_a_o_M.head()"
   ]
  },
  {
   "cell_type": "markdown",
   "id": "216f6e22",
   "metadata": {
    "heading_collapsed": true
   },
   "source": [
    "#### Delta "
   ]
  },
  {
   "cell_type": "markdown",
   "id": "d58635d2",
   "metadata": {
    "hidden": true
   },
   "source": [
    "###### Función Delta unitario "
   ]
  },
  {
   "cell_type": "code",
   "execution_count": 29,
   "id": "2b75c856",
   "metadata": {
    "hidden": true
   },
   "outputs": [
    {
     "data": {
      "text/plain": [
       "1"
      ]
     },
     "execution_count": 29,
     "metadata": {},
     "output_type": "execute_result"
    }
   ],
   "source": [
    "def D_num(x):\n",
    "    \"\"\"\n",
    "    Función quen Pasa una fecha a un Numero\n",
    "    \n",
    "    Formato x: datetime.date(2020, 8, 27)\n",
    "    \n",
    "    df_m['Día natural'].apply(D_num).head()\n",
    "    \"\"\"\n",
    "    return(x-datetime.date(x.year, 1, 1)).days+1\n",
    "# df_m['Día natural'].apply(D_num).head()\n",
    "\n",
    "def F_delta_t(fecha_actual,Fecha_t,Fecha_inicio_Ser_Cliente):\n",
    "    \"\"\"\n",
    "    Formato parametros: datetime.date(2020, 8, 27) \n",
    "    \n",
    "   Función que calcula el delta por lo cual se\n",
    "    requiere conocimiento de lo siguiente:\n",
    "\n",
    "    - Fecha actual.\n",
    "    - Fecha del periodo t.\n",
    "    - Fecha de creación del cliente\n",
    "    \n",
    "    Se usa la función D_num para calcular la distancia\n",
    "    \"\"\"\n",
    "    \n",
    "    #===========================================================\n",
    "    #  t pertenece al año actual.    \n",
    "    #------------------------------------------------------------\n",
    "    if(fecha_actual.year<=Fecha_t.year):\n",
    "        \n",
    "        #funcionamiento correcto\n",
    "        #Fecha del dato es inferior o igual a la actual\n",
    "        if(fecha_actual>=Fecha_t):\n",
    "            #Dias de fecha_actual\n",
    "            \n",
    "            #si el cliente fue creado en el mismo año actual\n",
    "            if(fecha_actual.year==Fecha_inicio_Ser_Cliente.year):\n",
    "                return(D_num(fecha_actual)\n",
    "                -D_num(Fecha_inicio_Ser_Cliente))\n",
    "            else:\n",
    "                return(D_num(fecha_actual))\n",
    "            \n",
    "            \n",
    "        # la fecha_t es más actual que la D_a, \n",
    "        else:\n",
    "            if(Fecha_t.year==Fecha_inicio_Ser_Cliente.year):\n",
    "                return(D_num(Fecha_t)\n",
    "                -D_num(Fecha_inicio_Ser_Cliente))\n",
    "            else:\n",
    "                return(D_num(Fecha_t))    \n",
    "            \n",
    "    #===========================================================\n",
    "    # la fecha t, pertenece al mismo año donde se creo el cliente\n",
    "    #------------------------------------------------------------\n",
    "    elif(Fecha_t.year==Fecha_inicio_Ser_Cliente.year):\n",
    "        return(\n",
    "            D_num(datetime.date(Fecha_t.year, 12, 31))\n",
    "            -D_num(Fecha_inicio_Ser_Cliente))\n",
    "    #===========================================================\n",
    "    # Cualquier caso contrario\n",
    "    #------------------------------------------------------------\n",
    "    \n",
    "    else:\n",
    "        #no puede ser 0, ya que delta es \n",
    "        return(D_num(datetime.date(Fecha_t.year, 12, 31)))\n",
    "    \n",
    "F_delta_t(datetime.date(2021, 1, 1),\n",
    "       datetime.date(2022, 1, 1),\n",
    "        datetime.date(2020,1, 6))"
   ]
  },
  {
   "cell_type": "markdown",
   "id": "251d6b1a",
   "metadata": {
    "hidden": true
   },
   "source": [
    "###### Delta Array  "
   ]
  },
  {
   "cell_type": "code",
   "execution_count": 30,
   "id": "6c018858",
   "metadata": {
    "hidden": true
   },
   "outputs": [
    {
     "data": {
      "text/plain": [
       "[364]"
      ]
     },
     "execution_count": 30,
     "metadata": {},
     "output_type": "execute_result"
    }
   ],
   "source": [
    "def array_F_delta(fecha_actual,Fecha_inicio_Ser_Cliente):\n",
    "    #Fecha_Row\n",
    "    \"\"\"\n",
    "    Formato parametros: datetime.date(2020, 8, 27) \n",
    "    \n",
    "   Función que calcula el delta por lo cual se\n",
    "    requiere conocimiento de lo siguiente:\n",
    "\n",
    "    - Fecha actual.\n",
    "    - Fecha del periodo t.\n",
    "    - Fecha de creación del cliente\n",
    "    \n",
    "    Se usa la función D_num para calcular la distancia\n",
    "    \"\"\"\n",
    "    #Defino la cantidad de T que se tiene según el año actual y el año de inicio\n",
    "#     if(fecha_actual<Fecha_Row):\n",
    "#         print('Fecha mal ingresada')\n",
    "#         return('')\n",
    "    if(fecha_actual==Fecha_inicio_Ser_Cliente):\n",
    "        return[1]\n",
    "    else:\n",
    "        T=[t+1 for t in range(fecha_actual.year +1 - Fecha_inicio_Ser_Cliente.year)]\n",
    "#         print('Valores posibles de t',T)\n",
    "        a_delta=[]\n",
    "        for t in T:\n",
    "            #verificacion del año\n",
    "#             print(fecha_actual.year - t +1)\n",
    "\n",
    "            Fecha_T=datetime.date(\n",
    "                fecha_actual.year-t+1\n",
    "                , 1, 1)\n",
    "            F_Val_t= F_delta_t(fecha_actual,Fecha_T,Fecha_inicio_Ser_Cliente) \n",
    "            if(F_Val_t<1):\n",
    "                a_delta.append(1)\n",
    "            else:\n",
    "                a_delta.append(F_Val_t)\n",
    "        return(a_delta)\n",
    "    \n",
    "array_F_delta(\n",
    "        datetime.date(2018,12, 31),\n",
    "        datetime.date(2018,1, 1))"
   ]
  },
  {
   "cell_type": "markdown",
   "id": "74012075",
   "metadata": {},
   "source": [
    "#### Calculo cantidad de transacciones "
   ]
  },
  {
   "cell_type": "markdown",
   "id": "f59694e7",
   "metadata": {
    "heading_collapsed": true
   },
   "source": [
    "###### cantidad de compras que realiza el cliente"
   ]
  },
  {
   "cell_type": "code",
   "execution_count": 31,
   "id": "81704293",
   "metadata": {
    "hidden": true
   },
   "outputs": [],
   "source": [
    "def Val_Compra_i_t(Data,id_Client):\n",
    "    #defino el df\n",
    "    \"\"\"\n",
    "    Cantidad de compras que realiza el cliente id_Client , en los datos Data.\n",
    "    \n",
    "    id_Client=Codiggo del Cliente\n",
    "    Data:df con hisotiral del compra del cliente\n",
    "    Requiere['Cliente','Año','Día natural']\n",
    "    \n",
    "    Entrega Dataframe con [ Cliente Año Compras T] para cada año del cliente\n",
    "    \"\"\"\n",
    "    df_Client=Data[Data.Cliente==id_Client].copy()\n",
    "    \n",
    "    fecha_actual=df_Client['Día natural'].max()\n",
    "#     print(fecha_actual)\n",
    "    fecha_inicio=df_Client['Día natural'].min()\n",
    "#     print(fecha_inicio)\n",
    "    if 'Año' not in df_Client.columns.to_list():\n",
    "        df_Client['Año']=df_Client['Día natural'].apply(lambda x: x.year)\n",
    "    df_G=df_Client.groupby(['Cliente','Año']).count().reset_index()[['Cliente','Año','Día natural']]\n",
    "    df_G=df_G.rename(columns = {'Día natural':'Compras'})\n",
    "    df_G=df_G[df_G['Compras']>0]\n",
    "    #agrego columnas T\n",
    "    A_max= int(max(list(df_G.Año.unique())))\n",
    "    df_G['T']=df_G.Año.apply(lambda x: A_max - int(x) +1)\n",
    "    return df_G\n",
    "\n",
    "# Val_Compra_i_t(df_test,i_id_Cust)\n",
    "# Val_Compra_i_t(df_test,df_test.Cliente.unique()[2])"
   ]
  },
  {
   "cell_type": "markdown",
   "id": "8b4e7f4c",
   "metadata": {},
   "source": [
    "#### Función Calculo F_Client"
   ]
  },
  {
   "cell_type": "code",
   "execution_count": 32,
   "id": "02ac8c96",
   "metadata": {},
   "outputs": [
    {
     "data": {
      "text/plain": [
       "datetime.date(2021, 10, 26)"
      ]
     },
     "execution_count": 32,
     "metadata": {},
     "output_type": "execute_result"
    }
   ],
   "source": [
    "data_i['Día natural'].max()"
   ]
  },
  {
   "cell_type": "code",
   "execution_count": 33,
   "id": "b2200dd4",
   "metadata": {},
   "outputs": [],
   "source": [
    "# W_t_a,df_a_o,\n",
    "# W_t_a=W_t_m,df_a_o=df_a_o_M\n",
    "def F_Calculo_Clieten( Data , i_id_Cust , Fecha_actual, W_t_a, df_a_o):\n",
    "#      Fecha_actual=datetime.date(2021, 10, 26)\n",
    "    \"\"\"\n",
    "    \n",
    "    Fecha más reciente que registra la base de datos, o el dia que se extraen los datos.\n",
    "    Ej: (datetime.date(2021, 10, 26))\n",
    "    \n",
    "    Requiere Parametros glovales:\n",
    "        W_t_a [Diccionario T={1,2,3,4...n,}]\n",
    "            construido previamente por: def_W_t\n",
    "            Listado de los posibles valores de W, según el valor t\n",
    "        df_a_o\n",
    "            construido previamente por: def_primera_compra\n",
    "            Dataframe con la fecha que el cliente es creado\n",
    "        \n",
    "    Funciones:\n",
    "        Val_Compra_i_t \n",
    "            Dataframe de la cantidad de compras por T\n",
    "        \n",
    "        A_delta:  array_F_delta\n",
    "            Calcula el listado de los delta i,t \n",
    "            según la fecha Row y la Fecha de creación(df_a_o)\n",
    "        Arreglo con los deltas\n",
    "    \"\"\"\n",
    "    #Se crea la hisotria previa a la fila actual\n",
    "    #i_id_Cust\n",
    "    df_F=Data[(Data.Cliente==i_id_Cust)\n",
    "#              & (Data['Día natural']<=Fecha_actual)\n",
    "             ].copy()\n",
    "    \n",
    "    #print('Cliente y Fecha Row',Row[['Cliente','Día natural']],'\\n Shape',df_F.shape)\n",
    "    \n",
    "    #=================================================================================\n",
    "    # Data Frame return\n",
    "    #---------------------------------------------------------------------------------\n",
    "    \n",
    "    #construyo un dataframe, que servirá para calcular con las columnas el F\n",
    "    df_Compras_client=Val_Compra_i_t(df_F,i_id_Cust) \n",
    "    df_Compras_client['T']=df_Compras_client['T'].astype('int64')\n",
    "    \n",
    "    #=================================================================================\n",
    "    # Arreglo con los delta\n",
    "    #---------------------------------------------------------------------------------\n",
    "    Fecha_Creacion=df_a_o[df_a_o.Cliente==i_id_Cust]['Fecha Creacion'].to_list()[0]\n",
    "    ##print('Fecha_Creacion',Fecha_Creacion)\n",
    "    \n",
    "    A_delta=array_F_delta(Fecha_actual,Fecha_Creacion)\n",
    "    #print('Delta',A_delta)\n",
    "    \n",
    "    \n",
    "    #=================================================================================\n",
    "    # W_t\n",
    "    #---------------------------------------------------------------------------------\n",
    "\n",
    "    if (df_Compras_client.shape[0]==1):\n",
    "        df_Compras_client['W_t'] = W_t_a[df_Compras_client['T'].to_list()[0]]\n",
    "        \n",
    "#       print('Sin historia')\n",
    "\n",
    "        df_Compras_client['Dif_i_t']=A_delta[df_Compras_client['T'].to_list()[0]-1]\n",
    "        #df_Compras_client['Dif_i_t']=df_Compras_client['T'].apply( lambda x: A_delta[x-1])\n",
    "        \n",
    "       \n",
    "    else:\n",
    "        df_Compras_client['W_t']=df_Compras_client['T'].apply( lambda x: W_t_a[x])\n",
    "        df_Compras_client['Dif_i_t']=df_Compras_client['T'].apply( lambda x: A_delta[x-1])\n",
    "        \n",
    "    df_Compras_client['F_up']=df_Compras_client.apply( lambda x: x['W_t']*(x['Compras']/x['Dif_i_t'])\n",
    "                            ,axis=1)\n",
    "    F_i_Resultado=df_Compras_client['F_up'].sum()\\\n",
    "                    /df_Compras_client['W_t'].astype('float64').sum()\n",
    "    return (F_i_Resultado,df_Compras_client)"
   ]
  },
  {
   "cell_type": "markdown",
   "id": "bdf8624d",
   "metadata": {},
   "source": [
    "### Calculos base"
   ]
  },
  {
   "cell_type": "markdown",
   "id": "90960fb9",
   "metadata": {
    "heading_collapsed": true
   },
   "source": [
    "#### Data de prueba"
   ]
  },
  {
   "cell_type": "code",
   "execution_count": 34,
   "id": "491b624f",
   "metadata": {
    "hidden": true,
    "scrolled": true
   },
   "outputs": [
    {
     "data": {
      "text/plain": [
       "(239,)"
      ]
     },
     "execution_count": 34,
     "metadata": {},
     "output_type": "execute_result"
    }
   ],
   "source": [
    "df_test=data_i[(data_i['Población'] =='La Florida')].copy()\n",
    "df_test.Cliente.unique().shape"
   ]
  },
  {
   "cell_type": "markdown",
   "id": "af0edd81",
   "metadata": {
    "heading_collapsed": true,
    "hidden": true
   },
   "source": [
    "##### Parametros "
   ]
  },
  {
   "cell_type": "code",
   "execution_count": 35,
   "id": "17ac1b99",
   "metadata": {
    "hidden": true,
    "scrolled": true
   },
   "outputs": [
    {
     "name": "stdout",
     "output_type": "stream",
     "text": [
      "Valores posibles de t [1, 2, 3, 4]\n",
      "Time Lapsed = 0:0:0.2252042293548584 \n",
      " H:m:s\n",
      "Dimenciones (239, 2)\n",
      "Fecha del cliente más Antiguo 2018-01-02 \n",
      " Fecha del cliente más Nuevo 2021-10-16\n"
     ]
    }
   ],
   "source": [
    "W_t_test= def_W_t(df_test)\n",
    "df_0_test =def_primera_compra(df_test)"
   ]
  },
  {
   "cell_type": "markdown",
   "id": "d90a7766",
   "metadata": {
    "heading_collapsed": true
   },
   "source": [
    "### Testeos "
   ]
  },
  {
   "cell_type": "markdown",
   "id": "b0b2697c",
   "metadata": {
    "heading_collapsed": true,
    "hidden": true
   },
   "source": [
    "##### Resultado una fila "
   ]
  },
  {
   "cell_type": "code",
   "execution_count": 36,
   "id": "712b1a02",
   "metadata": {
    "hidden": true
   },
   "outputs": [
    {
     "data": {
      "text/plain": [
       "datetime.date(2021, 10, 26)"
      ]
     },
     "execution_count": 36,
     "metadata": {},
     "output_type": "execute_result"
    }
   ],
   "source": [
    "data_i['Día natural'].max()"
   ]
  },
  {
   "cell_type": "code",
   "execution_count": 37,
   "id": "79da7459",
   "metadata": {
    "hidden": true
   },
   "outputs": [
    {
     "data": {
      "text/plain": [
       "(0.027384777957814486,\n",
       "    Cliente   Año  Compras  T       W_t  Dif_i_t      F_up\n",
       " 0  9966011  2018       17  4  0.049787      363  0.002332\n",
       " 1  9966011  2019        1  3  0.105399      365  0.000289\n",
       " 2  9966011  2020        8  2  0.223130      366  0.004877\n",
       " 3  9966011  2021       10  1  0.472367      299  0.015798)"
      ]
     },
     "execution_count": 37,
     "metadata": {},
     "output_type": "execute_result"
    }
   ],
   "source": [
    "F_Calculo_Clieten( Data = df_test,\n",
    "                  i_id_Cust='9966011'\n",
    "                  ,Fecha_actual=datetime.date(2021, 10, 26)\n",
    "                  ,W_t_a=W_t_test\n",
    "                  ,df_a_o=df_0_test\n",
    "                 )"
   ]
  },
  {
   "cell_type": "markdown",
   "id": "dcfd7648",
   "metadata": {
    "heading_collapsed": true,
    "hidden": true
   },
   "source": [
    "##### Testeo Clientes Test "
   ]
  },
  {
   "cell_type": "code",
   "execution_count": 38,
   "id": "ad7e4051",
   "metadata": {
    "hidden": true
   },
   "outputs": [
    {
     "data": {
      "text/html": [
       "<div>\n",
       "<style scoped>\n",
       "    .dataframe tbody tr th:only-of-type {\n",
       "        vertical-align: middle;\n",
       "    }\n",
       "\n",
       "    .dataframe tbody tr th {\n",
       "        vertical-align: top;\n",
       "    }\n",
       "\n",
       "    .dataframe thead th {\n",
       "        text-align: right;\n",
       "    }\n",
       "</style>\n",
       "<table border=\"1\" class=\"dataframe\">\n",
       "  <thead>\n",
       "    <tr style=\"text-align: right;\">\n",
       "      <th></th>\n",
       "      <th>Cliente</th>\n",
       "      <th>Fecha Creacion</th>\n",
       "    </tr>\n",
       "  </thead>\n",
       "  <tbody>\n",
       "    <tr>\n",
       "      <th>0</th>\n",
       "      <td>10077788</td>\n",
       "      <td>2020-08-06</td>\n",
       "    </tr>\n",
       "    <tr>\n",
       "      <th>1</th>\n",
       "      <td>10130626</td>\n",
       "      <td>2020-02-22</td>\n",
       "    </tr>\n",
       "    <tr>\n",
       "      <th>2</th>\n",
       "      <td>10154836</td>\n",
       "      <td>2020-02-21</td>\n",
       "    </tr>\n",
       "    <tr>\n",
       "      <th>3</th>\n",
       "      <td>10289403</td>\n",
       "      <td>2019-11-05</td>\n",
       "    </tr>\n",
       "    <tr>\n",
       "      <th>4</th>\n",
       "      <td>10289905</td>\n",
       "      <td>2018-08-23</td>\n",
       "    </tr>\n",
       "  </tbody>\n",
       "</table>\n",
       "</div>"
      ],
      "text/plain": [
       "    Cliente Fecha Creacion\n",
       "0  10077788     2020-08-06\n",
       "1  10130626     2020-02-22\n",
       "2  10154836     2020-02-21\n",
       "3  10289403     2019-11-05\n",
       "4  10289905     2018-08-23"
      ]
     },
     "execution_count": 38,
     "metadata": {},
     "output_type": "execute_result"
    }
   ],
   "source": [
    "df_F_test=df_0_test.copy()\n",
    "df_F_test.head()"
   ]
  },
  {
   "cell_type": "code",
   "execution_count": 39,
   "id": "86c88fe7",
   "metadata": {
    "hidden": true
   },
   "outputs": [
    {
     "data": {
      "text/html": [
       "<div>\n",
       "<style scoped>\n",
       "    .dataframe tbody tr th:only-of-type {\n",
       "        vertical-align: middle;\n",
       "    }\n",
       "\n",
       "    .dataframe tbody tr th {\n",
       "        vertical-align: top;\n",
       "    }\n",
       "\n",
       "    .dataframe thead th {\n",
       "        text-align: right;\n",
       "    }\n",
       "</style>\n",
       "<table border=\"1\" class=\"dataframe\">\n",
       "  <thead>\n",
       "    <tr style=\"text-align: right;\">\n",
       "      <th></th>\n",
       "      <th>Cliente</th>\n",
       "      <th>Fecha Creacion</th>\n",
       "      <th>Frecuency Actual del Cliente</th>\n",
       "    </tr>\n",
       "  </thead>\n",
       "  <tbody>\n",
       "    <tr>\n",
       "      <th>0</th>\n",
       "      <td>10077788</td>\n",
       "      <td>2020-08-06</td>\n",
       "      <td>0.087164</td>\n",
       "    </tr>\n",
       "    <tr>\n",
       "      <th>1</th>\n",
       "      <td>10130626</td>\n",
       "      <td>2020-02-22</td>\n",
       "      <td>0.005346</td>\n",
       "    </tr>\n",
       "    <tr>\n",
       "      <th>2</th>\n",
       "      <td>10154836</td>\n",
       "      <td>2020-02-21</td>\n",
       "      <td>0.030889</td>\n",
       "    </tr>\n",
       "    <tr>\n",
       "      <th>3</th>\n",
       "      <td>10289403</td>\n",
       "      <td>2019-11-05</td>\n",
       "      <td>0.005420</td>\n",
       "    </tr>\n",
       "    <tr>\n",
       "      <th>4</th>\n",
       "      <td>10289905</td>\n",
       "      <td>2018-08-23</td>\n",
       "      <td>0.047747</td>\n",
       "    </tr>\n",
       "  </tbody>\n",
       "</table>\n",
       "</div>"
      ],
      "text/plain": [
       "    Cliente Fecha Creacion  Frecuency Actual del Cliente\n",
       "0  10077788     2020-08-06                      0.087164\n",
       "1  10130626     2020-02-22                      0.005346\n",
       "2  10154836     2020-02-21                      0.030889\n",
       "3  10289403     2019-11-05                      0.005420\n",
       "4  10289905     2018-08-23                      0.047747"
      ]
     },
     "execution_count": 39,
     "metadata": {},
     "output_type": "execute_result"
    }
   ],
   "source": [
    "df_F_test['Frecuency Actual del Cliente']=\\\n",
    "    df_0_test.Cliente.apply(lambda x:\n",
    "                    F_Calculo_Clieten( Data = df_test,\n",
    "                    i_id_Cust=x\n",
    "                    ,Fecha_actual=datetime.date(2021, 10, 26)\n",
    "                    ,W_t_a=W_t_test\n",
    "                    ,df_a_o=df_0_test\n",
    "                 )[0] \n",
    "                        )\n",
    "df_F_test.head()"
   ]
  },
  {
   "cell_type": "code",
   "execution_count": 40,
   "id": "56840030",
   "metadata": {
    "hidden": true
   },
   "outputs": [
    {
     "data": {
      "text/plain": [
       "array([[<AxesSubplot:title={'center':'Frecuency Actual del Cliente'}>]],\n",
       "      dtype=object)"
      ]
     },
     "execution_count": 40,
     "metadata": {},
     "output_type": "execute_result"
    },
    {
     "data": {
      "image/png": "[encoded data removed]",
      "text/plain": [
       "<Figure size 432x288 with 1 Axes>"
      ]
     },
     "metadata": {
      "needs_background": "light"
     },
     "output_type": "display_data"
    }
   ],
   "source": [
    "df_F_test.hist()"
   ]
  },
  {
   "cell_type": "markdown",
   "id": "23bd2822",
   "metadata": {},
   "source": [
    "### Uso real data_i "
   ]
  },
  {
   "cell_type": "markdown",
   "id": "319b6a12",
   "metadata": {},
   "source": [
    "#### Data Total  1010078 Tradicional"
   ]
  },
  {
   "cell_type": "code",
   "execution_count": 41,
   "id": "1ff119b5",
   "metadata": {
    "scrolled": true
   },
   "outputs": [
    {
     "name": "stdout",
     "output_type": "stream",
     "text": [
      "Valores posibles de t [1, 2, 3, 4]\n",
      "Time Lapsed = 0:0:51.31759476661682 \n",
      " H:m:s\n",
      "Dimenciones (5073, 2)\n",
      "Fecha del cliente más Antiguo 2018-01-02 \n",
      " Fecha del cliente más Nuevo 2021-10-23\n"
     ]
    }
   ],
   "source": [
    "W_t_pruf= def_W_t(data_i.copy())\n",
    "df_0_pruf =def_primera_compra(data_i.copy())"
   ]
  },
  {
   "cell_type": "markdown",
   "id": "a876722d",
   "metadata": {},
   "source": [
    "#### Aplicacion  "
   ]
  },
  {
   "cell_type": "code",
   "execution_count": 42,
   "id": "79c58e58",
   "metadata": {},
   "outputs": [
    {
     "data": {
      "text/html": [
       "<div>\n",
       "<style scoped>\n",
       "    .dataframe tbody tr th:only-of-type {\n",
       "        vertical-align: middle;\n",
       "    }\n",
       "\n",
       "    .dataframe tbody tr th {\n",
       "        vertical-align: top;\n",
       "    }\n",
       "\n",
       "    .dataframe thead th {\n",
       "        text-align: right;\n",
       "    }\n",
       "</style>\n",
       "<table border=\"1\" class=\"dataframe\">\n",
       "  <thead>\n",
       "    <tr style=\"text-align: right;\">\n",
       "      <th></th>\n",
       "      <th>Cliente</th>\n",
       "      <th>Fecha Creacion</th>\n",
       "    </tr>\n",
       "  </thead>\n",
       "  <tbody>\n",
       "    <tr>\n",
       "      <th>0</th>\n",
       "      <td>10003742</td>\n",
       "      <td>2020-05-23</td>\n",
       "    </tr>\n",
       "    <tr>\n",
       "      <th>1</th>\n",
       "      <td>10007508</td>\n",
       "      <td>2018-03-01</td>\n",
       "    </tr>\n",
       "    <tr>\n",
       "      <th>2</th>\n",
       "      <td>10017269</td>\n",
       "      <td>2018-01-27</td>\n",
       "    </tr>\n",
       "    <tr>\n",
       "      <th>3</th>\n",
       "      <td>10023880</td>\n",
       "      <td>2018-12-28</td>\n",
       "    </tr>\n",
       "    <tr>\n",
       "      <th>4</th>\n",
       "      <td>10028999</td>\n",
       "      <td>2019-11-05</td>\n",
       "    </tr>\n",
       "  </tbody>\n",
       "</table>\n",
       "</div>"
      ],
      "text/plain": [
       "    Cliente Fecha Creacion\n",
       "0  10003742     2020-05-23\n",
       "1  10007508     2018-03-01\n",
       "2  10017269     2018-01-27\n",
       "3  10023880     2018-12-28\n",
       "4  10028999     2019-11-05"
      ]
     },
     "execution_count": 42,
     "metadata": {},
     "output_type": "execute_result"
    }
   ],
   "source": [
    "df_F_Pruf=df_0_pruf.copy()\n",
    "df_F_Pruf.head()"
   ]
  },
  {
   "cell_type": "code",
   "execution_count": 78,
   "id": "caeb6744",
   "metadata": {},
   "outputs": [
    {
     "name": "stdout",
     "output_type": "stream",
     "text": [
      "Frecuency de data_test\n",
      "Time Lapsed = 0:1:29.100306510925293 \n",
      " H:m:s\n"
     ]
    },
    {
     "data": {
      "text/html": [
       "<div>\n",
       "<style scoped>\n",
       "    .dataframe tbody tr th:only-of-type {\n",
       "        vertical-align: middle;\n",
       "    }\n",
       "\n",
       "    .dataframe tbody tr th {\n",
       "        vertical-align: top;\n",
       "    }\n",
       "\n",
       "    .dataframe thead th {\n",
       "        text-align: right;\n",
       "    }\n",
       "</style>\n",
       "<table border=\"1\" class=\"dataframe\">\n",
       "  <thead>\n",
       "    <tr style=\"text-align: right;\">\n",
       "      <th></th>\n",
       "      <th>Cliente</th>\n",
       "      <th>Fecha Creacion</th>\n",
       "      <th>Frecuency Actual del Cliente</th>\n",
       "    </tr>\n",
       "  </thead>\n",
       "  <tbody>\n",
       "    <tr>\n",
       "      <th>0</th>\n",
       "      <td>10003742</td>\n",
       "      <td>2020-05-23</td>\n",
       "      <td>0.003344</td>\n",
       "    </tr>\n",
       "    <tr>\n",
       "      <th>1</th>\n",
       "      <td>10007508</td>\n",
       "      <td>2018-03-01</td>\n",
       "      <td>0.201752</td>\n",
       "    </tr>\n",
       "    <tr>\n",
       "      <th>2</th>\n",
       "      <td>10017269</td>\n",
       "      <td>2018-01-27</td>\n",
       "      <td>0.059365</td>\n",
       "    </tr>\n",
       "    <tr>\n",
       "      <th>3</th>\n",
       "      <td>10023880</td>\n",
       "      <td>2018-12-28</td>\n",
       "      <td>0.039591</td>\n",
       "    </tr>\n",
       "    <tr>\n",
       "      <th>4</th>\n",
       "      <td>10028999</td>\n",
       "      <td>2019-11-05</td>\n",
       "      <td>0.017541</td>\n",
       "    </tr>\n",
       "  </tbody>\n",
       "</table>\n",
       "</div>"
      ],
      "text/plain": [
       "    Cliente Fecha Creacion  Frecuency Actual del Cliente\n",
       "0  10003742     2020-05-23                      0.003344\n",
       "1  10007508     2018-03-01                      0.201752\n",
       "2  10017269     2018-01-27                      0.059365\n",
       "3  10023880     2018-12-28                      0.039591\n",
       "4  10028999     2019-11-05                      0.017541"
      ]
     },
     "execution_count": 78,
     "metadata": {},
     "output_type": "execute_result"
    }
   ],
   "source": [
    "#  ```python\n",
    "start_time_3 = time.time()\n",
    "\n",
    "#aplciación\n",
    "df_F_Pruf['Frecuency Actual del Cliente']=\\\n",
    "    df_F_Pruf.Cliente.apply(lambda x:\n",
    "                    F_Calculo_Clieten( Data = data_i,\n",
    "                    i_id_Cust=x\n",
    "                    ,Fecha_actual=datetime.date(2021, 10, 26)\n",
    "                    ,W_t_a=W_t_pruf\n",
    "                    ,df_a_o=df_0_pruf\n",
    "                 )[0] )\n",
    "#----------------------------------------------------------------\n",
    "\n",
    "end_time_3 = time.time()\n",
    "time_lapsed_3 = end_time_3 - start_time_3\n",
    "print('Frecuency de data_test')\n",
    "time_convert(time_lapsed_3)\n",
    "df_F_Pruf.head()\n",
    "\n",
    "\n",
    "# Time Lapsed = 0:1:52.41224026679993 \n",
    "#  H:m:s\n",
    "# Frecuency de data_test\n",
    "# Time Lapsed = 0:1:29.100306510925293 \n",
    "#  H:m:s\n",
    "\n",
    "\n",
    "#  ```"
   ]
  },
  {
   "cell_type": "markdown",
   "id": "aa3fcf61",
   "metadata": {},
   "source": [
    " ```python\n",
    "start_time_3 = time.time()\n",
    "\n",
    "#aplciación\n",
    "df_F_Pruf['Frecuency Actual del Cliente']=\\\n",
    "    df_F_Pruf.Cliente.apply(lambda x:\n",
    "                    F_Calculo_Clieten( Data = data_i,\n",
    "                    i_id_Cust=x\n",
    "                    ,Fecha_actual=datetime.date(2021, 10, 26)\n",
    "                    ,W_t_a=W_t_pruf\n",
    "                    ,df_a_o=df_0_pruf\n",
    "                 )[0] )\n",
    "#----------------------------------------------------------------\n",
    "\n",
    "end_time_3 = time.time()\n",
    "time_lapsed_3 = end_time_3 - start_time_3\n",
    "print('Frecuency de data_test')\n",
    "time_convert(time_lapsed_3)\n",
    "df_F_Pruf.head()\n",
    "\n",
    "\n",
    "# Time Lapsed = 0:1:52.41224026679993 \n",
    "#  H:m:s\n",
    " ```"
   ]
  },
  {
   "cell_type": "markdown",
   "id": "e97732c0",
   "metadata": {},
   "source": [
    "#### SAVE CSV  "
   ]
  },
  {
   "cell_type": "markdown",
   "id": "119e914c",
   "metadata": {},
   "source": [
    " ```python\n",
    "File_save_CSV=file_direct_O+'Clientes_1010078_CT F'+'.csv'\n",
    "\n",
    "df_F_Pruf.to_csv(File_save_CSV, encoding='utf-8',index=True,sep=';')\n",
    "\n",
    "end_time_4 = time.time()\n",
    "time_lapsed_4 = end_time_4 - end_time_3\n",
    "time_lapsed_final = end_time_4 - start_time\n",
    "\n",
    "print('Guardado df')\n",
    "time_convert(time_lapsed_4)\n",
    "\n",
    "print('Frecuency total codigo')\n",
    "time_convert(time_lapsed_final)\n",
    "# Guardado df\n",
    "# Time Lapsed = 0:0:1.592038631439209 \n",
    "#  H:m:s\n",
    "# Recency total codigo\n",
    "# Time Lapsed = 2:0:25.870452880859375 \n",
    "#  H:m:s\n",
    "```"
   ]
  },
  {
   "cell_type": "markdown",
   "id": "ffb799d3",
   "metadata": {},
   "source": [
    "# R  "
   ]
  },
  {
   "cell_type": "markdown",
   "id": "a7be69b5",
   "metadata": {},
   "source": [
    "## Data"
   ]
  },
  {
   "cell_type": "code",
   "execution_count": 50,
   "id": "86f0ae80",
   "metadata": {},
   "outputs": [
    {
     "name": "stdout",
     "output_type": "stream",
     "text": [
      "(5073, 2)\n",
      "(5073, 3)\n"
     ]
    },
    {
     "data": {
      "text/html": [
       "<div>\n",
       "<style scoped>\n",
       "    .dataframe tbody tr th:only-of-type {\n",
       "        vertical-align: middle;\n",
       "    }\n",
       "\n",
       "    .dataframe tbody tr th {\n",
       "        vertical-align: top;\n",
       "    }\n",
       "\n",
       "    .dataframe thead th {\n",
       "        text-align: right;\n",
       "    }\n",
       "</style>\n",
       "<table border=\"1\" class=\"dataframe\">\n",
       "  <thead>\n",
       "    <tr style=\"text-align: right;\">\n",
       "      <th></th>\n",
       "      <th>Cliente</th>\n",
       "      <th>Fecha ultima Compra</th>\n",
       "      <th>Recency Actual</th>\n",
       "    </tr>\n",
       "  </thead>\n",
       "  <tbody>\n",
       "    <tr>\n",
       "      <th>0</th>\n",
       "      <td>10003742</td>\n",
       "      <td>2020-05-23</td>\n",
       "      <td>521</td>\n",
       "    </tr>\n",
       "    <tr>\n",
       "      <th>1</th>\n",
       "      <td>10007508</td>\n",
       "      <td>2021-10-26</td>\n",
       "      <td>0</td>\n",
       "    </tr>\n",
       "  </tbody>\n",
       "</table>\n",
       "</div>"
      ],
      "text/plain": [
       "    Cliente Fecha ultima Compra  Recency Actual\n",
       "0  10003742          2020-05-23             521\n",
       "1  10007508          2021-10-26               0"
      ]
     },
     "execution_count": 50,
     "metadata": {},
     "output_type": "execute_result"
    }
   ],
   "source": [
    "df_fecha_R=data_i[['Cliente','Día natural']].groupby('Cliente').max().reset_index()#\n",
    "print(df_fecha_R.shape)\n",
    "#====================================================\n",
    "# Apliación calculo\n",
    "#----------------------------------------------------\n",
    "df_fecha_R[Dic_col['RFM Customers'][0]]=\\\n",
    "df_fecha_R['Día natural'].apply( lambda x: (datetime.date(2021, 10, 26) - x).days)\n",
    "df_fecha_R=df_fecha_R.rename(columns={'Día natural':'Fecha ultima Compra'})\n",
    "print(df_fecha_R.shape)\n",
    "df_fecha_R.head(2)\n"
   ]
  },
  {
   "cell_type": "markdown",
   "id": "68afea73",
   "metadata": {},
   "source": [
    "__Aplicación__"
   ]
  },
  {
   "cell_type": "markdown",
   "id": "0fdb969e",
   "metadata": {},
   "source": [
    "# M  "
   ]
  },
  {
   "cell_type": "markdown",
   "id": "ffe82585",
   "metadata": {
    "heading_collapsed": true
   },
   "source": [
    "## Funciones "
   ]
  },
  {
   "cell_type": "code",
   "execution_count": 65,
   "id": "f2493a84",
   "metadata": {
    "hidden": true,
    "scrolled": true
   },
   "outputs": [
    {
     "name": "stdout",
     "output_type": "stream",
     "text": [
      "(9878, 18)\n",
      "Index(['Material (Nombre)', 'Kilos Venta KG', 'Precio', 'Día natural',\n",
      "       'Día Semana', 'Semana', 'Mes', 'Año', 'Población', 'Centro', 'Cliente',\n",
      "       'Cluster', 'Segmento.1', 'Categoría Cliente', 'Año Creación',\n",
      "       'Material Favorito', 'Frecuencia Historica', 'Mes_num',\n",
      "       'Ingreso de Venta'],\n",
      "      dtype='object')\n",
      "(9878, 19)\n"
     ]
    },
    {
     "data": {
      "text/plain": [
       "(239,)"
      ]
     },
     "execution_count": 65,
     "metadata": {},
     "output_type": "execute_result"
    }
   ],
   "source": [
    "def col_Ingr(data):\n",
    "    \"\"\"\n",
    "    Función que agrega una columna de ingresos al dataframe\n",
    "    \"\"\"\n",
    "    data['Ingreso de Venta']=\\\n",
    "    data.apply(lambda x: x['Precio']*x['Kilos Venta KG'] , axis=1) \n",
    "    print(data.columns)\n",
    "\n",
    "#  Base de datos\n",
    "df_m=data_i[(data_i['Población'] =='La Florida')].copy()\n",
    "print(df_m.shape)\n",
    "\n",
    "#aplicacion\n",
    "col_Ingr(df_m)\n",
    "print(df_m.shape)\n",
    "\n",
    "#  cantidad de clientes\n",
    "df_m.Cliente.unique().shape\n",
    "\n"
   ]
  },
  {
   "cell_type": "markdown",
   "id": "ac7d6664",
   "metadata": {
    "hidden": true
   },
   "source": [
    "__Solo se debe aplicar un groupby__"
   ]
  },
  {
   "cell_type": "code",
   "execution_count": 67,
   "id": "01b96a5e",
   "metadata": {
    "hidden": true,
    "scrolled": true
   },
   "outputs": [
    {
     "name": "stdout",
     "output_type": "stream",
     "text": [
      "Kilos Venta KG => Kilos Venta KG Promedio\n",
      "Precio => Precio Promedio\n",
      "Año Creación => Año Creación Promedio\n",
      "Frecuencia Historica => Frecuencia Historica Promedio\n",
      "Ingreso de Venta => Ingreso de Venta Promedio\n"
     ]
    },
    {
     "data": {
      "text/html": [
       "<div>\n",
       "<style scoped>\n",
       "    .dataframe tbody tr th:only-of-type {\n",
       "        vertical-align: middle;\n",
       "    }\n",
       "\n",
       "    .dataframe tbody tr th {\n",
       "        vertical-align: top;\n",
       "    }\n",
       "\n",
       "    .dataframe thead th {\n",
       "        text-align: right;\n",
       "    }\n",
       "</style>\n",
       "<table border=\"1\" class=\"dataframe\">\n",
       "  <thead>\n",
       "    <tr style=\"text-align: right;\">\n",
       "      <th></th>\n",
       "      <th>Kilos Venta KG Promedio</th>\n",
       "      <th>Precio Promedio</th>\n",
       "      <th>Año Creación Promedio</th>\n",
       "      <th>Frecuencia Historica Promedio</th>\n",
       "      <th>Ingreso de Venta Promedio</th>\n",
       "    </tr>\n",
       "    <tr>\n",
       "      <th>Cliente</th>\n",
       "      <th></th>\n",
       "      <th></th>\n",
       "      <th></th>\n",
       "      <th></th>\n",
       "      <th></th>\n",
       "    </tr>\n",
       "  </thead>\n",
       "  <tbody>\n",
       "    <tr>\n",
       "      <th>10077788</th>\n",
       "      <td>34.435897</td>\n",
       "      <td>1343.153846</td>\n",
       "      <td>2020.0</td>\n",
       "      <td>44.0</td>\n",
       "      <td>45635.794872</td>\n",
       "    </tr>\n",
       "    <tr>\n",
       "      <th>10130626</th>\n",
       "      <td>22.000000</td>\n",
       "      <td>1275.000000</td>\n",
       "      <td>2011.0</td>\n",
       "      <td>17.0</td>\n",
       "      <td>28050.000000</td>\n",
       "    </tr>\n",
       "    <tr>\n",
       "      <th>10154836</th>\n",
       "      <td>24.444444</td>\n",
       "      <td>1340.333333</td>\n",
       "      <td>2020.0</td>\n",
       "      <td>29.0</td>\n",
       "      <td>32623.555556</td>\n",
       "    </tr>\n",
       "    <tr>\n",
       "      <th>10289403</th>\n",
       "      <td>29.333333</td>\n",
       "      <td>1150.000000</td>\n",
       "      <td>2016.0</td>\n",
       "      <td>22.0</td>\n",
       "      <td>33733.333333</td>\n",
       "    </tr>\n",
       "    <tr>\n",
       "      <th>10289905</th>\n",
       "      <td>22.391304</td>\n",
       "      <td>1334.739130</td>\n",
       "      <td>2007.0</td>\n",
       "      <td>137.0</td>\n",
       "      <td>29875.130435</td>\n",
       "    </tr>\n",
       "    <tr>\n",
       "      <th>...</th>\n",
       "      <td>...</td>\n",
       "      <td>...</td>\n",
       "      <td>...</td>\n",
       "      <td>...</td>\n",
       "      <td>...</td>\n",
       "    </tr>\n",
       "    <tr>\n",
       "      <th>9663701</th>\n",
       "      <td>22.000000</td>\n",
       "      <td>1282.666667</td>\n",
       "      <td>2007.0</td>\n",
       "      <td>9.0</td>\n",
       "      <td>28218.666667</td>\n",
       "    </tr>\n",
       "    <tr>\n",
       "      <th>9722480</th>\n",
       "      <td>22.000000</td>\n",
       "      <td>1256.666667</td>\n",
       "      <td>2018.0</td>\n",
       "      <td>11.0</td>\n",
       "      <td>27646.666667</td>\n",
       "    </tr>\n",
       "    <tr>\n",
       "      <th>9855224</th>\n",
       "      <td>156.850000</td>\n",
       "      <td>1234.250000</td>\n",
       "      <td>2020.0</td>\n",
       "      <td>49.0</td>\n",
       "      <td>191880.050000</td>\n",
       "    </tr>\n",
       "    <tr>\n",
       "      <th>9956450</th>\n",
       "      <td>21.923077</td>\n",
       "      <td>1355.615385</td>\n",
       "      <td>2007.0</td>\n",
       "      <td>34.0</td>\n",
       "      <td>29701.230769</td>\n",
       "    </tr>\n",
       "    <tr>\n",
       "      <th>9966011</th>\n",
       "      <td>21.944444</td>\n",
       "      <td>1304.722222</td>\n",
       "      <td>2007.0</td>\n",
       "      <td>350.0</td>\n",
       "      <td>28629.444444</td>\n",
       "    </tr>\n",
       "  </tbody>\n",
       "</table>\n",
       "<p>239 rows × 5 columns</p>\n",
       "</div>"
      ],
      "text/plain": [
       "          Kilos Venta KG Promedio  Precio Promedio  Año Creación Promedio  \\\n",
       "Cliente                                                                     \n",
       "10077788                34.435897      1343.153846                 2020.0   \n",
       "10130626                22.000000      1275.000000                 2011.0   \n",
       "10154836                24.444444      1340.333333                 2020.0   \n",
       "10289403                29.333333      1150.000000                 2016.0   \n",
       "10289905                22.391304      1334.739130                 2007.0   \n",
       "...                           ...              ...                    ...   \n",
       "9663701                 22.000000      1282.666667                 2007.0   \n",
       "9722480                 22.000000      1256.666667                 2018.0   \n",
       "9855224                156.850000      1234.250000                 2020.0   \n",
       "9956450                 21.923077      1355.615385                 2007.0   \n",
       "9966011                 21.944444      1304.722222                 2007.0   \n",
       "\n",
       "          Frecuencia Historica Promedio  Ingreso de Venta Promedio  \n",
       "Cliente                                                             \n",
       "10077788                           44.0               45635.794872  \n",
       "10130626                           17.0               28050.000000  \n",
       "10154836                           29.0               32623.555556  \n",
       "10289403                           22.0               33733.333333  \n",
       "10289905                          137.0               29875.130435  \n",
       "...                                 ...                        ...  \n",
       "9663701                             9.0               28218.666667  \n",
       "9722480                            11.0               27646.666667  \n",
       "9855224                            49.0              191880.050000  \n",
       "9956450                            34.0               29701.230769  \n",
       "9966011                           350.0               28629.444444  \n",
       "\n",
       "[239 rows x 5 columns]"
      ]
     },
     "execution_count": 67,
     "metadata": {},
     "output_type": "execute_result"
    }
   ],
   "source": [
    "rename_group(df_m.groupby('Cliente').mean())"
   ]
  },
  {
   "cell_type": "code",
   "execution_count": 71,
   "id": "d143fad1",
   "metadata": {
    "hidden": true
   },
   "outputs": [
    {
     "name": "stdout",
     "output_type": "stream",
     "text": [
      "Index(['Material (Nombre)', 'Kilos Venta KG', 'Precio', 'Día natural',\n",
      "       'Día Semana', 'Semana', 'Mes', 'Año', 'Población', 'Centro', 'Cliente',\n",
      "       'Cluster', 'Segmento.1', 'Categoría Cliente', 'Año Creación',\n",
      "       'Material Favorito', 'Frecuencia Historica', 'Mes_num',\n",
      "       'Ingreso de Venta'],\n",
      "      dtype='object')\n",
      "Kilos Venta KG => Kilos Venta KG Promedio\n",
      "Precio => Precio Promedio\n",
      "Año Creación => Año Creación Promedio\n",
      "Frecuencia Historica => Frecuencia Historica Promedio\n",
      "Ingreso de Venta => Ingreso de Venta Promedio\n"
     ]
    },
    {
     "data": {
      "text/html": [
       "<div>\n",
       "<style scoped>\n",
       "    .dataframe tbody tr th:only-of-type {\n",
       "        vertical-align: middle;\n",
       "    }\n",
       "\n",
       "    .dataframe tbody tr th {\n",
       "        vertical-align: top;\n",
       "    }\n",
       "\n",
       "    .dataframe thead th {\n",
       "        text-align: right;\n",
       "    }\n",
       "</style>\n",
       "<table border=\"1\" class=\"dataframe\">\n",
       "  <thead>\n",
       "    <tr style=\"text-align: right;\">\n",
       "      <th></th>\n",
       "      <th>Kilos Venta KG Promedio</th>\n",
       "      <th>Precio Promedio</th>\n",
       "      <th>Año Creación Promedio</th>\n",
       "      <th>Frecuencia Historica Promedio</th>\n",
       "      <th>Ingreso de Venta Promedio</th>\n",
       "    </tr>\n",
       "    <tr>\n",
       "      <th>Cliente</th>\n",
       "      <th></th>\n",
       "      <th></th>\n",
       "      <th></th>\n",
       "      <th></th>\n",
       "      <th></th>\n",
       "    </tr>\n",
       "  </thead>\n",
       "  <tbody>\n",
       "    <tr>\n",
       "      <th>10003742</th>\n",
       "      <td>22.000000</td>\n",
       "      <td>1300.000000</td>\n",
       "      <td>2007.0</td>\n",
       "      <td>19.0</td>\n",
       "      <td>28600.000000</td>\n",
       "    </tr>\n",
       "    <tr>\n",
       "      <th>10007508</th>\n",
       "      <td>93.158654</td>\n",
       "      <td>1266.894231</td>\n",
       "      <td>2007.0</td>\n",
       "      <td>464.0</td>\n",
       "      <td>117683.471154</td>\n",
       "    </tr>\n",
       "    <tr>\n",
       "      <th>10017269</th>\n",
       "      <td>22.038462</td>\n",
       "      <td>1347.782051</td>\n",
       "      <td>2007.0</td>\n",
       "      <td>101.0</td>\n",
       "      <td>29699.448718</td>\n",
       "    </tr>\n",
       "    <tr>\n",
       "      <th>10023880</th>\n",
       "      <td>27.500000</td>\n",
       "      <td>1400.000000</td>\n",
       "      <td>2007.0</td>\n",
       "      <td>383.0</td>\n",
       "      <td>38390.000000</td>\n",
       "    </tr>\n",
       "    <tr>\n",
       "      <th>10028999</th>\n",
       "      <td>22.000000</td>\n",
       "      <td>1320.923077</td>\n",
       "      <td>2007.0</td>\n",
       "      <td>62.0</td>\n",
       "      <td>29060.307692</td>\n",
       "    </tr>\n",
       "    <tr>\n",
       "      <th>...</th>\n",
       "      <td>...</td>\n",
       "      <td>...</td>\n",
       "      <td>...</td>\n",
       "      <td>...</td>\n",
       "      <td>...</td>\n",
       "    </tr>\n",
       "    <tr>\n",
       "      <th>9992154</th>\n",
       "      <td>36.171429</td>\n",
       "      <td>1294.657143</td>\n",
       "      <td>2007.0</td>\n",
       "      <td>113.0</td>\n",
       "      <td>46135.600000</td>\n",
       "    </tr>\n",
       "    <tr>\n",
       "      <th>9993925</th>\n",
       "      <td>160.517495</td>\n",
       "      <td>1257.278085</td>\n",
       "      <td>2012.0</td>\n",
       "      <td>594.0</td>\n",
       "      <td>200374.351750</td>\n",
       "    </tr>\n",
       "    <tr>\n",
       "      <th>9994662</th>\n",
       "      <td>22.000000</td>\n",
       "      <td>1304.545455</td>\n",
       "      <td>2007.0</td>\n",
       "      <td>37.0</td>\n",
       "      <td>28700.000000</td>\n",
       "    </tr>\n",
       "    <tr>\n",
       "      <th>9994800</th>\n",
       "      <td>22.000000</td>\n",
       "      <td>1230.000000</td>\n",
       "      <td>2020.0</td>\n",
       "      <td>7.0</td>\n",
       "      <td>27060.000000</td>\n",
       "    </tr>\n",
       "    <tr>\n",
       "      <th>9997223</th>\n",
       "      <td>22.000000</td>\n",
       "      <td>1090.000000</td>\n",
       "      <td>2019.0</td>\n",
       "      <td>15.0</td>\n",
       "      <td>23980.000000</td>\n",
       "    </tr>\n",
       "  </tbody>\n",
       "</table>\n",
       "<p>5073 rows × 5 columns</p>\n",
       "</div>"
      ],
      "text/plain": [
       "          Kilos Venta KG Promedio  Precio Promedio  Año Creación Promedio  \\\n",
       "Cliente                                                                     \n",
       "10003742                22.000000      1300.000000                 2007.0   \n",
       "10007508                93.158654      1266.894231                 2007.0   \n",
       "10017269                22.038462      1347.782051                 2007.0   \n",
       "10023880                27.500000      1400.000000                 2007.0   \n",
       "10028999                22.000000      1320.923077                 2007.0   \n",
       "...                           ...              ...                    ...   \n",
       "9992154                 36.171429      1294.657143                 2007.0   \n",
       "9993925                160.517495      1257.278085                 2012.0   \n",
       "9994662                 22.000000      1304.545455                 2007.0   \n",
       "9994800                 22.000000      1230.000000                 2020.0   \n",
       "9997223                 22.000000      1090.000000                 2019.0   \n",
       "\n",
       "          Frecuencia Historica Promedio  Ingreso de Venta Promedio  \n",
       "Cliente                                                             \n",
       "10003742                           19.0               28600.000000  \n",
       "10007508                          464.0              117683.471154  \n",
       "10017269                          101.0               29699.448718  \n",
       "10023880                          383.0               38390.000000  \n",
       "10028999                           62.0               29060.307692  \n",
       "...                                 ...                        ...  \n",
       "9992154                           113.0               46135.600000  \n",
       "9993925                           594.0              200374.351750  \n",
       "9994662                            37.0               28700.000000  \n",
       "9994800                             7.0               27060.000000  \n",
       "9997223                            15.0               23980.000000  \n",
       "\n",
       "[5073 rows x 5 columns]"
      ]
     },
     "execution_count": 71,
     "metadata": {},
     "output_type": "execute_result"
    }
   ],
   "source": [
    "DF_G=df_m[[\n",
    "        Dic_col['Base'][3]\n",
    "        ,Dic_col['Fecha'][0]\n",
    "        ,'Ingreso de Venta'\n",
    "        ]].copy()\n",
    "col_Ingr(data_i)\n",
    "\n",
    "rename_group(\n",
    "    data_i.groupby('Cliente').mean()\n",
    "    )"
   ]
  },
  {
   "cell_type": "markdown",
   "id": "20a96d3f",
   "metadata": {},
   "source": [
    "## Listo "
   ]
  },
  {
   "cell_type": "code",
   "execution_count": 73,
   "id": "6a2002fb",
   "metadata": {
    "scrolled": true
   },
   "outputs": [
    {
     "name": "stdout",
     "output_type": "stream",
     "text": [
      "Kilos Venta KG => Kilos Venta KG Promedio\n",
      "Precio => Precio Promedio\n",
      "Año Creación => Año Creación Promedio\n",
      "Frecuencia Historica => Frecuencia Historica Promedio\n",
      "Ingreso de Venta => Ingreso de Venta Promedio\n"
     ]
    },
    {
     "data": {
      "text/html": [
       "<div>\n",
       "<style scoped>\n",
       "    .dataframe tbody tr th:only-of-type {\n",
       "        vertical-align: middle;\n",
       "    }\n",
       "\n",
       "    .dataframe tbody tr th {\n",
       "        vertical-align: top;\n",
       "    }\n",
       "\n",
       "    .dataframe thead th {\n",
       "        text-align: right;\n",
       "    }\n",
       "</style>\n",
       "<table border=\"1\" class=\"dataframe\">\n",
       "  <thead>\n",
       "    <tr style=\"text-align: right;\">\n",
       "      <th></th>\n",
       "      <th>Cliente</th>\n",
       "      <th>Kilos Venta KG Promedio</th>\n",
       "      <th>Precio Promedio</th>\n",
       "      <th>Año Creación Promedio</th>\n",
       "      <th>Frecuencia Historica Promedio</th>\n",
       "      <th>Ingreso de Venta Promedio</th>\n",
       "    </tr>\n",
       "  </thead>\n",
       "  <tbody>\n",
       "    <tr>\n",
       "      <th>0</th>\n",
       "      <td>10003742</td>\n",
       "      <td>22.000000</td>\n",
       "      <td>1300.000000</td>\n",
       "      <td>2007.0</td>\n",
       "      <td>19.0</td>\n",
       "      <td>28600.000000</td>\n",
       "    </tr>\n",
       "    <tr>\n",
       "      <th>1</th>\n",
       "      <td>10007508</td>\n",
       "      <td>93.158654</td>\n",
       "      <td>1266.894231</td>\n",
       "      <td>2007.0</td>\n",
       "      <td>464.0</td>\n",
       "      <td>117683.471154</td>\n",
       "    </tr>\n",
       "    <tr>\n",
       "      <th>2</th>\n",
       "      <td>10017269</td>\n",
       "      <td>22.038462</td>\n",
       "      <td>1347.782051</td>\n",
       "      <td>2007.0</td>\n",
       "      <td>101.0</td>\n",
       "      <td>29699.448718</td>\n",
       "    </tr>\n",
       "    <tr>\n",
       "      <th>3</th>\n",
       "      <td>10023880</td>\n",
       "      <td>27.500000</td>\n",
       "      <td>1400.000000</td>\n",
       "      <td>2007.0</td>\n",
       "      <td>383.0</td>\n",
       "      <td>38390.000000</td>\n",
       "    </tr>\n",
       "    <tr>\n",
       "      <th>4</th>\n",
       "      <td>10028999</td>\n",
       "      <td>22.000000</td>\n",
       "      <td>1320.923077</td>\n",
       "      <td>2007.0</td>\n",
       "      <td>62.0</td>\n",
       "      <td>29060.307692</td>\n",
       "    </tr>\n",
       "  </tbody>\n",
       "</table>\n",
       "</div>"
      ],
      "text/plain": [
       "    Cliente  Kilos Venta KG Promedio  Precio Promedio  Año Creación Promedio  \\\n",
       "0  10003742                22.000000      1300.000000                 2007.0   \n",
       "1  10007508                93.158654      1266.894231                 2007.0   \n",
       "2  10017269                22.038462      1347.782051                 2007.0   \n",
       "3  10023880                27.500000      1400.000000                 2007.0   \n",
       "4  10028999                22.000000      1320.923077                 2007.0   \n",
       "\n",
       "   Frecuencia Historica Promedio  Ingreso de Venta Promedio  \n",
       "0                           19.0               28600.000000  \n",
       "1                          464.0              117683.471154  \n",
       "2                          101.0               29699.448718  \n",
       "3                          383.0               38390.000000  \n",
       "4                           62.0               29060.307692  "
      ]
     },
     "execution_count": 73,
     "metadata": {},
     "output_type": "execute_result"
    }
   ],
   "source": [
    "data_M=rename_group(\n",
    "    data_i.groupby('Cliente').mean().reset_index()\n",
    "    )\n",
    "data_M.head()"
   ]
  },
  {
   "cell_type": "markdown",
   "id": "1cd35133",
   "metadata": {
    "heading_collapsed": true
   },
   "source": [
    "# Merge "
   ]
  },
  {
   "cell_type": "code",
   "execution_count": 80,
   "id": "1d5e9e50",
   "metadata": {
    "hidden": true
   },
   "outputs": [
    {
     "data": {
      "text/html": [
       "<div>\n",
       "<style scoped>\n",
       "    .dataframe tbody tr th:only-of-type {\n",
       "        vertical-align: middle;\n",
       "    }\n",
       "\n",
       "    .dataframe tbody tr th {\n",
       "        vertical-align: top;\n",
       "    }\n",
       "\n",
       "    .dataframe thead th {\n",
       "        text-align: right;\n",
       "    }\n",
       "</style>\n",
       "<table border=\"1\" class=\"dataframe\">\n",
       "  <thead>\n",
       "    <tr style=\"text-align: right;\">\n",
       "      <th></th>\n",
       "      <th>Cliente</th>\n",
       "      <th>Fecha Creacion</th>\n",
       "      <th>Frecuency Actual del Cliente</th>\n",
       "    </tr>\n",
       "  </thead>\n",
       "  <tbody>\n",
       "    <tr>\n",
       "      <th>0</th>\n",
       "      <td>10003742</td>\n",
       "      <td>2020-05-23</td>\n",
       "      <td>0.003344</td>\n",
       "    </tr>\n",
       "    <tr>\n",
       "      <th>1</th>\n",
       "      <td>10007508</td>\n",
       "      <td>2018-03-01</td>\n",
       "      <td>0.201752</td>\n",
       "    </tr>\n",
       "    <tr>\n",
       "      <th>2</th>\n",
       "      <td>10017269</td>\n",
       "      <td>2018-01-27</td>\n",
       "      <td>0.059365</td>\n",
       "    </tr>\n",
       "    <tr>\n",
       "      <th>3</th>\n",
       "      <td>10023880</td>\n",
       "      <td>2018-12-28</td>\n",
       "      <td>0.039591</td>\n",
       "    </tr>\n",
       "    <tr>\n",
       "      <th>4</th>\n",
       "      <td>10028999</td>\n",
       "      <td>2019-11-05</td>\n",
       "      <td>0.017541</td>\n",
       "    </tr>\n",
       "    <tr>\n",
       "      <th>...</th>\n",
       "      <td>...</td>\n",
       "      <td>...</td>\n",
       "      <td>...</td>\n",
       "    </tr>\n",
       "    <tr>\n",
       "      <th>5068</th>\n",
       "      <td>9992154</td>\n",
       "      <td>2018-10-03</td>\n",
       "      <td>0.056885</td>\n",
       "    </tr>\n",
       "    <tr>\n",
       "      <th>5069</th>\n",
       "      <td>9993925</td>\n",
       "      <td>2018-01-02</td>\n",
       "      <td>0.408158</td>\n",
       "    </tr>\n",
       "    <tr>\n",
       "      <th>5070</th>\n",
       "      <td>9994662</td>\n",
       "      <td>2020-02-10</td>\n",
       "      <td>0.015996</td>\n",
       "    </tr>\n",
       "    <tr>\n",
       "      <th>5071</th>\n",
       "      <td>9994800</td>\n",
       "      <td>2020-12-16</td>\n",
       "      <td>0.025931</td>\n",
       "    </tr>\n",
       "    <tr>\n",
       "      <th>5072</th>\n",
       "      <td>9997223</td>\n",
       "      <td>2020-07-18</td>\n",
       "      <td>0.003344</td>\n",
       "    </tr>\n",
       "  </tbody>\n",
       "</table>\n",
       "<p>5073 rows × 3 columns</p>\n",
       "</div>"
      ],
      "text/plain": [
       "       Cliente Fecha Creacion  Frecuency Actual del Cliente\n",
       "0     10003742     2020-05-23                      0.003344\n",
       "1     10007508     2018-03-01                      0.201752\n",
       "2     10017269     2018-01-27                      0.059365\n",
       "3     10023880     2018-12-28                      0.039591\n",
       "4     10028999     2019-11-05                      0.017541\n",
       "...        ...            ...                           ...\n",
       "5068   9992154     2018-10-03                      0.056885\n",
       "5069   9993925     2018-01-02                      0.408158\n",
       "5070   9994662     2020-02-10                      0.015996\n",
       "5071   9994800     2020-12-16                      0.025931\n",
       "5072   9997223     2020-07-18                      0.003344\n",
       "\n",
       "[5073 rows x 3 columns]"
      ]
     },
     "execution_count": 80,
     "metadata": {},
     "output_type": "execute_result"
    }
   ],
   "source": [
    "df_F_Pruf"
   ]
  },
  {
   "cell_type": "code",
   "execution_count": 86,
   "id": "0fa0167b",
   "metadata": {
    "hidden": true
   },
   "outputs": [
    {
     "name": "stdout",
     "output_type": "stream",
     "text": [
      "R (5073, 3)\n",
      "F (5073, 3)\n",
      "M (5073, 6)\n",
      "RF (5073, 5)\n",
      "RFM (5073, 10)\n"
     ]
    },
    {
     "data": {
      "text/html": [
       "<div>\n",
       "<style scoped>\n",
       "    .dataframe tbody tr th:only-of-type {\n",
       "        vertical-align: middle;\n",
       "    }\n",
       "\n",
       "    .dataframe tbody tr th {\n",
       "        vertical-align: top;\n",
       "    }\n",
       "\n",
       "    .dataframe thead th {\n",
       "        text-align: right;\n",
       "    }\n",
       "</style>\n",
       "<table border=\"1\" class=\"dataframe\">\n",
       "  <thead>\n",
       "    <tr style=\"text-align: right;\">\n",
       "      <th></th>\n",
       "      <th>Cliente</th>\n",
       "      <th>Fecha ultima Compra</th>\n",
       "      <th>Recency Actual</th>\n",
       "      <th>Fecha Creacion</th>\n",
       "      <th>Frecuency Actual del Cliente</th>\n",
       "      <th>Kilos Venta KG Promedio</th>\n",
       "      <th>Precio Promedio</th>\n",
       "      <th>Año Creación Promedio</th>\n",
       "      <th>Frecuencia Historica Promedio</th>\n",
       "      <th>Ingreso de Venta Promedio</th>\n",
       "    </tr>\n",
       "  </thead>\n",
       "  <tbody>\n",
       "    <tr>\n",
       "      <th>0</th>\n",
       "      <td>10003742</td>\n",
       "      <td>2020-05-23</td>\n",
       "      <td>521</td>\n",
       "      <td>2020-05-23</td>\n",
       "      <td>0.003344</td>\n",
       "      <td>22.000000</td>\n",
       "      <td>1300.000000</td>\n",
       "      <td>2007.0</td>\n",
       "      <td>19.0</td>\n",
       "      <td>28600.000000</td>\n",
       "    </tr>\n",
       "    <tr>\n",
       "      <th>1</th>\n",
       "      <td>10007508</td>\n",
       "      <td>2021-10-26</td>\n",
       "      <td>0</td>\n",
       "      <td>2018-03-01</td>\n",
       "      <td>0.201752</td>\n",
       "      <td>93.158654</td>\n",
       "      <td>1266.894231</td>\n",
       "      <td>2007.0</td>\n",
       "      <td>464.0</td>\n",
       "      <td>117683.471154</td>\n",
       "    </tr>\n",
       "    <tr>\n",
       "      <th>2</th>\n",
       "      <td>10017269</td>\n",
       "      <td>2021-10-23</td>\n",
       "      <td>3</td>\n",
       "      <td>2018-01-27</td>\n",
       "      <td>0.059365</td>\n",
       "      <td>22.038462</td>\n",
       "      <td>1347.782051</td>\n",
       "      <td>2007.0</td>\n",
       "      <td>101.0</td>\n",
       "      <td>29699.448718</td>\n",
       "    </tr>\n",
       "    <tr>\n",
       "      <th>3</th>\n",
       "      <td>10023880</td>\n",
       "      <td>2021-09-09</td>\n",
       "      <td>47</td>\n",
       "      <td>2018-12-28</td>\n",
       "      <td>0.039591</td>\n",
       "      <td>27.500000</td>\n",
       "      <td>1400.000000</td>\n",
       "      <td>2007.0</td>\n",
       "      <td>383.0</td>\n",
       "      <td>38390.000000</td>\n",
       "    </tr>\n",
       "    <tr>\n",
       "      <th>4</th>\n",
       "      <td>10028999</td>\n",
       "      <td>2021-09-24</td>\n",
       "      <td>32</td>\n",
       "      <td>2019-11-05</td>\n",
       "      <td>0.017541</td>\n",
       "      <td>22.000000</td>\n",
       "      <td>1320.923077</td>\n",
       "      <td>2007.0</td>\n",
       "      <td>62.0</td>\n",
       "      <td>29060.307692</td>\n",
       "    </tr>\n",
       "  </tbody>\n",
       "</table>\n",
       "</div>"
      ],
      "text/plain": [
       "    Cliente Fecha ultima Compra  Recency Actual Fecha Creacion  \\\n",
       "0  10003742          2020-05-23             521     2020-05-23   \n",
       "1  10007508          2021-10-26               0     2018-03-01   \n",
       "2  10017269          2021-10-23               3     2018-01-27   \n",
       "3  10023880          2021-09-09              47     2018-12-28   \n",
       "4  10028999          2021-09-24              32     2019-11-05   \n",
       "\n",
       "   Frecuency Actual del Cliente  Kilos Venta KG Promedio  Precio Promedio  \\\n",
       "0                      0.003344                22.000000      1300.000000   \n",
       "1                      0.201752                93.158654      1266.894231   \n",
       "2                      0.059365                22.038462      1347.782051   \n",
       "3                      0.039591                27.500000      1400.000000   \n",
       "4                      0.017541                22.000000      1320.923077   \n",
       "\n",
       "   Año Creación Promedio  Frecuencia Historica Promedio  \\\n",
       "0                 2007.0                           19.0   \n",
       "1                 2007.0                          464.0   \n",
       "2                 2007.0                          101.0   \n",
       "3                 2007.0                          383.0   \n",
       "4                 2007.0                           62.0   \n",
       "\n",
       "   Ingreso de Venta Promedio  \n",
       "0               28600.000000  \n",
       "1              117683.471154  \n",
       "2               29699.448718  \n",
       "3               38390.000000  \n",
       "4               29060.307692  "
      ]
     },
     "execution_count": 86,
     "metadata": {},
     "output_type": "execute_result"
    }
   ],
   "source": [
    "print('R',df_fecha_R.shape)\n",
    "print('F',df_F_Pruf.shape)\n",
    "print('M',data_M.shape)\n",
    "\n",
    "data_RFM=pd.merge(df_fecha_R,df_F_Pruf)\n",
    "print('RF',data_RFM.shape)\n",
    "data_RFM=pd.merge(data_RFM,data_M)\n",
    "print('RFM',data_RFM.shape)\n",
    "\n",
    "data_RFM.head()"
   ]
  },
  {
   "cell_type": "markdown",
   "id": "0d09476d",
   "metadata": {
    "heading_collapsed": true,
    "hidden": true
   },
   "source": [
    "## SAVE CSV  "
   ]
  },
  {
   "cell_type": "code",
   "execution_count": 88,
   "id": "d6ab61d0",
   "metadata": {
    "hidden": true
   },
   "outputs": [
    {
     "name": "stdout",
     "output_type": "stream",
     "text": [
      "Guardado df\n",
      "Time Lapsed = 0:5:50.53199791908264 \n",
      " H:m:s\n",
      "Frecuency total codigo\n",
      "Time Lapsed = 1:1:34.90453243255615 \n",
      " H:m:s\n"
     ]
    }
   ],
   "source": [
    "#  ```python\n",
    "File_save_CSV=file_direct_O+'Clientes_1010078_CT RFM'+'.csv'\n",
    "\n",
    "data_RFM.to_csv(File_save_CSV, encoding='utf-8',index=True,sep=';')\n",
    "\n",
    "end_time_4 = time.time()\n",
    "time_lapsed_4 = end_time_4 - end_time_3\n",
    "time_lapsed_final = end_time_4 - start_time\n",
    "\n",
    "print('Guardado df')\n",
    "time_convert(time_lapsed_4)\n",
    "\n",
    "print('Frecuency total codigo')\n",
    "time_convert(time_lapsed_final)\n",
    "# ```"
   ]
  }
 ],
 "metadata": {
  "celltoolbar": "Raw Cell Format",
  "kernelspec": {
   "display_name": "Python 3",
   "language": "python",
   "name": "python3"
  },
  "language_info": {
   "codemirror_mode": {
    "name": "ipython",
    "version": 3
   },
   "file_extension": ".py",
   "mimetype": "text/x-python",
   "name": "python",
   "nbconvert_exporter": "python",
   "pygments_lexer": "ipython3",
   "version": "3.8.5"
  },
  "toc": {
   "base_numbering": 1,
   "nav_menu": {
    "height": "89px",
    "width": "334px"
   },
   "number_sections": true,
   "sideBar": true,
   "skip_h1_title": false,
   "title_cell": "Table of Contents",
   "title_sidebar": "Contents",
   "toc_cell": false,
   "toc_position": {
    "height": "calc(100% - 180px)",
    "left": "10px",
    "top": "150px",
    "width": "243.525px"
   },
   "toc_section_display": true,
   "toc_window_display": true
  }
 },
 "nbformat": 4,
 "nbformat_minor": 5
}
