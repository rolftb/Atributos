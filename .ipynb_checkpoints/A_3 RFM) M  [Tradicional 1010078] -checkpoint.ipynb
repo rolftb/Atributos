{
 "cells": [
  {
   "cell_type": "markdown",
   "id": "580b8db5",
   "metadata": {},
   "source": [
    "Notas:\n",
    "--------\n",
    "\n",
    "   - [x] __Construir la variable Recency.__\n",
    "        - [x] Sección para caso pequeño\n",
    "        - [x] Función para estadnarizar\n",
    "        - [x] Probar esta función\n",
    "        - [x] Implementar\n",
    "   - [ ] __Contruir Frecuency__\n",
    "        - [x] Sección para caso pequeño\n",
    "        - [x] Función para estadnarizar\n",
    "        - [x] Probar esta función\n",
    "        - [ ] Implementar\n",
    "   - [ ] __Construir Monetary__\n",
    "        - [ ] Sección para caso pequeño\n",
    "        - [ ] Función para estadnarizar\n",
    "        - [ ] Probar esta función\n",
    "        - [ ] Implementar   "
   ]
  },
  {
   "cell_type": "code",
   "execution_count": 1,
   "id": "57c1f8e0",
   "metadata": {},
   "outputs": [],
   "source": [
    "#!jt -l\n",
    "# !jt -t oceans16 -T\n",
    "# !jt -r"
   ]
  },
  {
   "cell_type": "markdown",
   "id": "48cc505f",
   "metadata": {
    "heading_collapsed": true
   },
   "source": [
    "# Inicio\n"
   ]
  },
  {
   "cell_type": "markdown",
   "id": "7c2a8234",
   "metadata": {
    "hidden": true
   },
   "source": [
    "\n",
    "__Rename__\n",
    "Recordar que la columna llamada\n",
    "\n",
    "- `Precio promedio` ahora es `Precio`\n",
    "- `Centro.1` ahora es `Centro`\n",
    "- `Centro` ahora es `Centro_Cod`\n",
    "\n",
    "Presenta los parametros del modelo:\n",
    "\n",
    "- Dirección datos\n",
    "- Dirección Graficos\n",
    "- _Material a analizar_\n",
    "- _Canal a analizar_\n",
    "- _Zona de los Datos_\n",
    "- _Año de inicio de analizis_\n",
    "\n",
    "Base de datos\n",
    "\n",
    "\n",
    "`Tipo_de_Cliente`\n",
    "`Y_producto`\n",
    "`Año_inicio`\n",
    "\n",
    "`file_direct_Graphic` "
   ]
  },
  {
   "cell_type": "markdown",
   "id": "8bad43fc",
   "metadata": {
    "hidden": true
   },
   "source": [
    "## Parametros "
   ]
  },
  {
   "cell_type": "code",
   "execution_count": 2,
   "id": "a0737e98",
   "metadata": {
    "hidden": true
   },
   "outputs": [],
   "source": [
    "#===================================\n",
    "# Archivo\n",
    "#===================================\n",
    "Zona_df='Z001'\n",
    "\n",
    "#===================================\n",
    "# Clientes\n",
    "#===================================\n",
    "Tipo_de_Cliente='Tradicional'\n",
    "\n",
    "#===================================\n",
    "# Producto de interes\n",
    "#===================================\n",
    "Y_producto='1010078'\n",
    "\n",
    "\n",
    "#===================================\n",
    "# Año de Partida\n",
    "#===================================\n",
    "Año_inicio='2018'\n",
    "\n",
    "\n",
    "\n",
    "\n",
    "# Ordenador de escritorio\n",
    "\n",
    "file_direct_O=\"C:/Users/user/Documents/Data/Data Clear/\"+Zona_df+\"/\"\n",
    "file_direct_Clear=\"C:/Users/user/Documents/Data/Data Clear/\"\n",
    "file_direct_Graphic='C:/Users/user/Documents/Graficos'\n",
    "Png_file_direct_Graphic=\"C:\\\\Users\\\\user\\\\Documents\\\\Graficos\"\n",
    "\"\"\"\n",
    "\n",
    "#Notebook\n",
    "file_direct_O=\"C:/Users/rolft/Documents/Repositorios/Data/Data Clear/\"+Zona_df+\"/\"\n",
    "file_direct_Clear=\"C:/Users/rolft/Documents/Repositorios/Data/Data Clear/\"\n",
    "file_direct_Graphic='C:/Users/rolft/Documents/Repositorios/Graficos'\n",
    "Png_file_direct_Graphic='C:\\\\Users\\\\rolft\\\\Documents\\\\Repositorios\\\\Graficos'\n",
    "\"\"\"\n",
    "#Graficos\n",
    "file_direct_Graphic_Canal=file_direct_Graphic+\"/\"+Tipo_de_Cliente\n",
    "file_direct_Graphic_Canal_Material=file_direct_Graphic_Canal+'/'+Y_producto\n",
    "\n",
    "Png_file_direct_Graphic_Canal=Png_file_direct_Graphic+'\\\\'+'Canal '+Tipo_de_Cliente\n",
    "Png_file_direct_Graphic_Canal_Material=Png_file_direct_Graphic_Canal+'\\\\'+Y_producto\n"
   ]
  },
  {
   "cell_type": "markdown",
   "id": "f80e374d",
   "metadata": {
    "hidden": true
   },
   "source": [
    "## Intalar paquetes, Abrir data y ajustarla "
   ]
  },
  {
   "cell_type": "markdown",
   "id": "6a7c4706",
   "metadata": {
    "hidden": true
   },
   "source": [
    "### import"
   ]
  },
  {
   "cell_type": "code",
   "execution_count": 3,
   "id": "faaa036d",
   "metadata": {
    "hidden": true,
    "scrolled": true
   },
   "outputs": [],
   "source": [
    "#from adjustText import adjust_text\n",
    "# from adjustText import *"
   ]
  },
  {
   "cell_type": "code",
   "execution_count": 4,
   "id": "0ea91ad7",
   "metadata": {
    "hidden": true
   },
   "outputs": [],
   "source": [
    "#=====================================================\n",
    "                # BASE \n",
    "#-----------------------------------------------------\n",
    "import pandas as pd\n",
    "import numpy as np\n",
    "import matplotlib.pyplot as plt\n",
    "\n",
    "#from geopandas import *\n",
    "\n",
    "from plotnine import *\n",
    "\n",
    "#para ajustar las fechas\n",
    "import datetime\n",
    "\n",
    "#para calcular el skew de un array() o list()\n",
    "from scipy.stats import skew "
   ]
  },
  {
   "cell_type": "code",
   "execution_count": 5,
   "id": "8916d4cd",
   "metadata": {
    "hidden": true
   },
   "outputs": [],
   "source": [
    "#=====================================================\n",
    "                # sklearn \n",
    "#-----------------------------------------------------\n",
    "\n",
    "#Separador de datos en train/test\n",
    "from sklearn.model_selection import train_test_split\n",
    "\n",
    "#Prediccion Ridge Regression\n",
    "from sklearn.linear_model import Ridge"
   ]
  },
  {
   "cell_type": "code",
   "execution_count": 6,
   "id": "8d82be85",
   "metadata": {
    "hidden": true
   },
   "outputs": [],
   "source": [
    "#=====================================================\n",
    "                # statsmodels \n",
    "#-----------------------------------------------------\n",
    "import statsmodels.api as sm\n",
    "import statsmodels.formula.api as smf\n",
    "from statsmodels.tools.sm_exceptions import ConvergenceWarning\n",
    "\n",
    "\n",
    "#from statsmodels.regression.mixed_linear_model import MixedLMResults\n",
    "# No se para qué sirve este"
   ]
  },
  {
   "cell_type": "code",
   "execution_count": 7,
   "id": "734ff701",
   "metadata": {
    "hidden": true
   },
   "outputs": [],
   "source": [
    "#====================================================\n",
    "#librerias para crear division de series temporales\n",
    "#====================================================\n",
    "\n",
    "from mizani.breaks import date_breaks\n",
    "from mizani.formatters import date_format"
   ]
  },
  {
   "cell_type": "code",
   "execution_count": 8,
   "id": "34160d20",
   "metadata": {
    "hidden": true
   },
   "outputs": [],
   "source": [
    "# stopwatch\n",
    "import time\n",
    "def time_convert(sec):\n",
    "  mins = sec // 60\n",
    "  sec = sec % 60\n",
    "  hours = mins // 60\n",
    "  mins = mins % 60\n",
    "  print(\"Time Lapsed = {0}:{1}:{2}\".format(int(hours),int(mins),sec),'\\n H:m:s')\n",
    "#==================================\n",
    "#          Example\n",
    "#    input(\"Press Enter to start\")\n",
    "start_time = time.time()\n",
    "#    input(\"Press Enter to stop\")\n",
    "#    end_time = time.time()\n",
    "#    time_lapsed = end_time - start_time\n",
    "#    time_convert(time_lapsed)\n",
    "#================================="
   ]
  },
  {
   "cell_type": "markdown",
   "id": "0e0194b5",
   "metadata": {
    "hidden": true
   },
   "source": [
    "### Funciones \n",
    "```python\n",
    "#Mes_name\n",
    "data_i.Mes.apply(Mes_name)\n",
    "```\n",
    ">Transforma la columna mes numerica en el nombre del mes"
   ]
  },
  {
   "cell_type": "markdown",
   "id": "76bc8afd",
   "metadata": {
    "hidden": true
   },
   "source": [
    "__Forma de crear una etiqueta para un valor especifico__\n",
    "```python\n",
    "#[Y_Graph]\n",
    "dfz=df.copy()\n",
    "dfz['Año select']=dfz.apply( lambda x: x['Año'] if x['Año']==2020 else '',axis=1)\n",
    "dfz\n",
    "```"
   ]
  },
  {
   "cell_type": "code",
   "execution_count": 9,
   "id": "ad8627c9",
   "metadata": {
    "hidden": true
   },
   "outputs": [],
   "source": [
    "#===================================\n",
    "# Dicionario MES\n",
    "#===================================\n",
    "\n",
    "#===================================\n",
    "# Fecha\n",
    "D=['Enero','Febrero','Marzo','Abril',\n",
    " 'Mayo','Junio','Julio','Agosto',\n",
    " 'Septiembre','Octubre',\n",
    " 'Noviembre','Diciembre']\n",
    "Month_dic={i:D[i-1]  for i in range(1,13)}\n",
    "#===========================================\n",
    "\n",
    "\n",
    "def Mes_name(x):\n",
    "    D=['Enero','Febrero','Marzo','Abril',\n",
    "    'Mayo','Junio','Julio','Agosto',\n",
    "    'Septiembre','Octubre',\n",
    "    'Noviembre','Diciembre']\n",
    "    return(D[int(x)-1])"
   ]
  },
  {
   "cell_type": "markdown",
   "id": "b8b67d6b",
   "metadata": {
    "hidden": true
   },
   "source": [
    "## Datos  \n",
    "Se cargan los datos de\n",
    "Ventas y la defincion de los productos\n",
    "Ventas está en `data_v` y despues pasa a ser `data`\n",
    "\n",
    "Productos estan cargados en `DF_products`\n"
   ]
  },
  {
   "cell_type": "markdown",
   "id": "7b6b6d72",
   "metadata": {
    "hidden": true
   },
   "source": [
    "###  DF_FULL"
   ]
  },
  {
   "cell_type": "markdown",
   "id": "53e5214b",
   "metadata": {
    "hidden": true
   },
   "source": [
    "##### Abrir Archivo  "
   ]
  },
  {
   "cell_type": "code",
   "execution_count": 10,
   "id": "d3f89b2c",
   "metadata": {
    "hidden": true
   },
   "outputs": [
    {
     "data": {
      "text/html": [
       "<div>\n",
       "<style scoped>\n",
       "    .dataframe tbody tr th:only-of-type {\n",
       "        vertical-align: middle;\n",
       "    }\n",
       "\n",
       "    .dataframe tbody tr th {\n",
       "        vertical-align: top;\n",
       "    }\n",
       "\n",
       "    .dataframe thead th {\n",
       "        text-align: right;\n",
       "    }\n",
       "</style>\n",
       "<table border=\"1\" class=\"dataframe\">\n",
       "  <thead>\n",
       "    <tr style=\"text-align: right;\">\n",
       "      <th></th>\n",
       "      <th>Zona de ventas</th>\n",
       "      <th>Zona de ventas.1</th>\n",
       "      <th>Cliente</th>\n",
       "      <th>Cliente.1</th>\n",
       "      <th>Cliente - Local</th>\n",
       "      <th>Cliente - Local.1</th>\n",
       "      <th>Material</th>\n",
       "      <th>Día natural</th>\n",
       "      <th>Kilos Venta KG</th>\n",
       "      <th>Venta Neta</th>\n",
       "      <th>...</th>\n",
       "      <th>Tipo de material.1</th>\n",
       "      <th>Marca</th>\n",
       "      <th>Nivel 2</th>\n",
       "      <th>Granel/Envasado</th>\n",
       "      <th>Marinado</th>\n",
       "      <th>Nivel 3</th>\n",
       "      <th>Grupo artículos</th>\n",
       "      <th>Estado</th>\n",
       "      <th>Estandar</th>\n",
       "      <th>Envase</th>\n",
       "    </tr>\n",
       "  </thead>\n",
       "  <tbody>\n",
       "    <tr>\n",
       "      <th>0</th>\n",
       "      <td>Z001</td>\n",
       "      <td>Santiago</td>\n",
       "      <td>10003742</td>\n",
       "      <td>Ferrer Leiva Sonia</td>\n",
       "      <td>Ferrer Leiva Sonia</td>\n",
       "      <td>38458</td>\n",
       "      <td>1010077</td>\n",
       "      <td>2018-02-09</td>\n",
       "      <td>12.0</td>\n",
       "      <td>13685.0</td>\n",
       "      <td>...</td>\n",
       "      <td>Prod. Term.  Ave</td>\n",
       "      <td>SUPER POLLO (SP)</td>\n",
       "      <td>Trutro</td>\n",
       "      <td>GRANEL</td>\n",
       "      <td>MARINADO</td>\n",
       "      <td>Trutro Entero</td>\n",
       "      <td>01050</td>\n",
       "      <td>REFRIGERADO</td>\n",
       "      <td>PESO VARIABLE</td>\n",
       "      <td>NO CONGELADO</td>\n",
       "    </tr>\n",
       "  </tbody>\n",
       "</table>\n",
       "<p>1 rows × 40 columns</p>\n",
       "</div>"
      ],
      "text/plain": [
       "  Zona de ventas Zona de ventas.1   Cliente           Cliente.1  \\\n",
       "0           Z001         Santiago  10003742  Ferrer Leiva Sonia   \n",
       "\n",
       "      Cliente - Local Cliente - Local.1 Material Día natural Kilos Venta KG  \\\n",
       "0  Ferrer Leiva Sonia             38458  1010077  2018-02-09           12.0   \n",
       "\n",
       "  Venta Neta  ... Tipo de material.1             Marca Nivel 2  \\\n",
       "0    13685.0  ...   Prod. Term.  Ave  SUPER POLLO (SP)  Trutro   \n",
       "\n",
       "  Granel/Envasado  Marinado        Nivel 3 Grupo artículos       Estado  \\\n",
       "0          GRANEL  MARINADO  Trutro Entero           01050  REFRIGERADO   \n",
       "\n",
       "        Estandar        Envase  \n",
       "0  PESO VARIABLE  NO CONGELADO  \n",
       "\n",
       "[1 rows x 40 columns]"
      ]
     },
     "execution_count": 10,
     "metadata": {},
     "output_type": "execute_result"
    }
   ],
   "source": [
    "#======================================================================\n",
    "# Se Cargan los datos de ventas con las caracteristicas de los clientes\n",
    "#=====================================================================\n",
    "\n",
    "file_direct=file_direct_O+'Ventas_Full'+'.csv'\n",
    "col_names=pd.read_csv(file_direct,\n",
    "                      encoding=\"utf-8\",sep=\";\",nrows=0).columns\n",
    "\n",
    "types_dict = {col: str for col in list(col_names)}\n",
    "\n",
    "DF_FULL = pd.read_csv(file_direct,\n",
    "                   encoding=\"utf-8\",sep=\";\",dtype=types_dict)\n",
    "#elimina una columna en especifico\n",
    "#DF_FULL.drop('Año natural', inplace=True, axis=1)\n",
    "DF_FULL.head(1)"
   ]
  },
  {
   "cell_type": "markdown",
   "id": "50978acc",
   "metadata": {
    "hidden": true
   },
   "source": [
    "#### Funcion"
   ]
  },
  {
   "cell_type": "code",
   "execution_count": 11,
   "id": "d97d256e",
   "metadata": {
    "hidden": true
   },
   "outputs": [],
   "source": [
    "# =============================================================================\n",
    "# Ajustar la data\n",
    "# =============================================================================\n",
    "def Ajuste_data(data):\n",
    "    start_time = time.time()\n",
    "\n",
    "    df=data.copy()\n",
    "\n",
    "# =================================\n",
    "# ELiminare dodos los valores Nan\n",
    "# =================================\n",
    "    #for i in df.columns.to_list():\n",
    "    #    df=df[df[i].notna()]\n",
    "\n",
    "#=================================\n",
    "# Proceso iterativo Pasar a numero\n",
    "#=================================\n",
    "\n",
    "    for i in ['Kilos Venta KG','Venta Neta','Precio Promedio']:\n",
    "        df[i]=df[i].astype('float64').astype('int64')\n",
    "        \n",
    "#=================================\n",
    "# Agregar nombre al codigo del producto\n",
    "#=================================\n",
    "    def material_name(x):\n",
    "        s1=str(x['Material'])\n",
    "        s2=str(x['Nivel 4.1'])\n",
    "        return(s1+'('+s2+')')\n",
    "    df['Material (Nombre)']=df.apply(lambda x:  material_name(x), axis=1)\n",
    "    \n",
    "\n",
    "\n",
    "#==========================================================================================\n",
    "# Ajuste de las fechas\n",
    "#-----------------------------------------------------------------------------------------\n",
    "    df[\"Día natural\"] = df[\"Día natural\"].apply(lambda x: \n",
    "                                                datetime.datetime.strptime(str(x),\n",
    "                                                                           '%Y-%m-%d').date())\n",
    "    \n",
    "    #Separacion fecha\n",
    "    \n",
    "    #df['Semana']=df[\"Día natural\"].apply(lambda x: x.isocalendar()[1] )\n",
    "    #df['Mes']=df[\"Día natural\"].apply(lambda x: x.month)\n",
    "    #df['Año']=df[\"Día natural\"].apply(lambda x: x.year)\n",
    "    #df['Semana']=df['Semana'].astype('int64')\n",
    "    df['Año']=df['Año'].astype('int64')\n",
    "    D_W=['Lunes','Martes','Miércoles','Jueves', 'Viernes','Sábado','Domingo']\n",
    "    df['Día Semana']=df[\"Día natural\"].apply(lambda x: D_W[x.isocalendar()[2] -1])\n",
    "    df=df[df['Día Semana']!='Domingo']\n",
    "    \n",
    "    DF_FULL.dtypes\n",
    "    end_time = time.time()\n",
    "    time_convert(end_time - start_time)\n",
    "    return df"
   ]
  },
  {
   "cell_type": "markdown",
   "id": "ee2bcc68",
   "metadata": {
    "hidden": true
   },
   "source": [
    "### Datos año de inicio\n",
    "#### Rename"
   ]
  },
  {
   "cell_type": "code",
   "execution_count": 12,
   "id": "d6ca58ea",
   "metadata": {
    "hidden": true,
    "scrolled": true
   },
   "outputs": [
    {
     "name": "stdout",
     "output_type": "stream",
     "text": [
      "Time Lapsed = 0:0:20.793527364730835 \n",
      " H:m:s\n"
     ]
    },
    {
     "data": {
      "text/plain": [
       "Zona de ventas          object\n",
       "Zona de ventas.1        object\n",
       "Cliente                 object\n",
       "Cliente.1               object\n",
       "Cliente - Local         object\n",
       "Cliente - Local.1       object\n",
       "Material                object\n",
       "Día natural             object\n",
       "Kilos Venta KG           int64\n",
       "Venta Neta               int64\n",
       "Precio                   int64\n",
       "Frecuencia Historica    object\n",
       "Centro                  object\n",
       "Centro.1                object\n",
       "Población               object\n",
       "Tipo de cliente         object\n",
       "Cluster                 object\n",
       "Segmento                object\n",
       "Segmento.1              object\n",
       "Categoría Cliente       object\n",
       "Zona de reparto         object\n",
       "Año Creación            object\n",
       "Material Favorito       object\n",
       "Semana                  object\n",
       "Mes                     object\n",
       "Año                      int64\n",
       "Nivel 4                 object\n",
       "Nivel 4.1               object\n",
       "Sector                  object\n",
       "Tipo de material        object\n",
       "Tipo de material.1      object\n",
       "Marca                   object\n",
       "Nivel 2                 object\n",
       "Granel/Envasado         object\n",
       "Marinado                object\n",
       "Nivel 3                 object\n",
       "Grupo artículos         object\n",
       "Estado                  object\n",
       "Estandar                object\n",
       "Envase                  object\n",
       "Material (Nombre)       object\n",
       "Día Semana              object\n",
       "Centro_cod              object\n",
       "dtype: object"
      ]
     },
     "execution_count": 12,
     "metadata": {},
     "output_type": "execute_result"
    }
   ],
   "source": [
    "#=====================================\n",
    "# Aplicacion del ajuste de los datos\n",
    "#=====================================\n",
    "\n",
    "data=Ajuste_data(DF_FULL).rename(\n",
    "    columns={'Precio Promedio':'Precio'\n",
    "            #,'Centro.1':'Centro'\n",
    "            })\n",
    "data['Centro_cod']=data['Centro']\n",
    "data['Centro']=data['Centro.1']\n",
    "\n",
    "data[data.Año>=int(Año_inicio)]\n",
    "data.dtypes"
   ]
  },
  {
   "cell_type": "code",
   "execution_count": 13,
   "id": "20e9b364",
   "metadata": {
    "hidden": true,
    "scrolled": true
   },
   "outputs": [
    {
     "data": {
      "text/plain": [
       "-256"
      ]
     },
     "execution_count": 13,
     "metadata": {},
     "output_type": "execute_result"
    }
   ],
   "source": [
    "#=============================\n",
    "# Se eliminaron los regristros donde existen dias domingos\n",
    "#(No hay despacho los dias domingos)\n",
    "#============================\n",
    "\n",
    "data.shape[0] - DF_FULL.shape[0]"
   ]
  },
  {
   "cell_type": "markdown",
   "id": "79f8b061",
   "metadata": {
    "heading_collapsed": true
   },
   "source": [
    "# Selección data(Canal/material)"
   ]
  },
  {
   "cell_type": "code",
   "execution_count": 14,
   "id": "2740d399",
   "metadata": {
    "hidden": true
   },
   "outputs": [
    {
     "name": "stdout",
     "output_type": "stream",
     "text": [
      "Time Lapsed = 0:0:27.559659481048584 \n",
      " H:m:s\n"
     ]
    }
   ],
   "source": [
    "end_time = time.time()\n",
    "time_lapsed = end_time - start_time\n",
    "time_convert(time_lapsed)\n"
   ]
  },
  {
   "cell_type": "markdown",
   "id": "fa0ec774",
   "metadata": {
    "hidden": true
   },
   "source": [
    "data frame `data_i`\n",
    "\n",
    "\n",
    "> - Producto `i_producto = Y_producto`\n",
    "> -Para el Canal `Tipo_de_Cliente`\n",
    "> -Variable a predecir/Grafico `Y_Variable`\n",
    "\n",
    "Columnas de interes para predecir `X_col`\n",
    "\n",
    "Diccionario del grupo de columnas `Dic_col`"
   ]
  },
  {
   "cell_type": "markdown",
   "id": "56076fc8",
   "metadata": {
    "hidden": true
   },
   "source": [
    "## data "
   ]
  },
  {
   "cell_type": "markdown",
   "id": "2af7bd9f",
   "metadata": {
    "hidden": true
   },
   "source": [
    "##### Definición del producto "
   ]
  },
  {
   "cell_type": "code",
   "execution_count": 15,
   "id": "65ae6463",
   "metadata": {
    "hidden": true
   },
   "outputs": [
    {
     "name": "stdout",
     "output_type": "stream",
     "text": [
      "1010078 Tradicional\n"
     ]
    }
   ],
   "source": [
    "#==============================\n",
    "# Se define el producto\n",
    "#==============================\n",
    "i_producto=Y_producto\n",
    "print(i_producto\n",
    "     ,Tipo_de_Cliente)\n",
    "\n",
    "data_i=data[\n",
    "    (data['Tipo de cliente']==Tipo_de_Cliente)\n",
    "    &(data.Material==i_producto)\n",
    "].copy()\n"
   ]
  },
  {
   "cell_type": "markdown",
   "id": "3614f1ae",
   "metadata": {
    "hidden": true
   },
   "source": [
    "### Columnas a usar \n",
    "rename aplicado a `Precio promedio`"
   ]
  },
  {
   "cell_type": "markdown",
   "id": "38444021",
   "metadata": {
    "hidden": true
   },
   "source": [
    "###### Columnas a usar "
   ]
  },
  {
   "cell_type": "code",
   "execution_count": 16,
   "id": "be9ad327",
   "metadata": {
    "hidden": true,
    "scrolled": true
   },
   "outputs": [],
   "source": [
    "#=======================================================================================================\n",
    "                                                # Columnas a usar\n",
    "#========================================================================================================\n",
    "\n",
    "data_i=data_i[[\n",
    "                    #======================================   \n",
    "                                    # Base de la venta\n",
    "                    #--------------------------------------\n",
    "\n",
    "'Material (Nombre)',\n",
    "    #ID Nombre\n",
    "    \n",
    "#========================\n",
    "#Cantidad/Ingreso/Precio\n",
    "#------------------------\n",
    "'Kilos Venta KG',\n",
    "#'Venta Neta', No es necesario o de interes para la prediccion\n",
    "'Precio',\n",
    "\n",
    "#========================\n",
    "#fecha\n",
    "#------------------------\n",
    "'Día natural', #Se descarta por series de tiempo\n",
    "    # Ver si funciona\n",
    "\n",
    "'Día Semana',\n",
    "    #lun, Mart, Mier, Juev\n",
    "'Semana',\n",
    "    #1, 2 , 3 ,..., 52, 53\n",
    "'Mes',\n",
    "    #1,2,3,...,12\n",
    "'Año',\n",
    "    #2018,2019,...,2021\n",
    "    \n",
    "    \n",
    "\n",
    "#______________________________________________________________________\n",
    "                        \n",
    "                                    # CLIENTE\n",
    "    \n",
    "#=====================================\n",
    "#Ubicacion del cliente\n",
    "#-------------------------------------\n",
    "'Población', #'Zona de reparto',\n",
    "#Comuna del Cliente ; Codigo de la zona de reparto\n",
    "#[No son excluyentes, la Zona de reparto\n",
    "#Es más especifica y agrupa a clientes]\n",
    "\n",
    "\n",
    "                #Region\n",
    "                #'Zona de ventas',\n",
    "                #'Zona de ventas.1',\n",
    "                    #(Z001: Santiago)\n",
    "\n",
    "#Es atendido por la Centro:\n",
    "'Centro', #'Centro', Centro de distribución de los productos\n",
    "    #ID Centro, Nombre Centro(oficina o centro)\n",
    "    \n",
    "#=========================================    \n",
    "#Identificacion del cliente\n",
    "#---------------------------------------\n",
    "'Cliente', #'Cliente.1',\n",
    "     #ID del cliente , #nombre del cliente\n",
    " #'Cliente - Local', 'Cliente - Local.1'\n",
    "     # Tambien funciona como ID\n",
    "         #ID, Nombre\n",
    "\n",
    "    #Agrupacion del cliente\n",
    "    #'Tipo de cliente', #SON TODOS IGUALES\n",
    "    'Cluster', \n",
    "         #Canal del cliente ; Tipo de cliente\n",
    "             #Tradicional   ; Clasico\n",
    "\n",
    "    #Nivel de cobertura\n",
    "    #'Segmento', \n",
    "     'Segmento.1',\n",
    "     #codigo ; nombre\n",
    "         #50 ; Cobertura pequeno SD\n",
    "    'Categoría Cliente',\n",
    "            #Especialista en Proc\n",
    "\n",
    "\n",
    "    #===================================================\n",
    "    #Caracteristicas Adiocinales a su consumo\n",
    "    #-------------------------------------------------\n",
    "        'Año Creación',\n",
    "            #Fecha de afiliación a Agrosuper\n",
    "             #-> Debe ser INT idealmente\n",
    "\n",
    "        'Material Favorito',\n",
    "             #ID del producto que ha comprado más frecuentemente\n",
    "             #(No por cantidad, si no que por cantidad de compras realizadas)\n",
    "                 #-> Puede ser solo el codigo o el nombre tambien\n",
    "\n",
    "        'Frecuencia Historica',\n",
    "             #Cantidad de compras realizadas desde el 2018\n",
    "                 #-> debe ser INT\n",
    "                     #-> constante para todas las compras\n",
    "                            # Al ser variable complejiza todo\n",
    " \n",
    "]]\n"
   ]
  },
  {
   "cell_type": "markdown",
   "id": "0390aa21",
   "metadata": {
    "hidden": true
   },
   "source": [
    "###### Ajuste de type de columnas "
   ]
  },
  {
   "cell_type": "code",
   "execution_count": 17,
   "id": "a0e19457",
   "metadata": {
    "hidden": true
   },
   "outputs": [],
   "source": [
    "data_i['Frecuencia Historica']=data_i['Frecuencia Historica'].astype('int64')\n",
    "data_i['Año Creación']=data_i['Año Creación'].astype('int64')"
   ]
  },
  {
   "cell_type": "code",
   "execution_count": 18,
   "id": "62f38f3b",
   "metadata": {
    "hidden": true
   },
   "outputs": [
    {
     "name": "stdout",
     "output_type": "stream",
     "text": [
      "category\n",
      "(198596, 18)\n",
      "(198596, 18)\n",
      "(198596, 18)\n"
     ]
    },
    {
     "data": {
      "text/html": [
       "<div>\n",
       "<style scoped>\n",
       "    .dataframe tbody tr th:only-of-type {\n",
       "        vertical-align: middle;\n",
       "    }\n",
       "\n",
       "    .dataframe tbody tr th {\n",
       "        vertical-align: top;\n",
       "    }\n",
       "\n",
       "    .dataframe thead th {\n",
       "        text-align: right;\n",
       "    }\n",
       "</style>\n",
       "<table border=\"1\" class=\"dataframe\">\n",
       "  <thead>\n",
       "    <tr style=\"text-align: right;\">\n",
       "      <th></th>\n",
       "      <th>Material (Nombre)</th>\n",
       "      <th>Kilos Venta KG</th>\n",
       "      <th>Precio</th>\n",
       "      <th>Día natural</th>\n",
       "      <th>Día Semana</th>\n",
       "      <th>Semana</th>\n",
       "      <th>Mes</th>\n",
       "      <th>Año</th>\n",
       "      <th>Población</th>\n",
       "      <th>Centro</th>\n",
       "      <th>Cliente</th>\n",
       "      <th>Cluster</th>\n",
       "      <th>Segmento.1</th>\n",
       "      <th>Categoría Cliente</th>\n",
       "      <th>Año Creación</th>\n",
       "      <th>Material Favorito</th>\n",
       "      <th>Frecuencia Historica</th>\n",
       "      <th>Mes_num</th>\n",
       "    </tr>\n",
       "  </thead>\n",
       "  <tbody>\n",
       "    <tr>\n",
       "      <th>61455</th>\n",
       "      <td>1010078(Trutro Entero Selección)</td>\n",
       "      <td>22</td>\n",
       "      <td>1300</td>\n",
       "      <td>2020-05-23</td>\n",
       "      <td>Sábado</td>\n",
       "      <td>21</td>\n",
       "      <td>Mayo</td>\n",
       "      <td>2020</td>\n",
       "      <td>La Pintana</td>\n",
       "      <td>Sucursal Lo Espejo</td>\n",
       "      <td>10003742</td>\n",
       "      <td>Clásico</td>\n",
       "      <td>Cobertura Pequeno SD</td>\n",
       "      <td>Especialista en Proc</td>\n",
       "      <td>2007</td>\n",
       "      <td>1010077</td>\n",
       "      <td>19</td>\n",
       "      <td>5</td>\n",
       "    </tr>\n",
       "    <tr>\n",
       "      <th>61456</th>\n",
       "      <td>1010078(Trutro Entero Selección)</td>\n",
       "      <td>110</td>\n",
       "      <td>1174</td>\n",
       "      <td>2018-03-01</td>\n",
       "      <td>Jueves</td>\n",
       "      <td>9</td>\n",
       "      <td>Marzo</td>\n",
       "      <td>2018</td>\n",
       "      <td>Puente Alto</td>\n",
       "      <td>Sucursal Lo Espejo</td>\n",
       "      <td>10007508</td>\n",
       "      <td>Clásico</td>\n",
       "      <td>Cobertura Mediano SD</td>\n",
       "      <td>Especialista en Crud</td>\n",
       "      <td>2007</td>\n",
       "      <td>1020253</td>\n",
       "      <td>464</td>\n",
       "      <td>3</td>\n",
       "    </tr>\n",
       "  </tbody>\n",
       "</table>\n",
       "</div>"
      ],
      "text/plain": [
       "                      Material (Nombre)  Kilos Venta KG  Precio Día natural  \\\n",
       "61455  1010078(Trutro Entero Selección)              22    1300  2020-05-23   \n",
       "61456  1010078(Trutro Entero Selección)             110    1174  2018-03-01   \n",
       "\n",
       "      Día Semana Semana    Mes   Año    Población              Centro  \\\n",
       "61455     Sábado     21   Mayo  2020   La Pintana  Sucursal Lo Espejo   \n",
       "61456     Jueves      9  Marzo  2018  Puente Alto  Sucursal Lo Espejo   \n",
       "\n",
       "        Cliente  Cluster            Segmento.1     Categoría Cliente  \\\n",
       "61455  10003742  Clásico  Cobertura Pequeno SD  Especialista en Proc   \n",
       "61456  10007508  Clásico  Cobertura Mediano SD  Especialista en Crud   \n",
       "\n",
       "       Año Creación Material Favorito  Frecuencia Historica Mes_num  \n",
       "61455          2007           1010077                    19       5  \n",
       "61456          2007           1020253                   464       3  "
      ]
     },
     "execution_count": 18,
     "metadata": {},
     "output_type": "execute_result"
    }
   ],
   "source": [
    "#Ajuste Columnas \n",
    "data_i.Año=data_i.Año.astype('category')\n",
    "print(data_i.Año.dtype)\n",
    "data_i['Mes_num']=data_i[\"Mes\"]#.apply(lambda x: Mes_name(x))\n",
    "print(data_i.shape)\n",
    "data_i['Mes']=data_i[\"Mes_num\"].apply(lambda x: Mes_name(x))\n",
    "print(data_i.shape)\n",
    "data_i[['Mes','Mes_num','Día natural']].head()\n",
    "print(data_i.shape)\n",
    "data_i.head(2)"
   ]
  },
  {
   "cell_type": "markdown",
   "id": "f0b5bcbc",
   "metadata": {
    "hidden": true
   },
   "source": [
    "##### brebe analisis "
   ]
  },
  {
   "cell_type": "markdown",
   "id": "fc58991b",
   "metadata": {
    "hidden": true
   },
   "source": [
    "###### Diferencias en filas y columnas, data base "
   ]
  },
  {
   "cell_type": "code",
   "execution_count": 19,
   "id": "b493f861",
   "metadata": {
    "hidden": true
   },
   "outputs": [
    {
     "name": "stdout",
     "output_type": "stream",
     "text": [
      "Data Full (1061161, 40)\n",
      "-256 3\n",
      "Data Año (1060905, 43)\n",
      "-862309 -25\n",
      "Data Año, Canal Producto (198596, 18)\n"
     ]
    }
   ],
   "source": [
    "#======================================\n",
    "# Disminución de las filas y columnas\n",
    "# al pasar a data_i\n",
    "#======================================\n",
    "\n",
    "print('Data Full',DF_FULL.shape)\n",
    "print(data.shape[0]-DF_FULL.shape[0],\n",
    "      data.shape[1]-DF_FULL.shape[1])\n",
    "print('Data Año',data.shape)\n",
    "print(data_i.shape[0]-data.shape[0],\n",
    "      data_i.shape[1]-data.shape[1])\n",
    "print('Data Año, Canal Producto',data_i.shape)"
   ]
  },
  {
   "cell_type": "markdown",
   "id": "3b19e2eb",
   "metadata": {
    "hidden": true
   },
   "source": [
    "###### Describe "
   ]
  },
  {
   "cell_type": "code",
   "execution_count": 20,
   "id": "a21c032d",
   "metadata": {
    "hidden": true,
    "scrolled": false
   },
   "outputs": [
    {
     "data": {
      "text/html": [
       "<div>\n",
       "<style scoped>\n",
       "    .dataframe tbody tr th:only-of-type {\n",
       "        vertical-align: middle;\n",
       "    }\n",
       "\n",
       "    .dataframe tbody tr th {\n",
       "        vertical-align: top;\n",
       "    }\n",
       "\n",
       "    .dataframe thead th {\n",
       "        text-align: right;\n",
       "    }\n",
       "</style>\n",
       "<table border=\"1\" class=\"dataframe\">\n",
       "  <thead>\n",
       "    <tr style=\"text-align: right;\">\n",
       "      <th></th>\n",
       "      <th>index</th>\n",
       "      <th>Material (Nombre)</th>\n",
       "      <th>Kilos Venta KG</th>\n",
       "      <th>Precio</th>\n",
       "      <th>Día natural</th>\n",
       "      <th>Día Semana</th>\n",
       "      <th>Semana</th>\n",
       "      <th>Mes</th>\n",
       "      <th>Año</th>\n",
       "      <th>Población</th>\n",
       "      <th>Centro</th>\n",
       "      <th>Cliente</th>\n",
       "      <th>Cluster</th>\n",
       "      <th>Segmento.1</th>\n",
       "      <th>Categoría Cliente</th>\n",
       "      <th>Año Creación</th>\n",
       "      <th>Material Favorito</th>\n",
       "      <th>Frecuencia Historica</th>\n",
       "      <th>Mes_num</th>\n",
       "    </tr>\n",
       "  </thead>\n",
       "  <tbody>\n",
       "    <tr>\n",
       "      <th>1</th>\n",
       "      <td>unique</td>\n",
       "      <td>1</td>\n",
       "      <td>NaN</td>\n",
       "      <td>NaN</td>\n",
       "      <td>1140</td>\n",
       "      <td>6</td>\n",
       "      <td>53</td>\n",
       "      <td>12</td>\n",
       "      <td>4.0</td>\n",
       "      <td>46</td>\n",
       "      <td>3</td>\n",
       "      <td>5073</td>\n",
       "      <td>3</td>\n",
       "      <td>3</td>\n",
       "      <td>5</td>\n",
       "      <td>NaN</td>\n",
       "      <td>13</td>\n",
       "      <td>NaN</td>\n",
       "      <td>12</td>\n",
       "    </tr>\n",
       "  </tbody>\n",
       "</table>\n",
       "</div>"
      ],
      "text/plain": [
       "    index Material (Nombre)  Kilos Venta KG  Precio Día natural Día Semana  \\\n",
       "1  unique                 1             NaN     NaN        1140          6   \n",
       "\n",
       "  Semana Mes  Año Población Centro Cliente Cluster Segmento.1  \\\n",
       "1     53  12  4.0        46      3    5073       3          3   \n",
       "\n",
       "  Categoría Cliente  Año Creación Material Favorito  Frecuencia Historica  \\\n",
       "1                 5           NaN                13                   NaN   \n",
       "\n",
       "  Mes_num  \n",
       "1      12  "
      ]
     },
     "execution_count": 20,
     "metadata": {},
     "output_type": "execute_result"
    }
   ],
   "source": [
    "desc=data_i.describe(include='all').reset_index()\n",
    "desc[desc['index']=='unique']"
   ]
  },
  {
   "cell_type": "markdown",
   "id": "de023a7b",
   "metadata": {
    "hidden": true
   },
   "source": [
    "## Dicionario \n",
    "rename aplicado a `Precio promedio`"
   ]
  },
  {
   "cell_type": "code",
   "execution_count": 21,
   "id": "74447145",
   "metadata": {
    "hidden": true
   },
   "outputs": [],
   "source": [
    "Dic_col={'Base':\n",
    "                             ['Material (Nombre)', 'Kilos Venta KG', 'Precio','Cliente'],\n",
    "        'Fecha':\n",
    "                             ['Día natural','Día Semana','Semana', 'Mes', 'Año'],\n",
    "        'Ubicacion':\n",
    "                             ['Centro','Población'],\n",
    "        'Cliente Categoria':\n",
    "                             ['Cluster','Segmento.1', 'Categoría Cliente'],\n",
    "        'Cliente Atributos':\n",
    "                             ['Año Creación', 'Material Favorito','Frecuencia Historica'] \n",
    "        }"
   ]
  },
  {
   "cell_type": "markdown",
   "id": "59b17d20",
   "metadata": {
    "hidden": true
   },
   "source": [
    "##### Revision"
   ]
  },
  {
   "cell_type": "code",
   "execution_count": 22,
   "id": "cb5cfbaf",
   "metadata": {
    "hidden": true,
    "scrolled": true
   },
   "outputs": [
    {
     "name": "stdout",
     "output_type": "stream",
     "text": [
      "17\n",
      "['Material (Nombre)', 'Kilos Venta KG', 'Precio', 'Cliente', 'Día natural', 'Día Semana', 'Semana', 'Mes', 'Año', 'Centro', 'Población', 'Cluster', 'Segmento.1', 'Categoría Cliente', 'Año Creación', 'Material Favorito', 'Frecuencia Historica']\n"
     ]
    }
   ],
   "source": [
    "#List sirve para definir las columnas de interes para los datos\n",
    "list_=[]\n",
    "for i in Dic_col:\n",
    "    list_+=Dic_col[i]\n",
    "print(len(list_))\n",
    "print((list_))\n"
   ]
  },
  {
   "cell_type": "code",
   "execution_count": 23,
   "id": "ef1fbd92",
   "metadata": {
    "hidden": true,
    "scrolled": true
   },
   "outputs": [
    {
     "name": "stdout",
     "output_type": "stream",
     "text": [
      "dict_keys(['Base', 'Fecha', 'Ubicacion', 'Cliente Categoria', 'Cliente Atributos'])\n",
      "['Material (Nombre)', 'Kilos Venta KG', 'Precio', 'Cliente', 'Día natural', 'Día Semana', 'Semana', 'Mes', 'Año', 'Centro', 'Población', 'Cluster', 'Segmento.1', 'Categoría Cliente', 'Año Creación', 'Material Favorito', 'Frecuencia Historica'] 17\n"
     ]
    },
    {
     "data": {
      "text/html": [
       "<div>\n",
       "<style scoped>\n",
       "    .dataframe tbody tr th:only-of-type {\n",
       "        vertical-align: middle;\n",
       "    }\n",
       "\n",
       "    .dataframe tbody tr th {\n",
       "        vertical-align: top;\n",
       "    }\n",
       "\n",
       "    .dataframe thead th {\n",
       "        text-align: right;\n",
       "    }\n",
       "</style>\n",
       "<table border=\"1\" class=\"dataframe\">\n",
       "  <thead>\n",
       "    <tr style=\"text-align: right;\">\n",
       "      <th></th>\n",
       "      <th>Material (Nombre)</th>\n",
       "      <th>Kilos Venta KG</th>\n",
       "      <th>Precio</th>\n",
       "      <th>Cliente</th>\n",
       "      <th>Día natural</th>\n",
       "      <th>Día Semana</th>\n",
       "      <th>Semana</th>\n",
       "      <th>Mes</th>\n",
       "      <th>Año</th>\n",
       "      <th>Centro</th>\n",
       "      <th>Población</th>\n",
       "      <th>Cluster</th>\n",
       "      <th>Segmento.1</th>\n",
       "      <th>Categoría Cliente</th>\n",
       "      <th>Año Creación</th>\n",
       "      <th>Material Favorito</th>\n",
       "      <th>Frecuencia Historica</th>\n",
       "    </tr>\n",
       "  </thead>\n",
       "  <tbody>\n",
       "    <tr>\n",
       "      <th>0</th>\n",
       "      <td>1010077(Trutro Entero Selección)</td>\n",
       "      <td>12</td>\n",
       "      <td>1190</td>\n",
       "      <td>10003742</td>\n",
       "      <td>2018-02-09</td>\n",
       "      <td>Viernes</td>\n",
       "      <td>6</td>\n",
       "      <td>2</td>\n",
       "      <td>2018</td>\n",
       "      <td>Sucursal Lo Espejo</td>\n",
       "      <td>La Pintana</td>\n",
       "      <td>Clásico</td>\n",
       "      <td>Cobertura Pequeno SD</td>\n",
       "      <td>Especialista en Proc</td>\n",
       "      <td>2007</td>\n",
       "      <td>1010077</td>\n",
       "      <td>19</td>\n",
       "    </tr>\n",
       "    <tr>\n",
       "      <th>1</th>\n",
       "      <td>1010077(Trutro Entero Selección)</td>\n",
       "      <td>12</td>\n",
       "      <td>1350</td>\n",
       "      <td>10003742</td>\n",
       "      <td>2018-05-04</td>\n",
       "      <td>Viernes</td>\n",
       "      <td>18</td>\n",
       "      <td>5</td>\n",
       "      <td>2018</td>\n",
       "      <td>Sucursal Lo Espejo</td>\n",
       "      <td>La Pintana</td>\n",
       "      <td>Clásico</td>\n",
       "      <td>Cobertura Pequeno SD</td>\n",
       "      <td>Especialista en Proc</td>\n",
       "      <td>2007</td>\n",
       "      <td>1010077</td>\n",
       "      <td>19</td>\n",
       "    </tr>\n",
       "  </tbody>\n",
       "</table>\n",
       "</div>"
      ],
      "text/plain": [
       "                  Material (Nombre)  Kilos Venta KG  Precio   Cliente  \\\n",
       "0  1010077(Trutro Entero Selección)              12    1190  10003742   \n",
       "1  1010077(Trutro Entero Selección)              12    1350  10003742   \n",
       "\n",
       "  Día natural Día Semana Semana Mes   Año              Centro   Población  \\\n",
       "0  2018-02-09    Viernes      6   2  2018  Sucursal Lo Espejo  La Pintana   \n",
       "1  2018-05-04    Viernes     18   5  2018  Sucursal Lo Espejo  La Pintana   \n",
       "\n",
       "   Cluster            Segmento.1     Categoría Cliente Año Creación  \\\n",
       "0  Clásico  Cobertura Pequeno SD  Especialista en Proc         2007   \n",
       "1  Clásico  Cobertura Pequeno SD  Especialista en Proc         2007   \n",
       "\n",
       "  Material Favorito Frecuencia Historica  \n",
       "0           1010077                   19  \n",
       "1           1010077                   19  "
      ]
     },
     "execution_count": 23,
     "metadata": {},
     "output_type": "execute_result"
    }
   ],
   "source": [
    "print(Dic_col.keys())\n",
    "Columnas_a_usar=[j for i in \n",
    "                 ['Base','Fecha', 'Ubicacion', 'Cliente Categoria', 'Cliente Atributos']\n",
    "                 for j in Dic_col[i]  ]\n",
    "print(Columnas_a_usar,len(Columnas_a_usar))\n",
    "data[Columnas_a_usar].head(2)\n"
   ]
  },
  {
   "cell_type": "code",
   "execution_count": 24,
   "id": "1d55169d",
   "metadata": {
    "hidden": true,
    "scrolled": false
   },
   "outputs": [
    {
     "name": "stdout",
     "output_type": "stream",
     "text": [
      "Material (Nombre) ['1010077(Trutro Entero Selección)']\n",
      "Kilos Venta KG [12]\n",
      "Precio [1190]\n",
      "Cliente ['10003742']\n",
      "Día natural [datetime.date(2018, 2, 9)]\n",
      "Día Semana ['Viernes']\n",
      "Semana ['6']\n",
      "Mes ['2']\n",
      "Año [2018]\n",
      "Centro ['Sucursal Lo Espejo']\n",
      "Población ['La Pintana']\n",
      "Cluster ['Clásico']\n",
      "Segmento.1 ['Cobertura Pequeno SD']\n",
      "Categoría Cliente ['Especialista en Proc']\n",
      "Año Creación ['2007']\n",
      "Material Favorito ['1010077']\n",
      "Frecuencia Historica ['19']\n",
      "Tipo de cliente ['Tradicional']\n"
     ]
    }
   ],
   "source": [
    "for i in list(list_+['Tipo de cliente']):\n",
    "    print(i,data[list_+['Tipo de cliente']].iloc[:1,:][i].to_list())"
   ]
  },
  {
   "cell_type": "markdown",
   "id": "c481a741",
   "metadata": {},
   "source": [
    "# M Monetary (Monetario):\n",
    "\n",
    "(Tavakoli, M)\n",
    ">Monetary: We applied two definitions for Monetary; one of them was sum of purchases and the second one was the average of purchases. Customers with higher number of purchases have greater scores in Frequency and if we use sum of purchases for Monetary, these customers will be encouraged twice which is not a proper decision for our model. Therefore, we used average of the purchases as Monetary for each customer.\n",
    "\n",
    "__Procedimiento__\n",
    "- [ ] __Caracteristica Cliente__\n",
    "\n",
    "> __La frecuencia historica final del cliente__, esta se puede calcular como se hizo con R. con la ultima compra del cliente.\n",
    "\n",
    " - [ ] __Feature of puchad__\n",
    "> __Columna que representa la frecuencia del cliente al momento de la compra,__ para definir cómo F de cada transacción  influye en el precio."
   ]
  },
  {
   "cell_type": "markdown",
   "id": "e9f243ef",
   "metadata": {
    "heading_collapsed": true
   },
   "source": [
    "## inicio\n",
    "-----------\n",
    "- Apuntes\n",
    "- Funciones\n",
    "- Ecuación\n",
    "- Prueba con data de un solo cliente\n",
    "      \n",
    " \n",
    " \n"
   ]
  },
  {
   "cell_type": "markdown",
   "id": "98928c89",
   "metadata": {
    "hidden": true
   },
   "source": [
    "##### Ecuación de \\cite(8592638):\n"
   ]
  },
  {
   "cell_type": "markdown",
   "id": "08dc34c3",
   "metadata": {
    "hidden": true
   },
   "source": [
    "\n",
    "\\begin{equation}\n",
    " {Monetary}_{i,p}=Price \\times Weight\n",
    " \\\\\n",
    " i:=Cliente\\\\\n",
    "p:=\\text{Purchase or Row}\n",
    "\\end{equation}\n",
    "\n",
    "\n",
    "\n",
    "\n"
   ]
  },
  {
   "cell_type": "markdown",
   "id": "745f590f",
   "metadata": {
    "hidden": true
   },
   "source": [
    "##### Notas "
   ]
  },
  {
   "cell_type": "markdown",
   "id": "b37a58f5",
   "metadata": {
    "hidden": true
   },
   "source": [
    "Sospecho que el calculo debe ser desarrollado por cada cliente, es decir.\n",
    "For que recorra todos los clientes de dataframe,\n",
    "Creando un data rfam de cada cliente.\n",
    "\n",
    "\n",
    "Para esto tambien se hizo una mecanica parecida en R. Que el apply usaba un df con el historaial del cliente y aplicaba la formula"
   ]
  },
  {
   "cell_type": "markdown",
   "id": "64337a0d",
   "metadata": {},
   "source": [
    "## Prueba "
   ]
  },
  {
   "cell_type": "markdown",
   "id": "4c7fe7d5",
   "metadata": {},
   "source": [
    "### Data de muestra "
   ]
  },
  {
   "cell_type": "code",
   "execution_count": 58,
   "id": "86888d52",
   "metadata": {
    "scrolled": false
   },
   "outputs": [
    {
     "name": "stdout",
     "output_type": "stream",
     "text": [
      "Index(['Material (Nombre)', 'Kilos Venta KG', 'Precio', 'Día natural',\n",
      "       'Día Semana', 'Semana', 'Mes', 'Año', 'Población', 'Centro', 'Cliente',\n",
      "       'Cluster', 'Segmento.1', 'Categoría Cliente', 'Año Creación',\n",
      "       'Material Favorito', 'Frecuencia Historica', 'Mes_num',\n",
      "       'Ingreso de Venta CLP'],\n",
      "      dtype='object')\n",
      "Index(['Material (Nombre)', 'Kilos Venta KG', 'Precio', 'Día natural',\n",
      "       'Día Semana', 'Semana', 'Mes', 'Año', 'Población', 'Centro', 'Cliente',\n",
      "       'Cluster', 'Segmento.1', 'Categoría Cliente', 'Año Creación',\n",
      "       'Material Favorito', 'Frecuencia Historica', 'Mes_num',\n",
      "       'Ingreso de Venta CLP'],\n",
      "      dtype='object')\n"
     ]
    },
    {
     "data": {
      "text/plain": [
       "(239,)"
      ]
     },
     "execution_count": 58,
     "metadata": {},
     "output_type": "execute_result"
    }
   ],
   "source": [
    "def col_Ingr(data):\n",
    "    \"\"\"\n",
    "    Función que agrega una columna de ingresos al dataframe\n",
    "    \"\"\"\n",
    "    data['Ingreso de Venta CLP']=\\\n",
    "    data.apply(lambda x: x['Precio']*x['Kilos Venta KG'] , axis=1) \n",
    "    print(data.columns)\n",
    "\n",
    "\n",
    "df_m=data_i[(data_i['Población'] =='La Florida')].copy()\n",
    "col_Ingr(df_m)\n",
    "print(df_m.columns)\n",
    "df_m.Cliente.unique().shape"
   ]
  },
  {
   "cell_type": "code",
   "execution_count": 79,
   "id": "e7a5ea82",
   "metadata": {},
   "outputs": [
    {
     "data": {
      "text/plain": [
       "55000.0"
      ]
     },
     "execution_count": 79,
     "metadata": {},
     "output_type": "execute_result"
    }
   ],
   "source": [
    "DF_G=df_m[[\n",
    "        Dic_col['Base'][3]\n",
    "        ,Dic_col['Fecha'][0]\n",
    "        ,'Ingreso de Venta CLP'\n",
    "        ]].copy()\n",
    "# [Dic_col['Base']\n",
    "# +Dic_col['Fecha']\n",
    "# +['Ingreso de Venta CLP']\n",
    "# ].copy()\n",
    "Client_Count=0\n",
    "def M_lamd(DF_Hist,X):\n",
    "    \"\"\"\n",
    "    Gasto promedio previo a la compra\n",
    "    Función que sirve para calcular Monetary\n",
    "    df['Monetary']=df.apply( (lambda x: M_lamd(x)) , axis=1)\n",
    "    df.head()\n",
    "    \n",
    "    Requiere de la dataframe con historia\n",
    "    \"\"\"\n",
    "    \n",
    "\n",
    "    id_C=(X.Cliente)\n",
    "    F_X=X['Día natural']\n",
    "    \n",
    "#     print(id_C,F_X)\n",
    "    #hisotria previa sin considerar el dato actual\n",
    "    df_ant=DF_Hist[\n",
    "        (DF_Hist['Día natural']<F_X)\n",
    "        &(DF_Hist.Cliente==id_C)\n",
    "        ]\n",
    "    df_len=df_ant.shape[0]\n",
    "#     print(df_len)\n",
    "    if(df_ant.shape[0]==0):\n",
    "#         print(0)\n",
    "#         print(df_ant)\n",
    "        return(0)\n",
    "    else:\n",
    "#         print(df_ant.iloc[df_len-2])\n",
    "        return(df_ant['Ingreso de Venta CLP'].mean())\n",
    "\n",
    "M_lamd(DF_G,df_m.iloc[1])"
   ]
  },
  {
   "cell_type": "code",
   "execution_count": 65,
   "id": "f3289dfc",
   "metadata": {
    "scrolled": true
   },
   "outputs": [
    {
     "data": {
      "text/plain": [
       "28385.14285714286"
      ]
     },
     "execution_count": 65,
     "metadata": {},
     "output_type": "execute_result"
    }
   ],
   "source": [
    "M_lamd(DF_G,\n",
    "df_m[df_m.Cliente =='9966011'].tail(1).iloc[0])"
   ]
  },
  {
   "cell_type": "code",
   "execution_count": 69,
   "id": "d98fd5c1",
   "metadata": {
    "scrolled": true
   },
   "outputs": [
    {
     "data": {
      "text/plain": [
       "<AxesSubplot:>"
      ]
     },
     "execution_count": 69,
     "metadata": {},
     "output_type": "execute_result"
    },
    {
     "data": {
      "image/png": "[encoded data removed]",
      "text/plain": [
       "<Figure size 432x288 with 1 Axes>"
      ]
     },
     "metadata": {
      "needs_background": "light"
     },
     "output_type": "display_data"
    }
   ],
   "source": [
    "df_m['Monetary']=df_m.apply( (lambda x: M_lamd(DF_G,x)) , axis=1)\n",
    "df_m['Monetary'].hist()"
   ]
  },
  {
   "cell_type": "markdown",
   "id": "ac98dd62",
   "metadata": {},
   "source": [
    "# Prueba real "
   ]
  },
  {
   "cell_type": "markdown",
   "id": "0e598326",
   "metadata": {
    "heading_collapsed": true
   },
   "source": [
    "### Data "
   ]
  },
  {
   "cell_type": "code",
   "execution_count": 70,
   "id": "57d29322",
   "metadata": {
    "hidden": true
   },
   "outputs": [
    {
     "name": "stdout",
     "output_type": "stream",
     "text": [
      "Index(['Material (Nombre)', 'Kilos Venta KG', 'Precio', 'Día natural',\n",
      "       'Día Semana', 'Semana', 'Mes', 'Año', 'Población', 'Centro', 'Cliente',\n",
      "       'Cluster', 'Segmento.1', 'Categoría Cliente', 'Año Creación',\n",
      "       'Material Favorito', 'Frecuencia Historica', 'Mes_num',\n",
      "       'Ingreso de Venta CLP'],\n",
      "      dtype='object')\n"
     ]
    }
   ],
   "source": [
    "col_Ingr(data_i)"
   ]
  },
  {
   "cell_type": "code",
   "execution_count": 80,
   "id": "14bfc44d",
   "metadata": {
    "hidden": true
   },
   "outputs": [
    {
     "data": {
      "text/html": [
       "<div>\n",
       "<style scoped>\n",
       "    .dataframe tbody tr th:only-of-type {\n",
       "        vertical-align: middle;\n",
       "    }\n",
       "\n",
       "    .dataframe tbody tr th {\n",
       "        vertical-align: top;\n",
       "    }\n",
       "\n",
       "    .dataframe thead th {\n",
       "        text-align: right;\n",
       "    }\n",
       "</style>\n",
       "<table border=\"1\" class=\"dataframe\">\n",
       "  <thead>\n",
       "    <tr style=\"text-align: right;\">\n",
       "      <th></th>\n",
       "      <th>Cliente</th>\n",
       "      <th>Día natural</th>\n",
       "      <th>Ingreso de Venta CLP</th>\n",
       "    </tr>\n",
       "  </thead>\n",
       "  <tbody>\n",
       "    <tr>\n",
       "      <th>61455</th>\n",
       "      <td>10003742</td>\n",
       "      <td>2020-05-23</td>\n",
       "      <td>28600</td>\n",
       "    </tr>\n",
       "    <tr>\n",
       "      <th>61456</th>\n",
       "      <td>10007508</td>\n",
       "      <td>2018-03-01</td>\n",
       "      <td>129140</td>\n",
       "    </tr>\n",
       "    <tr>\n",
       "      <th>61457</th>\n",
       "      <td>10007508</td>\n",
       "      <td>2018-03-08</td>\n",
       "      <td>77484</td>\n",
       "    </tr>\n",
       "    <tr>\n",
       "      <th>61458</th>\n",
       "      <td>10007508</td>\n",
       "      <td>2018-03-20</td>\n",
       "      <td>68178</td>\n",
       "    </tr>\n",
       "    <tr>\n",
       "      <th>61459</th>\n",
       "      <td>10007508</td>\n",
       "      <td>2018-03-27</td>\n",
       "      <td>71500</td>\n",
       "    </tr>\n",
       "  </tbody>\n",
       "</table>\n",
       "</div>"
      ],
      "text/plain": [
       "        Cliente Día natural  Ingreso de Venta CLP\n",
       "61455  10003742  2020-05-23                 28600\n",
       "61456  10007508  2018-03-01                129140\n",
       "61457  10007508  2018-03-08                 77484\n",
       "61458  10007508  2018-03-20                 68178\n",
       "61459  10007508  2018-03-27                 71500"
      ]
     },
     "execution_count": 80,
     "metadata": {},
     "output_type": "execute_result"
    }
   ],
   "source": [
    "data_Hist=data_i\\\n",
    "        [[\n",
    "        Dic_col['Base'][3]\n",
    "        ,Dic_col['Fecha'][0]\n",
    "        ,'Ingreso de Venta CLP'\n",
    "        ]].copy()\n",
    "data_Hist.head()"
   ]
  },
  {
   "cell_type": "markdown",
   "id": "115dfb62",
   "metadata": {},
   "source": [
    "### Aplicación "
   ]
  },
  {
   "cell_type": "code",
   "execution_count": 81,
   "id": "640d6b32",
   "metadata": {
    "scrolled": false
   },
   "outputs": [
    {
     "name": "stdout",
     "output_type": "stream",
     "text": [
      "Monetary de data_i\n",
      "Time Lapsed = 0:58:43.592108488082886 \n",
      " H:m:s\n",
      "Monetary total\n",
      "Time Lapsed = 1:34:40.50424361228943 \n",
      " H:m:s\n"
     ]
    },
    {
     "data": {
      "text/html": [
       "<div>\n",
       "<style scoped>\n",
       "    .dataframe tbody tr th:only-of-type {\n",
       "        vertical-align: middle;\n",
       "    }\n",
       "\n",
       "    .dataframe tbody tr th {\n",
       "        vertical-align: top;\n",
       "    }\n",
       "\n",
       "    .dataframe thead th {\n",
       "        text-align: right;\n",
       "    }\n",
       "</style>\n",
       "<table border=\"1\" class=\"dataframe\">\n",
       "  <thead>\n",
       "    <tr style=\"text-align: right;\">\n",
       "      <th></th>\n",
       "      <th>Material (Nombre)</th>\n",
       "      <th>Kilos Venta KG</th>\n",
       "      <th>Precio</th>\n",
       "      <th>Día natural</th>\n",
       "      <th>Día Semana</th>\n",
       "      <th>Semana</th>\n",
       "      <th>Mes</th>\n",
       "      <th>Año</th>\n",
       "      <th>Población</th>\n",
       "      <th>Centro</th>\n",
       "      <th>Cliente</th>\n",
       "      <th>Cluster</th>\n",
       "      <th>Segmento.1</th>\n",
       "      <th>Categoría Cliente</th>\n",
       "      <th>Año Creación</th>\n",
       "      <th>Material Favorito</th>\n",
       "      <th>Frecuencia Historica</th>\n",
       "      <th>Mes_num</th>\n",
       "      <th>Ingreso de Venta CLP</th>\n",
       "      <th>Monetary</th>\n",
       "    </tr>\n",
       "  </thead>\n",
       "  <tbody>\n",
       "    <tr>\n",
       "      <th>61455</th>\n",
       "      <td>1010078(Trutro Entero Selección)</td>\n",
       "      <td>22</td>\n",
       "      <td>1300</td>\n",
       "      <td>2020-05-23</td>\n",
       "      <td>Sábado</td>\n",
       "      <td>21</td>\n",
       "      <td>Mayo</td>\n",
       "      <td>2020</td>\n",
       "      <td>La Pintana</td>\n",
       "      <td>Sucursal Lo Espejo</td>\n",
       "      <td>10003742</td>\n",
       "      <td>Clásico</td>\n",
       "      <td>Cobertura Pequeno SD</td>\n",
       "      <td>Especialista en Proc</td>\n",
       "      <td>2007</td>\n",
       "      <td>1010077</td>\n",
       "      <td>19</td>\n",
       "      <td>5</td>\n",
       "      <td>28600</td>\n",
       "      <td>0.000000</td>\n",
       "    </tr>\n",
       "    <tr>\n",
       "      <th>61456</th>\n",
       "      <td>1010078(Trutro Entero Selección)</td>\n",
       "      <td>110</td>\n",
       "      <td>1174</td>\n",
       "      <td>2018-03-01</td>\n",
       "      <td>Jueves</td>\n",
       "      <td>9</td>\n",
       "      <td>Marzo</td>\n",
       "      <td>2018</td>\n",
       "      <td>Puente Alto</td>\n",
       "      <td>Sucursal Lo Espejo</td>\n",
       "      <td>10007508</td>\n",
       "      <td>Clásico</td>\n",
       "      <td>Cobertura Mediano SD</td>\n",
       "      <td>Especialista en Crud</td>\n",
       "      <td>2007</td>\n",
       "      <td>1020253</td>\n",
       "      <td>464</td>\n",
       "      <td>3</td>\n",
       "      <td>129140</td>\n",
       "      <td>0.000000</td>\n",
       "    </tr>\n",
       "    <tr>\n",
       "      <th>61457</th>\n",
       "      <td>1010078(Trutro Entero Selección)</td>\n",
       "      <td>66</td>\n",
       "      <td>1174</td>\n",
       "      <td>2018-03-08</td>\n",
       "      <td>Jueves</td>\n",
       "      <td>10</td>\n",
       "      <td>Marzo</td>\n",
       "      <td>2018</td>\n",
       "      <td>Puente Alto</td>\n",
       "      <td>Sucursal Lo Espejo</td>\n",
       "      <td>10007508</td>\n",
       "      <td>Clásico</td>\n",
       "      <td>Cobertura Mediano SD</td>\n",
       "      <td>Especialista en Crud</td>\n",
       "      <td>2007</td>\n",
       "      <td>1020253</td>\n",
       "      <td>464</td>\n",
       "      <td>3</td>\n",
       "      <td>77484</td>\n",
       "      <td>129140.000000</td>\n",
       "    </tr>\n",
       "    <tr>\n",
       "      <th>61458</th>\n",
       "      <td>1010078(Trutro Entero Selección)</td>\n",
       "      <td>66</td>\n",
       "      <td>1033</td>\n",
       "      <td>2018-03-20</td>\n",
       "      <td>Martes</td>\n",
       "      <td>12</td>\n",
       "      <td>Marzo</td>\n",
       "      <td>2018</td>\n",
       "      <td>Puente Alto</td>\n",
       "      <td>Sucursal Lo Espejo</td>\n",
       "      <td>10007508</td>\n",
       "      <td>Clásico</td>\n",
       "      <td>Cobertura Mediano SD</td>\n",
       "      <td>Especialista en Crud</td>\n",
       "      <td>2007</td>\n",
       "      <td>1020253</td>\n",
       "      <td>464</td>\n",
       "      <td>3</td>\n",
       "      <td>68178</td>\n",
       "      <td>103312.000000</td>\n",
       "    </tr>\n",
       "    <tr>\n",
       "      <th>61459</th>\n",
       "      <td>1010078(Trutro Entero Selección)</td>\n",
       "      <td>65</td>\n",
       "      <td>1100</td>\n",
       "      <td>2018-03-27</td>\n",
       "      <td>Martes</td>\n",
       "      <td>13</td>\n",
       "      <td>Marzo</td>\n",
       "      <td>2018</td>\n",
       "      <td>Puente Alto</td>\n",
       "      <td>Sucursal Lo Espejo</td>\n",
       "      <td>10007508</td>\n",
       "      <td>Clásico</td>\n",
       "      <td>Cobertura Mediano SD</td>\n",
       "      <td>Especialista en Crud</td>\n",
       "      <td>2007</td>\n",
       "      <td>1020253</td>\n",
       "      <td>464</td>\n",
       "      <td>3</td>\n",
       "      <td>71500</td>\n",
       "      <td>91600.666667</td>\n",
       "    </tr>\n",
       "  </tbody>\n",
       "</table>\n",
       "</div>"
      ],
      "text/plain": [
       "                      Material (Nombre)  Kilos Venta KG  Precio Día natural  \\\n",
       "61455  1010078(Trutro Entero Selección)              22    1300  2020-05-23   \n",
       "61456  1010078(Trutro Entero Selección)             110    1174  2018-03-01   \n",
       "61457  1010078(Trutro Entero Selección)              66    1174  2018-03-08   \n",
       "61458  1010078(Trutro Entero Selección)              66    1033  2018-03-20   \n",
       "61459  1010078(Trutro Entero Selección)              65    1100  2018-03-27   \n",
       "\n",
       "      Día Semana Semana    Mes   Año    Población              Centro  \\\n",
       "61455     Sábado     21   Mayo  2020   La Pintana  Sucursal Lo Espejo   \n",
       "61456     Jueves      9  Marzo  2018  Puente Alto  Sucursal Lo Espejo   \n",
       "61457     Jueves     10  Marzo  2018  Puente Alto  Sucursal Lo Espejo   \n",
       "61458     Martes     12  Marzo  2018  Puente Alto  Sucursal Lo Espejo   \n",
       "61459     Martes     13  Marzo  2018  Puente Alto  Sucursal Lo Espejo   \n",
       "\n",
       "        Cliente  Cluster            Segmento.1     Categoría Cliente  \\\n",
       "61455  10003742  Clásico  Cobertura Pequeno SD  Especialista en Proc   \n",
       "61456  10007508  Clásico  Cobertura Mediano SD  Especialista en Crud   \n",
       "61457  10007508  Clásico  Cobertura Mediano SD  Especialista en Crud   \n",
       "61458  10007508  Clásico  Cobertura Mediano SD  Especialista en Crud   \n",
       "61459  10007508  Clásico  Cobertura Mediano SD  Especialista en Crud   \n",
       "\n",
       "       Año Creación Material Favorito  Frecuencia Historica Mes_num  \\\n",
       "61455          2007           1010077                    19       5   \n",
       "61456          2007           1020253                   464       3   \n",
       "61457          2007           1020253                   464       3   \n",
       "61458          2007           1020253                   464       3   \n",
       "61459          2007           1020253                   464       3   \n",
       "\n",
       "       Ingreso de Venta CLP       Monetary  \n",
       "61455                 28600       0.000000  \n",
       "61456                129140       0.000000  \n",
       "61457                 77484  129140.000000  \n",
       "61458                 68178  103312.000000  \n",
       "61459                 71500   91600.666667  "
      ]
     },
     "execution_count": 81,
     "metadata": {},
     "output_type": "execute_result"
    }
   ],
   "source": [
    "df_M=data_i.copy()\n",
    "start_time_3 = time.time()\n",
    "df_M['Monetary']=df_M.apply( (lambda x: M_lamd(data_Hist,\n",
    "                                               x)) , axis=1)\n",
    "end_time_3 = time.time()\n",
    "time_lapsed_3 = end_time_3 - start_time_3\n",
    "print('Monetary de data_i')\n",
    "time_convert(time_lapsed_3)\n",
    "\n",
    "print('Monetary total')\n",
    "time_convert(end_time_3 - start_time)\n",
    "\n",
    "df_M.head()"
   ]
  },
  {
   "cell_type": "markdown",
   "id": "d6441252",
   "metadata": {},
   "source": [
    "### Save CSV "
   ]
  },
  {
   "cell_type": "code",
   "execution_count": 82,
   "id": "d67be0c0",
   "metadata": {},
   "outputs": [
    {
     "name": "stdout",
     "output_type": "stream",
     "text": [
      "Guardado df\n",
      "Time Lapsed = 0:0:1.4254307746887207 \n",
      " H:m:s\n",
      "Recency total codigo\n",
      "Time Lapsed = 1:34:41.92967438697815 \n",
      " H:m:s\n"
     ]
    }
   ],
   "source": [
    "File_save_CSV=file_direct_O+'data_1010078_CT M'+'.csv'\n",
    "\n",
    "df_M.to_csv(File_save_CSV, encoding='utf-8',index=True,sep=';')\n",
    "\n",
    "end_time_4 = time.time()\n",
    "time_lapsed_4 = end_time_4 - end_time_3\n",
    "time_lapsed_final = end_time_4 - start_time\n",
    "\n",
    "print('Guardado df')\n",
    "time_convert(time_lapsed_4)\n",
    "\n",
    "print('Recency total codigo')\n",
    "time_convert(time_lapsed_final)"
   ]
  }
 ],
 "metadata": {
  "celltoolbar": "Raw Cell Format",
  "kernelspec": {
   "display_name": "Python 3",
   "language": "python",
   "name": "python3"
  },
  "language_info": {
   "codemirror_mode": {
    "name": "ipython",
    "version": 3
   },
   "file_extension": ".py",
   "mimetype": "text/x-python",
   "name": "python",
   "nbconvert_exporter": "python",
   "pygments_lexer": "ipython3",
   "version": "3.8.5"
  },
  "toc": {
   "base_numbering": 1,
   "nav_menu": {
    "height": "89px",
    "width": "334px"
   },
   "number_sections": true,
   "sideBar": true,
   "skip_h1_title": false,
   "title_cell": "Table of Contents",
   "title_sidebar": "Contents",
   "toc_cell": false,
   "toc_position": {
    "height": "calc(100% - 180px)",
    "left": "10px",
    "top": "150px",
    "width": "243.525px"
   },
   "toc_section_display": true,
   "toc_window_display": false
  }
 },
 "nbformat": 4,
 "nbformat_minor": 5
}
