{
 "cells": [
  {
   "cell_type": "code",
   "execution_count": 1,
   "id": "aa7a547e",
   "metadata": {},
   "outputs": [],
   "source": [
    "#!jt -l\n",
    "# !jt -t oceans16 -T\n",
    "# !jt -r"
   ]
  },
  {
   "cell_type": "markdown",
   "id": "6f92b530",
   "metadata": {},
   "source": [
    "Notas:\n",
    "--------\n",
    "- [x] Estudiar Recency.__\n",
    "    - [x] Histograma Row simple\n",
    "    - [x] Probar esta función\n",
    "    - [x] Implementar"
   ]
  },
  {
   "cell_type": "markdown",
   "id": "7f7aaa87",
   "metadata": {
    "heading_collapsed": true
   },
   "source": [
    "##### Tarea anterior "
   ]
  },
  {
   "cell_type": "markdown",
   "id": "b35683e4",
   "metadata": {
    "hidden": true
   },
   "source": [
    "- [x] __Construir la variable Recency.__\n",
    "    - [x] Sección para caso pequeño\n",
    "    - [x] Función para estadnarizar\n",
    "    - [x] Probar esta función\n",
    "    - [x] Implementar\n",
    "- [x] __Contruir Frecuency__\n",
    "    - [x] Sección para caso pequeño\n",
    "    - [x] Función para estadnarizar\n",
    "    - [x] Probar esta función\n",
    "    - [x] Implementar\n",
    "- [x] __Construir Monetary__\n",
    "    - [x] Sección para caso pequeño\n",
    "    - [x] Función para estadnarizar\n",
    "    - [x] Probar esta función\n",
    "    - [x] Implementar   "
   ]
  },
  {
   "cell_type": "markdown",
   "id": "48cc505f",
   "metadata": {},
   "source": [
    "# Inicio\n"
   ]
  },
  {
   "cell_type": "markdown",
   "id": "7c2a8234",
   "metadata": {},
   "source": [
    "\n",
    "__Rename__\n",
    "Recordar que la columna llamada\n",
    "\n",
    "- `Precio promedio` ahora es `Precio`\n",
    "- `Centro.1` ahora es `Centro`\n",
    "- `Centro` ahora es `Centro_Cod`\n",
    "\n",
    "Presenta los parametros del modelo:\n",
    "\n",
    "- Dirección datos\n",
    "- Dirección Graficos\n",
    "- _Material a analizar_\n",
    "- _Canal a analizar_\n",
    "- _Zona de los Datos_\n",
    "- _Año de inicio de analizis_\n",
    "\n",
    "Base de datos\n",
    "\n",
    "\n",
    "`Tipo_de_Cliente`\n",
    "`Y_producto`\n",
    "`Año_inicio`\n",
    "\n",
    "`file_direct_Graphic` "
   ]
  },
  {
   "cell_type": "markdown",
   "id": "8bad43fc",
   "metadata": {
    "heading_collapsed": true
   },
   "source": [
    "## Parametros \n",
    "data frame `data_i`\n",
    "\n",
    "\n",
    "> - Producto `i_producto = Y_producto`\n",
    "> -Para el Canal `Tipo_de_Cliente`\n",
    "> -Variable a predecir/Grafico `Y_Variable`\n",
    "\n",
    "Columnas de interes para predecir `X_col`\n",
    "\n",
    "Diccionario del grupo de columnas `Dic_col`"
   ]
  },
  {
   "cell_type": "code",
   "execution_count": 2,
   "id": "a0737e98",
   "metadata": {
    "hidden": true
   },
   "outputs": [],
   "source": [
    "#===================================\n",
    "# Archivo\n",
    "#===================================\n",
    "Zona_df='Z001'\n",
    "\n",
    "#===================================\n",
    "# Clientes\n",
    "#===================================\n",
    "Tipo_de_Cliente='Tradicional'\n",
    "\n",
    "#===================================\n",
    "# Producto de interes\n",
    "#===================================\n",
    "Y_producto='1010078'\n",
    "\n",
    "\n",
    "#===================================\n",
    "# Año de Partida\n",
    "#===================================\n",
    "Año_inicio='2018'\n",
    "\n",
    "\n",
    "\n",
    "\n",
    "# Ordenador de escritorio\n",
    "\n",
    "file_direct_O=\"C:/Users/user/Documents/Data/Data Clear/\"+Zona_df+\"/\"\n",
    "file_direct_Clear=\"C:/Users/user/Documents/Data/Data Clear/\"\n",
    "file_direct_Graphic='C:/Users/user/Documents/Graficos'\n",
    "Png_file_direct_Graphic=\"C:\\\\Users\\\\user\\\\Documents\\\\Graficos\"\n",
    "\"\"\"\n",
    "\n",
    "#Notebook\n",
    "file_direct_O=\"C:/Users/rolft/Documents/Repositorios/Data/Data Clear/\"+Zona_df+\"/\"\n",
    "file_direct_Clear=\"C:/Users/rolft/Documents/Repositorios/Data/Data Clear/\"\n",
    "file_direct_Graphic='C:/Users/rolft/Documents/Repositorios/Graficos'\n",
    "Png_file_direct_Graphic='C:\\\\Users\\\\rolft\\\\Documents\\\\Repositorios\\\\Graficos'\n",
    "\"\"\"\n",
    "#Graficos\n",
    "file_direct_Graphic_Canal=file_direct_Graphic+\"/\"+Tipo_de_Cliente\n",
    "file_direct_Graphic_Canal_Material=file_direct_Graphic_Canal+'/'+Y_producto\n",
    "\n",
    "Png_file_direct_Graphic_Canal=Png_file_direct_Graphic+'\\\\'+'Canal '+Tipo_de_Cliente\n",
    "Png_file_direct_Graphic_Canal_Material=Png_file_direct_Graphic_Canal+'\\\\'+Y_producto\n"
   ]
  },
  {
   "cell_type": "markdown",
   "id": "f80e374d",
   "metadata": {},
   "source": [
    "## Intalar paquetes, Abrir data y ajustarla "
   ]
  },
  {
   "cell_type": "markdown",
   "id": "6a7c4706",
   "metadata": {
    "heading_collapsed": true
   },
   "source": [
    "### import"
   ]
  },
  {
   "cell_type": "code",
   "execution_count": 3,
   "id": "faaa036d",
   "metadata": {
    "hidden": true,
    "scrolled": true
   },
   "outputs": [],
   "source": [
    "#from adjustText import adjust_text\n",
    "# from adjustText import *"
   ]
  },
  {
   "cell_type": "code",
   "execution_count": 4,
   "id": "0ea91ad7",
   "metadata": {
    "hidden": true
   },
   "outputs": [],
   "source": [
    "#=====================================================\n",
    "                # BASE \n",
    "#-----------------------------------------------------\n",
    "import pandas as pd\n",
    "import numpy as np\n",
    "import matplotlib.pyplot as plt\n",
    "\n",
    "#from geopandas import *\n",
    "\n",
    "from plotnine import *\n",
    "\n",
    "#para ajustar las fechas\n",
    "import datetime\n",
    "\n",
    "#para calcular el skew de un array() o list()\n",
    "from scipy.stats import skew "
   ]
  },
  {
   "cell_type": "code",
   "execution_count": 5,
   "id": "8916d4cd",
   "metadata": {
    "hidden": true
   },
   "outputs": [],
   "source": [
    "#=====================================================\n",
    "                # sklearn \n",
    "#-----------------------------------------------------\n",
    "\n",
    "#Separador de datos en train/test\n",
    "from sklearn.model_selection import train_test_split\n",
    "\n",
    "#Prediccion Ridge Regression\n",
    "from sklearn.linear_model import Ridge"
   ]
  },
  {
   "cell_type": "code",
   "execution_count": 6,
   "id": "8d82be85",
   "metadata": {
    "hidden": true
   },
   "outputs": [],
   "source": [
    "#=====================================================\n",
    "                # statsmodels \n",
    "#-----------------------------------------------------\n",
    "import statsmodels.api as sm\n",
    "import statsmodels.formula.api as smf\n",
    "from statsmodels.tools.sm_exceptions import ConvergenceWarning\n",
    "\n",
    "\n",
    "#from statsmodels.regression.mixed_linear_model import MixedLMResults\n",
    "# No se para qué sirve este"
   ]
  },
  {
   "cell_type": "code",
   "execution_count": 7,
   "id": "734ff701",
   "metadata": {
    "hidden": true
   },
   "outputs": [],
   "source": [
    "#====================================================\n",
    "#librerias para crear division de series temporales\n",
    "#====================================================\n",
    "\n",
    "from mizani.breaks import date_breaks\n",
    "from mizani.formatters import date_format"
   ]
  },
  {
   "cell_type": "code",
   "execution_count": 8,
   "id": "34160d20",
   "metadata": {
    "hidden": true
   },
   "outputs": [],
   "source": [
    "# stopwatch\n",
    "import time\n",
    "def time_convert(sec):\n",
    "  mins = sec // 60\n",
    "  sec = sec % 60\n",
    "  hours = mins // 60\n",
    "  mins = mins % 60\n",
    "  print(\"Time Lapsed = {0}:{1}:{2}\".format(int(hours),int(mins),sec),'\\n H:m:s')\n",
    "#==================================\n",
    "#          Example\n",
    "#    input(\"Press Enter to start\")\n",
    "start_time = time.time()\n",
    "#    input(\"Press Enter to stop\")\n",
    "#    end_time = time.time()\n",
    "#    time_lapsed = end_time - start_time\n",
    "#    time_convert(time_lapsed)\n",
    "#================================="
   ]
  },
  {
   "cell_type": "code",
   "execution_count": 9,
   "id": "b400675d",
   "metadata": {
    "hidden": true
   },
   "outputs": [],
   "source": [
    "#Histograma con porcentajes\n",
    "from mizani.formatters import percent_format"
   ]
  },
  {
   "cell_type": "markdown",
   "id": "0e0194b5",
   "metadata": {},
   "source": [
    "### Funciones \n",
    "```python\n",
    "#Mes_name\n",
    "data_i.Mes.apply(Mes_name)\n",
    "```\n",
    ">Transforma la columna mes numerica en el nombre del mes"
   ]
  },
  {
   "cell_type": "markdown",
   "id": "76bc8afd",
   "metadata": {},
   "source": [
    "__Forma de crear una etiqueta para un valor especifico__\n",
    "```python\n",
    "#[Y_Graph]\n",
    "dfz=df.copy()\n",
    "dfz['Año select']=dfz.apply( lambda x: x['Año'] if x['Año']==2020 else '',axis=1)\n",
    "dfz\n",
    "```"
   ]
  },
  {
   "cell_type": "code",
   "execution_count": 10,
   "id": "ad8627c9",
   "metadata": {},
   "outputs": [],
   "source": [
    "#===================================\n",
    "# Dicionario MES\n",
    "#===================================\n",
    "\n",
    "#===================================\n",
    "# Fecha\n",
    "D=['Enero','Febrero','Marzo','Abril',\n",
    " 'Mayo','Junio','Julio','Agosto',\n",
    " 'Septiembre','Octubre',\n",
    " 'Noviembre','Diciembre']\n",
    "Month_dic={i:D[i-1]  for i in range(1,13)}\n",
    "#===========================================\n",
    "\n",
    "\n",
    "def Mes_name(x):\n",
    "    D=['Enero','Febrero','Marzo','Abril',\n",
    "    'Mayo','Junio','Julio','Agosto',\n",
    "    'Septiembre','Octubre',\n",
    "    'Noviembre','Diciembre']\n",
    "    return(D[int(x)-1])"
   ]
  },
  {
   "cell_type": "markdown",
   "id": "b646c867",
   "metadata": {},
   "source": [
    "### Dicionario \n",
    "rename aplicado a `Precio promedio`"
   ]
  },
  {
   "cell_type": "code",
   "execution_count": 11,
   "id": "66d853bb",
   "metadata": {},
   "outputs": [],
   "source": [
    "Dic_col={'Base':\n",
    "                             ['Material (Nombre)', 'Kilos Venta KG', 'Precio','Cliente'],\n",
    "        'Fecha':\n",
    "                             ['Día natural','Día Semana','Semana', 'Mes', 'Año'],\n",
    "        'Ubicacion':\n",
    "                             ['Centro','Población'],\n",
    "        'Cliente Categoria':\n",
    "                             ['Cluster','Segmento.1', 'Categoría Cliente'],\n",
    "        'Cliente Atributos':\n",
    "                             ['Año Creación', 'Material Favorito','Frecuencia Historica'] \n",
    "         ,'RFM Row':\n",
    "                 ['Recency días','Frecuency_Row']\n",
    "        ,'RFM Customers':\n",
    "                 ['Recency Actual','Frecuency Actual del Cliente','Monetary Actual']\n",
    "\n",
    "        }"
   ]
  },
  {
   "cell_type": "markdown",
   "id": "38e12a83",
   "metadata": {
    "heading_collapsed": true
   },
   "source": [
    "### Colores "
   ]
  },
  {
   "cell_type": "code",
   "execution_count": 12,
   "id": "dbbf1e78",
   "metadata": {
    "hidden": true
   },
   "outputs": [
    {
     "data": {
      "text/plain": [
       "'57DB5F'"
      ]
     },
     "execution_count": 12,
     "metadata": {},
     "output_type": "execute_result"
    }
   ],
   "source": [
    "('{:X}{:X}{:X}').format(31, 119, 180)\n",
    "('{:X}{:X}{:X}').format(219, 96, 97)\n",
    "('{:X}{:X}{:X}').format(87, 219, 95)"
   ]
  },
  {
   "cell_type": "markdown",
   "id": "f5e71982",
   "metadata": {},
   "source": [
    "# Uso de F file\n",
    "\n",
    "- `data_i_F`: Frecuency_Row \n",
    "- `Clientes_i_RFM`: RFM Clientes "
   ]
  },
  {
   "cell_type": "markdown",
   "id": "86c853d2",
   "metadata": {},
   "source": [
    "## Abrir Archivo   Facturaciones\n"
   ]
  },
  {
   "cell_type": "markdown",
   "id": "25619431",
   "metadata": {},
   "source": [
    "Se debe agregar el parametro `,index_col='Unnamed: 0'` de esta froma tal vez se pueda hacer un merge en base al indice"
   ]
  },
  {
   "cell_type": "markdown",
   "id": "62bc32fa",
   "metadata": {},
   "source": [
    "##### Data Facturaciones "
   ]
  },
  {
   "cell_type": "markdown",
   "id": "228d2aa3",
   "metadata": {},
   "source": [
    "###### abrir "
   ]
  },
  {
   "cell_type": "code",
   "execution_count": 13,
   "id": "0f14ea23",
   "metadata": {},
   "outputs": [
    {
     "data": {
      "text/html": [
       "<div>\n",
       "<style scoped>\n",
       "    .dataframe tbody tr th:only-of-type {\n",
       "        vertical-align: middle;\n",
       "    }\n",
       "\n",
       "    .dataframe tbody tr th {\n",
       "        vertical-align: top;\n",
       "    }\n",
       "\n",
       "    .dataframe thead th {\n",
       "        text-align: right;\n",
       "    }\n",
       "</style>\n",
       "<table border=\"1\" class=\"dataframe\">\n",
       "  <thead>\n",
       "    <tr style=\"text-align: right;\">\n",
       "      <th></th>\n",
       "      <th>Material (Nombre)</th>\n",
       "      <th>Kilos Venta KG</th>\n",
       "      <th>Precio</th>\n",
       "      <th>Día natural</th>\n",
       "      <th>Día Semana</th>\n",
       "      <th>Semana</th>\n",
       "      <th>Mes</th>\n",
       "      <th>Año</th>\n",
       "      <th>Población</th>\n",
       "      <th>Centro</th>\n",
       "      <th>Cliente</th>\n",
       "      <th>Cluster</th>\n",
       "      <th>Segmento.1</th>\n",
       "      <th>Categoría Cliente</th>\n",
       "      <th>Año Creación</th>\n",
       "      <th>Material Favorito</th>\n",
       "      <th>Frecuencia Historica</th>\n",
       "      <th>Mes_num</th>\n",
       "      <th>Frecuency_Row</th>\n",
       "    </tr>\n",
       "  </thead>\n",
       "  <tbody>\n",
       "    <tr>\n",
       "      <th>61455</th>\n",
       "      <td>1010078(Trutro Entero Selección)</td>\n",
       "      <td>22</td>\n",
       "      <td>1300</td>\n",
       "      <td>2020-05-23</td>\n",
       "      <td>Sábado</td>\n",
       "      <td>21</td>\n",
       "      <td>Mayo</td>\n",
       "      <td>2020</td>\n",
       "      <td>La Pintana</td>\n",
       "      <td>Sucursal Lo Espejo</td>\n",
       "      <td>10003742</td>\n",
       "      <td>Clásico</td>\n",
       "      <td>Cobertura Pequeno SD</td>\n",
       "      <td>Especialista en Proc</td>\n",
       "      <td>2007</td>\n",
       "      <td>1010077</td>\n",
       "      <td>19</td>\n",
       "      <td>5</td>\n",
       "      <td>1.0</td>\n",
       "    </tr>\n",
       "  </tbody>\n",
       "</table>\n",
       "</div>"
      ],
      "text/plain": [
       "                      Material (Nombre) Kilos Venta KG Precio Día natural  \\\n",
       "61455  1010078(Trutro Entero Selección)             22   1300  2020-05-23   \n",
       "\n",
       "      Día Semana Semana   Mes   Año   Población              Centro   Cliente  \\\n",
       "61455     Sábado     21  Mayo  2020  La Pintana  Sucursal Lo Espejo  10003742   \n",
       "\n",
       "       Cluster            Segmento.1     Categoría Cliente Año Creación  \\\n",
       "61455  Clásico  Cobertura Pequeno SD  Especialista en Proc         2007   \n",
       "\n",
       "      Material Favorito Frecuencia Historica Mes_num Frecuency_Row  \n",
       "61455           1010077                   19       5           1.0  "
      ]
     },
     "execution_count": 13,
     "metadata": {},
     "output_type": "execute_result"
    }
   ],
   "source": [
    "#======================================================================\n",
    "# Se Cargan los datos de ventas con las caracteristicas de los clientes\n",
    "#=====================================================================\n",
    "\n",
    "file_direct=file_direct_O+'data_1010078_CT F'+'.csv'\n",
    "col_names=pd.read_csv(file_direct,\n",
    "                      encoding=\"utf-8\",sep=\";\",nrows=0).columns\n",
    "\n",
    "types_dict = {col: str for col in list(col_names)}\n",
    "\n",
    "data_i_F = pd.read_csv(file_direct,\n",
    "                   encoding=\"utf-8\",sep=\";\",dtype=types_dict\n",
    "                      ,index_col='Unnamed: 0'\n",
    "                      )\n",
    "\n",
    "# Se debe agregar el parametro ,index_col='Unnamed: 0' \n",
    "# de esta froma tal vez se pueda hacer un merge en base al indice\n",
    "\n",
    "#elimina una columna en especifico\n",
    "#DF_FULL.drop('Año natural', inplace=True, axis=1)\n",
    "data_i_F.head(1)"
   ]
  },
  {
   "cell_type": "markdown",
   "id": "f7c29b30",
   "metadata": {},
   "source": [
    "##### Funcion"
   ]
  },
  {
   "cell_type": "markdown",
   "id": "cec713b7",
   "metadata": {},
   "source": [
    "###### def "
   ]
  },
  {
   "cell_type": "code",
   "execution_count": 14,
   "id": "015ac527",
   "metadata": {},
   "outputs": [],
   "source": [
    "# =============================================================================\n",
    "# Ajustar la data\n",
    "# =============================================================================\n",
    "def Ajuste_data_Refinada(data):\n",
    "    start_time = time.time()\n",
    "\n",
    "    df=data.copy()\n",
    "\n",
    "# =================================\n",
    "# ELiminare dodos los valores Nan\n",
    "# =================================\n",
    "    #for i in df.columns.to_list():\n",
    "    #    df=df[df[i].notna()]\n",
    "\n",
    "    \n",
    "    \n",
    "#=================================\n",
    "# Proceso Recency a Int \n",
    "#=================================\n",
    "        \n",
    "#     df['Recency días']=df['Recency'].apply( lambda x:  x.split(' ')[0])\n",
    "    \n",
    "#=================================\n",
    "# Proceso iterativo Pasar a numero\n",
    "#=================================\n",
    "\n",
    "    for i in ['Kilos Venta KG'\n",
    "#               ,'Venta Neta'\n",
    "              ,'Precio'\n",
    "#               ,'Recency días'\n",
    "              ,'Frecuency_Row'\n",
    "             ]:\n",
    "        df[i]=df[i].astype('float64')\n",
    "    for i in ['Kilos Venta KG'\n",
    "#               ,'Venta Neta'\n",
    "              ,'Precio'\n",
    "#               ,'Recency días'\n",
    "#               ,'Frecuency_Row'\n",
    "             ]:\n",
    "        df[i]=df[i].astype('int64')\n",
    "        \n",
    "# #=================================\n",
    "# # Agregar nombre al codigo del producto\n",
    "# #=================================\n",
    "#     def material_name(x):\n",
    "#         s1=str(x['Material'])\n",
    "#         s2=str(x['Nivel 4.1'])\n",
    "#         return(s1+'('+s2+')')\n",
    "#     df['Material (Nombre)']=df.apply(lambda x:  material_name(x), axis=1)\n",
    "    \n",
    "\n",
    "\n",
    "#==========================================================================================\n",
    "# Ajuste de las fechas\n",
    "#-----------------------------------------------------------------------------------------\n",
    "    df[\"Día natural\"] = df[\"Día natural\"].apply(lambda x: \n",
    "                                                datetime.datetime.strptime(str(x),\n",
    "                                                                           '%Y-%m-%d').date())\n",
    "    \n",
    "    #Separacion fecha\n",
    "    \n",
    "    #ELiminado de DF_FULL\n",
    "    #df['Semana']=df[\"Día natural\"].apply(lambda x: x.isocalendar()[1] )\n",
    "    #df['Mes']=df[\"Día natural\"].apply(lambda x: x.month)\n",
    "    #df['Año']=df[\"Día natural\"].apply(lambda x: x.year)\n",
    "    #df['Semana']=df['Semana'].astype('int64')\n",
    "    \n",
    "#     df['Año']=df['Año'].astype('int64')\n",
    "#     D_W=['Lunes','Martes','Miércoles','Jueves', 'Viernes','Sábado','Domingo']\n",
    "#     df['Día Semana']=df[\"Día natural\"].apply(lambda x: D_W[x.isocalendar()[2] -1])\n",
    "#     df=df[df['Día Semana']!='Domingo']\n",
    "    \n",
    "    print(df.dtypes)\n",
    "    end_time = time.time()\n",
    "    time_convert(end_time - start_time)\n",
    "    return df"
   ]
  },
  {
   "cell_type": "markdown",
   "id": "b8c8e6f0",
   "metadata": {
    "heading_collapsed": true
   },
   "source": [
    "###### aplicación "
   ]
  },
  {
   "cell_type": "code",
   "execution_count": 15,
   "id": "705fd67b",
   "metadata": {
    "hidden": true,
    "scrolled": true
   },
   "outputs": [
    {
     "name": "stdout",
     "output_type": "stream",
     "text": [
      "Material (Nombre)        object\n",
      "Kilos Venta KG            int64\n",
      "Precio                    int64\n",
      "Día natural              object\n",
      "Día Semana               object\n",
      "Semana                   object\n",
      "Mes                      object\n",
      "Año                      object\n",
      "Población                object\n",
      "Centro                   object\n",
      "Cliente                  object\n",
      "Cluster                  object\n",
      "Segmento.1               object\n",
      "Categoría Cliente        object\n",
      "Año Creación             object\n",
      "Material Favorito        object\n",
      "Frecuencia Historica     object\n",
      "Mes_num                  object\n",
      "Frecuency_Row           float64\n",
      "dtype: object\n",
      "Time Lapsed = 0:0:1.7045493125915527 \n",
      " H:m:s\n"
     ]
    },
    {
     "data": {
      "text/html": [
       "<div>\n",
       "<style scoped>\n",
       "    .dataframe tbody tr th:only-of-type {\n",
       "        vertical-align: middle;\n",
       "    }\n",
       "\n",
       "    .dataframe tbody tr th {\n",
       "        vertical-align: top;\n",
       "    }\n",
       "\n",
       "    .dataframe thead th {\n",
       "        text-align: right;\n",
       "    }\n",
       "</style>\n",
       "<table border=\"1\" class=\"dataframe\">\n",
       "  <thead>\n",
       "    <tr style=\"text-align: right;\">\n",
       "      <th></th>\n",
       "      <th>Material (Nombre)</th>\n",
       "      <th>Kilos Venta KG</th>\n",
       "      <th>Precio</th>\n",
       "      <th>Día natural</th>\n",
       "      <th>Día Semana</th>\n",
       "      <th>Semana</th>\n",
       "      <th>Mes</th>\n",
       "      <th>Año</th>\n",
       "      <th>Población</th>\n",
       "      <th>Centro</th>\n",
       "      <th>Cliente</th>\n",
       "      <th>Cluster</th>\n",
       "      <th>Segmento.1</th>\n",
       "      <th>Categoría Cliente</th>\n",
       "      <th>Año Creación</th>\n",
       "      <th>Material Favorito</th>\n",
       "      <th>Frecuencia Historica</th>\n",
       "      <th>Mes_num</th>\n",
       "      <th>Frecuency_Row</th>\n",
       "    </tr>\n",
       "  </thead>\n",
       "  <tbody>\n",
       "    <tr>\n",
       "      <th>61455</th>\n",
       "      <td>1010078(Trutro Entero Selección)</td>\n",
       "      <td>22</td>\n",
       "      <td>1300</td>\n",
       "      <td>2020-05-23</td>\n",
       "      <td>Sábado</td>\n",
       "      <td>21</td>\n",
       "      <td>Mayo</td>\n",
       "      <td>2020</td>\n",
       "      <td>La Pintana</td>\n",
       "      <td>Sucursal Lo Espejo</td>\n",
       "      <td>10003742</td>\n",
       "      <td>Clásico</td>\n",
       "      <td>Cobertura Pequeno SD</td>\n",
       "      <td>Especialista en Proc</td>\n",
       "      <td>2007</td>\n",
       "      <td>1010077</td>\n",
       "      <td>19</td>\n",
       "      <td>5</td>\n",
       "      <td>1.0</td>\n",
       "    </tr>\n",
       "    <tr>\n",
       "      <th>61456</th>\n",
       "      <td>1010078(Trutro Entero Selección)</td>\n",
       "      <td>110</td>\n",
       "      <td>1174</td>\n",
       "      <td>2018-03-01</td>\n",
       "      <td>Jueves</td>\n",
       "      <td>9</td>\n",
       "      <td>Marzo</td>\n",
       "      <td>2018</td>\n",
       "      <td>Puente Alto</td>\n",
       "      <td>Sucursal Lo Espejo</td>\n",
       "      <td>10007508</td>\n",
       "      <td>Clásico</td>\n",
       "      <td>Cobertura Mediano SD</td>\n",
       "      <td>Especialista en Crud</td>\n",
       "      <td>2007</td>\n",
       "      <td>1020253</td>\n",
       "      <td>464</td>\n",
       "      <td>3</td>\n",
       "      <td>1.0</td>\n",
       "    </tr>\n",
       "  </tbody>\n",
       "</table>\n",
       "</div>"
      ],
      "text/plain": [
       "                      Material (Nombre)  Kilos Venta KG  Precio Día natural  \\\n",
       "61455  1010078(Trutro Entero Selección)              22    1300  2020-05-23   \n",
       "61456  1010078(Trutro Entero Selección)             110    1174  2018-03-01   \n",
       "\n",
       "      Día Semana Semana    Mes   Año    Población              Centro  \\\n",
       "61455     Sábado     21   Mayo  2020   La Pintana  Sucursal Lo Espejo   \n",
       "61456     Jueves      9  Marzo  2018  Puente Alto  Sucursal Lo Espejo   \n",
       "\n",
       "        Cliente  Cluster            Segmento.1     Categoría Cliente  \\\n",
       "61455  10003742  Clásico  Cobertura Pequeno SD  Especialista en Proc   \n",
       "61456  10007508  Clásico  Cobertura Mediano SD  Especialista en Crud   \n",
       "\n",
       "      Año Creación Material Favorito Frecuencia Historica Mes_num  \\\n",
       "61455         2007           1010077                   19       5   \n",
       "61456         2007           1020253                  464       3   \n",
       "\n",
       "       Frecuency_Row  \n",
       "61455            1.0  \n",
       "61456            1.0  "
      ]
     },
     "execution_count": 15,
     "metadata": {},
     "output_type": "execute_result"
    }
   ],
   "source": [
    "data_i_F=Ajuste_data_Refinada(data_i_F)\n",
    "data_i_F.head(2)"
   ]
  },
  {
   "cell_type": "markdown",
   "id": "cc991dac",
   "metadata": {
    "heading_collapsed": true
   },
   "source": [
    "### Exploración F"
   ]
  },
  {
   "cell_type": "markdown",
   "id": "a31f2e96",
   "metadata": {
    "hidden": true
   },
   "source": [
    "##### histograma "
   ]
  },
  {
   "cell_type": "code",
   "execution_count": 16,
   "id": "d6d68b54",
   "metadata": {
    "hidden": true,
    "scrolled": true
   },
   "outputs": [
    {
     "data": {
      "text/plain": [
       "(198596, 19)"
      ]
     },
     "execution_count": 16,
     "metadata": {},
     "output_type": "execute_result"
    }
   ],
   "source": [
    "data_i_F.shape"
   ]
  },
  {
   "cell_type": "code",
   "execution_count": 17,
   "id": "16e222f3",
   "metadata": {
    "hidden": true
   },
   "outputs": [
    {
     "data": {
      "text/plain": [
       "Index(['Material (Nombre)', 'Kilos Venta KG', 'Precio', 'Día natural',\n",
       "       'Día Semana', 'Semana', 'Mes', 'Año', 'Población', 'Centro', 'Cliente',\n",
       "       'Cluster', 'Segmento.1', 'Categoría Cliente', 'Año Creación',\n",
       "       'Material Favorito', 'Frecuencia Historica', 'Mes_num',\n",
       "       'Frecuency_Row'],\n",
       "      dtype='object')"
      ]
     },
     "execution_count": 17,
     "metadata": {},
     "output_type": "execute_result"
    }
   ],
   "source": [
    "data_i_F.columns"
   ]
  },
  {
   "cell_type": "code",
   "execution_count": 18,
   "id": "7ebdcb68",
   "metadata": {
    "hidden": true
   },
   "outputs": [
    {
     "data": {
      "text/plain": [
       "<AxesSubplot:>"
      ]
     },
     "execution_count": 18,
     "metadata": {},
     "output_type": "execute_result"
    },
    {
     "data": {
      "image/png": "[encoded data removed]",
      "text/plain": [
       "<Figure size 432x288 with 1 Axes>"
      ]
     },
     "metadata": {
      "needs_background": "light"
     },
     "output_type": "display_data"
    }
   ],
   "source": [
    "data_i_F[data_i_F.columns[18]].hist()"
   ]
  },
  {
   "cell_type": "code",
   "execution_count": 19,
   "id": "51d0751e",
   "metadata": {
    "hidden": true,
    "scrolled": true
   },
   "outputs": [
    {
     "data": {
      "text/plain": [
       "count    198596.000000\n",
       "mean          0.176434\n",
       "std           0.172736\n",
       "min           0.002928\n",
       "25%           0.071689\n",
       "50%           0.139686\n",
       "75%           0.222772\n",
       "max           2.000000\n",
       "Name: Frecuency_Row, dtype: float64"
      ]
     },
     "execution_count": 19,
     "metadata": {},
     "output_type": "execute_result"
    }
   ],
   "source": [
    "data_i_F\\\n",
    "[data_i_F.columns[18]].describe()"
   ]
  },
  {
   "cell_type": "code",
   "execution_count": 20,
   "id": "fb4e0205",
   "metadata": {
    "hidden": true
   },
   "outputs": [
    {
     "data": {
      "text/plain": [
       "count    63389.000000\n",
       "mean         0.154401\n",
       "std          0.125282\n",
       "min          0.003137\n",
       "25%          0.068709\n",
       "50%          0.137182\n",
       "75%          0.209691\n",
       "max          2.000000\n",
       "Name: Frecuency_Row, dtype: float64"
      ]
     },
     "execution_count": 20,
     "metadata": {},
     "output_type": "execute_result"
    }
   ],
   "source": [
    "data_i_F[(data_i_F.Año=='2021')]\\\n",
    "[data_i_F.columns[18]].describe()"
   ]
  },
  {
   "cell_type": "code",
   "execution_count": 21,
   "id": "fbc1e88b",
   "metadata": {
    "hidden": true
   },
   "outputs": [
    {
     "data": {
      "text/html": [
       "<div>\n",
       "<style scoped>\n",
       "    .dataframe tbody tr th:only-of-type {\n",
       "        vertical-align: middle;\n",
       "    }\n",
       "\n",
       "    .dataframe tbody tr th {\n",
       "        vertical-align: top;\n",
       "    }\n",
       "\n",
       "    .dataframe thead th {\n",
       "        text-align: right;\n",
       "    }\n",
       "</style>\n",
       "<table border=\"1\" class=\"dataframe\">\n",
       "  <thead>\n",
       "    <tr style=\"text-align: right;\">\n",
       "      <th></th>\n",
       "      <th>Material (Nombre)</th>\n",
       "      <th>Kilos Venta KG</th>\n",
       "      <th>Precio</th>\n",
       "      <th>Día natural</th>\n",
       "      <th>Día Semana</th>\n",
       "      <th>Semana</th>\n",
       "      <th>Mes</th>\n",
       "      <th>Año</th>\n",
       "      <th>Población</th>\n",
       "      <th>Centro</th>\n",
       "      <th>Cliente</th>\n",
       "      <th>Cluster</th>\n",
       "      <th>Segmento.1</th>\n",
       "      <th>Categoría Cliente</th>\n",
       "      <th>Año Creación</th>\n",
       "      <th>Material Favorito</th>\n",
       "      <th>Frecuencia Historica</th>\n",
       "      <th>Mes_num</th>\n",
       "      <th>Frecuency_Row</th>\n",
       "    </tr>\n",
       "  </thead>\n",
       "  <tbody>\n",
       "  </tbody>\n",
       "</table>\n",
       "</div>"
      ],
      "text/plain": [
       "Empty DataFrame\n",
       "Columns: [Material (Nombre), Kilos Venta KG, Precio, Día natural, Día Semana, Semana, Mes, Año, Población, Centro, Cliente, Cluster, Segmento.1, Categoría Cliente, Año Creación, Material Favorito, Frecuencia Historica, Mes_num, Frecuency_Row]\n",
       "Index: []"
      ]
     },
     "execution_count": 21,
     "metadata": {},
     "output_type": "execute_result"
    }
   ],
   "source": [
    "data_i_F[(\n",
    "    data_i_F[data_i_F.columns[18]]\n",
    "    >=1312)\n",
    "]"
   ]
  },
  {
   "cell_type": "code",
   "execution_count": 22,
   "id": "d4ca73fc",
   "metadata": {
    "hidden": true,
    "scrolled": false
   },
   "outputs": [
    {
     "data": {
      "image/png": "[encoded data removed]",
      "text/plain": [
       "<Figure size 640x480 with 1 Axes>"
      ]
     },
     "metadata": {},
     "output_type": "display_data"
    },
    {
     "data": {
      "text/plain": [
       "<ggplot: (151538184479)>"
      ]
     },
     "execution_count": 22,
     "metadata": {},
     "output_type": "execute_result"
    }
   ],
   "source": [
    "ggplot(data_i_F,aes(x='Año'\n",
    "                    ,y='Frecuency_Row'))\\\n",
    "+geom_boxplot()\n",
    "# (mapping=None, data=data_i_F, stat='bin', position='stack',\n",
    "#                na_rm=False, inherit_aes=True, show_legend=None, raster=False)\n",
    "#                **kwargs)"
   ]
  },
  {
   "cell_type": "code",
   "execution_count": 23,
   "id": "5fc90f36",
   "metadata": {
    "hidden": true
   },
   "outputs": [
    {
     "data": {
      "image/png": "[encoded data removed]",
      "text/plain": [
       "<Figure size 640x480 with 1 Axes>"
      ]
     },
     "metadata": {},
     "output_type": "display_data"
    },
    {
     "data": {
      "text/plain": [
       "<ggplot: (151538907085)>"
      ]
     },
     "execution_count": 23,
     "metadata": {},
     "output_type": "execute_result"
    }
   ],
   "source": [
    "ggplot(data_i_F,aes(x='Frecuency_Row'))\\\n",
    "+geom_histogram(bins=100)\n",
    "# (mapping=None, data=data_i_F, stat='bin', position='stack',\n",
    "#                na_rm=False, inherit_aes=True, show_legend=None, raster=False)\n",
    "#                **kwargs)"
   ]
  },
  {
   "cell_type": "markdown",
   "id": "afa4c496",
   "metadata": {
    "heading_collapsed": true,
    "hidden": true
   },
   "source": [
    "##### Disperción "
   ]
  },
  {
   "cell_type": "code",
   "execution_count": 24,
   "id": "44b2d460",
   "metadata": {
    "hidden": true
   },
   "outputs": [
    {
     "data": {
      "image/png": "[encoded data removed]",
      "text/plain": [
       "<Figure size 1300x800 with 1 Axes>"
      ]
     },
     "metadata": {},
     "output_type": "display_data"
    },
    {
     "data": {
      "text/plain": [
       "<ggplot: (151538919123)>"
      ]
     },
     "execution_count": 24,
     "metadata": {},
     "output_type": "execute_result"
    }
   ],
   "source": [
    "df=data_i_F.copy()\n",
    "X_Graph='Frecuency_Row'\n",
    "Y_Graph='Precio'\n",
    "df[X_Graph]=df[X_Graph].astype('int64')\n",
    "# df_mean[X_Graph]=df_mean[X_Graph].astype('int64')\n",
    "\n",
    "(ggplot(df#[df[Y_Graph]>0]\n",
    "            , aes(x=X_Graph#'Día numero'#'Fecha',\n",
    "            ,y=Y_Graph\n",
    "            ,color='Año'\n",
    "                 ))\n",
    "+geom_point(alpha=0.5)\n",
    "+theme(axis_text_x = element_text(angle=90, hjust=1),figure_size=(13,8)) \n",
    "\n",
    ")      "
   ]
  },
  {
   "cell_type": "code",
   "execution_count": 25,
   "id": "50166eee",
   "metadata": {
    "hidden": true,
    "scrolled": false
   },
   "outputs": [
    {
     "data": {
      "image/png": "[encoded data removed]",
      "text/plain": [
       "<Figure size 1300x800 with 4 Axes>"
      ]
     },
     "metadata": {},
     "output_type": "display_data"
    },
    {
     "data": {
      "text/plain": [
       "<ggplot: (151558462305)>"
      ]
     },
     "execution_count": 25,
     "metadata": {},
     "output_type": "execute_result"
    }
   ],
   "source": [
    "df=data_i_F.copy()\n",
    "X_Graph='Frecuency_Row'\n",
    "Y_Graph='Precio'\n",
    "df[X_Graph]=df[X_Graph].astype('int64')\n",
    "# df[X_Graph]=df[X_Graph].apply(lambda x:  np.log(x))\n",
    "# df[Y_Graph]=df[Y_Graph].apply(lambda x:  np.log(x))\n",
    "\n",
    "\n",
    "# df_mean[X_Graph]=df_mean[X_Graph].astype('int64')\n",
    "\n",
    "(ggplot(df#[df[Y_Graph]>0]\n",
    "            , aes(x=X_Graph#'Día numero'#'Fecha',\n",
    "            ,y=Y_Graph\n",
    "            ,color='Año'\n",
    "                 ))\n",
    "+geom_point(alpha=0.5)\n",
    "+facet_grid('Año~.')\n",
    "+theme(axis_text_x = element_text(angle=90, hjust=1),figure_size=(13,8)) \n",
    "\n",
    ")      "
   ]
  },
  {
   "cell_type": "code",
   "execution_count": 26,
   "id": "eb59d0b7",
   "metadata": {
    "hidden": true,
    "scrolled": false
   },
   "outputs": [
    {
     "data": {
      "image/png": "[encoded data removed]",
      "text/plain": [
       "<Figure size 800x1300 with 4 Axes>"
      ]
     },
     "metadata": {},
     "output_type": "display_data"
    },
    {
     "data": {
      "text/plain": [
       "<ggplot: (151553512647)>"
      ]
     },
     "execution_count": 26,
     "metadata": {},
     "output_type": "execute_result"
    }
   ],
   "source": [
    "df=data_i_F.copy()\n",
    "X_Graph='Frecuency_Row'\n",
    "#'Kilos Venta KG'\n",
    "Y_Graph='Precio'\n",
    "Color_Graph='Año'\n",
    "\n",
    "\n",
    "#int\n",
    "df[X_Graph]=df[X_Graph].astype('int64')\n",
    "\n",
    "df[X_Graph]=df[X_Graph].apply(lambda x:  np.log(x))\n",
    "df[Y_Graph]=df[Y_Graph].apply(lambda x:  np.log(x))\n",
    "df[Y_Graph]=df[Y_Graph].apply(lambda x:  np.log(x))\n",
    "\n",
    "\n",
    "# df_mean[X_Graph]=df_mean[X_Graph].astype('int64')\n",
    "\n",
    "(ggplot(df#[df[Y_Graph]>0]\n",
    "            , aes(x=X_Graph#'Día numero'#'Fecha',\n",
    "            ,y=Y_Graph\n",
    "            ,color=Color_Graph\n",
    "                 ))\n",
    "+geom_point(alpha=0.5)\n",
    "+facet_grid('Año~.')\n",
    "+theme(axis_text_x = element_text(angle=90, hjust=1),figure_size=(8,13)) \n",
    "\n",
    ")      "
   ]
  },
  {
   "cell_type": "code",
   "execution_count": 27,
   "id": "cdbe0398",
   "metadata": {
    "hidden": true
   },
   "outputs": [
    {
     "data": {
      "text/plain": [
       "['Material (Nombre)', 'Kilos Venta KG', 'Precio', 'Cliente']"
      ]
     },
     "execution_count": 27,
     "metadata": {},
     "output_type": "execute_result"
    }
   ],
   "source": [
    "Dic_col['Base']"
   ]
  },
  {
   "cell_type": "code",
   "execution_count": 28,
   "id": "2bcf7ea5",
   "metadata": {
    "hidden": true
   },
   "outputs": [
    {
     "data": {
      "image/png": "[encoded data removed]",
      "text/plain": [
       "<Figure size 800x800 with 4 Axes>"
      ]
     },
     "metadata": {},
     "output_type": "display_data"
    },
    {
     "data": {
      "text/plain": [
       "<ggplot: (151551742769)>"
      ]
     },
     "execution_count": 28,
     "metadata": {},
     "output_type": "execute_result"
    }
   ],
   "source": [
    "df=data_i_F.copy()\n",
    "X_Graph='Kilos Venta KG'\n",
    "Y_Graph='Precio'\n",
    "Color_Graph='Frecuency_Row'\n",
    "\n",
    "\n",
    "#int\n",
    "df[X_Graph]=df[X_Graph].astype('int64')\n",
    "\n",
    "df[X_Graph]=df[X_Graph].apply(lambda x:  np.log(x))\n",
    "df[Y_Graph]=df[Y_Graph].apply(lambda x:  np.log(x))\n",
    "df[Color_Graph]=df[Color_Graph].apply(lambda x:  np.log(x))\n",
    "\n",
    "\n",
    "# df_mean[X_Graph]=df_mean[X_Graph].astype('int64')\n",
    "\n",
    "(ggplot(df#[df[Y_Graph]>0]\n",
    "            , aes(x=X_Graph#'Día numero'#'Fecha',\n",
    "            ,y=Y_Graph\n",
    "            ,color=Color_Graph\n",
    "                 ))\n",
    "+geom_point(alpha=0.5)\n",
    "+facet_grid('.~Año')\n",
    "+theme(axis_text_x = element_text(angle=90, hjust=1),figure_size=(8,8)) \n",
    "\n",
    ")      "
   ]
  },
  {
   "cell_type": "markdown",
   "id": "8acfd62c",
   "metadata": {
    "heading_collapsed": true,
    "hidden": true
   },
   "source": [
    "###### Descripción por cliente "
   ]
  },
  {
   "cell_type": "code",
   "execution_count": 29,
   "id": "643bf493",
   "metadata": {
    "hidden": true,
    "scrolled": false
   },
   "outputs": [
    {
     "data": {
      "text/html": [
       "<div>\n",
       "<style scoped>\n",
       "    .dataframe tbody tr th:only-of-type {\n",
       "        vertical-align: middle;\n",
       "    }\n",
       "\n",
       "    .dataframe tbody tr th {\n",
       "        vertical-align: top;\n",
       "    }\n",
       "\n",
       "    .dataframe thead tr th {\n",
       "        text-align: left;\n",
       "    }\n",
       "\n",
       "    .dataframe thead tr:last-of-type th {\n",
       "        text-align: right;\n",
       "    }\n",
       "</style>\n",
       "<table border=\"1\" class=\"dataframe\">\n",
       "  <thead>\n",
       "    <tr>\n",
       "      <th></th>\n",
       "      <th colspan=\"8\" halign=\"left\">Frecuency_Row</th>\n",
       "    </tr>\n",
       "    <tr>\n",
       "      <th></th>\n",
       "      <th>count</th>\n",
       "      <th>mean</th>\n",
       "      <th>std</th>\n",
       "      <th>min</th>\n",
       "      <th>25%</th>\n",
       "      <th>50%</th>\n",
       "      <th>75%</th>\n",
       "      <th>max</th>\n",
       "    </tr>\n",
       "    <tr>\n",
       "      <th>Cliente</th>\n",
       "      <th></th>\n",
       "      <th></th>\n",
       "      <th></th>\n",
       "      <th></th>\n",
       "      <th></th>\n",
       "      <th></th>\n",
       "      <th></th>\n",
       "      <th></th>\n",
       "    </tr>\n",
       "  </thead>\n",
       "  <tbody>\n",
       "    <tr>\n",
       "      <th>10003742</th>\n",
       "      <td>1.0</td>\n",
       "      <td>1.000000</td>\n",
       "      <td>NaN</td>\n",
       "      <td>1.000000</td>\n",
       "      <td>1.000000</td>\n",
       "      <td>1.000000</td>\n",
       "      <td>1.000000</td>\n",
       "      <td>1.0</td>\n",
       "    </tr>\n",
       "    <tr>\n",
       "      <th>10007508</th>\n",
       "      <td>208.0</td>\n",
       "      <td>0.153281</td>\n",
       "      <td>0.075568</td>\n",
       "      <td>0.053957</td>\n",
       "      <td>0.111261</td>\n",
       "      <td>0.166205</td>\n",
       "      <td>0.184950</td>\n",
       "      <td>1.0</td>\n",
       "    </tr>\n",
       "    <tr>\n",
       "      <th>10017269</th>\n",
       "      <td>78.0</td>\n",
       "      <td>0.071922</td>\n",
       "      <td>0.107923</td>\n",
       "      <td>0.040816</td>\n",
       "      <td>0.054174</td>\n",
       "      <td>0.057115</td>\n",
       "      <td>0.061682</td>\n",
       "      <td>1.0</td>\n",
       "    </tr>\n",
       "    <tr>\n",
       "      <th>10023880</th>\n",
       "      <td>20.0</td>\n",
       "      <td>0.102112</td>\n",
       "      <td>0.211918</td>\n",
       "      <td>0.037124</td>\n",
       "      <td>0.041643</td>\n",
       "      <td>0.057689</td>\n",
       "      <td>0.060128</td>\n",
       "      <td>1.0</td>\n",
       "    </tr>\n",
       "    <tr>\n",
       "      <th>10028999</th>\n",
       "      <td>13.0</td>\n",
       "      <td>0.095970</td>\n",
       "      <td>0.271748</td>\n",
       "      <td>0.014219</td>\n",
       "      <td>0.018384</td>\n",
       "      <td>0.018807</td>\n",
       "      <td>0.019470</td>\n",
       "      <td>1.0</td>\n",
       "    </tr>\n",
       "    <tr>\n",
       "      <th>...</th>\n",
       "      <td>...</td>\n",
       "      <td>...</td>\n",
       "      <td>...</td>\n",
       "      <td>...</td>\n",
       "      <td>...</td>\n",
       "      <td>...</td>\n",
       "      <td>...</td>\n",
       "      <td>...</td>\n",
       "    </tr>\n",
       "    <tr>\n",
       "      <th>9992154</th>\n",
       "      <td>70.0</td>\n",
       "      <td>0.083190</td>\n",
       "      <td>0.117390</td>\n",
       "      <td>0.027312</td>\n",
       "      <td>0.044502</td>\n",
       "      <td>0.074821</td>\n",
       "      <td>0.079465</td>\n",
       "      <td>1.0</td>\n",
       "    </tr>\n",
       "    <tr>\n",
       "      <th>9993925</th>\n",
       "      <td>543.0</td>\n",
       "      <td>0.401797</td>\n",
       "      <td>0.082612</td>\n",
       "      <td>0.290788</td>\n",
       "      <td>0.379020</td>\n",
       "      <td>0.403286</td>\n",
       "      <td>0.410055</td>\n",
       "      <td>2.0</td>\n",
       "    </tr>\n",
       "    <tr>\n",
       "      <th>9994662</th>\n",
       "      <td>11.0</td>\n",
       "      <td>0.113101</td>\n",
       "      <td>0.294287</td>\n",
       "      <td>0.013840</td>\n",
       "      <td>0.015473</td>\n",
       "      <td>0.026316</td>\n",
       "      <td>0.035248</td>\n",
       "      <td>1.0</td>\n",
       "    </tr>\n",
       "    <tr>\n",
       "      <th>9994800</th>\n",
       "      <td>3.0</td>\n",
       "      <td>0.351509</td>\n",
       "      <td>0.561612</td>\n",
       "      <td>0.025633</td>\n",
       "      <td>0.027263</td>\n",
       "      <td>0.028893</td>\n",
       "      <td>0.514446</td>\n",
       "      <td>1.0</td>\n",
       "    </tr>\n",
       "    <tr>\n",
       "      <th>9997223</th>\n",
       "      <td>1.0</td>\n",
       "      <td>1.000000</td>\n",
       "      <td>NaN</td>\n",
       "      <td>1.000000</td>\n",
       "      <td>1.000000</td>\n",
       "      <td>1.000000</td>\n",
       "      <td>1.000000</td>\n",
       "      <td>1.0</td>\n",
       "    </tr>\n",
       "  </tbody>\n",
       "</table>\n",
       "<p>5073 rows × 8 columns</p>\n",
       "</div>"
      ],
      "text/plain": [
       "         Frecuency_Row                                                    \\\n",
       "                 count      mean       std       min       25%       50%   \n",
       "Cliente                                                                    \n",
       "10003742           1.0  1.000000       NaN  1.000000  1.000000  1.000000   \n",
       "10007508         208.0  0.153281  0.075568  0.053957  0.111261  0.166205   \n",
       "10017269          78.0  0.071922  0.107923  0.040816  0.054174  0.057115   \n",
       "10023880          20.0  0.102112  0.211918  0.037124  0.041643  0.057689   \n",
       "10028999          13.0  0.095970  0.271748  0.014219  0.018384  0.018807   \n",
       "...                ...       ...       ...       ...       ...       ...   \n",
       "9992154           70.0  0.083190  0.117390  0.027312  0.044502  0.074821   \n",
       "9993925          543.0  0.401797  0.082612  0.290788  0.379020  0.403286   \n",
       "9994662           11.0  0.113101  0.294287  0.013840  0.015473  0.026316   \n",
       "9994800            3.0  0.351509  0.561612  0.025633  0.027263  0.028893   \n",
       "9997223            1.0  1.000000       NaN  1.000000  1.000000  1.000000   \n",
       "\n",
       "                         \n",
       "               75%  max  \n",
       "Cliente                  \n",
       "10003742  1.000000  1.0  \n",
       "10007508  0.184950  1.0  \n",
       "10017269  0.061682  1.0  \n",
       "10023880  0.060128  1.0  \n",
       "10028999  0.019470  1.0  \n",
       "...            ...  ...  \n",
       "9992154   0.079465  1.0  \n",
       "9993925   0.410055  2.0  \n",
       "9994662   0.035248  1.0  \n",
       "9994800   0.514446  1.0  \n",
       "9997223   1.000000  1.0  \n",
       "\n",
       "[5073 rows x 8 columns]"
      ]
     },
     "execution_count": 29,
     "metadata": {},
     "output_type": "execute_result"
    }
   ],
   "source": [
    "df_G=data_i_F[['Cliente','Frecuency_Row']].groupby('Cliente').describe()\n",
    "df_G"
   ]
  },
  {
   "cell_type": "markdown",
   "id": "855f5d50",
   "metadata": {
    "heading_collapsed": true
   },
   "source": [
    "## Data Customers\n",
    " "
   ]
  },
  {
   "cell_type": "markdown",
   "id": "8e7a3b66",
   "metadata": {
    "hidden": true
   },
   "source": [
    "###### abrir "
   ]
  },
  {
   "cell_type": "code",
   "execution_count": 30,
   "id": "6263b7e4",
   "metadata": {
    "hidden": true,
    "scrolled": true
   },
   "outputs": [
    {
     "data": {
      "text/html": [
       "<div>\n",
       "<style scoped>\n",
       "    .dataframe tbody tr th:only-of-type {\n",
       "        vertical-align: middle;\n",
       "    }\n",
       "\n",
       "    .dataframe tbody tr th {\n",
       "        vertical-align: top;\n",
       "    }\n",
       "\n",
       "    .dataframe thead th {\n",
       "        text-align: right;\n",
       "    }\n",
       "</style>\n",
       "<table border=\"1\" class=\"dataframe\">\n",
       "  <thead>\n",
       "    <tr style=\"text-align: right;\">\n",
       "      <th></th>\n",
       "      <th>Cliente</th>\n",
       "      <th>Fecha ultima Compra</th>\n",
       "      <th>Recency Actual</th>\n",
       "      <th>Fecha Creacion</th>\n",
       "      <th>Frecuency Actual del Cliente</th>\n",
       "      <th>Kilos Venta KG Promedio</th>\n",
       "      <th>Precio Promedio</th>\n",
       "      <th>Año Creación Promedio</th>\n",
       "      <th>Frecuencia Historica Promedio</th>\n",
       "      <th>Ingreso de Venta Promedio</th>\n",
       "    </tr>\n",
       "  </thead>\n",
       "  <tbody>\n",
       "    <tr>\n",
       "      <th>0</th>\n",
       "      <td>10003742</td>\n",
       "      <td>2020-05-23</td>\n",
       "      <td>521</td>\n",
       "      <td>2020-05-23</td>\n",
       "      <td>0.0033444816053511705</td>\n",
       "      <td>22.0</td>\n",
       "      <td>1300.0</td>\n",
       "      <td>2007.0</td>\n",
       "      <td>19.0</td>\n",
       "      <td>28600.0</td>\n",
       "    </tr>\n",
       "  </tbody>\n",
       "</table>\n",
       "</div>"
      ],
      "text/plain": [
       "    Cliente Fecha ultima Compra Recency Actual Fecha Creacion  \\\n",
       "0  10003742          2020-05-23            521     2020-05-23   \n",
       "\n",
       "  Frecuency Actual del Cliente Kilos Venta KG Promedio Precio Promedio  \\\n",
       "0        0.0033444816053511705                    22.0          1300.0   \n",
       "\n",
       "  Año Creación Promedio Frecuencia Historica Promedio  \\\n",
       "0                2007.0                          19.0   \n",
       "\n",
       "  Ingreso de Venta Promedio  \n",
       "0                   28600.0  "
      ]
     },
     "execution_count": 30,
     "metadata": {},
     "output_type": "execute_result"
    }
   ],
   "source": [
    "#======================================================================\n",
    "# Se Cargan los datos de ventas con las caracteristicas de los clientes\n",
    "#=====================================================================\n",
    "\n",
    "file_direct=file_direct_O+'Clientes_1010078_CT RFM'+'.csv'\n",
    "col_names=pd.read_csv(file_direct,\n",
    "                      encoding=\"utf-8\",sep=\";\",nrows=0).columns\n",
    "\n",
    "types_dict = {col: str for col in list(col_names)}\n",
    "\n",
    "Clientes_i_RFM= pd.read_csv(file_direct,\n",
    "                   encoding=\"utf-8\",sep=\";\",dtype=types_dict\n",
    "                      ,index_col='Unnamed: 0'\n",
    "                      )\n",
    "\n",
    "# Se debe agregar el parametro ,index_col='Unnamed: 0' \n",
    "# de esta froma tal vez se pueda hacer un merge en base al indice\n",
    "\n",
    "#elimina una columna en especifico\n",
    "#DF_FULL.drop('Año natural', inplace=True, axis=1)\n",
    "Clientes_i_RFM.head(1)"
   ]
  },
  {
   "cell_type": "code",
   "execution_count": 31,
   "id": "0e8bf8a1",
   "metadata": {
    "hidden": true
   },
   "outputs": [
    {
     "data": {
      "text/plain": [
       "Cliente                                    10007508\n",
       "Fecha ultima Compra                      2021-10-26\n",
       "Recency Actual                                    0\n",
       "Fecha Creacion                           2018-03-01\n",
       "Frecuency Actual del Cliente     0.2017524296094161\n",
       "Kilos Venta KG Promedio           93.15865384615384\n",
       "Precio Promedio                  1266.8942307692307\n",
       "Año Creación Promedio                        2007.0\n",
       "Frecuencia Historica Promedio                 464.0\n",
       "Ingreso de Venta Promedio        117683.47115384616\n",
       "Name: 1, dtype: object"
      ]
     },
     "execution_count": 31,
     "metadata": {},
     "output_type": "execute_result"
    }
   ],
   "source": [
    "Clientes_i_RFM.iloc[1]"
   ]
  },
  {
   "cell_type": "markdown",
   "id": "a3835630",
   "metadata": {
    "heading_collapsed": true,
    "hidden": true
   },
   "source": [
    "### Función Ajuste "
   ]
  },
  {
   "cell_type": "markdown",
   "id": "76ffa147",
   "metadata": {
    "heading_collapsed": true,
    "hidden": true
   },
   "source": [
    "###### def  `Ajuste_Clientes_RFM`"
   ]
  },
  {
   "cell_type": "code",
   "execution_count": 32,
   "id": "447df01d",
   "metadata": {
    "hidden": true
   },
   "outputs": [],
   "source": [
    "# =============================================================================\n",
    "# Ajustar la data\n",
    "# =============================================================================\n",
    "def Ajuste_Clientes_RFM(data):\n",
    "    start_time = time.time()\n",
    "    df=data.copy()\n",
    "\n",
    "#=================================\n",
    "# Proceso iterativo Pasar a numero\n",
    "#=================================\n",
    "\n",
    "    for i in [\n",
    "            #RFM\n",
    "            'Recency Actual'\n",
    "            ,'Frecuency Actual del Cliente'\n",
    "            ,'Ingreso de Venta Promedio'\n",
    "              \n",
    "            #Val Fact\n",
    "            ,'Kilos Venta KG Promedio'\n",
    "            ,'Precio Promedio'\n",
    "            \n",
    "            # Val historicos (ind del producto)\n",
    "            ,'Año Creación Promedio'\n",
    "            ,'Frecuencia Historica Promedio'\n",
    "             ]:\n",
    "        df[i]=df[i].astype('float64')\n",
    "        #.astype('int64')\n",
    "        \n",
    "    for i in [\n",
    "                #RFM\n",
    "                'Recency Actual'\n",
    "#                 ,'Frecuency Actual del Cliente'\n",
    "#                 ,'Ingreso de Venta Promedio'\n",
    "\n",
    "                #Val Fact\n",
    "#                 ,'Kilos Venta KG Promedio'\n",
    "#                 ,'Precio Promedio'\n",
    "\n",
    "                # Val historicos (ind del producto)\n",
    "                ,'Año Creación Promedio'\n",
    "                ,'Frecuencia Historica Promedio'\n",
    "                ]:\n",
    "        df[i]=df[i].astype('int64')\n",
    "        \n",
    "\n",
    "\n",
    "#==========================================================================================\n",
    "# Ajuste de las fechas\n",
    "#-----------------------------------------------------------------------------------------\n",
    "    for date in ['Fecha ultima Compra','Fecha Creacion']:\n",
    "        df[date] = df[date].apply(lambda x: \n",
    "                                            datetime.datetime.strptime(str(x),\n",
    "                                                                           '%Y-%m-%d').date())\n",
    "    \n",
    "    #Separacion fecha\n",
    "    \n",
    "    #ELiminado de DF_FULL\n",
    "    #df['Semana']=df[\"Día natural\"].apply(lambda x: x.isocalendar()[1] )\n",
    "    #df['Mes']=df[\"Día natural\"].apply(lambda x: x.month)\n",
    "    #df['Año']=df[\"Día natural\"].apply(lambda x: x.year)\n",
    "    #df['Semana']=df['Semana'].astype('int64')\n",
    "    \n",
    "#     df['Año']=df['Año'].astype('int64')\n",
    "#     D_W=['Lunes','Martes','Miércoles','Jueves', 'Viernes','Sábado','Domingo']\n",
    "#     df['Día Semana']=df[\"Día natural\"].apply(lambda x: D_W[x.isocalendar()[2] -1])\n",
    "#     df=df[df['Día Semana']!='Domingo']\n",
    "    \n",
    "    print(df.dtypes)\n",
    "    end_time = time.time()\n",
    "    time_convert(end_time - start_time)\n",
    "    return df"
   ]
  },
  {
   "cell_type": "markdown",
   "id": "1e6defbf",
   "metadata": {
    "heading_collapsed": true,
    "hidden": true
   },
   "source": [
    "##### Aplicación"
   ]
  },
  {
   "cell_type": "code",
   "execution_count": 33,
   "id": "9896f170",
   "metadata": {
    "hidden": true,
    "scrolled": true
   },
   "outputs": [
    {
     "name": "stdout",
     "output_type": "stream",
     "text": [
      "Cliente                           object\n",
      "Fecha ultima Compra               object\n",
      "Recency Actual                     int64\n",
      "Fecha Creacion                    object\n",
      "Frecuency Actual del Cliente     float64\n",
      "Kilos Venta KG Promedio          float64\n",
      "Precio Promedio                  float64\n",
      "Año Creación Promedio              int64\n",
      "Frecuencia Historica Promedio      int64\n",
      "Ingreso de Venta Promedio        float64\n",
      "dtype: object\n",
      "Time Lapsed = 0:0:0.0940854549407959 \n",
      " H:m:s\n"
     ]
    }
   ],
   "source": [
    "Clientes_i_RFM=Ajuste_Clientes_RFM(Clientes_i_RFM)"
   ]
  },
  {
   "cell_type": "markdown",
   "id": "8aafe39e",
   "metadata": {},
   "source": [
    "# Analisis\n",
    "\n",
    "Dataframes de interes:\n",
    "\n",
    "- df_fecha_fin:\n",
    "    - Respresneta el Recency ctual\n",
    "    - `(df_fecha_fin.rename(columns={'Recency Actual':'Recency actual del Cliente'})`\n",
    "    \n",
    "    \n",
    "- data_i_F:\n",
    "    \n",
    "    - `Recency días`\n",
    "    - Representa el Recency al momento de realizar al compra.\n",
    "- df_g:\n",
    "\n",
    "    - Representa el valor promedio del Recency del cliente\n",
    "    -`df_g.rename(columns ={'Frecuency_Row':'Recency Promedio Cliente'})`\n",
    "            "
   ]
  },
  {
   "cell_type": "markdown",
   "id": "d0c947fd",
   "metadata": {},
   "source": [
    "## groupby Frecuency  mean for each client "
   ]
  },
  {
   "cell_type": "code",
   "execution_count": 34,
   "id": "7ea14218",
   "metadata": {},
   "outputs": [
    {
     "data": {
      "text/plain": [
       "'Frecuency_Row'"
      ]
     },
     "execution_count": 34,
     "metadata": {},
     "output_type": "execute_result"
    }
   ],
   "source": [
    "Dic_col['RFM Row'][1]"
   ]
  },
  {
   "cell_type": "code",
   "execution_count": 35,
   "id": "74bd7e69",
   "metadata": {},
   "outputs": [
    {
     "data": {
      "text/html": [
       "<div>\n",
       "<style scoped>\n",
       "    .dataframe tbody tr th:only-of-type {\n",
       "        vertical-align: middle;\n",
       "    }\n",
       "\n",
       "    .dataframe tbody tr th {\n",
       "        vertical-align: top;\n",
       "    }\n",
       "\n",
       "    .dataframe thead th {\n",
       "        text-align: right;\n",
       "    }\n",
       "</style>\n",
       "<table border=\"1\" class=\"dataframe\">\n",
       "  <thead>\n",
       "    <tr style=\"text-align: right;\">\n",
       "      <th></th>\n",
       "      <th>Material (Nombre)</th>\n",
       "      <th>Kilos Venta KG</th>\n",
       "      <th>Precio</th>\n",
       "      <th>Día natural</th>\n",
       "      <th>Día Semana</th>\n",
       "      <th>Semana</th>\n",
       "      <th>Mes</th>\n",
       "      <th>Año</th>\n",
       "      <th>Población</th>\n",
       "      <th>Centro</th>\n",
       "      <th>Cliente</th>\n",
       "      <th>Cluster</th>\n",
       "      <th>Segmento.1</th>\n",
       "      <th>Categoría Cliente</th>\n",
       "      <th>Año Creación</th>\n",
       "      <th>Material Favorito</th>\n",
       "      <th>Frecuencia Historica</th>\n",
       "      <th>Mes_num</th>\n",
       "      <th>Frecuency_Row</th>\n",
       "    </tr>\n",
       "  </thead>\n",
       "  <tbody>\n",
       "    <tr>\n",
       "      <th>61455</th>\n",
       "      <td>1010078(Trutro Entero Selección)</td>\n",
       "      <td>22</td>\n",
       "      <td>1300</td>\n",
       "      <td>2020-05-23</td>\n",
       "      <td>Sábado</td>\n",
       "      <td>21</td>\n",
       "      <td>Mayo</td>\n",
       "      <td>2020</td>\n",
       "      <td>La Pintana</td>\n",
       "      <td>Sucursal Lo Espejo</td>\n",
       "      <td>10003742</td>\n",
       "      <td>Clásico</td>\n",
       "      <td>Cobertura Pequeno SD</td>\n",
       "      <td>Especialista en Proc</td>\n",
       "      <td>2007</td>\n",
       "      <td>1010077</td>\n",
       "      <td>19</td>\n",
       "      <td>5</td>\n",
       "      <td>1.0</td>\n",
       "    </tr>\n",
       "    <tr>\n",
       "      <th>61456</th>\n",
       "      <td>1010078(Trutro Entero Selección)</td>\n",
       "      <td>110</td>\n",
       "      <td>1174</td>\n",
       "      <td>2018-03-01</td>\n",
       "      <td>Jueves</td>\n",
       "      <td>9</td>\n",
       "      <td>Marzo</td>\n",
       "      <td>2018</td>\n",
       "      <td>Puente Alto</td>\n",
       "      <td>Sucursal Lo Espejo</td>\n",
       "      <td>10007508</td>\n",
       "      <td>Clásico</td>\n",
       "      <td>Cobertura Mediano SD</td>\n",
       "      <td>Especialista en Crud</td>\n",
       "      <td>2007</td>\n",
       "      <td>1020253</td>\n",
       "      <td>464</td>\n",
       "      <td>3</td>\n",
       "      <td>1.0</td>\n",
       "    </tr>\n",
       "  </tbody>\n",
       "</table>\n",
       "</div>"
      ],
      "text/plain": [
       "                      Material (Nombre)  Kilos Venta KG  Precio Día natural  \\\n",
       "61455  1010078(Trutro Entero Selección)              22    1300  2020-05-23   \n",
       "61456  1010078(Trutro Entero Selección)             110    1174  2018-03-01   \n",
       "\n",
       "      Día Semana Semana    Mes   Año    Población              Centro  \\\n",
       "61455     Sábado     21   Mayo  2020   La Pintana  Sucursal Lo Espejo   \n",
       "61456     Jueves      9  Marzo  2018  Puente Alto  Sucursal Lo Espejo   \n",
       "\n",
       "        Cliente  Cluster            Segmento.1     Categoría Cliente  \\\n",
       "61455  10003742  Clásico  Cobertura Pequeno SD  Especialista en Proc   \n",
       "61456  10007508  Clásico  Cobertura Mediano SD  Especialista en Crud   \n",
       "\n",
       "      Año Creación Material Favorito Frecuencia Historica Mes_num  \\\n",
       "61455         2007           1010077                   19       5   \n",
       "61456         2007           1020253                  464       3   \n",
       "\n",
       "       Frecuency_Row  \n",
       "61455            1.0  \n",
       "61456            1.0  "
      ]
     },
     "execution_count": 35,
     "metadata": {},
     "output_type": "execute_result"
    }
   ],
   "source": [
    "data_i_F.head(2)"
   ]
  },
  {
   "cell_type": "code",
   "execution_count": 36,
   "id": "01109c85",
   "metadata": {
    "scrolled": false
   },
   "outputs": [
    {
     "data": {
      "text/html": [
       "<div>\n",
       "<style scoped>\n",
       "    .dataframe tbody tr th:only-of-type {\n",
       "        vertical-align: middle;\n",
       "    }\n",
       "\n",
       "    .dataframe tbody tr th {\n",
       "        vertical-align: top;\n",
       "    }\n",
       "\n",
       "    .dataframe thead th {\n",
       "        text-align: right;\n",
       "    }\n",
       "</style>\n",
       "<table border=\"1\" class=\"dataframe\">\n",
       "  <thead>\n",
       "    <tr style=\"text-align: right;\">\n",
       "      <th></th>\n",
       "      <th>Cliente</th>\n",
       "      <th>Frecuency Promedio Cliente</th>\n",
       "    </tr>\n",
       "  </thead>\n",
       "  <tbody>\n",
       "    <tr>\n",
       "      <th>0</th>\n",
       "      <td>10003742</td>\n",
       "      <td>1.000000</td>\n",
       "    </tr>\n",
       "    <tr>\n",
       "      <th>1</th>\n",
       "      <td>10007508</td>\n",
       "      <td>0.153281</td>\n",
       "    </tr>\n",
       "    <tr>\n",
       "      <th>2</th>\n",
       "      <td>10017269</td>\n",
       "      <td>0.071922</td>\n",
       "    </tr>\n",
       "    <tr>\n",
       "      <th>3</th>\n",
       "      <td>10023880</td>\n",
       "      <td>0.102112</td>\n",
       "    </tr>\n",
       "    <tr>\n",
       "      <th>4</th>\n",
       "      <td>10028999</td>\n",
       "      <td>0.095970</td>\n",
       "    </tr>\n",
       "  </tbody>\n",
       "</table>\n",
       "</div>"
      ],
      "text/plain": [
       "    Cliente  Frecuency Promedio Cliente\n",
       "0  10003742                    1.000000\n",
       "1  10007508                    0.153281\n",
       "2  10017269                    0.071922\n",
       "3  10023880                    0.102112\n",
       "4  10028999                    0.095970"
      ]
     },
     "execution_count": 36,
     "metadata": {},
     "output_type": "execute_result"
    }
   ],
   "source": [
    "df_F_row_Promedio=data_i_F[[ 'Cliente', Dic_col['RFM Row'][1]]].groupby('Cliente').mean().reset_index()#\n",
    "# rename\n",
    "df_F_row_Promedio=df_F_row_Promedio.rename(columns={'Frecuency_Row':'Frecuency Promedio Cliente'})\n",
    "df_F_row_Promedio.head()"
   ]
  },
  {
   "cell_type": "markdown",
   "id": "51f78218",
   "metadata": {},
   "source": [
    "###### histograma "
   ]
  },
  {
   "cell_type": "code",
   "execution_count": 37,
   "id": "ac7b298c",
   "metadata": {},
   "outputs": [
    {
     "data": {
      "text/plain": [
       "array([[<AxesSubplot:title={'center':'Frecuency Promedio Cliente'}>]],\n",
       "      dtype=object)"
      ]
     },
     "execution_count": 37,
     "metadata": {},
     "output_type": "execute_result"
    },
    {
     "data": {
      "image/png": "[encoded data removed]",
      "text/plain": [
       "<Figure size 432x288 with 1 Axes>"
      ]
     },
     "metadata": {
      "needs_background": "light"
     },
     "output_type": "display_data"
    }
   ],
   "source": [
    "df_F_row_Promedio.hist()"
   ]
  },
  {
   "cell_type": "markdown",
   "id": "9c9d0eb9",
   "metadata": {
    "heading_collapsed": true
   },
   "source": [
    "## Tablas  \n"
   ]
  },
  {
   "cell_type": "markdown",
   "id": "51dc05f9",
   "metadata": {
    "heading_collapsed": true,
    "hidden": true
   },
   "source": [
    "### Interpretado como F (Cantidad de compras por día) "
   ]
  },
  {
   "cell_type": "markdown",
   "id": "46413855",
   "metadata": {
    "heading_collapsed": true,
    "hidden": true
   },
   "source": [
    "##### Filas de cada distribcuión "
   ]
  },
  {
   "cell_type": "markdown",
   "id": "fadfe2c0",
   "metadata": {
    "hidden": true
   },
   "source": [
    "###### Actual por Cliente"
   ]
  },
  {
   "cell_type": "code",
   "execution_count": 38,
   "id": "24fa2796",
   "metadata": {
    "hidden": true
   },
   "outputs": [
    {
     "data": {
      "text/plain": [
       "dict_keys(['Base', 'Fecha', 'Ubicacion', 'Cliente Categoria', 'Cliente Atributos', 'RFM Row', 'RFM Customers'])"
      ]
     },
     "execution_count": 38,
     "metadata": {},
     "output_type": "execute_result"
    }
   ],
   "source": [
    "Dic_col.keys()"
   ]
  },
  {
   "cell_type": "code",
   "execution_count": 39,
   "id": "a67a76a4",
   "metadata": {
    "hidden": true,
    "scrolled": true
   },
   "outputs": [
    {
     "data": {
      "text/html": [
       "<div>\n",
       "<style scoped>\n",
       "    .dataframe tbody tr th:only-of-type {\n",
       "        vertical-align: middle;\n",
       "    }\n",
       "\n",
       "    .dataframe tbody tr th {\n",
       "        vertical-align: top;\n",
       "    }\n",
       "\n",
       "    .dataframe thead th {\n",
       "        text-align: right;\n",
       "    }\n",
       "</style>\n",
       "<table border=\"1\" class=\"dataframe\">\n",
       "  <thead>\n",
       "    <tr style=\"text-align: right;\">\n",
       "      <th></th>\n",
       "      <th>count</th>\n",
       "      <th>mean</th>\n",
       "      <th>std</th>\n",
       "      <th>min</th>\n",
       "      <th>25%</th>\n",
       "      <th>50%</th>\n",
       "      <th>75%</th>\n",
       "      <th>max</th>\n",
       "    </tr>\n",
       "  </thead>\n",
       "  <tbody>\n",
       "    <tr>\n",
       "      <th>Frecuency Actual del Cliente</th>\n",
       "      <td>5073.0</td>\n",
       "      <td>0.046</td>\n",
       "      <td>0.063</td>\n",
       "      <td>0.003</td>\n",
       "      <td>0.008</td>\n",
       "      <td>0.018</td>\n",
       "      <td>0.054</td>\n",
       "      <td>0.462</td>\n",
       "    </tr>\n",
       "  </tbody>\n",
       "</table>\n",
       "</div>"
      ],
      "text/plain": [
       "                               count   mean    std    min    25%    50%  \\\n",
       "Frecuency Actual del Cliente  5073.0  0.046  0.063  0.003  0.008  0.018   \n",
       "\n",
       "                                75%    max  \n",
       "Frecuency Actual del Cliente  0.054  0.462  "
      ]
     },
     "execution_count": 39,
     "metadata": {},
     "output_type": "execute_result"
    }
   ],
   "source": [
    "df_Actual=pd.DataFrame(\n",
    "(Clientes_i_RFM['Frecuency Actual del Cliente'].describe())).T.round(3)\n",
    "df_Actual"
   ]
  },
  {
   "cell_type": "markdown",
   "id": "43c6fc20",
   "metadata": {
    "hidden": true
   },
   "source": [
    "######  Promedio de Cada Cliente sobre sus Facturas"
   ]
  },
  {
   "cell_type": "code",
   "execution_count": 40,
   "id": "26ec48f5",
   "metadata": {
    "hidden": true,
    "scrolled": false
   },
   "outputs": [
    {
     "data": {
      "text/html": [
       "<div>\n",
       "<style scoped>\n",
       "    .dataframe tbody tr th:only-of-type {\n",
       "        vertical-align: middle;\n",
       "    }\n",
       "\n",
       "    .dataframe tbody tr th {\n",
       "        vertical-align: top;\n",
       "    }\n",
       "\n",
       "    .dataframe thead th {\n",
       "        text-align: right;\n",
       "    }\n",
       "</style>\n",
       "<table border=\"1\" class=\"dataframe\">\n",
       "  <thead>\n",
       "    <tr style=\"text-align: right;\">\n",
       "      <th></th>\n",
       "      <th>count</th>\n",
       "      <th>mean</th>\n",
       "      <th>std</th>\n",
       "      <th>min</th>\n",
       "      <th>25%</th>\n",
       "      <th>50%</th>\n",
       "      <th>75%</th>\n",
       "      <th>max</th>\n",
       "    </tr>\n",
       "  </thead>\n",
       "  <tbody>\n",
       "    <tr>\n",
       "      <th>Frecuency Promedio Cliente</th>\n",
       "      <td>5073.0</td>\n",
       "      <td>0.252</td>\n",
       "      <td>0.24</td>\n",
       "      <td>0.054</td>\n",
       "      <td>0.107</td>\n",
       "      <td>0.163</td>\n",
       "      <td>0.272</td>\n",
       "      <td>1.0</td>\n",
       "    </tr>\n",
       "  </tbody>\n",
       "</table>\n",
       "</div>"
      ],
      "text/plain": [
       "                             count   mean   std    min    25%    50%    75%  \\\n",
       "Frecuency Promedio Cliente  5073.0  0.252  0.24  0.054  0.107  0.163  0.272   \n",
       "\n",
       "                            max  \n",
       "Frecuency Promedio Cliente  1.0  "
      ]
     },
     "execution_count": 40,
     "metadata": {},
     "output_type": "execute_result"
    }
   ],
   "source": [
    "df_gro_P=pd.DataFrame(\n",
    "(df_F_row_Promedio.describe().round(3))).T\n",
    "df_gro_P"
   ]
  },
  {
   "cell_type": "markdown",
   "id": "6569da7c",
   "metadata": {
    "hidden": true
   },
   "source": [
    "###### Facturas"
   ]
  },
  {
   "cell_type": "code",
   "execution_count": 41,
   "id": "bb638c05",
   "metadata": {
    "hidden": true,
    "scrolled": false
   },
   "outputs": [
    {
     "data": {
      "text/html": [
       "<div>\n",
       "<style scoped>\n",
       "    .dataframe tbody tr th:only-of-type {\n",
       "        vertical-align: middle;\n",
       "    }\n",
       "\n",
       "    .dataframe tbody tr th {\n",
       "        vertical-align: top;\n",
       "    }\n",
       "\n",
       "    .dataframe thead th {\n",
       "        text-align: right;\n",
       "    }\n",
       "</style>\n",
       "<table border=\"1\" class=\"dataframe\">\n",
       "  <thead>\n",
       "    <tr style=\"text-align: right;\">\n",
       "      <th></th>\n",
       "      <th>Material (Nombre)</th>\n",
       "      <th>Kilos Venta KG</th>\n",
       "      <th>Precio</th>\n",
       "      <th>Día natural</th>\n",
       "      <th>Día Semana</th>\n",
       "      <th>Semana</th>\n",
       "      <th>Mes</th>\n",
       "      <th>Año</th>\n",
       "      <th>Población</th>\n",
       "      <th>Centro</th>\n",
       "      <th>Cliente</th>\n",
       "      <th>Cluster</th>\n",
       "      <th>Segmento.1</th>\n",
       "      <th>Categoría Cliente</th>\n",
       "      <th>Año Creación</th>\n",
       "      <th>Material Favorito</th>\n",
       "      <th>Frecuencia Historica</th>\n",
       "      <th>Mes_num</th>\n",
       "      <th>Frecuency Facturas</th>\n",
       "    </tr>\n",
       "  </thead>\n",
       "  <tbody>\n",
       "    <tr>\n",
       "      <th>61455</th>\n",
       "      <td>1010078(Trutro Entero Selección)</td>\n",
       "      <td>22</td>\n",
       "      <td>1300</td>\n",
       "      <td>2020-05-23</td>\n",
       "      <td>Sábado</td>\n",
       "      <td>21</td>\n",
       "      <td>Mayo</td>\n",
       "      <td>2020</td>\n",
       "      <td>La Pintana</td>\n",
       "      <td>Sucursal Lo Espejo</td>\n",
       "      <td>10003742</td>\n",
       "      <td>Clásico</td>\n",
       "      <td>Cobertura Pequeno SD</td>\n",
       "      <td>Especialista en Proc</td>\n",
       "      <td>2007</td>\n",
       "      <td>1010077</td>\n",
       "      <td>19</td>\n",
       "      <td>5</td>\n",
       "      <td>1.0</td>\n",
       "    </tr>\n",
       "  </tbody>\n",
       "</table>\n",
       "</div>"
      ],
      "text/plain": [
       "                      Material (Nombre)  Kilos Venta KG  Precio Día natural  \\\n",
       "61455  1010078(Trutro Entero Selección)              22    1300  2020-05-23   \n",
       "\n",
       "      Día Semana Semana   Mes   Año   Población              Centro   Cliente  \\\n",
       "61455     Sábado     21  Mayo  2020  La Pintana  Sucursal Lo Espejo  10003742   \n",
       "\n",
       "       Cluster            Segmento.1     Categoría Cliente Año Creación  \\\n",
       "61455  Clásico  Cobertura Pequeno SD  Especialista en Proc         2007   \n",
       "\n",
       "      Material Favorito Frecuencia Historica Mes_num  Frecuency Facturas  \n",
       "61455           1010077                   19       5                 1.0  "
      ]
     },
     "execution_count": 41,
     "metadata": {},
     "output_type": "execute_result"
    }
   ],
   "source": [
    "df=data_i_F.copy()\n",
    "df=df.rename(columns ={'Frecuency_Row':'Frecuency Facturas'})\n",
    "df.head(1)"
   ]
  },
  {
   "cell_type": "code",
   "execution_count": 42,
   "id": "4914e4c5",
   "metadata": {
    "hidden": true,
    "scrolled": true
   },
   "outputs": [
    {
     "data": {
      "text/html": [
       "<div>\n",
       "<style scoped>\n",
       "    .dataframe tbody tr th:only-of-type {\n",
       "        vertical-align: middle;\n",
       "    }\n",
       "\n",
       "    .dataframe tbody tr th {\n",
       "        vertical-align: top;\n",
       "    }\n",
       "\n",
       "    .dataframe thead th {\n",
       "        text-align: right;\n",
       "    }\n",
       "</style>\n",
       "<table border=\"1\" class=\"dataframe\">\n",
       "  <thead>\n",
       "    <tr style=\"text-align: right;\">\n",
       "      <th></th>\n",
       "      <th>count</th>\n",
       "      <th>mean</th>\n",
       "      <th>std</th>\n",
       "      <th>min</th>\n",
       "      <th>25%</th>\n",
       "      <th>50%</th>\n",
       "      <th>75%</th>\n",
       "      <th>max</th>\n",
       "    </tr>\n",
       "  </thead>\n",
       "  <tbody>\n",
       "    <tr>\n",
       "      <th>Frecuency Facturas</th>\n",
       "      <td>198596.0</td>\n",
       "      <td>0.176</td>\n",
       "      <td>0.173</td>\n",
       "      <td>0.003</td>\n",
       "      <td>0.072</td>\n",
       "      <td>0.14</td>\n",
       "      <td>0.223</td>\n",
       "      <td>2.0</td>\n",
       "    </tr>\n",
       "  </tbody>\n",
       "</table>\n",
       "</div>"
      ],
      "text/plain": [
       "                       count   mean    std    min    25%   50%    75%  max\n",
       "Frecuency Facturas  198596.0  0.176  0.173  0.003  0.072  0.14  0.223  2.0"
      ]
     },
     "execution_count": 42,
     "metadata": {},
     "output_type": "execute_result"
    }
   ],
   "source": [
    "df_Fact_P=pd.DataFrame(\n",
    "(df['Frecuency Facturas'].describe())).T.round(3).copy()\n",
    "df_Fact_P"
   ]
  },
  {
   "cell_type": "code",
   "execution_count": 43,
   "id": "55a6716a",
   "metadata": {
    "hidden": true
   },
   "outputs": [
    {
     "name": "stdout",
     "output_type": "stream",
     "text": [
      "\\begin{tabular}{lrrrrrrrr}\n",
      "\\toprule\n",
      "{} &     count &  mean &  std &  min &  25\\% &  50\\% &  75\\% &  max \\\\\n",
      "\\midrule\n",
      "Frecuency Facturas & 198,596.0 &   0.2 &  0.2 &  0.0 &  0.1 &  0.1 &  0.2 &  2.0 \\\\\n",
      "\\bottomrule\n",
      "\\end{tabular}\n",
      "\n"
     ]
    }
   ],
   "source": [
    "print(pd.DataFrame(\n",
    "(df.describe())['Frecuency Facturas']).T.round(2).to_latex(float_format=\"{:,.1f}\".format))"
   ]
  },
  {
   "cell_type": "markdown",
   "id": "daf3bb71",
   "metadata": {
    "heading_collapsed": true,
    "hidden": true
   },
   "source": [
    "##### Juntar ambas tablas"
   ]
  },
  {
   "cell_type": "code",
   "execution_count": 44,
   "id": "d324776e",
   "metadata": {
    "hidden": true,
    "scrolled": false
   },
   "outputs": [
    {
     "data": {
      "text/html": [
       "<div>\n",
       "<style scoped>\n",
       "    .dataframe tbody tr th:only-of-type {\n",
       "        vertical-align: middle;\n",
       "    }\n",
       "\n",
       "    .dataframe tbody tr th {\n",
       "        vertical-align: top;\n",
       "    }\n",
       "\n",
       "    .dataframe thead th {\n",
       "        text-align: right;\n",
       "    }\n",
       "</style>\n",
       "<table border=\"1\" class=\"dataframe\">\n",
       "  <thead>\n",
       "    <tr style=\"text-align: right;\">\n",
       "      <th></th>\n",
       "      <th>count</th>\n",
       "      <th>mean</th>\n",
       "      <th>std</th>\n",
       "      <th>min</th>\n",
       "      <th>25%</th>\n",
       "      <th>50%</th>\n",
       "      <th>75%</th>\n",
       "      <th>max</th>\n",
       "    </tr>\n",
       "  </thead>\n",
       "  <tbody>\n",
       "    <tr>\n",
       "      <th>Frecuency Facturas</th>\n",
       "      <td>198596.0</td>\n",
       "      <td>0.176</td>\n",
       "      <td>0.173</td>\n",
       "      <td>0.003</td>\n",
       "      <td>0.072</td>\n",
       "      <td>0.140</td>\n",
       "      <td>0.223</td>\n",
       "      <td>2.000</td>\n",
       "    </tr>\n",
       "    <tr>\n",
       "      <th>Frecuency Promedio Cliente</th>\n",
       "      <td>5073.0</td>\n",
       "      <td>0.252</td>\n",
       "      <td>0.240</td>\n",
       "      <td>0.054</td>\n",
       "      <td>0.107</td>\n",
       "      <td>0.163</td>\n",
       "      <td>0.272</td>\n",
       "      <td>1.000</td>\n",
       "    </tr>\n",
       "    <tr>\n",
       "      <th>Frecuency Actual del Cliente</th>\n",
       "      <td>5073.0</td>\n",
       "      <td>0.046</td>\n",
       "      <td>0.063</td>\n",
       "      <td>0.003</td>\n",
       "      <td>0.008</td>\n",
       "      <td>0.018</td>\n",
       "      <td>0.054</td>\n",
       "      <td>0.462</td>\n",
       "    </tr>\n",
       "  </tbody>\n",
       "</table>\n",
       "</div>"
      ],
      "text/plain": [
       "                                 count   mean    std    min    25%    50%  \\\n",
       "Frecuency Facturas            198596.0  0.176  0.173  0.003  0.072  0.140   \n",
       "Frecuency Promedio Cliente      5073.0  0.252  0.240  0.054  0.107  0.163   \n",
       "Frecuency Actual del Cliente    5073.0  0.046  0.063  0.003  0.008  0.018   \n",
       "\n",
       "                                75%    max  \n",
       "Frecuency Facturas            0.223  2.000  \n",
       "Frecuency Promedio Cliente    0.272  1.000  \n",
       "Frecuency Actual del Cliente  0.054  0.462  "
      ]
     },
     "execution_count": 44,
     "metadata": {},
     "output_type": "execute_result"
    }
   ],
   "source": [
    "pd.concat([\n",
    "            df_Fact_P\n",
    "            ,df_gro_P\n",
    "           ,df_Actual\n",
    "            ])"
   ]
  },
  {
   "cell_type": "markdown",
   "id": "3283c4f1",
   "metadata": {
    "heading_collapsed": true,
    "hidden": true
   },
   "source": [
    "##### Latex "
   ]
  },
  {
   "cell_type": "code",
   "execution_count": 45,
   "id": "c4655f64",
   "metadata": {
    "hidden": true,
    "scrolled": true
   },
   "outputs": [
    {
     "name": "stdout",
     "output_type": "stream",
     "text": [
      "\\begin{tabular}{lrrrrrrrr}\n",
      "\\toprule\n",
      "{} &       count &  mean &   std &   min &   25\\% &   50\\% &   75\\% &   max \\\\\n",
      "\\midrule\n",
      "Frecuency Facturas           & 198,596.000 & 0.176 & 0.173 & 0.003 & 0.072 & 0.140 & 0.223 & 2.000 \\\\\n",
      "Frecuency Promedio Cliente   &   5,073.000 & 0.252 & 0.240 & 0.054 & 0.107 & 0.163 & 0.272 & 1.000 \\\\\n",
      "Frecuency Actual del Cliente &   5,073.000 & 0.046 & 0.063 & 0.003 & 0.008 & 0.018 & 0.054 & 0.462 \\\\\n",
      "\\bottomrule\n",
      "\\end{tabular}\n",
      "\n"
     ]
    }
   ],
   "source": [
    "print(pd.concat([\n",
    "            df_Fact_P\n",
    "            ,df_gro_P\n",
    "           ,df_Actual\n",
    "            ]).to_latex\\\n",
    "      (float_format=\"{:,.3f}\".format)\n",
    "#      ()\n",
    "     )"
   ]
  },
  {
   "cell_type": "code",
   "execution_count": 46,
   "id": "d9dc2876",
   "metadata": {
    "hidden": true,
    "scrolled": false
   },
   "outputs": [
    {
     "name": "stdout",
     "output_type": "stream",
     "text": [
      "\\begin{tabular}{lrrrrrrrr}\n",
      "\\toprule\n",
      "{} &      count &  mean &  std &  min &  25\\% &  50\\% &  75\\% &  max \\\\\n",
      "\\midrule\n",
      "Frecuency Facturas           & 198,596.00 &  0.18 & 0.17 & 0.00 & 0.07 & 0.14 & 0.22 & 2.00 \\\\\n",
      "Frecuency Promedio Cliente   &   5,073.00 &  0.25 & 0.24 & 0.05 & 0.11 & 0.16 & 0.27 & 1.00 \\\\\n",
      "Frecuency Actual del Cliente &   5,073.00 &  0.05 & 0.06 & 0.00 & 0.01 & 0.02 & 0.05 & 0.46 \\\\\n",
      "\\bottomrule\n",
      "\\end{tabular}\n",
      "\n"
     ]
    }
   ],
   "source": [
    "print(pd.concat([\n",
    "            df_Fact_P\n",
    "            ,df_gro_P\n",
    "           ,df_Actual\n",
    "            ]).to_latex\\\n",
    "      (float_format=\"{:,.2f}\".format)\n",
    "#      ()\n",
    "     )"
   ]
  },
  {
   "cell_type": "code",
   "execution_count": 47,
   "id": "84592af4",
   "metadata": {
    "hidden": true,
    "scrolled": true
   },
   "outputs": [
    {
     "data": {
      "text/html": [
       "<div>\n",
       "<style scoped>\n",
       "    .dataframe tbody tr th:only-of-type {\n",
       "        vertical-align: middle;\n",
       "    }\n",
       "\n",
       "    .dataframe tbody tr th {\n",
       "        vertical-align: top;\n",
       "    }\n",
       "\n",
       "    .dataframe thead th {\n",
       "        text-align: right;\n",
       "    }\n",
       "</style>\n",
       "<table border=\"1\" class=\"dataframe\">\n",
       "  <thead>\n",
       "    <tr style=\"text-align: right;\">\n",
       "      <th></th>\n",
       "      <th>Fecha Creacion</th>\n",
       "      <th>Día natural</th>\n",
       "    </tr>\n",
       "  </thead>\n",
       "  <tbody>\n",
       "    <tr>\n",
       "      <th>0</th>\n",
       "      <td>2018-01-23</td>\n",
       "      <td>2018-01-24</td>\n",
       "    </tr>\n",
       "    <tr>\n",
       "      <th>1</th>\n",
       "      <td>2018-01-09</td>\n",
       "      <td>2018-01-10</td>\n",
       "    </tr>\n",
       "    <tr>\n",
       "      <th>2</th>\n",
       "      <td>2018-01-15</td>\n",
       "      <td>2018-01-16</td>\n",
       "    </tr>\n",
       "    <tr>\n",
       "      <th>3</th>\n",
       "      <td>2018-01-04</td>\n",
       "      <td>2018-01-05</td>\n",
       "    </tr>\n",
       "    <tr>\n",
       "      <th>4</th>\n",
       "      <td>2019-10-24</td>\n",
       "      <td>2019-10-25</td>\n",
       "    </tr>\n",
       "    <tr>\n",
       "      <th>5</th>\n",
       "      <td>2018-02-14</td>\n",
       "      <td>2018-02-15</td>\n",
       "    </tr>\n",
       "    <tr>\n",
       "      <th>6</th>\n",
       "      <td>2018-01-02</td>\n",
       "      <td>2018-01-03</td>\n",
       "    </tr>\n",
       "    <tr>\n",
       "      <th>7</th>\n",
       "      <td>2021-05-19</td>\n",
       "      <td>2021-05-20</td>\n",
       "    </tr>\n",
       "    <tr>\n",
       "      <th>8</th>\n",
       "      <td>2019-06-25</td>\n",
       "      <td>2019-06-26</td>\n",
       "    </tr>\n",
       "    <tr>\n",
       "      <th>9</th>\n",
       "      <td>2018-09-21</td>\n",
       "      <td>2018-09-22</td>\n",
       "    </tr>\n",
       "    <tr>\n",
       "      <th>10</th>\n",
       "      <td>2018-01-18</td>\n",
       "      <td>2018-01-19</td>\n",
       "    </tr>\n",
       "    <tr>\n",
       "      <th>11</th>\n",
       "      <td>2018-01-03</td>\n",
       "      <td>2018-01-04</td>\n",
       "    </tr>\n",
       "    <tr>\n",
       "      <th>12</th>\n",
       "      <td>2018-01-02</td>\n",
       "      <td>2018-01-03</td>\n",
       "    </tr>\n",
       "    <tr>\n",
       "      <th>13</th>\n",
       "      <td>2018-01-04</td>\n",
       "      <td>2018-01-05</td>\n",
       "    </tr>\n",
       "    <tr>\n",
       "      <th>14</th>\n",
       "      <td>2018-01-05</td>\n",
       "      <td>2018-01-06</td>\n",
       "    </tr>\n",
       "    <tr>\n",
       "      <th>15</th>\n",
       "      <td>2018-08-16</td>\n",
       "      <td>2018-08-17</td>\n",
       "    </tr>\n",
       "    <tr>\n",
       "      <th>16</th>\n",
       "      <td>2018-01-02</td>\n",
       "      <td>2018-01-03</td>\n",
       "    </tr>\n",
       "    <tr>\n",
       "      <th>17</th>\n",
       "      <td>2018-12-13</td>\n",
       "      <td>2018-12-14</td>\n",
       "    </tr>\n",
       "    <tr>\n",
       "      <th>18</th>\n",
       "      <td>2018-01-02</td>\n",
       "      <td>2018-01-03</td>\n",
       "    </tr>\n",
       "    <tr>\n",
       "      <th>19</th>\n",
       "      <td>2018-01-05</td>\n",
       "      <td>2018-01-06</td>\n",
       "    </tr>\n",
       "    <tr>\n",
       "      <th>20</th>\n",
       "      <td>2018-11-26</td>\n",
       "      <td>2018-11-27</td>\n",
       "    </tr>\n",
       "    <tr>\n",
       "      <th>21</th>\n",
       "      <td>2018-01-04</td>\n",
       "      <td>2018-01-05</td>\n",
       "    </tr>\n",
       "    <tr>\n",
       "      <th>22</th>\n",
       "      <td>2018-01-08</td>\n",
       "      <td>2018-01-09</td>\n",
       "    </tr>\n",
       "    <tr>\n",
       "      <th>23</th>\n",
       "      <td>2018-01-09</td>\n",
       "      <td>2018-01-10</td>\n",
       "    </tr>\n",
       "    <tr>\n",
       "      <th>24</th>\n",
       "      <td>2018-01-02</td>\n",
       "      <td>2018-01-03</td>\n",
       "    </tr>\n",
       "    <tr>\n",
       "      <th>25</th>\n",
       "      <td>2020-04-02</td>\n",
       "      <td>2020-04-03</td>\n",
       "    </tr>\n",
       "    <tr>\n",
       "      <th>26</th>\n",
       "      <td>2018-01-04</td>\n",
       "      <td>2018-01-05</td>\n",
       "    </tr>\n",
       "    <tr>\n",
       "      <th>27</th>\n",
       "      <td>2021-06-16</td>\n",
       "      <td>2021-06-17</td>\n",
       "    </tr>\n",
       "    <tr>\n",
       "      <th>28</th>\n",
       "      <td>2018-01-02</td>\n",
       "      <td>2018-01-03</td>\n",
       "    </tr>\n",
       "    <tr>\n",
       "      <th>29</th>\n",
       "      <td>2018-01-05</td>\n",
       "      <td>2018-01-06</td>\n",
       "    </tr>\n",
       "    <tr>\n",
       "      <th>30</th>\n",
       "      <td>2021-08-24</td>\n",
       "      <td>2021-08-25</td>\n",
       "    </tr>\n",
       "    <tr>\n",
       "      <th>31</th>\n",
       "      <td>2018-01-03</td>\n",
       "      <td>2018-01-04</td>\n",
       "    </tr>\n",
       "    <tr>\n",
       "      <th>32</th>\n",
       "      <td>2018-01-02</td>\n",
       "      <td>2018-01-03</td>\n",
       "    </tr>\n",
       "  </tbody>\n",
       "</table>\n",
       "</div>"
      ],
      "text/plain": [
       "   Fecha Creacion Día natural\n",
       "0      2018-01-23  2018-01-24\n",
       "1      2018-01-09  2018-01-10\n",
       "2      2018-01-15  2018-01-16\n",
       "3      2018-01-04  2018-01-05\n",
       "4      2019-10-24  2019-10-25\n",
       "5      2018-02-14  2018-02-15\n",
       "6      2018-01-02  2018-01-03\n",
       "7      2021-05-19  2021-05-20\n",
       "8      2019-06-25  2019-06-26\n",
       "9      2018-09-21  2018-09-22\n",
       "10     2018-01-18  2018-01-19\n",
       "11     2018-01-03  2018-01-04\n",
       "12     2018-01-02  2018-01-03\n",
       "13     2018-01-04  2018-01-05\n",
       "14     2018-01-05  2018-01-06\n",
       "15     2018-08-16  2018-08-17\n",
       "16     2018-01-02  2018-01-03\n",
       "17     2018-12-13  2018-12-14\n",
       "18     2018-01-02  2018-01-03\n",
       "19     2018-01-05  2018-01-06\n",
       "20     2018-11-26  2018-11-27\n",
       "21     2018-01-04  2018-01-05\n",
       "22     2018-01-08  2018-01-09\n",
       "23     2018-01-09  2018-01-10\n",
       "24     2018-01-02  2018-01-03\n",
       "25     2020-04-02  2020-04-03\n",
       "26     2018-01-04  2018-01-05\n",
       "27     2021-06-16  2021-06-17\n",
       "28     2018-01-02  2018-01-03\n",
       "29     2018-01-05  2018-01-06\n",
       "30     2021-08-24  2021-08-25\n",
       "31     2018-01-03  2018-01-04\n",
       "32     2018-01-02  2018-01-03"
      ]
     },
     "execution_count": 47,
     "metadata": {},
     "output_type": "execute_result"
    }
   ],
   "source": [
    "pd.merge(data_i_F[(data_i_F.Frecuency_Row==2)],Clientes_i_RFM)[['Fecha Creacion','Día natural']]"
   ]
  },
  {
   "cell_type": "code",
   "execution_count": 48,
   "id": "b6af82b2",
   "metadata": {
    "hidden": true,
    "scrolled": false
   },
   "outputs": [
    {
     "data": {
      "text/html": [
       "<div>\n",
       "<style scoped>\n",
       "    .dataframe tbody tr th:only-of-type {\n",
       "        vertical-align: middle;\n",
       "    }\n",
       "\n",
       "    .dataframe tbody tr th {\n",
       "        vertical-align: top;\n",
       "    }\n",
       "\n",
       "    .dataframe thead th {\n",
       "        text-align: right;\n",
       "    }\n",
       "</style>\n",
       "<table border=\"1\" class=\"dataframe\">\n",
       "  <thead>\n",
       "    <tr style=\"text-align: right;\">\n",
       "      <th></th>\n",
       "      <th>Material (Nombre)</th>\n",
       "      <th>Kilos Venta KG</th>\n",
       "      <th>Precio</th>\n",
       "      <th>Día natural</th>\n",
       "      <th>Día Semana</th>\n",
       "      <th>Semana</th>\n",
       "      <th>Mes</th>\n",
       "      <th>Año</th>\n",
       "      <th>Población</th>\n",
       "      <th>Centro</th>\n",
       "      <th>Cliente</th>\n",
       "      <th>Cluster</th>\n",
       "      <th>Segmento.1</th>\n",
       "      <th>Categoría Cliente</th>\n",
       "      <th>Año Creación</th>\n",
       "      <th>Material Favorito</th>\n",
       "      <th>Frecuencia Historica</th>\n",
       "      <th>Mes_num</th>\n",
       "      <th>Frecuency_Row</th>\n",
       "    </tr>\n",
       "  </thead>\n",
       "  <tbody>\n",
       "    <tr>\n",
       "      <th>count</th>\n",
       "      <td>33</td>\n",
       "      <td>33.000000</td>\n",
       "      <td>33.000000</td>\n",
       "      <td>33</td>\n",
       "      <td>33</td>\n",
       "      <td>33</td>\n",
       "      <td>33</td>\n",
       "      <td>33</td>\n",
       "      <td>33</td>\n",
       "      <td>33</td>\n",
       "      <td>33</td>\n",
       "      <td>33</td>\n",
       "      <td>33</td>\n",
       "      <td>33</td>\n",
       "      <td>33</td>\n",
       "      <td>33</td>\n",
       "      <td>33</td>\n",
       "      <td>33</td>\n",
       "      <td>33.0</td>\n",
       "    </tr>\n",
       "    <tr>\n",
       "      <th>unique</th>\n",
       "      <td>1</td>\n",
       "      <td>NaN</td>\n",
       "      <td>NaN</td>\n",
       "      <td>20</td>\n",
       "      <td>5</td>\n",
       "      <td>15</td>\n",
       "      <td>10</td>\n",
       "      <td>4</td>\n",
       "      <td>20</td>\n",
       "      <td>3</td>\n",
       "      <td>33</td>\n",
       "      <td>3</td>\n",
       "      <td>3</td>\n",
       "      <td>4</td>\n",
       "      <td>11</td>\n",
       "      <td>6</td>\n",
       "      <td>33</td>\n",
       "      <td>10</td>\n",
       "      <td>NaN</td>\n",
       "    </tr>\n",
       "    <tr>\n",
       "      <th>top</th>\n",
       "      <td>1010078(Trutro Entero Selección)</td>\n",
       "      <td>NaN</td>\n",
       "      <td>NaN</td>\n",
       "      <td>2018-01-03</td>\n",
       "      <td>Miércoles</td>\n",
       "      <td>1</td>\n",
       "      <td>Enero</td>\n",
       "      <td>2018</td>\n",
       "      <td>Puente Alto</td>\n",
       "      <td>Sucursal Miraflores</td>\n",
       "      <td>12244423</td>\n",
       "      <td>Clásico</td>\n",
       "      <td>Cobertura Mediano SD</td>\n",
       "      <td>Especialista en Crud</td>\n",
       "      <td>2007</td>\n",
       "      <td>1020253</td>\n",
       "      <td>1088</td>\n",
       "      <td>1</td>\n",
       "      <td>NaN</td>\n",
       "    </tr>\n",
       "    <tr>\n",
       "      <th>freq</th>\n",
       "      <td>33</td>\n",
       "      <td>NaN</td>\n",
       "      <td>NaN</td>\n",
       "      <td>7</td>\n",
       "      <td>12</td>\n",
       "      <td>16</td>\n",
       "      <td>22</td>\n",
       "      <td>27</td>\n",
       "      <td>4</td>\n",
       "      <td>15</td>\n",
       "      <td>1</td>\n",
       "      <td>23</td>\n",
       "      <td>24</td>\n",
       "      <td>23</td>\n",
       "      <td>13</td>\n",
       "      <td>16</td>\n",
       "      <td>1</td>\n",
       "      <td>22</td>\n",
       "      <td>NaN</td>\n",
       "    </tr>\n",
       "    <tr>\n",
       "      <th>mean</th>\n",
       "      <td>NaN</td>\n",
       "      <td>174.727273</td>\n",
       "      <td>1222.909091</td>\n",
       "      <td>NaN</td>\n",
       "      <td>NaN</td>\n",
       "      <td>NaN</td>\n",
       "      <td>NaN</td>\n",
       "      <td>NaN</td>\n",
       "      <td>NaN</td>\n",
       "      <td>NaN</td>\n",
       "      <td>NaN</td>\n",
       "      <td>NaN</td>\n",
       "      <td>NaN</td>\n",
       "      <td>NaN</td>\n",
       "      <td>NaN</td>\n",
       "      <td>NaN</td>\n",
       "      <td>NaN</td>\n",
       "      <td>NaN</td>\n",
       "      <td>2.0</td>\n",
       "    </tr>\n",
       "    <tr>\n",
       "      <th>std</th>\n",
       "      <td>NaN</td>\n",
       "      <td>275.832068</td>\n",
       "      <td>167.624648</td>\n",
       "      <td>NaN</td>\n",
       "      <td>NaN</td>\n",
       "      <td>NaN</td>\n",
       "      <td>NaN</td>\n",
       "      <td>NaN</td>\n",
       "      <td>NaN</td>\n",
       "      <td>NaN</td>\n",
       "      <td>NaN</td>\n",
       "      <td>NaN</td>\n",
       "      <td>NaN</td>\n",
       "      <td>NaN</td>\n",
       "      <td>NaN</td>\n",
       "      <td>NaN</td>\n",
       "      <td>NaN</td>\n",
       "      <td>NaN</td>\n",
       "      <td>0.0</td>\n",
       "    </tr>\n",
       "    <tr>\n",
       "      <th>min</th>\n",
       "      <td>NaN</td>\n",
       "      <td>22.000000</td>\n",
       "      <td>750.000000</td>\n",
       "      <td>NaN</td>\n",
       "      <td>NaN</td>\n",
       "      <td>NaN</td>\n",
       "      <td>NaN</td>\n",
       "      <td>NaN</td>\n",
       "      <td>NaN</td>\n",
       "      <td>NaN</td>\n",
       "      <td>NaN</td>\n",
       "      <td>NaN</td>\n",
       "      <td>NaN</td>\n",
       "      <td>NaN</td>\n",
       "      <td>NaN</td>\n",
       "      <td>NaN</td>\n",
       "      <td>NaN</td>\n",
       "      <td>NaN</td>\n",
       "      <td>2.0</td>\n",
       "    </tr>\n",
       "    <tr>\n",
       "      <th>25%</th>\n",
       "      <td>NaN</td>\n",
       "      <td>25.000000</td>\n",
       "      <td>1100.000000</td>\n",
       "      <td>NaN</td>\n",
       "      <td>NaN</td>\n",
       "      <td>NaN</td>\n",
       "      <td>NaN</td>\n",
       "      <td>NaN</td>\n",
       "      <td>NaN</td>\n",
       "      <td>NaN</td>\n",
       "      <td>NaN</td>\n",
       "      <td>NaN</td>\n",
       "      <td>NaN</td>\n",
       "      <td>NaN</td>\n",
       "      <td>NaN</td>\n",
       "      <td>NaN</td>\n",
       "      <td>NaN</td>\n",
       "      <td>NaN</td>\n",
       "      <td>2.0</td>\n",
       "    </tr>\n",
       "    <tr>\n",
       "      <th>50%</th>\n",
       "      <td>NaN</td>\n",
       "      <td>66.000000</td>\n",
       "      <td>1250.000000</td>\n",
       "      <td>NaN</td>\n",
       "      <td>NaN</td>\n",
       "      <td>NaN</td>\n",
       "      <td>NaN</td>\n",
       "      <td>NaN</td>\n",
       "      <td>NaN</td>\n",
       "      <td>NaN</td>\n",
       "      <td>NaN</td>\n",
       "      <td>NaN</td>\n",
       "      <td>NaN</td>\n",
       "      <td>NaN</td>\n",
       "      <td>NaN</td>\n",
       "      <td>NaN</td>\n",
       "      <td>NaN</td>\n",
       "      <td>NaN</td>\n",
       "      <td>2.0</td>\n",
       "    </tr>\n",
       "    <tr>\n",
       "      <th>75%</th>\n",
       "      <td>NaN</td>\n",
       "      <td>132.000000</td>\n",
       "      <td>1350.000000</td>\n",
       "      <td>NaN</td>\n",
       "      <td>NaN</td>\n",
       "      <td>NaN</td>\n",
       "      <td>NaN</td>\n",
       "      <td>NaN</td>\n",
       "      <td>NaN</td>\n",
       "      <td>NaN</td>\n",
       "      <td>NaN</td>\n",
       "      <td>NaN</td>\n",
       "      <td>NaN</td>\n",
       "      <td>NaN</td>\n",
       "      <td>NaN</td>\n",
       "      <td>NaN</td>\n",
       "      <td>NaN</td>\n",
       "      <td>NaN</td>\n",
       "      <td>2.0</td>\n",
       "    </tr>\n",
       "    <tr>\n",
       "      <th>max</th>\n",
       "      <td>NaN</td>\n",
       "      <td>1102.000000</td>\n",
       "      <td>1400.000000</td>\n",
       "      <td>NaN</td>\n",
       "      <td>NaN</td>\n",
       "      <td>NaN</td>\n",
       "      <td>NaN</td>\n",
       "      <td>NaN</td>\n",
       "      <td>NaN</td>\n",
       "      <td>NaN</td>\n",
       "      <td>NaN</td>\n",
       "      <td>NaN</td>\n",
       "      <td>NaN</td>\n",
       "      <td>NaN</td>\n",
       "      <td>NaN</td>\n",
       "      <td>NaN</td>\n",
       "      <td>NaN</td>\n",
       "      <td>NaN</td>\n",
       "      <td>2.0</td>\n",
       "    </tr>\n",
       "  </tbody>\n",
       "</table>\n",
       "</div>"
      ],
      "text/plain": [
       "                       Material (Nombre)  Kilos Venta KG       Precio  \\\n",
       "count                                 33       33.000000    33.000000   \n",
       "unique                                 1             NaN          NaN   \n",
       "top     1010078(Trutro Entero Selección)             NaN          NaN   \n",
       "freq                                  33             NaN          NaN   \n",
       "mean                                 NaN      174.727273  1222.909091   \n",
       "std                                  NaN      275.832068   167.624648   \n",
       "min                                  NaN       22.000000   750.000000   \n",
       "25%                                  NaN       25.000000  1100.000000   \n",
       "50%                                  NaN       66.000000  1250.000000   \n",
       "75%                                  NaN      132.000000  1350.000000   \n",
       "max                                  NaN     1102.000000  1400.000000   \n",
       "\n",
       "       Día natural Día Semana Semana    Mes   Año    Población  \\\n",
       "count           33         33     33     33    33           33   \n",
       "unique          20          5     15     10     4           20   \n",
       "top     2018-01-03  Miércoles      1  Enero  2018  Puente Alto   \n",
       "freq             7         12     16     22    27            4   \n",
       "mean           NaN        NaN    NaN    NaN   NaN          NaN   \n",
       "std            NaN        NaN    NaN    NaN   NaN          NaN   \n",
       "min            NaN        NaN    NaN    NaN   NaN          NaN   \n",
       "25%            NaN        NaN    NaN    NaN   NaN          NaN   \n",
       "50%            NaN        NaN    NaN    NaN   NaN          NaN   \n",
       "75%            NaN        NaN    NaN    NaN   NaN          NaN   \n",
       "max            NaN        NaN    NaN    NaN   NaN          NaN   \n",
       "\n",
       "                     Centro   Cliente  Cluster            Segmento.1  \\\n",
       "count                    33        33       33                    33   \n",
       "unique                    3        33        3                     3   \n",
       "top     Sucursal Miraflores  12244423  Clásico  Cobertura Mediano SD   \n",
       "freq                     15         1       23                    24   \n",
       "mean                    NaN       NaN      NaN                   NaN   \n",
       "std                     NaN       NaN      NaN                   NaN   \n",
       "min                     NaN       NaN      NaN                   NaN   \n",
       "25%                     NaN       NaN      NaN                   NaN   \n",
       "50%                     NaN       NaN      NaN                   NaN   \n",
       "75%                     NaN       NaN      NaN                   NaN   \n",
       "max                     NaN       NaN      NaN                   NaN   \n",
       "\n",
       "           Categoría Cliente Año Creación Material Favorito  \\\n",
       "count                     33           33                33   \n",
       "unique                     4           11                 6   \n",
       "top     Especialista en Crud         2007           1020253   \n",
       "freq                      23           13                16   \n",
       "mean                     NaN          NaN               NaN   \n",
       "std                      NaN          NaN               NaN   \n",
       "min                      NaN          NaN               NaN   \n",
       "25%                      NaN          NaN               NaN   \n",
       "50%                      NaN          NaN               NaN   \n",
       "75%                      NaN          NaN               NaN   \n",
       "max                      NaN          NaN               NaN   \n",
       "\n",
       "       Frecuencia Historica Mes_num  Frecuency_Row  \n",
       "count                    33      33           33.0  \n",
       "unique                   33      10            NaN  \n",
       "top                    1088       1            NaN  \n",
       "freq                      1      22            NaN  \n",
       "mean                    NaN     NaN            2.0  \n",
       "std                     NaN     NaN            0.0  \n",
       "min                     NaN     NaN            2.0  \n",
       "25%                     NaN     NaN            2.0  \n",
       "50%                     NaN     NaN            2.0  \n",
       "75%                     NaN     NaN            2.0  \n",
       "max                     NaN     NaN            2.0  "
      ]
     },
     "execution_count": 48,
     "metadata": {},
     "output_type": "execute_result"
    }
   ],
   "source": [
    "data_i_F[(data_i_F.Frecuency_Row==2)].describe(include='all')"
   ]
  },
  {
   "cell_type": "markdown",
   "id": "c80680d6",
   "metadata": {
    "heading_collapsed": true,
    "hidden": true
   },
   "source": [
    "### Interpretado como F -1 (Intervalo de compra en días) "
   ]
  },
  {
   "cell_type": "markdown",
   "id": "115cb010",
   "metadata": {
    "hidden": true
   },
   "source": [
    "##### Filas de cada distribcuión "
   ]
  },
  {
   "cell_type": "markdown",
   "id": "bc977880",
   "metadata": {
    "hidden": true
   },
   "source": [
    "###### Actual por Cliente"
   ]
  },
  {
   "cell_type": "code",
   "execution_count": 38,
   "id": "d6f43233",
   "metadata": {
    "hidden": true
   },
   "outputs": [
    {
     "data": {
      "text/plain": [
       "dict_keys(['Base', 'Fecha', 'Ubicacion', 'Cliente Categoria', 'Cliente Atributos', 'RFM Row', 'RFM Customers'])"
      ]
     },
     "execution_count": 38,
     "metadata": {},
     "output_type": "execute_result"
    }
   ],
   "source": [
    "Dic_col.keys()"
   ]
  },
  {
   "cell_type": "code",
   "execution_count": 81,
   "id": "e4098314",
   "metadata": {
    "hidden": true,
    "scrolled": true
   },
   "outputs": [
    {
     "data": {
      "text/html": [
       "<div>\n",
       "<style scoped>\n",
       "    .dataframe tbody tr th:only-of-type {\n",
       "        vertical-align: middle;\n",
       "    }\n",
       "\n",
       "    .dataframe tbody tr th {\n",
       "        vertical-align: top;\n",
       "    }\n",
       "\n",
       "    .dataframe thead th {\n",
       "        text-align: right;\n",
       "    }\n",
       "</style>\n",
       "<table border=\"1\" class=\"dataframe\">\n",
       "  <thead>\n",
       "    <tr style=\"text-align: right;\">\n",
       "      <th></th>\n",
       "      <th>count</th>\n",
       "      <th>mean</th>\n",
       "      <th>std</th>\n",
       "      <th>min</th>\n",
       "      <th>25%</th>\n",
       "      <th>50%</th>\n",
       "      <th>75%</th>\n",
       "      <th>max</th>\n",
       "    </tr>\n",
       "  </thead>\n",
       "  <tbody>\n",
       "    <tr>\n",
       "      <th>$F^{-1}$ Actual del Cliente (Días)</th>\n",
       "      <td>5073.0</td>\n",
       "      <td>83.667</td>\n",
       "      <td>83.181</td>\n",
       "      <td>2.166</td>\n",
       "      <td>18.504</td>\n",
       "      <td>56.646</td>\n",
       "      <td>118.467</td>\n",
       "      <td>324.058</td>\n",
       "    </tr>\n",
       "  </tbody>\n",
       "</table>\n",
       "</div>"
      ],
      "text/plain": [
       "                                     count    mean     std    min     25%  \\\n",
       "$F^{-1}$ Actual del Cliente (Días)  5073.0  83.667  83.181  2.166  18.504   \n",
       "\n",
       "                                       50%      75%      max  \n",
       "$F^{-1}$ Actual del Cliente (Días)  56.646  118.467  324.058  "
      ]
     },
     "execution_count": 81,
     "metadata": {},
     "output_type": "execute_result"
    }
   ],
   "source": [
    "Clientes_i_F1=Clientes_i_RFM.copy()\n",
    "Clientes_i_F1['$F^{-1}$ Actual del Cliente']=\\\n",
    "Clientes_i_F1['Frecuency Actual del Cliente'].apply(lambda x: x**(-1))\n",
    "df_Actual=pd.DataFrame(\n",
    "(Clientes_i_F1['$F^{-1}$ Actual del Cliente']\\\n",
    " .describe())).T.round(3)\n",
    "df_Actual"
   ]
  },
  {
   "cell_type": "code",
   "execution_count": 79,
   "id": "872936f6",
   "metadata": {
    "hidden": true
   },
   "outputs": [
    {
     "name": "stdout",
     "output_type": "stream",
     "text": [
      "\\begin{tabular}{lrrrrrrrr}\n",
      "\\toprule\n",
      "{} &   count &    mean &     std &    min &     25\\% &     50\\% &      75\\% &      max \\\\\n",
      "\\midrule\n",
      "\\$F\\textasciicircum \\{-1\\}\\$ Actual del Cliente (Días) &  5073.0 &  83.667 &  83.181 &  2.166 &  18.504 &  56.646 &  118.467 &  324.058 \\\\\n",
      "\\bottomrule\n",
      "\\end{tabular}\n",
      "\n"
     ]
    }
   ],
   "source": [
    "print(df_Actual.to_latex())"
   ]
  },
  {
   "cell_type": "markdown",
   "id": "4839f623",
   "metadata": {
    "hidden": true
   },
   "source": [
    "######  Promedio de Cada Cliente sobre sus Facturas"
   ]
  },
  {
   "cell_type": "code",
   "execution_count": 83,
   "id": "88a1a7af",
   "metadata": {
    "hidden": true,
    "scrolled": false
   },
   "outputs": [
    {
     "data": {
      "text/html": [
       "<div>\n",
       "<style scoped>\n",
       "    .dataframe tbody tr th:only-of-type {\n",
       "        vertical-align: middle;\n",
       "    }\n",
       "\n",
       "    .dataframe tbody tr th {\n",
       "        vertical-align: top;\n",
       "    }\n",
       "\n",
       "    .dataframe thead th {\n",
       "        text-align: right;\n",
       "    }\n",
       "</style>\n",
       "<table border=\"1\" class=\"dataframe\">\n",
       "  <thead>\n",
       "    <tr style=\"text-align: right;\">\n",
       "      <th></th>\n",
       "      <th>count</th>\n",
       "      <th>mean</th>\n",
       "      <th>std</th>\n",
       "      <th>min</th>\n",
       "      <th>25%</th>\n",
       "      <th>50%</th>\n",
       "      <th>75%</th>\n",
       "      <th>max</th>\n",
       "    </tr>\n",
       "  </thead>\n",
       "  <tbody>\n",
       "    <tr>\n",
       "      <th>$F^{-1}$ Promedio Cliente</th>\n",
       "      <td>5073.0</td>\n",
       "      <td>6.71</td>\n",
       "      <td>3.978</td>\n",
       "      <td>1.0</td>\n",
       "      <td>3.681</td>\n",
       "      <td>6.117</td>\n",
       "      <td>9.319</td>\n",
       "      <td>18.69</td>\n",
       "    </tr>\n",
       "  </tbody>\n",
       "</table>\n",
       "</div>"
      ],
      "text/plain": [
       "                            count  mean    std  min    25%    50%    75%  \\\n",
       "$F^{-1}$ Promedio Cliente  5073.0  6.71  3.978  1.0  3.681  6.117  9.319   \n",
       "\n",
       "                             max  \n",
       "$F^{-1}$ Promedio Cliente  18.69  "
      ]
     },
     "execution_count": 83,
     "metadata": {},
     "output_type": "execute_result"
    }
   ],
   "source": [
    "df_F1_row_Promedio=\\\n",
    "df_F_row_Promedio.copy()\n",
    "df_F1_row_Promedio['$F^{-1}$ Promedio Cliente']=\\\n",
    "df_F1_row_Promedio['Frecuency Promedio Cliente'].apply(lambda x: x**(-1))\n",
    "df_gro_P=pd.DataFrame(\n",
    "(df_F1_row_Promedio['$F^{-1}$ Promedio Cliente'].describe().round(3))).T\n",
    "df_gro_P"
   ]
  },
  {
   "cell_type": "markdown",
   "id": "2cc3b6e9",
   "metadata": {
    "hidden": true
   },
   "source": [
    "###### Facturas"
   ]
  },
  {
   "cell_type": "code",
   "execution_count": 84,
   "id": "26b2ea9e",
   "metadata": {
    "hidden": true,
    "scrolled": true
   },
   "outputs": [
    {
     "data": {
      "text/html": [
       "<div>\n",
       "<style scoped>\n",
       "    .dataframe tbody tr th:only-of-type {\n",
       "        vertical-align: middle;\n",
       "    }\n",
       "\n",
       "    .dataframe tbody tr th {\n",
       "        vertical-align: top;\n",
       "    }\n",
       "\n",
       "    .dataframe thead th {\n",
       "        text-align: right;\n",
       "    }\n",
       "</style>\n",
       "<table border=\"1\" class=\"dataframe\">\n",
       "  <thead>\n",
       "    <tr style=\"text-align: right;\">\n",
       "      <th></th>\n",
       "      <th>count</th>\n",
       "      <th>mean</th>\n",
       "      <th>std</th>\n",
       "      <th>min</th>\n",
       "      <th>25%</th>\n",
       "      <th>50%</th>\n",
       "      <th>75%</th>\n",
       "      <th>max</th>\n",
       "    </tr>\n",
       "  </thead>\n",
       "  <tbody>\n",
       "    <tr>\n",
       "      <th>$F^{-1}$ Facturas</th>\n",
       "      <td>198596.0</td>\n",
       "      <td>13.882</td>\n",
       "      <td>20.097</td>\n",
       "      <td>0.5</td>\n",
       "      <td>4.489</td>\n",
       "      <td>7.159</td>\n",
       "      <td>13.949</td>\n",
       "      <td>341.475</td>\n",
       "    </tr>\n",
       "  </tbody>\n",
       "</table>\n",
       "</div>"
      ],
      "text/plain": [
       "                      count    mean     std  min    25%    50%     75%  \\\n",
       "$F^{-1}$ Facturas  198596.0  13.882  20.097  0.5  4.489  7.159  13.949   \n",
       "\n",
       "                       max  \n",
       "$F^{-1}$ Facturas  341.475  "
      ]
     },
     "execution_count": 84,
     "metadata": {},
     "output_type": "execute_result"
    }
   ],
   "source": [
    "df=data_i_F.copy()\n",
    "# df=df.rename(columns ={'Frecuency_Row':'Frecuency Facturas'})\n",
    "\n",
    "df['$F^{-1}$ Facturas']=\\\n",
    "df.Frecuency_Row.apply(lambda x: x**(-1))\n",
    "\n",
    "df_Fact_P=pd.DataFrame(\n",
    "(df['$F^{-1}$ Facturas'].describe())).T.round(3).copy()\n",
    "df_Fact_P"
   ]
  },
  {
   "cell_type": "code",
   "execution_count": 91,
   "id": "ec1f4021",
   "metadata": {
    "hidden": true
   },
   "outputs": [
    {
     "name": "stdout",
     "output_type": "stream",
     "text": [
      "\\begin{tabular}{lrrrrrrrr}\n",
      "\\toprule\n",
      "{} &     count &  mean &  std &  min &  25\\% &  50\\% &  75\\% &   max \\\\\n",
      "\\midrule\n",
      "\\$F\\textasciicircum \\{-1\\}\\$ Facturas & 198,596.0 &  13.9 & 20.1 &  0.5 &  4.5 &  7.2 & 13.9 & 341.5 \\\\\n",
      "\\bottomrule\n",
      "\\end{tabular}\n",
      "\n"
     ]
    }
   ],
   "source": [
    "print(pd.DataFrame(\n",
    "(df.describe())['$F^{-1}$ Facturas']).T.round(2).to_latex(float_format=\"{:,.1f}\".format))"
   ]
  },
  {
   "cell_type": "markdown",
   "id": "a7828846",
   "metadata": {
    "hidden": true
   },
   "source": [
    "##### Juntar ambas tablas"
   ]
  },
  {
   "cell_type": "code",
   "execution_count": 92,
   "id": "58502386",
   "metadata": {
    "hidden": true,
    "scrolled": false
   },
   "outputs": [
    {
     "data": {
      "text/html": [
       "<div>\n",
       "<style scoped>\n",
       "    .dataframe tbody tr th:only-of-type {\n",
       "        vertical-align: middle;\n",
       "    }\n",
       "\n",
       "    .dataframe tbody tr th {\n",
       "        vertical-align: top;\n",
       "    }\n",
       "\n",
       "    .dataframe thead th {\n",
       "        text-align: right;\n",
       "    }\n",
       "</style>\n",
       "<table border=\"1\" class=\"dataframe\">\n",
       "  <thead>\n",
       "    <tr style=\"text-align: right;\">\n",
       "      <th></th>\n",
       "      <th>count</th>\n",
       "      <th>mean</th>\n",
       "      <th>std</th>\n",
       "      <th>min</th>\n",
       "      <th>25%</th>\n",
       "      <th>50%</th>\n",
       "      <th>75%</th>\n",
       "      <th>max</th>\n",
       "    </tr>\n",
       "  </thead>\n",
       "  <tbody>\n",
       "    <tr>\n",
       "      <th>$F^{-1}$ Facturas</th>\n",
       "      <td>198596.0</td>\n",
       "      <td>13.882</td>\n",
       "      <td>20.097</td>\n",
       "      <td>0.500</td>\n",
       "      <td>4.489</td>\n",
       "      <td>7.159</td>\n",
       "      <td>13.949</td>\n",
       "      <td>341.475</td>\n",
       "    </tr>\n",
       "    <tr>\n",
       "      <th>$F^{-1}$ Promedio Cliente</th>\n",
       "      <td>5073.0</td>\n",
       "      <td>6.710</td>\n",
       "      <td>3.978</td>\n",
       "      <td>1.000</td>\n",
       "      <td>3.681</td>\n",
       "      <td>6.117</td>\n",
       "      <td>9.319</td>\n",
       "      <td>18.690</td>\n",
       "    </tr>\n",
       "    <tr>\n",
       "      <th>$F^{-1}$ Actual del Cliente (Días)</th>\n",
       "      <td>5073.0</td>\n",
       "      <td>83.667</td>\n",
       "      <td>83.181</td>\n",
       "      <td>2.166</td>\n",
       "      <td>18.504</td>\n",
       "      <td>56.646</td>\n",
       "      <td>118.467</td>\n",
       "      <td>324.058</td>\n",
       "    </tr>\n",
       "  </tbody>\n",
       "</table>\n",
       "</div>"
      ],
      "text/plain": [
       "                                       count    mean     std    min     25%  \\\n",
       "$F^{-1}$ Facturas                   198596.0  13.882  20.097  0.500   4.489   \n",
       "$F^{-1}$ Promedio Cliente             5073.0   6.710   3.978  1.000   3.681   \n",
       "$F^{-1}$ Actual del Cliente (Días)    5073.0  83.667  83.181  2.166  18.504   \n",
       "\n",
       "                                       50%      75%      max  \n",
       "$F^{-1}$ Facturas                    7.159   13.949  341.475  \n",
       "$F^{-1}$ Promedio Cliente            6.117    9.319   18.690  \n",
       "$F^{-1}$ Actual del Cliente (Días)  56.646  118.467  324.058  "
      ]
     },
     "execution_count": 92,
     "metadata": {},
     "output_type": "execute_result"
    }
   ],
   "source": [
    "pd.concat([\n",
    "            df_Fact_P\n",
    "            ,df_gro_P\n",
    "           ,df_Actual\n",
    "            ])"
   ]
  },
  {
   "cell_type": "markdown",
   "id": "4ffde879",
   "metadata": {
    "hidden": true
   },
   "source": [
    "##### Latex "
   ]
  },
  {
   "cell_type": "code",
   "execution_count": 95,
   "id": "688977c6",
   "metadata": {
    "hidden": true,
    "scrolled": true
   },
   "outputs": [
    {
     "name": "stdout",
     "output_type": "stream",
     "text": [
      "\\begin{tabular}{lrrrrrrrr}\n",
      "\\toprule\n",
      "{} &       count &   mean &    std &   min &    25\\% &    50\\% &     75\\% &     max \\\\\n",
      "\\midrule\n",
      "\\$F\\textasciicircum \\{-1\\}\\$ Facturas                  & 198,596.000 & 13.882 & 20.097 & 0.500 &  4.489 &  7.159 &  13.949 & 341.475 \\\\\n",
      "\\$F\\textasciicircum \\{-1\\}\\$ Promedio Cliente          &   5,073.000 &  6.710 &  3.978 & 1.000 &  3.681 &  6.117 &   9.319 &  18.690 \\\\\n",
      "\\$F\\textasciicircum \\{-1\\}\\$ Actual del Cliente (Días) &   5,073.000 & 83.667 & 83.181 & 2.166 & 18.504 & 56.646 & 118.467 & 324.058 \\\\\n",
      "\\bottomrule\n",
      "\\end{tabular}\n",
      "\n"
     ]
    }
   ],
   "source": [
    "print(pd.concat([\n",
    "            df_Fact_P\n",
    "            ,df_gro_P\n",
    "           ,df_Actual\n",
    "            ]).to_latex\\\n",
    "      (float_format=\"{:,.3f}\".format)\n",
    "#      ()\n",
    "     )"
   ]
  },
  {
   "cell_type": "code",
   "execution_count": 96,
   "id": "6a00f54a",
   "metadata": {
    "hidden": true,
    "scrolled": false
   },
   "outputs": [
    {
     "name": "stdout",
     "output_type": "stream",
     "text": [
      "\\begin{tabular}{lrrrrrrrr}\n",
      "\\toprule\n",
      "{} &      count &  mean &   std &  min &   25\\% &   50\\% &    75\\% &    max \\\\\n",
      "\\midrule\n",
      "\\$F\\textasciicircum \\{-1\\}\\$ Facturas                  & 198,596.00 & 13.88 & 20.10 & 0.50 &  4.49 &  7.16 &  13.95 & 341.48 \\\\\n",
      "\\$F\\textasciicircum \\{-1\\}\\$ Promedio Cliente          &   5,073.00 &  6.71 &  3.98 & 1.00 &  3.68 &  6.12 &   9.32 &  18.69 \\\\\n",
      "\\$F\\textasciicircum \\{-1\\}\\$ Actual del Cliente (Días) &   5,073.00 & 83.67 & 83.18 & 2.17 & 18.50 & 56.65 & 118.47 & 324.06 \\\\\n",
      "\\bottomrule\n",
      "\\end{tabular}\n",
      "\n"
     ]
    }
   ],
   "source": [
    "print(pd.concat([\n",
    "            df_Fact_P\n",
    "            ,df_gro_P\n",
    "           ,df_Actual\n",
    "            ]).to_latex\\\n",
    "      (float_format=\"{:,.2f}\".format)\n",
    "#      ()\n",
    "     )"
   ]
  },
  {
   "cell_type": "markdown",
   "id": "ac9f766b",
   "metadata": {
    "heading_collapsed": true,
    "hidden": true
   },
   "source": [
    "##### Otra exploracion "
   ]
  },
  {
   "cell_type": "code",
   "execution_count": 47,
   "id": "428024e6",
   "metadata": {
    "hidden": true,
    "scrolled": true
   },
   "outputs": [
    {
     "data": {
      "text/html": [
       "<div>\n",
       "<style scoped>\n",
       "    .dataframe tbody tr th:only-of-type {\n",
       "        vertical-align: middle;\n",
       "    }\n",
       "\n",
       "    .dataframe tbody tr th {\n",
       "        vertical-align: top;\n",
       "    }\n",
       "\n",
       "    .dataframe thead th {\n",
       "        text-align: right;\n",
       "    }\n",
       "</style>\n",
       "<table border=\"1\" class=\"dataframe\">\n",
       "  <thead>\n",
       "    <tr style=\"text-align: right;\">\n",
       "      <th></th>\n",
       "      <th>Fecha Creacion</th>\n",
       "      <th>Día natural</th>\n",
       "    </tr>\n",
       "  </thead>\n",
       "  <tbody>\n",
       "    <tr>\n",
       "      <th>0</th>\n",
       "      <td>2018-01-23</td>\n",
       "      <td>2018-01-24</td>\n",
       "    </tr>\n",
       "    <tr>\n",
       "      <th>1</th>\n",
       "      <td>2018-01-09</td>\n",
       "      <td>2018-01-10</td>\n",
       "    </tr>\n",
       "    <tr>\n",
       "      <th>2</th>\n",
       "      <td>2018-01-15</td>\n",
       "      <td>2018-01-16</td>\n",
       "    </tr>\n",
       "    <tr>\n",
       "      <th>3</th>\n",
       "      <td>2018-01-04</td>\n",
       "      <td>2018-01-05</td>\n",
       "    </tr>\n",
       "    <tr>\n",
       "      <th>4</th>\n",
       "      <td>2019-10-24</td>\n",
       "      <td>2019-10-25</td>\n",
       "    </tr>\n",
       "    <tr>\n",
       "      <th>5</th>\n",
       "      <td>2018-02-14</td>\n",
       "      <td>2018-02-15</td>\n",
       "    </tr>\n",
       "    <tr>\n",
       "      <th>6</th>\n",
       "      <td>2018-01-02</td>\n",
       "      <td>2018-01-03</td>\n",
       "    </tr>\n",
       "    <tr>\n",
       "      <th>7</th>\n",
       "      <td>2021-05-19</td>\n",
       "      <td>2021-05-20</td>\n",
       "    </tr>\n",
       "    <tr>\n",
       "      <th>8</th>\n",
       "      <td>2019-06-25</td>\n",
       "      <td>2019-06-26</td>\n",
       "    </tr>\n",
       "    <tr>\n",
       "      <th>9</th>\n",
       "      <td>2018-09-21</td>\n",
       "      <td>2018-09-22</td>\n",
       "    </tr>\n",
       "    <tr>\n",
       "      <th>10</th>\n",
       "      <td>2018-01-18</td>\n",
       "      <td>2018-01-19</td>\n",
       "    </tr>\n",
       "    <tr>\n",
       "      <th>11</th>\n",
       "      <td>2018-01-03</td>\n",
       "      <td>2018-01-04</td>\n",
       "    </tr>\n",
       "    <tr>\n",
       "      <th>12</th>\n",
       "      <td>2018-01-02</td>\n",
       "      <td>2018-01-03</td>\n",
       "    </tr>\n",
       "    <tr>\n",
       "      <th>13</th>\n",
       "      <td>2018-01-04</td>\n",
       "      <td>2018-01-05</td>\n",
       "    </tr>\n",
       "    <tr>\n",
       "      <th>14</th>\n",
       "      <td>2018-01-05</td>\n",
       "      <td>2018-01-06</td>\n",
       "    </tr>\n",
       "    <tr>\n",
       "      <th>15</th>\n",
       "      <td>2018-08-16</td>\n",
       "      <td>2018-08-17</td>\n",
       "    </tr>\n",
       "    <tr>\n",
       "      <th>16</th>\n",
       "      <td>2018-01-02</td>\n",
       "      <td>2018-01-03</td>\n",
       "    </tr>\n",
       "    <tr>\n",
       "      <th>17</th>\n",
       "      <td>2018-12-13</td>\n",
       "      <td>2018-12-14</td>\n",
       "    </tr>\n",
       "    <tr>\n",
       "      <th>18</th>\n",
       "      <td>2018-01-02</td>\n",
       "      <td>2018-01-03</td>\n",
       "    </tr>\n",
       "    <tr>\n",
       "      <th>19</th>\n",
       "      <td>2018-01-05</td>\n",
       "      <td>2018-01-06</td>\n",
       "    </tr>\n",
       "    <tr>\n",
       "      <th>20</th>\n",
       "      <td>2018-11-26</td>\n",
       "      <td>2018-11-27</td>\n",
       "    </tr>\n",
       "    <tr>\n",
       "      <th>21</th>\n",
       "      <td>2018-01-04</td>\n",
       "      <td>2018-01-05</td>\n",
       "    </tr>\n",
       "    <tr>\n",
       "      <th>22</th>\n",
       "      <td>2018-01-08</td>\n",
       "      <td>2018-01-09</td>\n",
       "    </tr>\n",
       "    <tr>\n",
       "      <th>23</th>\n",
       "      <td>2018-01-09</td>\n",
       "      <td>2018-01-10</td>\n",
       "    </tr>\n",
       "    <tr>\n",
       "      <th>24</th>\n",
       "      <td>2018-01-02</td>\n",
       "      <td>2018-01-03</td>\n",
       "    </tr>\n",
       "    <tr>\n",
       "      <th>25</th>\n",
       "      <td>2020-04-02</td>\n",
       "      <td>2020-04-03</td>\n",
       "    </tr>\n",
       "    <tr>\n",
       "      <th>26</th>\n",
       "      <td>2018-01-04</td>\n",
       "      <td>2018-01-05</td>\n",
       "    </tr>\n",
       "    <tr>\n",
       "      <th>27</th>\n",
       "      <td>2021-06-16</td>\n",
       "      <td>2021-06-17</td>\n",
       "    </tr>\n",
       "    <tr>\n",
       "      <th>28</th>\n",
       "      <td>2018-01-02</td>\n",
       "      <td>2018-01-03</td>\n",
       "    </tr>\n",
       "    <tr>\n",
       "      <th>29</th>\n",
       "      <td>2018-01-05</td>\n",
       "      <td>2018-01-06</td>\n",
       "    </tr>\n",
       "    <tr>\n",
       "      <th>30</th>\n",
       "      <td>2021-08-24</td>\n",
       "      <td>2021-08-25</td>\n",
       "    </tr>\n",
       "    <tr>\n",
       "      <th>31</th>\n",
       "      <td>2018-01-03</td>\n",
       "      <td>2018-01-04</td>\n",
       "    </tr>\n",
       "    <tr>\n",
       "      <th>32</th>\n",
       "      <td>2018-01-02</td>\n",
       "      <td>2018-01-03</td>\n",
       "    </tr>\n",
       "  </tbody>\n",
       "</table>\n",
       "</div>"
      ],
      "text/plain": [
       "   Fecha Creacion Día natural\n",
       "0      2018-01-23  2018-01-24\n",
       "1      2018-01-09  2018-01-10\n",
       "2      2018-01-15  2018-01-16\n",
       "3      2018-01-04  2018-01-05\n",
       "4      2019-10-24  2019-10-25\n",
       "5      2018-02-14  2018-02-15\n",
       "6      2018-01-02  2018-01-03\n",
       "7      2021-05-19  2021-05-20\n",
       "8      2019-06-25  2019-06-26\n",
       "9      2018-09-21  2018-09-22\n",
       "10     2018-01-18  2018-01-19\n",
       "11     2018-01-03  2018-01-04\n",
       "12     2018-01-02  2018-01-03\n",
       "13     2018-01-04  2018-01-05\n",
       "14     2018-01-05  2018-01-06\n",
       "15     2018-08-16  2018-08-17\n",
       "16     2018-01-02  2018-01-03\n",
       "17     2018-12-13  2018-12-14\n",
       "18     2018-01-02  2018-01-03\n",
       "19     2018-01-05  2018-01-06\n",
       "20     2018-11-26  2018-11-27\n",
       "21     2018-01-04  2018-01-05\n",
       "22     2018-01-08  2018-01-09\n",
       "23     2018-01-09  2018-01-10\n",
       "24     2018-01-02  2018-01-03\n",
       "25     2020-04-02  2020-04-03\n",
       "26     2018-01-04  2018-01-05\n",
       "27     2021-06-16  2021-06-17\n",
       "28     2018-01-02  2018-01-03\n",
       "29     2018-01-05  2018-01-06\n",
       "30     2021-08-24  2021-08-25\n",
       "31     2018-01-03  2018-01-04\n",
       "32     2018-01-02  2018-01-03"
      ]
     },
     "execution_count": 47,
     "metadata": {},
     "output_type": "execute_result"
    }
   ],
   "source": [
    "pd.merge(data_i_F[(data_i_F.Frecuency_Row==2)],Clientes_i_RFM)[['Fecha Creacion','Día natural']]"
   ]
  },
  {
   "cell_type": "code",
   "execution_count": 48,
   "id": "93a8b463",
   "metadata": {
    "hidden": true,
    "scrolled": false
   },
   "outputs": [
    {
     "data": {
      "text/html": [
       "<div>\n",
       "<style scoped>\n",
       "    .dataframe tbody tr th:only-of-type {\n",
       "        vertical-align: middle;\n",
       "    }\n",
       "\n",
       "    .dataframe tbody tr th {\n",
       "        vertical-align: top;\n",
       "    }\n",
       "\n",
       "    .dataframe thead th {\n",
       "        text-align: right;\n",
       "    }\n",
       "</style>\n",
       "<table border=\"1\" class=\"dataframe\">\n",
       "  <thead>\n",
       "    <tr style=\"text-align: right;\">\n",
       "      <th></th>\n",
       "      <th>Material (Nombre)</th>\n",
       "      <th>Kilos Venta KG</th>\n",
       "      <th>Precio</th>\n",
       "      <th>Día natural</th>\n",
       "      <th>Día Semana</th>\n",
       "      <th>Semana</th>\n",
       "      <th>Mes</th>\n",
       "      <th>Año</th>\n",
       "      <th>Población</th>\n",
       "      <th>Centro</th>\n",
       "      <th>Cliente</th>\n",
       "      <th>Cluster</th>\n",
       "      <th>Segmento.1</th>\n",
       "      <th>Categoría Cliente</th>\n",
       "      <th>Año Creación</th>\n",
       "      <th>Material Favorito</th>\n",
       "      <th>Frecuencia Historica</th>\n",
       "      <th>Mes_num</th>\n",
       "      <th>Frecuency_Row</th>\n",
       "    </tr>\n",
       "  </thead>\n",
       "  <tbody>\n",
       "    <tr>\n",
       "      <th>count</th>\n",
       "      <td>33</td>\n",
       "      <td>33.000000</td>\n",
       "      <td>33.000000</td>\n",
       "      <td>33</td>\n",
       "      <td>33</td>\n",
       "      <td>33</td>\n",
       "      <td>33</td>\n",
       "      <td>33</td>\n",
       "      <td>33</td>\n",
       "      <td>33</td>\n",
       "      <td>33</td>\n",
       "      <td>33</td>\n",
       "      <td>33</td>\n",
       "      <td>33</td>\n",
       "      <td>33</td>\n",
       "      <td>33</td>\n",
       "      <td>33</td>\n",
       "      <td>33</td>\n",
       "      <td>33.0</td>\n",
       "    </tr>\n",
       "    <tr>\n",
       "      <th>unique</th>\n",
       "      <td>1</td>\n",
       "      <td>NaN</td>\n",
       "      <td>NaN</td>\n",
       "      <td>20</td>\n",
       "      <td>5</td>\n",
       "      <td>15</td>\n",
       "      <td>10</td>\n",
       "      <td>4</td>\n",
       "      <td>20</td>\n",
       "      <td>3</td>\n",
       "      <td>33</td>\n",
       "      <td>3</td>\n",
       "      <td>3</td>\n",
       "      <td>4</td>\n",
       "      <td>11</td>\n",
       "      <td>6</td>\n",
       "      <td>33</td>\n",
       "      <td>10</td>\n",
       "      <td>NaN</td>\n",
       "    </tr>\n",
       "    <tr>\n",
       "      <th>top</th>\n",
       "      <td>1010078(Trutro Entero Selección)</td>\n",
       "      <td>NaN</td>\n",
       "      <td>NaN</td>\n",
       "      <td>2018-01-03</td>\n",
       "      <td>Miércoles</td>\n",
       "      <td>1</td>\n",
       "      <td>Enero</td>\n",
       "      <td>2018</td>\n",
       "      <td>Puente Alto</td>\n",
       "      <td>Sucursal Miraflores</td>\n",
       "      <td>12244423</td>\n",
       "      <td>Clásico</td>\n",
       "      <td>Cobertura Mediano SD</td>\n",
       "      <td>Especialista en Crud</td>\n",
       "      <td>2007</td>\n",
       "      <td>1020253</td>\n",
       "      <td>1088</td>\n",
       "      <td>1</td>\n",
       "      <td>NaN</td>\n",
       "    </tr>\n",
       "    <tr>\n",
       "      <th>freq</th>\n",
       "      <td>33</td>\n",
       "      <td>NaN</td>\n",
       "      <td>NaN</td>\n",
       "      <td>7</td>\n",
       "      <td>12</td>\n",
       "      <td>16</td>\n",
       "      <td>22</td>\n",
       "      <td>27</td>\n",
       "      <td>4</td>\n",
       "      <td>15</td>\n",
       "      <td>1</td>\n",
       "      <td>23</td>\n",
       "      <td>24</td>\n",
       "      <td>23</td>\n",
       "      <td>13</td>\n",
       "      <td>16</td>\n",
       "      <td>1</td>\n",
       "      <td>22</td>\n",
       "      <td>NaN</td>\n",
       "    </tr>\n",
       "    <tr>\n",
       "      <th>mean</th>\n",
       "      <td>NaN</td>\n",
       "      <td>174.727273</td>\n",
       "      <td>1222.909091</td>\n",
       "      <td>NaN</td>\n",
       "      <td>NaN</td>\n",
       "      <td>NaN</td>\n",
       "      <td>NaN</td>\n",
       "      <td>NaN</td>\n",
       "      <td>NaN</td>\n",
       "      <td>NaN</td>\n",
       "      <td>NaN</td>\n",
       "      <td>NaN</td>\n",
       "      <td>NaN</td>\n",
       "      <td>NaN</td>\n",
       "      <td>NaN</td>\n",
       "      <td>NaN</td>\n",
       "      <td>NaN</td>\n",
       "      <td>NaN</td>\n",
       "      <td>2.0</td>\n",
       "    </tr>\n",
       "    <tr>\n",
       "      <th>std</th>\n",
       "      <td>NaN</td>\n",
       "      <td>275.832068</td>\n",
       "      <td>167.624648</td>\n",
       "      <td>NaN</td>\n",
       "      <td>NaN</td>\n",
       "      <td>NaN</td>\n",
       "      <td>NaN</td>\n",
       "      <td>NaN</td>\n",
       "      <td>NaN</td>\n",
       "      <td>NaN</td>\n",
       "      <td>NaN</td>\n",
       "      <td>NaN</td>\n",
       "      <td>NaN</td>\n",
       "      <td>NaN</td>\n",
       "      <td>NaN</td>\n",
       "      <td>NaN</td>\n",
       "      <td>NaN</td>\n",
       "      <td>NaN</td>\n",
       "      <td>0.0</td>\n",
       "    </tr>\n",
       "    <tr>\n",
       "      <th>min</th>\n",
       "      <td>NaN</td>\n",
       "      <td>22.000000</td>\n",
       "      <td>750.000000</td>\n",
       "      <td>NaN</td>\n",
       "      <td>NaN</td>\n",
       "      <td>NaN</td>\n",
       "      <td>NaN</td>\n",
       "      <td>NaN</td>\n",
       "      <td>NaN</td>\n",
       "      <td>NaN</td>\n",
       "      <td>NaN</td>\n",
       "      <td>NaN</td>\n",
       "      <td>NaN</td>\n",
       "      <td>NaN</td>\n",
       "      <td>NaN</td>\n",
       "      <td>NaN</td>\n",
       "      <td>NaN</td>\n",
       "      <td>NaN</td>\n",
       "      <td>2.0</td>\n",
       "    </tr>\n",
       "    <tr>\n",
       "      <th>25%</th>\n",
       "      <td>NaN</td>\n",
       "      <td>25.000000</td>\n",
       "      <td>1100.000000</td>\n",
       "      <td>NaN</td>\n",
       "      <td>NaN</td>\n",
       "      <td>NaN</td>\n",
       "      <td>NaN</td>\n",
       "      <td>NaN</td>\n",
       "      <td>NaN</td>\n",
       "      <td>NaN</td>\n",
       "      <td>NaN</td>\n",
       "      <td>NaN</td>\n",
       "      <td>NaN</td>\n",
       "      <td>NaN</td>\n",
       "      <td>NaN</td>\n",
       "      <td>NaN</td>\n",
       "      <td>NaN</td>\n",
       "      <td>NaN</td>\n",
       "      <td>2.0</td>\n",
       "    </tr>\n",
       "    <tr>\n",
       "      <th>50%</th>\n",
       "      <td>NaN</td>\n",
       "      <td>66.000000</td>\n",
       "      <td>1250.000000</td>\n",
       "      <td>NaN</td>\n",
       "      <td>NaN</td>\n",
       "      <td>NaN</td>\n",
       "      <td>NaN</td>\n",
       "      <td>NaN</td>\n",
       "      <td>NaN</td>\n",
       "      <td>NaN</td>\n",
       "      <td>NaN</td>\n",
       "      <td>NaN</td>\n",
       "      <td>NaN</td>\n",
       "      <td>NaN</td>\n",
       "      <td>NaN</td>\n",
       "      <td>NaN</td>\n",
       "      <td>NaN</td>\n",
       "      <td>NaN</td>\n",
       "      <td>2.0</td>\n",
       "    </tr>\n",
       "    <tr>\n",
       "      <th>75%</th>\n",
       "      <td>NaN</td>\n",
       "      <td>132.000000</td>\n",
       "      <td>1350.000000</td>\n",
       "      <td>NaN</td>\n",
       "      <td>NaN</td>\n",
       "      <td>NaN</td>\n",
       "      <td>NaN</td>\n",
       "      <td>NaN</td>\n",
       "      <td>NaN</td>\n",
       "      <td>NaN</td>\n",
       "      <td>NaN</td>\n",
       "      <td>NaN</td>\n",
       "      <td>NaN</td>\n",
       "      <td>NaN</td>\n",
       "      <td>NaN</td>\n",
       "      <td>NaN</td>\n",
       "      <td>NaN</td>\n",
       "      <td>NaN</td>\n",
       "      <td>2.0</td>\n",
       "    </tr>\n",
       "    <tr>\n",
       "      <th>max</th>\n",
       "      <td>NaN</td>\n",
       "      <td>1102.000000</td>\n",
       "      <td>1400.000000</td>\n",
       "      <td>NaN</td>\n",
       "      <td>NaN</td>\n",
       "      <td>NaN</td>\n",
       "      <td>NaN</td>\n",
       "      <td>NaN</td>\n",
       "      <td>NaN</td>\n",
       "      <td>NaN</td>\n",
       "      <td>NaN</td>\n",
       "      <td>NaN</td>\n",
       "      <td>NaN</td>\n",
       "      <td>NaN</td>\n",
       "      <td>NaN</td>\n",
       "      <td>NaN</td>\n",
       "      <td>NaN</td>\n",
       "      <td>NaN</td>\n",
       "      <td>2.0</td>\n",
       "    </tr>\n",
       "  </tbody>\n",
       "</table>\n",
       "</div>"
      ],
      "text/plain": [
       "                       Material (Nombre)  Kilos Venta KG       Precio  \\\n",
       "count                                 33       33.000000    33.000000   \n",
       "unique                                 1             NaN          NaN   \n",
       "top     1010078(Trutro Entero Selección)             NaN          NaN   \n",
       "freq                                  33             NaN          NaN   \n",
       "mean                                 NaN      174.727273  1222.909091   \n",
       "std                                  NaN      275.832068   167.624648   \n",
       "min                                  NaN       22.000000   750.000000   \n",
       "25%                                  NaN       25.000000  1100.000000   \n",
       "50%                                  NaN       66.000000  1250.000000   \n",
       "75%                                  NaN      132.000000  1350.000000   \n",
       "max                                  NaN     1102.000000  1400.000000   \n",
       "\n",
       "       Día natural Día Semana Semana    Mes   Año    Población  \\\n",
       "count           33         33     33     33    33           33   \n",
       "unique          20          5     15     10     4           20   \n",
       "top     2018-01-03  Miércoles      1  Enero  2018  Puente Alto   \n",
       "freq             7         12     16     22    27            4   \n",
       "mean           NaN        NaN    NaN    NaN   NaN          NaN   \n",
       "std            NaN        NaN    NaN    NaN   NaN          NaN   \n",
       "min            NaN        NaN    NaN    NaN   NaN          NaN   \n",
       "25%            NaN        NaN    NaN    NaN   NaN          NaN   \n",
       "50%            NaN        NaN    NaN    NaN   NaN          NaN   \n",
       "75%            NaN        NaN    NaN    NaN   NaN          NaN   \n",
       "max            NaN        NaN    NaN    NaN   NaN          NaN   \n",
       "\n",
       "                     Centro   Cliente  Cluster            Segmento.1  \\\n",
       "count                    33        33       33                    33   \n",
       "unique                    3        33        3                     3   \n",
       "top     Sucursal Miraflores  12244423  Clásico  Cobertura Mediano SD   \n",
       "freq                     15         1       23                    24   \n",
       "mean                    NaN       NaN      NaN                   NaN   \n",
       "std                     NaN       NaN      NaN                   NaN   \n",
       "min                     NaN       NaN      NaN                   NaN   \n",
       "25%                     NaN       NaN      NaN                   NaN   \n",
       "50%                     NaN       NaN      NaN                   NaN   \n",
       "75%                     NaN       NaN      NaN                   NaN   \n",
       "max                     NaN       NaN      NaN                   NaN   \n",
       "\n",
       "           Categoría Cliente Año Creación Material Favorito  \\\n",
       "count                     33           33                33   \n",
       "unique                     4           11                 6   \n",
       "top     Especialista en Crud         2007           1020253   \n",
       "freq                      23           13                16   \n",
       "mean                     NaN          NaN               NaN   \n",
       "std                      NaN          NaN               NaN   \n",
       "min                      NaN          NaN               NaN   \n",
       "25%                      NaN          NaN               NaN   \n",
       "50%                      NaN          NaN               NaN   \n",
       "75%                      NaN          NaN               NaN   \n",
       "max                      NaN          NaN               NaN   \n",
       "\n",
       "       Frecuencia Historica Mes_num  Frecuency_Row  \n",
       "count                    33      33           33.0  \n",
       "unique                   33      10            NaN  \n",
       "top                    1088       1            NaN  \n",
       "freq                      1      22            NaN  \n",
       "mean                    NaN     NaN            2.0  \n",
       "std                     NaN     NaN            0.0  \n",
       "min                     NaN     NaN            2.0  \n",
       "25%                     NaN     NaN            2.0  \n",
       "50%                     NaN     NaN            2.0  \n",
       "75%                     NaN     NaN            2.0  \n",
       "max                     NaN     NaN            2.0  "
      ]
     },
     "execution_count": 48,
     "metadata": {},
     "output_type": "execute_result"
    }
   ],
   "source": [
    "data_i_F[(data_i_F.Frecuency_Row==2)].describe(include='all')"
   ]
  },
  {
   "cell_type": "markdown",
   "id": "704a09f9",
   "metadata": {
    "heading_collapsed": true,
    "hidden": true
   },
   "source": [
    "### Histograma Sencillo"
   ]
  },
  {
   "cell_type": "markdown",
   "id": "6bfa5fd9",
   "metadata": {
    "hidden": true
   },
   "source": [
    "`df_fecha_fin.columns`"
   ]
  },
  {
   "cell_type": "markdown",
   "id": "64637101",
   "metadata": {
    "hidden": true
   },
   "source": [
    "```python\n",
    "df_fecha_fin.hist(bins=30 ,legend=True\n",
    "#                                     ,xlabel=\n",
    "#                                     ,color='red'\n",
    "                                   ,column =['Recency Actual','Frecuency_Row']\n",
    "                                   )\n",
    "pd.DataFrame({\n",
    "    'length': [1.5, 0.5, 1.2, 0.9, 3],\n",
    "         'width': [0.7, 0.2, 0.15, 0.2, 1.1]\n",
    "        }, index=['pig', 'rabbit', 'duck', 'chicken', 'horse']).hist(bins=3,legend=True)\n",
    "```"
   ]
  },
  {
   "cell_type": "markdown",
   "id": "a8d9eec0",
   "metadata": {
    "heading_collapsed": true,
    "hidden": true
   },
   "source": [
    "##### Grafico "
   ]
  },
  {
   "cell_type": "markdown",
   "id": "229ce26b",
   "metadata": {
    "hidden": true
   },
   "source": [
    "###### plop"
   ]
  },
  {
   "cell_type": "code",
   "execution_count": 50,
   "id": "300c4f5b",
   "metadata": {
    "hidden": true,
    "scrolled": true
   },
   "outputs": [
    {
     "ename": "NameError",
     "evalue": "name 'df_fecha_fin' is not defined",
     "output_type": "error",
     "traceback": [
      "\u001b[1;31m---------------------------------------------------------------------------\u001b[0m",
      "\u001b[1;31mNameError\u001b[0m                                 Traceback (most recent call last)",
      "\u001b[1;32m<ipython-input-50-9227925c65f8>\u001b[0m in \u001b[0;36m<module>\u001b[1;34m\u001b[0m\n\u001b[1;32m----> 1\u001b[1;33m \u001b[0mdf_fecha_fin\u001b[0m\u001b[1;33m.\u001b[0m\u001b[0mhist\u001b[0m\u001b[1;33m(\u001b[0m\u001b[1;33m)\u001b[0m\u001b[1;33m\u001b[0m\u001b[1;33m\u001b[0m\u001b[0m\n\u001b[0m",
      "\u001b[1;31mNameError\u001b[0m: name 'df_fecha_fin' is not defined"
     ]
    }
   ],
   "source": [
    "`df_fecha_fin.hist()`"
   ]
  },
  {
   "cell_type": "markdown",
   "id": "9f3fb162",
   "metadata": {
    "hidden": true
   },
   "source": [
    "```python\n",
    "ggplot()\\\n",
    "    +geom_histogram(df_fecha_fin,aes(x='Recency Actual')\n",
    "                    ,fill='r',bins=30,alpha=1\n",
    "                   \n",
    "                   )\\\n",
    "    +geom_histogram(df_g,aes(x='Recency Promedio Cliente')\n",
    "                    ,fill='b',bins=30,alpha=0.5\n",
    "                   \n",
    "                   )\\\n",
    "        \n",
    "#     +geom_histogram(data=df_g,bins=30,)\n",
    "    #binwidth=0.5)\n",
    "# (mapping=None, data=data_i_F, stat='bin', position='stack',\n",
    "#                na_rm=False, inherit_aes=True, show_legend=None, raster=False)\n",
    "#                **kwargs)\n",
    "```"
   ]
  },
  {
   "cell_type": "markdown",
   "id": "c06c4e7d",
   "metadata": {
    "hidden": true
   },
   "source": [
    "###### union "
   ]
  },
  {
   "cell_type": "markdown",
   "id": "145d7361",
   "metadata": {
    "hidden": true
   },
   "source": [
    "```python\n",
    "print(df_fecha_fin.shape,\n",
    "     df_g.shape)\n",
    "pd.merge(df_fecha_fin\n",
    ",df_g,how= 'inner').shape\n",
    "```"
   ]
  },
  {
   "cell_type": "markdown",
   "id": "f07ab382",
   "metadata": {
    "hidden": true
   },
   "source": [
    "```python\n",
    "#  {'left', 'right', 'outer', 'inner', 'cross'}, default 'inner'\n",
    "print(df_fecha_fin.shape,\n",
    "     df.shape)\n",
    "\n",
    "df_merg=pd.merge(df_fecha_fin\n",
    ",df_g,how= 'inner')\n",
    "df_merg.shape\n",
    "```"
   ]
  },
  {
   "cell_type": "markdown",
   "id": "48b17d21",
   "metadata": {
    "hidden": true
   },
   "source": [
    "```python\n",
    "#  {'left', 'right', 'outer', 'inner', 'cross'}, default 'inner'\n",
    "print(df_fecha_fin.shape,\n",
    "     df.shape)\n",
    "\n",
    "df_merg=pd.concat([df_fecha_fin\n",
    ",df_g])\n",
    "df_merg.shape\n",
    "```"
   ]
  },
  {
   "cell_type": "markdown",
   "id": "0c9f3382",
   "metadata": {
    "hidden": true
   },
   "source": [
    "`df_merg.head()`"
   ]
  },
  {
   "cell_type": "markdown",
   "id": "8ae68c3c",
   "metadata": {},
   "source": [
    "## Histograma"
   ]
  },
  {
   "cell_type": "markdown",
   "id": "a0643472",
   "metadata": {},
   "source": [
    "### F "
   ]
  },
  {
   "cell_type": "markdown",
   "id": "12b14b35",
   "metadata": {
    "heading_collapsed": true
   },
   "source": [
    "##### Listado Histogramas "
   ]
  },
  {
   "cell_type": "markdown",
   "id": "127fa92a",
   "metadata": {
    "hidden": true
   },
   "source": [
    "###### Datos "
   ]
  },
  {
   "cell_type": "code",
   "execution_count": 53,
   "id": "a0c10c52",
   "metadata": {
    "hidden": true
   },
   "outputs": [
    {
     "data": {
      "text/plain": [
       "'Frecuency Actual del Cliente'"
      ]
     },
     "execution_count": 53,
     "metadata": {},
     "output_type": "execute_result"
    }
   ],
   "source": [
    "Dic_col['RFM Customers'][1]"
   ]
  },
  {
   "cell_type": "code",
   "execution_count": 54,
   "id": "ab3f4251",
   "metadata": {
    "hidden": true
   },
   "outputs": [
    {
     "data": {
      "text/plain": [
       "0       0.003344\n",
       "1       0.201752\n",
       "2       0.059365\n",
       "3       0.039591\n",
       "4       0.017541\n",
       "          ...   \n",
       "5068    0.056885\n",
       "5069    0.408158\n",
       "5070    0.015996\n",
       "5071    0.025931\n",
       "5072    0.003344\n",
       "Name: Frecuency Actual del Cliente, Length: 5073, dtype: float64"
      ]
     },
     "execution_count": 54,
     "metadata": {},
     "output_type": "execute_result"
    }
   ],
   "source": [
    "Clientes_i_RFM['Frecuency Actual del Cliente']"
   ]
  },
  {
   "cell_type": "code",
   "execution_count": 57,
   "id": "99e85fe3",
   "metadata": {
    "hidden": true,
    "scrolled": true
   },
   "outputs": [
    {
     "data": {
      "text/html": [
       "<div>\n",
       "<style scoped>\n",
       "    .dataframe tbody tr th:only-of-type {\n",
       "        vertical-align: middle;\n",
       "    }\n",
       "\n",
       "    .dataframe tbody tr th {\n",
       "        vertical-align: top;\n",
       "    }\n",
       "\n",
       "    .dataframe thead th {\n",
       "        text-align: right;\n",
       "    }\n",
       "</style>\n",
       "<table border=\"1\" class=\"dataframe\">\n",
       "  <thead>\n",
       "    <tr style=\"text-align: right;\">\n",
       "      <th></th>\n",
       "      <th>Recency Actual</th>\n",
       "      <th>Frecuency Actual del Cliente</th>\n",
       "    </tr>\n",
       "  </thead>\n",
       "  <tbody>\n",
       "    <tr>\n",
       "      <th>0</th>\n",
       "      <td>521</td>\n",
       "      <td>0.003344</td>\n",
       "    </tr>\n",
       "    <tr>\n",
       "      <th>1</th>\n",
       "      <td>0</td>\n",
       "      <td>0.201752</td>\n",
       "    </tr>\n",
       "    <tr>\n",
       "      <th>2</th>\n",
       "      <td>3</td>\n",
       "      <td>0.059365</td>\n",
       "    </tr>\n",
       "    <tr>\n",
       "      <th>3</th>\n",
       "      <td>47</td>\n",
       "      <td>0.039591</td>\n",
       "    </tr>\n",
       "    <tr>\n",
       "      <th>4</th>\n",
       "      <td>32</td>\n",
       "      <td>0.017541</td>\n",
       "    </tr>\n",
       "    <tr>\n",
       "      <th>...</th>\n",
       "      <td>...</td>\n",
       "      <td>...</td>\n",
       "    </tr>\n",
       "    <tr>\n",
       "      <th>5068</th>\n",
       "      <td>69</td>\n",
       "      <td>0.056885</td>\n",
       "    </tr>\n",
       "    <tr>\n",
       "      <th>5069</th>\n",
       "      <td>0</td>\n",
       "      <td>0.408158</td>\n",
       "    </tr>\n",
       "    <tr>\n",
       "      <th>5070</th>\n",
       "      <td>12</td>\n",
       "      <td>0.015996</td>\n",
       "    </tr>\n",
       "    <tr>\n",
       "      <th>5071</th>\n",
       "      <td>118</td>\n",
       "      <td>0.025931</td>\n",
       "    </tr>\n",
       "    <tr>\n",
       "      <th>5072</th>\n",
       "      <td>465</td>\n",
       "      <td>0.003344</td>\n",
       "    </tr>\n",
       "  </tbody>\n",
       "</table>\n",
       "<p>5073 rows × 2 columns</p>\n",
       "</div>"
      ],
      "text/plain": [
       "      Recency Actual  Frecuency Actual del Cliente\n",
       "0                521                      0.003344\n",
       "1                  0                      0.201752\n",
       "2                  3                      0.059365\n",
       "3                 47                      0.039591\n",
       "4                 32                      0.017541\n",
       "...              ...                           ...\n",
       "5068              69                      0.056885\n",
       "5069               0                      0.408158\n",
       "5070              12                      0.015996\n",
       "5071             118                      0.025931\n",
       "5072             465                      0.003344\n",
       "\n",
       "[5073 rows x 2 columns]"
      ]
     },
     "execution_count": 57,
     "metadata": {},
     "output_type": "execute_result"
    }
   ],
   "source": [
    "Clientes_i_RFM[Dic_col['RFM Customers'][:2]]"
   ]
  },
  {
   "cell_type": "code",
   "execution_count": 58,
   "id": "b1263770",
   "metadata": {
    "hidden": true
   },
   "outputs": [
    {
     "data": {
      "text/html": [
       "<div>\n",
       "<style scoped>\n",
       "    .dataframe tbody tr th:only-of-type {\n",
       "        vertical-align: middle;\n",
       "    }\n",
       "\n",
       "    .dataframe tbody tr th {\n",
       "        vertical-align: top;\n",
       "    }\n",
       "\n",
       "    .dataframe thead th {\n",
       "        text-align: right;\n",
       "    }\n",
       "</style>\n",
       "<table border=\"1\" class=\"dataframe\">\n",
       "  <thead>\n",
       "    <tr style=\"text-align: right;\">\n",
       "      <th></th>\n",
       "      <th>Cliente</th>\n",
       "      <th>Frecuency Promedio Cliente</th>\n",
       "    </tr>\n",
       "  </thead>\n",
       "  <tbody>\n",
       "    <tr>\n",
       "      <th>0</th>\n",
       "      <td>10003742</td>\n",
       "      <td>1.000000</td>\n",
       "    </tr>\n",
       "    <tr>\n",
       "      <th>1</th>\n",
       "      <td>10007508</td>\n",
       "      <td>0.153281</td>\n",
       "    </tr>\n",
       "    <tr>\n",
       "      <th>2</th>\n",
       "      <td>10017269</td>\n",
       "      <td>0.071922</td>\n",
       "    </tr>\n",
       "    <tr>\n",
       "      <th>3</th>\n",
       "      <td>10023880</td>\n",
       "      <td>0.102112</td>\n",
       "    </tr>\n",
       "    <tr>\n",
       "      <th>4</th>\n",
       "      <td>10028999</td>\n",
       "      <td>0.095970</td>\n",
       "    </tr>\n",
       "    <tr>\n",
       "      <th>...</th>\n",
       "      <td>...</td>\n",
       "      <td>...</td>\n",
       "    </tr>\n",
       "    <tr>\n",
       "      <th>5068</th>\n",
       "      <td>9992154</td>\n",
       "      <td>0.083190</td>\n",
       "    </tr>\n",
       "    <tr>\n",
       "      <th>5069</th>\n",
       "      <td>9993925</td>\n",
       "      <td>0.401797</td>\n",
       "    </tr>\n",
       "    <tr>\n",
       "      <th>5070</th>\n",
       "      <td>9994662</td>\n",
       "      <td>0.113101</td>\n",
       "    </tr>\n",
       "    <tr>\n",
       "      <th>5071</th>\n",
       "      <td>9994800</td>\n",
       "      <td>0.351509</td>\n",
       "    </tr>\n",
       "    <tr>\n",
       "      <th>5072</th>\n",
       "      <td>9997223</td>\n",
       "      <td>1.000000</td>\n",
       "    </tr>\n",
       "  </tbody>\n",
       "</table>\n",
       "<p>5073 rows × 2 columns</p>\n",
       "</div>"
      ],
      "text/plain": [
       "       Cliente  Frecuency Promedio Cliente\n",
       "0     10003742                    1.000000\n",
       "1     10007508                    0.153281\n",
       "2     10017269                    0.071922\n",
       "3     10023880                    0.102112\n",
       "4     10028999                    0.095970\n",
       "...        ...                         ...\n",
       "5068   9992154                    0.083190\n",
       "5069   9993925                    0.401797\n",
       "5070   9994662                    0.113101\n",
       "5071   9994800                    0.351509\n",
       "5072   9997223                    1.000000\n",
       "\n",
       "[5073 rows x 2 columns]"
      ]
     },
     "execution_count": 58,
     "metadata": {},
     "output_type": "execute_result"
    }
   ],
   "source": [
    "df_F_row_Promedio"
   ]
  },
  {
   "cell_type": "code",
   "execution_count": 59,
   "id": "6e922e0b",
   "metadata": {
    "hidden": true
   },
   "outputs": [],
   "source": [
    "list_df=[Clientes_i_RFM\n",
    "\n",
    "         ,data_i_F\n",
    "\n",
    "         ,df_F_row_Promedio\n",
    "        ]\n",
    "\n",
    "list_Xcol=['Frecuency Actual del Cliente'\n",
    "\n",
    "             ,'Frecuency_Row'\n",
    "\n",
    "            ,'Frecuency Promedio Cliente'\n",
    "            ]\n",
    "\n",
    "List_Colores=['#1F77B4', '#DB6061','#57DB5F']\n",
    "\n",
    "List_Title=['Frecuency actual del Cliente'\n",
    "\n",
    "             ,'Frecuency Facturas'\n",
    "\n",
    "            ,'Frecuency Promedio del Cliente'\n",
    "            ]"
   ]
  },
  {
   "cell_type": "markdown",
   "id": "848f6b75",
   "metadata": {
    "hidden": true
   },
   "source": [
    "###### Cantidad de datos"
   ]
  },
  {
   "cell_type": "code",
   "execution_count": 60,
   "id": "add5d32c",
   "metadata": {
    "hidden": true,
    "scrolled": true
   },
   "outputs": [
    {
     "data": {
      "image/png": "[encoded data removed]",
      "text/plain": [
       "<Figure size 640x480 with 1 Axes>"
      ]
     },
     "metadata": {},
     "output_type": "display_data"
    },
    {
     "data": {
      "image/png": "[encoded data removed]",
      "text/plain": [
       "<Figure size 640x480 with 1 Axes>"
      ]
     },
     "metadata": {},
     "output_type": "display_data"
    },
    {
     "data": {
      "image/png": "[encoded data removed]",
      "text/plain": [
       "<Figure size 640x480 with 1 Axes>"
      ]
     },
     "metadata": {},
     "output_type": "display_data"
    },
    {
     "data": {
      "text/plain": [
       "[<ggplot: (151538189406)>, <ggplot: (151572485548)>, <ggplot: (151567612733)>]"
      ]
     },
     "execution_count": 60,
     "metadata": {},
     "output_type": "execute_result"
    }
   ],
   "source": [
    "[(\n",
    "    \n",
    "    ggplot(\n",
    "    list_df[i]\n",
    "    ,aes(x= (list_Xcol[i])\n",
    "        \n",
    "        ))\n",
    "    \n",
    "    +geom_histogram(fill=List_Colores\n",
    "                    [i],bins=30,alpha=1)\n",
    "#      +scale_x_discrete(breaks= range(0,1100))\n",
    "    \n",
    "     +xlab('Días')\n",
    "     +ggtitle(List_Title[i])\n",
    " )\n",
    " for i in range(len(list_df))]#len(list_df)"
   ]
  },
  {
   "cell_type": "markdown",
   "id": "a2fd0936",
   "metadata": {
    "hidden": true
   },
   "source": [
    "###### Porcentaje "
   ]
  },
  {
   "cell_type": "code",
   "execution_count": 62,
   "id": "6f851d46",
   "metadata": {
    "hidden": true
   },
   "outputs": [],
   "source": [
    "from mizani.formatters import percent_format"
   ]
  },
  {
   "cell_type": "code",
   "execution_count": 63,
   "id": "44769af7",
   "metadata": {
    "hidden": true,
    "scrolled": true
   },
   "outputs": [
    {
     "data": {
      "image/png": "[encoded data removed]",
      "text/plain": [
       "<Figure size 300x300 with 1 Axes>"
      ]
     },
     "metadata": {},
     "output_type": "display_data"
    },
    {
     "data": {
      "image/png": "[encoded data removed]",
      "text/plain": [
       "<Figure size 300x300 with 1 Axes>"
      ]
     },
     "metadata": {},
     "output_type": "display_data"
    },
    {
     "data": {
      "image/png": "[encoded data removed]",
      "text/plain": [
       "<Figure size 300x300 with 1 Axes>"
      ]
     },
     "metadata": {},
     "output_type": "display_data"
    },
    {
     "data": {
      "text/plain": [
       "[<ggplot: (151538858999)>, <ggplot: (151538031653)>, <ggplot: (151538959439)>]"
      ]
     },
     "execution_count": 63,
     "metadata": {},
     "output_type": "execute_result"
    }
   ],
   "source": [
    "List_Graph_histo_Porcj=[(\n",
    "    \n",
    "    ggplot(\n",
    "    list_df[i]\n",
    "    ,aes(x= (list_Xcol[i])\n",
    "        ,y=after_stat('width*density')\n",
    "        ))\n",
    "    \n",
    "    +geom_histogram(fill=List_Colores\n",
    "                    [i],bins=30,alpha=1)\n",
    "#      +scale_x_discrete(breaks= range(0,1100))\n",
    "    + scale_y_continuous(labels=percent_format()) # display labels as a percentage\n",
    "    +xlab('Cantidad de Compras al Día')\n",
    "    +ylab('Porcentaje  de '+['Clientes','Facturaciones','Clientes'][i])\n",
    "    +ggtitle(List_Title[i])\n",
    "    \n",
    "    +theme(#axis_text_x = element_text(angle=90, hjust=1),\n",
    "           figure_size=(3,3),\n",
    "            axis_title_x=element_text(size = 10),\n",
    "            axis_title_y=element_text(size = 10),\n",
    "            title=element_text(size = 12)\n",
    "    \n",
    "    )#theme\n",
    "    \n",
    "    \n",
    "#     +scale_x_continuous(breaks =range(0,1750,250))\n",
    "\n",
    ")\n",
    " for i in range(len(list_df))]#len(list_df)\n",
    "\n",
    "List_Graph_histo_Porcj"
   ]
  },
  {
   "cell_type": "markdown",
   "id": "412b314d",
   "metadata": {
    "heading_collapsed": true
   },
   "source": [
    "#### Save pdf /png "
   ]
  },
  {
   "cell_type": "markdown",
   "id": "ba24e607",
   "metadata": {
    "hidden": true
   },
   "source": [
    "##### PNG "
   ]
  },
  {
   "cell_type": "code",
   "execution_count": 64,
   "id": "7bf40066",
   "metadata": {
    "hidden": true
   },
   "outputs": [
    {
     "data": {
      "text/plain": [
       "['Frecuency actual del Cliente',\n",
       " 'Frecuency Facturas',\n",
       " 'Frecuency Promedio del Cliente']"
      ]
     },
     "execution_count": 64,
     "metadata": {},
     "output_type": "execute_result"
    }
   ],
   "source": [
    "List_Title"
   ]
  },
  {
   "cell_type": "markdown",
   "id": "e24090ac",
   "metadata": {
    "hidden": true
   },
   "source": [
    "```python\n",
    "j=0\n",
    "for i in List_Title:\n",
    "    G_Lista=List_Graph_histo_Porcj\n",
    "    file_name=('Histograma ('+ i +') del Canal_Tradic_ sobre el '+Y_producto)\n",
    "    \n",
    "    pngfill= Png_file_direct_Graphic_Canal_Material+\"\\\\RFM\"\n",
    "    \n",
    "    \n",
    "    print('-----------\\n Nombre del archivo \\n',\n",
    "          file_name,\n",
    "          '\\n Dirección \\n',pngfill)\n",
    "    ggsave(plot = G_Lista[j]\n",
    "       ,filename = file_name, \n",
    "       path =pngfill\n",
    "      ,dpi = 300\n",
    "      )\n",
    "    j+=1\n",
    "```"
   ]
  },
  {
   "cell_type": "markdown",
   "id": "0656d472",
   "metadata": {
    "hidden": true
   },
   "source": [
    " ```python\n",
    "#============================\n",
    "#\n",
    "#============================\n",
    "file_name=('Histogramas (Frecuency) del Canal_Tradic_ sobre el '+Y_producto)\n",
    "    \n",
    "pngfill= Png_file_direct_Graphic_Canal_Material+\"\\\\RFM\"\n",
    "\n",
    "start_time = time.time()\n",
    "save_as_pdf_pages(\n",
    "                    List_Graph_histo_Porcj\n",
    "                    ,pngfill \n",
    "            +\"\\\\\"+ file_name + \".pdf\")\n",
    "time_convert(time.time()-start_time)\n",
    " ```"
   ]
  },
  {
   "cell_type": "code",
   "execution_count": null,
   "id": "41282791",
   "metadata": {
    "hidden": true
   },
   "outputs": [],
   "source": []
  },
  {
   "cell_type": "markdown",
   "id": "e7c0472f",
   "metadata": {},
   "source": [
    "#### "
   ]
  },
  {
   "cell_type": "markdown",
   "id": "baecd916",
   "metadata": {},
   "source": [
    "### F - 1 "
   ]
  },
  {
   "cell_type": "markdown",
   "id": "f7b768b5",
   "metadata": {},
   "source": [
    "##### Listado Histogramas "
   ]
  },
  {
   "cell_type": "markdown",
   "id": "d0623601",
   "metadata": {},
   "source": [
    "###### Datos "
   ]
  },
  {
   "cell_type": "code",
   "execution_count": 53,
   "id": "b30e5eaf",
   "metadata": {},
   "outputs": [
    {
     "data": {
      "text/plain": [
       "'Frecuency Actual del Cliente'"
      ]
     },
     "execution_count": 53,
     "metadata": {},
     "output_type": "execute_result"
    }
   ],
   "source": [
    "Dic_col['RFM Customers'][1]"
   ]
  },
  {
   "cell_type": "code",
   "execution_count": 54,
   "id": "7a691457",
   "metadata": {},
   "outputs": [
    {
     "data": {
      "text/plain": [
       "0       0.003344\n",
       "1       0.201752\n",
       "2       0.059365\n",
       "3       0.039591\n",
       "4       0.017541\n",
       "          ...   \n",
       "5068    0.056885\n",
       "5069    0.408158\n",
       "5070    0.015996\n",
       "5071    0.025931\n",
       "5072    0.003344\n",
       "Name: Frecuency Actual del Cliente, Length: 5073, dtype: float64"
      ]
     },
     "execution_count": 54,
     "metadata": {},
     "output_type": "execute_result"
    }
   ],
   "source": [
    "Clientes_i_RFM['Frecuency Actual del Cliente']"
   ]
  },
  {
   "cell_type": "code",
   "execution_count": 57,
   "id": "ca83c94e",
   "metadata": {
    "collapsed": true
   },
   "outputs": [
    {
     "data": {
      "text/html": [
       "<div>\n",
       "<style scoped>\n",
       "    .dataframe tbody tr th:only-of-type {\n",
       "        vertical-align: middle;\n",
       "    }\n",
       "\n",
       "    .dataframe tbody tr th {\n",
       "        vertical-align: top;\n",
       "    }\n",
       "\n",
       "    .dataframe thead th {\n",
       "        text-align: right;\n",
       "    }\n",
       "</style>\n",
       "<table border=\"1\" class=\"dataframe\">\n",
       "  <thead>\n",
       "    <tr style=\"text-align: right;\">\n",
       "      <th></th>\n",
       "      <th>Recency Actual</th>\n",
       "      <th>Frecuency Actual del Cliente</th>\n",
       "    </tr>\n",
       "  </thead>\n",
       "  <tbody>\n",
       "    <tr>\n",
       "      <th>0</th>\n",
       "      <td>521</td>\n",
       "      <td>0.003344</td>\n",
       "    </tr>\n",
       "    <tr>\n",
       "      <th>1</th>\n",
       "      <td>0</td>\n",
       "      <td>0.201752</td>\n",
       "    </tr>\n",
       "    <tr>\n",
       "      <th>2</th>\n",
       "      <td>3</td>\n",
       "      <td>0.059365</td>\n",
       "    </tr>\n",
       "    <tr>\n",
       "      <th>3</th>\n",
       "      <td>47</td>\n",
       "      <td>0.039591</td>\n",
       "    </tr>\n",
       "    <tr>\n",
       "      <th>4</th>\n",
       "      <td>32</td>\n",
       "      <td>0.017541</td>\n",
       "    </tr>\n",
       "    <tr>\n",
       "      <th>...</th>\n",
       "      <td>...</td>\n",
       "      <td>...</td>\n",
       "    </tr>\n",
       "    <tr>\n",
       "      <th>5068</th>\n",
       "      <td>69</td>\n",
       "      <td>0.056885</td>\n",
       "    </tr>\n",
       "    <tr>\n",
       "      <th>5069</th>\n",
       "      <td>0</td>\n",
       "      <td>0.408158</td>\n",
       "    </tr>\n",
       "    <tr>\n",
       "      <th>5070</th>\n",
       "      <td>12</td>\n",
       "      <td>0.015996</td>\n",
       "    </tr>\n",
       "    <tr>\n",
       "      <th>5071</th>\n",
       "      <td>118</td>\n",
       "      <td>0.025931</td>\n",
       "    </tr>\n",
       "    <tr>\n",
       "      <th>5072</th>\n",
       "      <td>465</td>\n",
       "      <td>0.003344</td>\n",
       "    </tr>\n",
       "  </tbody>\n",
       "</table>\n",
       "<p>5073 rows × 2 columns</p>\n",
       "</div>"
      ],
      "text/plain": [
       "      Recency Actual  Frecuency Actual del Cliente\n",
       "0                521                      0.003344\n",
       "1                  0                      0.201752\n",
       "2                  3                      0.059365\n",
       "3                 47                      0.039591\n",
       "4                 32                      0.017541\n",
       "...              ...                           ...\n",
       "5068              69                      0.056885\n",
       "5069               0                      0.408158\n",
       "5070              12                      0.015996\n",
       "5071             118                      0.025931\n",
       "5072             465                      0.003344\n",
       "\n",
       "[5073 rows x 2 columns]"
      ]
     },
     "execution_count": 57,
     "metadata": {},
     "output_type": "execute_result"
    }
   ],
   "source": [
    "Clientes_i_RFM[Dic_col['RFM Customers'][:2]]"
   ]
  },
  {
   "cell_type": "code",
   "execution_count": 58,
   "id": "3bfb0d0b",
   "metadata": {
    "collapsed": true
   },
   "outputs": [
    {
     "data": {
      "text/html": [
       "<div>\n",
       "<style scoped>\n",
       "    .dataframe tbody tr th:only-of-type {\n",
       "        vertical-align: middle;\n",
       "    }\n",
       "\n",
       "    .dataframe tbody tr th {\n",
       "        vertical-align: top;\n",
       "    }\n",
       "\n",
       "    .dataframe thead th {\n",
       "        text-align: right;\n",
       "    }\n",
       "</style>\n",
       "<table border=\"1\" class=\"dataframe\">\n",
       "  <thead>\n",
       "    <tr style=\"text-align: right;\">\n",
       "      <th></th>\n",
       "      <th>Cliente</th>\n",
       "      <th>Frecuency Promedio Cliente</th>\n",
       "    </tr>\n",
       "  </thead>\n",
       "  <tbody>\n",
       "    <tr>\n",
       "      <th>0</th>\n",
       "      <td>10003742</td>\n",
       "      <td>1.000000</td>\n",
       "    </tr>\n",
       "    <tr>\n",
       "      <th>1</th>\n",
       "      <td>10007508</td>\n",
       "      <td>0.153281</td>\n",
       "    </tr>\n",
       "    <tr>\n",
       "      <th>2</th>\n",
       "      <td>10017269</td>\n",
       "      <td>0.071922</td>\n",
       "    </tr>\n",
       "    <tr>\n",
       "      <th>3</th>\n",
       "      <td>10023880</td>\n",
       "      <td>0.102112</td>\n",
       "    </tr>\n",
       "    <tr>\n",
       "      <th>4</th>\n",
       "      <td>10028999</td>\n",
       "      <td>0.095970</td>\n",
       "    </tr>\n",
       "    <tr>\n",
       "      <th>...</th>\n",
       "      <td>...</td>\n",
       "      <td>...</td>\n",
       "    </tr>\n",
       "    <tr>\n",
       "      <th>5068</th>\n",
       "      <td>9992154</td>\n",
       "      <td>0.083190</td>\n",
       "    </tr>\n",
       "    <tr>\n",
       "      <th>5069</th>\n",
       "      <td>9993925</td>\n",
       "      <td>0.401797</td>\n",
       "    </tr>\n",
       "    <tr>\n",
       "      <th>5070</th>\n",
       "      <td>9994662</td>\n",
       "      <td>0.113101</td>\n",
       "    </tr>\n",
       "    <tr>\n",
       "      <th>5071</th>\n",
       "      <td>9994800</td>\n",
       "      <td>0.351509</td>\n",
       "    </tr>\n",
       "    <tr>\n",
       "      <th>5072</th>\n",
       "      <td>9997223</td>\n",
       "      <td>1.000000</td>\n",
       "    </tr>\n",
       "  </tbody>\n",
       "</table>\n",
       "<p>5073 rows × 2 columns</p>\n",
       "</div>"
      ],
      "text/plain": [
       "       Cliente  Frecuency Promedio Cliente\n",
       "0     10003742                    1.000000\n",
       "1     10007508                    0.153281\n",
       "2     10017269                    0.071922\n",
       "3     10023880                    0.102112\n",
       "4     10028999                    0.095970\n",
       "...        ...                         ...\n",
       "5068   9992154                    0.083190\n",
       "5069   9993925                    0.401797\n",
       "5070   9994662                    0.113101\n",
       "5071   9994800                    0.351509\n",
       "5072   9997223                    1.000000\n",
       "\n",
       "[5073 rows x 2 columns]"
      ]
     },
     "execution_count": 58,
     "metadata": {},
     "output_type": "execute_result"
    }
   ],
   "source": [
    "df_F_row_Promedio"
   ]
  },
  {
   "cell_type": "code",
   "execution_count": 97,
   "id": "f9b64939",
   "metadata": {},
   "outputs": [],
   "source": [
    "list_df=[Clientes_i_RFM\n",
    "\n",
    "         ,data_i_F\n",
    "\n",
    "         ,df_F_row_Promedio\n",
    "        ]\n",
    "\n",
    "list_Xcol=['Frecuency Actual del Cliente'\n",
    "\n",
    "             ,'Frecuency_Row'\n",
    "\n",
    "            ,'Frecuency Promedio Cliente'\n",
    "            ]\n",
    "\n",
    "\n",
    "List_Colores=['#1F77B4', '#DB6061','#57DB5F']\n",
    "\n",
    "List_Title=['$F^{-1}$  actual del Cliente'\n",
    "\n",
    "             ,'$F^{-1}$  Facturas'\n",
    "\n",
    "            ,'$F^{-1}$  Promedio del Cliente'\n",
    "            ]"
   ]
  },
  {
   "cell_type": "markdown",
   "id": "831a145b",
   "metadata": {},
   "source": [
    "###### Cantidad de datos"
   ]
  },
  {
   "cell_type": "code",
   "execution_count": 110,
   "id": "315aea99",
   "metadata": {
    "scrolled": true
   },
   "outputs": [
    {
     "data": {
      "image/png": "[encoded data removed]",
      "text/plain": [
       "<Figure size 300x300 with 1 Axes>"
      ]
     },
     "metadata": {},
     "output_type": "display_data"
    },
    {
     "data": {
      "image/png": "[encoded data removed]",
      "text/plain": [
       "<Figure size 300x300 with 1 Axes>"
      ]
     },
     "metadata": {},
     "output_type": "display_data"
    },
    {
     "data": {
      "image/png": "[encoded data removed]",
      "text/plain": [
       "<Figure size 300x300 with 1 Axes>"
      ]
     },
     "metadata": {},
     "output_type": "display_data"
    },
    {
     "data": {
      "text/plain": [
       "[<ggplot: (151540019453)>, <ggplot: (151540037066)>, <ggplot: (151540039674)>]"
      ]
     },
     "execution_count": 110,
     "metadata": {},
     "output_type": "execute_result"
    }
   ],
   "source": [
    "List_G_F1=[]\n",
    "for i in range(len(list_df)):\n",
    "    df_i=list_df[i].copy()\n",
    "    df_i[(list_Xcol[i])]=\\\n",
    "    df_i[(list_Xcol[i])].apply(lambda x: x**(-1))\n",
    "    List_G_F1.append(\n",
    "    \n",
    "    ggplot(\n",
    "    df_i\n",
    "    ,aes(x= (list_Xcol[i])\n",
    "        \n",
    "        ))\n",
    "    \n",
    "    +geom_histogram(fill=List_Colores\n",
    "                    [i],bins=30,alpha=1)\n",
    "#      +scale_x_discrete(breaks= range(0,1100))\n",
    "    \n",
    "      +xlab('Intervalo promedio (Días)')\n",
    "        +ylab('Cantidad  de '+['Clientes','Facturaciones','Clientes'][i])\n",
    "    \n",
    "     +ggtitle(List_Title[i])\n",
    "        \n",
    "    +theme(#axis_text_x = element_text(angle=90, hjust=1),\n",
    "       figure_size=(3,3),\n",
    "        axis_title_x=element_text(size = 10),\n",
    "        axis_title_y=element_text(size = 10),\n",
    "        title=element_text(size = 12))\n",
    "\n",
    "    )\n",
    "#len(list_df)\n",
    "List_G_F1"
   ]
  },
  {
   "cell_type": "markdown",
   "id": "bad6a971",
   "metadata": {},
   "source": [
    "###### Porcentaje "
   ]
  },
  {
   "cell_type": "code",
   "execution_count": 62,
   "id": "92a31d05",
   "metadata": {},
   "outputs": [],
   "source": [
    "from mizani.formatters import percent_format"
   ]
  },
  {
   "cell_type": "code",
   "execution_count": 104,
   "id": "13c5a073",
   "metadata": {
    "scrolled": true
   },
   "outputs": [
    {
     "data": {
      "image/png": "[encoded data removed]",
      "text/plain": [
       "<Figure size 300x300 with 1 Axes>"
      ]
     },
     "metadata": {},
     "output_type": "display_data"
    },
    {
     "data": {
      "image/png": "[encoded data removed]",
      "text/plain": [
       "<Figure size 300x300 with 1 Axes>"
      ]
     },
     "metadata": {},
     "output_type": "display_data"
    },
    {
     "data": {
      "image/png": "[encoded data removed]",
      "text/plain": [
       "<Figure size 300x300 with 1 Axes>"
      ]
     },
     "metadata": {},
     "output_type": "display_data"
    },
    {
     "data": {
      "text/plain": [
       "[<ggplot: (151553511958)>, <ggplot: (151566768011)>, <ggplot: (151575041726)>]"
      ]
     },
     "execution_count": 104,
     "metadata": {},
     "output_type": "execute_result"
    }
   ],
   "source": [
    "List_Graph_histo_Porcj_F1=[]\n",
    "for i in range(len(list_df)):\n",
    "    df_i=list_df[i].copy()\n",
    "    df_i[(list_Xcol[i])]=\\\n",
    "    df_i[(list_Xcol[i])].apply(lambda x: x**(-1))\n",
    "    #len(list_df)\n",
    "    List_Graph_histo_Porcj_F1.append(\n",
    "    \n",
    "        ggplot(\n",
    "        df_i\n",
    "        ,aes(x= (list_Xcol[i])\n",
    "            ,y=after_stat('width*density')\n",
    "            ))\n",
    "\n",
    "        +geom_histogram(fill=List_Colores\n",
    "                        [i],bins=30,alpha=1)\n",
    "    #      +scale_x_discrete(breaks= range(0,1100))\n",
    "        + scale_y_continuous(labels=percent_format()) # display labels as a percentage\n",
    "        +xlab('Intervalo promedio (Días)')\n",
    "        +ylab('Porcentaje  de '+['Clientes','Facturaciones','Clientes'][i])\n",
    "        +ggtitle(List_Title[i])\n",
    "\n",
    "        +theme(#axis_text_x = element_text(angle=90, hjust=1),\n",
    "               figure_size=(3,3),\n",
    "                axis_title_x=element_text(size = 10),\n",
    "                axis_title_y=element_text(size = 10),\n",
    "                title=element_text(size = 12)\n",
    "\n",
    "        )#theme\n",
    "\n",
    "\n",
    "    #     +scale_x_continuous(breaks =range(0,1750,250))\n",
    "\n",
    "            )#append\n",
    "    \n",
    "List_Graph_histo_Porcj_F1"
   ]
  },
  {
   "cell_type": "markdown",
   "id": "48e1b3db",
   "metadata": {},
   "source": [
    "#### Save pdf /png "
   ]
  },
  {
   "cell_type": "markdown",
   "id": "2034239e",
   "metadata": {},
   "source": [
    "##### PNG "
   ]
  },
  {
   "cell_type": "code",
   "execution_count": 105,
   "id": "edb5ea69",
   "metadata": {},
   "outputs": [
    {
     "data": {
      "text/plain": [
       "['$F^{-1}$  actual del Cliente',\n",
       " '$F^{-1}$  Facturas',\n",
       " '$F^{-1}$  Promedio del Cliente']"
      ]
     },
     "execution_count": 105,
     "metadata": {},
     "output_type": "execute_result"
    }
   ],
   "source": [
    "List_Title"
   ]
  },
  {
   "cell_type": "markdown",
   "id": "2c9344e0",
   "metadata": {},
   "source": [
    "```python\n",
    "j=0\n",
    "for i in List_Title:\n",
    "    G_Lista=List_Graph_histo_Porcj_F1\n",
    "    file_name=('Histograma ('+ i +') del Canal_Tradic_ sobre el '+Y_producto)\n",
    "    \n",
    "    pngfill= Png_file_direct_Graphic_Canal_Material+\"\\\\RFM\"\n",
    "    \n",
    "    \n",
    "    print('-----------\\n Nombre del archivo \\n',\n",
    "          file_name,\n",
    "          '\\n Dirección \\n',pngfill)\n",
    "    ggsave(plot = G_Lista[j]\n",
    "       ,filename = file_name, \n",
    "       path =pngfill\n",
    "      ,dpi = 300\n",
    "      )\n",
    "    j+=1\n",
    "```"
   ]
  },
  {
   "cell_type": "code",
   "execution_count": 106,
   "id": "f6c09f01",
   "metadata": {},
   "outputs": [
    {
     "name": "stderr",
     "output_type": "stream",
     "text": [
      "C:\\Users\\user\\anaconda3\\lib\\site-packages\\plotnine\\ggplot.py:820: PlotnineWarning: Filename: C:\\Users\\user\\Documents\\Graficos\\Canal Tradicional\\1010078\\RFM\\Histogramas (F-1) del Canal_Tradic_ sobre el 1010078.pdf\n"
     ]
    },
    {
     "name": "stdout",
     "output_type": "stream",
     "text": [
      "Time Lapsed = 0:0:0.96091628074646 \n",
      " H:m:s\n"
     ]
    }
   ],
   "source": [
    "#  ```python\n",
    "#============================\n",
    "#\n",
    "#============================\n",
    "file_name=('Histogramas (F-1) del Canal_Tradic_ sobre el '+Y_producto)\n",
    "    \n",
    "pngfill= Png_file_direct_Graphic_Canal_Material+\"\\\\RFM\"\n",
    "\n",
    "start_time = time.time()\n",
    "save_as_pdf_pages(\n",
    "                    List_Graph_histo_Porcj_F1\n",
    "                    ,pngfill \n",
    "            +\"\\\\\"+ file_name + \".pdf\")\n",
    "time_convert(time.time()-start_time)\n",
    "#  ```"
   ]
  },
  {
   "cell_type": "code",
   "execution_count": null,
   "id": "593628b2",
   "metadata": {},
   "outputs": [],
   "source": []
  }
 ],
 "metadata": {
  "celltoolbar": "Raw Cell Format",
  "kernelspec": {
   "display_name": "Python 3",
   "language": "python",
   "name": "python3"
  },
  "language_info": {
   "codemirror_mode": {
    "name": "ipython",
    "version": 3
   },
   "file_extension": ".py",
   "mimetype": "text/x-python",
   "name": "python",
   "nbconvert_exporter": "python",
   "pygments_lexer": "ipython3",
   "version": "3.8.5"
  },
  "toc": {
   "base_numbering": 1,
   "nav_menu": {
    "height": "89px",
    "width": "334px"
   },
   "number_sections": true,
   "sideBar": true,
   "skip_h1_title": false,
   "title_cell": "Table of Contents",
   "title_sidebar": "Contents",
   "toc_cell": false,
   "toc_position": {
    "height": "calc(100% - 180px)",
    "left": "10px",
    "top": "150px",
    "width": "370.047px"
   },
   "toc_section_display": true,
   "toc_window_display": true
  }
 },
 "nbformat": 4,
 "nbformat_minor": 5
}
