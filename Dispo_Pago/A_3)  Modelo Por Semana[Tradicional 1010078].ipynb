{
 "cells": [
  {
   "cell_type": "code",
   "execution_count": 1,
   "id": "aa7a547e",
   "metadata": {},
   "outputs": [],
   "source": [
    "#!jt -l\n",
    "# !jt -t oceans16 -T\n",
    "# !jt -r"
   ]
  },
  {
   "cell_type": "markdown",
   "id": "37df9336",
   "metadata": {
    "heading_collapsed": true
   },
   "source": [
    "## Listado de cosas pendientes\n"
   ]
  },
  {
   "cell_type": "markdown",
   "id": "8e317dae",
   "metadata": {
    "hidden": true
   },
   "source": [
    "1. [X] Data week Semana\n",
    "2. [ ] Construcción modelo matematico \n",
    "    - [ ] Un modelo por cada week tipe\n",
    "    - [X] Modelo que reemplza W por $C_W$\n",
    "3. [ ] Un modelo por cada week type\n",
    "4. [ ] Modelo que reemplza W por $C_W$\n",
    "5. [ ] Ajuste facil de $\\ln(P)$, $\\ln(Q)$ a $P$, $Q$  \n",
    "5. [ ] Valoración del producto\n",
    "    - [ ] Variación porcentual:\n",
    "        $ \\% \\triangle \\text{Valoración} :=  \\dfrac{Precio_{real} - Precio_{Estimado}}{Precio_{Estimado}}$ \n",
    "    - [ ] Variación escalar: \n",
    "        $\\triangle \\text{Valoración} := Precio_{real} - Precio_{Estimado}$ \n",
    "6. [ ] Grafica de dispersión de los puntos\n",
    "    - [X] Color equivalente a la Valoración\n",
    "    - [ ] Una grafica por Semana\n",
    "    - [X] Recta representado el valor corespondiente a la realción P/Q"
   ]
  },
  {
   "cell_type": "markdown",
   "id": "fdbbd092",
   "metadata": {
    "hidden": true
   },
   "source": []
  },
  {
   "cell_type": "markdown",
   "id": "21ed6134",
   "metadata": {
    "heading_collapsed": true
   },
   "source": [
    "## Apuntes\n"
   ]
  },
  {
   "cell_type": "markdown",
   "id": "e05ad59c",
   "metadata": {
    "hidden": true
   },
   "source": [
    "La disposicipon de pago, se construye por etapas.\n",
    "\n",
    "1. [ ] Se define el modelo de regresión general:\n",
    "   1. [ ] Como forma introductoria **qué es** (Ecuación).\n",
    "   2. [ ] Se presenta un rago de precios para este modelo de regresión, por medio de un grafico de dispersión.\n",
    "   3. [ ] Explicación de lo que representan los coeficientes del modelo.\n",
    "   4. [ ] Diferencias entre la interpretación de estos si es Log()/Nivel.\n",
    "2. [ ] Se recoge el atributo del modelo llamado Semanas, estas Poseen la particularidad de influir en el precio, como se mencionó anteriormente, es por ello que se adieren en el modelo.\n",
    "3. [ ] Las semanas."
   ]
  },
  {
   "cell_type": "markdown",
   "id": "48cc505f",
   "metadata": {
    "heading_collapsed": true
   },
   "source": [
    "# Inicio\n"
   ]
  },
  {
   "cell_type": "markdown",
   "id": "7c2a8234",
   "metadata": {
    "hidden": true
   },
   "source": [
    "\n",
    "__Rename__\n",
    "Recordar que la columna llamada\n",
    "\n",
    "- `Precio promedio` ahora es `Precio`\n",
    "- `Centro.1` ahora es `Centro`\n",
    "- `Centro` ahora es `Centro_Cod`\n",
    "\n",
    "Presenta los parametros del modelo:\n",
    "\n",
    "- Dirección datos\n",
    "- Dirección Graficos\n",
    "- _Material a analizar_\n",
    "- _Canal a analizar_\n",
    "- _Zona de los Datos_\n",
    "- _Año de inicio de analizis_\n",
    "\n",
    "Base de datos\n",
    "\n",
    "\n",
    "`Tipo_de_Cliente`\n",
    "`Y_producto`\n",
    "`Año_inicio`\n",
    "\n",
    "`file_direct_Graphic` "
   ]
  },
  {
   "cell_type": "markdown",
   "id": "8bad43fc",
   "metadata": {
    "hidden": true
   },
   "source": [
    "## Parametros \n",
    "data frame `data_i`\n",
    "\n",
    "\n",
    "> - Producto `i_producto = Y_producto`\n",
    "> -Para el Canal `Tipo_de_Cliente`\n",
    "> -Variable a predecir/Grafico `Y_Variable`\n",
    "\n",
    "Columnas de interes para predecir `X_col`\n",
    "\n",
    "Diccionario del grupo de columnas `Dic_col`"
   ]
  },
  {
   "cell_type": "code",
   "execution_count": 2,
   "id": "a0737e98",
   "metadata": {
    "hidden": true
   },
   "outputs": [],
   "source": [
    "#===================================\n",
    "# Archivo\n",
    "#===================================\n",
    "Zona_df='Z001'\n",
    "\n",
    "#===================================\n",
    "# Clientes\n",
    "#===================================\n",
    "Tipo_de_Cliente='Tradicional'\n",
    "\n",
    "#===================================\n",
    "# Producto de interes\n",
    "#===================================\n",
    "Y_producto='1010078'\n",
    "\n",
    "\n",
    "#===================================\n",
    "# Año de Partida\n",
    "#===================================\n",
    "Año_inicio='2018'\n",
    "\n",
    "\n",
    "\n",
    "\n",
    "# Ordenador de escritorio\n",
    "\n",
    "file_direct_O=\"C:/Users/user/Documents/Data/Data Clear/\"+Zona_df+\"/\"\n",
    "file_direct_Clear=\"C:/Users/user/Documents/Data/Data Clear/\"\n",
    "file_direct_Graphic='C:/Users/user/Documents/Graficos'\n",
    "Png_file_direct_Graphic=\"C:\\\\Users\\\\user\\\\Documents\\\\Graficos\"\n",
    "\"\"\"\n",
    "\n",
    "#Notebook\n",
    "file_direct_O=\"C:/Users/rolft/Documents/Repositorios/Data/Data Clear/\"+Zona_df+\"/\"\n",
    "file_direct_Clear=\"C:/Users/rolft/Documents/Repositorios/Data/Data Clear/\"\n",
    "file_direct_Graphic='C:/Users/rolft/Documents/Repositorios/Graficos'\n",
    "Png_file_direct_Graphic='C:\\\\Users\\\\rolft\\\\Documents\\\\Repositorios\\\\Graficos'\n",
    "\"\"\"\n",
    "#Graficos\n",
    "file_direct_Graphic_Canal=file_direct_Graphic+\"/\"+Tipo_de_Cliente\n",
    "file_direct_Graphic_Canal_Material=file_direct_Graphic_Canal+'/'+Y_producto\n",
    "\n",
    "Png_file_direct_Graphic_Canal=Png_file_direct_Graphic+'\\\\'+'Canal '+Tipo_de_Cliente\n",
    "Png_file_direct_Graphic_Canal_Material=Png_file_direct_Graphic_Canal+'\\\\'+Y_producto\n"
   ]
  },
  {
   "cell_type": "markdown",
   "id": "f80e374d",
   "metadata": {
    "hidden": true
   },
   "source": [
    "## Intalar paquetes, Abrir data y ajustarla "
   ]
  },
  {
   "cell_type": "markdown",
   "id": "6a7c4706",
   "metadata": {
    "hidden": true
   },
   "source": [
    "### import"
   ]
  },
  {
   "cell_type": "code",
   "execution_count": 3,
   "id": "faaa036d",
   "metadata": {
    "hidden": true,
    "scrolled": true
   },
   "outputs": [],
   "source": [
    "#from adjustText import adjust_text\n",
    "# from adjustText import *"
   ]
  },
  {
   "cell_type": "code",
   "execution_count": 4,
   "id": "0ea91ad7",
   "metadata": {
    "hidden": true
   },
   "outputs": [],
   "source": [
    "#=====================================================\n",
    "                # BASE \n",
    "#-----------------------------------------------------\n",
    "import pandas as pd\n",
    "import numpy as np\n",
    "import matplotlib.pyplot as plt\n",
    "\n",
    "#from geopandas import *\n",
    "\n",
    "from plotnine import *\n",
    "\n",
    "#para ajustar las fechas\n",
    "import datetime\n",
    "\n",
    "#para calcular el skew de un array() o list()\n",
    "from scipy.stats import skew "
   ]
  },
  {
   "cell_type": "code",
   "execution_count": 5,
   "id": "8916d4cd",
   "metadata": {
    "hidden": true
   },
   "outputs": [],
   "source": [
    "#=====================================================\n",
    "                # sklearn \n",
    "#-----------------------------------------------------\n",
    "\n",
    "#Separador de datos en train/test\n",
    "from sklearn.model_selection import train_test_split\n",
    "\n",
    "#Prediccion Ridge Regression\n",
    "from sklearn.linear_model import Ridge"
   ]
  },
  {
   "cell_type": "code",
   "execution_count": 6,
   "id": "8d82be85",
   "metadata": {
    "hidden": true
   },
   "outputs": [],
   "source": [
    "#=====================================================\n",
    "                # statsmodels \n",
    "#-----------------------------------------------------\n",
    "import statsmodels.api as sm\n",
    "import statsmodels.formula.api as smf\n",
    "from statsmodels.tools.sm_exceptions import ConvergenceWarning\n",
    "\n",
    "\n",
    "#from statsmodels.regression.mixed_linear_model import MixedLMResults\n",
    "# No se para qué sirve este"
   ]
  },
  {
   "cell_type": "code",
   "execution_count": 7,
   "id": "734ff701",
   "metadata": {
    "hidden": true
   },
   "outputs": [],
   "source": [
    "#====================================================\n",
    "#librerias para crear division de series temporales\n",
    "#====================================================\n",
    "\n",
    "from mizani.breaks import date_breaks\n",
    "from mizani.formatters import date_format"
   ]
  },
  {
   "cell_type": "code",
   "execution_count": 8,
   "id": "34160d20",
   "metadata": {
    "hidden": true
   },
   "outputs": [],
   "source": [
    "# stopwatch\n",
    "import time\n",
    "def time_convert(sec):\n",
    "  mins = sec // 60\n",
    "  sec = sec % 60\n",
    "  hours = mins // 60\n",
    "  mins = mins % 60\n",
    "  print(\"Time Lapsed = {0}:{1}:{2}\".format(int(hours),int(mins),sec),'\\n H:m:s')\n",
    "#==================================\n",
    "#          Example\n",
    "#    input(\"Press Enter to start\")\n",
    "start_time = time.time()\n",
    "#    input(\"Press Enter to stop\")\n",
    "#    end_time = time.time()\n",
    "#    time_lapsed = end_time - start_time\n",
    "#    time_convert(time_lapsed)\n",
    "#================================="
   ]
  },
  {
   "cell_type": "code",
   "execution_count": 9,
   "id": "b400675d",
   "metadata": {
    "hidden": true
   },
   "outputs": [],
   "source": [
    "#Histograma con porcentajes\n",
    "from mizani.formatters import percent_format"
   ]
  },
  {
   "cell_type": "markdown",
   "id": "0e0194b5",
   "metadata": {
    "hidden": true
   },
   "source": [
    "### Funciones \n",
    "```python\n",
    "#Mes_name\n",
    "data_i.Mes.apply(Mes_name)\n",
    "```\n",
    ">Transforma la columna mes numerica en el nombre del mes"
   ]
  },
  {
   "cell_type": "markdown",
   "id": "76bc8afd",
   "metadata": {
    "hidden": true
   },
   "source": [
    "__Forma de crear una etiqueta para un valor especifico__\n",
    "```python\n",
    "#[Y_Graph]\n",
    "dfz=df.copy()\n",
    "dfz['Año select']=dfz.apply( lambda x: x['Año'] if x['Año']==2020 else '',axis=1)\n",
    "dfz\n",
    "```"
   ]
  },
  {
   "cell_type": "code",
   "execution_count": 10,
   "id": "ad8627c9",
   "metadata": {
    "hidden": true
   },
   "outputs": [],
   "source": [
    "#===================================\n",
    "# Dicionario MES\n",
    "#===================================\n",
    "\n",
    "#===================================\n",
    "# Fecha\n",
    "D=['Enero','Febrero','Marzo','Abril',\n",
    " 'Mayo','Junio','Julio','Agosto',\n",
    " 'Septiembre','Octubre',\n",
    " 'Noviembre','Diciembre']\n",
    "Month_dic={i:D[i-1]  for i in range(1,13)}\n",
    "#===========================================\n",
    "\n",
    "\n",
    "def Mes_name(x):\n",
    "    D=['Enero','Febrero','Marzo','Abril',\n",
    "    'Mayo','Junio','Julio','Agosto',\n",
    "    'Septiembre','Octubre',\n",
    "    'Noviembre','Diciembre']\n",
    "    return(D[int(x)-1])"
   ]
  },
  {
   "cell_type": "markdown",
   "id": "b646c867",
   "metadata": {
    "hidden": true
   },
   "source": [
    "## Dicionario \n",
    "rename aplicado a `Precio promedio`"
   ]
  },
  {
   "cell_type": "code",
   "execution_count": 11,
   "id": "4a726445",
   "metadata": {
    "hidden": true
   },
   "outputs": [],
   "source": [
    "Dic_col={'Base':\n",
    "                             ['Material (Nombre)', 'Kilos Venta KG', 'Precio','Cliente'],\n",
    "        'Fecha':\n",
    "                             ['Día natural','Día Semana','Semana', 'Mes', 'Año'],\n",
    "        'Ubicacion':\n",
    "                             ['Centro','Población'],\n",
    "        'Cliente Categoria':\n",
    "                             ['Cluster','Segmento.1', 'Categoría Cliente'],\n",
    "        'Cliente Atributos':\n",
    "                             ['Año Creación', 'Material Favorito','Frecuencia Historica'] \n",
    "         ,'RFM Row':\n",
    "                 ['Recency días','Frecuency_Row','Monetary']\n",
    "        ,'RFM Customers':\n",
    "                 ['Recency Actual','Frecuency Actual del Cliente','Monetary Actual']\n",
    "        ,'Ticket Row':\n",
    "                 ['Ticket Promedio','Ticket CV']\n",
    "        ,'Ticket Customers':\n",
    "                 ['Ticket Promedio Actual','Ticket CV Actual']\n",
    "        }"
   ]
  },
  {
   "cell_type": "markdown",
   "id": "38e12a83",
   "metadata": {
    "hidden": true
   },
   "source": [
    "### Colores "
   ]
  },
  {
   "cell_type": "code",
   "execution_count": 12,
   "id": "dbbf1e78",
   "metadata": {
    "hidden": true
   },
   "outputs": [
    {
     "data": {
      "text/plain": [
       "'57DB5F'"
      ]
     },
     "execution_count": 12,
     "metadata": {},
     "output_type": "execute_result"
    }
   ],
   "source": [
    "('{:X}{:X}{:X}').format(31, 119, 180)\n",
    "('{:X}{:X}{:X}').format(219, 96, 97)\n",
    "('{:X}{:X}{:X}').format(87, 219, 95)"
   ]
  },
  {
   "cell_type": "markdown",
   "id": "f5e71982",
   "metadata": {
    "hidden": true
   },
   "source": [
    "## Datos\n",
    "- `data_i_RFM`: Facturaciones \n",
    "- `Clientes_i_RFM`: RFM Clientes \n",
    "- `Df_Week`: Semanas, Con su respectivo cluster "
   ]
  },
  {
   "cell_type": "markdown",
   "id": "86c853d2",
   "metadata": {
    "hidden": true
   },
   "source": [
    "### Abrir Archivo   Facturaciones\n"
   ]
  },
  {
   "cell_type": "markdown",
   "id": "25619431",
   "metadata": {
    "hidden": true
   },
   "source": [
    "Se debe agregar el parametro `,index_col='Unnamed: 0'` de esta froma tal vez se pueda hacer un merge en base al indice"
   ]
  },
  {
   "cell_type": "markdown",
   "id": "3526e76a",
   "metadata": {
    "hidden": true
   },
   "source": [
    "##### Formación Datos"
   ]
  },
  {
   "cell_type": "markdown",
   "id": "95f2dd83",
   "metadata": {
    "hidden": true
   },
   "source": [
    "###### Abrir csvs "
   ]
  },
  {
   "cell_type": "code",
   "execution_count": 13,
   "id": "aea237e7",
   "metadata": {
    "hidden": true
   },
   "outputs": [
    {
     "name": "stdout",
     "output_type": "stream",
     "text": [
      "R (198596, 19)\n",
      "F (198596, 19)\n",
      "M (198596, 20)\n"
     ]
    }
   ],
   "source": [
    "#======================================================================\n",
    "# R\n",
    "#=====================================================================\n",
    "\n",
    "file_direct=file_direct_O+'data_1010078_CT R'+'.csv'\n",
    "col_names=pd.read_csv(file_direct,\n",
    "                      encoding=\"utf-8\",sep=\";\",nrows=0).columns\n",
    "\n",
    "types_dict = {col: str for col in list(col_names)}\n",
    "\n",
    "data_i_R = pd.read_csv(file_direct,\n",
    "                   encoding=\"utf-8\",sep=\";\",dtype=types_dict\n",
    "                      ,index_col='Unnamed: 0'\n",
    "                      )\n",
    "\n",
    "# Se debe agregar el parametro ,index_col='Unnamed: 0' \n",
    "# de esta froma tal vez se pueda hacer un merge en base al indice\n",
    "\n",
    "#elimina una columna en especifico\n",
    "#DF_FULL.drop('Año natural', inplace=True, axis=1)\n",
    "print('R',data_i_R.shape)\n",
    "\n",
    "\n",
    "#======================================================================\n",
    "# F\n",
    "#=====================================================================\n",
    "\n",
    "file_direct=file_direct_O+'data_1010078_CT F'+'.csv'\n",
    "col_names=pd.read_csv(file_direct,\n",
    "                      encoding=\"utf-8\",sep=\";\",nrows=0).columns\n",
    "\n",
    "types_dict = {col: str for col in list(col_names)}\n",
    "\n",
    "data_i_F = pd.read_csv(file_direct,\n",
    "                   encoding=\"utf-8\",sep=\";\",dtype=types_dict\n",
    "                      ,index_col='Unnamed: 0'\n",
    "                      )\n",
    "\n",
    "# Se debe agregar el parametro ,index_col='Unnamed: 0' \n",
    "# de esta froma tal vez se pueda hacer un merge en base al indice\n",
    "\n",
    "#elimina una columna en especifico\n",
    "#DF_FULL.drop('Año natural', inplace=True, axis=1)\n",
    "print('F',data_i_F.shape)\n",
    "#======================================================================\n",
    "# M\n",
    "#=====================================================================\n",
    "\n",
    "file_direct=file_direct_O+'data_1010078_CT M'+'.csv'\n",
    "col_names=pd.read_csv(file_direct,\n",
    "                      encoding=\"utf-8\",sep=\";\",nrows=0).columns\n",
    "\n",
    "types_dict = {col: str for col in list(col_names)}\n",
    "\n",
    "data_i_M = pd.read_csv(file_direct,\n",
    "                   encoding=\"utf-8\",sep=\";\",dtype=types_dict\n",
    "                      ,index_col='Unnamed: 0'\n",
    "                      )\n",
    "\n",
    "# Se debe agregar el parametro ,index_col='Unnamed: 0' \n",
    "# de esta froma tal vez se pueda hacer un merge en base al indice\n",
    "\n",
    "#elimina una columna en especifico\n",
    "#DF_FULL.drop('Año natural', inplace=True, axis=1)\n",
    "print('M',data_i_M.shape)\n",
    "\n"
   ]
  },
  {
   "cell_type": "markdown",
   "id": "2eab72c4",
   "metadata": {
    "hidden": true
   },
   "source": [
    "###### Merge "
   ]
  },
  {
   "cell_type": "code",
   "execution_count": 14,
   "id": "cfcc9d6f",
   "metadata": {
    "hidden": true
   },
   "outputs": [
    {
     "name": "stdout",
     "output_type": "stream",
     "text": [
      "RF (198596, 20)\n",
      "RFM (198596, 22)\n"
     ]
    }
   ],
   "source": [
    "#======================================================================\n",
    "# RFM\n",
    "#=====================================================================\n",
    "\n",
    "print('RF',(pd.merge(data_i_R,data_i_F )).shape)\n",
    "\n",
    "print('RFM',pd.merge(pd.merge(data_i_R,\n",
    "                              data_i_F ) ,\n",
    "                    data_i_M).shape)\n",
    "DATA_i_RFM = pd.merge(pd.merge(data_i_R,data_i_F ),data_i_M)\n",
    "\n",
    "del (data_i_R,data_i_F,data_i_M)"
   ]
  },
  {
   "cell_type": "markdown",
   "id": "f7c29b30",
   "metadata": {
    "hidden": true
   },
   "source": [
    "#### Funcion"
   ]
  },
  {
   "cell_type": "markdown",
   "id": "cec713b7",
   "metadata": {
    "hidden": true
   },
   "source": [
    "###### def "
   ]
  },
  {
   "cell_type": "code",
   "execution_count": 15,
   "id": "015ac527",
   "metadata": {
    "hidden": true
   },
   "outputs": [],
   "source": [
    "# =============================================================================\n",
    "# Ajustar la data\n",
    "# =============================================================================\n",
    "def Ajuste_data_RFM(data):\n",
    "    start_time = time.time()\n",
    "\n",
    "    df=data.copy()\n",
    "\n",
    "# =================================\n",
    "# ELiminare dodos los valores Nan\n",
    "# =================================\n",
    "    #for i in df.columns.to_list():\n",
    "    #    df=df[df[i].notna()]\n",
    "\n",
    "    \n",
    "    \n",
    "#=================================\n",
    "# Proceso Recency a Int \n",
    "#=================================\n",
    "        \n",
    "    df['Recency días']=df['Recency'].apply( lambda x:  x.split(' ')[0])\n",
    "    \n",
    "#=================================\n",
    "# Proceso iterativo Pasar a numero\n",
    "#=================================\n",
    "\n",
    "    for i in ['Kilos Venta KG'\n",
    "#               ,'Venta Neta'\n",
    "              ,'Precio'\n",
    "#               RFM\n",
    "              ,'Recency días'\n",
    "              ,'Frecuency_Row'\n",
    "              ,'Monetary'\n",
    "              ,'Ingreso de Venta CLP'\n",
    "             ]:\n",
    "        \n",
    "        df[i]=df[i].astype('float64').astype('int64')\n",
    "    for i in ['Kilos Venta KG'\n",
    "#               ,'Venta Neta'\n",
    "              ,'Precio'\n",
    "#               RFM\n",
    "              ,'Recency días'\n",
    "#               ,'Frecuency_Row'\n",
    "#               ,'Monetary'\n",
    "               ,'Ingreso de Venta CLP'\n",
    "             ]:\n",
    "        df[i]=df[i].astype('int64')     \n",
    "\n",
    "\n",
    "\n",
    "#==========================================================================================\n",
    "# Ajuste de las fechas\n",
    "#-----------------------------------------------------------------------------------------\n",
    "    df[\"Día natural\"] = df[\"Día natural\"].apply(lambda x: \n",
    "                                                datetime.datetime.strptime(str(x),\n",
    "                                                                           '%Y-%m-%d').date())\n",
    "    \n",
    "    #Separacion fecha\n",
    "    \n",
    "    #ELiminado de DF_FULL\n",
    "    #df['Semana']=df[\"Día natural\"].apply(lambda x: x.isocalendar()[1] )\n",
    "    #df['Mes']=df[\"Día natural\"].apply(lambda x: x.month)\n",
    "    #df['Año']=df[\"Día natural\"].apply(lambda x: x.year)\n",
    "    #df['Semana']=df['Semana'].astype('int64')\n",
    "    \n",
    "#     df['Año']=df['Año'].astype('int64')\n",
    "#     D_W=['Lunes','Martes','Miércoles','Jueves', 'Viernes','Sábado','Domingo']\n",
    "#     df['Día Semana']=df[\"Día natural\"].apply(lambda x: D_W[x.isocalendar()[2] -1])\n",
    "#     df=df[df['Día Semana']!='Domingo']\n",
    "    \n",
    "    print(df.dtypes)\n",
    "    end_time = time.time()\n",
    "    time_convert(end_time - start_time)\n",
    "    return df\n"
   ]
  },
  {
   "cell_type": "markdown",
   "id": "b8c8e6f0",
   "metadata": {
    "hidden": true
   },
   "source": [
    "###### aplicación "
   ]
  },
  {
   "cell_type": "code",
   "execution_count": 16,
   "id": "705fd67b",
   "metadata": {
    "hidden": true,
    "scrolled": true
   },
   "outputs": [
    {
     "name": "stdout",
     "output_type": "stream",
     "text": [
      "Material (Nombre)       object\n",
      "Kilos Venta KG           int64\n",
      "Precio                   int64\n",
      "Día natural             object\n",
      "Día Semana              object\n",
      "Semana                  object\n",
      "Mes                     object\n",
      "Año                     object\n",
      "Población               object\n",
      "Centro                  object\n",
      "Cliente                 object\n",
      "Cluster                 object\n",
      "Segmento.1              object\n",
      "Categoría Cliente       object\n",
      "Año Creación            object\n",
      "Material Favorito       object\n",
      "Frecuencia Historica    object\n",
      "Mes_num                 object\n",
      "Recency                 object\n",
      "Frecuency_Row            int64\n",
      "Ingreso de Venta CLP     int64\n",
      "Monetary                 int64\n",
      "Recency días             int64\n",
      "dtype: object\n",
      "Time Lapsed = 0:0:1.8261616230010986 \n",
      " H:m:s\n"
     ]
    },
    {
     "data": {
      "text/html": [
       "<div>\n",
       "<style scoped>\n",
       "    .dataframe tbody tr th:only-of-type {\n",
       "        vertical-align: middle;\n",
       "    }\n",
       "\n",
       "    .dataframe tbody tr th {\n",
       "        vertical-align: top;\n",
       "    }\n",
       "\n",
       "    .dataframe thead th {\n",
       "        text-align: right;\n",
       "    }\n",
       "</style>\n",
       "<table border=\"1\" class=\"dataframe\">\n",
       "  <thead>\n",
       "    <tr style=\"text-align: right;\">\n",
       "      <th></th>\n",
       "      <th>Material (Nombre)</th>\n",
       "      <th>Kilos Venta KG</th>\n",
       "      <th>Precio</th>\n",
       "      <th>Día natural</th>\n",
       "      <th>Día Semana</th>\n",
       "      <th>Semana</th>\n",
       "      <th>Mes</th>\n",
       "      <th>Año</th>\n",
       "      <th>Población</th>\n",
       "      <th>Centro</th>\n",
       "      <th>...</th>\n",
       "      <th>Categoría Cliente</th>\n",
       "      <th>Año Creación</th>\n",
       "      <th>Material Favorito</th>\n",
       "      <th>Frecuencia Historica</th>\n",
       "      <th>Mes_num</th>\n",
       "      <th>Recency</th>\n",
       "      <th>Frecuency_Row</th>\n",
       "      <th>Ingreso de Venta CLP</th>\n",
       "      <th>Monetary</th>\n",
       "      <th>Recency días</th>\n",
       "    </tr>\n",
       "  </thead>\n",
       "  <tbody>\n",
       "    <tr>\n",
       "      <th>0</th>\n",
       "      <td>1010078(Trutro Entero Selección)</td>\n",
       "      <td>22</td>\n",
       "      <td>1300</td>\n",
       "      <td>2020-05-23</td>\n",
       "      <td>Sábado</td>\n",
       "      <td>21</td>\n",
       "      <td>Mayo</td>\n",
       "      <td>2020</td>\n",
       "      <td>La Pintana</td>\n",
       "      <td>Sucursal Lo Espejo</td>\n",
       "      <td>...</td>\n",
       "      <td>Especialista en Proc</td>\n",
       "      <td>2007</td>\n",
       "      <td>1010077</td>\n",
       "      <td>19</td>\n",
       "      <td>5</td>\n",
       "      <td>0 days</td>\n",
       "      <td>1</td>\n",
       "      <td>28600</td>\n",
       "      <td>0</td>\n",
       "      <td>0</td>\n",
       "    </tr>\n",
       "    <tr>\n",
       "      <th>1</th>\n",
       "      <td>1010078(Trutro Entero Selección)</td>\n",
       "      <td>110</td>\n",
       "      <td>1174</td>\n",
       "      <td>2018-03-01</td>\n",
       "      <td>Jueves</td>\n",
       "      <td>9</td>\n",
       "      <td>Marzo</td>\n",
       "      <td>2018</td>\n",
       "      <td>Puente Alto</td>\n",
       "      <td>Sucursal Lo Espejo</td>\n",
       "      <td>...</td>\n",
       "      <td>Especialista en Crud</td>\n",
       "      <td>2007</td>\n",
       "      <td>1020253</td>\n",
       "      <td>464</td>\n",
       "      <td>3</td>\n",
       "      <td>0 days</td>\n",
       "      <td>1</td>\n",
       "      <td>129140</td>\n",
       "      <td>0</td>\n",
       "      <td>0</td>\n",
       "    </tr>\n",
       "  </tbody>\n",
       "</table>\n",
       "<p>2 rows × 23 columns</p>\n",
       "</div>"
      ],
      "text/plain": [
       "                  Material (Nombre)  Kilos Venta KG  Precio Día natural  \\\n",
       "0  1010078(Trutro Entero Selección)              22    1300  2020-05-23   \n",
       "1  1010078(Trutro Entero Selección)             110    1174  2018-03-01   \n",
       "\n",
       "  Día Semana Semana    Mes   Año    Población              Centro  ...  \\\n",
       "0     Sábado     21   Mayo  2020   La Pintana  Sucursal Lo Espejo  ...   \n",
       "1     Jueves      9  Marzo  2018  Puente Alto  Sucursal Lo Espejo  ...   \n",
       "\n",
       "      Categoría Cliente Año Creación Material Favorito Frecuencia Historica  \\\n",
       "0  Especialista en Proc         2007           1010077                   19   \n",
       "1  Especialista en Crud         2007           1020253                  464   \n",
       "\n",
       "  Mes_num Recency Frecuency_Row Ingreso de Venta CLP Monetary  Recency días  \n",
       "0       5  0 days             1                28600        0             0  \n",
       "1       3  0 days             1               129140        0             0  \n",
       "\n",
       "[2 rows x 23 columns]"
      ]
     },
     "execution_count": 16,
     "metadata": {},
     "output_type": "execute_result"
    }
   ],
   "source": [
    "data_i_RFM=Ajuste_data_RFM(DATA_i_RFM)\n",
    "data_i_RFM.head(2)"
   ]
  },
  {
   "cell_type": "markdown",
   "id": "f0fb8648",
   "metadata": {
    "hidden": true
   },
   "source": [
    "### Data Customers\n",
    " "
   ]
  },
  {
   "cell_type": "markdown",
   "id": "82d42145",
   "metadata": {
    "hidden": true
   },
   "source": [
    "#### Abrir Datos RFM Clientes"
   ]
  },
  {
   "cell_type": "markdown",
   "id": "d247c089",
   "metadata": {
    "hidden": true
   },
   "source": [
    "##### Abrir "
   ]
  },
  {
   "cell_type": "code",
   "execution_count": 17,
   "id": "509859b6",
   "metadata": {
    "hidden": true,
    "scrolled": true
   },
   "outputs": [
    {
     "data": {
      "text/html": [
       "<div>\n",
       "<style scoped>\n",
       "    .dataframe tbody tr th:only-of-type {\n",
       "        vertical-align: middle;\n",
       "    }\n",
       "\n",
       "    .dataframe tbody tr th {\n",
       "        vertical-align: top;\n",
       "    }\n",
       "\n",
       "    .dataframe thead th {\n",
       "        text-align: right;\n",
       "    }\n",
       "</style>\n",
       "<table border=\"1\" class=\"dataframe\">\n",
       "  <thead>\n",
       "    <tr style=\"text-align: right;\">\n",
       "      <th></th>\n",
       "      <th>Cliente</th>\n",
       "      <th>Fecha ultima Compra</th>\n",
       "      <th>Recency Actual</th>\n",
       "      <th>Fecha Creacion</th>\n",
       "      <th>Frecuency Actual del Cliente</th>\n",
       "      <th>Kilos Venta KG Promedio</th>\n",
       "      <th>Precio Promedio</th>\n",
       "      <th>Año Creación Promedio</th>\n",
       "      <th>Frecuencia Historica Promedio</th>\n",
       "      <th>Ingreso de Venta Promedio</th>\n",
       "    </tr>\n",
       "  </thead>\n",
       "  <tbody>\n",
       "    <tr>\n",
       "      <th>0</th>\n",
       "      <td>10003742</td>\n",
       "      <td>2020-05-23</td>\n",
       "      <td>521</td>\n",
       "      <td>2020-05-23</td>\n",
       "      <td>0.0033444816053511705</td>\n",
       "      <td>22.0</td>\n",
       "      <td>1300.0</td>\n",
       "      <td>2007.0</td>\n",
       "      <td>19.0</td>\n",
       "      <td>28600.0</td>\n",
       "    </tr>\n",
       "  </tbody>\n",
       "</table>\n",
       "</div>"
      ],
      "text/plain": [
       "    Cliente Fecha ultima Compra Recency Actual Fecha Creacion  \\\n",
       "0  10003742          2020-05-23            521     2020-05-23   \n",
       "\n",
       "  Frecuency Actual del Cliente Kilos Venta KG Promedio Precio Promedio  \\\n",
       "0        0.0033444816053511705                    22.0          1300.0   \n",
       "\n",
       "  Año Creación Promedio Frecuencia Historica Promedio  \\\n",
       "0                2007.0                          19.0   \n",
       "\n",
       "  Ingreso de Venta Promedio  \n",
       "0                   28600.0  "
      ]
     },
     "execution_count": 17,
     "metadata": {},
     "output_type": "execute_result"
    }
   ],
   "source": [
    "#======================================================================\n",
    "# Se Cargan los datos de ventas con las caracteristicas de los clientes\n",
    "#=====================================================================\n",
    "\n",
    "file_direct=file_direct_O+'Clientes_1010078_CT RFM'+'.csv'\n",
    "col_names=pd.read_csv(file_direct,\n",
    "                      encoding=\"utf-8\",sep=\";\",nrows=0).columns\n",
    "\n",
    "types_dict = {col: str for col in list(col_names)}\n",
    "\n",
    "Clientes_i_RFM= pd.read_csv(file_direct,\n",
    "                   encoding=\"utf-8\",sep=\";\",dtype=types_dict\n",
    "                      ,index_col='Unnamed: 0'\n",
    "                      )\n",
    "\n",
    "# Se debe agregar el parametro ,index_col='Unnamed: 0' \n",
    "# de esta froma tal vez se pueda hacer un merge en base al indice\n",
    "\n",
    "#elimina una columna en especifico\n",
    "#DF_FULL.drop('Año natural', inplace=True, axis=1)\n",
    "Clientes_i_RFM.head(1)"
   ]
  },
  {
   "cell_type": "code",
   "execution_count": 18,
   "id": "6c58c0ab",
   "metadata": {
    "hidden": true
   },
   "outputs": [
    {
     "data": {
      "text/plain": [
       "Cliente                                    10007508\n",
       "Fecha ultima Compra                      2021-10-26\n",
       "Recency Actual                                    0\n",
       "Fecha Creacion                           2018-03-01\n",
       "Frecuency Actual del Cliente     0.2017524296094161\n",
       "Kilos Venta KG Promedio           93.15865384615384\n",
       "Precio Promedio                  1266.8942307692307\n",
       "Año Creación Promedio                        2007.0\n",
       "Frecuencia Historica Promedio                 464.0\n",
       "Ingreso de Venta Promedio        117683.47115384616\n",
       "Name: 1, dtype: object"
      ]
     },
     "execution_count": 18,
     "metadata": {},
     "output_type": "execute_result"
    }
   ],
   "source": [
    "Clientes_i_RFM.iloc[1]"
   ]
  },
  {
   "cell_type": "markdown",
   "id": "a64c11a5",
   "metadata": {
    "hidden": true
   },
   "source": [
    "##### Función Ajuste "
   ]
  },
  {
   "cell_type": "markdown",
   "id": "b40b8aa1",
   "metadata": {
    "hidden": true
   },
   "source": [
    "###### def  `Ajuste_Clientes_RFM`"
   ]
  },
  {
   "cell_type": "code",
   "execution_count": 19,
   "id": "f21b77fc",
   "metadata": {
    "hidden": true
   },
   "outputs": [],
   "source": [
    "# =============================================================================\n",
    "# Ajustar la data\n",
    "# =============================================================================\n",
    "def Ajuste_Clientes_RFM(data):\n",
    "    start_time = time.time()\n",
    "    df=data.copy()\n",
    "\n",
    "# =============================================================================\n",
    "# Proceso iterativo Pasar a numero\n",
    "#------------------------------------------------------------------------------\n",
    "\n",
    "#----------------------------------------------------------------------\n",
    "# Float\n",
    "    for i in [\n",
    "            #RFM\n",
    "            'Recency Actual'\n",
    "            ,'Frecuency Actual del Cliente'\n",
    "            ,'Ingreso de Venta Promedio'\n",
    "              \n",
    "            #Val Fact\n",
    "            ,'Kilos Venta KG Promedio'\n",
    "            ,'Precio Promedio'\n",
    "            \n",
    "            # Val historicos (ind del producto)\n",
    "            ,'Año Creación Promedio'\n",
    "            ,'Frecuencia Historica Promedio'\n",
    "             ]:\n",
    "        df[i]=df[i].astype('float64')\n",
    "        #.astype('int64')\n",
    "        \n",
    "        \n",
    "#------------------------------------------------------------------------ \n",
    "    # Int\n",
    "    for i in [\n",
    "                #RFM\n",
    "                'Recency Actual'\n",
    "#                 ,'Frecuency Actual del Cliente'\n",
    "#                 ,'Ingreso de Venta Promedio'\n",
    "\n",
    "                #Val Fact\n",
    "#                 ,'Kilos Venta KG Promedio'\n",
    "#                 ,'Precio Promedio'\n",
    "\n",
    "                # Val historicos (ind del producto)\n",
    "                ,'Año Creación Promedio'\n",
    "                ,'Frecuencia Historica Promedio'\n",
    "                ]:\n",
    "        df[i]=df[i].astype('int64')\n",
    "        \n",
    "\n",
    "\n",
    "#==========================================================================================\n",
    "# Ajuste de las fechas\n",
    "#-----------------------------------------------------------------------------------------\n",
    "    for date in ['Fecha ultima Compra','Fecha Creacion']:\n",
    "        df[date] = df[date].apply(lambda x: \n",
    "                                            datetime.datetime.strptime(str(x),\n",
    "                                                                           '%Y-%m-%d').date())\n",
    "    \n",
    "    print(df.dtypes)\n",
    "    end_time = time.time()\n",
    "    time_convert(end_time - start_time)\n",
    "    return df"
   ]
  },
  {
   "cell_type": "markdown",
   "id": "59ad7552",
   "metadata": {
    "hidden": true
   },
   "source": [
    "##### Aplicación"
   ]
  },
  {
   "cell_type": "code",
   "execution_count": 20,
   "id": "92341999",
   "metadata": {
    "hidden": true,
    "scrolled": true
   },
   "outputs": [
    {
     "name": "stdout",
     "output_type": "stream",
     "text": [
      "Cliente                           object\n",
      "Fecha ultima Compra               object\n",
      "Recency Actual                     int64\n",
      "Fecha Creacion                    object\n",
      "Frecuency Actual del Cliente     float64\n",
      "Kilos Venta KG Promedio          float64\n",
      "Precio Promedio                  float64\n",
      "Año Creación Promedio              int64\n",
      "Frecuencia Historica Promedio      int64\n",
      "Ingreso de Venta Promedio        float64\n",
      "dtype: object\n",
      "Time Lapsed = 0:0:0.09108281135559082 \n",
      " H:m:s\n"
     ]
    }
   ],
   "source": [
    "Clientes_i_RFM=Ajuste_Clientes_RFM(Clientes_i_RFM)"
   ]
  },
  {
   "cell_type": "code",
   "execution_count": 21,
   "id": "a5fea17c",
   "metadata": {
    "hidden": true
   },
   "outputs": [
    {
     "data": {
      "text/html": [
       "<div>\n",
       "<style scoped>\n",
       "    .dataframe tbody tr th:only-of-type {\n",
       "        vertical-align: middle;\n",
       "    }\n",
       "\n",
       "    .dataframe tbody tr th {\n",
       "        vertical-align: top;\n",
       "    }\n",
       "\n",
       "    .dataframe thead th {\n",
       "        text-align: right;\n",
       "    }\n",
       "</style>\n",
       "<table border=\"1\" class=\"dataframe\">\n",
       "  <thead>\n",
       "    <tr style=\"text-align: right;\">\n",
       "      <th></th>\n",
       "      <th>Cliente</th>\n",
       "      <th>Fecha ultima Compra</th>\n",
       "      <th>Recency Actual</th>\n",
       "      <th>Fecha Creacion</th>\n",
       "      <th>Frecuency Actual del Cliente</th>\n",
       "      <th>Kilos Venta KG Promedio</th>\n",
       "      <th>Precio Promedio</th>\n",
       "      <th>Año Creación Promedio</th>\n",
       "      <th>Frecuencia Historica Promedio</th>\n",
       "      <th>Ingreso de Venta Promedio</th>\n",
       "    </tr>\n",
       "  </thead>\n",
       "  <tbody>\n",
       "    <tr>\n",
       "      <th>0</th>\n",
       "      <td>10003742</td>\n",
       "      <td>2020-05-23</td>\n",
       "      <td>521</td>\n",
       "      <td>2020-05-23</td>\n",
       "      <td>0.003344</td>\n",
       "      <td>22.000000</td>\n",
       "      <td>1300.000000</td>\n",
       "      <td>2007</td>\n",
       "      <td>19</td>\n",
       "      <td>28600.000000</td>\n",
       "    </tr>\n",
       "    <tr>\n",
       "      <th>1</th>\n",
       "      <td>10007508</td>\n",
       "      <td>2021-10-26</td>\n",
       "      <td>0</td>\n",
       "      <td>2018-03-01</td>\n",
       "      <td>0.201752</td>\n",
       "      <td>93.158654</td>\n",
       "      <td>1266.894231</td>\n",
       "      <td>2007</td>\n",
       "      <td>464</td>\n",
       "      <td>117683.471154</td>\n",
       "    </tr>\n",
       "    <tr>\n",
       "      <th>2</th>\n",
       "      <td>10017269</td>\n",
       "      <td>2021-10-23</td>\n",
       "      <td>3</td>\n",
       "      <td>2018-01-27</td>\n",
       "      <td>0.059365</td>\n",
       "      <td>22.038462</td>\n",
       "      <td>1347.782051</td>\n",
       "      <td>2007</td>\n",
       "      <td>101</td>\n",
       "      <td>29699.448718</td>\n",
       "    </tr>\n",
       "    <tr>\n",
       "      <th>3</th>\n",
       "      <td>10023880</td>\n",
       "      <td>2021-09-09</td>\n",
       "      <td>47</td>\n",
       "      <td>2018-12-28</td>\n",
       "      <td>0.039591</td>\n",
       "      <td>27.500000</td>\n",
       "      <td>1400.000000</td>\n",
       "      <td>2007</td>\n",
       "      <td>383</td>\n",
       "      <td>38390.000000</td>\n",
       "    </tr>\n",
       "    <tr>\n",
       "      <th>4</th>\n",
       "      <td>10028999</td>\n",
       "      <td>2021-09-24</td>\n",
       "      <td>32</td>\n",
       "      <td>2019-11-05</td>\n",
       "      <td>0.017541</td>\n",
       "      <td>22.000000</td>\n",
       "      <td>1320.923077</td>\n",
       "      <td>2007</td>\n",
       "      <td>62</td>\n",
       "      <td>29060.307692</td>\n",
       "    </tr>\n",
       "  </tbody>\n",
       "</table>\n",
       "</div>"
      ],
      "text/plain": [
       "    Cliente Fecha ultima Compra  Recency Actual Fecha Creacion  \\\n",
       "0  10003742          2020-05-23             521     2020-05-23   \n",
       "1  10007508          2021-10-26               0     2018-03-01   \n",
       "2  10017269          2021-10-23               3     2018-01-27   \n",
       "3  10023880          2021-09-09              47     2018-12-28   \n",
       "4  10028999          2021-09-24              32     2019-11-05   \n",
       "\n",
       "   Frecuency Actual del Cliente  Kilos Venta KG Promedio  Precio Promedio  \\\n",
       "0                      0.003344                22.000000      1300.000000   \n",
       "1                      0.201752                93.158654      1266.894231   \n",
       "2                      0.059365                22.038462      1347.782051   \n",
       "3                      0.039591                27.500000      1400.000000   \n",
       "4                      0.017541                22.000000      1320.923077   \n",
       "\n",
       "   Año Creación Promedio  Frecuencia Historica Promedio  \\\n",
       "0                   2007                             19   \n",
       "1                   2007                            464   \n",
       "2                   2007                            101   \n",
       "3                   2007                            383   \n",
       "4                   2007                             62   \n",
       "\n",
       "   Ingreso de Venta Promedio  \n",
       "0               28600.000000  \n",
       "1              117683.471154  \n",
       "2               29699.448718  \n",
       "3               38390.000000  \n",
       "4               29060.307692  "
      ]
     },
     "execution_count": 21,
     "metadata": {},
     "output_type": "execute_result"
    }
   ],
   "source": [
    "Clientes_i_RFM.head()"
   ]
  },
  {
   "cell_type": "markdown",
   "id": "206de433",
   "metadata": {
    "hidden": true
   },
   "source": [
    "#### Calcular Atributos de volumen \n",
    "Se contruyen los atributos relacionados al ticket de compra"
   ]
  },
  {
   "cell_type": "markdown",
   "id": "acc3bb9d",
   "metadata": {
    "hidden": true
   },
   "source": [
    "##### Kilo promedio "
   ]
  },
  {
   "cell_type": "code",
   "execution_count": 22,
   "id": "cf3f31e6",
   "metadata": {
    "hidden": true
   },
   "outputs": [
    {
     "data": {
      "text/html": [
       "<div>\n",
       "<style scoped>\n",
       "    .dataframe tbody tr th:only-of-type {\n",
       "        vertical-align: middle;\n",
       "    }\n",
       "\n",
       "    .dataframe tbody tr th {\n",
       "        vertical-align: top;\n",
       "    }\n",
       "\n",
       "    .dataframe thead th {\n",
       "        text-align: right;\n",
       "    }\n",
       "</style>\n",
       "<table border=\"1\" class=\"dataframe\">\n",
       "  <thead>\n",
       "    <tr style=\"text-align: right;\">\n",
       "      <th></th>\n",
       "      <th>Cliente</th>\n",
       "      <th>Ticket Promedio Actual</th>\n",
       "    </tr>\n",
       "  </thead>\n",
       "  <tbody>\n",
       "    <tr>\n",
       "      <th>0</th>\n",
       "      <td>10003742</td>\n",
       "      <td>22.000000</td>\n",
       "    </tr>\n",
       "    <tr>\n",
       "      <th>1</th>\n",
       "      <td>10007508</td>\n",
       "      <td>93.158654</td>\n",
       "    </tr>\n",
       "    <tr>\n",
       "      <th>2</th>\n",
       "      <td>10017269</td>\n",
       "      <td>22.038462</td>\n",
       "    </tr>\n",
       "    <tr>\n",
       "      <th>3</th>\n",
       "      <td>10023880</td>\n",
       "      <td>27.500000</td>\n",
       "    </tr>\n",
       "    <tr>\n",
       "      <th>4</th>\n",
       "      <td>10028999</td>\n",
       "      <td>22.000000</td>\n",
       "    </tr>\n",
       "    <tr>\n",
       "      <th>...</th>\n",
       "      <td>...</td>\n",
       "      <td>...</td>\n",
       "    </tr>\n",
       "    <tr>\n",
       "      <th>5068</th>\n",
       "      <td>9992154</td>\n",
       "      <td>36.171429</td>\n",
       "    </tr>\n",
       "    <tr>\n",
       "      <th>5069</th>\n",
       "      <td>9993925</td>\n",
       "      <td>160.517495</td>\n",
       "    </tr>\n",
       "    <tr>\n",
       "      <th>5070</th>\n",
       "      <td>9994662</td>\n",
       "      <td>22.000000</td>\n",
       "    </tr>\n",
       "    <tr>\n",
       "      <th>5071</th>\n",
       "      <td>9994800</td>\n",
       "      <td>22.000000</td>\n",
       "    </tr>\n",
       "    <tr>\n",
       "      <th>5072</th>\n",
       "      <td>9997223</td>\n",
       "      <td>22.000000</td>\n",
       "    </tr>\n",
       "  </tbody>\n",
       "</table>\n",
       "<p>5073 rows × 2 columns</p>\n",
       "</div>"
      ],
      "text/plain": [
       "       Cliente  Ticket Promedio Actual\n",
       "0     10003742               22.000000\n",
       "1     10007508               93.158654\n",
       "2     10017269               22.038462\n",
       "3     10023880               27.500000\n",
       "4     10028999               22.000000\n",
       "...        ...                     ...\n",
       "5068   9992154               36.171429\n",
       "5069   9993925              160.517495\n",
       "5070   9994662               22.000000\n",
       "5071   9994800               22.000000\n",
       "5072   9997223               22.000000\n",
       "\n",
       "[5073 rows x 2 columns]"
      ]
     },
     "execution_count": 22,
     "metadata": {},
     "output_type": "execute_result"
    }
   ],
   "source": [
    "df= data_i_RFM\n",
    "df_g=df[['Cliente','Kilos Venta KG']].groupby('Cliente')\\\n",
    "        .mean().reset_index()\\\n",
    "        .rename(columns={'Kilos Venta KG':Dic_col['Ticket Customers'][0]})\n",
    "df_g"
   ]
  },
  {
   "cell_type": "markdown",
   "id": "2d64991e",
   "metadata": {
    "hidden": true
   },
   "source": [
    "##### CV  Coeficiente de variación "
   ]
  },
  {
   "cell_type": "markdown",
   "id": "e3ba2b7d",
   "metadata": {
    "hidden": true
   },
   "source": [
    "######  Std"
   ]
  },
  {
   "cell_type": "code",
   "execution_count": 23,
   "id": "85a19633",
   "metadata": {
    "hidden": true
   },
   "outputs": [
    {
     "name": "stdout",
     "output_type": "stream",
     "text": [
      "Cliente                0\n",
      "Ticket std Actual    367\n",
      "dtype: int64\n"
     ]
    },
    {
     "data": {
      "text/html": [
       "<div>\n",
       "<style scoped>\n",
       "    .dataframe tbody tr th:only-of-type {\n",
       "        vertical-align: middle;\n",
       "    }\n",
       "\n",
       "    .dataframe tbody tr th {\n",
       "        vertical-align: top;\n",
       "    }\n",
       "\n",
       "    .dataframe thead th {\n",
       "        text-align: right;\n",
       "    }\n",
       "</style>\n",
       "<table border=\"1\" class=\"dataframe\">\n",
       "  <thead>\n",
       "    <tr style=\"text-align: right;\">\n",
       "      <th></th>\n",
       "      <th>Cliente</th>\n",
       "      <th>Ticket std Actual</th>\n",
       "    </tr>\n",
       "  </thead>\n",
       "  <tbody>\n",
       "    <tr>\n",
       "      <th>0</th>\n",
       "      <td>10003742</td>\n",
       "      <td>0.000000</td>\n",
       "    </tr>\n",
       "    <tr>\n",
       "      <th>1</th>\n",
       "      <td>10007508</td>\n",
       "      <td>36.215256</td>\n",
       "    </tr>\n",
       "    <tr>\n",
       "      <th>2</th>\n",
       "      <td>10017269</td>\n",
       "      <td>0.612474</td>\n",
       "    </tr>\n",
       "    <tr>\n",
       "      <th>3</th>\n",
       "      <td>10023880</td>\n",
       "      <td>12.102631</td>\n",
       "    </tr>\n",
       "    <tr>\n",
       "      <th>4</th>\n",
       "      <td>10028999</td>\n",
       "      <td>0.000000</td>\n",
       "    </tr>\n",
       "  </tbody>\n",
       "</table>\n",
       "</div>"
      ],
      "text/plain": [
       "    Cliente  Ticket std Actual\n",
       "0  10003742           0.000000\n",
       "1  10007508          36.215256\n",
       "2  10017269           0.612474\n",
       "3  10023880          12.102631\n",
       "4  10028999           0.000000"
      ]
     },
     "execution_count": 23,
     "metadata": {},
     "output_type": "execute_result"
    }
   ],
   "source": [
    "df_G=df[['Cliente','Kilos Venta KG']].groupby('Cliente')\\\n",
    "        .std().reset_index()\\\n",
    "        .rename(columns={'Kilos Venta KG':'Ticket std Actual'})\n",
    "print(\n",
    "df_G.isnull().sum()\n",
    ")\n",
    "df_G=df_G.fillna(0)\n",
    "df_G.head()"
   ]
  },
  {
   "cell_type": "markdown",
   "id": "2c569db0",
   "metadata": {
    "hidden": true
   },
   "source": [
    "###### Coeficiente de variación "
   ]
  },
  {
   "cell_type": "code",
   "execution_count": 24,
   "id": "d5cdd548",
   "metadata": {
    "hidden": true
   },
   "outputs": [
    {
     "data": {
      "text/html": [
       "<div>\n",
       "<style scoped>\n",
       "    .dataframe tbody tr th:only-of-type {\n",
       "        vertical-align: middle;\n",
       "    }\n",
       "\n",
       "    .dataframe tbody tr th {\n",
       "        vertical-align: top;\n",
       "    }\n",
       "\n",
       "    .dataframe thead th {\n",
       "        text-align: right;\n",
       "    }\n",
       "</style>\n",
       "<table border=\"1\" class=\"dataframe\">\n",
       "  <thead>\n",
       "    <tr style=\"text-align: right;\">\n",
       "      <th></th>\n",
       "      <th>Cliente</th>\n",
       "      <th>Ticket Promedio Actual</th>\n",
       "      <th>Ticket std Actual</th>\n",
       "      <th>Ticket CV Actual</th>\n",
       "    </tr>\n",
       "  </thead>\n",
       "  <tbody>\n",
       "    <tr>\n",
       "      <th>0</th>\n",
       "      <td>10003742</td>\n",
       "      <td>22.000000</td>\n",
       "      <td>0.000000</td>\n",
       "      <td>0.000000</td>\n",
       "    </tr>\n",
       "    <tr>\n",
       "      <th>1</th>\n",
       "      <td>10007508</td>\n",
       "      <td>93.158654</td>\n",
       "      <td>36.215256</td>\n",
       "      <td>0.388748</td>\n",
       "    </tr>\n",
       "    <tr>\n",
       "      <th>2</th>\n",
       "      <td>10017269</td>\n",
       "      <td>22.038462</td>\n",
       "      <td>0.612474</td>\n",
       "      <td>0.027791</td>\n",
       "    </tr>\n",
       "    <tr>\n",
       "      <th>3</th>\n",
       "      <td>10023880</td>\n",
       "      <td>27.500000</td>\n",
       "      <td>12.102631</td>\n",
       "      <td>0.440096</td>\n",
       "    </tr>\n",
       "    <tr>\n",
       "      <th>4</th>\n",
       "      <td>10028999</td>\n",
       "      <td>22.000000</td>\n",
       "      <td>0.000000</td>\n",
       "      <td>0.000000</td>\n",
       "    </tr>\n",
       "    <tr>\n",
       "      <th>...</th>\n",
       "      <td>...</td>\n",
       "      <td>...</td>\n",
       "      <td>...</td>\n",
       "      <td>...</td>\n",
       "    </tr>\n",
       "    <tr>\n",
       "      <th>5068</th>\n",
       "      <td>9992154</td>\n",
       "      <td>36.171429</td>\n",
       "      <td>18.376080</td>\n",
       "      <td>0.508027</td>\n",
       "    </tr>\n",
       "    <tr>\n",
       "      <th>5069</th>\n",
       "      <td>9993925</td>\n",
       "      <td>160.517495</td>\n",
       "      <td>81.963154</td>\n",
       "      <td>0.510618</td>\n",
       "    </tr>\n",
       "    <tr>\n",
       "      <th>5070</th>\n",
       "      <td>9994662</td>\n",
       "      <td>22.000000</td>\n",
       "      <td>0.000000</td>\n",
       "      <td>0.000000</td>\n",
       "    </tr>\n",
       "    <tr>\n",
       "      <th>5071</th>\n",
       "      <td>9994800</td>\n",
       "      <td>22.000000</td>\n",
       "      <td>0.000000</td>\n",
       "      <td>0.000000</td>\n",
       "    </tr>\n",
       "    <tr>\n",
       "      <th>5072</th>\n",
       "      <td>9997223</td>\n",
       "      <td>22.000000</td>\n",
       "      <td>0.000000</td>\n",
       "      <td>0.000000</td>\n",
       "    </tr>\n",
       "  </tbody>\n",
       "</table>\n",
       "<p>5073 rows × 4 columns</p>\n",
       "</div>"
      ],
      "text/plain": [
       "       Cliente  Ticket Promedio Actual  Ticket std Actual  Ticket CV Actual\n",
       "0     10003742               22.000000           0.000000          0.000000\n",
       "1     10007508               93.158654          36.215256          0.388748\n",
       "2     10017269               22.038462           0.612474          0.027791\n",
       "3     10023880               27.500000          12.102631          0.440096\n",
       "4     10028999               22.000000           0.000000          0.000000\n",
       "...        ...                     ...                ...               ...\n",
       "5068   9992154               36.171429          18.376080          0.508027\n",
       "5069   9993925              160.517495          81.963154          0.510618\n",
       "5070   9994662               22.000000           0.000000          0.000000\n",
       "5071   9994800               22.000000           0.000000          0.000000\n",
       "5072   9997223               22.000000           0.000000          0.000000\n",
       "\n",
       "[5073 rows x 4 columns]"
      ]
     },
     "execution_count": 24,
     "metadata": {},
     "output_type": "execute_result"
    }
   ],
   "source": [
    "df_group=pd.merge(df_g,df_G,how='right')\n",
    "\n",
    "df_group[Dic_col['Ticket Customers'][1]]=\\\n",
    "df_group.apply(lambda x: \n",
    "               x['Ticket std Actual']/\n",
    "               x[Dic_col['Ticket Customers'][0]] ,axis=1)\n",
    "df_group"
   ]
  },
  {
   "cell_type": "code",
   "execution_count": 25,
   "id": "dc48c941",
   "metadata": {
    "hidden": true
   },
   "outputs": [
    {
     "data": {
      "text/plain": [
       "'Frecuency Actual del Cliente'"
      ]
     },
     "execution_count": 25,
     "metadata": {},
     "output_type": "execute_result"
    }
   ],
   "source": [
    "Dic_col['RFM Customers'][1]"
   ]
  },
  {
   "cell_type": "markdown",
   "id": "cd90ebd8",
   "metadata": {
    "hidden": true
   },
   "source": [
    "#### Merge "
   ]
  },
  {
   "cell_type": "code",
   "execution_count": 26,
   "id": "37777a34",
   "metadata": {
    "hidden": true
   },
   "outputs": [
    {
     "data": {
      "text/plain": [
       "(5073, 14)"
      ]
     },
     "execution_count": 26,
     "metadata": {},
     "output_type": "execute_result"
    }
   ],
   "source": [
    "Clientes_i=pd.merge(Clientes_i_RFM,df_group)\n",
    "Clientes_i['$F^{-1}$ Actual']=Clientes_i[Dic_col['RFM Customers'][1]].apply( lambda x: x**(-1))\n",
    "Clientes_i.shape"
   ]
  },
  {
   "cell_type": "code",
   "execution_count": 27,
   "id": "d57979da",
   "metadata": {
    "hidden": true
   },
   "outputs": [
    {
     "data": {
      "text/html": [
       "<div>\n",
       "<style scoped>\n",
       "    .dataframe tbody tr th:only-of-type {\n",
       "        vertical-align: middle;\n",
       "    }\n",
       "\n",
       "    .dataframe tbody tr th {\n",
       "        vertical-align: top;\n",
       "    }\n",
       "\n",
       "    .dataframe thead th {\n",
       "        text-align: right;\n",
       "    }\n",
       "</style>\n",
       "<table border=\"1\" class=\"dataframe\">\n",
       "  <thead>\n",
       "    <tr style=\"text-align: right;\">\n",
       "      <th></th>\n",
       "      <th>Cliente</th>\n",
       "      <th>Fecha ultima Compra</th>\n",
       "      <th>Recency Actual</th>\n",
       "      <th>Fecha Creacion</th>\n",
       "      <th>Frecuency Actual del Cliente</th>\n",
       "      <th>Kilos Venta KG Promedio</th>\n",
       "      <th>Precio Promedio</th>\n",
       "      <th>Año Creación Promedio</th>\n",
       "      <th>Frecuencia Historica Promedio</th>\n",
       "      <th>Ingreso de Venta Promedio</th>\n",
       "      <th>Ticket Promedio Actual</th>\n",
       "      <th>Ticket std Actual</th>\n",
       "      <th>Ticket CV Actual</th>\n",
       "      <th>$F^{-1}$ Actual</th>\n",
       "    </tr>\n",
       "  </thead>\n",
       "  <tbody>\n",
       "    <tr>\n",
       "      <th>0</th>\n",
       "      <td>10003742</td>\n",
       "      <td>2020-05-23</td>\n",
       "      <td>521</td>\n",
       "      <td>2020-05-23</td>\n",
       "      <td>0.003344</td>\n",
       "      <td>22.000000</td>\n",
       "      <td>1300.000000</td>\n",
       "      <td>2007</td>\n",
       "      <td>19</td>\n",
       "      <td>28600.000000</td>\n",
       "      <td>22.000000</td>\n",
       "      <td>0.000000</td>\n",
       "      <td>0.000000</td>\n",
       "      <td>299.000000</td>\n",
       "    </tr>\n",
       "    <tr>\n",
       "      <th>1</th>\n",
       "      <td>10007508</td>\n",
       "      <td>2021-10-26</td>\n",
       "      <td>0</td>\n",
       "      <td>2018-03-01</td>\n",
       "      <td>0.201752</td>\n",
       "      <td>93.158654</td>\n",
       "      <td>1266.894231</td>\n",
       "      <td>2007</td>\n",
       "      <td>464</td>\n",
       "      <td>117683.471154</td>\n",
       "      <td>93.158654</td>\n",
       "      <td>36.215256</td>\n",
       "      <td>0.388748</td>\n",
       "      <td>4.956570</td>\n",
       "    </tr>\n",
       "    <tr>\n",
       "      <th>2</th>\n",
       "      <td>10017269</td>\n",
       "      <td>2021-10-23</td>\n",
       "      <td>3</td>\n",
       "      <td>2018-01-27</td>\n",
       "      <td>0.059365</td>\n",
       "      <td>22.038462</td>\n",
       "      <td>1347.782051</td>\n",
       "      <td>2007</td>\n",
       "      <td>101</td>\n",
       "      <td>29699.448718</td>\n",
       "      <td>22.038462</td>\n",
       "      <td>0.612474</td>\n",
       "      <td>0.027791</td>\n",
       "      <td>16.845022</td>\n",
       "    </tr>\n",
       "    <tr>\n",
       "      <th>3</th>\n",
       "      <td>10023880</td>\n",
       "      <td>2021-09-09</td>\n",
       "      <td>47</td>\n",
       "      <td>2018-12-28</td>\n",
       "      <td>0.039591</td>\n",
       "      <td>27.500000</td>\n",
       "      <td>1400.000000</td>\n",
       "      <td>2007</td>\n",
       "      <td>383</td>\n",
       "      <td>38390.000000</td>\n",
       "      <td>27.500000</td>\n",
       "      <td>12.102631</td>\n",
       "      <td>0.440096</td>\n",
       "      <td>25.258465</td>\n",
       "    </tr>\n",
       "    <tr>\n",
       "      <th>4</th>\n",
       "      <td>10028999</td>\n",
       "      <td>2021-09-24</td>\n",
       "      <td>32</td>\n",
       "      <td>2019-11-05</td>\n",
       "      <td>0.017541</td>\n",
       "      <td>22.000000</td>\n",
       "      <td>1320.923077</td>\n",
       "      <td>2007</td>\n",
       "      <td>62</td>\n",
       "      <td>29060.307692</td>\n",
       "      <td>22.000000</td>\n",
       "      <td>0.000000</td>\n",
       "      <td>0.000000</td>\n",
       "      <td>57.008334</td>\n",
       "    </tr>\n",
       "  </tbody>\n",
       "</table>\n",
       "</div>"
      ],
      "text/plain": [
       "    Cliente Fecha ultima Compra  Recency Actual Fecha Creacion  \\\n",
       "0  10003742          2020-05-23             521     2020-05-23   \n",
       "1  10007508          2021-10-26               0     2018-03-01   \n",
       "2  10017269          2021-10-23               3     2018-01-27   \n",
       "3  10023880          2021-09-09              47     2018-12-28   \n",
       "4  10028999          2021-09-24              32     2019-11-05   \n",
       "\n",
       "   Frecuency Actual del Cliente  Kilos Venta KG Promedio  Precio Promedio  \\\n",
       "0                      0.003344                22.000000      1300.000000   \n",
       "1                      0.201752                93.158654      1266.894231   \n",
       "2                      0.059365                22.038462      1347.782051   \n",
       "3                      0.039591                27.500000      1400.000000   \n",
       "4                      0.017541                22.000000      1320.923077   \n",
       "\n",
       "   Año Creación Promedio  Frecuencia Historica Promedio  \\\n",
       "0                   2007                             19   \n",
       "1                   2007                            464   \n",
       "2                   2007                            101   \n",
       "3                   2007                            383   \n",
       "4                   2007                             62   \n",
       "\n",
       "   Ingreso de Venta Promedio  Ticket Promedio Actual  Ticket std Actual  \\\n",
       "0               28600.000000               22.000000           0.000000   \n",
       "1              117683.471154               93.158654          36.215256   \n",
       "2               29699.448718               22.038462           0.612474   \n",
       "3               38390.000000               27.500000          12.102631   \n",
       "4               29060.307692               22.000000           0.000000   \n",
       "\n",
       "   Ticket CV Actual  $F^{-1}$ Actual  \n",
       "0          0.000000       299.000000  \n",
       "1          0.388748         4.956570  \n",
       "2          0.027791        16.845022  \n",
       "3          0.440096        25.258465  \n",
       "4          0.000000        57.008334  "
      ]
     },
     "execution_count": 27,
     "metadata": {},
     "output_type": "execute_result"
    }
   ],
   "source": [
    "Clientes_i.head()"
   ]
  },
  {
   "cell_type": "markdown",
   "id": "e799242a",
   "metadata": {
    "hidden": true
   },
   "source": [
    "### Data Week"
   ]
  },
  {
   "cell_type": "code",
   "execution_count": 28,
   "id": "786d41f1",
   "metadata": {
    "hidden": true
   },
   "outputs": [],
   "source": [
    "# file_direct_O+'Weeks_clusters_1010078_CT_2018_2021 Other val 2020_2021'+'.csv'"
   ]
  },
  {
   "cell_type": "markdown",
   "id": "f2b43350",
   "metadata": {
    "hidden": true
   },
   "source": [
    "##### Abrir "
   ]
  },
  {
   "cell_type": "code",
   "execution_count": 29,
   "id": "f7566d3c",
   "metadata": {
    "hidden": true,
    "scrolled": true
   },
   "outputs": [
    {
     "data": {
      "text/html": [
       "<div>\n",
       "<style scoped>\n",
       "    .dataframe tbody tr th:only-of-type {\n",
       "        vertical-align: middle;\n",
       "    }\n",
       "\n",
       "    .dataframe tbody tr th {\n",
       "        vertical-align: top;\n",
       "    }\n",
       "\n",
       "    .dataframe thead th {\n",
       "        text-align: right;\n",
       "    }\n",
       "</style>\n",
       "<table border=\"1\" class=\"dataframe\">\n",
       "  <thead>\n",
       "    <tr style=\"text-align: right;\">\n",
       "      <th></th>\n",
       "      <th>Variable</th>\n",
       "      <th>Atributo</th>\n",
       "      <th>Semana</th>\n",
       "      <th>Ingresos de Venta</th>\n",
       "      <th>Cant compras</th>\n",
       "      <th>Precio Promedio Ponderado CLP / KG</th>\n",
       "      <th>Ventas promedio Kg</th>\n",
       "      <th>Precio Promedio</th>\n",
       "      <th>Coef.</th>\n",
       "      <th>$e^{βi}$</th>\n",
       "      <th>$\\%\\triangle Y$</th>\n",
       "      <th>Tipo de Semana</th>\n",
       "    </tr>\n",
       "  </thead>\n",
       "  <tbody>\n",
       "    <tr>\n",
       "      <th>0</th>\n",
       "      <td>Semana_1</td>\n",
       "      <td>Semana</td>\n",
       "      <td>1</td>\n",
       "      <td>210715690</td>\n",
       "      <td>1688</td>\n",
       "      <td>1401.8833868896738</td>\n",
       "      <td>89.04561611374407</td>\n",
       "      <td>1486.5527251184835</td>\n",
       "      <td>0.0</td>\n",
       "      <td>1.0</td>\n",
       "      <td>0.0</td>\n",
       "      <td>3</td>\n",
       "    </tr>\n",
       "  </tbody>\n",
       "</table>\n",
       "</div>"
      ],
      "text/plain": [
       "   Variable Atributo Semana Ingresos de Venta Cant compras  \\\n",
       "0  Semana_1   Semana      1         210715690         1688   \n",
       "\n",
       "  Precio Promedio Ponderado CLP / KG Ventas promedio Kg     Precio Promedio  \\\n",
       "0                 1401.8833868896738  89.04561611374407  1486.5527251184835   \n",
       "\n",
       "  Coef. $e^{βi}$ $\\%\\triangle Y$ Tipo de Semana  \n",
       "0   0.0      1.0             0.0              3  "
      ]
     },
     "execution_count": 29,
     "metadata": {},
     "output_type": "execute_result"
    }
   ],
   "source": [
    "#======================================================================\n",
    "# Se Cargan los datos de ventas con las caracteristicas de los clientes\n",
    "#=====================================================================\n",
    "\n",
    "file_direct=\\\n",
    "file_direct_O+'Weeks_clusters_1010078_CT_2018_2021 Other val 2020_2021'+'.csv'\n",
    "\n",
    "col_names=pd.read_csv(file_direct,\n",
    "                      encoding=\"utf-8\",sep=\";\",nrows=0).columns\n",
    "\n",
    "types_dict = {col: str for col in list(col_names)}\n",
    "\n",
    "Df_Week= pd.read_csv(file_direct,\n",
    "                   encoding=\"utf-8\",sep=\";\",dtype=types_dict\n",
    "                      ,index_col='Unnamed: 0'\n",
    "                      )\n",
    "\n",
    "# Se debe agregar el parametro ,index_col='Unnamed: 0' \n",
    "# de esta froma tal vez se pueda hacer un merge en base al indice\n",
    "\n",
    "#elimina una columna en especifico\n",
    "#DF_FULL.drop('Año natural', inplace=True, axis=1)\n",
    "Df_Week.head(1)"
   ]
  },
  {
   "cell_type": "markdown",
   "id": "2a43f431",
   "metadata": {
    "hidden": true
   },
   "source": [
    "## data con Week type "
   ]
  },
  {
   "cell_type": "code",
   "execution_count": 30,
   "id": "81288134",
   "metadata": {
    "hidden": true,
    "scrolled": true
   },
   "outputs": [
    {
     "data": {
      "text/plain": [
       "Semana            object\n",
       "Tipo de Semana    object\n",
       "dtype: object"
      ]
     },
     "execution_count": 30,
     "metadata": {},
     "output_type": "execute_result"
    }
   ],
   "source": [
    "Df_Week[['Semana','Tipo de Semana']].dtypes"
   ]
  },
  {
   "cell_type": "code",
   "execution_count": 31,
   "id": "81c8c506",
   "metadata": {
    "hidden": true
   },
   "outputs": [
    {
     "data": {
      "text/plain": [
       "Semana    object\n",
       "Año       object\n",
       "dtype: object"
      ]
     },
     "execution_count": 31,
     "metadata": {},
     "output_type": "execute_result"
    }
   ],
   "source": [
    "data_i_RFM[['Semana','Año']].dtypes"
   ]
  },
  {
   "cell_type": "code",
   "execution_count": 32,
   "id": "337742bc",
   "metadata": {
    "hidden": true
   },
   "outputs": [
    {
     "data": {
      "text/html": [
       "<div>\n",
       "<style scoped>\n",
       "    .dataframe tbody tr th:only-of-type {\n",
       "        vertical-align: middle;\n",
       "    }\n",
       "\n",
       "    .dataframe tbody tr th {\n",
       "        vertical-align: top;\n",
       "    }\n",
       "\n",
       "    .dataframe thead th {\n",
       "        text-align: right;\n",
       "    }\n",
       "</style>\n",
       "<table border=\"1\" class=\"dataframe\">\n",
       "  <thead>\n",
       "    <tr style=\"text-align: right;\">\n",
       "      <th></th>\n",
       "      <th>Semana</th>\n",
       "      <th>Tipo de Semana</th>\n",
       "      <th>Año</th>\n",
       "    </tr>\n",
       "  </thead>\n",
       "  <tbody>\n",
       "    <tr>\n",
       "      <th>0</th>\n",
       "      <td>1</td>\n",
       "      <td>3</td>\n",
       "      <td>2019</td>\n",
       "    </tr>\n",
       "    <tr>\n",
       "      <th>1</th>\n",
       "      <td>1</td>\n",
       "      <td>3</td>\n",
       "      <td>2019</td>\n",
       "    </tr>\n",
       "    <tr>\n",
       "      <th>2</th>\n",
       "      <td>1</td>\n",
       "      <td>3</td>\n",
       "      <td>2019</td>\n",
       "    </tr>\n",
       "    <tr>\n",
       "      <th>3</th>\n",
       "      <td>1</td>\n",
       "      <td>3</td>\n",
       "      <td>2020</td>\n",
       "    </tr>\n",
       "    <tr>\n",
       "      <th>4</th>\n",
       "      <td>1</td>\n",
       "      <td>3</td>\n",
       "      <td>2019</td>\n",
       "    </tr>\n",
       "    <tr>\n",
       "      <th>...</th>\n",
       "      <td>...</td>\n",
       "      <td>...</td>\n",
       "      <td>...</td>\n",
       "    </tr>\n",
       "    <tr>\n",
       "      <th>198591</th>\n",
       "      <td>53</td>\n",
       "      <td>4</td>\n",
       "      <td>2020</td>\n",
       "    </tr>\n",
       "    <tr>\n",
       "      <th>198592</th>\n",
       "      <td>53</td>\n",
       "      <td>4</td>\n",
       "      <td>2020</td>\n",
       "    </tr>\n",
       "    <tr>\n",
       "      <th>198593</th>\n",
       "      <td>53</td>\n",
       "      <td>4</td>\n",
       "      <td>2020</td>\n",
       "    </tr>\n",
       "    <tr>\n",
       "      <th>198594</th>\n",
       "      <td>53</td>\n",
       "      <td>4</td>\n",
       "      <td>2020</td>\n",
       "    </tr>\n",
       "    <tr>\n",
       "      <th>198595</th>\n",
       "      <td>53</td>\n",
       "      <td>4</td>\n",
       "      <td>2020</td>\n",
       "    </tr>\n",
       "  </tbody>\n",
       "</table>\n",
       "<p>198596 rows × 3 columns</p>\n",
       "</div>"
      ],
      "text/plain": [
       "       Semana Tipo de Semana   Año\n",
       "0           1              3  2019\n",
       "1           1              3  2019\n",
       "2           1              3  2019\n",
       "3           1              3  2020\n",
       "4           1              3  2019\n",
       "...       ...            ...   ...\n",
       "198591     53              4  2020\n",
       "198592     53              4  2020\n",
       "198593     53              4  2020\n",
       "198594     53              4  2020\n",
       "198595     53              4  2020\n",
       "\n",
       "[198596 rows x 3 columns]"
      ]
     },
     "execution_count": 32,
     "metadata": {},
     "output_type": "execute_result"
    }
   ],
   "source": [
    "pd.merge(\n",
    "Df_Week[['Semana','Tipo de Semana']]\n",
    ",data_i_RFM[['Semana','Año']]\n",
    ")"
   ]
  },
  {
   "cell_type": "markdown",
   "id": "bf87c2d2",
   "metadata": {},
   "source": [
    "# Log-Log con Tipo de semana\n",
    "\n",
    "[Logaritmos en econometría](https://economipedia.com/definiciones/logaritmos-en-econometria.html)\n",
    "\n",
    "**Data a usar**\n",
    ">`Data=data_i_RFM.copy()`\n",
    "\\begin{equation}\n",
    " \\ln{(P(Q,C_w,A))} = \n",
    " \\beta_0 + \\beta_1\\ln{(Q)}   +\\sum_{i\\in C_w} \\beta_i {c_w}_i + \\beta_a A \n",
    "\\end{equation}"
   ]
  },
  {
   "cell_type": "markdown",
   "id": "7633f655",
   "metadata": {},
   "source": [
    " -  $P:$ Precio Estimado\n",
    " -  $Q:$ Peso neto  Kg.(_Variable discreta_)\n",
    "  -  ${c_w}_i:$ Tipo de Semana $i$ del conjunto de grupos $C_w$ (_Variable binaria_)\n",
    "     \\begin{equation*}\n",
    "                {c_w}_i= \\left\\{ \n",
    "                    \\begin{array}{l}\n",
    "                    % w_i = 1 \\text{,  si la compra es efectuada en la semana i}\\\\\n",
    "                    1 \\text{,  si la compra es efectuada en el tipo de semana $i$}\\\\\n",
    "                    0 \\text{,  la compra no es efectuada en el tipo de semana $i$}\n",
    "                \\end{array} \\right. \n",
    "             \\end{equation*}\n",
    " -  $A:$ Año el cual se ejecuta la venta.(_Variable discreta_)"
   ]
  },
  {
   "cell_type": "markdown",
   "id": "23a26511",
   "metadata": {
    "heading_collapsed": true
   },
   "source": [
    "##### Copia de la data Grande\n",
    "`Data`"
   ]
  },
  {
   "cell_type": "code",
   "execution_count": 197,
   "id": "857ca6de",
   "metadata": {
    "hidden": true
   },
   "outputs": [],
   "source": [
    "Data=pd.merge(\n",
    "Df_Week[['Semana','Tipo de Semana']]\n",
    ",data_i_RFM\n",
    ").copy()"
   ]
  },
  {
   "cell_type": "markdown",
   "id": "9e568d52",
   "metadata": {
    "hidden": true
   },
   "source": [
    "Semanas\n",
    "--------\n",
    "Log - Log P/Q\n",
    "\n",
    "\\begin{equation}\n",
    "\\ln{(P(Q,C_w,A))} = \n",
    " \\beta_0 + \\beta_1\\ln{(Q)}   +\\sum_{i\\in C_w} \\beta_i {c_w}_i + \\beta_a A \n",
    "\\end{equation}\n",
    "\n",
    " -  $P:$ Precio Estimado\n",
    " -  $Q:$ Peso neto  Kg.(_Variable discreta_)\n",
    "  -  ${c_w}_i:$ Tipo de Semana $i$ del conjunto de grupos $C_w$ (_Variable binaria_)\n",
    "     \\begin{equation*}\n",
    "                {c_w}_i= \\left\\{ \n",
    "                    \\begin{array}{l}\n",
    "                    % w_i = 1 \\text{,  si la compra es efectuada en la semana i}\\\\\n",
    "                    1 \\text{,  si la compra es efectuada en el tipo de semana $i$}\\\\\n",
    "                    0 \\text{,  la compra no es efectuada en el tipo de semana $i$}\n",
    "                \\end{array} \\right. \n",
    "             \\end{equation*}\n",
    " -  $A:$ Año el cual se ejecuta la venta.(_Variable discreta_)"
   ]
  },
  {
   "cell_type": "markdown",
   "id": "5d858d69",
   "metadata": {},
   "source": [
    "## Construcción del modelo \n",
    "\n",
    "Se utilizan todos los datos, por tanto todos los años"
   ]
  },
  {
   "cell_type": "markdown",
   "id": "763f8a63",
   "metadata": {},
   "source": [
    "### Datos  a Usar"
   ]
  },
  {
   "cell_type": "markdown",
   "id": "6652bcde",
   "metadata": {},
   "source": [
    "###### Data Base "
   ]
  },
  {
   "cell_type": "code",
   "execution_count": 198,
   "id": "6aaa5768",
   "metadata": {},
   "outputs": [
    {
     "data": {
      "text/plain": [
       "'Tipo de Semana'"
      ]
     },
     "execution_count": 198,
     "metadata": {},
     "output_type": "execute_result"
    }
   ],
   "source": [
    "Data.columns[1]"
   ]
  },
  {
   "cell_type": "code",
   "execution_count": 211,
   "id": "6026a1a2",
   "metadata": {},
   "outputs": [],
   "source": [
    "#===================================\n",
    "#Ajuste de los datos\n",
    "#-----------------------------------\n",
    "X_Columnas=['Kilos Venta KG','Año','Tipo de Semana']\n",
    "y_pred_Columna='Precio'\n",
    "\n",
    "y=Data[y_pred_Columna].copy()\n",
    "X=Data[ X_Columnas ].copy()\n"
   ]
  },
  {
   "cell_type": "code",
   "execution_count": 200,
   "id": "acb546b3",
   "metadata": {},
   "outputs": [],
   "source": [
    "#===================================\n",
    "#Ajuste de los datos\n",
    "#-----------------------------------\n",
    "X_Columnas=['Kilos Venta KG','Año','Tipo de Semana']\n",
    "y_pred_Columna='Precio'\n",
    "\n",
    "# y=Data[Data.Año>='2019'][y_pred_Columna].copy()\n",
    "# X=Data[Data.Año>='2019'][ X_Columnas ].copy()\n"
   ]
  },
  {
   "cell_type": "markdown",
   "id": "16e255d1",
   "metadata": {},
   "source": [
    "###### Cambios y ajustes "
   ]
  },
  {
   "cell_type": "code",
   "execution_count": 212,
   "id": "8e1842c5",
   "metadata": {
    "scrolled": true
   },
   "outputs": [
    {
     "name": "stdout",
     "output_type": "stream",
     "text": [
      "Kilos Venta KG     float64\n",
      "Año                  int64\n",
      "Tipo de Semana    category\n",
      "dtype: object \n",
      "==================================================\n",
      "Correlación Variables sobre la Variable  Precio \n",
      "--------------------------------------------------\n",
      " index               0.138711\n",
      "Precio              1.000000\n",
      "Kilos Venta KG     -0.401401\n",
      "Año                 0.290987\n",
      "Tipo de Semana_1   -0.024676\n",
      "Tipo de Semana_2    0.218602\n",
      "Tipo de Semana_3    0.224698\n",
      "Tipo de Semana_4    0.194520\n",
      "Name: Precio, dtype: float64\n"
     ]
    }
   ],
   "source": [
    "#Aplico Ln a y\n",
    "y=y.apply(lambda x: np.log(x))\n",
    "\n",
    "X['Kilos Venta KG']=X['Kilos Venta KG'].apply(lambda x: np.log(x))\n",
    "\n",
    "#X['Semana']=X['Semana'].astype('category')\n",
    "if('Año' in X_Columnas):\n",
    "    X['Año']=X['Año'].astype('int64')\n",
    "    X['Año']= X['Año']-X['Año'].min() #2018\n",
    "if('Semana' in X_Columnas):\n",
    "    X['Semana']=X['Semana'].astype('category')\n",
    "    \n",
    "if('Tipo de Semana' in X_Columnas):\n",
    "    X['Tipo de Semana']=X['Tipo de Semana'].astype('category')\n",
    "    \n",
    "print(X.dtypes,'\\n'+'='*50)\n",
    "\n",
    "# Dummies\n",
    "X=pd.get_dummies(X, drop_first=True)\n",
    "\n",
    "\n",
    "#Calculo de la correlación entre variables\n",
    "print('Correlación Variables sobre la Variable ', y_pred_Columna,\n",
    "    '\\n'+'-'*50+'\\n' ,pd.merge(y.reset_index(),X.reset_index()).corr()[y_pred_Columna])"
   ]
  },
  {
   "cell_type": "markdown",
   "id": "28a6586f",
   "metadata": {},
   "source": [
    "### Entrenamiento "
   ]
  },
  {
   "cell_type": "markdown",
   "id": "7e755733",
   "metadata": {},
   "source": [
    "##### Paso de siempre "
   ]
  },
  {
   "cell_type": "code",
   "execution_count": 213,
   "id": "25dfbc4c",
   "metadata": {},
   "outputs": [
    {
     "name": "stdout",
     "output_type": "stream",
     "text": [
      "$R^2$ Data Train 0.4378602682377155\n",
      "$R^2$ Data Test 0.43860226392178925\n"
     ]
    }
   ],
   "source": [
    "\n",
    "#===================================\n",
    "# Entrenamiento\n",
    "#-----------------------------------\n",
    "#SPLIT TEST OR TRAIN\n",
    "\n",
    "#OLS requiere de un intercepto\n",
    "\n",
    "X['Intecepto']=[1 for i in range(X.shape[0])]\n",
    "\n",
    "#se agrega el intercepto a la ecuación\n",
    "\n",
    "# y=y/y.max()\n",
    "\n",
    "X_train, X_test, y_train, y_test = train_test_split(X, y, random_state=0)\n",
    "\n",
    "\n",
    "# TRAIN MODEL\n",
    "# from sklearn.linear_model import Ridge\n",
    "# ridge = Ridge().fit(X_train, y_train)\n",
    "\n",
    "import sklearn\n",
    "import statsmodels.api as sm\n",
    "mod = sm.OLS(y_train,X_train)\n",
    "fii = mod.fit()\n",
    "print('$R^2$ Data Train'  ,sklearn.metrics.r2_score(y_train,fii.predict()))\n",
    "print('$R^2$ Data Test'  ,sklearn.metrics.r2_score(y_test,fii.predict(exog=X_test)))\n",
    "\n",
    "\n",
    "#==========================================\n",
    "# Todos los datos, desde ell 2018\n",
    "# $R^2$ Data Train 0.4378602682377155\n",
    "# $R^2$ Data Test 0.43860226392178925"
   ]
  },
  {
   "cell_type": "markdown",
   "id": "0373cdb4",
   "metadata": {},
   "source": [
    "##### Función para extraer una muestra distinta"
   ]
  },
  {
   "cell_type": "markdown",
   "id": "48ad90b9",
   "metadata": {},
   "source": [
    "Muestra de 20.000 casos\n",
    "\n",
    "```\n",
    "        Rtrain\t        RTest\n",
    "count\t20000.000000\t20000.000000\n",
    "mean\t0.440049\t0.439892\n",
    "std\t0.002121\t0.006309\n",
    "min\t0.433608\t0.417494\n",
    "25%\t0.438516\t0.435745\n",
    "50%\t0.439768\t0.440668\n",
    "75%\t0.441422\t0.444475\n",
    "max\t0.447698\t0.459401\n",
    "```"
   ]
  },
  {
   "cell_type": "markdown",
   "id": "5618500c",
   "metadata": {},
   "source": [
    "###### Función "
   ]
  },
  {
   "cell_type": "code",
   "execution_count": 214,
   "id": "b50795e8",
   "metadata": {},
   "outputs": [],
   "source": [
    "def train_mod_OLS(X_f,y_f,Rand_num):\n",
    "    \"\"\"\n",
    "    train_mod_OLS(X,y,Rand_num)\n",
    "    \n",
    "    return: '$R^2$ Data Train'\n",
    "            '$R^2$ Data Test'\n",
    "    \"\"\"\n",
    "    X_train_def, X_test_def, y_train_def, y_test_def = train_test_split(X_f, y_f, random_state=Rand_num)\n",
    "    # TRAIN MODEL\n",
    "    # from sklearn.linear_model import Ridge\n",
    "    # ridge = Ridge().fit(X_train_def, y_train_def)\n",
    "\n",
    "    import sklearn\n",
    "    import statsmodels.api as sm\n",
    "    mod_def = sm.OLS(y_train_def,X_train_def)\n",
    "    fii_def = mod.fit()\n",
    "#     print('$R^2$ Data Train'  ,sklearn.metrics.r2_score(y_train,fii.predict()))\n",
    "#     print('$R^2$ Data Test'  ,sklearn.metrics.r2_score(y_test_def,fii.predict(exog=X_test)))\n",
    "    return(sklearn.metrics.r2_score(y_train_def,fii_def.predict()),\n",
    "           sklearn.metrics.r2_score(y_test_def,fii_def.predict(exog=X_test))\n",
    "           ,fii_def)"
   ]
  },
  {
   "cell_type": "markdown",
   "id": "e617a20a",
   "metadata": {},
   "source": [
    "###### Aplicación "
   ]
  },
  {
   "cell_type": "code",
   "execution_count": 215,
   "id": "fd6fb12a",
   "metadata": {},
   "outputs": [
    {
     "name": "stdout",
     "output_type": "stream",
     "text": [
      "intervao de confianza Rtrain -0.430 0.009\n",
      "intervao de confianza RTest -0.44 +/- 0.01\n"
     ]
    }
   ],
   "source": [
    "df_fit_example=pd.DataFrame([train_mod_OLS(X,y,i)[:2]   for i in range(2*10**2)],columns=['Rtrain','RTest'])\n",
    "print('intervao de confianza Rtrain'\n",
    ",\"{:,.3f}\".format(df_fit_example.Rtrain.mean())\n",
    ",\"{:,.3f}\".format(\n",
    "(1.96*df_fit_example.Rtrain.std()/\\\n",
    "df_fit_example.Rtrain.count()**(0.5))\n",
    "))\n",
    "\n",
    "print('intervao de confianza RTest'\n",
    ",\"{:,.2f}\".format(\n",
    "df_fit_example.RTest.mean()\n",
    "), '+/-',\n",
    "\"{:,.2f}\".format(\n",
    "    1.96*df_fit_example.RTest.std()/\\\n",
    "    df_fit_example.RTest.count()**(0.5))\n",
    "    )\n"
   ]
  },
  {
   "cell_type": "markdown",
   "id": "b65c0df0",
   "metadata": {},
   "source": [
    "## Resultados del modelo"
   ]
  },
  {
   "cell_type": "code",
   "execution_count": 204,
   "id": "28cca142",
   "metadata": {
    "scrolled": true
   },
   "outputs": [
    {
     "name": "stdout",
     "output_type": "stream",
     "text": [
      "$R^2$ Data Train 0.442\n",
      "$R^2$ Data Test 0.433\n"
     ]
    }
   ],
   "source": [
    "print('$R^2$ Data Train'  ,sklearn.metrics.r2_score(y_train,fii.predict()).round(3)  )\n",
    "print('$R^2$ Data Test'  ,sklearn.metrics.r2_score(y_test,fii.predict(exog=X_test)).round(3) )"
   ]
  },
  {
   "cell_type": "markdown",
   "id": "04ce9eab",
   "metadata": {},
   "source": [
    "### Summary "
   ]
  },
  {
   "cell_type": "markdown",
   "id": "096d632d",
   "metadata": {},
   "source": [
    "###### General "
   ]
  },
  {
   "cell_type": "code",
   "execution_count": 56,
   "id": "7a824465",
   "metadata": {},
   "outputs": [
    {
     "data": {
      "text/html": [
       "<table class=\"simpletable\">\n",
       "<caption>OLS Regression Results</caption>\n",
       "<tr>\n",
       "  <th>Dep. Variable:</th>         <td>Precio</td>      <th>  R-squared:         </th>  <td>   0.442</td> \n",
       "</tr>\n",
       "<tr>\n",
       "  <th>Model:</th>                   <td>OLS</td>       <th>  Adj. R-squared:    </th>  <td>   0.442</td> \n",
       "</tr>\n",
       "<tr>\n",
       "  <th>Method:</th>             <td>Least Squares</td>  <th>  F-statistic:       </th>  <td>1.684e+04</td>\n",
       "</tr>\n",
       "<tr>\n",
       "  <th>Date:</th>             <td>Fri, 13 May 2022</td> <th>  Prob (F-statistic):</th>   <td>  0.00</td>  \n",
       "</tr>\n",
       "<tr>\n",
       "  <th>Time:</th>                 <td>14:04:00</td>     <th>  Log-Likelihood:    </th> <td>1.5600e+05</td>\n",
       "</tr>\n",
       "<tr>\n",
       "  <th>No. Observations:</th>      <td>127366</td>      <th>  AIC:               </th> <td>-3.120e+05</td>\n",
       "</tr>\n",
       "<tr>\n",
       "  <th>Df Residuals:</th>          <td>127359</td>      <th>  BIC:               </th> <td>-3.119e+05</td>\n",
       "</tr>\n",
       "<tr>\n",
       "  <th>Df Model:</th>              <td>     6</td>      <th>                     </th>      <td> </td>    \n",
       "</tr>\n",
       "<tr>\n",
       "  <th>Covariance Type:</th>      <td>nonrobust</td>    <th>                     </th>      <td> </td>    \n",
       "</tr>\n",
       "</table>\n",
       "<table class=\"simpletable\">\n",
       "<tr>\n",
       "          <td></td>            <th>coef</th>     <th>std err</th>      <th>t</th>      <th>P>|t|</th>  <th>[0.025</th>    <th>0.975]</th>  \n",
       "</tr>\n",
       "<tr>\n",
       "  <th>Kilos Venta KG</th>   <td>   -0.0358</td> <td>    0.000</td> <td> -165.659</td> <td> 0.000</td> <td>   -0.036</td> <td>   -0.035</td>\n",
       "</tr>\n",
       "<tr>\n",
       "  <th>Año</th>              <td>    0.0263</td> <td>    0.000</td> <td>  100.724</td> <td> 0.000</td> <td>    0.026</td> <td>    0.027</td>\n",
       "</tr>\n",
       "<tr>\n",
       "  <th>Tipo de Semana_1</th> <td>    0.0412</td> <td>    0.001</td> <td>   81.210</td> <td> 0.000</td> <td>    0.040</td> <td>    0.042</td>\n",
       "</tr>\n",
       "<tr>\n",
       "  <th>Tipo de Semana_2</th> <td>    0.0926</td> <td>    0.000</td> <td>  189.836</td> <td> 0.000</td> <td>    0.092</td> <td>    0.094</td>\n",
       "</tr>\n",
       "<tr>\n",
       "  <th>Tipo de Semana_3</th> <td>    0.1659</td> <td>    0.001</td> <td>  167.883</td> <td> 0.000</td> <td>    0.164</td> <td>    0.168</td>\n",
       "</tr>\n",
       "<tr>\n",
       "  <th>Tipo de Semana_4</th> <td>    0.2338</td> <td>    0.002</td> <td>  138.878</td> <td> 0.000</td> <td>    0.231</td> <td>    0.237</td>\n",
       "</tr>\n",
       "<tr>\n",
       "  <th>Intecepto</th>        <td>    7.2289</td> <td>    0.001</td> <td> 7583.202</td> <td> 0.000</td> <td>    7.227</td> <td>    7.231</td>\n",
       "</tr>\n",
       "</table>\n",
       "<table class=\"simpletable\">\n",
       "<tr>\n",
       "  <th>Omnibus:</th>       <td>32218.518</td> <th>  Durbin-Watson:     </th>  <td>   2.001</td> \n",
       "</tr>\n",
       "<tr>\n",
       "  <th>Prob(Omnibus):</th>  <td> 0.000</td>   <th>  Jarque-Bera (JB):  </th> <td>467092.583</td>\n",
       "</tr>\n",
       "<tr>\n",
       "  <th>Skew:</th>           <td>-0.822</td>   <th>  Prob(JB):          </th>  <td>    0.00</td> \n",
       "</tr>\n",
       "<tr>\n",
       "  <th>Kurtosis:</th>       <td>12.237</td>   <th>  Cond. No.          </th>  <td>    36.4</td> \n",
       "</tr>\n",
       "</table><br/><br/>Notes:<br/>[1] Standard Errors assume that the covariance matrix of the errors is correctly specified."
      ],
      "text/plain": [
       "<class 'statsmodels.iolib.summary.Summary'>\n",
       "\"\"\"\n",
       "                            OLS Regression Results                            \n",
       "==============================================================================\n",
       "Dep. Variable:                 Precio   R-squared:                       0.442\n",
       "Model:                            OLS   Adj. R-squared:                  0.442\n",
       "Method:                 Least Squares   F-statistic:                 1.684e+04\n",
       "Date:                Fri, 13 May 2022   Prob (F-statistic):               0.00\n",
       "Time:                        14:04:00   Log-Likelihood:             1.5600e+05\n",
       "No. Observations:              127366   AIC:                        -3.120e+05\n",
       "Df Residuals:                  127359   BIC:                        -3.119e+05\n",
       "Df Model:                           6                                         \n",
       "Covariance Type:            nonrobust                                         \n",
       "====================================================================================\n",
       "                       coef    std err          t      P>|t|      [0.025      0.975]\n",
       "------------------------------------------------------------------------------------\n",
       "Kilos Venta KG      -0.0358      0.000   -165.659      0.000      -0.036      -0.035\n",
       "Año                  0.0263      0.000    100.724      0.000       0.026       0.027\n",
       "Tipo de Semana_1     0.0412      0.001     81.210      0.000       0.040       0.042\n",
       "Tipo de Semana_2     0.0926      0.000    189.836      0.000       0.092       0.094\n",
       "Tipo de Semana_3     0.1659      0.001    167.883      0.000       0.164       0.168\n",
       "Tipo de Semana_4     0.2338      0.002    138.878      0.000       0.231       0.237\n",
       "Intecepto            7.2289      0.001   7583.202      0.000       7.227       7.231\n",
       "==============================================================================\n",
       "Omnibus:                    32218.518   Durbin-Watson:                   2.001\n",
       "Prob(Omnibus):                  0.000   Jarque-Bera (JB):           467092.583\n",
       "Skew:                          -0.822   Prob(JB):                         0.00\n",
       "Kurtosis:                      12.237   Cond. No.                         36.4\n",
       "==============================================================================\n",
       "\n",
       "Notes:\n",
       "[1] Standard Errors assume that the covariance matrix of the errors is correctly specified.\n",
       "\"\"\""
      ]
     },
     "execution_count": 56,
     "metadata": {},
     "output_type": "execute_result"
    }
   ],
   "source": [
    "# p_values = fii.summary2().tables[1]['P>|t|']\n",
    "fii.summary()"
   ]
  },
  {
   "cell_type": "markdown",
   "id": "1c8b81ae",
   "metadata": {},
   "source": [
    "### Variables Despliege completo "
   ]
  },
  {
   "cell_type": "markdown",
   "id": "c246c1f0",
   "metadata": {},
   "source": [
    "##### Completo"
   ]
  },
  {
   "cell_type": "code",
   "execution_count": 57,
   "id": "c1a9e133",
   "metadata": {
    "scrolled": true
   },
   "outputs": [
    {
     "data": {
      "text/html": [
       "<div>\n",
       "<style scoped>\n",
       "    .dataframe tbody tr th:only-of-type {\n",
       "        vertical-align: middle;\n",
       "    }\n",
       "\n",
       "    .dataframe tbody tr th {\n",
       "        vertical-align: top;\n",
       "    }\n",
       "\n",
       "    .dataframe thead th {\n",
       "        text-align: right;\n",
       "    }\n",
       "</style>\n",
       "<table border=\"1\" class=\"dataframe\">\n",
       "  <thead>\n",
       "    <tr style=\"text-align: right;\">\n",
       "      <th></th>\n",
       "      <th>Coef.</th>\n",
       "      <th>Std.Err.</th>\n",
       "      <th>t</th>\n",
       "      <th>P&gt;|t|</th>\n",
       "      <th>[0.025</th>\n",
       "      <th>0.975]</th>\n",
       "    </tr>\n",
       "  </thead>\n",
       "  <tbody>\n",
       "    <tr>\n",
       "      <th>Kilos Venta KG</th>\n",
       "      <td>-0.035806</td>\n",
       "      <td>0.000216</td>\n",
       "      <td>-165.659326</td>\n",
       "      <td>0.0</td>\n",
       "      <td>-0.036229</td>\n",
       "      <td>-0.035382</td>\n",
       "    </tr>\n",
       "    <tr>\n",
       "      <th>Año</th>\n",
       "      <td>0.026323</td>\n",
       "      <td>0.000261</td>\n",
       "      <td>100.723866</td>\n",
       "      <td>0.0</td>\n",
       "      <td>0.025811</td>\n",
       "      <td>0.026836</td>\n",
       "    </tr>\n",
       "    <tr>\n",
       "      <th>Tipo de Semana_1</th>\n",
       "      <td>0.041166</td>\n",
       "      <td>0.000507</td>\n",
       "      <td>81.209530</td>\n",
       "      <td>0.0</td>\n",
       "      <td>0.040173</td>\n",
       "      <td>0.042160</td>\n",
       "    </tr>\n",
       "    <tr>\n",
       "      <th>Tipo de Semana_2</th>\n",
       "      <td>0.092612</td>\n",
       "      <td>0.000488</td>\n",
       "      <td>189.836157</td>\n",
       "      <td>0.0</td>\n",
       "      <td>0.091656</td>\n",
       "      <td>0.093568</td>\n",
       "    </tr>\n",
       "    <tr>\n",
       "      <th>Tipo de Semana_3</th>\n",
       "      <td>0.165884</td>\n",
       "      <td>0.000988</td>\n",
       "      <td>167.882610</td>\n",
       "      <td>0.0</td>\n",
       "      <td>0.163947</td>\n",
       "      <td>0.167821</td>\n",
       "    </tr>\n",
       "    <tr>\n",
       "      <th>Tipo de Semana_4</th>\n",
       "      <td>0.233834</td>\n",
       "      <td>0.001684</td>\n",
       "      <td>138.878047</td>\n",
       "      <td>0.0</td>\n",
       "      <td>0.230534</td>\n",
       "      <td>0.237134</td>\n",
       "    </tr>\n",
       "    <tr>\n",
       "      <th>Intecepto</th>\n",
       "      <td>7.228877</td>\n",
       "      <td>0.000953</td>\n",
       "      <td>7583.202129</td>\n",
       "      <td>0.0</td>\n",
       "      <td>7.227009</td>\n",
       "      <td>7.230746</td>\n",
       "    </tr>\n",
       "  </tbody>\n",
       "</table>\n",
       "</div>"
      ],
      "text/plain": [
       "                     Coef.  Std.Err.            t  P>|t|    [0.025    0.975]\n",
       "Kilos Venta KG   -0.035806  0.000216  -165.659326    0.0 -0.036229 -0.035382\n",
       "Año               0.026323  0.000261   100.723866    0.0  0.025811  0.026836\n",
       "Tipo de Semana_1  0.041166  0.000507    81.209530    0.0  0.040173  0.042160\n",
       "Tipo de Semana_2  0.092612  0.000488   189.836157    0.0  0.091656  0.093568\n",
       "Tipo de Semana_3  0.165884  0.000988   167.882610    0.0  0.163947  0.167821\n",
       "Tipo de Semana_4  0.233834  0.001684   138.878047    0.0  0.230534  0.237134\n",
       "Intecepto         7.228877  0.000953  7583.202129    0.0  7.227009  7.230746"
      ]
     },
     "execution_count": 57,
     "metadata": {},
     "output_type": "execute_result"
    }
   ],
   "source": [
    "fii.summary2().tables[1]"
   ]
  },
  {
   "cell_type": "markdown",
   "id": "9cea259f",
   "metadata": {
    "heading_collapsed": true
   },
   "source": [
    "#### Dummy Agrupado"
   ]
  },
  {
   "cell_type": "markdown",
   "id": "e8650385",
   "metadata": {
    "hidden": true
   },
   "source": [
    "###### Data inicio "
   ]
  },
  {
   "cell_type": "code",
   "execution_count": 58,
   "id": "6f4b7762",
   "metadata": {
    "hidden": true
   },
   "outputs": [
    {
     "name": "stdout",
     "output_type": "stream",
     "text": [
      "<class 'pandas.core.frame.DataFrame'>\n"
     ]
    },
    {
     "data": {
      "text/html": [
       "<div>\n",
       "<style scoped>\n",
       "    .dataframe tbody tr th:only-of-type {\n",
       "        vertical-align: middle;\n",
       "    }\n",
       "\n",
       "    .dataframe tbody tr th {\n",
       "        vertical-align: top;\n",
       "    }\n",
       "\n",
       "    .dataframe thead th {\n",
       "        text-align: right;\n",
       "    }\n",
       "</style>\n",
       "<table border=\"1\" class=\"dataframe\">\n",
       "  <thead>\n",
       "    <tr style=\"text-align: right;\">\n",
       "      <th></th>\n",
       "      <th>Variable</th>\n",
       "      <th>Coef.</th>\n",
       "      <th>Std.Err.</th>\n",
       "      <th>t</th>\n",
       "      <th>P&gt;|t|</th>\n",
       "      <th>[0.025</th>\n",
       "      <th>0.975]</th>\n",
       "    </tr>\n",
       "  </thead>\n",
       "  <tbody>\n",
       "    <tr>\n",
       "      <th>0</th>\n",
       "      <td>Kilos Venta KG</td>\n",
       "      <td>-0.035806</td>\n",
       "      <td>0.000216</td>\n",
       "      <td>-165.659326</td>\n",
       "      <td>0.0</td>\n",
       "      <td>-0.036229</td>\n",
       "      <td>-0.035382</td>\n",
       "    </tr>\n",
       "    <tr>\n",
       "      <th>1</th>\n",
       "      <td>Año</td>\n",
       "      <td>0.026323</td>\n",
       "      <td>0.000261</td>\n",
       "      <td>100.723866</td>\n",
       "      <td>0.0</td>\n",
       "      <td>0.025811</td>\n",
       "      <td>0.026836</td>\n",
       "    </tr>\n",
       "    <tr>\n",
       "      <th>2</th>\n",
       "      <td>Tipo de Semana_1</td>\n",
       "      <td>0.041166</td>\n",
       "      <td>0.000507</td>\n",
       "      <td>81.209530</td>\n",
       "      <td>0.0</td>\n",
       "      <td>0.040173</td>\n",
       "      <td>0.042160</td>\n",
       "    </tr>\n",
       "    <tr>\n",
       "      <th>3</th>\n",
       "      <td>Tipo de Semana_2</td>\n",
       "      <td>0.092612</td>\n",
       "      <td>0.000488</td>\n",
       "      <td>189.836157</td>\n",
       "      <td>0.0</td>\n",
       "      <td>0.091656</td>\n",
       "      <td>0.093568</td>\n",
       "    </tr>\n",
       "    <tr>\n",
       "      <th>4</th>\n",
       "      <td>Tipo de Semana_3</td>\n",
       "      <td>0.165884</td>\n",
       "      <td>0.000988</td>\n",
       "      <td>167.882610</td>\n",
       "      <td>0.0</td>\n",
       "      <td>0.163947</td>\n",
       "      <td>0.167821</td>\n",
       "    </tr>\n",
       "  </tbody>\n",
       "</table>\n",
       "</div>"
      ],
      "text/plain": [
       "           Variable     Coef.  Std.Err.           t  P>|t|    [0.025    0.975]\n",
       "0    Kilos Venta KG -0.035806  0.000216 -165.659326    0.0 -0.036229 -0.035382\n",
       "1               Año  0.026323  0.000261  100.723866    0.0  0.025811  0.026836\n",
       "2  Tipo de Semana_1  0.041166  0.000507   81.209530    0.0  0.040173  0.042160\n",
       "3  Tipo de Semana_2  0.092612  0.000488  189.836157    0.0  0.091656  0.093568\n",
       "4  Tipo de Semana_3  0.165884  0.000988  167.882610    0.0  0.163947  0.167821"
      ]
     },
     "execution_count": 58,
     "metadata": {},
     "output_type": "execute_result"
    }
   ],
   "source": [
    "print(type(fii.summary2().tables[1]))\n",
    "df_Var_Modelo=fii.summary2().tables[1].copy()\n",
    "df_Var_Modelo=df_Var_Modelo.reset_index()\\\n",
    "                .rename(columns={'index':'Variable'})\n",
    "df_Var_Modelo.head()"
   ]
  },
  {
   "cell_type": "code",
   "execution_count": 59,
   "id": "25465caf",
   "metadata": {
    "hidden": true,
    "scrolled": true
   },
   "outputs": [
    {
     "name": "stdout",
     "output_type": "stream",
     "text": [
      "34 (4, 2)\n"
     ]
    },
    {
     "data": {
      "text/html": [
       "<div>\n",
       "<style scoped>\n",
       "    .dataframe tbody tr th:only-of-type {\n",
       "        vertical-align: middle;\n",
       "    }\n",
       "\n",
       "    .dataframe tbody tr th {\n",
       "        vertical-align: top;\n",
       "    }\n",
       "\n",
       "    .dataframe thead th {\n",
       "        text-align: right;\n",
       "    }\n",
       "</style>\n",
       "<table border=\"1\" class=\"dataframe\">\n",
       "  <thead>\n",
       "    <tr style=\"text-align: right;\">\n",
       "      <th></th>\n",
       "      <th>Variable</th>\n",
       "      <th>P&gt;|t|</th>\n",
       "    </tr>\n",
       "  </thead>\n",
       "  <tbody>\n",
       "    <tr>\n",
       "      <th>3</th>\n",
       "      <td>Tipo de Semana_2</td>\n",
       "      <td>0.0</td>\n",
       "    </tr>\n",
       "    <tr>\n",
       "      <th>4</th>\n",
       "      <td>Tipo de Semana_3</td>\n",
       "      <td>0.0</td>\n",
       "    </tr>\n",
       "    <tr>\n",
       "      <th>5</th>\n",
       "      <td>Tipo de Semana_4</td>\n",
       "      <td>0.0</td>\n",
       "    </tr>\n",
       "    <tr>\n",
       "      <th>6</th>\n",
       "      <td>Intecepto</td>\n",
       "      <td>0.0</td>\n",
       "    </tr>\n",
       "  </tbody>\n",
       "</table>\n",
       "</div>"
      ],
      "text/plain": [
       "           Variable  P>|t|\n",
       "3  Tipo de Semana_2    0.0\n",
       "4  Tipo de Semana_3    0.0\n",
       "5  Tipo de Semana_4    0.0\n",
       "6         Intecepto    0.0"
      ]
     },
     "execution_count": 59,
     "metadata": {},
     "output_type": "execute_result"
    }
   ],
   "source": [
    "print(37-3,\n",
    "df_Var_Modelo[['Variable','P>|t|']].iloc[3:37].shape)\n",
    "df_Var_Modelo[['Variable','P>|t|']].iloc[3:37]"
   ]
  },
  {
   "cell_type": "markdown",
   "id": "7eba6768",
   "metadata": {
    "heading_collapsed": true,
    "hidden": true
   },
   "source": [
    "###### Función "
   ]
  },
  {
   "cell_type": "code",
   "execution_count": 60,
   "id": "cb72ad47",
   "metadata": {
    "hidden": true,
    "scrolled": true
   },
   "outputs": [
    {
     "data": {
      "text/html": [
       "<div>\n",
       "<style scoped>\n",
       "    .dataframe tbody tr th:only-of-type {\n",
       "        vertical-align: middle;\n",
       "    }\n",
       "\n",
       "    .dataframe tbody tr th {\n",
       "        vertical-align: top;\n",
       "    }\n",
       "\n",
       "    .dataframe thead th {\n",
       "        text-align: right;\n",
       "    }\n",
       "</style>\n",
       "<table border=\"1\" class=\"dataframe\">\n",
       "  <thead>\n",
       "    <tr style=\"text-align: right;\">\n",
       "      <th></th>\n",
       "      <th>Variable</th>\n",
       "      <th>Coef.</th>\n",
       "      <th>Std.Err.</th>\n",
       "      <th>t</th>\n",
       "      <th>P&gt;|t|</th>\n",
       "      <th>[0.025</th>\n",
       "      <th>0.975]</th>\n",
       "      <th>Atributo</th>\n",
       "      <th>Val Categoria</th>\n",
       "    </tr>\n",
       "  </thead>\n",
       "  <tbody>\n",
       "    <tr>\n",
       "      <th>0</th>\n",
       "      <td>Kilos Venta KG</td>\n",
       "      <td>-0.035806</td>\n",
       "      <td>0.000216</td>\n",
       "      <td>-165.659326</td>\n",
       "      <td>0.0</td>\n",
       "      <td>-0.036229</td>\n",
       "      <td>-0.035382</td>\n",
       "      <td>Kilos Venta KG</td>\n",
       "      <td>0</td>\n",
       "    </tr>\n",
       "    <tr>\n",
       "      <th>1</th>\n",
       "      <td>Año</td>\n",
       "      <td>0.026323</td>\n",
       "      <td>0.000261</td>\n",
       "      <td>100.723866</td>\n",
       "      <td>0.0</td>\n",
       "      <td>0.025811</td>\n",
       "      <td>0.026836</td>\n",
       "      <td>Año</td>\n",
       "      <td>0</td>\n",
       "    </tr>\n",
       "    <tr>\n",
       "      <th>2</th>\n",
       "      <td>Intecepto</td>\n",
       "      <td>7.228877</td>\n",
       "      <td>0.000953</td>\n",
       "      <td>7583.202129</td>\n",
       "      <td>0.0</td>\n",
       "      <td>7.227009</td>\n",
       "      <td>7.230746</td>\n",
       "      <td>0</td>\n",
       "      <td>0</td>\n",
       "    </tr>\n",
       "    <tr>\n",
       "      <th>3</th>\n",
       "      <td>Tipo de Semana_1</td>\n",
       "      <td>0.041166</td>\n",
       "      <td>0.000507</td>\n",
       "      <td>81.209530</td>\n",
       "      <td>0.0</td>\n",
       "      <td>0.040173</td>\n",
       "      <td>0.042160</td>\n",
       "      <td>Tipo de Semana</td>\n",
       "      <td>1</td>\n",
       "    </tr>\n",
       "    <tr>\n",
       "      <th>4</th>\n",
       "      <td>Tipo de Semana_2</td>\n",
       "      <td>0.092612</td>\n",
       "      <td>0.000488</td>\n",
       "      <td>189.836157</td>\n",
       "      <td>0.0</td>\n",
       "      <td>0.091656</td>\n",
       "      <td>0.093568</td>\n",
       "      <td>Tipo de Semana</td>\n",
       "      <td>2</td>\n",
       "    </tr>\n",
       "  </tbody>\n",
       "</table>\n",
       "</div>"
      ],
      "text/plain": [
       "           Variable     Coef.  Std.Err.            t  P>|t|    [0.025  \\\n",
       "0    Kilos Venta KG -0.035806  0.000216  -165.659326    0.0 -0.036229   \n",
       "1               Año  0.026323  0.000261   100.723866    0.0  0.025811   \n",
       "2         Intecepto  7.228877  0.000953  7583.202129    0.0  7.227009   \n",
       "3  Tipo de Semana_1  0.041166  0.000507    81.209530    0.0  0.040173   \n",
       "4  Tipo de Semana_2  0.092612  0.000488   189.836157    0.0  0.091656   \n",
       "\n",
       "     0.975]        Atributo  Val Categoria  \n",
       "0 -0.035382  Kilos Venta KG              0  \n",
       "1  0.026836             Año              0  \n",
       "2  7.230746               0              0  \n",
       "3  0.042160  Tipo de Semana              1  \n",
       "4  0.093568  Tipo de Semana              2  "
      ]
     },
     "execution_count": 60,
     "metadata": {},
     "output_type": "execute_result"
    }
   ],
   "source": [
    "import re\n",
    "def Col_Dummy(txt,Col_df,ind):\n",
    "    \"\"\"\n",
    "    Extrae la columna original ( Col_df) del dummy,\n",
    "    Si no es dummy, cuando ind = 1, entrega un 0. Else, entrega la categoria del dummy\n",
    "    \"\"\"\n",
    "    \n",
    "    for c in X_Columnas:\n",
    "        if(re.search('^'+c, txt) is not None):\n",
    "            if(re.search('^'+c+'_', txt) is not None):\n",
    "                post=re.search('^'+c+'_', txt).span()[1]\n",
    "                return(c,txt[post:])[ind]\n",
    "            else:\n",
    "                return(c,0)[ind]\n",
    "    return(0,0)[ind]\n",
    "df_Var_Modelo['Atributo']=df_Var_Modelo.Variable.apply(lambda x: Col_Dummy(x,X_Columnas,0) )\n",
    "df_Var_Modelo['Val Categoria']=df_Var_Modelo.Variable.apply(lambda x: Col_Dummy(x,X_Columnas,1) )\n",
    "\n",
    "#=========================================\n",
    "# Ajuste de Val Categoria a numero entero\n",
    "#-----------------------------------------\n",
    "\n",
    "df_Var_Modelo['Val Categoria']=df_Var_Modelo['Val Categoria'].astype('float64')\n",
    "\n",
    "df_Var_Modelo['Val Categoria'] =df_Var_Modelo['Val Categoria'].astype('int64')\n",
    "\n",
    "#Ordenar en base al numero de la semana\n",
    "df_Var_Modelo=df_Var_Modelo.sort_values(by=['Val Categoria']).reset_index()\n",
    "\n",
    "#eliminar la columna index\n",
    "df_Var_Modelo=df_Var_Modelo.drop(labels='index',axis=1)\n",
    "\n",
    "df_Var_Modelo.head()"
   ]
  },
  {
   "cell_type": "code",
   "execution_count": 61,
   "id": "f4418276",
   "metadata": {
    "hidden": true
   },
   "outputs": [
    {
     "data": {
      "text/html": [
       "<div>\n",
       "<style scoped>\n",
       "    .dataframe tbody tr th:only-of-type {\n",
       "        vertical-align: middle;\n",
       "    }\n",
       "\n",
       "    .dataframe tbody tr th {\n",
       "        vertical-align: top;\n",
       "    }\n",
       "\n",
       "    .dataframe thead th {\n",
       "        text-align: right;\n",
       "    }\n",
       "</style>\n",
       "<table border=\"1\" class=\"dataframe\">\n",
       "  <thead>\n",
       "    <tr style=\"text-align: right;\">\n",
       "      <th></th>\n",
       "      <th>Variable</th>\n",
       "      <th>Coef.</th>\n",
       "      <th>Std.Err.</th>\n",
       "      <th>t</th>\n",
       "      <th>P&gt;|t|</th>\n",
       "      <th>[0.025</th>\n",
       "      <th>0.975]</th>\n",
       "      <th>Atributo</th>\n",
       "      <th>Val Categoria</th>\n",
       "    </tr>\n",
       "  </thead>\n",
       "  <tbody>\n",
       "    <tr>\n",
       "      <th>2</th>\n",
       "      <td>Intecepto</td>\n",
       "      <td>7.228877</td>\n",
       "      <td>0.000953</td>\n",
       "      <td>7583.202129</td>\n",
       "      <td>0.0</td>\n",
       "      <td>7.227009</td>\n",
       "      <td>7.230746</td>\n",
       "      <td>0</td>\n",
       "      <td>0</td>\n",
       "    </tr>\n",
       "    <tr>\n",
       "      <th>3</th>\n",
       "      <td>Tipo de Semana_1</td>\n",
       "      <td>0.041166</td>\n",
       "      <td>0.000507</td>\n",
       "      <td>81.209530</td>\n",
       "      <td>0.0</td>\n",
       "      <td>0.040173</td>\n",
       "      <td>0.042160</td>\n",
       "      <td>Tipo de Semana</td>\n",
       "      <td>1</td>\n",
       "    </tr>\n",
       "    <tr>\n",
       "      <th>4</th>\n",
       "      <td>Tipo de Semana_2</td>\n",
       "      <td>0.092612</td>\n",
       "      <td>0.000488</td>\n",
       "      <td>189.836157</td>\n",
       "      <td>0.0</td>\n",
       "      <td>0.091656</td>\n",
       "      <td>0.093568</td>\n",
       "      <td>Tipo de Semana</td>\n",
       "      <td>2</td>\n",
       "    </tr>\n",
       "    <tr>\n",
       "      <th>5</th>\n",
       "      <td>Tipo de Semana_3</td>\n",
       "      <td>0.165884</td>\n",
       "      <td>0.000988</td>\n",
       "      <td>167.882610</td>\n",
       "      <td>0.0</td>\n",
       "      <td>0.163947</td>\n",
       "      <td>0.167821</td>\n",
       "      <td>Tipo de Semana</td>\n",
       "      <td>3</td>\n",
       "    </tr>\n",
       "    <tr>\n",
       "      <th>6</th>\n",
       "      <td>Tipo de Semana_4</td>\n",
       "      <td>0.233834</td>\n",
       "      <td>0.001684</td>\n",
       "      <td>138.878047</td>\n",
       "      <td>0.0</td>\n",
       "      <td>0.230534</td>\n",
       "      <td>0.237134</td>\n",
       "      <td>Tipo de Semana</td>\n",
       "      <td>4</td>\n",
       "    </tr>\n",
       "  </tbody>\n",
       "</table>\n",
       "</div>"
      ],
      "text/plain": [
       "           Variable     Coef.  Std.Err.            t  P>|t|    [0.025  \\\n",
       "2         Intecepto  7.228877  0.000953  7583.202129    0.0  7.227009   \n",
       "3  Tipo de Semana_1  0.041166  0.000507    81.209530    0.0  0.040173   \n",
       "4  Tipo de Semana_2  0.092612  0.000488   189.836157    0.0  0.091656   \n",
       "5  Tipo de Semana_3  0.165884  0.000988   167.882610    0.0  0.163947   \n",
       "6  Tipo de Semana_4  0.233834  0.001684   138.878047    0.0  0.230534   \n",
       "\n",
       "     0.975]        Atributo  Val Categoria  \n",
       "2  7.230746               0              0  \n",
       "3  0.042160  Tipo de Semana              1  \n",
       "4  0.093568  Tipo de Semana              2  \n",
       "5  0.167821  Tipo de Semana              3  \n",
       "6  0.237134  Tipo de Semana              4  "
      ]
     },
     "execution_count": 61,
     "metadata": {},
     "output_type": "execute_result"
    }
   ],
   "source": [
    "df_Var_Modelo.tail()"
   ]
  },
  {
   "cell_type": "code",
   "execution_count": 62,
   "id": "aa0938ed",
   "metadata": {
    "hidden": true
   },
   "outputs": [
    {
     "name": "stdout",
     "output_type": "stream",
     "text": [
      "1    0.026323\n",
      "Name: Coef., dtype: float64\n"
     ]
    },
    {
     "data": {
      "text/plain": [
       "1.0266729675802362"
      ]
     },
     "execution_count": 62,
     "metadata": {},
     "output_type": "execute_result"
    }
   ],
   "source": [
    "print(df_Var_Modelo[df_Var_Modelo.Variable=='Año']['Coef.'])\n",
    "np.e**df_Var_Modelo[df_Var_Modelo.Variable=='Año']['Coef.'].iloc[0]"
   ]
  },
  {
   "cell_type": "markdown",
   "id": "66c85069",
   "metadata": {},
   "source": [
    "#### Todas las caract "
   ]
  },
  {
   "cell_type": "code",
   "execution_count": 65,
   "id": "185de204",
   "metadata": {},
   "outputs": [
    {
     "data": {
      "text/plain": [
       "0      Kilos Venta KG\n",
       "1                 Año\n",
       "2           Intecepto\n",
       "3    Tipo de Semana_1\n",
       "4    Tipo de Semana_2\n",
       "5    Tipo de Semana_3\n",
       "6    Tipo de Semana_4\n",
       "Name: Variable, dtype: object"
      ]
     },
     "execution_count": 65,
     "metadata": {},
     "output_type": "execute_result"
    }
   ],
   "source": [
    "df_Var_Modelo.Variable"
   ]
  },
  {
   "cell_type": "code",
   "execution_count": 72,
   "id": "8e1a690a",
   "metadata": {
    "scrolled": false
   },
   "outputs": [
    {
     "data": {
      "image/png": "[encoded data removed]",
      "text/plain": [
       "<Figure size 800x600 with 1 Axes>"
      ]
     },
     "metadata": {},
     "output_type": "display_data"
    },
    {
     "data": {
      "text/plain": [
       "<ggplot: (147442185867)>"
      ]
     },
     "execution_count": 72,
     "metadata": {},
     "output_type": "execute_result"
    }
   ],
   "source": [
    "###################################################################\n",
    "#                     Clusterizado(Forma)\n",
    "#           Centroides(Lineas amarillas)\n",
    "#    Grafica de dispercion Delta ponderado \n",
    "#    X=Semana Y=Delta ponderado\n",
    "###################################################################\n",
    "Grap_Var=(ggplot(df_Var_Modelo[(df_Var_Modelo.Variable!='Intecepto')\n",
    "                              &(df_Var_Modelo.Variable!='Kilos Venta KG')\n",
    "                              ], aes(x='Variable'\n",
    "                                    ,y=df_Var_Modelo[\n",
    "                                        (df_Var_Modelo.Variable!='Intecepto')\n",
    "                                         &(df_Var_Modelo.Variable!='Kilos Venta KG')]['Coef.']\\\n",
    "                                                                         .apply(lambda x: np.e**(x)-1)\n",
    "#                ,size='Ventas promedio Kg',color='Precio Promedio Ponderado CLP / KG'\n",
    "                 ))\\\n",
    "+ geom_col()\n",
    "# #     aes(shape='Tipo de Semana'),alpha=0.9)\\\n",
    "# + scale_color_gradient(low='blue', high='red')\\\n",
    "#  + geom_hline(yintercept = centroids,color='yellow',\n",
    "#                 # set line colour\n",
    "#                 size=3,# set line thickness\n",
    "#                 linetype=\"dashed\",alpha=0.5  # set line type\n",
    "# ) # add many horizontal lines using a list\n",
    "\n",
    "+ylab('%∆Precio')\n",
    "+ scale_y_continuous(labels=percent_format()) # display labels as a percentage       \n",
    "+theme(axis_text_x = element_text(angle=90, hjust=1),figure_size=(8,6))\n",
    "                  )\n",
    "Grap_Var"
   ]
  },
  {
   "cell_type": "markdown",
   "id": "cb2f05a4",
   "metadata": {},
   "source": [
    "# Log-Log para cada Tipo de semana\n",
    "\n",
    "[Logaritmos en econometría](https://economipedia.com/definiciones/logaritmos-en-econometria.html)\n",
    "\n",
    "**Data a usar**\n",
    ">`Data=data_i_RFM.copy()`\n",
    "\\begin{equation}\n",
    "ln(P(Q,A)_j) =\\beta_{0,j} +\\beta_{1,j} ln(Q_{j}) +\\beta_{0,j} A_{j}\\\\\n",
    "\\text{ Sea }j \\text{ el tipo de semana.} \\nonumber\n",
    "\\end{equation}"
   ]
  },
  {
   "cell_type": "markdown",
   "id": "eb353842",
   "metadata": {},
   "source": [
    " -  $P_j:$ Precio Estimado, de la semana $j$\n",
    " -  $Q_j:$ Peso neto  Kg.(_Variable discreta_), de la semana $j$ \n",
    " -  $A_j:$ Año el cual se ejecuta la venta.(_Variable discreta_), de la semana $j$"
   ]
  },
  {
   "cell_type": "markdown",
   "id": "f686fdd1",
   "metadata": {
    "heading_collapsed": true
   },
   "source": [
    "##### Copia de la data Grande\n",
    "`Data`"
   ]
  },
  {
   "cell_type": "code",
   "execution_count": 73,
   "id": "8fa9211f",
   "metadata": {
    "hidden": true
   },
   "outputs": [],
   "source": [
    "Data=pd.merge(\n",
    "Df_Week[['Semana','Tipo de Semana']]\n",
    ",data_i_RFM\n",
    ").copy()"
   ]
  },
  {
   "cell_type": "markdown",
   "id": "dc366887",
   "metadata": {
    "hidden": true
   },
   "source": [
    "Semanas\n",
    "--------\n",
    "Log - Log P/Q\n",
    "\n",
    "\\begin{equation}\n",
    "\\ln{(P(Q,C_w,A))} = \n",
    " \\beta_0 + \\beta_1\\ln{(Q)}   +\\sum_{i\\in C_w} \\beta_i {c_w}_i + \\beta_a A \n",
    "\\end{equation}\n",
    "\n",
    " -  $P:$ Precio Estimado\n",
    " -  $Q:$ Peso neto  Kg.(_Variable discreta_)\n",
    "  -  ${c_w}_i:$ Tipo de Semana $i$ del conjunto de grupos $C_w$ (_Variable binaria_)\n",
    "     \\begin{equation*}\n",
    "                {c_w}_i= \\left\\{ \n",
    "                    \\begin{array}{l}\n",
    "                    % w_i = 1 \\text{,  si la compra es efectuada en la semana i}\\\\\n",
    "                    1 \\text{,  si la compra es efectuada en el tipo de semana $i$}\\\\\n",
    "                    0 \\text{,  la compra no es efectuada en el tipo de semana $i$}\n",
    "                \\end{array} \\right. \n",
    "             \\end{equation*}\n",
    " -  $A:$ Año el cual se ejecuta la venta.(_Variable discreta_)"
   ]
  },
  {
   "cell_type": "markdown",
   "id": "73256d6c",
   "metadata": {},
   "source": [
    "## Construcción del modelo \n",
    "\n",
    "Se utilizan todos los datos, por tanto todos los años\n",
    "\n",
    "\n",
    "\n",
    "Se debe tener una función que permita construir el modelo OLS de forma simple, con un val random y un valor de Data, para definir los valores."
   ]
  },
  {
   "cell_type": "markdown",
   "id": "7d20277b",
   "metadata": {},
   "source": [
    "### Datos  a Usar"
   ]
  },
  {
   "cell_type": "markdown",
   "id": "37862458",
   "metadata": {
    "heading_collapsed": true
   },
   "source": [
    "###### Data Base "
   ]
  },
  {
   "cell_type": "code",
   "execution_count": 82,
   "id": "fc274643",
   "metadata": {
    "hidden": true,
    "scrolled": true
   },
   "outputs": [
    {
     "data": {
      "text/plain": [
       "array(['3', '2', '1', '0', '4'], dtype=object)"
      ]
     },
     "execution_count": 82,
     "metadata": {},
     "output_type": "execute_result"
    }
   ],
   "source": [
    "Data[Data.columns[1]].unique()"
   ]
  },
  {
   "cell_type": "markdown",
   "id": "0a15bd19",
   "metadata": {},
   "source": [
    "### Función "
   ]
  },
  {
   "cell_type": "markdown",
   "id": "7ea857fb",
   "metadata": {},
   "source": [
    "##### Funcion \n",
    "\n",
    "Se debe partiocionar antes, para que se tenga el mismo x test e y test para todos, si particiono dentro de la funcion si o si van a aser distintas muestras a las utilizadas en el otro metodo de modelo"
   ]
  },
  {
   "cell_type": "markdown",
   "id": "c6796bc2",
   "metadata": {
    "heading_collapsed": true
   },
   "source": [
    "###### Def"
   ]
  },
  {
   "cell_type": "code",
   "execution_count": 180,
   "id": "15ecbd21",
   "metadata": {
    "hidden": true,
    "scrolled": true
   },
   "outputs": [],
   "source": [
    "import sklearn\n",
    "import statsmodels.api as sm\n",
    "\n",
    "def Log_P_LogQA(Dfun,Rand_num):\n",
    "    \"\"\"\n",
    "    train_mod_OLS(X,y,Rand_num)\n",
    "    \n",
    "    return: '$R^2$ Data Train'\n",
    "            '$R^2$ Data Test'\n",
    "            'Model fii'\n",
    "    \"\"\"\n",
    "    #===================================\n",
    "    #Ajuste de los datos\n",
    "    #-----------------------------------\n",
    "    X_Columnas_def=['Kilos Venta KG','Año']\n",
    "    y_pred_Columna_def='Precio'\n",
    "    y_def=Dfun[y_pred_Columna_def].copy()\n",
    "    X_def=Dfun[ X_Columnas_def ].copy()\n",
    "\n",
    "    #==============================================================================\n",
    "    #                     Transformación a Log log\n",
    "    y_def=y_def.apply(lambda x: np.log(x))\n",
    "\n",
    "    X_def['Kilos Venta KG']=X_def['Kilos Venta KG'].apply(lambda x: np.log(x))\n",
    "\n",
    "    #==============================================================================\n",
    "    #         Variables a cgoricas o enteras\n",
    "    if('Año' in X_Columnas):\n",
    "        #año a entero\n",
    "        X_def['Año']=X_def['Año'].astype('int64')\n",
    "        #tomo el primer año de la data para que sea más escalar\n",
    "        X_def['Año']= X_def['Año']-X_def['Año'].min() #2018\n",
    "\n",
    "    #-----------------------------------------------\n",
    "    #         Semana a categorico\n",
    "    if('Semana' in X_Columnas_def):\n",
    "        X_def['Semana']=X_def['Semana'].astype('category')\n",
    "\n",
    "#     print(X_def.dtypes,'\\n'+'='*50)\n",
    "\n",
    "    #-----------------------------------------------\n",
    "    #                 Dummies\n",
    "    X_def=pd.get_dummies(X_def, drop_first=True)\n",
    "    #============================================================\n",
    "\n",
    "    # #Calculo de la correlación entre variables\n",
    "    # print('Correlación Variables sobre la Variable ', y_pred_Columna,\n",
    "    #     '\\n'+'-'*50+'\\n' ,pd.merge(y.reset_index(),X.reset_index()).corr()[y_pred_Columna])\n",
    "\n",
    "    #-----------------------------------------------\n",
    "    # Intercepto\n",
    "    X_def['Intecepto']=[1 for i in range(X_def.shape[0])]\n",
    "\n",
    "    X_train_def, X_test_def, y_train_def, y_test_def = train_test_split(X_def, y_def,\n",
    "                                                                        random_state=Rand_num)\n",
    "    #Dimenciones\n",
    "#     for i in [X_train_def, X_test_def, y_train_def, y_test_def]: print(i.shape)\n",
    "    \n",
    "    #===========================================================\n",
    "    #                         TRAIN MODEL\n",
    "    #-----------------------------------------------------------\n",
    "    # from sklearn.linear_model import Ridge\n",
    "    # ridge = Ridge().fit(X_train_def, y_train_def)\n",
    "\n",
    "    mod_def = sm.OLS(y_train_def,X_train_def)\n",
    "    fii_def = mod_def.fit()\n",
    "    \n",
    "#     print('$R^2$ Data Train'  ,sklearn.metrics.r2_score(y_train_def,fii_def.predict()))\n",
    "#     print('$R^2$ Data Test'  ,sklearn.metrics.r2_score(y_test_def,fii_def.predict(exog=X_test_def)))\n",
    "    return [sklearn.metrics.r2_score(y_train_def,fii_def.predict())\n",
    "           ,sklearn.metrics.r2_score(y_test_def,fii_def.predict(exog=X_test_def))\n",
    "           ,fii_def]"
   ]
  },
  {
   "cell_type": "code",
   "execution_count": 181,
   "id": "3e58a9a1",
   "metadata": {
    "hidden": true
   },
   "outputs": [
    {
     "data": {
      "text/plain": [
       "[0.32344356565566623,\n",
       " 0.33527087969724223,\n",
       " <statsmodels.regression.linear_model.RegressionResultsWrapper at 0x22542b36040>]"
      ]
     },
     "execution_count": 181,
     "metadata": {},
     "output_type": "execute_result"
    }
   ],
   "source": [
    "Log_P_LogQA(Data[Data['Tipo de Semana']==('0')]\n",
    "            ,0)\n",
    "# (0.32344356565566623,\n",
    "#  0.33527087969724223,"
   ]
  },
  {
   "cell_type": "markdown",
   "id": "74a3b2c9",
   "metadata": {
    "heading_collapsed": true
   },
   "source": [
    "###### Aplicación iterativa"
   ]
  },
  {
   "cell_type": "code",
   "execution_count": 182,
   "id": "640b0e95",
   "metadata": {
    "hidden": true,
    "scrolled": true
   },
   "outputs": [
    {
     "data": {
      "text/html": [
       "<div>\n",
       "<style scoped>\n",
       "    .dataframe tbody tr th:only-of-type {\n",
       "        vertical-align: middle;\n",
       "    }\n",
       "\n",
       "    .dataframe tbody tr th {\n",
       "        vertical-align: top;\n",
       "    }\n",
       "\n",
       "    .dataframe thead th {\n",
       "        text-align: right;\n",
       "    }\n",
       "</style>\n",
       "<table border=\"1\" class=\"dataframe\">\n",
       "  <thead>\n",
       "    <tr style=\"text-align: right;\">\n",
       "      <th></th>\n",
       "      <th>Tipo de Semana</th>\n",
       "      <th>$R^2$ Data Train</th>\n",
       "      <th>$R^2$ Data Test</th>\n",
       "      <th>Model fii</th>\n",
       "    </tr>\n",
       "  </thead>\n",
       "  <tbody>\n",
       "    <tr>\n",
       "      <th>0</th>\n",
       "      <td>3</td>\n",
       "      <td>0.177824</td>\n",
       "      <td>0.143026</td>\n",
       "      <td>&lt;statsmodels.regression.linear_model.Regressio...</td>\n",
       "    </tr>\n",
       "    <tr>\n",
       "      <th>1</th>\n",
       "      <td>2</td>\n",
       "      <td>0.357274</td>\n",
       "      <td>0.360072</td>\n",
       "      <td>&lt;statsmodels.regression.linear_model.Regressio...</td>\n",
       "    </tr>\n",
       "    <tr>\n",
       "      <th>2</th>\n",
       "      <td>1</td>\n",
       "      <td>0.314957</td>\n",
       "      <td>0.319715</td>\n",
       "      <td>&lt;statsmodels.regression.linear_model.Regressio...</td>\n",
       "    </tr>\n",
       "    <tr>\n",
       "      <th>3</th>\n",
       "      <td>0</td>\n",
       "      <td>0.323444</td>\n",
       "      <td>0.335271</td>\n",
       "      <td>&lt;statsmodels.regression.linear_model.Regressio...</td>\n",
       "    </tr>\n",
       "    <tr>\n",
       "      <th>4</th>\n",
       "      <td>4</td>\n",
       "      <td>0.174830</td>\n",
       "      <td>0.203055</td>\n",
       "      <td>&lt;statsmodels.regression.linear_model.Regressio...</td>\n",
       "    </tr>\n",
       "  </tbody>\n",
       "</table>\n",
       "</div>"
      ],
      "text/plain": [
       "  Tipo de Semana  $R^2$ Data Train  $R^2$ Data Test  \\\n",
       "0              3          0.177824         0.143026   \n",
       "1              2          0.357274         0.360072   \n",
       "2              1          0.314957         0.319715   \n",
       "3              0          0.323444         0.335271   \n",
       "4              4          0.174830         0.203055   \n",
       "\n",
       "                                           Model fii  \n",
       "0  <statsmodels.regression.linear_model.Regressio...  \n",
       "1  <statsmodels.regression.linear_model.Regressio...  \n",
       "2  <statsmodels.regression.linear_model.Regressio...  \n",
       "3  <statsmodels.regression.linear_model.Regressio...  \n",
       "4  <statsmodels.regression.linear_model.Regressio...  "
      ]
     },
     "execution_count": 182,
     "metadata": {},
     "output_type": "execute_result"
    }
   ],
   "source": [
    "array_mod=[ [i] + Log_P_LogQA(Data[Data['Tipo de Semana']==(i)],0) for i in Data['Tipo de Semana'].unique()]\n",
    "data_Mod_week=pd.DataFrame(array_mod\n",
    "            ,columns=[\n",
    "                'Tipo de Semana'\n",
    "                ,'$R^2$ Data Train'\n",
    "                ,'$R^2$ Data Test'\n",
    "                ,'Model fii']\n",
    "            )\n",
    "data_Mod_week"
   ]
  },
  {
   "cell_type": "markdown",
   "id": "e33963b1",
   "metadata": {},
   "source": [
    "##### Función Con el mismo Data Frame "
   ]
  },
  {
   "cell_type": "markdown",
   "id": "9b3477c3",
   "metadata": {
    "heading_collapsed": true
   },
   "source": [
    "###### Def Data\n",
    "\n",
    "`Week_data_def`"
   ]
  },
  {
   "cell_type": "code",
   "execution_count": 141,
   "id": "c3fb804a",
   "metadata": {
    "hidden": true,
    "scrolled": true
   },
   "outputs": [],
   "source": [
    "import sklearn\n",
    "import statsmodels.api as sm\n",
    "\n",
    "def Week_data_def(Dfun,Rand_num):\n",
    "    #===================================\n",
    "    #Ajuste de los datos\n",
    "    #-----------------------------------\n",
    "    X_Columnas_def=['Kilos Venta KG','Año','Tipo de Semana']\n",
    "    y_pred_Columna_def=['Precio','Tipo de Semana']\n",
    "    #Y\n",
    "    y_def=Dfun[y_pred_Columna_def].copy()\n",
    "    #X\n",
    "    X_def=Dfun[ X_Columnas_def ].copy()\n",
    "\n",
    "    #==============================================================================\n",
    "    #                     Transformación a Log log\n",
    "    \n",
    "    y_def.Precio=y_def.Precio.apply(lambda x: np.log(x))\n",
    "\n",
    "    X_def['Kilos Venta KG']=X_def['Kilos Venta KG'].apply(lambda x: np.log(x))\n",
    "\n",
    "    #==============================================================================\n",
    "    #         Variables a cgoricas o enteras\n",
    "    if('Año' in X_Columnas):\n",
    "        #año a entero\n",
    "        X_def['Año']=X_def['Año'].astype('int64')\n",
    "        #tomo el primer año de la data para que sea más escalar\n",
    "        X_def['Año']= X_def['Año']-X_def['Año'].min() #2018\n",
    "\n",
    "    #-----------------------------------------------\n",
    "    #         Semana a categorico\n",
    "    if('Semana' in X_Columnas_def):\n",
    "        X_def['Semana']=X_def['Semana'].astype('category')\n",
    "\n",
    "#     print(X_def.dtypes,'\\n'+'='*50)\n",
    "    \n",
    "    #-----------------------------------------------\n",
    "    #                 Dummies\n",
    "#     X_def=pd.get_dummies(X_def, drop_first=True)\n",
    "    #============================================================\n",
    "\n",
    "    # #Calculo de la correlación entre variables\n",
    "    # print('Correlación Variables sobre la Variable ', y_pred_Columna,\n",
    "    #     '\\n'+'-'*50+'\\n' ,pd.merge(y.reset_index(),X.reset_index()).corr()[y_pred_Columna])\n",
    "\n",
    "    #-----------------------------------------------\n",
    "    # Intercepto\n",
    "    X_def['Intecepto']=[1 for i in range(X_def.shape[0])]\n",
    "\n",
    "    X_train_def_T, X_test_def_T, y_train_def_T, y_test_def_T = train_test_split(X_def, y_def,\n",
    "                                                                        random_state=Rand_num)\n",
    "    #Dimenciones\n",
    "#     for i in [X_train_def, X_test_def, y_train_def, y_test_def]: print(i.shape)\n",
    "    return(X_train_def_T, X_test_def_T, y_train_def_T, y_test_def_T)\n"
   ]
  },
  {
   "cell_type": "markdown",
   "id": "224a424c",
   "metadata": {
    "heading_collapsed": true
   },
   "source": [
    "###### Def Fitt Select week \n",
    "\n",
    "`Week_Log_P_LogQA`"
   ]
  },
  {
   "cell_type": "code",
   "execution_count": 167,
   "id": "2a7697be",
   "metadata": {
    "hidden": true
   },
   "outputs": [],
   "source": [
    "\n",
    "def Week_Log_P_LogQA( A_def_t,Tipo_de_Semana_i):\n",
    "    \"\"\"\n",
    "    Week_Log_P_LogQA(X,y,Week,Rand_num)\n",
    "    \n",
    "    return: '$R^2$ Data Train'\n",
    "            '$R^2$ Data Test'\n",
    "            'Model fii'\n",
    "    \"\"\"\n",
    "#     Arreglo a var\n",
    "#     X_train_def_T, X_test_def_T, y_train_def_T, y_test_def_T = A_def_t\n",
    "    \n",
    "    X_train_def, X_test_def, y_train_def, y_test_def=\\\n",
    "    [i[i['Tipo de Semana']==Tipo_de_Semana_i].drop(\n",
    "                                                    ['Tipo de Semana'], axis=1) \n",
    "                                                    for i in A_def_t]\n",
    "#     return(X_train_def, X_test_def, y_train_def, y_test_def)\n",
    "        #Dimenciones\n",
    "#     for i in [X_train_def, X_test_def, y_train_def, y_test_def]: print(i.shape)\n",
    "\n",
    "    #===========================================================\n",
    "    #                         TRAIN MODEL\n",
    "    #-----------------------------------------------------------\n",
    "    #### from sklearn.linear_model import Ridge\n",
    "    #### ridge = Ridge().fit(X_train_def, y_train_def)\n",
    "\n",
    "    mod_def = sm.OLS(y_train_def,X_train_def)\n",
    "    fii_def = mod_def.fit()\n",
    "    \n",
    "###     print('$R^2$ Data Train'  ,sklearn.metrics.r2_score(y_train_def,fii_def.predict()))\n",
    "###     print('$R^2$ Data Test'  ,sklearn.metrics.r2_score(y_test_def,fii_def.predict(exog=X_test_def)))\n",
    "    return [sklearn.metrics.r2_score(y_train_def,fii_def.predict())\n",
    "           ,sklearn.metrics.r2_score(y_test_def,fii_def.predict(exog=X_test_def))\n",
    "           ,fii_def]"
   ]
  },
  {
   "cell_type": "code",
   "execution_count": 149,
   "id": "49250839",
   "metadata": {
    "hidden": true
   },
   "outputs": [
    {
     "name": "stdout",
     "output_type": "stream",
     "text": [
      "1 2 4\n"
     ]
    }
   ],
   "source": [
    "a,b,c=[1,2,4]\n",
    "print(a,b,c)"
   ]
  },
  {
   "cell_type": "code",
   "execution_count": 169,
   "id": "5f8d0b94",
   "metadata": {
    "hidden": true,
    "scrolled": true
   },
   "outputs": [],
   "source": [
    "A_Muestras=Week_data_def(Data,0)"
   ]
  },
  {
   "cell_type": "code",
   "execution_count": 168,
   "id": "9e337c6b",
   "metadata": {
    "hidden": true,
    "scrolled": true
   },
   "outputs": [
    {
     "data": {
      "text/plain": [
       "[0.18647687109941768,\n",
       " 0.16743184722890403,\n",
       " <statsmodels.regression.linear_model.RegressionResultsWrapper at 0x2254470deb0>]"
      ]
     },
     "execution_count": 168,
     "metadata": {},
     "output_type": "execute_result"
    }
   ],
   "source": [
    "Week_Log_P_LogQA(A_Muestras,'4')"
   ]
  },
  {
   "cell_type": "markdown",
   "id": "5c14272e",
   "metadata": {
    "heading_collapsed": true
   },
   "source": [
    "### Aplicación iterativa"
   ]
  },
  {
   "cell_type": "code",
   "execution_count": 184,
   "id": "fd4f7574",
   "metadata": {
    "hidden": true,
    "scrolled": true
   },
   "outputs": [
    {
     "data": {
      "text/html": [
       "<div>\n",
       "<style scoped>\n",
       "    .dataframe tbody tr th:only-of-type {\n",
       "        vertical-align: middle;\n",
       "    }\n",
       "\n",
       "    .dataframe tbody tr th {\n",
       "        vertical-align: top;\n",
       "    }\n",
       "\n",
       "    .dataframe thead th {\n",
       "        text-align: right;\n",
       "    }\n",
       "</style>\n",
       "<table border=\"1\" class=\"dataframe\">\n",
       "  <thead>\n",
       "    <tr style=\"text-align: right;\">\n",
       "      <th></th>\n",
       "      <th>Tipo de Semana</th>\n",
       "      <th>$R^2$ Data Train</th>\n",
       "      <th>$R^2$ Data Test</th>\n",
       "      <th>Model fii</th>\n",
       "    </tr>\n",
       "  </thead>\n",
       "  <tbody>\n",
       "    <tr>\n",
       "      <th>0</th>\n",
       "      <td>3</td>\n",
       "      <td>0.168075</td>\n",
       "      <td>0.174286</td>\n",
       "      <td>&lt;statsmodels.regression.linear_model.Regressio...</td>\n",
       "    </tr>\n",
       "    <tr>\n",
       "      <th>1</th>\n",
       "      <td>2</td>\n",
       "      <td>0.355879</td>\n",
       "      <td>0.363835</td>\n",
       "      <td>&lt;statsmodels.regression.linear_model.Regressio...</td>\n",
       "    </tr>\n",
       "    <tr>\n",
       "      <th>2</th>\n",
       "      <td>1</td>\n",
       "      <td>0.316439</td>\n",
       "      <td>0.315611</td>\n",
       "      <td>&lt;statsmodels.regression.linear_model.Regressio...</td>\n",
       "    </tr>\n",
       "    <tr>\n",
       "      <th>3</th>\n",
       "      <td>0</td>\n",
       "      <td>0.320725</td>\n",
       "      <td>0.343729</td>\n",
       "      <td>&lt;statsmodels.regression.linear_model.Regressio...</td>\n",
       "    </tr>\n",
       "    <tr>\n",
       "      <th>4</th>\n",
       "      <td>4</td>\n",
       "      <td>0.186477</td>\n",
       "      <td>0.167432</td>\n",
       "      <td>&lt;statsmodels.regression.linear_model.Regressio...</td>\n",
       "    </tr>\n",
       "  </tbody>\n",
       "</table>\n",
       "</div>"
      ],
      "text/plain": [
       "  Tipo de Semana  $R^2$ Data Train  $R^2$ Data Test  \\\n",
       "0              3          0.168075         0.174286   \n",
       "1              2          0.355879         0.363835   \n",
       "2              1          0.316439         0.315611   \n",
       "3              0          0.320725         0.343729   \n",
       "4              4          0.186477         0.167432   \n",
       "\n",
       "                                           Model fii  \n",
       "0  <statsmodels.regression.linear_model.Regressio...  \n",
       "1  <statsmodels.regression.linear_model.Regressio...  \n",
       "2  <statsmodels.regression.linear_model.Regressio...  \n",
       "3  <statsmodels.regression.linear_model.Regressio...  \n",
       "4  <statsmodels.regression.linear_model.Regressio...  "
      ]
     },
     "execution_count": 184,
     "metadata": {},
     "output_type": "execute_result"
    }
   ],
   "source": [
    "A_Muestras=Week_data_def(Data,0)\n",
    "array_mod=[ [i]+ \n",
    "           Week_Log_P_LogQA( A_Muestras , i) \n",
    "           for i in Data['Tipo de Semana'].unique()]\n",
    "data_Mod_week_split=pd.DataFrame(array_mod\n",
    "            ,columns=[\n",
    "                'Tipo de Semana'\n",
    "                ,'$R^2$ Data Train'\n",
    "                ,'$R^2$ Data Test'\n",
    "                ,'Model fii']\n",
    "            )\n",
    "data_Mod_week_split"
   ]
  },
  {
   "cell_type": "markdown",
   "id": "f46ba746",
   "metadata": {},
   "source": [
    "## Resultado del modelo "
   ]
  },
  {
   "cell_type": "code",
   "execution_count": 196,
   "id": "4319c64e",
   "metadata": {
    "scrolled": true
   },
   "outputs": [
    {
     "data": {
      "text/plain": [
       "Tipo de Semana      6420.800\n",
       "$R^2$ Data Train       0.270\n",
       "$R^2$ Data Test        0.273\n",
       "dtype: float64"
      ]
     },
     "execution_count": 196,
     "metadata": {},
     "output_type": "execute_result"
    }
   ],
   "source": [
    "data_Mod_week_split.mean().round(3)"
   ]
  },
  {
   "cell_type": "code",
   "execution_count": 205,
   "id": "3b61388c",
   "metadata": {
    "scrolled": false
   },
   "outputs": [
    {
     "name": "stdout",
     "output_type": "stream",
     "text": [
      "\\begin{tabular}{llrr}\n",
      "\\toprule\n",
      "{} & Tipo de Semana &  \\$R\\textasciicircum 2\\$ Data Train &  \\$R\\textasciicircum 2\\$ Data Test \\\\\n",
      "\\midrule\n",
      "3 &              0 &             0.321 &            0.344 \\\\\n",
      "2 &              1 &             0.316 &            0.316 \\\\\n",
      "1 &              2 &             0.356 &            0.364 \\\\\n",
      "0 &              3 &             0.168 &            0.174 \\\\\n",
      "4 &              4 &             0.186 &            0.167 \\\\\n",
      "\\bottomrule\n",
      "\\end{tabular}\n",
      "\n"
     ]
    },
    {
     "data": {
      "text/html": [
       "<div>\n",
       "<style scoped>\n",
       "    .dataframe tbody tr th:only-of-type {\n",
       "        vertical-align: middle;\n",
       "    }\n",
       "\n",
       "    .dataframe tbody tr th {\n",
       "        vertical-align: top;\n",
       "    }\n",
       "\n",
       "    .dataframe thead th {\n",
       "        text-align: right;\n",
       "    }\n",
       "</style>\n",
       "<table border=\"1\" class=\"dataframe\">\n",
       "  <thead>\n",
       "    <tr style=\"text-align: right;\">\n",
       "      <th></th>\n",
       "      <th>Tipo de Semana</th>\n",
       "      <th>$R^2$ Data Train</th>\n",
       "      <th>$R^2$ Data Test</th>\n",
       "    </tr>\n",
       "  </thead>\n",
       "  <tbody>\n",
       "    <tr>\n",
       "      <th>3</th>\n",
       "      <td>0</td>\n",
       "      <td>0.321</td>\n",
       "      <td>0.344</td>\n",
       "    </tr>\n",
       "    <tr>\n",
       "      <th>2</th>\n",
       "      <td>1</td>\n",
       "      <td>0.316</td>\n",
       "      <td>0.316</td>\n",
       "    </tr>\n",
       "    <tr>\n",
       "      <th>1</th>\n",
       "      <td>2</td>\n",
       "      <td>0.356</td>\n",
       "      <td>0.364</td>\n",
       "    </tr>\n",
       "    <tr>\n",
       "      <th>0</th>\n",
       "      <td>3</td>\n",
       "      <td>0.168</td>\n",
       "      <td>0.174</td>\n",
       "    </tr>\n",
       "    <tr>\n",
       "      <th>4</th>\n",
       "      <td>4</td>\n",
       "      <td>0.186</td>\n",
       "      <td>0.167</td>\n",
       "    </tr>\n",
       "  </tbody>\n",
       "</table>\n",
       "</div>"
      ],
      "text/plain": [
       "  Tipo de Semana  $R^2$ Data Train  $R^2$ Data Test\n",
       "3              0             0.321            0.344\n",
       "2              1             0.316            0.316\n",
       "1              2             0.356            0.364\n",
       "0              3             0.168            0.174\n",
       "4              4             0.186            0.167"
      ]
     },
     "execution_count": 205,
     "metadata": {},
     "output_type": "execute_result"
    }
   ],
   "source": [
    "print(data_Mod_week_split.sort_values('Tipo de Semana')[[\n",
    "                'Tipo de Semana'\n",
    "                ,'$R^2$ Data Train'\n",
    "                ,'$R^2$ Data Test']].round(3).to_latex())\n",
    "data_Mod_week_split.sort_values('Tipo de Semana')[[\n",
    "                'Tipo de Semana'\n",
    "                ,'$R^2$ Data Train'\n",
    "                ,'$R^2$ Data Test']].round(3)"
   ]
  },
  {
   "cell_type": "markdown",
   "id": "1ef09bf4",
   "metadata": {},
   "source": [
    "# Curva del modelo Elegido "
   ]
  },
  {
   "cell_type": "code",
   "execution_count": 226,
   "id": "5ac4d2c0",
   "metadata": {},
   "outputs": [
    {
     "data": {
      "text/plain": [
       "Index(['Semana', 'Tipo de Semana', 'Material (Nombre)', 'Kilos Venta KG',\n",
       "       'Precio', 'Día natural', 'Día Semana', 'Mes', 'Año', 'Población',\n",
       "       'Centro', 'Cliente', 'Cluster', 'Segmento.1', 'Categoría Cliente',\n",
       "       'Año Creación', 'Material Favorito', 'Frecuencia Historica', 'Mes_num',\n",
       "       'Recency', 'Frecuency_Row', 'Ingreso de Venta CLP', 'Monetary',\n",
       "       'Recency días'],\n",
       "      dtype='object')"
      ]
     },
     "execution_count": 226,
     "metadata": {},
     "output_type": "execute_result"
    }
   ],
   "source": [
    "Df.columns"
   ]
  },
  {
   "cell_type": "code",
   "execution_count": 232,
   "id": "eb793c25",
   "metadata": {},
   "outputs": [],
   "source": [
    "import sklearn\n",
    "import statsmodels.api as sm\n",
    "\n",
    "def X_set(X):\n",
    "    X_Set_Def=X.copy()\n",
    "\n",
    "    X_Set_Def['Kilos Venta KG']=X_Set_Def['Kilos Venta KG'].apply(lambda x: np.log(x))\n",
    "    \n",
    "    if('Año' in X_Set_Def.columns):\n",
    "        X_Set_Def['Año']=X_Set_Def['Año'].astype('int64')\n",
    "        X_Set_Def['Año']= X_Set_Def['Año']-X_Set_Def['Año'].min() #2018\n",
    "    \n",
    "    if('Semana' in X_Set_Def.columns):\n",
    "        X_Set_Def['Semana']=X_Set_Def['Semana'].astype('category')\n",
    "\n",
    "    if('Tipo de Semana' in X_Set_Def.columns):\n",
    "        X_Set_Def['Tipo de Semana']=X_Set_Def['Tipo de Semana'].astype('category')\n",
    "    \n",
    "    print(X_Set_Def.dtypes,'\\n'+'='*50)\n",
    "\n",
    "    # Dummies\n",
    "    X_Set_Def=pd.get_dummies(X_Set_Def, drop_first=True)\n",
    "    \n",
    "    X_Set_Def['Intecepto']=[1 for i in range(X_Set_Def.shape[0])]\n",
    "    return(X_Set_Def)\n",
    "\n",
    "def Func_log_log_Tip_week(Data_F):\n",
    "    #===================================\n",
    "    #Ajuste de los datos\n",
    "    #-----------------------------------\n",
    "    X_Columnas=['Kilos Venta KG','Año','Tipo de Semana']\n",
    "    y_pred_Columna='Precio'\n",
    "\n",
    "    y=Data_F[y_pred_Columna].copy()\n",
    "    X=X_set(Data_F[ X_Columnas ].copy())\n",
    "\n",
    "\n",
    "    #Aplico Ln a y\n",
    "    y=y.apply(lambda x: np.log(x))\n",
    "\n",
    "    \n",
    "#     X['Kilos Venta KG']=X['Kilos Venta KG'].apply(lambda x: np.log(x))\n",
    "\n",
    "#     #X['Semana']=X['Semana'].astype('category')\n",
    "#     if('Año' in X_Columnas):\n",
    "#         X['Año']=X['Año'].astype('int64')\n",
    "#         X['Año']= X['Año']-X['Año'].min() #2018\n",
    "#     if('Semana' in X_Columnas):\n",
    "#         X['Semana']=X['Semana'].astype('category')\n",
    "\n",
    "#     if('Tipo de Semana' in X_Columnas):\n",
    "#         X['Tipo de Semana']=X['Tipo de Semana'].astype('category')\n",
    "\n",
    "#     print(X.dtypes,'\\n'+'='*50)\n",
    "\n",
    "#     # Dummies\n",
    "#     X=pd.get_dummies(X, drop_first=True)\n",
    "\n",
    "#     #OLS requiere de un intercepto\n",
    "\n",
    "#     X['Intecepto']=[1 for i in range(X.shape[0])]\n",
    "\n",
    "#     #se agrega el intercepto a la ecuación\n",
    "\n",
    "    #Calculo de la correlación entre variables\n",
    "    print('Correlación Variables sobre la Variable ', y_pred_Columna,\n",
    "        '\\n'+'-'*50+'\\n' ,pd.merge(y.reset_index(),X.reset_index()).corr()[y_pred_Columna])\n",
    "\n",
    "    #===================================\n",
    "    # Entrenamiento\n",
    "    #-----------------------------------\n",
    "    #SPLIT TEST OR TRAIN\n",
    "\n",
    "\n",
    "    # y=y/y.max()\n",
    "\n",
    "    X_train, X_test, y_train, y_test = train_test_split(X, y, random_state=0)\n",
    "\n",
    "\n",
    "    # TRAIN MODEL\n",
    "    # from sklearn.linear_model import Ridge\n",
    "    # ridge = Ridge().fit(X_train, y_train)\n",
    "\n",
    "\n",
    "    mod = sm.OLS(y_train,X_train)\n",
    "    fii = mod.fit()\n",
    "    print('$R^2$ Data Train'  ,sklearn.metrics.r2_score(y_train,fii.predict()).round(3) )\n",
    "    print('$R^2$ Data Test'  ,sklearn.metrics.r2_score(y_test,fii.predict(exog=X_test)).round(3))\n",
    "\n",
    "\n",
    "    #==========================================\n",
    "    # Todos los datos, desde ell 2018\n",
    "    # $R^2$ Data Train 0.4378602682377155\n",
    "    # $R^2$ Data Test 0.43860226392178925\n",
    "    return(fii)"
   ]
  },
  {
   "cell_type": "code",
   "execution_count": 224,
   "id": "d77a33b8",
   "metadata": {},
   "outputs": [],
   "source": [
    "Df=Data.copy()"
   ]
  },
  {
   "cell_type": "code",
   "execution_count": 233,
   "id": "92923bb7",
   "metadata": {
    "scrolled": true
   },
   "outputs": [
    {
     "name": "stdout",
     "output_type": "stream",
     "text": [
      "Kilos Venta KG     float64\n",
      "Año                  int64\n",
      "Tipo de Semana    category\n",
      "dtype: object \n",
      "==================================================\n",
      "Correlación Variables sobre la Variable  Precio \n",
      "--------------------------------------------------\n",
      " index               0.138711\n",
      "Precio              1.000000\n",
      "Kilos Venta KG     -0.401401\n",
      "Año                 0.290987\n",
      "Tipo de Semana_1   -0.024676\n",
      "Tipo de Semana_2    0.218602\n",
      "Tipo de Semana_3    0.224698\n",
      "Tipo de Semana_4    0.194520\n",
      "Intecepto                NaN\n",
      "Name: Precio, dtype: float64\n",
      "$R^2$ Data Train 0.438\n",
      "$R^2$ Data Test 0.439\n"
     ]
    }
   ],
   "source": [
    "Fit_M=Func_log_log_Tip_week(Df)"
   ]
  },
  {
   "cell_type": "code",
   "execution_count": 243,
   "id": "e196be7e",
   "metadata": {},
   "outputs": [
    {
     "name": "stdout",
     "output_type": "stream",
     "text": [
      "Kilos Venta KG     float64\n",
      "Año                  int64\n",
      "Tipo de Semana    category\n",
      "dtype: object \n",
      "==================================================\n"
     ]
    },
    {
     "data": {
      "text/plain": [
       "0         1376.959428\n",
       "1         1345.614000\n",
       "2         1446.868749\n",
       "3         1491.274268\n",
       "4         1334.599973\n",
       "             ...     \n",
       "198591    1610.375527\n",
       "198592    1560.835484\n",
       "198593    1349.742939\n",
       "198594    1610.375527\n",
       "198595    1439.478187\n",
       "Name: Precio Estimado, Length: 198596, dtype: float64"
      ]
     },
     "execution_count": 243,
     "metadata": {},
     "output_type": "execute_result"
    }
   ],
   "source": [
    "Df['Precio Estimado']=Fit_M.predict(exog=\n",
    "              X_set(\n",
    "                  Df[['Kilos Venta KG','Año','Tipo de Semana']])).apply(lambda x: np.e**x)\n",
    "Df['Precio Estimado']"
   ]
  },
  {
   "cell_type": "code",
   "execution_count": 247,
   "id": "f75ff8ce",
   "metadata": {},
   "outputs": [],
   "source": [
    "Df['△Valoración']=\\\n",
    "    Df['Precio']-Df['Precio Estimado']\n",
    "Df['%△Valoración']=\\\n",
    "    (Df['Precio']-Df['Precio Estimado'])/Df['Precio Estimado']"
   ]
  },
  {
   "cell_type": "code",
   "execution_count": 250,
   "id": "69310a4b",
   "metadata": {},
   "outputs": [
    {
     "data": {
      "text/html": [
       "<div>\n",
       "<style scoped>\n",
       "    .dataframe tbody tr th:only-of-type {\n",
       "        vertical-align: middle;\n",
       "    }\n",
       "\n",
       "    .dataframe tbody tr th {\n",
       "        vertical-align: top;\n",
       "    }\n",
       "\n",
       "    .dataframe thead th {\n",
       "        text-align: right;\n",
       "    }\n",
       "</style>\n",
       "<table border=\"1\" class=\"dataframe\">\n",
       "  <thead>\n",
       "    <tr style=\"text-align: right;\">\n",
       "      <th></th>\n",
       "      <th>△Valoración</th>\n",
       "      <th>%△Valoración</th>\n",
       "    </tr>\n",
       "  </thead>\n",
       "  <tbody>\n",
       "    <tr>\n",
       "      <th>count</th>\n",
       "      <td>198596.000000</td>\n",
       "      <td>198596.000000</td>\n",
       "    </tr>\n",
       "    <tr>\n",
       "      <th>mean</th>\n",
       "      <td>3.723883</td>\n",
       "      <td>0.002974</td>\n",
       "    </tr>\n",
       "    <tr>\n",
       "      <th>std</th>\n",
       "      <td>98.716200</td>\n",
       "      <td>0.077474</td>\n",
       "    </tr>\n",
       "    <tr>\n",
       "      <th>min</th>\n",
       "      <td>-1217.683201</td>\n",
       "      <td>-0.952295</td>\n",
       "    </tr>\n",
       "    <tr>\n",
       "      <th>25%</th>\n",
       "      <td>-49.265746</td>\n",
       "      <td>-0.037478</td>\n",
       "    </tr>\n",
       "    <tr>\n",
       "      <th>50%</th>\n",
       "      <td>4.825490</td>\n",
       "      <td>0.003921</td>\n",
       "    </tr>\n",
       "    <tr>\n",
       "      <th>75%</th>\n",
       "      <td>62.839785</td>\n",
       "      <td>0.050197</td>\n",
       "    </tr>\n",
       "    <tr>\n",
       "      <th>max</th>\n",
       "      <td>1264.291404</td>\n",
       "      <td>1.021477</td>\n",
       "    </tr>\n",
       "  </tbody>\n",
       "</table>\n",
       "</div>"
      ],
      "text/plain": [
       "         △Valoración   %△Valoración\n",
       "count  198596.000000  198596.000000\n",
       "mean        3.723883       0.002974\n",
       "std        98.716200       0.077474\n",
       "min     -1217.683201      -0.952295\n",
       "25%       -49.265746      -0.037478\n",
       "50%         4.825490       0.003921\n",
       "75%        62.839785       0.050197\n",
       "max      1264.291404       1.021477"
      ]
     },
     "execution_count": 250,
     "metadata": {},
     "output_type": "execute_result"
    }
   ],
   "source": [
    "Df[['△Valoración'\n",
    "  ,'%△Valoración'\n",
    "  ]].describe()"
   ]
  },
  {
   "cell_type": "code",
   "execution_count": 256,
   "id": "7f4ef714",
   "metadata": {},
   "outputs": [
    {
     "data": {
      "text/plain": [
       "array(['3', '2', '1', '0', '4'], dtype=object)"
      ]
     },
     "execution_count": 256,
     "metadata": {},
     "output_type": "execute_result"
    }
   ],
   "source": [
    "Df['Tipo de Semana'].unique()"
   ]
  },
  {
   "cell_type": "code",
   "execution_count": 257,
   "id": "3834688a",
   "metadata": {
    "scrolled": false
   },
   "outputs": [
    {
     "data": {
      "image/png": "[encoded data removed]",
      "text/plain": [
       "<Figure size 640x480 with 1 Axes>"
      ]
     },
     "metadata": {},
     "output_type": "display_data"
    },
    {
     "data": {
      "image/png": "[encoded data removed]",
      "text/plain": [
       "<Figure size 640x480 with 1 Axes>"
      ]
     },
     "metadata": {},
     "output_type": "display_data"
    },
    {
     "data": {
      "image/png": "[encoded data removed]",
      "text/plain": [
       "<Figure size 640x480 with 1 Axes>"
      ]
     },
     "metadata": {},
     "output_type": "display_data"
    },
    {
     "data": {
      "image/png": "[encoded data removed]",
      "text/plain": [
       "<Figure size 640x480 with 1 Axes>"
      ]
     },
     "metadata": {},
     "output_type": "display_data"
    },
    {
     "data": {
      "image/png": "[encoded data removed]",
      "text/plain": [
       "<Figure size 640x480 with 1 Axes>"
      ]
     },
     "metadata": {},
     "output_type": "display_data"
    },
    {
     "data": {
      "text/plain": [
       "[<ggplot: (147451696372)>,\n",
       " <ggplot: (147451702809)>,\n",
       " <ggplot: (147445483632)>,\n",
       " <ggplot: (147451737826)>,\n",
       " <ggplot: (147451732550)>]"
      ]
     },
     "execution_count": 257,
     "metadata": {},
     "output_type": "execute_result"
    }
   ],
   "source": [
    "# Graph_Disp=list()\n",
    "\n",
    "Graph_Disp=[\n",
    "    ggplot(\n",
    "        Df[(Df['Tipo de Semana']==i)\n",
    "          &(Df.Año=='2020')\n",
    "          ]\n",
    "           , aes(x='Kilos Venta KG',y='Precio'\n",
    "                  ,color='%△Valoración'\n",
    "                  )\n",
    "          )\\\n",
    "+ geom_point(alpha=0.4)\\\n",
    "\n",
    "+ geom_line(aes(x='Kilos Venta KG',y='Precio Estimado'),\n",
    "            color='red', size=2,alpha=0.5)\\\n",
    "            + facet_grid('Tipo de Semana~Año')\\\n",
    "+ggtitle('Grafico de los Ranking de Precios')\n",
    "\n",
    "for i in Df['Tipo de Semana'].unique()\n",
    "]\n",
    "Graph_Disp"
   ]
  },
  {
   "cell_type": "code",
   "execution_count": 265,
   "id": "b7a372b0",
   "metadata": {
    "scrolled": false
   },
   "outputs": [
    {
     "data": {
      "image/png": "[encoded data removed]",
      "text/plain": [
       "<Figure size 500x300 with 1 Axes>"
      ]
     },
     "metadata": {},
     "output_type": "display_data"
    },
    {
     "data": {
      "text/plain": [
       "<ggplot: (147477633458)>"
      ]
     },
     "execution_count": 265,
     "metadata": {},
     "output_type": "execute_result"
    }
   ],
   "source": [
    "# Graph_Disp=list()\n",
    "\n",
    "Graph_Disp=[\n",
    "    ggplot(\n",
    "        Df[(Df['Tipo de Semana']==i)\n",
    "          &(Df.Año=='2020')\n",
    "          ]\n",
    "           , aes(x='Kilos Venta KG',y='Precio'\n",
    "                  ,color='%△Valoración'\n",
    "                  )\n",
    "          )\\\n",
    "+ geom_point(alpha=0.4)\\\n",
    "\n",
    "+ geom_line(aes(x='Kilos Venta KG',y='Precio Estimado'),\n",
    "            color='red', size=2,alpha=0.5)\\\n",
    "            + facet_grid('Tipo de Semana~Año')\\\n",
    "+ggtitle('Grafico valoración de la compra')\n",
    "\n",
    "+ scale_color_continuous(labels=percent_format()) # display labels as a percentage    \n",
    "+coord_cartesian(xlim = [0,1000])\n",
    "+theme(\n",
    "#               axis_text_x = element_text(angle=60, hjust=1),\n",
    "        figure_size=(5,3))\n",
    "for i in Df['Tipo de Semana'].unique()\n",
    "]\n",
    "Graph_Disp[0]"
   ]
  },
  {
   "cell_type": "code",
   "execution_count": 264,
   "id": "5f3b4e5c",
   "metadata": {},
   "outputs": [
    {
     "data": {
      "text/plain": [
       "array(['3', '2', '1', '0', '4'], dtype=object)"
      ]
     },
     "execution_count": 264,
     "metadata": {},
     "output_type": "execute_result"
    }
   ],
   "source": [
    "Df['Tipo de Semana'].unique()"
   ]
  },
  {
   "cell_type": "code",
   "execution_count": 266,
   "id": "740f4d86",
   "metadata": {},
   "outputs": [
    {
     "name": "stderr",
     "output_type": "stream",
     "text": [
      "C:\\Users\\user\\anaconda3\\lib\\site-packages\\plotnine\\ggplot.py:820: PlotnineWarning: Filename: C:\\Users\\user\\Documents\\Graficos\\Canal Tradicional\\1010078\\Otros Atributos\\Disp_Pago\\Valoración del precio Kg.pdf\n"
     ]
    },
    {
     "name": "stdout",
     "output_type": "stream",
     "text": [
      "Time Lapsed = 0:0:12.09548568725586 \n",
      " H:m:s\n"
     ]
    }
   ],
   "source": [
    "# ```python\n",
    "file_name=('Valoración del precio Kg')\n",
    "\n",
    "pngfill=      Png_file_direct_Graphic_Canal_Material\\\n",
    "        +\"\\\\Otros Atributos\\\\Disp_Pago\"\n",
    "\n",
    "start_time = time.time()\n",
    "save_as_pdf_pages(\n",
    "                    Graph_Disp\n",
    "                    ,pngfill \n",
    "            +\"\\\\\"+ file_name + \".pdf\")\n",
    "time_convert(time.time()-start_time)\n",
    "# ```"
   ]
  }
 ],
 "metadata": {
  "celltoolbar": "Raw Cell Format",
  "kernelspec": {
   "display_name": "Python 3",
   "language": "python",
   "name": "python3"
  },
  "language_info": {
   "codemirror_mode": {
    "name": "ipython",
    "version": 3
   },
   "file_extension": ".py",
   "mimetype": "text/x-python",
   "name": "python",
   "nbconvert_exporter": "python",
   "pygments_lexer": "ipython3",
   "version": "3.8.5"
  },
  "toc": {
   "base_numbering": 1,
   "nav_menu": {
    "height": "89px",
    "width": "334px"
   },
   "number_sections": true,
   "sideBar": true,
   "skip_h1_title": false,
   "title_cell": "Table of Contents",
   "title_sidebar": "Contents",
   "toc_cell": false,
   "toc_position": {
    "height": "calc(100% - 180px)",
    "left": "10px",
    "top": "150px",
    "width": "245.047px"
   },
   "toc_section_display": true,
   "toc_window_display": true
  }
 },
 "nbformat": 4,
 "nbformat_minor": 5
}
