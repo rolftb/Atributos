{
 "cells": [
  {
   "cell_type": "code",
   "execution_count": 1,
   "id": "aa7a547e",
   "metadata": {},
   "outputs": [],
   "source": [
    "#!jt -l\n",
    "# !jt -t oceans16 -T\n",
    "# !jt -r"
   ]
  },
  {
   "cell_type": "markdown",
   "id": "6f92b530",
   "metadata": {},
   "source": [
    "Notas:\n",
    "--------\n",
    "- [x] Estudiar Recency.__\n",
    "    - [x] Histograma Row simple\n",
    "    - [x] Probar esta función\n",
    "    - [x] Implementar"
   ]
  },
  {
   "cell_type": "markdown",
   "id": "7f7aaa87",
   "metadata": {},
   "source": [
    "##### Tarea anterior "
   ]
  },
  {
   "cell_type": "markdown",
   "id": "b35683e4",
   "metadata": {},
   "source": [
    "- [x] __Construir la variable Recency.__\n",
    "    - [x] Sección para caso pequeño\n",
    "    - [x] Función para estadnarizar\n",
    "    - [x] Probar esta función\n",
    "    - [x] Implementar\n",
    "- [x] __Contruir Frecuency__\n",
    "    - [x] Sección para caso pequeño\n",
    "    - [x] Función para estadnarizar\n",
    "    - [x] Probar esta función\n",
    "    - [x] Implementar\n",
    "- [x] __Construir Monetary__\n",
    "    - [x] Sección para caso pequeño\n",
    "    - [x] Función para estadnarizar\n",
    "    - [x] Probar esta función\n",
    "    - [x] Implementar   "
   ]
  },
  {
   "cell_type": "markdown",
   "id": "48cc505f",
   "metadata": {},
   "source": [
    "# Inicio\n"
   ]
  },
  {
   "cell_type": "markdown",
   "id": "7c2a8234",
   "metadata": {},
   "source": [
    "\n",
    "__Rename__\n",
    "Recordar que la columna llamada\n",
    "\n",
    "- `Precio promedio` ahora es `Precio`\n",
    "- `Centro.1` ahora es `Centro`\n",
    "- `Centro` ahora es `Centro_Cod`\n",
    "\n",
    "Presenta los parametros del modelo:\n",
    "\n",
    "- Dirección datos\n",
    "- Dirección Graficos\n",
    "- _Material a analizar_\n",
    "- _Canal a analizar_\n",
    "- _Zona de los Datos_\n",
    "- _Año de inicio de analizis_\n",
    "\n",
    "Base de datos\n",
    "\n",
    "\n",
    "`Tipo_de_Cliente`\n",
    "`Y_producto`\n",
    "`Año_inicio`\n",
    "\n",
    "`file_direct_Graphic` "
   ]
  },
  {
   "cell_type": "markdown",
   "id": "8bad43fc",
   "metadata": {
    "heading_collapsed": true
   },
   "source": [
    "## Parametros \n",
    "data frame `data_i`\n",
    "\n",
    "\n",
    "> - Producto `i_producto = Y_producto`\n",
    "> -Para el Canal `Tipo_de_Cliente`\n",
    "> -Variable a predecir/Grafico `Y_Variable`\n",
    "\n",
    "Columnas de interes para predecir `X_col`\n",
    "\n",
    "Diccionario del grupo de columnas `Dic_col`"
   ]
  },
  {
   "cell_type": "code",
   "execution_count": 2,
   "id": "a0737e98",
   "metadata": {
    "hidden": true
   },
   "outputs": [],
   "source": [
    "#===================================\n",
    "# Archivo\n",
    "#===================================\n",
    "Zona_df='Z001'\n",
    "\n",
    "#===================================\n",
    "# Clientes\n",
    "#===================================\n",
    "Tipo_de_Cliente='Tradicional'\n",
    "\n",
    "#===================================\n",
    "# Producto de interes\n",
    "#===================================\n",
    "Y_producto='1010078'\n",
    "\n",
    "\n",
    "#===================================\n",
    "# Año de Partida\n",
    "#===================================\n",
    "Año_inicio='2018'\n",
    "\n",
    "\n",
    "\n",
    "\n",
    "# Ordenador de escritorio\n",
    "\n",
    "file_direct_O=\"C:/Users/user/Documents/Data/Data Clear/\"+Zona_df+\"/\"\n",
    "file_direct_Clear=\"C:/Users/user/Documents/Data/Data Clear/\"\n",
    "file_direct_Graphic='C:/Users/user/Documents/Graficos'\n",
    "Png_file_direct_Graphic=\"C:\\\\Users\\\\user\\\\Documents\\\\Graficos\"\n",
    "\"\"\"\n",
    "\n",
    "#Notebook\n",
    "file_direct_O=\"C:/Users/rolft/Documents/Repositorios/Data/Data Clear/\"+Zona_df+\"/\"\n",
    "file_direct_Clear=\"C:/Users/rolft/Documents/Repositorios/Data/Data Clear/\"\n",
    "file_direct_Graphic='C:/Users/rolft/Documents/Repositorios/Graficos'\n",
    "Png_file_direct_Graphic='C:\\\\Users\\\\rolft\\\\Documents\\\\Repositorios\\\\Graficos'\n",
    "\"\"\"\n",
    "#Graficos\n",
    "file_direct_Graphic_Canal=file_direct_Graphic+\"/\"+Tipo_de_Cliente\n",
    "file_direct_Graphic_Canal_Material=file_direct_Graphic_Canal+'/'+Y_producto\n",
    "\n",
    "Png_file_direct_Graphic_Canal=Png_file_direct_Graphic+'\\\\'+'Canal '+Tipo_de_Cliente\n",
    "Png_file_direct_Graphic_Canal_Material=Png_file_direct_Graphic_Canal+'\\\\'+Y_producto\n"
   ]
  },
  {
   "cell_type": "markdown",
   "id": "f80e374d",
   "metadata": {
    "heading_collapsed": true
   },
   "source": [
    "## Intalar paquetes, Abrir data y ajustarla "
   ]
  },
  {
   "cell_type": "markdown",
   "id": "6a7c4706",
   "metadata": {
    "hidden": true
   },
   "source": [
    "### import"
   ]
  },
  {
   "cell_type": "code",
   "execution_count": 3,
   "id": "faaa036d",
   "metadata": {
    "hidden": true,
    "scrolled": true
   },
   "outputs": [],
   "source": [
    "#from adjustText import adjust_text\n",
    "# from adjustText import *"
   ]
  },
  {
   "cell_type": "code",
   "execution_count": 4,
   "id": "0ea91ad7",
   "metadata": {
    "hidden": true
   },
   "outputs": [],
   "source": [
    "#=====================================================\n",
    "                # BASE \n",
    "#-----------------------------------------------------\n",
    "import pandas as pd\n",
    "import numpy as np\n",
    "import matplotlib.pyplot as plt\n",
    "\n",
    "#from geopandas import *\n",
    "\n",
    "from plotnine import *\n",
    "\n",
    "#para ajustar las fechas\n",
    "import datetime\n",
    "\n",
    "#para calcular el skew de un array() o list()\n",
    "from scipy.stats import skew "
   ]
  },
  {
   "cell_type": "code",
   "execution_count": 5,
   "id": "8916d4cd",
   "metadata": {
    "hidden": true
   },
   "outputs": [],
   "source": [
    "#=====================================================\n",
    "                # sklearn \n",
    "#-----------------------------------------------------\n",
    "\n",
    "#Separador de datos en train/test\n",
    "from sklearn.model_selection import train_test_split\n",
    "\n",
    "#Prediccion Ridge Regression\n",
    "from sklearn.linear_model import Ridge"
   ]
  },
  {
   "cell_type": "code",
   "execution_count": 6,
   "id": "8d82be85",
   "metadata": {
    "hidden": true
   },
   "outputs": [],
   "source": [
    "#=====================================================\n",
    "                # statsmodels \n",
    "#-----------------------------------------------------\n",
    "import statsmodels.api as sm\n",
    "import statsmodels.formula.api as smf\n",
    "from statsmodels.tools.sm_exceptions import ConvergenceWarning\n",
    "\n",
    "\n",
    "#from statsmodels.regression.mixed_linear_model import MixedLMResults\n",
    "# No se para qué sirve este"
   ]
  },
  {
   "cell_type": "code",
   "execution_count": 7,
   "id": "734ff701",
   "metadata": {
    "hidden": true
   },
   "outputs": [],
   "source": [
    "#====================================================\n",
    "#librerias para crear division de series temporales\n",
    "#====================================================\n",
    "\n",
    "from mizani.breaks import date_breaks\n",
    "from mizani.formatters import date_format"
   ]
  },
  {
   "cell_type": "code",
   "execution_count": 8,
   "id": "34160d20",
   "metadata": {
    "hidden": true
   },
   "outputs": [],
   "source": [
    "# stopwatch\n",
    "import time\n",
    "def time_convert(sec):\n",
    "  mins = sec // 60\n",
    "  sec = sec % 60\n",
    "  hours = mins // 60\n",
    "  mins = mins % 60\n",
    "  print(\"Time Lapsed = {0}:{1}:{2}\".format(int(hours),int(mins),sec),'\\n H:m:s')\n",
    "#==================================\n",
    "#          Example\n",
    "#    input(\"Press Enter to start\")\n",
    "start_time = time.time()\n",
    "#    input(\"Press Enter to stop\")\n",
    "#    end_time = time.time()\n",
    "#    time_lapsed = end_time - start_time\n",
    "#    time_convert(time_lapsed)\n",
    "#================================="
   ]
  },
  {
   "cell_type": "code",
   "execution_count": 9,
   "id": "b400675d",
   "metadata": {
    "hidden": true
   },
   "outputs": [],
   "source": [
    "#Histograma con porcentajes\n",
    "from mizani.formatters import percent_format"
   ]
  },
  {
   "cell_type": "markdown",
   "id": "0e0194b5",
   "metadata": {
    "heading_collapsed": true,
    "hidden": true
   },
   "source": [
    "### Funciones \n",
    "```python\n",
    "#Mes_name\n",
    "data_i.Mes.apply(Mes_name)\n",
    "```\n",
    ">Transforma la columna mes numerica en el nombre del mes"
   ]
  },
  {
   "cell_type": "markdown",
   "id": "76bc8afd",
   "metadata": {
    "hidden": true
   },
   "source": [
    "__Forma de crear una etiqueta para un valor especifico__\n",
    "```python\n",
    "#[Y_Graph]\n",
    "dfz=df.copy()\n",
    "dfz['Año select']=dfz.apply( lambda x: x['Año'] if x['Año']==2020 else '',axis=1)\n",
    "dfz\n",
    "```"
   ]
  },
  {
   "cell_type": "code",
   "execution_count": 10,
   "id": "ad8627c9",
   "metadata": {
    "hidden": true
   },
   "outputs": [],
   "source": [
    "#===================================\n",
    "# Dicionario MES\n",
    "#===================================\n",
    "\n",
    "#===================================\n",
    "# Fecha\n",
    "D=['Enero','Febrero','Marzo','Abril',\n",
    " 'Mayo','Junio','Julio','Agosto',\n",
    " 'Septiembre','Octubre',\n",
    " 'Noviembre','Diciembre']\n",
    "Month_dic={i:D[i-1]  for i in range(1,13)}\n",
    "#===========================================\n",
    "\n",
    "\n",
    "def Mes_name(x):\n",
    "    D=['Enero','Febrero','Marzo','Abril',\n",
    "    'Mayo','Junio','Julio','Agosto',\n",
    "    'Septiembre','Octubre',\n",
    "    'Noviembre','Diciembre']\n",
    "    return(D[int(x)-1])"
   ]
  },
  {
   "cell_type": "markdown",
   "id": "b646c867",
   "metadata": {
    "heading_collapsed": true
   },
   "source": [
    "## Dicionario \n",
    "rename aplicado a `Precio promedio`"
   ]
  },
  {
   "cell_type": "code",
   "execution_count": 58,
   "id": "4a726445",
   "metadata": {
    "hidden": true
   },
   "outputs": [],
   "source": [
    "Dic_col={'Base':\n",
    "                             ['Material (Nombre)', 'Kilos Venta KG', 'Precio','Cliente'],\n",
    "        'Fecha':\n",
    "                             ['Día natural','Día Semana','Semana', 'Mes', 'Año'],\n",
    "        'Ubicacion':\n",
    "                             ['Centro','Población'],\n",
    "        'Cliente Categoria':\n",
    "                             ['Cluster','Segmento.1', 'Categoría Cliente'],\n",
    "        'Cliente Atributos':\n",
    "                             ['Año Creación', 'Material Favorito','Frecuencia Historica'] \n",
    "         ,'RFM Row':\n",
    "                 ['Recency días','Frecuency_Row','Monetary']\n",
    "        ,'RFM Customers':\n",
    "                 ['Recency Actual','Frecuency Actual del Cliente','Monetary Actual']\n",
    "        ,'Ticket Row':\n",
    "                 ['Ticket Promedio','Ticket CV']\n",
    "        ,'Ticket Customers':\n",
    "                 ['Ticket Promedio Actual','Ticket CV Actual']\n",
    "        }"
   ]
  },
  {
   "cell_type": "markdown",
   "id": "38e12a83",
   "metadata": {
    "heading_collapsed": true,
    "hidden": true
   },
   "source": [
    "### Colores "
   ]
  },
  {
   "cell_type": "code",
   "execution_count": 13,
   "id": "dbbf1e78",
   "metadata": {
    "hidden": true
   },
   "outputs": [
    {
     "data": {
      "text/plain": [
       "'57DB5F'"
      ]
     },
     "execution_count": 13,
     "metadata": {},
     "output_type": "execute_result"
    }
   ],
   "source": [
    "('{:X}{:X}{:X}').format(31, 119, 180)\n",
    "('{:X}{:X}{:X}').format(219, 96, 97)\n",
    "('{:X}{:X}{:X}').format(87, 219, 95)"
   ]
  },
  {
   "cell_type": "markdown",
   "id": "f5e71982",
   "metadata": {},
   "source": [
    "## Datos\n",
    "- `data_i_M`: Monetary \n",
    "- `Clientes_i_RFM`: RFM Clientes "
   ]
  },
  {
   "cell_type": "markdown",
   "id": "86c853d2",
   "metadata": {
    "heading_collapsed": true
   },
   "source": [
    "### Abrir Archivo   Facturaciones\n"
   ]
  },
  {
   "cell_type": "markdown",
   "id": "25619431",
   "metadata": {
    "hidden": true
   },
   "source": [
    "Se debe agregar el parametro `,index_col='Unnamed: 0'` de esta froma tal vez se pueda hacer un merge en base al indice"
   ]
  },
  {
   "cell_type": "markdown",
   "id": "3526e76a",
   "metadata": {
    "hidden": true
   },
   "source": [
    "##### Formación Datos"
   ]
  },
  {
   "cell_type": "markdown",
   "id": "95f2dd83",
   "metadata": {
    "hidden": true
   },
   "source": [
    "###### Abrir csvs "
   ]
  },
  {
   "cell_type": "code",
   "execution_count": 14,
   "id": "aea237e7",
   "metadata": {
    "hidden": true
   },
   "outputs": [
    {
     "data": {
      "text/html": [
       "<div>\n",
       "<style scoped>\n",
       "    .dataframe tbody tr th:only-of-type {\n",
       "        vertical-align: middle;\n",
       "    }\n",
       "\n",
       "    .dataframe tbody tr th {\n",
       "        vertical-align: top;\n",
       "    }\n",
       "\n",
       "    .dataframe thead th {\n",
       "        text-align: right;\n",
       "    }\n",
       "</style>\n",
       "<table border=\"1\" class=\"dataframe\">\n",
       "  <thead>\n",
       "    <tr style=\"text-align: right;\">\n",
       "      <th></th>\n",
       "      <th>Material (Nombre)</th>\n",
       "      <th>Kilos Venta KG</th>\n",
       "      <th>Precio</th>\n",
       "      <th>Día natural</th>\n",
       "      <th>Día Semana</th>\n",
       "      <th>Semana</th>\n",
       "      <th>Mes</th>\n",
       "      <th>Año</th>\n",
       "      <th>Población</th>\n",
       "      <th>Centro</th>\n",
       "      <th>Cliente</th>\n",
       "      <th>Cluster</th>\n",
       "      <th>Segmento.1</th>\n",
       "      <th>Categoría Cliente</th>\n",
       "      <th>Año Creación</th>\n",
       "      <th>Material Favorito</th>\n",
       "      <th>Frecuencia Historica</th>\n",
       "      <th>Mes_num</th>\n",
       "      <th>Recency</th>\n",
       "    </tr>\n",
       "  </thead>\n",
       "  <tbody>\n",
       "    <tr>\n",
       "      <th>61455</th>\n",
       "      <td>1010078(Trutro Entero Selección)</td>\n",
       "      <td>22</td>\n",
       "      <td>1300</td>\n",
       "      <td>2020-05-23</td>\n",
       "      <td>Sábado</td>\n",
       "      <td>21</td>\n",
       "      <td>Mayo</td>\n",
       "      <td>2020</td>\n",
       "      <td>La Pintana</td>\n",
       "      <td>Sucursal Lo Espejo</td>\n",
       "      <td>10003742</td>\n",
       "      <td>Clásico</td>\n",
       "      <td>Cobertura Pequeno SD</td>\n",
       "      <td>Especialista en Proc</td>\n",
       "      <td>2007</td>\n",
       "      <td>1010077</td>\n",
       "      <td>19</td>\n",
       "      <td>5</td>\n",
       "      <td>0 days</td>\n",
       "    </tr>\n",
       "  </tbody>\n",
       "</table>\n",
       "</div>"
      ],
      "text/plain": [
       "                      Material (Nombre) Kilos Venta KG Precio Día natural  \\\n",
       "61455  1010078(Trutro Entero Selección)             22   1300  2020-05-23   \n",
       "\n",
       "      Día Semana Semana   Mes   Año   Población              Centro   Cliente  \\\n",
       "61455     Sábado     21  Mayo  2020  La Pintana  Sucursal Lo Espejo  10003742   \n",
       "\n",
       "       Cluster            Segmento.1     Categoría Cliente Año Creación  \\\n",
       "61455  Clásico  Cobertura Pequeno SD  Especialista en Proc         2007   \n",
       "\n",
       "      Material Favorito Frecuencia Historica Mes_num Recency  \n",
       "61455           1010077                   19       5  0 days  "
      ]
     },
     "execution_count": 14,
     "metadata": {},
     "output_type": "execute_result"
    }
   ],
   "source": [
    "#======================================================================\n",
    "# R\n",
    "#=====================================================================\n",
    "\n",
    "file_direct=file_direct_O+'data_1010078_CT R'+'.csv'\n",
    "col_names=pd.read_csv(file_direct,\n",
    "                      encoding=\"utf-8\",sep=\";\",nrows=0).columns\n",
    "\n",
    "types_dict = {col: str for col in list(col_names)}\n",
    "\n",
    "data_i_R = pd.read_csv(file_direct,\n",
    "                   encoding=\"utf-8\",sep=\";\",dtype=types_dict\n",
    "                      ,index_col='Unnamed: 0'\n",
    "                      )\n",
    "\n",
    "# Se debe agregar el parametro ,index_col='Unnamed: 0' \n",
    "# de esta froma tal vez se pueda hacer un merge en base al indice\n",
    "\n",
    "#elimina una columna en especifico\n",
    "#DF_FULL.drop('Año natural', inplace=True, axis=1)\n",
    "print('R',data_i_R.shape())\n",
    "\n",
    "\n",
    "#======================================================================\n",
    "# F\n",
    "#=====================================================================\n",
    "\n",
    "file_direct=file_direct_O+'data_1010078_CT F'+'.csv'\n",
    "col_names=pd.read_csv(file_direct,\n",
    "                      encoding=\"utf-8\",sep=\";\",nrows=0).columns\n",
    "\n",
    "types_dict = {col: str for col in list(col_names)}\n",
    "\n",
    "data_i_F = pd.read_csv(file_direct,\n",
    "                   encoding=\"utf-8\",sep=\";\",dtype=types_dict\n",
    "                      ,index_col='Unnamed: 0'\n",
    "                      )\n",
    "\n",
    "# Se debe agregar el parametro ,index_col='Unnamed: 0' \n",
    "# de esta froma tal vez se pueda hacer un merge en base al indice\n",
    "\n",
    "#elimina una columna en especifico\n",
    "#DF_FULL.drop('Año natural', inplace=True, axis=1)\n",
    "print('F',data_i_F.shape())\n",
    "#======================================================================\n",
    "# M\n",
    "#=====================================================================\n",
    "\n",
    "file_direct=file_direct_O+'data_1010078_CT M'+'.csv'\n",
    "col_names=pd.read_csv(file_direct,\n",
    "                      encoding=\"utf-8\",sep=\";\",nrows=0).columns\n",
    "\n",
    "types_dict = {col: str for col in list(col_names)}\n",
    "\n",
    "data_i_M = pd.read_csv(file_direct,\n",
    "                   encoding=\"utf-8\",sep=\";\",dtype=types_dict\n",
    "                      ,index_col='Unnamed: 0'\n",
    "                      )\n",
    "\n",
    "# Se debe agregar el parametro ,index_col='Unnamed: 0' \n",
    "# de esta froma tal vez se pueda hacer un merge en base al indice\n",
    "\n",
    "#elimina una columna en especifico\n",
    "#DF_FULL.drop('Año natural', inplace=True, axis=1)\n",
    "print('M',data_i_M.shape())\n",
    "\n"
   ]
  },
  {
   "cell_type": "markdown",
   "id": "2eab72c4",
   "metadata": {
    "hidden": true
   },
   "source": [
    "###### Merge "
   ]
  },
  {
   "cell_type": "code",
   "execution_count": null,
   "id": "cfcc9d6f",
   "metadata": {
    "hidden": true
   },
   "outputs": [],
   "source": [
    "#======================================================================\n",
    "# RFM\n",
    "#=====================================================================\n",
    "\n",
    "print('RF',(pd.merge(data_i_R,data_i_F )).shape)\n",
    "\n",
    "print('RFM',pd.merge(pd.merge(data_i_R,\n",
    "                              data_i_F ) ,\n",
    "                    data_i_M).shape)\n",
    "DATA_i_RFM = pd.merge(pd.merge(data_i_R,data_i_F ),data_i_M)\n",
    "\n",
    "del (data_i_R,data_i_F,data_i_M)"
   ]
  },
  {
   "cell_type": "markdown",
   "id": "f7c29b30",
   "metadata": {
    "hidden": true
   },
   "source": [
    "#### Funcion"
   ]
  },
  {
   "cell_type": "markdown",
   "id": "cec713b7",
   "metadata": {
    "heading_collapsed": true,
    "hidden": true
   },
   "source": [
    "###### def "
   ]
  },
  {
   "cell_type": "code",
   "execution_count": 18,
   "id": "015ac527",
   "metadata": {
    "hidden": true
   },
   "outputs": [],
   "source": [
    "# =============================================================================\n",
    "# Ajustar la data\n",
    "# =============================================================================\n",
    "def Ajuste_data_RFM(data):\n",
    "    start_time = time.time()\n",
    "\n",
    "    df=data.copy()\n",
    "\n",
    "# =================================\n",
    "# ELiminare dodos los valores Nan\n",
    "# =================================\n",
    "    #for i in df.columns.to_list():\n",
    "    #    df=df[df[i].notna()]\n",
    "\n",
    "    \n",
    "    \n",
    "#=================================\n",
    "# Proceso Recency a Int \n",
    "#=================================\n",
    "        \n",
    "    df['Recency días']=df['Recency'].apply( lambda x:  x.split(' ')[0])\n",
    "    \n",
    "#=================================\n",
    "# Proceso iterativo Pasar a numero\n",
    "#=================================\n",
    "\n",
    "    for i in ['Kilos Venta KG'\n",
    "#               ,'Venta Neta'\n",
    "              ,'Precio'\n",
    "#               RFM\n",
    "              ,'Recency días'\n",
    "              ,'Frecuency_Row'\n",
    "              ,'Monetary'\n",
    "              ,'Ingreso de Venta CLP'\n",
    "             ]:\n",
    "        \n",
    "        df[i]=df[i].astype('float64').astype('int64')\n",
    "    for i in ['Kilos Venta KG'\n",
    "#               ,'Venta Neta'\n",
    "              ,'Precio'\n",
    "#               RFM\n",
    "              ,'Recency días'\n",
    "#               ,'Frecuency_Row'\n",
    "#               ,'Monetary'\n",
    "               ,'Ingreso de Venta CLP'\n",
    "             ]:\n",
    "        df[i]=df[i].astype('int64')     \n",
    "\n",
    "\n",
    "\n",
    "#==========================================================================================\n",
    "# Ajuste de las fechas\n",
    "#-----------------------------------------------------------------------------------------\n",
    "    df[\"Día natural\"] = df[\"Día natural\"].apply(lambda x: \n",
    "                                                datetime.datetime.strptime(str(x),\n",
    "                                                                           '%Y-%m-%d').date())\n",
    "    \n",
    "    #Separacion fecha\n",
    "    \n",
    "    #ELiminado de DF_FULL\n",
    "    #df['Semana']=df[\"Día natural\"].apply(lambda x: x.isocalendar()[1] )\n",
    "    #df['Mes']=df[\"Día natural\"].apply(lambda x: x.month)\n",
    "    #df['Año']=df[\"Día natural\"].apply(lambda x: x.year)\n",
    "    #df['Semana']=df['Semana'].astype('int64')\n",
    "    \n",
    "#     df['Año']=df['Año'].astype('int64')\n",
    "#     D_W=['Lunes','Martes','Miércoles','Jueves', 'Viernes','Sábado','Domingo']\n",
    "#     df['Día Semana']=df[\"Día natural\"].apply(lambda x: D_W[x.isocalendar()[2] -1])\n",
    "#     df=df[df['Día Semana']!='Domingo']\n",
    "    \n",
    "    print(df.dtypes)\n",
    "    end_time = time.time()\n",
    "    time_convert(end_time - start_time)\n",
    "    return df\n"
   ]
  },
  {
   "cell_type": "markdown",
   "id": "b8c8e6f0",
   "metadata": {
    "hidden": true
   },
   "source": [
    "###### aplicación "
   ]
  },
  {
   "cell_type": "code",
   "execution_count": 19,
   "id": "705fd67b",
   "metadata": {
    "hidden": true,
    "scrolled": true
   },
   "outputs": [
    {
     "name": "stdout",
     "output_type": "stream",
     "text": [
      "Material (Nombre)       object\n",
      "Kilos Venta KG           int64\n",
      "Precio                   int64\n",
      "Día natural             object\n",
      "Día Semana              object\n",
      "Semana                  object\n",
      "Mes                     object\n",
      "Año                     object\n",
      "Población               object\n",
      "Centro                  object\n",
      "Cliente                 object\n",
      "Cluster                 object\n",
      "Segmento.1              object\n",
      "Categoría Cliente       object\n",
      "Año Creación            object\n",
      "Material Favorito       object\n",
      "Frecuencia Historica    object\n",
      "Mes_num                 object\n",
      "Recency                 object\n",
      "Frecuency_Row            int64\n",
      "Ingreso de Venta CLP     int64\n",
      "Monetary                 int64\n",
      "Recency días             int64\n",
      "dtype: object\n",
      "Time Lapsed = 0:0:1.8961198329925537 \n",
      " H:m:s\n"
     ]
    },
    {
     "data": {
      "text/html": [
       "<div>\n",
       "<style scoped>\n",
       "    .dataframe tbody tr th:only-of-type {\n",
       "        vertical-align: middle;\n",
       "    }\n",
       "\n",
       "    .dataframe tbody tr th {\n",
       "        vertical-align: top;\n",
       "    }\n",
       "\n",
       "    .dataframe thead th {\n",
       "        text-align: right;\n",
       "    }\n",
       "</style>\n",
       "<table border=\"1\" class=\"dataframe\">\n",
       "  <thead>\n",
       "    <tr style=\"text-align: right;\">\n",
       "      <th></th>\n",
       "      <th>Material (Nombre)</th>\n",
       "      <th>Kilos Venta KG</th>\n",
       "      <th>Precio</th>\n",
       "      <th>Día natural</th>\n",
       "      <th>Día Semana</th>\n",
       "      <th>Semana</th>\n",
       "      <th>Mes</th>\n",
       "      <th>Año</th>\n",
       "      <th>Población</th>\n",
       "      <th>Centro</th>\n",
       "      <th>...</th>\n",
       "      <th>Categoría Cliente</th>\n",
       "      <th>Año Creación</th>\n",
       "      <th>Material Favorito</th>\n",
       "      <th>Frecuencia Historica</th>\n",
       "      <th>Mes_num</th>\n",
       "      <th>Recency</th>\n",
       "      <th>Frecuency_Row</th>\n",
       "      <th>Ingreso de Venta CLP</th>\n",
       "      <th>Monetary</th>\n",
       "      <th>Recency días</th>\n",
       "    </tr>\n",
       "  </thead>\n",
       "  <tbody>\n",
       "    <tr>\n",
       "      <th>0</th>\n",
       "      <td>1010078(Trutro Entero Selección)</td>\n",
       "      <td>22</td>\n",
       "      <td>1300</td>\n",
       "      <td>2020-05-23</td>\n",
       "      <td>Sábado</td>\n",
       "      <td>21</td>\n",
       "      <td>Mayo</td>\n",
       "      <td>2020</td>\n",
       "      <td>La Pintana</td>\n",
       "      <td>Sucursal Lo Espejo</td>\n",
       "      <td>...</td>\n",
       "      <td>Especialista en Proc</td>\n",
       "      <td>2007</td>\n",
       "      <td>1010077</td>\n",
       "      <td>19</td>\n",
       "      <td>5</td>\n",
       "      <td>0 days</td>\n",
       "      <td>1</td>\n",
       "      <td>28600</td>\n",
       "      <td>0</td>\n",
       "      <td>0</td>\n",
       "    </tr>\n",
       "    <tr>\n",
       "      <th>1</th>\n",
       "      <td>1010078(Trutro Entero Selección)</td>\n",
       "      <td>110</td>\n",
       "      <td>1174</td>\n",
       "      <td>2018-03-01</td>\n",
       "      <td>Jueves</td>\n",
       "      <td>9</td>\n",
       "      <td>Marzo</td>\n",
       "      <td>2018</td>\n",
       "      <td>Puente Alto</td>\n",
       "      <td>Sucursal Lo Espejo</td>\n",
       "      <td>...</td>\n",
       "      <td>Especialista en Crud</td>\n",
       "      <td>2007</td>\n",
       "      <td>1020253</td>\n",
       "      <td>464</td>\n",
       "      <td>3</td>\n",
       "      <td>0 days</td>\n",
       "      <td>1</td>\n",
       "      <td>129140</td>\n",
       "      <td>0</td>\n",
       "      <td>0</td>\n",
       "    </tr>\n",
       "  </tbody>\n",
       "</table>\n",
       "<p>2 rows × 23 columns</p>\n",
       "</div>"
      ],
      "text/plain": [
       "                  Material (Nombre)  Kilos Venta KG  Precio Día natural  \\\n",
       "0  1010078(Trutro Entero Selección)              22    1300  2020-05-23   \n",
       "1  1010078(Trutro Entero Selección)             110    1174  2018-03-01   \n",
       "\n",
       "  Día Semana Semana    Mes   Año    Población              Centro  ...  \\\n",
       "0     Sábado     21   Mayo  2020   La Pintana  Sucursal Lo Espejo  ...   \n",
       "1     Jueves      9  Marzo  2018  Puente Alto  Sucursal Lo Espejo  ...   \n",
       "\n",
       "      Categoría Cliente Año Creación Material Favorito Frecuencia Historica  \\\n",
       "0  Especialista en Proc         2007           1010077                   19   \n",
       "1  Especialista en Crud         2007           1020253                  464   \n",
       "\n",
       "  Mes_num Recency Frecuency_Row Ingreso de Venta CLP Monetary  Recency días  \n",
       "0       5  0 days             1                28600        0             0  \n",
       "1       3  0 days             1               129140        0             0  \n",
       "\n",
       "[2 rows x 23 columns]"
      ]
     },
     "execution_count": 19,
     "metadata": {},
     "output_type": "execute_result"
    }
   ],
   "source": [
    "data_i_RFM=Ajuste_data_RFM(DATA_i_RFM)\n",
    "data_i_RFM.head(2)"
   ]
  },
  {
   "cell_type": "markdown",
   "id": "f0fb8648",
   "metadata": {},
   "source": [
    "### Data Customers\n",
    " "
   ]
  },
  {
   "cell_type": "markdown",
   "id": "82d42145",
   "metadata": {},
   "source": [
    "#### abrir "
   ]
  },
  {
   "cell_type": "markdown",
   "id": "d247c089",
   "metadata": {
    "heading_collapsed": true
   },
   "source": [
    "##### Abrir "
   ]
  },
  {
   "cell_type": "code",
   "execution_count": 20,
   "id": "509859b6",
   "metadata": {
    "hidden": true,
    "scrolled": true
   },
   "outputs": [
    {
     "data": {
      "text/html": [
       "<div>\n",
       "<style scoped>\n",
       "    .dataframe tbody tr th:only-of-type {\n",
       "        vertical-align: middle;\n",
       "    }\n",
       "\n",
       "    .dataframe tbody tr th {\n",
       "        vertical-align: top;\n",
       "    }\n",
       "\n",
       "    .dataframe thead th {\n",
       "        text-align: right;\n",
       "    }\n",
       "</style>\n",
       "<table border=\"1\" class=\"dataframe\">\n",
       "  <thead>\n",
       "    <tr style=\"text-align: right;\">\n",
       "      <th></th>\n",
       "      <th>Cliente</th>\n",
       "      <th>Fecha ultima Compra</th>\n",
       "      <th>Recency Actual</th>\n",
       "      <th>Fecha Creacion</th>\n",
       "      <th>Frecuency Actual del Cliente</th>\n",
       "      <th>Kilos Venta KG Promedio</th>\n",
       "      <th>Precio Promedio</th>\n",
       "      <th>Año Creación Promedio</th>\n",
       "      <th>Frecuencia Historica Promedio</th>\n",
       "      <th>Ingreso de Venta Promedio</th>\n",
       "    </tr>\n",
       "  </thead>\n",
       "  <tbody>\n",
       "    <tr>\n",
       "      <th>0</th>\n",
       "      <td>10003742</td>\n",
       "      <td>2020-05-23</td>\n",
       "      <td>521</td>\n",
       "      <td>2020-05-23</td>\n",
       "      <td>0.0033444816053511705</td>\n",
       "      <td>22.0</td>\n",
       "      <td>1300.0</td>\n",
       "      <td>2007.0</td>\n",
       "      <td>19.0</td>\n",
       "      <td>28600.0</td>\n",
       "    </tr>\n",
       "  </tbody>\n",
       "</table>\n",
       "</div>"
      ],
      "text/plain": [
       "    Cliente Fecha ultima Compra Recency Actual Fecha Creacion  \\\n",
       "0  10003742          2020-05-23            521     2020-05-23   \n",
       "\n",
       "  Frecuency Actual del Cliente Kilos Venta KG Promedio Precio Promedio  \\\n",
       "0        0.0033444816053511705                    22.0          1300.0   \n",
       "\n",
       "  Año Creación Promedio Frecuencia Historica Promedio  \\\n",
       "0                2007.0                          19.0   \n",
       "\n",
       "  Ingreso de Venta Promedio  \n",
       "0                   28600.0  "
      ]
     },
     "execution_count": 20,
     "metadata": {},
     "output_type": "execute_result"
    }
   ],
   "source": [
    "#======================================================================\n",
    "# Se Cargan los datos de ventas con las caracteristicas de los clientes\n",
    "#=====================================================================\n",
    "\n",
    "file_direct=file_direct_O+'Clientes_1010078_CT RFM'+'.csv'\n",
    "col_names=pd.read_csv(file_direct,\n",
    "                      encoding=\"utf-8\",sep=\";\",nrows=0).columns\n",
    "\n",
    "types_dict = {col: str for col in list(col_names)}\n",
    "\n",
    "Clientes_i_RFM= pd.read_csv(file_direct,\n",
    "                   encoding=\"utf-8\",sep=\";\",dtype=types_dict\n",
    "                      ,index_col='Unnamed: 0'\n",
    "                      )\n",
    "\n",
    "# Se debe agregar el parametro ,index_col='Unnamed: 0' \n",
    "# de esta froma tal vez se pueda hacer un merge en base al indice\n",
    "\n",
    "#elimina una columna en especifico\n",
    "#DF_FULL.drop('Año natural', inplace=True, axis=1)\n",
    "Clientes_i_RFM.head(1)"
   ]
  },
  {
   "cell_type": "code",
   "execution_count": 21,
   "id": "6c58c0ab",
   "metadata": {
    "hidden": true
   },
   "outputs": [
    {
     "data": {
      "text/plain": [
       "Cliente                                    10007508\n",
       "Fecha ultima Compra                      2021-10-26\n",
       "Recency Actual                                    0\n",
       "Fecha Creacion                           2018-03-01\n",
       "Frecuency Actual del Cliente     0.2017524296094161\n",
       "Kilos Venta KG Promedio           93.15865384615384\n",
       "Precio Promedio                  1266.8942307692307\n",
       "Año Creación Promedio                        2007.0\n",
       "Frecuencia Historica Promedio                 464.0\n",
       "Ingreso de Venta Promedio        117683.47115384616\n",
       "Name: 1, dtype: object"
      ]
     },
     "execution_count": 21,
     "metadata": {},
     "output_type": "execute_result"
    }
   ],
   "source": [
    "Clientes_i_RFM.iloc[1]"
   ]
  },
  {
   "cell_type": "markdown",
   "id": "a64c11a5",
   "metadata": {},
   "source": [
    "#### Función Ajuste "
   ]
  },
  {
   "cell_type": "markdown",
   "id": "b40b8aa1",
   "metadata": {
    "heading_collapsed": true
   },
   "source": [
    "###### def  `Ajuste_Clientes_RFM`"
   ]
  },
  {
   "cell_type": "code",
   "execution_count": 22,
   "id": "f21b77fc",
   "metadata": {
    "hidden": true
   },
   "outputs": [],
   "source": [
    "# =============================================================================\n",
    "# Ajustar la data\n",
    "# =============================================================================\n",
    "def Ajuste_Clientes_RFM(data):\n",
    "    start_time = time.time()\n",
    "    df=data.copy()\n",
    "\n",
    "# =============================================================================\n",
    "# Proceso iterativo Pasar a numero\n",
    "#------------------------------------------------------------------------------\n",
    "\n",
    "#----------------------------------------------------------------------\n",
    "# Float\n",
    "    for i in [\n",
    "            #RFM\n",
    "            'Recency Actual'\n",
    "            ,'Frecuency Actual del Cliente'\n",
    "            ,'Ingreso de Venta Promedio'\n",
    "              \n",
    "            #Val Fact\n",
    "            ,'Kilos Venta KG Promedio'\n",
    "            ,'Precio Promedio'\n",
    "            \n",
    "            # Val historicos (ind del producto)\n",
    "            ,'Año Creación Promedio'\n",
    "            ,'Frecuencia Historica Promedio'\n",
    "             ]:\n",
    "        df[i]=df[i].astype('float64')\n",
    "        #.astype('int64')\n",
    "        \n",
    "        \n",
    "#------------------------------------------------------------------------ \n",
    "    # Int\n",
    "    for i in [\n",
    "                #RFM\n",
    "                'Recency Actual'\n",
    "#                 ,'Frecuency Actual del Cliente'\n",
    "#                 ,'Ingreso de Venta Promedio'\n",
    "\n",
    "                #Val Fact\n",
    "#                 ,'Kilos Venta KG Promedio'\n",
    "#                 ,'Precio Promedio'\n",
    "\n",
    "                # Val historicos (ind del producto)\n",
    "                ,'Año Creación Promedio'\n",
    "                ,'Frecuencia Historica Promedio'\n",
    "                ]:\n",
    "        df[i]=df[i].astype('int64')\n",
    "        \n",
    "\n",
    "\n",
    "#==========================================================================================\n",
    "# Ajuste de las fechas\n",
    "#-----------------------------------------------------------------------------------------\n",
    "    for date in ['Fecha ultima Compra','Fecha Creacion']:\n",
    "        df[date] = df[date].apply(lambda x: \n",
    "                                            datetime.datetime.strptime(str(x),\n",
    "                                                                           '%Y-%m-%d').date())\n",
    "    \n",
    "    print(df.dtypes)\n",
    "    end_time = time.time()\n",
    "    time_convert(end_time - start_time)\n",
    "    return df"
   ]
  },
  {
   "cell_type": "markdown",
   "id": "59ad7552",
   "metadata": {
    "heading_collapsed": true
   },
   "source": [
    "##### Aplicación"
   ]
  },
  {
   "cell_type": "code",
   "execution_count": 23,
   "id": "92341999",
   "metadata": {
    "hidden": true,
    "scrolled": true
   },
   "outputs": [
    {
     "name": "stdout",
     "output_type": "stream",
     "text": [
      "Cliente                           object\n",
      "Fecha ultima Compra               object\n",
      "Recency Actual                     int64\n",
      "Fecha Creacion                    object\n",
      "Frecuency Actual del Cliente     float64\n",
      "Kilos Venta KG Promedio          float64\n",
      "Precio Promedio                  float64\n",
      "Año Creación Promedio              int64\n",
      "Frecuencia Historica Promedio      int64\n",
      "Ingreso de Venta Promedio        float64\n",
      "dtype: object\n",
      "Time Lapsed = 0:0:0.09108257293701172 \n",
      " H:m:s\n"
     ]
    }
   ],
   "source": [
    "Clientes_i_RFM=Ajuste_Clientes_RFM(Clientes_i_RFM)"
   ]
  },
  {
   "cell_type": "code",
   "execution_count": 24,
   "id": "a5fea17c",
   "metadata": {
    "hidden": true
   },
   "outputs": [
    {
     "data": {
      "text/html": [
       "<div>\n",
       "<style scoped>\n",
       "    .dataframe tbody tr th:only-of-type {\n",
       "        vertical-align: middle;\n",
       "    }\n",
       "\n",
       "    .dataframe tbody tr th {\n",
       "        vertical-align: top;\n",
       "    }\n",
       "\n",
       "    .dataframe thead th {\n",
       "        text-align: right;\n",
       "    }\n",
       "</style>\n",
       "<table border=\"1\" class=\"dataframe\">\n",
       "  <thead>\n",
       "    <tr style=\"text-align: right;\">\n",
       "      <th></th>\n",
       "      <th>Cliente</th>\n",
       "      <th>Fecha ultima Compra</th>\n",
       "      <th>Recency Actual</th>\n",
       "      <th>Fecha Creacion</th>\n",
       "      <th>Frecuency Actual del Cliente</th>\n",
       "      <th>Kilos Venta KG Promedio</th>\n",
       "      <th>Precio Promedio</th>\n",
       "      <th>Año Creación Promedio</th>\n",
       "      <th>Frecuencia Historica Promedio</th>\n",
       "      <th>Ingreso de Venta Promedio</th>\n",
       "    </tr>\n",
       "  </thead>\n",
       "  <tbody>\n",
       "    <tr>\n",
       "      <th>0</th>\n",
       "      <td>10003742</td>\n",
       "      <td>2020-05-23</td>\n",
       "      <td>521</td>\n",
       "      <td>2020-05-23</td>\n",
       "      <td>0.003344</td>\n",
       "      <td>22.000000</td>\n",
       "      <td>1300.000000</td>\n",
       "      <td>2007</td>\n",
       "      <td>19</td>\n",
       "      <td>28600.000000</td>\n",
       "    </tr>\n",
       "    <tr>\n",
       "      <th>1</th>\n",
       "      <td>10007508</td>\n",
       "      <td>2021-10-26</td>\n",
       "      <td>0</td>\n",
       "      <td>2018-03-01</td>\n",
       "      <td>0.201752</td>\n",
       "      <td>93.158654</td>\n",
       "      <td>1266.894231</td>\n",
       "      <td>2007</td>\n",
       "      <td>464</td>\n",
       "      <td>117683.471154</td>\n",
       "    </tr>\n",
       "    <tr>\n",
       "      <th>2</th>\n",
       "      <td>10017269</td>\n",
       "      <td>2021-10-23</td>\n",
       "      <td>3</td>\n",
       "      <td>2018-01-27</td>\n",
       "      <td>0.059365</td>\n",
       "      <td>22.038462</td>\n",
       "      <td>1347.782051</td>\n",
       "      <td>2007</td>\n",
       "      <td>101</td>\n",
       "      <td>29699.448718</td>\n",
       "    </tr>\n",
       "    <tr>\n",
       "      <th>3</th>\n",
       "      <td>10023880</td>\n",
       "      <td>2021-09-09</td>\n",
       "      <td>47</td>\n",
       "      <td>2018-12-28</td>\n",
       "      <td>0.039591</td>\n",
       "      <td>27.500000</td>\n",
       "      <td>1400.000000</td>\n",
       "      <td>2007</td>\n",
       "      <td>383</td>\n",
       "      <td>38390.000000</td>\n",
       "    </tr>\n",
       "    <tr>\n",
       "      <th>4</th>\n",
       "      <td>10028999</td>\n",
       "      <td>2021-09-24</td>\n",
       "      <td>32</td>\n",
       "      <td>2019-11-05</td>\n",
       "      <td>0.017541</td>\n",
       "      <td>22.000000</td>\n",
       "      <td>1320.923077</td>\n",
       "      <td>2007</td>\n",
       "      <td>62</td>\n",
       "      <td>29060.307692</td>\n",
       "    </tr>\n",
       "  </tbody>\n",
       "</table>\n",
       "</div>"
      ],
      "text/plain": [
       "    Cliente Fecha ultima Compra  Recency Actual Fecha Creacion  \\\n",
       "0  10003742          2020-05-23             521     2020-05-23   \n",
       "1  10007508          2021-10-26               0     2018-03-01   \n",
       "2  10017269          2021-10-23               3     2018-01-27   \n",
       "3  10023880          2021-09-09              47     2018-12-28   \n",
       "4  10028999          2021-09-24              32     2019-11-05   \n",
       "\n",
       "   Frecuency Actual del Cliente  Kilos Venta KG Promedio  Precio Promedio  \\\n",
       "0                      0.003344                22.000000      1300.000000   \n",
       "1                      0.201752                93.158654      1266.894231   \n",
       "2                      0.059365                22.038462      1347.782051   \n",
       "3                      0.039591                27.500000      1400.000000   \n",
       "4                      0.017541                22.000000      1320.923077   \n",
       "\n",
       "   Año Creación Promedio  Frecuencia Historica Promedio  \\\n",
       "0                   2007                             19   \n",
       "1                   2007                            464   \n",
       "2                   2007                            101   \n",
       "3                   2007                            383   \n",
       "4                   2007                             62   \n",
       "\n",
       "   Ingreso de Venta Promedio  \n",
       "0               28600.000000  \n",
       "1              117683.471154  \n",
       "2               29699.448718  \n",
       "3               38390.000000  \n",
       "4               29060.307692  "
      ]
     },
     "execution_count": 24,
     "metadata": {},
     "output_type": "execute_result"
    }
   ],
   "source": [
    "Clientes_i_RFM.head()"
   ]
  },
  {
   "cell_type": "markdown",
   "id": "206de433",
   "metadata": {},
   "source": [
    "### Atributos de volumen "
   ]
  },
  {
   "cell_type": "markdown",
   "id": "acc3bb9d",
   "metadata": {
    "heading_collapsed": true
   },
   "source": [
    "###### Kilo promedio "
   ]
  },
  {
   "cell_type": "code",
   "execution_count": 25,
   "id": "cf3f31e6",
   "metadata": {
    "hidden": true
   },
   "outputs": [
    {
     "data": {
      "text/html": [
       "<div>\n",
       "<style scoped>\n",
       "    .dataframe tbody tr th:only-of-type {\n",
       "        vertical-align: middle;\n",
       "    }\n",
       "\n",
       "    .dataframe tbody tr th {\n",
       "        vertical-align: top;\n",
       "    }\n",
       "\n",
       "    .dataframe thead th {\n",
       "        text-align: right;\n",
       "    }\n",
       "</style>\n",
       "<table border=\"1\" class=\"dataframe\">\n",
       "  <thead>\n",
       "    <tr style=\"text-align: right;\">\n",
       "      <th></th>\n",
       "      <th>Cliente</th>\n",
       "      <th>Ticket Promedio Actual</th>\n",
       "    </tr>\n",
       "  </thead>\n",
       "  <tbody>\n",
       "    <tr>\n",
       "      <th>0</th>\n",
       "      <td>10003742</td>\n",
       "      <td>22.000000</td>\n",
       "    </tr>\n",
       "    <tr>\n",
       "      <th>1</th>\n",
       "      <td>10007508</td>\n",
       "      <td>93.158654</td>\n",
       "    </tr>\n",
       "    <tr>\n",
       "      <th>2</th>\n",
       "      <td>10017269</td>\n",
       "      <td>22.038462</td>\n",
       "    </tr>\n",
       "    <tr>\n",
       "      <th>3</th>\n",
       "      <td>10023880</td>\n",
       "      <td>27.500000</td>\n",
       "    </tr>\n",
       "    <tr>\n",
       "      <th>4</th>\n",
       "      <td>10028999</td>\n",
       "      <td>22.000000</td>\n",
       "    </tr>\n",
       "    <tr>\n",
       "      <th>...</th>\n",
       "      <td>...</td>\n",
       "      <td>...</td>\n",
       "    </tr>\n",
       "    <tr>\n",
       "      <th>5068</th>\n",
       "      <td>9992154</td>\n",
       "      <td>36.171429</td>\n",
       "    </tr>\n",
       "    <tr>\n",
       "      <th>5069</th>\n",
       "      <td>9993925</td>\n",
       "      <td>160.517495</td>\n",
       "    </tr>\n",
       "    <tr>\n",
       "      <th>5070</th>\n",
       "      <td>9994662</td>\n",
       "      <td>22.000000</td>\n",
       "    </tr>\n",
       "    <tr>\n",
       "      <th>5071</th>\n",
       "      <td>9994800</td>\n",
       "      <td>22.000000</td>\n",
       "    </tr>\n",
       "    <tr>\n",
       "      <th>5072</th>\n",
       "      <td>9997223</td>\n",
       "      <td>22.000000</td>\n",
       "    </tr>\n",
       "  </tbody>\n",
       "</table>\n",
       "<p>5073 rows × 2 columns</p>\n",
       "</div>"
      ],
      "text/plain": [
       "       Cliente  Ticket Promedio Actual\n",
       "0     10003742               22.000000\n",
       "1     10007508               93.158654\n",
       "2     10017269               22.038462\n",
       "3     10023880               27.500000\n",
       "4     10028999               22.000000\n",
       "...        ...                     ...\n",
       "5068   9992154               36.171429\n",
       "5069   9993925              160.517495\n",
       "5070   9994662               22.000000\n",
       "5071   9994800               22.000000\n",
       "5072   9997223               22.000000\n",
       "\n",
       "[5073 rows x 2 columns]"
      ]
     },
     "execution_count": 25,
     "metadata": {},
     "output_type": "execute_result"
    }
   ],
   "source": [
    "df= data_i_RFM\n",
    "df_g=df[['Cliente','Kilos Venta KG']].groupby('Cliente')\\\n",
    "        .mean().reset_index()\\\n",
    "        .rename(columns={'Kilos Venta KG':Dic_col['Ticket Customers'][0]})\n",
    "df_g"
   ]
  },
  {
   "cell_type": "markdown",
   "id": "2d64991e",
   "metadata": {},
   "source": [
    "##### CV"
   ]
  },
  {
   "cell_type": "markdown",
   "id": "e3ba2b7d",
   "metadata": {
    "heading_collapsed": true
   },
   "source": [
    "######  Std"
   ]
  },
  {
   "cell_type": "code",
   "execution_count": 26,
   "id": "85a19633",
   "metadata": {
    "hidden": true
   },
   "outputs": [
    {
     "name": "stdout",
     "output_type": "stream",
     "text": [
      "Cliente                0\n",
      "Ticket std Actual    367\n",
      "dtype: int64\n"
     ]
    },
    {
     "data": {
      "text/html": [
       "<div>\n",
       "<style scoped>\n",
       "    .dataframe tbody tr th:only-of-type {\n",
       "        vertical-align: middle;\n",
       "    }\n",
       "\n",
       "    .dataframe tbody tr th {\n",
       "        vertical-align: top;\n",
       "    }\n",
       "\n",
       "    .dataframe thead th {\n",
       "        text-align: right;\n",
       "    }\n",
       "</style>\n",
       "<table border=\"1\" class=\"dataframe\">\n",
       "  <thead>\n",
       "    <tr style=\"text-align: right;\">\n",
       "      <th></th>\n",
       "      <th>Cliente</th>\n",
       "      <th>Ticket std Actual</th>\n",
       "    </tr>\n",
       "  </thead>\n",
       "  <tbody>\n",
       "    <tr>\n",
       "      <th>0</th>\n",
       "      <td>10003742</td>\n",
       "      <td>0.000000</td>\n",
       "    </tr>\n",
       "    <tr>\n",
       "      <th>1</th>\n",
       "      <td>10007508</td>\n",
       "      <td>36.215256</td>\n",
       "    </tr>\n",
       "    <tr>\n",
       "      <th>2</th>\n",
       "      <td>10017269</td>\n",
       "      <td>0.612474</td>\n",
       "    </tr>\n",
       "    <tr>\n",
       "      <th>3</th>\n",
       "      <td>10023880</td>\n",
       "      <td>12.102631</td>\n",
       "    </tr>\n",
       "    <tr>\n",
       "      <th>4</th>\n",
       "      <td>10028999</td>\n",
       "      <td>0.000000</td>\n",
       "    </tr>\n",
       "  </tbody>\n",
       "</table>\n",
       "</div>"
      ],
      "text/plain": [
       "    Cliente  Ticket std Actual\n",
       "0  10003742           0.000000\n",
       "1  10007508          36.215256\n",
       "2  10017269           0.612474\n",
       "3  10023880          12.102631\n",
       "4  10028999           0.000000"
      ]
     },
     "execution_count": 26,
     "metadata": {},
     "output_type": "execute_result"
    }
   ],
   "source": [
    "df_G=df[['Cliente','Kilos Venta KG']].groupby('Cliente')\\\n",
    "        .std().reset_index()\\\n",
    "        .rename(columns={'Kilos Venta KG':'Ticket std Actual'})\n",
    "print(\n",
    "df_G.isnull().sum()\n",
    ")\n",
    "df_G=df_G.fillna(0)\n",
    "df_G.head()"
   ]
  },
  {
   "cell_type": "markdown",
   "id": "2c569db0",
   "metadata": {
    "heading_collapsed": true
   },
   "source": [
    "###### Coeficiente de variación "
   ]
  },
  {
   "cell_type": "code",
   "execution_count": 27,
   "id": "d5cdd548",
   "metadata": {
    "hidden": true
   },
   "outputs": [
    {
     "data": {
      "text/html": [
       "<div>\n",
       "<style scoped>\n",
       "    .dataframe tbody tr th:only-of-type {\n",
       "        vertical-align: middle;\n",
       "    }\n",
       "\n",
       "    .dataframe tbody tr th {\n",
       "        vertical-align: top;\n",
       "    }\n",
       "\n",
       "    .dataframe thead th {\n",
       "        text-align: right;\n",
       "    }\n",
       "</style>\n",
       "<table border=\"1\" class=\"dataframe\">\n",
       "  <thead>\n",
       "    <tr style=\"text-align: right;\">\n",
       "      <th></th>\n",
       "      <th>Cliente</th>\n",
       "      <th>Ticket Promedio Actual</th>\n",
       "      <th>Ticket std Actual</th>\n",
       "      <th>Ticket CV Actual</th>\n",
       "    </tr>\n",
       "  </thead>\n",
       "  <tbody>\n",
       "    <tr>\n",
       "      <th>0</th>\n",
       "      <td>10003742</td>\n",
       "      <td>22.000000</td>\n",
       "      <td>0.000000</td>\n",
       "      <td>0.000000</td>\n",
       "    </tr>\n",
       "    <tr>\n",
       "      <th>1</th>\n",
       "      <td>10007508</td>\n",
       "      <td>93.158654</td>\n",
       "      <td>36.215256</td>\n",
       "      <td>0.388748</td>\n",
       "    </tr>\n",
       "    <tr>\n",
       "      <th>2</th>\n",
       "      <td>10017269</td>\n",
       "      <td>22.038462</td>\n",
       "      <td>0.612474</td>\n",
       "      <td>0.027791</td>\n",
       "    </tr>\n",
       "    <tr>\n",
       "      <th>3</th>\n",
       "      <td>10023880</td>\n",
       "      <td>27.500000</td>\n",
       "      <td>12.102631</td>\n",
       "      <td>0.440096</td>\n",
       "    </tr>\n",
       "    <tr>\n",
       "      <th>4</th>\n",
       "      <td>10028999</td>\n",
       "      <td>22.000000</td>\n",
       "      <td>0.000000</td>\n",
       "      <td>0.000000</td>\n",
       "    </tr>\n",
       "    <tr>\n",
       "      <th>...</th>\n",
       "      <td>...</td>\n",
       "      <td>...</td>\n",
       "      <td>...</td>\n",
       "      <td>...</td>\n",
       "    </tr>\n",
       "    <tr>\n",
       "      <th>5068</th>\n",
       "      <td>9992154</td>\n",
       "      <td>36.171429</td>\n",
       "      <td>18.376080</td>\n",
       "      <td>0.508027</td>\n",
       "    </tr>\n",
       "    <tr>\n",
       "      <th>5069</th>\n",
       "      <td>9993925</td>\n",
       "      <td>160.517495</td>\n",
       "      <td>81.963154</td>\n",
       "      <td>0.510618</td>\n",
       "    </tr>\n",
       "    <tr>\n",
       "      <th>5070</th>\n",
       "      <td>9994662</td>\n",
       "      <td>22.000000</td>\n",
       "      <td>0.000000</td>\n",
       "      <td>0.000000</td>\n",
       "    </tr>\n",
       "    <tr>\n",
       "      <th>5071</th>\n",
       "      <td>9994800</td>\n",
       "      <td>22.000000</td>\n",
       "      <td>0.000000</td>\n",
       "      <td>0.000000</td>\n",
       "    </tr>\n",
       "    <tr>\n",
       "      <th>5072</th>\n",
       "      <td>9997223</td>\n",
       "      <td>22.000000</td>\n",
       "      <td>0.000000</td>\n",
       "      <td>0.000000</td>\n",
       "    </tr>\n",
       "  </tbody>\n",
       "</table>\n",
       "<p>5073 rows × 4 columns</p>\n",
       "</div>"
      ],
      "text/plain": [
       "       Cliente  Ticket Promedio Actual  Ticket std Actual  Ticket CV Actual\n",
       "0     10003742               22.000000           0.000000          0.000000\n",
       "1     10007508               93.158654          36.215256          0.388748\n",
       "2     10017269               22.038462           0.612474          0.027791\n",
       "3     10023880               27.500000          12.102631          0.440096\n",
       "4     10028999               22.000000           0.000000          0.000000\n",
       "...        ...                     ...                ...               ...\n",
       "5068   9992154               36.171429          18.376080          0.508027\n",
       "5069   9993925              160.517495          81.963154          0.510618\n",
       "5070   9994662               22.000000           0.000000          0.000000\n",
       "5071   9994800               22.000000           0.000000          0.000000\n",
       "5072   9997223               22.000000           0.000000          0.000000\n",
       "\n",
       "[5073 rows x 4 columns]"
      ]
     },
     "execution_count": 27,
     "metadata": {},
     "output_type": "execute_result"
    }
   ],
   "source": [
    "df_group=pd.merge(df_g,df_G,how='right')\n",
    "\n",
    "df_group[Dic_col['Ticket Customers'][1]]=\\\n",
    "df_group.apply(lambda x: \n",
    "               x['Ticket std Actual']/\n",
    "               x[Dic_col['Ticket Customers'][0]] ,axis=1)\n",
    "df_group"
   ]
  },
  {
   "cell_type": "code",
   "execution_count": 37,
   "id": "dc48c941",
   "metadata": {
    "hidden": true
   },
   "outputs": [
    {
     "data": {
      "text/plain": [
       "'Frecuency Actual del Cliente'"
      ]
     },
     "execution_count": 37,
     "metadata": {},
     "output_type": "execute_result"
    }
   ],
   "source": [
    "Dic_col['RFM Customers'][1]"
   ]
  },
  {
   "cell_type": "markdown",
   "id": "cd90ebd8",
   "metadata": {
    "heading_collapsed": true
   },
   "source": [
    "#### Merge "
   ]
  },
  {
   "cell_type": "code",
   "execution_count": 38,
   "id": "37777a34",
   "metadata": {
    "hidden": true
   },
   "outputs": [
    {
     "data": {
      "text/plain": [
       "(5073, 14)"
      ]
     },
     "execution_count": 38,
     "metadata": {},
     "output_type": "execute_result"
    }
   ],
   "source": [
    "Clientes_i=pd.merge(Clientes_i_RFM,df_group)\n",
    "Clientes_i['$F^{-1}$ Actual']=Clientes_i[Dic_col['RFM Customers'][1]].apply( lambda x: x**(-1))\n",
    "Clientes_i.shape"
   ]
  },
  {
   "cell_type": "code",
   "execution_count": 33,
   "id": "7e6aa518",
   "metadata": {
    "hidden": true
   },
   "outputs": [
    {
     "data": {
      "text/plain": [
       "4.956580356080733"
      ]
     },
     "execution_count": 33,
     "metadata": {},
     "output_type": "execute_result"
    }
   ],
   "source": [
    "0.201752**-1"
   ]
  },
  {
   "cell_type": "code",
   "execution_count": 39,
   "id": "d57979da",
   "metadata": {
    "hidden": true
   },
   "outputs": [
    {
     "data": {
      "text/html": [
       "<div>\n",
       "<style scoped>\n",
       "    .dataframe tbody tr th:only-of-type {\n",
       "        vertical-align: middle;\n",
       "    }\n",
       "\n",
       "    .dataframe tbody tr th {\n",
       "        vertical-align: top;\n",
       "    }\n",
       "\n",
       "    .dataframe thead th {\n",
       "        text-align: right;\n",
       "    }\n",
       "</style>\n",
       "<table border=\"1\" class=\"dataframe\">\n",
       "  <thead>\n",
       "    <tr style=\"text-align: right;\">\n",
       "      <th></th>\n",
       "      <th>Cliente</th>\n",
       "      <th>Fecha ultima Compra</th>\n",
       "      <th>Recency Actual</th>\n",
       "      <th>Fecha Creacion</th>\n",
       "      <th>Frecuency Actual del Cliente</th>\n",
       "      <th>Kilos Venta KG Promedio</th>\n",
       "      <th>Precio Promedio</th>\n",
       "      <th>Año Creación Promedio</th>\n",
       "      <th>Frecuencia Historica Promedio</th>\n",
       "      <th>Ingreso de Venta Promedio</th>\n",
       "      <th>Ticket Promedio Actual</th>\n",
       "      <th>Ticket std Actual</th>\n",
       "      <th>Ticket CV Actual</th>\n",
       "      <th>$F^{-1}$ Actual</th>\n",
       "    </tr>\n",
       "  </thead>\n",
       "  <tbody>\n",
       "    <tr>\n",
       "      <th>0</th>\n",
       "      <td>10003742</td>\n",
       "      <td>2020-05-23</td>\n",
       "      <td>521</td>\n",
       "      <td>2020-05-23</td>\n",
       "      <td>0.003344</td>\n",
       "      <td>22.000000</td>\n",
       "      <td>1300.000000</td>\n",
       "      <td>2007</td>\n",
       "      <td>19</td>\n",
       "      <td>28600.000000</td>\n",
       "      <td>22.000000</td>\n",
       "      <td>0.000000</td>\n",
       "      <td>0.000000</td>\n",
       "      <td>299.000000</td>\n",
       "    </tr>\n",
       "    <tr>\n",
       "      <th>1</th>\n",
       "      <td>10007508</td>\n",
       "      <td>2021-10-26</td>\n",
       "      <td>0</td>\n",
       "      <td>2018-03-01</td>\n",
       "      <td>0.201752</td>\n",
       "      <td>93.158654</td>\n",
       "      <td>1266.894231</td>\n",
       "      <td>2007</td>\n",
       "      <td>464</td>\n",
       "      <td>117683.471154</td>\n",
       "      <td>93.158654</td>\n",
       "      <td>36.215256</td>\n",
       "      <td>0.388748</td>\n",
       "      <td>4.956570</td>\n",
       "    </tr>\n",
       "    <tr>\n",
       "      <th>2</th>\n",
       "      <td>10017269</td>\n",
       "      <td>2021-10-23</td>\n",
       "      <td>3</td>\n",
       "      <td>2018-01-27</td>\n",
       "      <td>0.059365</td>\n",
       "      <td>22.038462</td>\n",
       "      <td>1347.782051</td>\n",
       "      <td>2007</td>\n",
       "      <td>101</td>\n",
       "      <td>29699.448718</td>\n",
       "      <td>22.038462</td>\n",
       "      <td>0.612474</td>\n",
       "      <td>0.027791</td>\n",
       "      <td>16.845022</td>\n",
       "    </tr>\n",
       "    <tr>\n",
       "      <th>3</th>\n",
       "      <td>10023880</td>\n",
       "      <td>2021-09-09</td>\n",
       "      <td>47</td>\n",
       "      <td>2018-12-28</td>\n",
       "      <td>0.039591</td>\n",
       "      <td>27.500000</td>\n",
       "      <td>1400.000000</td>\n",
       "      <td>2007</td>\n",
       "      <td>383</td>\n",
       "      <td>38390.000000</td>\n",
       "      <td>27.500000</td>\n",
       "      <td>12.102631</td>\n",
       "      <td>0.440096</td>\n",
       "      <td>25.258465</td>\n",
       "    </tr>\n",
       "    <tr>\n",
       "      <th>4</th>\n",
       "      <td>10028999</td>\n",
       "      <td>2021-09-24</td>\n",
       "      <td>32</td>\n",
       "      <td>2019-11-05</td>\n",
       "      <td>0.017541</td>\n",
       "      <td>22.000000</td>\n",
       "      <td>1320.923077</td>\n",
       "      <td>2007</td>\n",
       "      <td>62</td>\n",
       "      <td>29060.307692</td>\n",
       "      <td>22.000000</td>\n",
       "      <td>0.000000</td>\n",
       "      <td>0.000000</td>\n",
       "      <td>57.008334</td>\n",
       "    </tr>\n",
       "  </tbody>\n",
       "</table>\n",
       "</div>"
      ],
      "text/plain": [
       "    Cliente Fecha ultima Compra  Recency Actual Fecha Creacion  \\\n",
       "0  10003742          2020-05-23             521     2020-05-23   \n",
       "1  10007508          2021-10-26               0     2018-03-01   \n",
       "2  10017269          2021-10-23               3     2018-01-27   \n",
       "3  10023880          2021-09-09              47     2018-12-28   \n",
       "4  10028999          2021-09-24              32     2019-11-05   \n",
       "\n",
       "   Frecuency Actual del Cliente  Kilos Venta KG Promedio  Precio Promedio  \\\n",
       "0                      0.003344                22.000000      1300.000000   \n",
       "1                      0.201752                93.158654      1266.894231   \n",
       "2                      0.059365                22.038462      1347.782051   \n",
       "3                      0.039591                27.500000      1400.000000   \n",
       "4                      0.017541                22.000000      1320.923077   \n",
       "\n",
       "   Año Creación Promedio  Frecuencia Historica Promedio  \\\n",
       "0                   2007                             19   \n",
       "1                   2007                            464   \n",
       "2                   2007                            101   \n",
       "3                   2007                            383   \n",
       "4                   2007                             62   \n",
       "\n",
       "   Ingreso de Venta Promedio  Ticket Promedio Actual  Ticket std Actual  \\\n",
       "0               28600.000000               22.000000           0.000000   \n",
       "1              117683.471154               93.158654          36.215256   \n",
       "2               29699.448718               22.038462           0.612474   \n",
       "3               38390.000000               27.500000          12.102631   \n",
       "4               29060.307692               22.000000           0.000000   \n",
       "\n",
       "   Ticket CV Actual  $F^{-1}$ Actual  \n",
       "0          0.000000       299.000000  \n",
       "1          0.388748         4.956570  \n",
       "2          0.027791        16.845022  \n",
       "3          0.440096        25.258465  \n",
       "4          0.000000        57.008334  "
      ]
     },
     "execution_count": 39,
     "metadata": {},
     "output_type": "execute_result"
    }
   ],
   "source": [
    "Clientes_i.head()"
   ]
  },
  {
   "cell_type": "code",
   "execution_count": null,
   "id": "9f002f74",
   "metadata": {
    "hidden": true
   },
   "outputs": [],
   "source": []
  },
  {
   "cell_type": "markdown",
   "id": "dc038559",
   "metadata": {},
   "source": [
    "# Analisis "
   ]
  },
  {
   "cell_type": "markdown",
   "id": "09d693db",
   "metadata": {
    "heading_collapsed": true
   },
   "source": [
    "##### CV Lote "
   ]
  },
  {
   "cell_type": "code",
   "execution_count": 42,
   "id": "d691b621",
   "metadata": {
    "hidden": true
   },
   "outputs": [
    {
     "data": {
      "image/png": "[encoded data removed]",
      "text/plain": [
       "<Figure size 640x480 with 1 Axes>"
      ]
     },
     "metadata": {},
     "output_type": "display_data"
    },
    {
     "data": {
      "text/plain": [
       "<ggplot: (156732887902)>"
      ]
     },
     "execution_count": 42,
     "metadata": {},
     "output_type": "execute_result"
    }
   ],
   "source": [
    "Y_Graph=Dic_col['Ticket Customers'][0]\n",
    "X_Graph=Dic_col['Ticket Customers'][1]\n",
    "(ggplot(Clientes_i,\n",
    "      aes(x=X_Graph,\n",
    "         y=Y_Graph\n",
    "#          ,color='Cliente'\n",
    "         )\n",
    "      )\n",
    "+geom_point(alpha=0.2)\n",
    ")"
   ]
  },
  {
   "cell_type": "code",
   "execution_count": 43,
   "id": "4d68ae6d",
   "metadata": {
    "hidden": true
   },
   "outputs": [
    {
     "data": {
      "image/png": "[encoded data removed]",
      "text/plain": [
       "<Figure size 1300x800 with 1 Axes>"
      ]
     },
     "metadata": {},
     "output_type": "display_data"
    },
    {
     "data": {
      "text/plain": [
       "<ggplot: (156735051002)>"
      ]
     },
     "execution_count": 43,
     "metadata": {},
     "output_type": "execute_result"
    }
   ],
   "source": [
    "df=Clientes_i.copy()\n",
    "Y_Graph=Dic_col['Ticket Customers'][0]\n",
    "X_Graph=Dic_col['Ticket Customers'][1]\n",
    "# Color_Graph=Dic_col['Ticket Customers'][0]\n",
    "\n",
    "#int\n",
    "# df[X_Graph]=df[X_Graph].astype('int64')\n",
    "\n",
    "# df[X_Graph]=df[X_Graph].apply(lambda x:  np.log(x))\n",
    "# df[Y_Graph]=df[Y_Graph].apply(lambda x:  np.log(x))\n",
    "# df[Color_Graph]=df[Color_Graph].apply(lambda x:  np.log(x))\n",
    "\n",
    "\n",
    "# df_mean[X_Graph]=df_mean[X_Graph].astype('int64')\n",
    "\n",
    "G_calor_densidad_Dips=(ggplot(df#[df[Y_Graph]>0]\n",
    "            , aes(x=X_Graph#'Día numero'#'Fecha',\n",
    "            ,y=Y_Graph\n",
    "#             ,color=Color_Graph\n",
    "                 ))\n",
    "+geom_bin2d(alpha=0.5)\n",
    " \n",
    "+scale_y_continuous(limits=(0,2550)\n",
    "                    ,breaks=[i for i in range(0,2700,100)]\n",
    "                   )\n",
    "+scale_x_continuous(labels=lambda l: [\"%d%%\" % (v * 100) for v in l]\n",
    "                    ,limits=(0,3)\n",
    "                    ,breaks=[i/100 for i in range(0,300,25)]\n",
    "                   )\n",
    "+theme(axis_text_x = element_text(angle=90, hjust=1),figure_size=(13,8)) \n",
    "+ggtitle('Dispersión de los Clientes  del Canal '+ Tipo_de_Cliente+ '\\n sobre el producto '+ Y_producto)\n",
    ")   \n",
    "G_calor_densidad_Dips"
   ]
  },
  {
   "cell_type": "code",
   "execution_count": 50,
   "id": "9f820fe9",
   "metadata": {
    "hidden": true
   },
   "outputs": [
    {
     "data": {
      "text/plain": [
       "'$F^{-1}$ Actual'"
      ]
     },
     "execution_count": 50,
     "metadata": {},
     "output_type": "execute_result"
    }
   ],
   "source": [
    "(Clientes_i.columns)[13]"
   ]
  },
  {
   "cell_type": "markdown",
   "id": "b73b0179",
   "metadata": {
    "hidden": true
   },
   "source": [
    "###### F.-1 CV "
   ]
  },
  {
   "cell_type": "code",
   "execution_count": 51,
   "id": "879bd434",
   "metadata": {
    "hidden": true
   },
   "outputs": [
    {
     "data": {
      "image/png": "[encoded data removed]",
      "text/plain": [
       "<Figure size 1300x800 with 1 Axes>"
      ]
     },
     "metadata": {},
     "output_type": "display_data"
    },
    {
     "data": {
      "text/plain": [
       "<ggplot: (156735240837)>"
      ]
     },
     "execution_count": 51,
     "metadata": {},
     "output_type": "execute_result"
    }
   ],
   "source": [
    "df=Clientes_i.copy()\n",
    "Y_Graph=(Clientes_i.columns)[13]\n",
    "# Dic_col['RFM Customers'][1]\n",
    "X_Graph=Dic_col['Ticket Customers'][1]\n",
    "# Color_Graph=Dic_col['Ticket Customers'][0]\n",
    "\n",
    "#int\n",
    "# df[X_Graph]=df[X_Graph].astype('int64')\n",
    "\n",
    "# df[X_Graph]=df[X_Graph].apply(lambda x:  np.log(x))\n",
    "# df[Y_Graph]=df[Y_Graph].apply(lambda x:  np.log(x))\n",
    "# df[Color_Graph]=df[Color_Graph].apply(lambda x:  np.log(x))\n",
    "\n",
    "\n",
    "# df_mean[X_Graph]=df_mean[X_Graph].astype('int64')\n",
    "\n",
    "G_calor_densidad_Dips=(ggplot(df#[df[Y_Graph]>0]\n",
    "            , aes(x=X_Graph#'Día numero'#'Fecha',\n",
    "            ,y=Y_Graph\n",
    "#             ,color=Color_Graph\n",
    "                 ))\n",
    "+geom_bin2d(alpha=0.5)\n",
    " \n",
    "# +scale_y_continuous(limits=(0,2550)\n",
    "#                     ,breaks=[i for i in range(0,2700,100)]\n",
    "#                    )\n",
    "+scale_x_continuous(labels=lambda l: [\"%d%%\" % (v * 100) for v in l]\n",
    "                    ,limits=(0,3)\n",
    "                    ,breaks=[i/100 for i in range(0,300,25)]\n",
    "                   )\n",
    "+theme(axis_text_x = element_text(angle=90, hjust=1),figure_size=(13,8)) \n",
    "+ggtitle('Dispersión de los Clientes  del Canal '+ Tipo_de_Cliente+ '\\n sobre el producto '+ Y_producto)\n",
    ")   \n",
    "G_calor_densidad_Dips"
   ]
  },
  {
   "cell_type": "markdown",
   "id": "94712395",
   "metadata": {
    "heading_collapsed": true
   },
   "source": [
    "##### RFM"
   ]
  },
  {
   "cell_type": "markdown",
   "id": "76bd756e",
   "metadata": {
    "hidden": true
   },
   "source": [
    "###### f-1 Rece "
   ]
  },
  {
   "cell_type": "code",
   "execution_count": 53,
   "id": "a6c771e4",
   "metadata": {
    "hidden": true
   },
   "outputs": [
    {
     "data": {
      "image/png": "[encoded data removed]",
      "text/plain": [
       "<Figure size 1300x800 with 1 Axes>"
      ]
     },
     "metadata": {},
     "output_type": "display_data"
    },
    {
     "data": {
      "text/plain": [
       "<ggplot: (156735236868)>"
      ]
     },
     "execution_count": 53,
     "metadata": {},
     "output_type": "execute_result"
    }
   ],
   "source": [
    "df=Clientes_i.copy()\n",
    "Y_Graph=(Clientes_i.columns)[13]\n",
    "# Dic_col['RFM Customers'][1]\n",
    "X_Graph= Dic_col['RFM Customers'][0]\n",
    "# Dic_col['Ticket Customers'][1]\n",
    "\n",
    "\n",
    "\n",
    "# Color_Graph=Dic_col['Ticket Customers'][0]\n",
    "\n",
    "#int\n",
    "# df[X_Graph]=df[X_Graph].astype('int64')\n",
    "\n",
    "# df[X_Graph]=df[X_Graph].apply(lambda x:  np.log(x))\n",
    "# df[Y_Graph]=df[Y_Graph].apply(lambda x:  np.log(x))\n",
    "# df[Color_Graph]=df[Color_Graph].apply(lambda x:  np.log(x))\n",
    "\n",
    "\n",
    "# df_mean[X_Graph]=df_mean[X_Graph].astype('int64')\n",
    "\n",
    "G_calor_densidad_Dips=(ggplot(df#[df[Y_Graph]>0]\n",
    "            , aes(x=X_Graph#'Día numero'#'Fecha',\n",
    "            ,y=Y_Graph\n",
    "#             ,color=Color_Graph\n",
    "                 ))\n",
    "+geom_bin2d(alpha=0.5)\n",
    " \n",
    "# +scale_y_continuous(limits=(0,2550)\n",
    "#                     ,breaks=[i for i in range(0,2700,100)]\n",
    "#                    )\n",
    "# +scale_x_continuous(labels=lambda l: [\"%d%%\" % (v * 100) for v in l]\n",
    "#                     ,limits=(0,3)\n",
    "#                     ,breaks=[i/100 for i in range(0,300,25)]\n",
    "#                    )\n",
    "+theme(axis_text_x = element_text(angle=90, hjust=1),figure_size=(13,8)) \n",
    "+ggtitle('Dispersión de los Clientes  del Canal '+ Tipo_de_Cliente+ '\\n sobre el producto '+ Y_producto)\n",
    ")   \n",
    "G_calor_densidad_Dips"
   ]
  },
  {
   "cell_type": "markdown",
   "id": "b4559e6e",
   "metadata": {
    "hidden": true
   },
   "source": [
    "###### F-1 Mon "
   ]
  },
  {
   "cell_type": "code",
   "execution_count": 55,
   "id": "e41fb1c2",
   "metadata": {
    "hidden": true
   },
   "outputs": [
    {
     "data": {
      "text/html": [
       "<div>\n",
       "<style scoped>\n",
       "    .dataframe tbody tr th:only-of-type {\n",
       "        vertical-align: middle;\n",
       "    }\n",
       "\n",
       "    .dataframe tbody tr th {\n",
       "        vertical-align: top;\n",
       "    }\n",
       "\n",
       "    .dataframe thead th {\n",
       "        text-align: right;\n",
       "    }\n",
       "</style>\n",
       "<table border=\"1\" class=\"dataframe\">\n",
       "  <thead>\n",
       "    <tr style=\"text-align: right;\">\n",
       "      <th></th>\n",
       "      <th>Cliente</th>\n",
       "      <th>Fecha ultima Compra</th>\n",
       "      <th>Recency Actual</th>\n",
       "      <th>Fecha Creacion</th>\n",
       "      <th>Frecuency Actual del Cliente</th>\n",
       "      <th>Kilos Venta KG Promedio</th>\n",
       "      <th>Precio Promedio</th>\n",
       "      <th>Año Creación Promedio</th>\n",
       "      <th>Frecuencia Historica Promedio</th>\n",
       "      <th>Ingreso de Venta Promedio</th>\n",
       "      <th>Ticket Promedio Actual</th>\n",
       "      <th>Ticket std Actual</th>\n",
       "      <th>Ticket CV Actual</th>\n",
       "      <th>$F^{-1}$ Actual</th>\n",
       "    </tr>\n",
       "  </thead>\n",
       "  <tbody>\n",
       "    <tr>\n",
       "      <th>0</th>\n",
       "      <td>10003742</td>\n",
       "      <td>2020-05-23</td>\n",
       "      <td>521</td>\n",
       "      <td>2020-05-23</td>\n",
       "      <td>0.003344</td>\n",
       "      <td>22.000000</td>\n",
       "      <td>1300.000000</td>\n",
       "      <td>2007</td>\n",
       "      <td>19</td>\n",
       "      <td>28600.000000</td>\n",
       "      <td>22.000000</td>\n",
       "      <td>0.000000</td>\n",
       "      <td>0.000000</td>\n",
       "      <td>299.000000</td>\n",
       "    </tr>\n",
       "    <tr>\n",
       "      <th>1</th>\n",
       "      <td>10007508</td>\n",
       "      <td>2021-10-26</td>\n",
       "      <td>0</td>\n",
       "      <td>2018-03-01</td>\n",
       "      <td>0.201752</td>\n",
       "      <td>93.158654</td>\n",
       "      <td>1266.894231</td>\n",
       "      <td>2007</td>\n",
       "      <td>464</td>\n",
       "      <td>117683.471154</td>\n",
       "      <td>93.158654</td>\n",
       "      <td>36.215256</td>\n",
       "      <td>0.388748</td>\n",
       "      <td>4.956570</td>\n",
       "    </tr>\n",
       "    <tr>\n",
       "      <th>2</th>\n",
       "      <td>10017269</td>\n",
       "      <td>2021-10-23</td>\n",
       "      <td>3</td>\n",
       "      <td>2018-01-27</td>\n",
       "      <td>0.059365</td>\n",
       "      <td>22.038462</td>\n",
       "      <td>1347.782051</td>\n",
       "      <td>2007</td>\n",
       "      <td>101</td>\n",
       "      <td>29699.448718</td>\n",
       "      <td>22.038462</td>\n",
       "      <td>0.612474</td>\n",
       "      <td>0.027791</td>\n",
       "      <td>16.845022</td>\n",
       "    </tr>\n",
       "    <tr>\n",
       "      <th>3</th>\n",
       "      <td>10023880</td>\n",
       "      <td>2021-09-09</td>\n",
       "      <td>47</td>\n",
       "      <td>2018-12-28</td>\n",
       "      <td>0.039591</td>\n",
       "      <td>27.500000</td>\n",
       "      <td>1400.000000</td>\n",
       "      <td>2007</td>\n",
       "      <td>383</td>\n",
       "      <td>38390.000000</td>\n",
       "      <td>27.500000</td>\n",
       "      <td>12.102631</td>\n",
       "      <td>0.440096</td>\n",
       "      <td>25.258465</td>\n",
       "    </tr>\n",
       "    <tr>\n",
       "      <th>4</th>\n",
       "      <td>10028999</td>\n",
       "      <td>2021-09-24</td>\n",
       "      <td>32</td>\n",
       "      <td>2019-11-05</td>\n",
       "      <td>0.017541</td>\n",
       "      <td>22.000000</td>\n",
       "      <td>1320.923077</td>\n",
       "      <td>2007</td>\n",
       "      <td>62</td>\n",
       "      <td>29060.307692</td>\n",
       "      <td>22.000000</td>\n",
       "      <td>0.000000</td>\n",
       "      <td>0.000000</td>\n",
       "      <td>57.008334</td>\n",
       "    </tr>\n",
       "    <tr>\n",
       "      <th>...</th>\n",
       "      <td>...</td>\n",
       "      <td>...</td>\n",
       "      <td>...</td>\n",
       "      <td>...</td>\n",
       "      <td>...</td>\n",
       "      <td>...</td>\n",
       "      <td>...</td>\n",
       "      <td>...</td>\n",
       "      <td>...</td>\n",
       "      <td>...</td>\n",
       "      <td>...</td>\n",
       "      <td>...</td>\n",
       "      <td>...</td>\n",
       "      <td>...</td>\n",
       "    </tr>\n",
       "    <tr>\n",
       "      <th>5068</th>\n",
       "      <td>9992154</td>\n",
       "      <td>2021-08-18</td>\n",
       "      <td>69</td>\n",
       "      <td>2018-10-03</td>\n",
       "      <td>0.056885</td>\n",
       "      <td>36.171429</td>\n",
       "      <td>1294.657143</td>\n",
       "      <td>2007</td>\n",
       "      <td>113</td>\n",
       "      <td>46135.600000</td>\n",
       "      <td>36.171429</td>\n",
       "      <td>18.376080</td>\n",
       "      <td>0.508027</td>\n",
       "      <td>17.579468</td>\n",
       "    </tr>\n",
       "    <tr>\n",
       "      <th>5069</th>\n",
       "      <td>9993925</td>\n",
       "      <td>2021-10-26</td>\n",
       "      <td>0</td>\n",
       "      <td>2018-01-02</td>\n",
       "      <td>0.408158</td>\n",
       "      <td>160.517495</td>\n",
       "      <td>1257.278085</td>\n",
       "      <td>2012</td>\n",
       "      <td>594</td>\n",
       "      <td>200374.351750</td>\n",
       "      <td>160.517495</td>\n",
       "      <td>81.963154</td>\n",
       "      <td>0.510618</td>\n",
       "      <td>2.450031</td>\n",
       "    </tr>\n",
       "    <tr>\n",
       "      <th>5070</th>\n",
       "      <td>9994662</td>\n",
       "      <td>2021-10-14</td>\n",
       "      <td>12</td>\n",
       "      <td>2020-02-10</td>\n",
       "      <td>0.015996</td>\n",
       "      <td>22.000000</td>\n",
       "      <td>1304.545455</td>\n",
       "      <td>2007</td>\n",
       "      <td>37</td>\n",
       "      <td>28700.000000</td>\n",
       "      <td>22.000000</td>\n",
       "      <td>0.000000</td>\n",
       "      <td>0.000000</td>\n",
       "      <td>62.515629</td>\n",
       "    </tr>\n",
       "    <tr>\n",
       "      <th>5071</th>\n",
       "      <td>9994800</td>\n",
       "      <td>2021-06-30</td>\n",
       "      <td>118</td>\n",
       "      <td>2020-12-16</td>\n",
       "      <td>0.025931</td>\n",
       "      <td>22.000000</td>\n",
       "      <td>1230.000000</td>\n",
       "      <td>2020</td>\n",
       "      <td>7</td>\n",
       "      <td>27060.000000</td>\n",
       "      <td>22.000000</td>\n",
       "      <td>0.000000</td>\n",
       "      <td>0.000000</td>\n",
       "      <td>38.563750</td>\n",
       "    </tr>\n",
       "    <tr>\n",
       "      <th>5072</th>\n",
       "      <td>9997223</td>\n",
       "      <td>2020-07-18</td>\n",
       "      <td>465</td>\n",
       "      <td>2020-07-18</td>\n",
       "      <td>0.003344</td>\n",
       "      <td>22.000000</td>\n",
       "      <td>1090.000000</td>\n",
       "      <td>2019</td>\n",
       "      <td>15</td>\n",
       "      <td>23980.000000</td>\n",
       "      <td>22.000000</td>\n",
       "      <td>0.000000</td>\n",
       "      <td>0.000000</td>\n",
       "      <td>299.000000</td>\n",
       "    </tr>\n",
       "  </tbody>\n",
       "</table>\n",
       "<p>5073 rows × 14 columns</p>\n",
       "</div>"
      ],
      "text/plain": [
       "       Cliente Fecha ultima Compra  Recency Actual Fecha Creacion  \\\n",
       "0     10003742          2020-05-23             521     2020-05-23   \n",
       "1     10007508          2021-10-26               0     2018-03-01   \n",
       "2     10017269          2021-10-23               3     2018-01-27   \n",
       "3     10023880          2021-09-09              47     2018-12-28   \n",
       "4     10028999          2021-09-24              32     2019-11-05   \n",
       "...        ...                 ...             ...            ...   \n",
       "5068   9992154          2021-08-18              69     2018-10-03   \n",
       "5069   9993925          2021-10-26               0     2018-01-02   \n",
       "5070   9994662          2021-10-14              12     2020-02-10   \n",
       "5071   9994800          2021-06-30             118     2020-12-16   \n",
       "5072   9997223          2020-07-18             465     2020-07-18   \n",
       "\n",
       "      Frecuency Actual del Cliente  Kilos Venta KG Promedio  Precio Promedio  \\\n",
       "0                         0.003344                22.000000      1300.000000   \n",
       "1                         0.201752                93.158654      1266.894231   \n",
       "2                         0.059365                22.038462      1347.782051   \n",
       "3                         0.039591                27.500000      1400.000000   \n",
       "4                         0.017541                22.000000      1320.923077   \n",
       "...                            ...                      ...              ...   \n",
       "5068                      0.056885                36.171429      1294.657143   \n",
       "5069                      0.408158               160.517495      1257.278085   \n",
       "5070                      0.015996                22.000000      1304.545455   \n",
       "5071                      0.025931                22.000000      1230.000000   \n",
       "5072                      0.003344                22.000000      1090.000000   \n",
       "\n",
       "      Año Creación Promedio  Frecuencia Historica Promedio  \\\n",
       "0                      2007                             19   \n",
       "1                      2007                            464   \n",
       "2                      2007                            101   \n",
       "3                      2007                            383   \n",
       "4                      2007                             62   \n",
       "...                     ...                            ...   \n",
       "5068                   2007                            113   \n",
       "5069                   2012                            594   \n",
       "5070                   2007                             37   \n",
       "5071                   2020                              7   \n",
       "5072                   2019                             15   \n",
       "\n",
       "      Ingreso de Venta Promedio  Ticket Promedio Actual  Ticket std Actual  \\\n",
       "0                  28600.000000               22.000000           0.000000   \n",
       "1                 117683.471154               93.158654          36.215256   \n",
       "2                  29699.448718               22.038462           0.612474   \n",
       "3                  38390.000000               27.500000          12.102631   \n",
       "4                  29060.307692               22.000000           0.000000   \n",
       "...                         ...                     ...                ...   \n",
       "5068               46135.600000               36.171429          18.376080   \n",
       "5069              200374.351750              160.517495          81.963154   \n",
       "5070               28700.000000               22.000000           0.000000   \n",
       "5071               27060.000000               22.000000           0.000000   \n",
       "5072               23980.000000               22.000000           0.000000   \n",
       "\n",
       "      Ticket CV Actual  $F^{-1}$ Actual  \n",
       "0             0.000000       299.000000  \n",
       "1             0.388748         4.956570  \n",
       "2             0.027791        16.845022  \n",
       "3             0.440096        25.258465  \n",
       "4             0.000000        57.008334  \n",
       "...                ...              ...  \n",
       "5068          0.508027        17.579468  \n",
       "5069          0.510618         2.450031  \n",
       "5070          0.000000        62.515629  \n",
       "5071          0.000000        38.563750  \n",
       "5072          0.000000       299.000000  \n",
       "\n",
       "[5073 rows x 14 columns]"
      ]
     },
     "execution_count": 55,
     "metadata": {},
     "output_type": "execute_result"
    }
   ],
   "source": [
    "Clientes_i"
   ]
  },
  {
   "cell_type": "code",
   "execution_count": 59,
   "id": "f0c9c175",
   "metadata": {
    "hidden": true
   },
   "outputs": [
    {
     "data": {
      "text/plain": [
       "'Monetary Actual'"
      ]
     },
     "execution_count": 59,
     "metadata": {},
     "output_type": "execute_result"
    }
   ],
   "source": [
    "'Ingreso de Venta Promedio'\n",
    "Dic_col['RFM Customers'][2]"
   ]
  },
  {
   "cell_type": "code",
   "execution_count": 60,
   "id": "b00ee95d",
   "metadata": {
    "hidden": true,
    "scrolled": false
   },
   "outputs": [
    {
     "data": {
      "image/png": "[encoded data removed]",
      "text/plain": [
       "<Figure size 1300x800 with 1 Axes>"
      ]
     },
     "metadata": {},
     "output_type": "display_data"
    },
    {
     "data": {
      "text/plain": [
       "<ggplot: (156735708148)>"
      ]
     },
     "execution_count": 60,
     "metadata": {},
     "output_type": "execute_result"
    }
   ],
   "source": [
    "df=Clientes_i.copy()\n",
    "Y_Graph=(Clientes_i.columns)[13]\n",
    "# Dic_col['RFM Customers'][1]\n",
    "X_Graph= 'Ingreso de Venta Promedio'\n",
    "# Dic_col['RFM Customers'][2]\n",
    "# Dic_col['Ticket Customers'][1]\n",
    "\n",
    "\n",
    "\n",
    "# Color_Graph=Dic_col['Ticket Customers'][0]\n",
    "\n",
    "#int\n",
    "# df[X_Graph]=df[X_Graph].astype('int64')\n",
    "\n",
    "# df[X_Graph]=df[X_Graph].apply(lambda x:  np.log(x))\n",
    "# df[Y_Graph]=df[Y_Graph].apply(lambda x:  np.log(x))\n",
    "# df[Color_Graph]=df[Color_Graph].apply(lambda x:  np.log(x))\n",
    "\n",
    "\n",
    "# df_mean[X_Graph]=df_mean[X_Graph].astype('int64')\n",
    "\n",
    "G_calor_densidad_Dips=(ggplot(df#[df[Y_Graph]>0]\n",
    "            , aes(x=X_Graph#'Día numero'#'Fecha',\n",
    "            ,y=Y_Graph\n",
    "#             ,color=Color_Graph\n",
    "                 ))\n",
    "+geom_bin2d(alpha=0.5)\n",
    " \n",
    "# +scale_y_continuous(limits=(0,2550)\n",
    "#                     ,breaks=[i for i in range(0,2700,100)]\n",
    "#                    )\n",
    "# +scale_x_continuous(labels=lambda l: [\"%d%%\" % (v * 100) for v in l]\n",
    "#                     ,limits=(0,3)\n",
    "#                     ,breaks=[i/100 for i in range(0,300,25)]\n",
    "#                    )\n",
    "+theme(axis_text_x = element_text(angle=90, hjust=1),figure_size=(13,8)) \n",
    "+ggtitle('Dispersión de los Clientes  del Canal '+ Tipo_de_Cliente+ '\\n sobre el producto '+ Y_producto)\n",
    ")   \n",
    "G_calor_densidad_Dips"
   ]
  },
  {
   "cell_type": "code",
   "execution_count": 61,
   "id": "56ad19f9",
   "metadata": {
    "hidden": true
   },
   "outputs": [
    {
     "data": {
      "text/plain": [
       "Index(['Cliente', 'Fecha ultima Compra', 'Recency Actual', 'Fecha Creacion',\n",
       "       'Frecuency Actual del Cliente', 'Kilos Venta KG Promedio',\n",
       "       'Precio Promedio', 'Año Creación Promedio',\n",
       "       'Frecuencia Historica Promedio', 'Ingreso de Venta Promedio',\n",
       "       'Ticket Promedio Actual', 'Ticket std Actual', 'Ticket CV Actual',\n",
       "       '$F^{-1}$ Actual'],\n",
       "      dtype='object')"
      ]
     },
     "execution_count": 61,
     "metadata": {},
     "output_type": "execute_result"
    }
   ],
   "source": [
    "Clientes_i.columns"
   ]
  },
  {
   "cell_type": "markdown",
   "id": "a02f925a",
   "metadata": {
    "heading_collapsed": true
   },
   "source": [
    "##### Precio "
   ]
  },
  {
   "cell_type": "markdown",
   "id": "7ba4c982",
   "metadata": {
    "hidden": true
   },
   "source": [
    "###### F-1 "
   ]
  },
  {
   "cell_type": "code",
   "execution_count": 62,
   "id": "a2165a3e",
   "metadata": {
    "hidden": true,
    "scrolled": false
   },
   "outputs": [
    {
     "data": {
      "image/png": "[encoded data removed]",
      "text/plain": [
       "<Figure size 1300x800 with 1 Axes>"
      ]
     },
     "metadata": {},
     "output_type": "display_data"
    },
    {
     "data": {
      "text/plain": [
       "<ggplot: (156736164756)>"
      ]
     },
     "execution_count": 62,
     "metadata": {},
     "output_type": "execute_result"
    }
   ],
   "source": [
    "df=Clientes_i.copy()\n",
    "Y_Graph=(Clientes_i.columns)[13]\n",
    "# Dic_col['RFM Customers'][1]\n",
    "X_Graph= 'Precio Promedio'\n",
    "# 'Ingreso de Venta Promedio'\n",
    "# Dic_col['RFM Customers'][2]\n",
    "# Dic_col['Ticket Customers'][1]\n",
    "\n",
    "\n",
    "\n",
    "# Color_Graph=Dic_col['Ticket Customers'][0]\n",
    "\n",
    "#int\n",
    "# df[X_Graph]=df[X_Graph].astype('int64')\n",
    "\n",
    "# df[X_Graph]=df[X_Graph].apply(lambda x:  np.log(x))\n",
    "# df[Y_Graph]=df[Y_Graph].apply(lambda x:  np.log(x))\n",
    "# df[Color_Graph]=df[Color_Graph].apply(lambda x:  np.log(x))\n",
    "\n",
    "\n",
    "# df_mean[X_Graph]=df_mean[X_Graph].astype('int64')\n",
    "\n",
    "G_calor_densidad_Dips=(ggplot(df#[df[Y_Graph]>0]\n",
    "            , aes(x=X_Graph#'Día numero'#'Fecha',\n",
    "            ,y=Y_Graph\n",
    "#             ,color=Color_Graph\n",
    "                 ))\n",
    "+geom_bin2d(alpha=0.5)\n",
    " \n",
    "# +scale_y_continuous(limits=(0,2550)\n",
    "#                     ,breaks=[i for i in range(0,2700,100)]\n",
    "#                    )\n",
    "# +scale_x_continuous(labels=lambda l: [\"%d%%\" % (v * 100) for v in l]\n",
    "#                     ,limits=(0,3)\n",
    "#                     ,breaks=[i/100 for i in range(0,300,25)]\n",
    "#                    )\n",
    "+theme(axis_text_x = element_text(angle=90, hjust=1),figure_size=(13,8)) \n",
    "+ggtitle('Dispersión de los Clientes  del Canal '+ Tipo_de_Cliente+ '\\n sobre el producto '+ Y_producto)\n",
    ")   \n",
    "G_calor_densidad_Dips"
   ]
  },
  {
   "cell_type": "code",
   "execution_count": 63,
   "id": "b7e9e75f",
   "metadata": {
    "hidden": true,
    "scrolled": false
   },
   "outputs": [
    {
     "data": {
      "image/png": "[encoded data removed]",
      "text/plain": [
       "<Figure size 1300x800 with 1 Axes>"
      ]
     },
     "metadata": {},
     "output_type": "display_data"
    },
    {
     "data": {
      "text/plain": [
       "<ggplot: (156736197572)>"
      ]
     },
     "execution_count": 63,
     "metadata": {},
     "output_type": "execute_result"
    }
   ],
   "source": [
    "df=Clientes_i.copy()\n",
    "Y_Graph= Dic_col['RFM Customers'][1]\n",
    "# (Clientes_i.columns)[13]\n",
    "X_Graph= 'Precio Promedio'\n",
    "# 'Ingreso de Venta Promedio'\n",
    "# Dic_col['RFM Customers'][2]\n",
    "# Dic_col['Ticket Customers'][1]\n",
    "\n",
    "\n",
    "\n",
    "# Color_Graph=Dic_col['Ticket Customers'][0]\n",
    "\n",
    "#int\n",
    "# df[X_Graph]=df[X_Graph].astype('int64')\n",
    "\n",
    "# df[X_Graph]=df[X_Graph].apply(lambda x:  np.log(x))\n",
    "# df[Y_Graph]=df[Y_Graph].apply(lambda x:  np.log(x))\n",
    "# df[Color_Graph]=df[Color_Graph].apply(lambda x:  np.log(x))\n",
    "\n",
    "\n",
    "# df_mean[X_Graph]=df_mean[X_Graph].astype('int64')\n",
    "\n",
    "G_calor_densidad_Dips=(ggplot(df#[df[Y_Graph]>0]\n",
    "            , aes(x=X_Graph#'Día numero'#'Fecha',\n",
    "            ,y=Y_Graph\n",
    "#             ,color=Color_Graph\n",
    "                 ))\n",
    "+geom_bin2d(alpha=0.5)\n",
    " \n",
    "# +scale_y_continuous(limits=(0,2550)\n",
    "#                     ,breaks=[i for i in range(0,2700,100)]\n",
    "#                    )\n",
    "# +scale_x_continuous(labels=lambda l: [\"%d%%\" % (v * 100) for v in l]\n",
    "#                     ,limits=(0,3)\n",
    "#                     ,breaks=[i/100 for i in range(0,300,25)]\n",
    "#                    )\n",
    "+theme(axis_text_x = element_text(angle=90, hjust=1),figure_size=(13,8)) \n",
    "+ggtitle('Dispersión de los Clientes  del Canal '+ Tipo_de_Cliente+ '\\n sobre el producto '+ Y_producto)\n",
    ")   \n",
    "G_calor_densidad_Dips"
   ]
  },
  {
   "cell_type": "markdown",
   "id": "09d14c98",
   "metadata": {
    "hidden": true
   },
   "source": [
    "###### R"
   ]
  },
  {
   "cell_type": "code",
   "execution_count": 64,
   "id": "cb70d281",
   "metadata": {
    "hidden": true,
    "scrolled": false
   },
   "outputs": [
    {
     "data": {
      "image/png": "[encoded data removed]",
      "text/plain": [
       "<Figure size 1300x800 with 1 Axes>"
      ]
     },
     "metadata": {},
     "output_type": "display_data"
    },
    {
     "data": {
      "text/plain": [
       "<ggplot: (156736246842)>"
      ]
     },
     "execution_count": 64,
     "metadata": {},
     "output_type": "execute_result"
    }
   ],
   "source": [
    "df=Clientes_i.copy()\n",
    "Y_Graph= Dic_col['RFM Customers'][0]\n",
    "# (Clientes_i.columns)[13]\n",
    "X_Graph= 'Precio Promedio'\n",
    "# 'Ingreso de Venta Promedio'\n",
    "# Dic_col['RFM Customers'][2]\n",
    "# Dic_col['Ticket Customers'][1]\n",
    "\n",
    "\n",
    "\n",
    "# Color_Graph=Dic_col['Ticket Customers'][0]\n",
    "\n",
    "#int\n",
    "# df[X_Graph]=df[X_Graph].astype('int64')\n",
    "\n",
    "# df[X_Graph]=df[X_Graph].apply(lambda x:  np.log(x))\n",
    "# df[Y_Graph]=df[Y_Graph].apply(lambda x:  np.log(x))\n",
    "# df[Color_Graph]=df[Color_Graph].apply(lambda x:  np.log(x))\n",
    "\n",
    "\n",
    "# df_mean[X_Graph]=df_mean[X_Graph].astype('int64')\n",
    "\n",
    "G_calor_densidad_Dips=(ggplot(df#[df[Y_Graph]>0]\n",
    "            , aes(x=X_Graph#'Día numero'#'Fecha',\n",
    "            ,y=Y_Graph\n",
    "#             ,color=Color_Graph\n",
    "                 ))\n",
    "+geom_bin2d(alpha=0.5)\n",
    " \n",
    "# +scale_y_continuous(limits=(0,2550)\n",
    "#                     ,breaks=[i for i in range(0,2700,100)]\n",
    "#                    )\n",
    "# +scale_x_continuous(labels=lambda l: [\"%d%%\" % (v * 100) for v in l]\n",
    "#                     ,limits=(0,3)\n",
    "#                     ,breaks=[i/100 for i in range(0,300,25)]\n",
    "#                    )\n",
    "+theme(axis_text_x = element_text(angle=90, hjust=1),figure_size=(13,8)) \n",
    "+ggtitle('Dispersión de los Clientes  del Canal '+ Tipo_de_Cliente+ '\\n sobre el producto '+ Y_producto)\n",
    ")   \n",
    "G_calor_densidad_Dips"
   ]
  },
  {
   "cell_type": "markdown",
   "id": "89b1ed5f",
   "metadata": {
    "hidden": true
   },
   "source": [
    "###### Fact "
   ]
  },
  {
   "cell_type": "code",
   "execution_count": 68,
   "id": "0c898662",
   "metadata": {
    "hidden": true,
    "scrolled": false
   },
   "outputs": [
    {
     "name": "stderr",
     "output_type": "stream",
     "text": [
      "C:\\Users\\user\\anaconda3\\lib\\site-packages\\mizani\\utils.py:50: RuntimeWarning: invalid value encountered in true_divide\n"
     ]
    },
    {
     "ename": "ValueError",
     "evalue": "arange: cannot compute length",
     "output_type": "error",
     "traceback": [
      "\u001b[1;31m---------------------------------------------------------------------------\u001b[0m",
      "\u001b[1;31mValueError\u001b[0m                                Traceback (most recent call last)",
      "\u001b[1;32m~\\anaconda3\\lib\\site-packages\\IPython\\core\\formatters.py\u001b[0m in \u001b[0;36m__call__\u001b[1;34m(self, obj)\u001b[0m\n\u001b[0;32m    700\u001b[0m                 \u001b[0mtype_pprinters\u001b[0m\u001b[1;33m=\u001b[0m\u001b[0mself\u001b[0m\u001b[1;33m.\u001b[0m\u001b[0mtype_printers\u001b[0m\u001b[1;33m,\u001b[0m\u001b[1;33m\u001b[0m\u001b[1;33m\u001b[0m\u001b[0m\n\u001b[0;32m    701\u001b[0m                 deferred_pprinters=self.deferred_printers)\n\u001b[1;32m--> 702\u001b[1;33m             \u001b[0mprinter\u001b[0m\u001b[1;33m.\u001b[0m\u001b[0mpretty\u001b[0m\u001b[1;33m(\u001b[0m\u001b[0mobj\u001b[0m\u001b[1;33m)\u001b[0m\u001b[1;33m\u001b[0m\u001b[1;33m\u001b[0m\u001b[0m\n\u001b[0m\u001b[0;32m    703\u001b[0m             \u001b[0mprinter\u001b[0m\u001b[1;33m.\u001b[0m\u001b[0mflush\u001b[0m\u001b[1;33m(\u001b[0m\u001b[1;33m)\u001b[0m\u001b[1;33m\u001b[0m\u001b[1;33m\u001b[0m\u001b[0m\n\u001b[0;32m    704\u001b[0m             \u001b[1;32mreturn\u001b[0m \u001b[0mstream\u001b[0m\u001b[1;33m.\u001b[0m\u001b[0mgetvalue\u001b[0m\u001b[1;33m(\u001b[0m\u001b[1;33m)\u001b[0m\u001b[1;33m\u001b[0m\u001b[1;33m\u001b[0m\u001b[0m\n",
      "\u001b[1;32m~\\anaconda3\\lib\\site-packages\\IPython\\lib\\pretty.py\u001b[0m in \u001b[0;36mpretty\u001b[1;34m(self, obj)\u001b[0m\n\u001b[0;32m    392\u001b[0m                         \u001b[1;32mif\u001b[0m \u001b[0mcls\u001b[0m \u001b[1;32mis\u001b[0m \u001b[1;32mnot\u001b[0m \u001b[0mobject\u001b[0m\u001b[0;31m \u001b[0m\u001b[0;31m\\\u001b[0m\u001b[1;33m\u001b[0m\u001b[1;33m\u001b[0m\u001b[0m\n\u001b[0;32m    393\u001b[0m                                 \u001b[1;32mand\u001b[0m \u001b[0mcallable\u001b[0m\u001b[1;33m(\u001b[0m\u001b[0mcls\u001b[0m\u001b[1;33m.\u001b[0m\u001b[0m__dict__\u001b[0m\u001b[1;33m.\u001b[0m\u001b[0mget\u001b[0m\u001b[1;33m(\u001b[0m\u001b[1;34m'__repr__'\u001b[0m\u001b[1;33m)\u001b[0m\u001b[1;33m)\u001b[0m\u001b[1;33m:\u001b[0m\u001b[1;33m\u001b[0m\u001b[1;33m\u001b[0m\u001b[0m\n\u001b[1;32m--> 394\u001b[1;33m                             \u001b[1;32mreturn\u001b[0m \u001b[0m_repr_pprint\u001b[0m\u001b[1;33m(\u001b[0m\u001b[0mobj\u001b[0m\u001b[1;33m,\u001b[0m \u001b[0mself\u001b[0m\u001b[1;33m,\u001b[0m \u001b[0mcycle\u001b[0m\u001b[1;33m)\u001b[0m\u001b[1;33m\u001b[0m\u001b[1;33m\u001b[0m\u001b[0m\n\u001b[0m\u001b[0;32m    395\u001b[0m \u001b[1;33m\u001b[0m\u001b[0m\n\u001b[0;32m    396\u001b[0m             \u001b[1;32mreturn\u001b[0m \u001b[0m_default_pprint\u001b[0m\u001b[1;33m(\u001b[0m\u001b[0mobj\u001b[0m\u001b[1;33m,\u001b[0m \u001b[0mself\u001b[0m\u001b[1;33m,\u001b[0m \u001b[0mcycle\u001b[0m\u001b[1;33m)\u001b[0m\u001b[1;33m\u001b[0m\u001b[1;33m\u001b[0m\u001b[0m\n",
      "\u001b[1;32m~\\anaconda3\\lib\\site-packages\\IPython\\lib\\pretty.py\u001b[0m in \u001b[0;36m_repr_pprint\u001b[1;34m(obj, p, cycle)\u001b[0m\n\u001b[0;32m    698\u001b[0m     \u001b[1;34m\"\"\"A pprint that just redirects to the normal repr function.\"\"\"\u001b[0m\u001b[1;33m\u001b[0m\u001b[1;33m\u001b[0m\u001b[0m\n\u001b[0;32m    699\u001b[0m     \u001b[1;31m# Find newlines and replace them with p.break_()\u001b[0m\u001b[1;33m\u001b[0m\u001b[1;33m\u001b[0m\u001b[1;33m\u001b[0m\u001b[0m\n\u001b[1;32m--> 700\u001b[1;33m     \u001b[0moutput\u001b[0m \u001b[1;33m=\u001b[0m \u001b[0mrepr\u001b[0m\u001b[1;33m(\u001b[0m\u001b[0mobj\u001b[0m\u001b[1;33m)\u001b[0m\u001b[1;33m\u001b[0m\u001b[1;33m\u001b[0m\u001b[0m\n\u001b[0m\u001b[0;32m    701\u001b[0m     \u001b[0mlines\u001b[0m \u001b[1;33m=\u001b[0m \u001b[0moutput\u001b[0m\u001b[1;33m.\u001b[0m\u001b[0msplitlines\u001b[0m\u001b[1;33m(\u001b[0m\u001b[1;33m)\u001b[0m\u001b[1;33m\u001b[0m\u001b[1;33m\u001b[0m\u001b[0m\n\u001b[0;32m    702\u001b[0m     \u001b[1;32mwith\u001b[0m \u001b[0mp\u001b[0m\u001b[1;33m.\u001b[0m\u001b[0mgroup\u001b[0m\u001b[1;33m(\u001b[0m\u001b[1;33m)\u001b[0m\u001b[1;33m:\u001b[0m\u001b[1;33m\u001b[0m\u001b[1;33m\u001b[0m\u001b[0m\n",
      "\u001b[1;32m~\\anaconda3\\lib\\site-packages\\plotnine\\ggplot.py\u001b[0m in \u001b[0;36m__repr__\u001b[1;34m(self)\u001b[0m\n\u001b[0;32m     95\u001b[0m         \u001b[0mPrint\u001b[0m\u001b[1;33m/\u001b[0m\u001b[0mshow\u001b[0m \u001b[0mthe\u001b[0m \u001b[0mplot\u001b[0m\u001b[1;33m\u001b[0m\u001b[1;33m\u001b[0m\u001b[0m\n\u001b[0;32m     96\u001b[0m         \"\"\"\n\u001b[1;32m---> 97\u001b[1;33m         \u001b[0mself\u001b[0m\u001b[1;33m.\u001b[0m\u001b[0m__str__\u001b[0m\u001b[1;33m(\u001b[0m\u001b[1;33m)\u001b[0m\u001b[1;33m\u001b[0m\u001b[1;33m\u001b[0m\u001b[0m\n\u001b[0m\u001b[0;32m     98\u001b[0m         \u001b[1;32mreturn\u001b[0m \u001b[1;34m'<ggplot: (%d)>'\u001b[0m \u001b[1;33m%\u001b[0m \u001b[0mself\u001b[0m\u001b[1;33m.\u001b[0m\u001b[0m__hash__\u001b[0m\u001b[1;33m(\u001b[0m\u001b[1;33m)\u001b[0m\u001b[1;33m\u001b[0m\u001b[1;33m\u001b[0m\u001b[0m\n\u001b[0;32m     99\u001b[0m \u001b[1;33m\u001b[0m\u001b[0m\n",
      "\u001b[1;32m~\\anaconda3\\lib\\site-packages\\plotnine\\ggplot.py\u001b[0m in \u001b[0;36m__str__\u001b[1;34m(self)\u001b[0m\n\u001b[0;32m     86\u001b[0m         \u001b[0mPrint\u001b[0m\u001b[1;33m/\u001b[0m\u001b[0mshow\u001b[0m \u001b[0mthe\u001b[0m \u001b[0mplot\u001b[0m\u001b[1;33m\u001b[0m\u001b[1;33m\u001b[0m\u001b[0m\n\u001b[0;32m     87\u001b[0m         \"\"\"\n\u001b[1;32m---> 88\u001b[1;33m         \u001b[0mself\u001b[0m\u001b[1;33m.\u001b[0m\u001b[0mdraw\u001b[0m\u001b[1;33m(\u001b[0m\u001b[0mshow\u001b[0m\u001b[1;33m=\u001b[0m\u001b[1;32mTrue\u001b[0m\u001b[1;33m)\u001b[0m\u001b[1;33m\u001b[0m\u001b[1;33m\u001b[0m\u001b[0m\n\u001b[0m\u001b[0;32m     89\u001b[0m \u001b[1;33m\u001b[0m\u001b[0m\n\u001b[0;32m     90\u001b[0m         \u001b[1;31m# Return and empty string so that print(p) is \"pretty\"\u001b[0m\u001b[1;33m\u001b[0m\u001b[1;33m\u001b[0m\u001b[1;33m\u001b[0m\u001b[0m\n",
      "\u001b[1;32m~\\anaconda3\\lib\\site-packages\\plotnine\\ggplot.py\u001b[0m in \u001b[0;36mdraw\u001b[1;34m(self, return_ggplot, show)\u001b[0m\n\u001b[0;32m    203\u001b[0m         \u001b[0mself\u001b[0m \u001b[1;33m=\u001b[0m \u001b[0mdeepcopy\u001b[0m\u001b[1;33m(\u001b[0m\u001b[0mself\u001b[0m\u001b[1;33m)\u001b[0m\u001b[1;33m\u001b[0m\u001b[1;33m\u001b[0m\u001b[0m\n\u001b[0;32m    204\u001b[0m         \u001b[1;32mwith\u001b[0m \u001b[0mplot_context\u001b[0m\u001b[1;33m(\u001b[0m\u001b[0mself\u001b[0m\u001b[1;33m,\u001b[0m \u001b[0mshow\u001b[0m\u001b[1;33m=\u001b[0m\u001b[0mshow\u001b[0m\u001b[1;33m)\u001b[0m\u001b[1;33m:\u001b[0m\u001b[1;33m\u001b[0m\u001b[1;33m\u001b[0m\u001b[0m\n\u001b[1;32m--> 205\u001b[1;33m             \u001b[0mself\u001b[0m\u001b[1;33m.\u001b[0m\u001b[0m_build\u001b[0m\u001b[1;33m(\u001b[0m\u001b[1;33m)\u001b[0m\u001b[1;33m\u001b[0m\u001b[1;33m\u001b[0m\u001b[0m\n\u001b[0m\u001b[0;32m    206\u001b[0m \u001b[1;33m\u001b[0m\u001b[0m\n\u001b[0;32m    207\u001b[0m             \u001b[1;31m# setup\u001b[0m\u001b[1;33m\u001b[0m\u001b[1;33m\u001b[0m\u001b[1;33m\u001b[0m\u001b[0m\n",
      "\u001b[1;32m~\\anaconda3\\lib\\site-packages\\plotnine\\ggplot.py\u001b[0m in \u001b[0;36m_build\u001b[1;34m(self)\u001b[0m\n\u001b[0;32m    298\u001b[0m \u001b[1;33m\u001b[0m\u001b[0m\n\u001b[0;32m    299\u001b[0m         \u001b[1;31m# Apply and map statistics\u001b[0m\u001b[1;33m\u001b[0m\u001b[1;33m\u001b[0m\u001b[1;33m\u001b[0m\u001b[0m\n\u001b[1;32m--> 300\u001b[1;33m         \u001b[0mlayers\u001b[0m\u001b[1;33m.\u001b[0m\u001b[0mcompute_statistic\u001b[0m\u001b[1;33m(\u001b[0m\u001b[0mlayout\u001b[0m\u001b[1;33m)\u001b[0m\u001b[1;33m\u001b[0m\u001b[1;33m\u001b[0m\u001b[0m\n\u001b[0m\u001b[0;32m    301\u001b[0m         \u001b[0mlayers\u001b[0m\u001b[1;33m.\u001b[0m\u001b[0mmap_statistic\u001b[0m\u001b[1;33m(\u001b[0m\u001b[0mself\u001b[0m\u001b[1;33m)\u001b[0m\u001b[1;33m\u001b[0m\u001b[1;33m\u001b[0m\u001b[0m\n\u001b[0;32m    302\u001b[0m \u001b[1;33m\u001b[0m\u001b[0m\n",
      "\u001b[1;32m~\\anaconda3\\lib\\site-packages\\plotnine\\layer.py\u001b[0m in \u001b[0;36mcompute_statistic\u001b[1;34m(self, layout)\u001b[0m\n\u001b[0;32m     71\u001b[0m     \u001b[1;32mdef\u001b[0m \u001b[0mcompute_statistic\u001b[0m\u001b[1;33m(\u001b[0m\u001b[0mself\u001b[0m\u001b[1;33m,\u001b[0m \u001b[0mlayout\u001b[0m\u001b[1;33m)\u001b[0m\u001b[1;33m:\u001b[0m\u001b[1;33m\u001b[0m\u001b[1;33m\u001b[0m\u001b[0m\n\u001b[0;32m     72\u001b[0m         \u001b[1;32mfor\u001b[0m \u001b[0ml\u001b[0m \u001b[1;32min\u001b[0m \u001b[0mself\u001b[0m\u001b[1;33m:\u001b[0m\u001b[1;33m\u001b[0m\u001b[1;33m\u001b[0m\u001b[0m\n\u001b[1;32m---> 73\u001b[1;33m             \u001b[0ml\u001b[0m\u001b[1;33m.\u001b[0m\u001b[0mcompute_statistic\u001b[0m\u001b[1;33m(\u001b[0m\u001b[0mlayout\u001b[0m\u001b[1;33m)\u001b[0m\u001b[1;33m\u001b[0m\u001b[1;33m\u001b[0m\u001b[0m\n\u001b[0m\u001b[0;32m     74\u001b[0m \u001b[1;33m\u001b[0m\u001b[0m\n\u001b[0;32m     75\u001b[0m     \u001b[1;32mdef\u001b[0m \u001b[0mmap_statistic\u001b[0m\u001b[1;33m(\u001b[0m\u001b[0mself\u001b[0m\u001b[1;33m,\u001b[0m \u001b[0mplot\u001b[0m\u001b[1;33m)\u001b[0m\u001b[1;33m:\u001b[0m\u001b[1;33m\u001b[0m\u001b[1;33m\u001b[0m\u001b[0m\n",
      "\u001b[1;32m~\\anaconda3\\lib\\site-packages\\plotnine\\layer.py\u001b[0m in \u001b[0;36mcompute_statistic\u001b[1;34m(self, layout)\u001b[0m\n\u001b[0;32m    322\u001b[0m         \u001b[0mdata\u001b[0m \u001b[1;33m=\u001b[0m \u001b[0mself\u001b[0m\u001b[1;33m.\u001b[0m\u001b[0mstat\u001b[0m\u001b[1;33m.\u001b[0m\u001b[0muse_defaults\u001b[0m\u001b[1;33m(\u001b[0m\u001b[0mdata\u001b[0m\u001b[1;33m)\u001b[0m\u001b[1;33m\u001b[0m\u001b[1;33m\u001b[0m\u001b[0m\n\u001b[0;32m    323\u001b[0m         \u001b[0mdata\u001b[0m \u001b[1;33m=\u001b[0m \u001b[0mself\u001b[0m\u001b[1;33m.\u001b[0m\u001b[0mstat\u001b[0m\u001b[1;33m.\u001b[0m\u001b[0msetup_data\u001b[0m\u001b[1;33m(\u001b[0m\u001b[0mdata\u001b[0m\u001b[1;33m)\u001b[0m\u001b[1;33m\u001b[0m\u001b[1;33m\u001b[0m\u001b[0m\n\u001b[1;32m--> 324\u001b[1;33m         \u001b[0mdata\u001b[0m \u001b[1;33m=\u001b[0m \u001b[0mself\u001b[0m\u001b[1;33m.\u001b[0m\u001b[0mstat\u001b[0m\u001b[1;33m.\u001b[0m\u001b[0mcompute_layer\u001b[0m\u001b[1;33m(\u001b[0m\u001b[0mdata\u001b[0m\u001b[1;33m,\u001b[0m \u001b[0mparams\u001b[0m\u001b[1;33m,\u001b[0m \u001b[0mlayout\u001b[0m\u001b[1;33m)\u001b[0m\u001b[1;33m\u001b[0m\u001b[1;33m\u001b[0m\u001b[0m\n\u001b[0m\u001b[0;32m    325\u001b[0m         \u001b[0mself\u001b[0m\u001b[1;33m.\u001b[0m\u001b[0mdata\u001b[0m \u001b[1;33m=\u001b[0m \u001b[0mdata\u001b[0m\u001b[1;33m\u001b[0m\u001b[1;33m\u001b[0m\u001b[0m\n\u001b[0;32m    326\u001b[0m \u001b[1;33m\u001b[0m\u001b[0m\n",
      "\u001b[1;32m~\\anaconda3\\lib\\site-packages\\plotnine\\stats\\stat.py\u001b[0m in \u001b[0;36mcompute_layer\u001b[1;34m(cls, data, params, layout)\u001b[0m\n\u001b[0;32m    274\u001b[0m             \u001b[1;32mreturn\u001b[0m \u001b[0mcls\u001b[0m\u001b[1;33m.\u001b[0m\u001b[0mcompute_panel\u001b[0m\u001b[1;33m(\u001b[0m\u001b[0mpdata\u001b[0m\u001b[1;33m,\u001b[0m \u001b[0mpscales\u001b[0m\u001b[1;33m,\u001b[0m \u001b[1;33m**\u001b[0m\u001b[0mparams\u001b[0m\u001b[1;33m)\u001b[0m\u001b[1;33m\u001b[0m\u001b[1;33m\u001b[0m\u001b[0m\n\u001b[0;32m    275\u001b[0m \u001b[1;33m\u001b[0m\u001b[0m\n\u001b[1;32m--> 276\u001b[1;33m         \u001b[1;32mreturn\u001b[0m \u001b[0mgroupby_apply\u001b[0m\u001b[1;33m(\u001b[0m\u001b[0mdata\u001b[0m\u001b[1;33m,\u001b[0m \u001b[1;34m'PANEL'\u001b[0m\u001b[1;33m,\u001b[0m \u001b[0mfn\u001b[0m\u001b[1;33m)\u001b[0m\u001b[1;33m\u001b[0m\u001b[1;33m\u001b[0m\u001b[0m\n\u001b[0m\u001b[0;32m    277\u001b[0m \u001b[1;33m\u001b[0m\u001b[0m\n\u001b[0;32m    278\u001b[0m     \u001b[1;33m@\u001b[0m\u001b[0mclassmethod\u001b[0m\u001b[1;33m\u001b[0m\u001b[1;33m\u001b[0m\u001b[0m\n",
      "\u001b[1;32m~\\anaconda3\\lib\\site-packages\\plotnine\\utils.py\u001b[0m in \u001b[0;36mgroupby_apply\u001b[1;34m(df, cols, func, *args, **kwargs)\u001b[0m\n\u001b[0;32m    632\u001b[0m         \u001b[1;31m# function fn should be free to modify dataframe d, therefore\u001b[0m\u001b[1;33m\u001b[0m\u001b[1;33m\u001b[0m\u001b[1;33m\u001b[0m\u001b[0m\n\u001b[0;32m    633\u001b[0m         \u001b[1;31m# do not mark d as a slice of df i.e no SettingWithCopyWarning\u001b[0m\u001b[1;33m\u001b[0m\u001b[1;33m\u001b[0m\u001b[1;33m\u001b[0m\u001b[0m\n\u001b[1;32m--> 634\u001b[1;33m         \u001b[0mlst\u001b[0m\u001b[1;33m.\u001b[0m\u001b[0mappend\u001b[0m\u001b[1;33m(\u001b[0m\u001b[0mfunc\u001b[0m\u001b[1;33m(\u001b[0m\u001b[0md\u001b[0m\u001b[1;33m,\u001b[0m \u001b[1;33m*\u001b[0m\u001b[0margs\u001b[0m\u001b[1;33m,\u001b[0m \u001b[1;33m**\u001b[0m\u001b[0mkwargs\u001b[0m\u001b[1;33m)\u001b[0m\u001b[1;33m)\u001b[0m\u001b[1;33m\u001b[0m\u001b[1;33m\u001b[0m\u001b[0m\n\u001b[0m\u001b[0;32m    635\u001b[0m     \u001b[1;32mreturn\u001b[0m \u001b[0mpd\u001b[0m\u001b[1;33m.\u001b[0m\u001b[0mconcat\u001b[0m\u001b[1;33m(\u001b[0m\u001b[0mlst\u001b[0m\u001b[1;33m,\u001b[0m \u001b[0maxis\u001b[0m\u001b[1;33m=\u001b[0m\u001b[0maxis\u001b[0m\u001b[1;33m,\u001b[0m \u001b[0mignore_index\u001b[0m\u001b[1;33m=\u001b[0m\u001b[1;32mTrue\u001b[0m\u001b[1;33m)\u001b[0m\u001b[1;33m\u001b[0m\u001b[1;33m\u001b[0m\u001b[0m\n\u001b[0;32m    636\u001b[0m \u001b[1;33m\u001b[0m\u001b[0m\n",
      "\u001b[1;32m~\\anaconda3\\lib\\site-packages\\plotnine\\stats\\stat.py\u001b[0m in \u001b[0;36mfn\u001b[1;34m(pdata)\u001b[0m\n\u001b[0;32m    272\u001b[0m                 \u001b[1;32mreturn\u001b[0m \u001b[0mpdata\u001b[0m\u001b[1;33m\u001b[0m\u001b[1;33m\u001b[0m\u001b[0m\n\u001b[0;32m    273\u001b[0m             \u001b[0mpscales\u001b[0m \u001b[1;33m=\u001b[0m \u001b[0mlayout\u001b[0m\u001b[1;33m.\u001b[0m\u001b[0mget_scales\u001b[0m\u001b[1;33m(\u001b[0m\u001b[0mpdata\u001b[0m\u001b[1;33m[\u001b[0m\u001b[1;34m'PANEL'\u001b[0m\u001b[1;33m]\u001b[0m\u001b[1;33m.\u001b[0m\u001b[0miat\u001b[0m\u001b[1;33m[\u001b[0m\u001b[1;36m0\u001b[0m\u001b[1;33m]\u001b[0m\u001b[1;33m)\u001b[0m\u001b[1;33m\u001b[0m\u001b[1;33m\u001b[0m\u001b[0m\n\u001b[1;32m--> 274\u001b[1;33m             \u001b[1;32mreturn\u001b[0m \u001b[0mcls\u001b[0m\u001b[1;33m.\u001b[0m\u001b[0mcompute_panel\u001b[0m\u001b[1;33m(\u001b[0m\u001b[0mpdata\u001b[0m\u001b[1;33m,\u001b[0m \u001b[0mpscales\u001b[0m\u001b[1;33m,\u001b[0m \u001b[1;33m**\u001b[0m\u001b[0mparams\u001b[0m\u001b[1;33m)\u001b[0m\u001b[1;33m\u001b[0m\u001b[1;33m\u001b[0m\u001b[0m\n\u001b[0m\u001b[0;32m    275\u001b[0m \u001b[1;33m\u001b[0m\u001b[0m\n\u001b[0;32m    276\u001b[0m         \u001b[1;32mreturn\u001b[0m \u001b[0mgroupby_apply\u001b[0m\u001b[1;33m(\u001b[0m\u001b[0mdata\u001b[0m\u001b[1;33m,\u001b[0m \u001b[1;34m'PANEL'\u001b[0m\u001b[1;33m,\u001b[0m \u001b[0mfn\u001b[0m\u001b[1;33m)\u001b[0m\u001b[1;33m\u001b[0m\u001b[1;33m\u001b[0m\u001b[0m\n",
      "\u001b[1;32m~\\anaconda3\\lib\\site-packages\\plotnine\\stats\\stat.py\u001b[0m in \u001b[0;36mcompute_panel\u001b[1;34m(cls, data, scales, **params)\u001b[0m\n\u001b[0;32m    305\u001b[0m         \u001b[0mstats\u001b[0m \u001b[1;33m=\u001b[0m \u001b[1;33m[\u001b[0m\u001b[1;33m]\u001b[0m\u001b[1;33m\u001b[0m\u001b[1;33m\u001b[0m\u001b[0m\n\u001b[0;32m    306\u001b[0m         \u001b[1;32mfor\u001b[0m \u001b[0m_\u001b[0m\u001b[1;33m,\u001b[0m \u001b[0mold\u001b[0m \u001b[1;32min\u001b[0m \u001b[0mdata\u001b[0m\u001b[1;33m.\u001b[0m\u001b[0mgroupby\u001b[0m\u001b[1;33m(\u001b[0m\u001b[1;34m'group'\u001b[0m\u001b[1;33m)\u001b[0m\u001b[1;33m:\u001b[0m\u001b[1;33m\u001b[0m\u001b[1;33m\u001b[0m\u001b[0m\n\u001b[1;32m--> 307\u001b[1;33m             \u001b[0mnew\u001b[0m \u001b[1;33m=\u001b[0m \u001b[0mcls\u001b[0m\u001b[1;33m.\u001b[0m\u001b[0mcompute_group\u001b[0m\u001b[1;33m(\u001b[0m\u001b[0mold\u001b[0m\u001b[1;33m,\u001b[0m \u001b[0mscales\u001b[0m\u001b[1;33m,\u001b[0m \u001b[1;33m**\u001b[0m\u001b[0mparams\u001b[0m\u001b[1;33m)\u001b[0m\u001b[1;33m\u001b[0m\u001b[1;33m\u001b[0m\u001b[0m\n\u001b[0m\u001b[0;32m    308\u001b[0m             \u001b[0munique\u001b[0m \u001b[1;33m=\u001b[0m \u001b[0muniquecols\u001b[0m\u001b[1;33m(\u001b[0m\u001b[0mold\u001b[0m\u001b[1;33m)\u001b[0m\u001b[1;33m\u001b[0m\u001b[1;33m\u001b[0m\u001b[0m\n\u001b[0;32m    309\u001b[0m             \u001b[0mmissing\u001b[0m \u001b[1;33m=\u001b[0m \u001b[0munique\u001b[0m\u001b[1;33m.\u001b[0m\u001b[0mcolumns\u001b[0m\u001b[1;33m.\u001b[0m\u001b[0mdifference\u001b[0m\u001b[1;33m(\u001b[0m\u001b[0mnew\u001b[0m\u001b[1;33m.\u001b[0m\u001b[0mcolumns\u001b[0m\u001b[1;33m)\u001b[0m\u001b[1;33m\u001b[0m\u001b[1;33m\u001b[0m\u001b[0m\n",
      "\u001b[1;32m~\\anaconda3\\lib\\site-packages\\plotnine\\stats\\stat_bin_2d.py\u001b[0m in \u001b[0;36mcompute_group\u001b[1;34m(cls, data, scales, **params)\u001b[0m\n\u001b[0;32m     87\u001b[0m \u001b[1;33m\u001b[0m\u001b[0m\n\u001b[0;32m     88\u001b[0m         \u001b[1;31m# create the cutting parameters\u001b[0m\u001b[1;33m\u001b[0m\u001b[1;33m\u001b[0m\u001b[1;33m\u001b[0m\u001b[0m\n\u001b[1;32m---> 89\u001b[1;33m         xbreaks = fuzzybreaks(scales.x, breaks=breaks.x,\n\u001b[0m\u001b[0;32m     90\u001b[0m                               binwidth=binwidth.x, bins=bins.x)\n\u001b[0;32m     91\u001b[0m         ybreaks = fuzzybreaks(scales.y, breaks.y,\n",
      "\u001b[1;32m~\\anaconda3\\lib\\site-packages\\plotnine\\stats\\binning.py\u001b[0m in \u001b[0;36mfuzzybreaks\u001b[1;34m(scale, breaks, boundary, binwidth, bins, right)\u001b[0m\n\u001b[0;32m    269\u001b[0m     \u001b[1;31m# can then be adjusted with finer(epsilon based rather than\u001b[0m\u001b[1;33m\u001b[0m\u001b[1;33m\u001b[0m\u001b[1;33m\u001b[0m\u001b[0m\n\u001b[0;32m    270\u001b[0m     \u001b[1;31m# some arbitrary small number) precision.\u001b[0m\u001b[1;33m\u001b[0m\u001b[1;33m\u001b[0m\u001b[1;33m\u001b[0m\u001b[0m\n\u001b[1;32m--> 271\u001b[1;33m     \u001b[0mbreaks\u001b[0m \u001b[1;33m=\u001b[0m \u001b[0mnp\u001b[0m\u001b[1;33m.\u001b[0m\u001b[0marange\u001b[0m\u001b[1;33m(\u001b[0m\u001b[0mboundary\u001b[0m\u001b[1;33m,\u001b[0m \u001b[0msrange\u001b[0m\u001b[1;33m[\u001b[0m\u001b[1;36m1\u001b[0m\u001b[1;33m]\u001b[0m\u001b[1;33m+\u001b[0m\u001b[0mbinwidth\u001b[0m\u001b[1;33m,\u001b[0m \u001b[0mbinwidth\u001b[0m\u001b[1;33m)\u001b[0m\u001b[1;33m\u001b[0m\u001b[1;33m\u001b[0m\u001b[0m\n\u001b[0m\u001b[0;32m    272\u001b[0m     \u001b[1;32mreturn\u001b[0m \u001b[0m_adjust_breaks\u001b[0m\u001b[1;33m(\u001b[0m\u001b[0mbreaks\u001b[0m\u001b[1;33m,\u001b[0m \u001b[0mright\u001b[0m\u001b[1;33m)\u001b[0m\u001b[1;33m\u001b[0m\u001b[1;33m\u001b[0m\u001b[0m\n\u001b[0;32m    273\u001b[0m \u001b[1;33m\u001b[0m\u001b[0m\n",
      "\u001b[1;31mValueError\u001b[0m: arange: cannot compute length"
     ]
    }
   ],
   "source": [
    "df=data_i_RFM.copy()\n",
    "Y_Graph= Dic_col['RFM Row'][0]\n",
    "# (Clientes_i.columns)[13]\n",
    "X_Graph=  Dic_col['RFM Row'][1]\n",
    "# 'Precio'\n",
    "# 'Ingreso de Venta Promedio'\n",
    "# Dic_col['RFM Customers'][2]\n",
    "# Dic_col['Ticket Customers'][1]\n",
    "\n",
    "df=df[df[Dic_col['RFM Row'][1]]<1]\n",
    "\n",
    "# Color_Graph=Dic_col['Ticket Customers'][0]\n",
    "\n",
    "#int\n",
    "# df[X_Graph]=df[X_Graph].astype('int64')\n",
    "\n",
    "# df[X_Graph]=df[X_Graph].apply(lambda x:  np.log(x))\n",
    "# df[Y_Graph]=df[Y_Graph].apply(lambda x:  np.log(x))\n",
    "# df[Color_Graph]=df[Color_Graph].apply(lambda x:  np.log(x))\n",
    "\n",
    "\n",
    "# df_mean[X_Graph]=df_mean[X_Graph].astype('int64')\n",
    "\n",
    "G_calor_densidad_Dips=(ggplot(df#[df[Y_Graph]>0]\n",
    "            , aes(x=X_Graph#'Día numero'#'Fecha',\n",
    "            ,y=Y_Graph\n",
    "#             ,color=Color_Graph\n",
    "                 ))\n",
    "+geom_bin2d(alpha=0.5)\n",
    " \n",
    "# +scale_y_continuous(limits=(0,2550)\n",
    "#                     ,breaks=[i for i in range(0,2700,100)]\n",
    "#                    )\n",
    "# +scale_x_continuous(labels=lambda l: [\"%d%%\" % (v * 100) for v in l]\n",
    "#                     ,limits=(0,3)\n",
    "#                     ,breaks=[i/100 for i in range(0,300,25)]\n",
    "#                    )\n",
    "+theme(axis_text_x = element_text(angle=90, hjust=1),figure_size=(13,8)) \n",
    "+ggtitle('Dispersión de los Clientes  del Canal '+ Tipo_de_Cliente+ '\\n sobre el producto '+ Y_producto)\n",
    ")   \n",
    "G_calor_densidad_Dips"
   ]
  }
 ],
 "metadata": {
  "celltoolbar": "Raw Cell Format",
  "kernelspec": {
   "display_name": "Python 3",
   "language": "python",
   "name": "python3"
  },
  "language_info": {
   "codemirror_mode": {
    "name": "ipython",
    "version": 3
   },
   "file_extension": ".py",
   "mimetype": "text/x-python",
   "name": "python",
   "nbconvert_exporter": "python",
   "pygments_lexer": "ipython3",
   "version": "3.8.5"
  },
  "toc": {
   "base_numbering": 1,
   "nav_menu": {
    "height": "89px",
    "width": "334px"
   },
   "number_sections": true,
   "sideBar": true,
   "skip_h1_title": false,
   "title_cell": "Table of Contents",
   "title_sidebar": "Contents",
   "toc_cell": false,
   "toc_position": {
    "height": "calc(100% - 180px)",
    "left": "10px",
    "top": "150px",
    "width": "245.047px"
   },
   "toc_section_display": true,
   "toc_window_display": true
  }
 },
 "nbformat": 4,
 "nbformat_minor": 5
}
